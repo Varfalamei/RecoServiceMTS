{
  "cells": [
    {
      "cell_type": "markdown",
      "id": "a00c6db1",
      "metadata": {
        "id": "a00c6db1"
      },
      "source": [
        "# Метрики\n",
        "\n",
        "## Imports"
      ]
    },
    {
      "cell_type": "code",
      "source": [
        "!pip install rectools"
      ],
      "metadata": {
        "colab": {
          "base_uri": "https://localhost:8080/"
        },
        "id": "I2kKqJ4Ez7HE",
        "outputId": "e6174267-28e1-4045-db67-19241bd14846"
      },
      "id": "I2kKqJ4Ez7HE",
      "execution_count": 1,
      "outputs": [
        {
          "output_type": "stream",
          "name": "stdout",
          "text": [
            "Looking in indexes: https://pypi.org/simple, https://us-python.pkg.dev/colab-wheels/public/simple/\n",
            "Collecting rectools\n",
            "  Downloading RecTools-0.3.0-py3-none-any.whl (89 kB)\n",
            "\u001b[K     |████████████████████████████████| 89 kB 3.4 MB/s \n",
            "\u001b[?25hRequirement already satisfied: tqdm<5.0.0,>=4.27.0 in /usr/local/lib/python3.7/dist-packages (from rectools) (4.64.1)\n",
            "Collecting implicit==0.4.4\n",
            "  Downloading implicit-0.4.4.tar.gz (1.1 MB)\n",
            "\u001b[K     |████████████████████████████████| 1.1 MB 32.2 MB/s \n",
            "\u001b[?25hCollecting lightfm<2.0,>=1.16\n",
            "  Downloading lightfm-1.16.tar.gz (310 kB)\n",
            "\u001b[K     |████████████████████████████████| 310 kB 58.4 MB/s \n",
            "\u001b[?25hCollecting nmslib<3.0.0,>=2.0.4\n",
            "  Downloading nmslib-2.1.1-cp37-cp37m-manylinux2010_x86_64.whl (13.5 MB)\n",
            "\u001b[K     |████████████████████████████████| 13.5 MB 34.6 MB/s \n",
            "\u001b[?25hCollecting Markdown<3.3,>=3.2\n",
            "  Downloading Markdown-3.2.2-py3-none-any.whl (88 kB)\n",
            "\u001b[K     |████████████████████████████████| 88 kB 8.1 MB/s \n",
            "\u001b[?25hRequirement already satisfied: typeguard<3.0.0,>=2.0.1 in /usr/local/lib/python3.7/dist-packages (from rectools) (2.7.1)\n",
            "Requirement already satisfied: scipy<2.0.0,>=1.5.4 in /usr/local/lib/python3.7/dist-packages (from rectools) (1.7.3)\n",
            "Collecting attrs<22.0.0,>=19.1.0\n",
            "  Downloading attrs-21.4.0-py2.py3-none-any.whl (60 kB)\n",
            "\u001b[K     |████████████████████████████████| 60 kB 5.9 MB/s \n",
            "\u001b[?25hRequirement already satisfied: numpy<2.0.0,>=1.19.5 in /usr/local/lib/python3.7/dist-packages (from rectools) (1.21.6)\n",
            "Requirement already satisfied: pandas<2.0.0,>=0.25.3 in /usr/local/lib/python3.7/dist-packages (from rectools) (1.3.5)\n",
            "Requirement already satisfied: requests in /usr/local/lib/python3.7/dist-packages (from lightfm<2.0,>=1.16->rectools) (2.23.0)\n",
            "Requirement already satisfied: scikit-learn in /usr/local/lib/python3.7/dist-packages (from lightfm<2.0,>=1.16->rectools) (1.0.2)\n",
            "Requirement already satisfied: importlib-metadata in /usr/local/lib/python3.7/dist-packages (from Markdown<3.3,>=3.2->rectools) (4.13.0)\n",
            "Requirement already satisfied: psutil in /usr/local/lib/python3.7/dist-packages (from nmslib<3.0.0,>=2.0.4->rectools) (5.4.8)\n",
            "Collecting pybind11<2.6.2\n",
            "  Downloading pybind11-2.6.1-py2.py3-none-any.whl (188 kB)\n",
            "\u001b[K     |████████████████████████████████| 188 kB 63.3 MB/s \n",
            "\u001b[?25hRequirement already satisfied: python-dateutil>=2.7.3 in /usr/local/lib/python3.7/dist-packages (from pandas<2.0.0,>=0.25.3->rectools) (2.8.2)\n",
            "Requirement already satisfied: pytz>=2017.3 in /usr/local/lib/python3.7/dist-packages (from pandas<2.0.0,>=0.25.3->rectools) (2022.6)\n",
            "Requirement already satisfied: six>=1.5 in /usr/local/lib/python3.7/dist-packages (from python-dateutil>=2.7.3->pandas<2.0.0,>=0.25.3->rectools) (1.15.0)\n",
            "Requirement already satisfied: typing-extensions>=3.6.4 in /usr/local/lib/python3.7/dist-packages (from importlib-metadata->Markdown<3.3,>=3.2->rectools) (4.1.1)\n",
            "Requirement already satisfied: zipp>=0.5 in /usr/local/lib/python3.7/dist-packages (from importlib-metadata->Markdown<3.3,>=3.2->rectools) (3.10.0)\n",
            "Requirement already satisfied: idna<3,>=2.5 in /usr/local/lib/python3.7/dist-packages (from requests->lightfm<2.0,>=1.16->rectools) (2.10)\n",
            "Requirement already satisfied: urllib3!=1.25.0,!=1.25.1,<1.26,>=1.21.1 in /usr/local/lib/python3.7/dist-packages (from requests->lightfm<2.0,>=1.16->rectools) (1.24.3)\n",
            "Requirement already satisfied: chardet<4,>=3.0.2 in /usr/local/lib/python3.7/dist-packages (from requests->lightfm<2.0,>=1.16->rectools) (3.0.4)\n",
            "Requirement already satisfied: certifi>=2017.4.17 in /usr/local/lib/python3.7/dist-packages (from requests->lightfm<2.0,>=1.16->rectools) (2022.9.24)\n",
            "Requirement already satisfied: joblib>=0.11 in /usr/local/lib/python3.7/dist-packages (from scikit-learn->lightfm<2.0,>=1.16->rectools) (1.2.0)\n",
            "Requirement already satisfied: threadpoolctl>=2.0.0 in /usr/local/lib/python3.7/dist-packages (from scikit-learn->lightfm<2.0,>=1.16->rectools) (3.1.0)\n",
            "Building wheels for collected packages: implicit, lightfm\n",
            "  Building wheel for implicit (setup.py) ... \u001b[?25l\u001b[?25hdone\n",
            "  Created wheel for implicit: filename=implicit-0.4.4-cp37-cp37m-linux_x86_64.whl size=3411028 sha256=dfdc60dd33d67f6086a0c135131b515e8793c6184fb88cae20f0607c1690aa1e\n",
            "  Stored in directory: /root/.cache/pip/wheels/44/7e/7d/a17324ea207cfbe76aca878b5b8ca0aa932cf55d163329be37\n",
            "  Building wheel for lightfm (setup.py) ... \u001b[?25l\u001b[?25hdone\n",
            "  Created wheel for lightfm: filename=lightfm-1.16-cp37-cp37m-linux_x86_64.whl size=705362 sha256=c6b0f37cd239cfde6052b22fc072e7d2c5778e440aa14e55e2c34f636f9a1279\n",
            "  Stored in directory: /root/.cache/pip/wheels/f8/56/28/5772a3bd3413d65f03aa452190b00898b680b10028a1021914\n",
            "Successfully built implicit lightfm\n",
            "Installing collected packages: pybind11, nmslib, Markdown, lightfm, implicit, attrs, rectools\n",
            "  Attempting uninstall: Markdown\n",
            "    Found existing installation: Markdown 3.4.1\n",
            "    Uninstalling Markdown-3.4.1:\n",
            "      Successfully uninstalled Markdown-3.4.1\n",
            "  Attempting uninstall: attrs\n",
            "    Found existing installation: attrs 22.1.0\n",
            "    Uninstalling attrs-22.1.0:\n",
            "      Successfully uninstalled attrs-22.1.0\n",
            "Successfully installed Markdown-3.2.2 attrs-21.4.0 implicit-0.4.4 lightfm-1.16 nmslib-2.1.1 pybind11-2.6.1 rectools-0.3.0\n"
          ]
        }
      ]
    },
    {
      "cell_type": "code",
      "source": [
        "url = 'https://github.com/irsafilo/KION_DATASET/raw/f69775be31fa5779907cf0a92ddedb70037fb5ae/data_original.zip'"
      ],
      "metadata": {
        "id": "_yYmrumVz7Kx"
      },
      "id": "_yYmrumVz7Kx",
      "execution_count": 2,
      "outputs": []
    },
    {
      "cell_type": "code",
      "source": [
        "req = requests.get(url, stream=True)\n",
        "\n",
        "with open('kion.zip', 'wb') as fd:\n",
        "    total_size_in_bytes = int(req.headers.get('Content-Length', 0))\n",
        "    progress_bar = tqdm(desc='kion dataset download', total=total_size_in_bytes, unit='iB', unit_scale=True)\n",
        "    for chunk in req.iter_content(chunk_size=2 ** 20):\n",
        "        progress_bar.update(len(chunk))\n",
        "        fd.write(chunk)"
      ],
      "metadata": {
        "colab": {
          "base_uri": "https://localhost:8080/",
          "height": 240
        },
        "id": "ZF_CicYU0DaA",
        "outputId": "aeab271b-ee35-4944-ac69-270017c2ad2e"
      },
      "id": "ZF_CicYU0DaA",
      "execution_count": 3,
      "outputs": [
        {
          "output_type": "error",
          "ename": "NameError",
          "evalue": "ignored",
          "traceback": [
            "\u001b[0;31m---------------------------------------------------------------------------\u001b[0m",
            "\u001b[0;31mNameError\u001b[0m                                 Traceback (most recent call last)",
            "\u001b[0;32m<ipython-input-3-590fc69b6074>\u001b[0m in \u001b[0;36m<module>\u001b[0;34m\u001b[0m\n\u001b[0;32m----> 1\u001b[0;31m \u001b[0mreq\u001b[0m \u001b[0;34m=\u001b[0m \u001b[0mrequests\u001b[0m\u001b[0;34m.\u001b[0m\u001b[0mget\u001b[0m\u001b[0;34m(\u001b[0m\u001b[0murl\u001b[0m\u001b[0;34m,\u001b[0m \u001b[0mstream\u001b[0m\u001b[0;34m=\u001b[0m\u001b[0;32mTrue\u001b[0m\u001b[0;34m)\u001b[0m\u001b[0;34m\u001b[0m\u001b[0;34m\u001b[0m\u001b[0m\n\u001b[0m\u001b[1;32m      2\u001b[0m \u001b[0;34m\u001b[0m\u001b[0m\n\u001b[1;32m      3\u001b[0m \u001b[0;32mwith\u001b[0m \u001b[0mopen\u001b[0m\u001b[0;34m(\u001b[0m\u001b[0;34m'kion.zip'\u001b[0m\u001b[0;34m,\u001b[0m \u001b[0;34m'wb'\u001b[0m\u001b[0;34m)\u001b[0m \u001b[0;32mas\u001b[0m \u001b[0mfd\u001b[0m\u001b[0;34m:\u001b[0m\u001b[0;34m\u001b[0m\u001b[0;34m\u001b[0m\u001b[0m\n\u001b[1;32m      4\u001b[0m     \u001b[0mtotal_size_in_bytes\u001b[0m \u001b[0;34m=\u001b[0m \u001b[0mint\u001b[0m\u001b[0;34m(\u001b[0m\u001b[0mreq\u001b[0m\u001b[0;34m.\u001b[0m\u001b[0mheaders\u001b[0m\u001b[0;34m.\u001b[0m\u001b[0mget\u001b[0m\u001b[0;34m(\u001b[0m\u001b[0;34m'Content-Length'\u001b[0m\u001b[0;34m,\u001b[0m \u001b[0;36m0\u001b[0m\u001b[0;34m)\u001b[0m\u001b[0;34m)\u001b[0m\u001b[0;34m\u001b[0m\u001b[0;34m\u001b[0m\u001b[0m\n\u001b[1;32m      5\u001b[0m     \u001b[0mprogress_bar\u001b[0m \u001b[0;34m=\u001b[0m \u001b[0mtqdm\u001b[0m\u001b[0;34m(\u001b[0m\u001b[0mdesc\u001b[0m\u001b[0;34m=\u001b[0m\u001b[0;34m'kion dataset download'\u001b[0m\u001b[0;34m,\u001b[0m \u001b[0mtotal\u001b[0m\u001b[0;34m=\u001b[0m\u001b[0mtotal_size_in_bytes\u001b[0m\u001b[0;34m,\u001b[0m \u001b[0munit\u001b[0m\u001b[0;34m=\u001b[0m\u001b[0;34m'iB'\u001b[0m\u001b[0;34m,\u001b[0m \u001b[0munit_scale\u001b[0m\u001b[0;34m=\u001b[0m\u001b[0;32mTrue\u001b[0m\u001b[0;34m)\u001b[0m\u001b[0;34m\u001b[0m\u001b[0;34m\u001b[0m\u001b[0m\n",
            "\u001b[0;31mNameError\u001b[0m: name 'requests' is not defined"
          ]
        }
      ]
    },
    {
      "cell_type": "code",
      "source": [
        "import zipfile as zf\n",
        "\n",
        "files = zf.ZipFile('kion.zip','r')\n",
        "files.extractall()\n",
        "files.close()"
      ],
      "metadata": {
        "id": "EPKsorOe0Dcl"
      },
      "id": "EPKsorOe0Dcl",
      "execution_count": null,
      "outputs": []
    },
    {
      "cell_type": "code",
      "execution_count": null,
      "id": "14dec809",
      "metadata": {
        "ExecuteTime": {
          "end_time": "2022-11-16T13:16:59.822474Z",
          "start_time": "2022-11-16T13:16:58.134477Z"
        },
        "id": "14dec809"
      },
      "outputs": [],
      "source": [
        "import pandas as pd\n",
        "import numpy as np\n",
        "import numba as nb\n",
        "\n",
        "from tqdm.auto import tqdm\n",
        "from rectools import Columns"
      ]
    },
    {
      "cell_type": "code",
      "execution_count": null,
      "id": "e3551b5e",
      "metadata": {
        "ExecuteTime": {
          "end_time": "2022-11-16T13:16:59.838475Z",
          "start_time": "2022-11-16T13:16:59.825476Z"
        },
        "id": "e3551b5e"
      },
      "outputs": [],
      "source": [
        "np.random.seed(23)"
      ]
    },
    {
      "cell_type": "markdown",
      "id": "d636a7d5",
      "metadata": {
        "id": "d636a7d5"
      },
      "source": [
        "## Read data"
      ]
    },
    {
      "cell_type": "code",
      "execution_count": null,
      "id": "8b021111",
      "metadata": {
        "ExecuteTime": {
          "end_time": "2022-11-16T13:17:02.540473Z",
          "start_time": "2022-11-16T13:16:59.841479Z"
        },
        "id": "8b021111"
      },
      "outputs": [],
      "source": [
        "interactions = pd.read_csv('data_original/interactions.csv')\n",
        "\n",
        "interactions.rename(\n",
        "    columns={\n",
        "        'track_id': Columns.Item,\n",
        "        'last_watch_dt': Columns.Datetime,\n",
        "        'total_dur': Columns.Weight\n",
        "    }, \n",
        "    inplace=True) \n",
        "\n",
        "interactions[Columns.Datetime] = pd.to_datetime(interactions[Columns.Datetime])"
      ]
    },
    {
      "cell_type": "code",
      "execution_count": null,
      "id": "1170099f",
      "metadata": {
        "ExecuteTime": {
          "end_time": "2022-11-16T13:17:03.522473Z",
          "start_time": "2022-11-16T13:17:02.544478Z"
        },
        "id": "1170099f"
      },
      "outputs": [],
      "source": [
        "users = pd.read_csv('data_original/users.csv')\n",
        "items = pd.read_csv('data_original/items.csv')"
      ]
    },
    {
      "cell_type": "code",
      "execution_count": null,
      "id": "ebc85847",
      "metadata": {
        "ExecuteTime": {
          "end_time": "2022-11-16T13:17:03.553474Z",
          "start_time": "2022-11-16T13:17:03.525477Z"
        },
        "id": "ebc85847"
      },
      "outputs": [],
      "source": [
        "def headtail(df):\n",
        "    return pd.concat([df.head(), df.tail()])\n",
        "\n",
        "headtail(interactions)"
      ]
    },
    {
      "cell_type": "code",
      "execution_count": null,
      "id": "5cc82806",
      "metadata": {
        "ExecuteTime": {
          "end_time": "2022-11-16T13:17:03.569476Z",
          "start_time": "2022-11-16T13:17:03.556474Z"
        },
        "id": "5cc82806"
      },
      "outputs": [],
      "source": [
        "interactions.info(memory_usage='deep')"
      ]
    },
    {
      "cell_type": "markdown",
      "id": "ff9a7f8e",
      "metadata": {
        "id": "ff9a7f8e"
      },
      "source": [
        "Выделим небольшой кусок из данных, чтобы не слишком страдать"
      ]
    },
    {
      "cell_type": "code",
      "execution_count": null,
      "id": "5b28d22e",
      "metadata": {
        "ExecuteTime": {
          "end_time": "2022-11-16T13:17:03.617474Z",
          "start_time": "2022-11-16T13:17:03.571473Z"
        },
        "id": "5b28d22e"
      },
      "outputs": [],
      "source": [
        "sample_users = [57607, 403227, 70720]\n",
        "df = interactions[interactions[Columns.User].isin(sample_users)].reset_index(drop=True)\n",
        "del df[Columns.Datetime], df[Columns.Weight], df['watched_pct']\n",
        "df"
      ]
    },
    {
      "cell_type": "code",
      "execution_count": null,
      "id": "c1923b07",
      "metadata": {
        "ExecuteTime": {
          "end_time": "2022-11-16T13:17:03.632473Z",
          "start_time": "2022-11-16T13:17:03.620473Z"
        },
        "id": "c1923b07"
      },
      "outputs": [],
      "source": [
        "print('Users', df[Columns.User].unique())\n",
        "sample_items = df[Columns.Item].unique()\n",
        "print('Items', sample_items)"
      ]
    },
    {
      "cell_type": "markdown",
      "id": "cac10ba7",
      "metadata": {
        "id": "cac10ba7"
      },
      "source": [
        "## Regression"
      ]
    },
    {
      "cell_type": "markdown",
      "id": "a221215f",
      "metadata": {
        "id": "a221215f"
      },
      "source": [
        "В регрессией все относительно просто. По (user, item) мы знаем таргет (рейтинг чаще всего) и по такой же паре предсказываем его"
      ]
    },
    {
      "cell_type": "code",
      "execution_count": null,
      "id": "6de45176",
      "metadata": {
        "ExecuteTime": {
          "end_time": "2022-11-16T13:17:03.648474Z",
          "start_time": "2022-11-16T13:17:03.635475Z"
        },
        "id": "6de45176"
      },
      "outputs": [],
      "source": [
        "df['target'] = np.random.choice([3, 4, 5], df.shape[0])\n",
        "df['predict'] = np.random.rand(df.shape[0]) * 3 + 2\n",
        "df"
      ]
    },
    {
      "cell_type": "markdown",
      "id": "5eab0e11",
      "metadata": {
        "id": "5eab0e11"
      },
      "source": [
        "Общая оценка"
      ]
    },
    {
      "cell_type": "code",
      "execution_count": null,
      "id": "51351ab5",
      "metadata": {
        "ExecuteTime": {
          "end_time": "2022-11-16T13:17:03.663474Z",
          "start_time": "2022-11-16T13:17:03.650474Z"
        },
        "id": "51351ab5"
      },
      "outputs": [],
      "source": [
        "mae = (df['target'] - df['predict']).abs().mean()\n",
        "print(mae)"
      ]
    },
    {
      "cell_type": "markdown",
      "id": "0f057a3b",
      "metadata": {
        "id": "0f057a3b"
      },
      "source": [
        "Оценка по пользователю с последюущим усреднением"
      ]
    },
    {
      "cell_type": "code",
      "execution_count": null,
      "id": "b6bce9b4",
      "metadata": {
        "ExecuteTime": {
          "end_time": "2022-11-16T13:17:03.679529Z",
          "start_time": "2022-11-16T13:17:03.670474Z"
        },
        "id": "b6bce9b4"
      },
      "outputs": [],
      "source": [
        "df['diff'] = (df['target'] - df['predict']).abs()\n",
        "average_mae = df.groupby(Columns.User)['diff'].mean()\n",
        "print(average_mae.mean())\n",
        "average_mae"
      ]
    },
    {
      "cell_type": "markdown",
      "id": "0aa59b8a",
      "metadata": {
        "id": "0aa59b8a"
      },
      "source": [
        "Видно, что в данном случае метрики близки к друг другу, но это не всегда так"
      ]
    },
    {
      "cell_type": "code",
      "execution_count": null,
      "id": "878224ff",
      "metadata": {
        "ExecuteTime": {
          "end_time": "2022-11-16T13:17:03.695472Z",
          "start_time": "2022-11-16T13:17:03.682474Z"
        },
        "id": "878224ff"
      },
      "outputs": [],
      "source": [
        "del df['target'], df['predict'], df['diff']"
      ]
    },
    {
      "cell_type": "markdown",
      "id": "89997f8e",
      "metadata": {
        "id": "89997f8e"
      },
      "source": [
        "## Classification"
      ]
    },
    {
      "cell_type": "markdown",
      "id": "70b402f4",
      "metadata": {
        "id": "70b402f4"
      },
      "source": [
        "Сгенерируем случайные рекомендации."
      ]
    },
    {
      "cell_type": "code",
      "execution_count": null,
      "id": "98c0b7d8",
      "metadata": {
        "ExecuteTime": {
          "end_time": "2022-11-16T13:17:03.711473Z",
          "start_time": "2022-11-16T13:17:03.697474Z"
        },
        "id": "98c0b7d8"
      },
      "outputs": [],
      "source": [
        "top_k = 5\n",
        "recs = np.array([\n",
        "    np.random.choice(sample_items, top_k, replace=False),\n",
        "    np.random.choice(sample_items, top_k, replace=False),\n",
        "    np.random.choice(sample_items, top_k, replace=False),\n",
        "])\n",
        "recs"
      ]
    },
    {
      "cell_type": "markdown",
      "id": "b7945394",
      "metadata": {
        "id": "b7945394"
      },
      "source": [
        "Преобразуем в длинный датафрейм"
      ]
    },
    {
      "cell_type": "code",
      "execution_count": null,
      "id": "2aaad704",
      "metadata": {
        "ExecuteTime": {
          "end_time": "2022-11-16T13:17:03.726473Z",
          "start_time": "2022-11-16T13:17:03.714475Z"
        },
        "id": "2aaad704"
      },
      "outputs": [],
      "source": [
        "df_recs = pd.DataFrame({\n",
        "    Columns.User: np.repeat(sample_users, top_k),\n",
        "    Columns.Item: recs.ravel()\n",
        "})\n",
        "df_recs"
      ]
    },
    {
      "cell_type": "code",
      "execution_count": null,
      "id": "82f64f64",
      "metadata": {
        "ExecuteTime": {
          "end_time": "2022-11-16T13:17:03.741474Z",
          "start_time": "2022-11-16T13:17:03.728475Z"
        },
        "id": "82f64f64"
      },
      "outputs": [],
      "source": [
        "df_recs[Columns.Rank] = df_recs.groupby(Columns.User).cumcount() + 1\n",
        "headtail(df_recs)"
      ]
    },
    {
      "cell_type": "markdown",
      "id": "919c480a",
      "metadata": {
        "id": "919c480a"
      },
      "source": [
        "Ключевой момент. Именно ради него преобразовывали данные и именно это позволяет считать метрики быстрее."
      ]
    },
    {
      "cell_type": "code",
      "execution_count": null,
      "id": "7014b438",
      "metadata": {
        "ExecuteTime": {
          "end_time": "2022-11-16T13:17:03.771473Z",
          "start_time": "2022-11-16T13:17:03.743474Z"
        },
        "id": "7014b438"
      },
      "outputs": [],
      "source": [
        "df_recs = df.merge(df_recs, how='left', left_on=Columns.UserItem, right_on=Columns.UserItem)\n",
        "df_recs = df_recs.sort_values(by=[Columns.User, Columns.Rank])\n",
        "df_recs"
      ]
    },
    {
      "cell_type": "markdown",
      "id": "cb5a6c12",
      "metadata": {
        "id": "cb5a6c12"
      },
      "source": [
        "### Precision@K"
      ]
    },
    {
      "cell_type": "code",
      "execution_count": null,
      "id": "d4f9efb1",
      "metadata": {
        "ExecuteTime": {
          "end_time": "2022-11-16T13:17:03.787474Z",
          "start_time": "2022-11-16T13:17:03.774473Z"
        },
        "id": "d4f9efb1"
      },
      "outputs": [],
      "source": [
        "df_recs[f'TP@5'] = df_recs['rank'] < 6\n",
        "df_recs"
      ]
    },
    {
      "cell_type": "code",
      "execution_count": null,
      "id": "dd7c9237",
      "metadata": {
        "ExecuteTime": {
          "end_time": "2022-11-16T13:17:03.803474Z",
          "start_time": "2022-11-16T13:17:03.790477Z"
        },
        "id": "dd7c9237"
      },
      "outputs": [],
      "source": [
        "df_recs[df_recs[Columns.Rank].notnull()]"
      ]
    },
    {
      "cell_type": "markdown",
      "id": "7569f5e0",
      "metadata": {
        "ExecuteTime": {
          "end_time": "2022-11-15T15:26:25.757836Z",
          "start_time": "2022-11-15T15:26:25.738834Z"
        },
        "id": "7569f5e0"
      },
      "source": [
        "Посчитаем вручную (1/5 + 1/5 + 3/5) / 3"
      ]
    },
    {
      "cell_type": "code",
      "execution_count": null,
      "id": "d3c0c214",
      "metadata": {
        "ExecuteTime": {
          "end_time": "2022-11-16T13:17:03.819474Z",
          "start_time": "2022-11-16T13:17:03.806474Z"
        },
        "id": "d3c0c214"
      },
      "outputs": [],
      "source": [
        "df_recs['TP@5/5'] = df_recs['TP@5'] / top_k \n",
        "\n",
        "p5 = df_recs.groupby(Columns.User)['TP@5/5'].sum().mean()\n",
        "\n",
        "print(f'Precision@5 = {p5}')"
      ]
    },
    {
      "cell_type": "code",
      "execution_count": null,
      "id": "0ff4fd10",
      "metadata": {
        "ExecuteTime": {
          "end_time": "2022-11-16T13:17:03.850473Z",
          "start_time": "2022-11-16T13:17:03.822474Z"
        },
        "id": "0ff4fd10"
      },
      "outputs": [],
      "source": [
        "df_recs"
      ]
    },
    {
      "cell_type": "markdown",
      "id": "30ffeeb7",
      "metadata": {
        "id": "30ffeeb7"
      },
      "source": [
        "Используем тот факт, что мы знаем количество пользователей, а значит groupby не нужен"
      ]
    },
    {
      "cell_type": "code",
      "execution_count": null,
      "id": "9555156b",
      "metadata": {
        "ExecuteTime": {
          "end_time": "2022-11-16T13:17:03.865473Z",
          "start_time": "2022-11-16T13:17:03.853476Z"
        },
        "id": "9555156b"
      },
      "outputs": [],
      "source": [
        "p5 = df_recs['TP@5/5'].sum() / len(sample_users)\n",
        "print(f'Precision@5 = {p5}')"
      ]
    },
    {
      "cell_type": "markdown",
      "id": "94b0a780",
      "metadata": {
        "id": "94b0a780"
      },
      "source": [
        "### Recall@K"
      ]
    },
    {
      "cell_type": "code",
      "execution_count": null,
      "id": "535e44f2",
      "metadata": {
        "ExecuteTime": {
          "end_time": "2022-11-16T13:17:03.895474Z",
          "start_time": "2022-11-16T13:17:03.868474Z"
        },
        "id": "535e44f2"
      },
      "outputs": [],
      "source": [
        "df_recs['actual'] = df_recs.groupby(Columns.User)[Columns.Item].transform('count')\n",
        "df_recs"
      ]
    },
    {
      "cell_type": "code",
      "execution_count": null,
      "id": "370013e4",
      "metadata": {
        "ExecuteTime": {
          "end_time": "2022-11-16T13:17:03.925476Z",
          "start_time": "2022-11-16T13:17:03.898476Z"
        },
        "id": "370013e4"
      },
      "outputs": [],
      "source": [
        "df_recs['TP@5/actual'] = df_recs['TP@5'] / df_recs['actual']\n",
        "df_recs"
      ]
    },
    {
      "cell_type": "code",
      "execution_count": null,
      "id": "aebd0ba9",
      "metadata": {
        "ExecuteTime": {
          "end_time": "2022-11-16T13:17:03.940473Z",
          "start_time": "2022-11-16T13:17:03.928474Z"
        },
        "id": "aebd0ba9"
      },
      "outputs": [],
      "source": [
        "(1/3 + 1/3 + 3/4) / 3"
      ]
    },
    {
      "cell_type": "code",
      "execution_count": null,
      "id": "84406981",
      "metadata": {
        "ExecuteTime": {
          "end_time": "2022-11-16T13:17:03.956473Z",
          "start_time": "2022-11-16T13:17:03.943474Z"
        },
        "id": "84406981"
      },
      "outputs": [],
      "source": [
        "r5 = df_recs.groupby(Columns.User)['TP@5/actual'].sum().mean()\n",
        "print(f'Recall@5 = {r5}')"
      ]
    },
    {
      "cell_type": "code",
      "execution_count": null,
      "id": "e5e58fa3",
      "metadata": {
        "ExecuteTime": {
          "end_time": "2022-11-16T13:17:03.972477Z",
          "start_time": "2022-11-16T13:17:03.959476Z"
        },
        "id": "e5e58fa3"
      },
      "outputs": [],
      "source": [
        "r5 = df_recs['TP@5/actual'].sum() / len(sample_users)\n",
        "print(f'Recall@5 = {r5}')"
      ]
    },
    {
      "cell_type": "markdown",
      "id": "a22237fc",
      "metadata": {
        "id": "a22237fc"
      },
      "source": [
        "## Ranking\n",
        "\n",
        "### MAP@K"
      ]
    },
    {
      "cell_type": "code",
      "execution_count": null,
      "id": "7c3bec49",
      "metadata": {
        "ExecuteTime": {
          "end_time": "2022-11-16T13:17:03.988474Z",
          "start_time": "2022-11-16T13:17:03.975477Z"
        },
        "id": "7c3bec49"
      },
      "outputs": [],
      "source": [
        "df_recs"
      ]
    },
    {
      "cell_type": "code",
      "execution_count": null,
      "id": "dc0a5f4c",
      "metadata": {
        "ExecuteTime": {
          "end_time": "2022-11-16T13:17:04.019475Z",
          "start_time": "2022-11-16T13:17:03.991473Z"
        },
        "id": "dc0a5f4c"
      },
      "outputs": [],
      "source": [
        "df_recs['cumTP@5'] = df_recs.groupby(Columns.User)['TP@5'].cumsum()\n",
        "df_recs"
      ]
    },
    {
      "cell_type": "code",
      "execution_count": null,
      "id": "38b572f2",
      "metadata": {
        "ExecuteTime": {
          "end_time": "2022-11-16T13:17:04.049477Z",
          "start_time": "2022-11-16T13:17:04.022475Z"
        },
        "id": "38b572f2"
      },
      "outputs": [],
      "source": [
        "df_recs['Prec@5'] = df_recs['cumTP@5'] / df_recs[Columns.Rank]\n",
        "df_recs"
      ]
    },
    {
      "cell_type": "code",
      "execution_count": null,
      "id": "6948122a",
      "metadata": {
        "ExecuteTime": {
          "end_time": "2022-11-16T13:17:04.080475Z",
          "start_time": "2022-11-16T13:17:04.052477Z"
        },
        "id": "6948122a"
      },
      "outputs": [],
      "source": [
        "df_recs['Prec@5/actual'] = df_recs['Prec@5'] / df_recs['actual']\n",
        "df_recs"
      ]
    },
    {
      "cell_type": "code",
      "execution_count": null,
      "id": "8ac2cbd1",
      "metadata": {
        "ExecuteTime": {
          "end_time": "2022-11-16T13:17:04.096475Z",
          "start_time": "2022-11-16T13:17:04.083477Z"
        },
        "id": "8ac2cbd1"
      },
      "outputs": [],
      "source": [
        "ap = df_recs.groupby(Columns.User)['Prec@5/actual'].sum()\n",
        "print(ap.mean())\n",
        "ap"
      ]
    },
    {
      "cell_type": "markdown",
      "id": "66107dd0",
      "metadata": {
        "id": "66107dd0"
      },
      "source": [
        "## Naive vs Numba vs Pandas"
      ]
    },
    {
      "cell_type": "code",
      "execution_count": null,
      "id": "b641c46e",
      "metadata": {
        "ExecuteTime": {
          "end_time": "2022-11-16T17:04:48.907677Z",
          "start_time": "2022-11-16T17:04:48.887676Z"
        },
        "id": "b641c46e"
      },
      "outputs": [],
      "source": [
        "df"
      ]
    },
    {
      "cell_type": "code",
      "execution_count": null,
      "id": "bf515d63",
      "metadata": {
        "ExecuteTime": {
          "end_time": "2022-11-16T17:04:44.871588Z",
          "start_time": "2022-11-16T17:04:44.860588Z"
        },
        "id": "bf515d63"
      },
      "outputs": [],
      "source": [
        "target = df.values\n",
        "target"
      ]
    },
    {
      "cell_type": "code",
      "execution_count": null,
      "id": "7817cf13",
      "metadata": {
        "ExecuteTime": {
          "end_time": "2022-11-16T17:05:06.384880Z",
          "start_time": "2022-11-16T17:05:06.370880Z"
        },
        "id": "7817cf13"
      },
      "outputs": [],
      "source": [
        "target[target[:, 0] == 513902][:, 1]"
      ]
    },
    {
      "cell_type": "code",
      "execution_count": null,
      "id": "0e2ccbe3",
      "metadata": {
        "ExecuteTime": {
          "end_time": "2022-11-16T13:17:04.175473Z",
          "start_time": "2022-11-16T13:17:04.163476Z"
        },
        "id": "0e2ccbe3"
      },
      "outputs": [],
      "source": [
        "recs"
      ]
    },
    {
      "cell_type": "code",
      "execution_count": null,
      "id": "cd795c2a",
      "metadata": {
        "ExecuteTime": {
          "end_time": "2022-11-16T13:17:04.190474Z",
          "start_time": "2022-11-16T13:17:04.178474Z"
        },
        "id": "cd795c2a"
      },
      "outputs": [],
      "source": [
        "def precision_naive(target, users, recs, k):\n",
        "    precision = []\n",
        "    for i, user in enumerate(users):\n",
        "        p = 0\n",
        "        user_target = target[target[:, 0] == user][:, 1]\n",
        "        for rec in recs[i]:\n",
        "            if rec in user_target:\n",
        "                p += 1\n",
        "        precision.append(p / k)\n",
        "    return sum(precision) / len(users)"
      ]
    },
    {
      "cell_type": "code",
      "execution_count": null,
      "id": "68849e75",
      "metadata": {
        "ExecuteTime": {
          "end_time": "2022-11-16T13:17:04.206473Z",
          "start_time": "2022-11-16T13:17:04.193473Z"
        },
        "id": "68849e75"
      },
      "outputs": [],
      "source": [
        "precision_naive(target, sample_users, recs, 5)"
      ]
    },
    {
      "cell_type": "code",
      "execution_count": null,
      "id": "6e9013f4",
      "metadata": {
        "ExecuteTime": {
          "end_time": "2022-11-16T13:17:04.270475Z",
          "start_time": "2022-11-16T13:17:04.208473Z"
        },
        "id": "6e9013f4"
      },
      "outputs": [],
      "source": [
        "@nb.njit(cache=True, parallel=True)\n",
        "def precision_numba(target, users, recs, k):\n",
        "    precision = np.zeros(len(users))\n",
        "    for i in nb.prange(len(users)):\n",
        "        user = users[i]\n",
        "        p = 0\n",
        "        user_target = target[target[:, 0] == user][:, 1]\n",
        "        for rec in recs[i]:\n",
        "            if rec in user_target:\n",
        "                p += 1\n",
        "        precision[i] = p / k\n",
        "    return precision.mean()"
      ]
    },
    {
      "cell_type": "code",
      "execution_count": null,
      "id": "8e6bddb3",
      "metadata": {
        "ExecuteTime": {
          "end_time": "2022-11-16T13:17:04.919472Z",
          "start_time": "2022-11-16T13:17:04.273475Z"
        },
        "id": "8e6bddb3"
      },
      "outputs": [],
      "source": [
        "precision_numba(target, np.array(sample_users), recs, 5)"
      ]
    },
    {
      "cell_type": "code",
      "execution_count": null,
      "id": "f2db84ed",
      "metadata": {
        "ExecuteTime": {
          "end_time": "2022-11-16T13:17:04.935472Z",
          "start_time": "2022-11-16T13:17:04.922564Z"
        },
        "id": "f2db84ed"
      },
      "outputs": [],
      "source": [
        "precision_numba(target, np.array(sample_users), recs, 5)"
      ]
    },
    {
      "cell_type": "code",
      "execution_count": null,
      "id": "eb34dfeb",
      "metadata": {
        "ExecuteTime": {
          "end_time": "2022-11-16T13:17:04.950473Z",
          "start_time": "2022-11-16T13:17:04.938474Z"
        },
        "id": "eb34dfeb"
      },
      "outputs": [],
      "source": [
        "def precision_pandas(df, users, recs, k):\n",
        "    df_recs = pd.DataFrame({\n",
        "        Columns.User: np.repeat(users, k),\n",
        "        Columns.Item: recs.ravel()\n",
        "    })\n",
        "    df_recs[Columns.Rank] = df_recs.groupby(Columns.User).cumcount() + 1\n",
        "    df_recs = df.merge(df_recs, how='left', left_on=Columns.UserItem, right_on=Columns.UserItem)\n",
        "    tp_k = f'TP@{k}'\n",
        "    df_recs[tp_k] = df_recs[Columns.Rank] < (k + 1)\n",
        "    p = df_recs[tp_k].sum() / k / len(users)\n",
        "    return p"
      ]
    },
    {
      "cell_type": "code",
      "execution_count": null,
      "id": "b40cf2a1",
      "metadata": {
        "ExecuteTime": {
          "end_time": "2022-11-16T13:17:04.982472Z",
          "start_time": "2022-11-16T13:17:04.953476Z"
        },
        "id": "b40cf2a1"
      },
      "outputs": [],
      "source": [
        "precision_pandas(df, sample_users, recs, 5)"
      ]
    },
    {
      "cell_type": "markdown",
      "id": "1a2e1aab",
      "metadata": {
        "id": "1a2e1aab"
      },
      "source": [
        "Посмотрим через `timeit`"
      ]
    },
    {
      "cell_type": "code",
      "execution_count": null,
      "id": "48a3a5a4",
      "metadata": {
        "ExecuteTime": {
          "end_time": "2022-11-16T13:17:11.668473Z",
          "start_time": "2022-11-16T13:17:04.986474Z"
        },
        "id": "48a3a5a4"
      },
      "outputs": [],
      "source": [
        "%timeit precision_naive(target, sample_users, recs, 5)"
      ]
    },
    {
      "cell_type": "code",
      "execution_count": null,
      "id": "d1d596c6",
      "metadata": {
        "ExecuteTime": {
          "end_time": "2022-11-16T13:17:16.979472Z",
          "start_time": "2022-11-16T13:17:11.670473Z"
        },
        "id": "d1d596c6"
      },
      "outputs": [],
      "source": [
        "%timeit precision_numba(target, sample_users, recs, 5)"
      ]
    },
    {
      "cell_type": "code",
      "execution_count": null,
      "id": "db0d4951",
      "metadata": {
        "ExecuteTime": {
          "end_time": "2022-11-16T13:17:19.748472Z",
          "start_time": "2022-11-16T13:17:16.982474Z"
        },
        "id": "db0d4951"
      },
      "outputs": [],
      "source": [
        "%timeit precision_pandas(df, sample_users, recs, 5)"
      ]
    },
    {
      "cell_type": "code",
      "execution_count": null,
      "id": "003c90fd",
      "metadata": {
        "ExecuteTime": {
          "end_time": "2022-11-16T13:17:19.763472Z",
          "start_time": "2022-11-16T13:17:19.751472Z"
        },
        "id": "003c90fd"
      },
      "outputs": [],
      "source": [
        "def generate_subsample(users_count, top_k):\n",
        "    users = np.random.choice(interactions[Columns.User].unique(), users_count, replace=False)\n",
        "    df = interactions[interactions[Columns.User].isin(users)].reset_index(drop=True)\n",
        "    del df[Columns.Datetime], df[Columns.Weight], df['watched_pct']\n",
        "    \n",
        "    recs = np.random.choice(df[Columns.Item], size=(users_count, top_k))\n",
        "    return df, users, recs"
      ]
    },
    {
      "cell_type": "code",
      "execution_count": null,
      "id": "82302497",
      "metadata": {
        "ExecuteTime": {
          "end_time": "2022-11-16T13:17:19.981472Z",
          "start_time": "2022-11-16T13:17:19.766472Z"
        },
        "id": "82302497"
      },
      "outputs": [],
      "source": [
        "top_k = 10\n",
        "df, users, recs = generate_subsample(10000, top_k)\n",
        "target = df.values"
      ]
    },
    {
      "cell_type": "code",
      "execution_count": null,
      "id": "ed196c27",
      "metadata": {
        "ExecuteTime": {
          "end_time": "2022-11-16T13:17:36.490476Z",
          "start_time": "2022-11-16T13:17:19.984472Z"
        },
        "id": "ed196c27"
      },
      "outputs": [],
      "source": [
        "%timeit precision_naive(target, users, recs, top_k)"
      ]
    },
    {
      "cell_type": "code",
      "execution_count": null,
      "id": "d40279a4",
      "metadata": {
        "ExecuteTime": {
          "end_time": "2022-11-16T13:17:36.615472Z",
          "start_time": "2022-11-16T13:17:36.493475Z"
        },
        "id": "d40279a4"
      },
      "outputs": [],
      "source": [
        "precision_numba(target, users, recs, top_k)"
      ]
    },
    {
      "cell_type": "code",
      "execution_count": null,
      "id": "ff00d091",
      "metadata": {
        "ExecuteTime": {
          "end_time": "2022-11-16T13:17:44.254473Z",
          "start_time": "2022-11-16T13:17:36.618475Z"
        },
        "id": "ff00d091"
      },
      "outputs": [],
      "source": [
        "%timeit precision_numba(target, users, recs, top_k)"
      ]
    },
    {
      "cell_type": "code",
      "execution_count": null,
      "id": "bb53a8f4",
      "metadata": {
        "ExecuteTime": {
          "end_time": "2022-11-16T13:17:47.065475Z",
          "start_time": "2022-11-16T13:17:44.257476Z"
        },
        "id": "bb53a8f4"
      },
      "outputs": [],
      "source": [
        "%timeit precision_pandas(df, users, recs, top_k)"
      ]
    },
    {
      "cell_type": "markdown",
      "id": "5d9eb0b4",
      "metadata": {
        "id": "5d9eb0b4"
      },
      "source": [
        "## RecTools\n",
        "\n",
        "Рассмотрим, как использовать библиотеку от МТС для подсчета метрик.\n",
        "\n",
        "Полный гайд тут - [RecTools/examples/3_metrics.ipynb](https://github.com/MobileTeleSystems/RecTools/blob/main/examples/3_metrics.ipynb)\n",
        "\n",
        "Вначале вспомним, какие данные есть у нас"
      ]
    },
    {
      "cell_type": "code",
      "execution_count": null,
      "id": "69cdae87",
      "metadata": {
        "ExecuteTime": {
          "end_time": "2022-11-16T13:17:47.081477Z",
          "start_time": "2022-11-16T13:17:47.068477Z"
        },
        "id": "69cdae87"
      },
      "outputs": [],
      "source": [
        "df.shape, users.shape, recs.shape"
      ]
    },
    {
      "cell_type": "code",
      "execution_count": null,
      "id": "c15a3a3d",
      "metadata": {
        "ExecuteTime": {
          "end_time": "2022-11-16T13:17:47.206475Z",
          "start_time": "2022-11-16T13:17:47.084479Z"
        },
        "id": "c15a3a3d"
      },
      "outputs": [],
      "source": [
        "from rectools.metrics import Precision, Recall, MAP, calc_metrics"
      ]
    },
    {
      "cell_type": "code",
      "execution_count": null,
      "id": "f156f6bf",
      "metadata": {
        "ExecuteTime": {
          "end_time": "2022-11-16T13:17:47.222473Z",
          "start_time": "2022-11-16T13:17:47.208477Z"
        },
        "id": "f156f6bf"
      },
      "outputs": [],
      "source": [
        "metrics = {\n",
        "    \"prec@1\": Precision(k=1),\n",
        "    \"prec@10\": Precision(k=10),\n",
        "    \"recall@10\": Recall(k=10),\n",
        "    \"MAP@5\": MAP(k=5),\n",
        "    \"MAP@10\": MAP(k=10),\n",
        "}"
      ]
    },
    {
      "cell_type": "code",
      "execution_count": null,
      "id": "2c5d61a9",
      "metadata": {
        "ExecuteTime": {
          "end_time": "2022-11-16T13:17:47.237486Z",
          "start_time": "2022-11-16T13:17:47.225478Z"
        },
        "id": "2c5d61a9"
      },
      "outputs": [],
      "source": [
        "catalog = df[Columns.Item].unique()"
      ]
    },
    {
      "cell_type": "code",
      "execution_count": null,
      "id": "60ce882e",
      "metadata": {
        "ExecuteTime": {
          "end_time": "2022-11-16T13:17:47.267617Z",
          "start_time": "2022-11-16T13:17:47.240494Z"
        },
        "id": "60ce882e"
      },
      "outputs": [],
      "source": [
        "df_recs = pd.DataFrame({\n",
        "    Columns.User: np.repeat(users, top_k),\n",
        "    Columns.Item: recs.ravel()\n",
        "})\n",
        "df_recs[Columns.Rank] = df_recs.groupby(Columns.User).cumcount() + 1"
      ]
    },
    {
      "cell_type": "code",
      "execution_count": null,
      "id": "6bfb042d",
      "metadata": {
        "ExecuteTime": {
          "end_time": "2022-11-16T13:17:47.346619Z",
          "start_time": "2022-11-16T13:17:47.270620Z"
        },
        "id": "6bfb042d"
      },
      "outputs": [],
      "source": [
        "metric_values = calc_metrics(\n",
        "    metrics,\n",
        "    reco=df_recs,\n",
        "    interactions=df,\n",
        ")"
      ]
    },
    {
      "cell_type": "code",
      "execution_count": null,
      "id": "a9b46c6b",
      "metadata": {
        "ExecuteTime": {
          "end_time": "2022-11-16T13:17:47.362619Z",
          "start_time": "2022-11-16T13:17:47.349619Z"
        },
        "id": "a9b46c6b"
      },
      "outputs": [],
      "source": [
        "metric_values"
      ]
    },
    {
      "cell_type": "markdown",
      "id": "75abea7d",
      "metadata": {
        "id": "75abea7d"
      },
      "source": [
        "Как посчитать одну метрику"
      ]
    },
    {
      "cell_type": "code",
      "execution_count": null,
      "id": "ad2502ac",
      "metadata": {
        "ExecuteTime": {
          "end_time": "2022-11-16T13:17:47.410619Z",
          "start_time": "2022-11-16T13:17:47.365622Z"
        },
        "id": "ad2502ac"
      },
      "outputs": [],
      "source": [
        "metrics['prec@10'].calc(df_recs, df)"
      ]
    },
    {
      "cell_type": "code",
      "execution_count": null,
      "id": "b5117ceb",
      "metadata": {
        "ExecuteTime": {
          "end_time": "2022-11-16T13:17:50.222618Z",
          "start_time": "2022-11-16T13:17:47.412623Z"
        },
        "id": "b5117ceb"
      },
      "outputs": [],
      "source": [
        "%timeit metrics['prec@10'].calc(df_recs, df)"
      ]
    },
    {
      "cell_type": "code",
      "execution_count": null,
      "id": "973cb192",
      "metadata": {
        "ExecuteTime": {
          "end_time": "2022-11-16T13:17:50.267620Z",
          "start_time": "2022-11-16T13:17:50.224619Z"
        },
        "id": "973cb192"
      },
      "outputs": [],
      "source": [
        "metrics['prec@10'].calc_per_user(df_recs, df)"
      ]
    },
    {
      "cell_type": "markdown",
      "id": "86146c27",
      "metadata": {
        "id": "86146c27"
      },
      "source": [
        "## Homework\n",
        "\n",
        "### PFound\n",
        "Исходные данные - Yandex Cup 2022 Analytics\n",
        "- Ссылка - https://yandex.ru/cup/analytics/analysis/ , пример A. Рассчитать pFound\n",
        "- Данные - https://yadi.sk/d/guqki4UI4hFlXQ\n",
        "- Формула\n",
        "$$pFound@K = \\sum_{i=1}^{k} pLook[i]\\ pRel[i]$$\n",
        "\n",
        "$$pLook[1] = 1$$\n",
        "\n",
        "$$pLook[i] = pLook[i-1]\\ (1 - pRel[i-1])\\ (1 - pBreak)$$\n",
        "\n",
        "$$pBreak = 0.15$$\n",
        "\n",
        "**Задача** - написать функцию, которая принимает на вход dataframe (после join), а на выходе дает средний pFound по всем query.\n",
        "- Запрещается использовать циклы for для расчет метрики (как полностью, так и ее частей).\n",
        "- Усложнение, если задача показалась легкой - попробуйте обойтись без groupby (не уверен, что это возможно, но вдруг вы справитесь)"
      ]
    },
    {
      "cell_type": "code",
      "source": [
        "import requests\n",
        "from urllib.parse import urlencode\n",
        "\n",
        "base_url = 'https://cloud-api.yandex.net/v1/disk/public/resources/download?'\n",
        "public_key = 'https://yadi.sk/d/guqki4UI4hFlXQ'\n",
        "\n",
        "\n",
        "final_url = base_url + urlencode(dict(public_key=public_key))\n",
        "response = requests.get(final_url)\n",
        "download_url = response.json()['href']\n",
        "\n",
        "download_response = requests.get(download_url)\n",
        "with open('./data.zip', 'wb') as f:\n",
        "    f.write(download_response.content)"
      ],
      "metadata": {
        "id": "-7jxqJjv07Df"
      },
      "id": "-7jxqJjv07Df",
      "execution_count": 5,
      "outputs": []
    },
    {
      "cell_type": "code",
      "source": [
        "# !unzip data.zip\n",
        "# !unzip hidden_task.zip\n",
        "# !unzip open_task.zip"
      ],
      "metadata": {
        "colab": {
          "base_uri": "https://localhost:8080/"
        },
        "id": "1AtrgZSy1GL6",
        "outputId": "63a6eb7b-1627-4506-91bd-2cb7c70344d5"
      },
      "id": "1AtrgZSy1GL6",
      "execution_count": 7,
      "outputs": [
        {
          "output_type": "stream",
          "name": "stdout",
          "text": [
            "Archive:  hidden_task.zip\n",
            "  inflating: hostid_url.tsv          \n",
            "  inflating: qid_query.tsv           \n",
            "  inflating: qid_url_rating.tsv      \n",
            "Archive:  open_task.zip\n",
            "   creating: open_task/\n",
            "  inflating: open_task/qid_query.tsv  \n",
            "  inflating: open_task/hostid_url.tsv  \n",
            "  inflating: open_task/qid_url_rating.tsv  \n"
          ]
        }
      ]
    },
    {
      "cell_type": "markdown",
      "source": [
        "##Pfound"
      ],
      "metadata": {
        "id": "d1-GgSuV0X60"
      },
      "id": "d1-GgSuV0X60"
    },
    {
      "cell_type": "code",
      "source": [
        "qid_query.head(3) #  id запроса и текст запроса, разделённые табуляцией;"
      ],
      "metadata": {
        "colab": {
          "base_uri": "https://localhost:8080/",
          "height": 143
        },
        "id": "bxP3tkfd1l2Y",
        "outputId": "bbd3ed84-2b54-41f0-871f-082791ba9075"
      },
      "id": "bxP3tkfd1l2Y",
      "execution_count": 18,
      "outputs": [
        {
          "output_type": "execute_result",
          "data": {
            "text/plain": [
              "      qid                                   query\n",
              "0  402111           работа фотографом в австралии\n",
              "1  405851            производительность видеокарт\n",
              "2  407522  ёлочные игрушки из пластиковых бутылок"
            ],
            "text/html": [
              "\n",
              "  <div id=\"df-2d5e9956-6e69-47ec-b0a9-e49d78b8c403\">\n",
              "    <div class=\"colab-df-container\">\n",
              "      <div>\n",
              "<style scoped>\n",
              "    .dataframe tbody tr th:only-of-type {\n",
              "        vertical-align: middle;\n",
              "    }\n",
              "\n",
              "    .dataframe tbody tr th {\n",
              "        vertical-align: top;\n",
              "    }\n",
              "\n",
              "    .dataframe thead th {\n",
              "        text-align: right;\n",
              "    }\n",
              "</style>\n",
              "<table border=\"1\" class=\"dataframe\">\n",
              "  <thead>\n",
              "    <tr style=\"text-align: right;\">\n",
              "      <th></th>\n",
              "      <th>qid</th>\n",
              "      <th>query</th>\n",
              "    </tr>\n",
              "  </thead>\n",
              "  <tbody>\n",
              "    <tr>\n",
              "      <th>0</th>\n",
              "      <td>402111</td>\n",
              "      <td>работа фотографом в австралии</td>\n",
              "    </tr>\n",
              "    <tr>\n",
              "      <th>1</th>\n",
              "      <td>405851</td>\n",
              "      <td>производительность видеокарт</td>\n",
              "    </tr>\n",
              "    <tr>\n",
              "      <th>2</th>\n",
              "      <td>407522</td>\n",
              "      <td>ёлочные игрушки из пластиковых бутылок</td>\n",
              "    </tr>\n",
              "  </tbody>\n",
              "</table>\n",
              "</div>\n",
              "      <button class=\"colab-df-convert\" onclick=\"convertToInteractive('df-2d5e9956-6e69-47ec-b0a9-e49d78b8c403')\"\n",
              "              title=\"Convert this dataframe to an interactive table.\"\n",
              "              style=\"display:none;\">\n",
              "        \n",
              "  <svg xmlns=\"http://www.w3.org/2000/svg\" height=\"24px\"viewBox=\"0 0 24 24\"\n",
              "       width=\"24px\">\n",
              "    <path d=\"M0 0h24v24H0V0z\" fill=\"none\"/>\n",
              "    <path d=\"M18.56 5.44l.94 2.06.94-2.06 2.06-.94-2.06-.94-.94-2.06-.94 2.06-2.06.94zm-11 1L8.5 8.5l.94-2.06 2.06-.94-2.06-.94L8.5 2.5l-.94 2.06-2.06.94zm10 10l.94 2.06.94-2.06 2.06-.94-2.06-.94-.94-2.06-.94 2.06-2.06.94z\"/><path d=\"M17.41 7.96l-1.37-1.37c-.4-.4-.92-.59-1.43-.59-.52 0-1.04.2-1.43.59L10.3 9.45l-7.72 7.72c-.78.78-.78 2.05 0 2.83L4 21.41c.39.39.9.59 1.41.59.51 0 1.02-.2 1.41-.59l7.78-7.78 2.81-2.81c.8-.78.8-2.07 0-2.86zM5.41 20L4 18.59l7.72-7.72 1.47 1.35L5.41 20z\"/>\n",
              "  </svg>\n",
              "      </button>\n",
              "      \n",
              "  <style>\n",
              "    .colab-df-container {\n",
              "      display:flex;\n",
              "      flex-wrap:wrap;\n",
              "      gap: 12px;\n",
              "    }\n",
              "\n",
              "    .colab-df-convert {\n",
              "      background-color: #E8F0FE;\n",
              "      border: none;\n",
              "      border-radius: 50%;\n",
              "      cursor: pointer;\n",
              "      display: none;\n",
              "      fill: #1967D2;\n",
              "      height: 32px;\n",
              "      padding: 0 0 0 0;\n",
              "      width: 32px;\n",
              "    }\n",
              "\n",
              "    .colab-df-convert:hover {\n",
              "      background-color: #E2EBFA;\n",
              "      box-shadow: 0px 1px 2px rgba(60, 64, 67, 0.3), 0px 1px 3px 1px rgba(60, 64, 67, 0.15);\n",
              "      fill: #174EA6;\n",
              "    }\n",
              "\n",
              "    [theme=dark] .colab-df-convert {\n",
              "      background-color: #3B4455;\n",
              "      fill: #D2E3FC;\n",
              "    }\n",
              "\n",
              "    [theme=dark] .colab-df-convert:hover {\n",
              "      background-color: #434B5C;\n",
              "      box-shadow: 0px 1px 3px 1px rgba(0, 0, 0, 0.15);\n",
              "      filter: drop-shadow(0px 1px 2px rgba(0, 0, 0, 0.3));\n",
              "      fill: #FFFFFF;\n",
              "    }\n",
              "  </style>\n",
              "\n",
              "      <script>\n",
              "        const buttonEl =\n",
              "          document.querySelector('#df-2d5e9956-6e69-47ec-b0a9-e49d78b8c403 button.colab-df-convert');\n",
              "        buttonEl.style.display =\n",
              "          google.colab.kernel.accessAllowed ? 'block' : 'none';\n",
              "\n",
              "        async function convertToInteractive(key) {\n",
              "          const element = document.querySelector('#df-2d5e9956-6e69-47ec-b0a9-e49d78b8c403');\n",
              "          const dataTable =\n",
              "            await google.colab.kernel.invokeFunction('convertToInteractive',\n",
              "                                                     [key], {});\n",
              "          if (!dataTable) return;\n",
              "\n",
              "          const docLinkHtml = 'Like what you see? Visit the ' +\n",
              "            '<a target=\"_blank\" href=https://colab.research.google.com/notebooks/data_table.ipynb>data table notebook</a>'\n",
              "            + ' to learn more about interactive tables.';\n",
              "          element.innerHTML = '';\n",
              "          dataTable['output_type'] = 'display_data';\n",
              "          await google.colab.output.renderOutput(dataTable, element);\n",
              "          const docLink = document.createElement('div');\n",
              "          docLink.innerHTML = docLinkHtml;\n",
              "          element.appendChild(docLink);\n",
              "        }\n",
              "      </script>\n",
              "    </div>\n",
              "  </div>\n",
              "  "
            ]
          },
          "metadata": {},
          "execution_count": 18
        }
      ]
    },
    {
      "cell_type": "code",
      "source": [
        "qid_url_rating.head(3) #  id запроса, URL документа, релевантность документа запросу;"
      ],
      "metadata": {
        "colab": {
          "base_uri": "https://localhost:8080/",
          "height": 143
        },
        "id": "GCB1NRYQ129r",
        "outputId": "9582c761-a96b-4fa3-eaba-cf3a59c7d59d"
      },
      "id": "GCB1NRYQ129r",
      "execution_count": 13,
      "outputs": [
        {
          "output_type": "execute_result",
          "data": {
            "text/plain": [
              "      qid                                                url  rating\n",
              "0  402111  http://24-job.com/board/job_australia/232-1-2-...    0.07\n",
              "1  402111  http://24-job.com/board/job_australia/232-1-2-...    0.07\n",
              "2  402111           http://802351.info/5964-v-avstralii.html    0.00"
            ],
            "text/html": [
              "\n",
              "  <div id=\"df-63d45f70-7f11-4d8f-ba70-90a1edb2b4d5\">\n",
              "    <div class=\"colab-df-container\">\n",
              "      <div>\n",
              "<style scoped>\n",
              "    .dataframe tbody tr th:only-of-type {\n",
              "        vertical-align: middle;\n",
              "    }\n",
              "\n",
              "    .dataframe tbody tr th {\n",
              "        vertical-align: top;\n",
              "    }\n",
              "\n",
              "    .dataframe thead th {\n",
              "        text-align: right;\n",
              "    }\n",
              "</style>\n",
              "<table border=\"1\" class=\"dataframe\">\n",
              "  <thead>\n",
              "    <tr style=\"text-align: right;\">\n",
              "      <th></th>\n",
              "      <th>qid</th>\n",
              "      <th>url</th>\n",
              "      <th>rating</th>\n",
              "    </tr>\n",
              "  </thead>\n",
              "  <tbody>\n",
              "    <tr>\n",
              "      <th>0</th>\n",
              "      <td>402111</td>\n",
              "      <td>http://24-job.com/board/job_australia/232-1-2-...</td>\n",
              "      <td>0.07</td>\n",
              "    </tr>\n",
              "    <tr>\n",
              "      <th>1</th>\n",
              "      <td>402111</td>\n",
              "      <td>http://24-job.com/board/job_australia/232-1-2-...</td>\n",
              "      <td>0.07</td>\n",
              "    </tr>\n",
              "    <tr>\n",
              "      <th>2</th>\n",
              "      <td>402111</td>\n",
              "      <td>http://802351.info/5964-v-avstralii.html</td>\n",
              "      <td>0.00</td>\n",
              "    </tr>\n",
              "  </tbody>\n",
              "</table>\n",
              "</div>\n",
              "      <button class=\"colab-df-convert\" onclick=\"convertToInteractive('df-63d45f70-7f11-4d8f-ba70-90a1edb2b4d5')\"\n",
              "              title=\"Convert this dataframe to an interactive table.\"\n",
              "              style=\"display:none;\">\n",
              "        \n",
              "  <svg xmlns=\"http://www.w3.org/2000/svg\" height=\"24px\"viewBox=\"0 0 24 24\"\n",
              "       width=\"24px\">\n",
              "    <path d=\"M0 0h24v24H0V0z\" fill=\"none\"/>\n",
              "    <path d=\"M18.56 5.44l.94 2.06.94-2.06 2.06-.94-2.06-.94-.94-2.06-.94 2.06-2.06.94zm-11 1L8.5 8.5l.94-2.06 2.06-.94-2.06-.94L8.5 2.5l-.94 2.06-2.06.94zm10 10l.94 2.06.94-2.06 2.06-.94-2.06-.94-.94-2.06-.94 2.06-2.06.94z\"/><path d=\"M17.41 7.96l-1.37-1.37c-.4-.4-.92-.59-1.43-.59-.52 0-1.04.2-1.43.59L10.3 9.45l-7.72 7.72c-.78.78-.78 2.05 0 2.83L4 21.41c.39.39.9.59 1.41.59.51 0 1.02-.2 1.41-.59l7.78-7.78 2.81-2.81c.8-.78.8-2.07 0-2.86zM5.41 20L4 18.59l7.72-7.72 1.47 1.35L5.41 20z\"/>\n",
              "  </svg>\n",
              "      </button>\n",
              "      \n",
              "  <style>\n",
              "    .colab-df-container {\n",
              "      display:flex;\n",
              "      flex-wrap:wrap;\n",
              "      gap: 12px;\n",
              "    }\n",
              "\n",
              "    .colab-df-convert {\n",
              "      background-color: #E8F0FE;\n",
              "      border: none;\n",
              "      border-radius: 50%;\n",
              "      cursor: pointer;\n",
              "      display: none;\n",
              "      fill: #1967D2;\n",
              "      height: 32px;\n",
              "      padding: 0 0 0 0;\n",
              "      width: 32px;\n",
              "    }\n",
              "\n",
              "    .colab-df-convert:hover {\n",
              "      background-color: #E2EBFA;\n",
              "      box-shadow: 0px 1px 2px rgba(60, 64, 67, 0.3), 0px 1px 3px 1px rgba(60, 64, 67, 0.15);\n",
              "      fill: #174EA6;\n",
              "    }\n",
              "\n",
              "    [theme=dark] .colab-df-convert {\n",
              "      background-color: #3B4455;\n",
              "      fill: #D2E3FC;\n",
              "    }\n",
              "\n",
              "    [theme=dark] .colab-df-convert:hover {\n",
              "      background-color: #434B5C;\n",
              "      box-shadow: 0px 1px 3px 1px rgba(0, 0, 0, 0.15);\n",
              "      filter: drop-shadow(0px 1px 2px rgba(0, 0, 0, 0.3));\n",
              "      fill: #FFFFFF;\n",
              "    }\n",
              "  </style>\n",
              "\n",
              "      <script>\n",
              "        const buttonEl =\n",
              "          document.querySelector('#df-63d45f70-7f11-4d8f-ba70-90a1edb2b4d5 button.colab-df-convert');\n",
              "        buttonEl.style.display =\n",
              "          google.colab.kernel.accessAllowed ? 'block' : 'none';\n",
              "\n",
              "        async function convertToInteractive(key) {\n",
              "          const element = document.querySelector('#df-63d45f70-7f11-4d8f-ba70-90a1edb2b4d5');\n",
              "          const dataTable =\n",
              "            await google.colab.kernel.invokeFunction('convertToInteractive',\n",
              "                                                     [key], {});\n",
              "          if (!dataTable) return;\n",
              "\n",
              "          const docLinkHtml = 'Like what you see? Visit the ' +\n",
              "            '<a target=\"_blank\" href=https://colab.research.google.com/notebooks/data_table.ipynb>data table notebook</a>'\n",
              "            + ' to learn more about interactive tables.';\n",
              "          element.innerHTML = '';\n",
              "          dataTable['output_type'] = 'display_data';\n",
              "          await google.colab.output.renderOutput(dataTable, element);\n",
              "          const docLink = document.createElement('div');\n",
              "          docLink.innerHTML = docLinkHtml;\n",
              "          element.appendChild(docLink);\n",
              "        }\n",
              "      </script>\n",
              "    </div>\n",
              "  </div>\n",
              "  "
            ]
          },
          "metadata": {},
          "execution_count": 13
        }
      ]
    },
    {
      "cell_type": "code",
      "source": [
        " hostid_url.head(3) #  id хоста и URL документа."
      ],
      "metadata": {
        "colab": {
          "base_uri": "https://localhost:8080/",
          "height": 143
        },
        "id": "ULV7OwoH19Ub",
        "outputId": "334ba89d-ae17-4d9c-ff53-91076466dbd3"
      },
      "id": "ULV7OwoH19Ub",
      "execution_count": 15,
      "outputs": [
        {
          "output_type": "execute_result",
          "data": {
            "text/plain": [
              "   hostid                                 url\n",
              "0       1  http://09spravki.ru/requisites.php\n",
              "1      10   http://3pu.info/seo-tools/domains\n",
              "2    1006      http://www.priroda.su/item/820"
            ],
            "text/html": [
              "\n",
              "  <div id=\"df-c63c190b-3106-4cb4-8022-214bf3ef9b53\">\n",
              "    <div class=\"colab-df-container\">\n",
              "      <div>\n",
              "<style scoped>\n",
              "    .dataframe tbody tr th:only-of-type {\n",
              "        vertical-align: middle;\n",
              "    }\n",
              "\n",
              "    .dataframe tbody tr th {\n",
              "        vertical-align: top;\n",
              "    }\n",
              "\n",
              "    .dataframe thead th {\n",
              "        text-align: right;\n",
              "    }\n",
              "</style>\n",
              "<table border=\"1\" class=\"dataframe\">\n",
              "  <thead>\n",
              "    <tr style=\"text-align: right;\">\n",
              "      <th></th>\n",
              "      <th>hostid</th>\n",
              "      <th>url</th>\n",
              "    </tr>\n",
              "  </thead>\n",
              "  <tbody>\n",
              "    <tr>\n",
              "      <th>0</th>\n",
              "      <td>1</td>\n",
              "      <td>http://09spravki.ru/requisites.php</td>\n",
              "    </tr>\n",
              "    <tr>\n",
              "      <th>1</th>\n",
              "      <td>10</td>\n",
              "      <td>http://3pu.info/seo-tools/domains</td>\n",
              "    </tr>\n",
              "    <tr>\n",
              "      <th>2</th>\n",
              "      <td>1006</td>\n",
              "      <td>http://www.priroda.su/item/820</td>\n",
              "    </tr>\n",
              "  </tbody>\n",
              "</table>\n",
              "</div>\n",
              "      <button class=\"colab-df-convert\" onclick=\"convertToInteractive('df-c63c190b-3106-4cb4-8022-214bf3ef9b53')\"\n",
              "              title=\"Convert this dataframe to an interactive table.\"\n",
              "              style=\"display:none;\">\n",
              "        \n",
              "  <svg xmlns=\"http://www.w3.org/2000/svg\" height=\"24px\"viewBox=\"0 0 24 24\"\n",
              "       width=\"24px\">\n",
              "    <path d=\"M0 0h24v24H0V0z\" fill=\"none\"/>\n",
              "    <path d=\"M18.56 5.44l.94 2.06.94-2.06 2.06-.94-2.06-.94-.94-2.06-.94 2.06-2.06.94zm-11 1L8.5 8.5l.94-2.06 2.06-.94-2.06-.94L8.5 2.5l-.94 2.06-2.06.94zm10 10l.94 2.06.94-2.06 2.06-.94-2.06-.94-.94-2.06-.94 2.06-2.06.94z\"/><path d=\"M17.41 7.96l-1.37-1.37c-.4-.4-.92-.59-1.43-.59-.52 0-1.04.2-1.43.59L10.3 9.45l-7.72 7.72c-.78.78-.78 2.05 0 2.83L4 21.41c.39.39.9.59 1.41.59.51 0 1.02-.2 1.41-.59l7.78-7.78 2.81-2.81c.8-.78.8-2.07 0-2.86zM5.41 20L4 18.59l7.72-7.72 1.47 1.35L5.41 20z\"/>\n",
              "  </svg>\n",
              "      </button>\n",
              "      \n",
              "  <style>\n",
              "    .colab-df-container {\n",
              "      display:flex;\n",
              "      flex-wrap:wrap;\n",
              "      gap: 12px;\n",
              "    }\n",
              "\n",
              "    .colab-df-convert {\n",
              "      background-color: #E8F0FE;\n",
              "      border: none;\n",
              "      border-radius: 50%;\n",
              "      cursor: pointer;\n",
              "      display: none;\n",
              "      fill: #1967D2;\n",
              "      height: 32px;\n",
              "      padding: 0 0 0 0;\n",
              "      width: 32px;\n",
              "    }\n",
              "\n",
              "    .colab-df-convert:hover {\n",
              "      background-color: #E2EBFA;\n",
              "      box-shadow: 0px 1px 2px rgba(60, 64, 67, 0.3), 0px 1px 3px 1px rgba(60, 64, 67, 0.15);\n",
              "      fill: #174EA6;\n",
              "    }\n",
              "\n",
              "    [theme=dark] .colab-df-convert {\n",
              "      background-color: #3B4455;\n",
              "      fill: #D2E3FC;\n",
              "    }\n",
              "\n",
              "    [theme=dark] .colab-df-convert:hover {\n",
              "      background-color: #434B5C;\n",
              "      box-shadow: 0px 1px 3px 1px rgba(0, 0, 0, 0.15);\n",
              "      filter: drop-shadow(0px 1px 2px rgba(0, 0, 0, 0.3));\n",
              "      fill: #FFFFFF;\n",
              "    }\n",
              "  </style>\n",
              "\n",
              "      <script>\n",
              "        const buttonEl =\n",
              "          document.querySelector('#df-c63c190b-3106-4cb4-8022-214bf3ef9b53 button.colab-df-convert');\n",
              "        buttonEl.style.display =\n",
              "          google.colab.kernel.accessAllowed ? 'block' : 'none';\n",
              "\n",
              "        async function convertToInteractive(key) {\n",
              "          const element = document.querySelector('#df-c63c190b-3106-4cb4-8022-214bf3ef9b53');\n",
              "          const dataTable =\n",
              "            await google.colab.kernel.invokeFunction('convertToInteractive',\n",
              "                                                     [key], {});\n",
              "          if (!dataTable) return;\n",
              "\n",
              "          const docLinkHtml = 'Like what you see? Visit the ' +\n",
              "            '<a target=\"_blank\" href=https://colab.research.google.com/notebooks/data_table.ipynb>data table notebook</a>'\n",
              "            + ' to learn more about interactive tables.';\n",
              "          element.innerHTML = '';\n",
              "          dataTable['output_type'] = 'display_data';\n",
              "          await google.colab.output.renderOutput(dataTable, element);\n",
              "          const docLink = document.createElement('div');\n",
              "          docLink.innerHTML = docLinkHtml;\n",
              "          element.appendChild(docLink);\n",
              "        }\n",
              "      </script>\n",
              "    </div>\n",
              "  </div>\n",
              "  "
            ]
          },
          "metadata": {},
          "execution_count": 15
        }
      ]
    },
    {
      "cell_type": "code",
      "source": [
        "qid_url_rating_hostid.sample(3) "
      ],
      "metadata": {
        "colab": {
          "base_uri": "https://localhost:8080/",
          "height": 143
        },
        "id": "Hz1QAVd02NJX",
        "outputId": "328c435f-b269-4b09-92dc-6c37b446b7c9"
      },
      "id": "Hz1QAVd02NJX",
      "execution_count": 19,
      "outputs": [
        {
          "output_type": "execute_result",
          "data": {
            "text/plain": [
              "       qid                                                url  rating  hostid\n",
              "583  70357  http://necessary-soft.net/misc/103661-telefonn...    0.14     373\n",
              "773  99543              http://spb.kp.ru/2007/02/01/doc161469    0.00     521\n",
              "390  58989               http://www.mp3zzz.ru/song/27511.html    0.00     945"
            ],
            "text/html": [
              "\n",
              "  <div id=\"df-92d0280a-1d80-45fa-bb8a-fac3e75d7ee0\">\n",
              "    <div class=\"colab-df-container\">\n",
              "      <div>\n",
              "<style scoped>\n",
              "    .dataframe tbody tr th:only-of-type {\n",
              "        vertical-align: middle;\n",
              "    }\n",
              "\n",
              "    .dataframe tbody tr th {\n",
              "        vertical-align: top;\n",
              "    }\n",
              "\n",
              "    .dataframe thead th {\n",
              "        text-align: right;\n",
              "    }\n",
              "</style>\n",
              "<table border=\"1\" class=\"dataframe\">\n",
              "  <thead>\n",
              "    <tr style=\"text-align: right;\">\n",
              "      <th></th>\n",
              "      <th>qid</th>\n",
              "      <th>url</th>\n",
              "      <th>rating</th>\n",
              "      <th>hostid</th>\n",
              "    </tr>\n",
              "  </thead>\n",
              "  <tbody>\n",
              "    <tr>\n",
              "      <th>583</th>\n",
              "      <td>70357</td>\n",
              "      <td>http://necessary-soft.net/misc/103661-telefonn...</td>\n",
              "      <td>0.14</td>\n",
              "      <td>373</td>\n",
              "    </tr>\n",
              "    <tr>\n",
              "      <th>773</th>\n",
              "      <td>99543</td>\n",
              "      <td>http://spb.kp.ru/2007/02/01/doc161469</td>\n",
              "      <td>0.00</td>\n",
              "      <td>521</td>\n",
              "    </tr>\n",
              "    <tr>\n",
              "      <th>390</th>\n",
              "      <td>58989</td>\n",
              "      <td>http://www.mp3zzz.ru/song/27511.html</td>\n",
              "      <td>0.00</td>\n",
              "      <td>945</td>\n",
              "    </tr>\n",
              "  </tbody>\n",
              "</table>\n",
              "</div>\n",
              "      <button class=\"colab-df-convert\" onclick=\"convertToInteractive('df-92d0280a-1d80-45fa-bb8a-fac3e75d7ee0')\"\n",
              "              title=\"Convert this dataframe to an interactive table.\"\n",
              "              style=\"display:none;\">\n",
              "        \n",
              "  <svg xmlns=\"http://www.w3.org/2000/svg\" height=\"24px\"viewBox=\"0 0 24 24\"\n",
              "       width=\"24px\">\n",
              "    <path d=\"M0 0h24v24H0V0z\" fill=\"none\"/>\n",
              "    <path d=\"M18.56 5.44l.94 2.06.94-2.06 2.06-.94-2.06-.94-.94-2.06-.94 2.06-2.06.94zm-11 1L8.5 8.5l.94-2.06 2.06-.94-2.06-.94L8.5 2.5l-.94 2.06-2.06.94zm10 10l.94 2.06.94-2.06 2.06-.94-2.06-.94-.94-2.06-.94 2.06-2.06.94z\"/><path d=\"M17.41 7.96l-1.37-1.37c-.4-.4-.92-.59-1.43-.59-.52 0-1.04.2-1.43.59L10.3 9.45l-7.72 7.72c-.78.78-.78 2.05 0 2.83L4 21.41c.39.39.9.59 1.41.59.51 0 1.02-.2 1.41-.59l7.78-7.78 2.81-2.81c.8-.78.8-2.07 0-2.86zM5.41 20L4 18.59l7.72-7.72 1.47 1.35L5.41 20z\"/>\n",
              "  </svg>\n",
              "      </button>\n",
              "      \n",
              "  <style>\n",
              "    .colab-df-container {\n",
              "      display:flex;\n",
              "      flex-wrap:wrap;\n",
              "      gap: 12px;\n",
              "    }\n",
              "\n",
              "    .colab-df-convert {\n",
              "      background-color: #E8F0FE;\n",
              "      border: none;\n",
              "      border-radius: 50%;\n",
              "      cursor: pointer;\n",
              "      display: none;\n",
              "      fill: #1967D2;\n",
              "      height: 32px;\n",
              "      padding: 0 0 0 0;\n",
              "      width: 32px;\n",
              "    }\n",
              "\n",
              "    .colab-df-convert:hover {\n",
              "      background-color: #E2EBFA;\n",
              "      box-shadow: 0px 1px 2px rgba(60, 64, 67, 0.3), 0px 1px 3px 1px rgba(60, 64, 67, 0.15);\n",
              "      fill: #174EA6;\n",
              "    }\n",
              "\n",
              "    [theme=dark] .colab-df-convert {\n",
              "      background-color: #3B4455;\n",
              "      fill: #D2E3FC;\n",
              "    }\n",
              "\n",
              "    [theme=dark] .colab-df-convert:hover {\n",
              "      background-color: #434B5C;\n",
              "      box-shadow: 0px 1px 3px 1px rgba(0, 0, 0, 0.15);\n",
              "      filter: drop-shadow(0px 1px 2px rgba(0, 0, 0, 0.3));\n",
              "      fill: #FFFFFF;\n",
              "    }\n",
              "  </style>\n",
              "\n",
              "      <script>\n",
              "        const buttonEl =\n",
              "          document.querySelector('#df-92d0280a-1d80-45fa-bb8a-fac3e75d7ee0 button.colab-df-convert');\n",
              "        buttonEl.style.display =\n",
              "          google.colab.kernel.accessAllowed ? 'block' : 'none';\n",
              "\n",
              "        async function convertToInteractive(key) {\n",
              "          const element = document.querySelector('#df-92d0280a-1d80-45fa-bb8a-fac3e75d7ee0');\n",
              "          const dataTable =\n",
              "            await google.colab.kernel.invokeFunction('convertToInteractive',\n",
              "                                                     [key], {});\n",
              "          if (!dataTable) return;\n",
              "\n",
              "          const docLinkHtml = 'Like what you see? Visit the ' +\n",
              "            '<a target=\"_blank\" href=https://colab.research.google.com/notebooks/data_table.ipynb>data table notebook</a>'\n",
              "            + ' to learn more about interactive tables.';\n",
              "          element.innerHTML = '';\n",
              "          dataTable['output_type'] = 'display_data';\n",
              "          await google.colab.output.renderOutput(dataTable, element);\n",
              "          const docLink = document.createElement('div');\n",
              "          docLink.innerHTML = docLinkHtml;\n",
              "          element.appendChild(docLink);\n",
              "        }\n",
              "      </script>\n",
              "    </div>\n",
              "  </div>\n",
              "  "
            ]
          },
          "metadata": {},
          "execution_count": 19
        }
      ]
    },
    {
      "cell_type": "code",
      "source": [
        "import pandas as pd\n",
        "\n",
        "# считываем данные\n",
        "qid_query = pd.read_csv(\"qid_query.tsv\", sep=\"\\t\", names=[\"qid\", \"query\"])\n",
        "qid_url_rating = pd.read_csv(\"qid_url_rating.tsv\", sep=\"\\t\", names=[\"qid\", \"url\", \"rating\"])\n",
        "hostid_url = pd.read_csv(\"hostid_url.tsv\", sep=\"\\t\", names=[\"hostid\", \"url\"])\n",
        "\n",
        "# делаем join двух таблиц, чтобы было просто брать url с максимальным рейтингом\n",
        "qid_url_rating_hostid = pd.merge(qid_url_rating, hostid_url, on=\"url\")\n",
        "\n",
        "\n",
        "def plook(ind, rels):\n",
        "    if ind == 0:\n",
        "        return 1\n",
        "    return plook(ind-1, rels)*(1-rels[ind-1])*(1-0.15)\n",
        "\n",
        "\n",
        "def pfound(group):\n",
        "    max_by_host = group.groupby(\"hostid\")[\"rating\"].max() # максимальный рейтинг хоста\n",
        "    top10 = max_by_host.sort_values(ascending=False)[:10] # берем топ10 урлов с наивысшим рейтингом\n",
        "    pfound = 0\n",
        "    for ind, val in enumerate(top10):\n",
        "        pfound += val*plook(ind, top10.values)\n",
        "        print(plook(ind, top10.values))\n",
        "    return pfound\n",
        "\n",
        "\n",
        "qid_pfound = qid_url_rating_hostid.groupby('qid').apply(pfound) # группируем по qid и вычисляем pfound\n",
        "qid_max = qid_pfound.idxmax() # берем qid с максимальным pfound\n",
        "\n",
        "qid_query[qid_query[\"qid\"] == qid_max]\n"
      ],
      "metadata": {
        "id": "T4xvMnuz0Zwq"
      },
      "id": "T4xvMnuz0Zwq",
      "execution_count": null,
      "outputs": []
    },
    {
      "cell_type": "code",
      "source": [
        "avg_pfound_original = qid_pfound.mean()\n",
        "print(f'Средний pFound по всем query (расчет с сайта): {avg_pfound_original}')"
      ],
      "metadata": {
        "colab": {
          "base_uri": "https://localhost:8080/"
        },
        "id": "ZTk7XIe91ZVZ",
        "outputId": "66814451-b596-4464-9e6e-fda200ff4ebf"
      },
      "id": "ZTk7XIe91ZVZ",
      "execution_count": 21,
      "outputs": [
        {
          "output_type": "stream",
          "name": "stdout",
          "text": [
            "Средний pFound по всем query (расчет с сайта): 0.5822199638393889\n"
          ]
        }
      ]
    },
    {
      "cell_type": "code",
      "source": [
        "def fast_PFoundK(\n",
        "    qid_url_rating_hostid,\n",
        "    K = 10,\n",
        "    p_break = 0.15\n",
        "    ):\n",
        "    \"\"\"\n",
        "    Подсчет метрики PFound@K\n",
        "    \"\"\"\n",
        "    max_by_host = qid_url_rating_hostid.groupby(['qid', 'hostid'])['rating'].max().reset_index()\n",
        "    top = max_by_host.sort_values(['qid', 'rating'], ascending=False).groupby(['qid']).head(10)\n",
        "\n",
        "    top['rank'] = top.groupby('qid').cumcount()\n",
        "    top['one_minus_rating'] = (1 - top['rating']).shift(1)\n",
        "    top['p_break'] = 1 - p_break\n",
        "    top.loc[top['rank'] == 0, ['p_break', 'one_minus_rating']] = 1\n",
        "\n",
        "    top['temp_with_mult'] = top['one_minus_rating'] * top['p_break']\n",
        "\n",
        "    top['plook'] = top.groupby('qid')['temp_with_mult'].cumprod()\n",
        "    top['pfound'] = top['plook'] * top['rating']\n",
        "    \n",
        "    pfound_qid = top.groupby('qid')['pfound'].sum()\n",
        "    return pfound_qid.mean()"
      ],
      "metadata": {
        "id": "LeN-TuSS8Uay"
      },
      "id": "LeN-TuSS8Uay",
      "execution_count": 63,
      "outputs": []
    },
    {
      "cell_type": "markdown",
      "source": [],
      "metadata": {
        "id": "_Ot2DpdI6AcQ"
      },
      "id": "_Ot2DpdI6AcQ"
    },
    {
      "cell_type": "code",
      "source": [
        "print(fast_PFoundK(qid_url_rating_hostid))"
      ],
      "metadata": {
        "colab": {
          "base_uri": "https://localhost:8080/"
        },
        "id": "Si2vQPHc5PNl",
        "outputId": "513c60c4-5410-4407-a1c9-3894f44fe57f"
      },
      "id": "Si2vQPHc5PNl",
      "execution_count": 64,
      "outputs": [
        {
          "output_type": "stream",
          "name": "stdout",
          "text": [
            "0.5822199638393889\n"
          ]
        }
      ]
    },
    {
      "cell_type": "markdown",
      "source": [
        "##MRR"
      ],
      "metadata": {
        "id": "nYVmjKUV0d5Y"
      },
      "id": "nYVmjKUV0d5Y"
    },
    {
      "cell_type": "markdown",
      "source": [
        "### MRR\n",
        "Исходные данные - результат `generate_subsample` \n",
        "\n",
        "**Задача** - по аналогии с precision написать три версии функции подсчета Mean Reciprocal Rank (naive, numba, pandas) и протестировать на разных размерах выборки\n",
        "- Протестируйте для всех комбинаций (users_count, top_k):\n",
        "  - users_count - [100, 1000, 10000, 100000]\n",
        "  - top_k - [10, 50, 100]\n",
        "- Результатом тестирования должен быть график, где будут отражены следующие показатели:\n",
        "  - Алгоритм - naive, numba, pandas\n",
        "  - Скорость работы (время)\n",
        "  - users_count\n",
        "  - top_k"
      ],
      "metadata": {
        "id": "T6wZXgsH92Q8"
      },
      "id": "T6wZXgsH92Q8"
    },
    {
      "cell_type": "code",
      "source": [],
      "metadata": {
        "id": "SAP8GdMC93jv"
      },
      "id": "SAP8GdMC93jv",
      "execution_count": null,
      "outputs": []
    },
    {
      "cell_type": "code",
      "source": [],
      "metadata": {
        "id": "sYq6JuyZ93m4"
      },
      "id": "sYq6JuyZ93m4",
      "execution_count": null,
      "outputs": []
    },
    {
      "cell_type": "code",
      "source": [],
      "metadata": {
        "id": "WHq4WCr293o-"
      },
      "id": "WHq4WCr293o-",
      "execution_count": null,
      "outputs": []
    },
    {
      "cell_type": "code",
      "source": [],
      "metadata": {
        "id": "9PvQggF793qe"
      },
      "id": "9PvQggF793qe",
      "execution_count": null,
      "outputs": []
    },
    {
      "cell_type": "code",
      "source": [],
      "metadata": {
        "id": "-saDy9tu93sx"
      },
      "id": "-saDy9tu93sx",
      "execution_count": null,
      "outputs": []
    }
  ],
  "metadata": {
    "kernelspec": {
      "display_name": "Practice #2 (py38)",
      "language": "python",
      "name": "practice2"
    },
    "language_info": {
      "codemirror_mode": {
        "name": "ipython",
        "version": 3
      },
      "file_extension": ".py",
      "mimetype": "text/x-python",
      "name": "python",
      "nbconvert_exporter": "python",
      "pygments_lexer": "ipython3",
      "version": "3.8.15"
    },
    "toc": {
      "base_numbering": 1,
      "nav_menu": {},
      "number_sections": true,
      "sideBar": true,
      "skip_h1_title": true,
      "title_cell": "Table of Contents",
      "title_sidebar": "Contents",
      "toc_cell": false,
      "toc_position": {
        "height": "calc(100% - 180px)",
        "left": "10px",
        "top": "150px",
        "width": "221px"
      },
      "toc_section_display": true,
      "toc_window_display": true
    },
    "colab": {
      "provenance": []
    }
  },
  "nbformat": 4,
  "nbformat_minor": 5
}