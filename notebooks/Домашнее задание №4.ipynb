{
 "cells": [
  {
   "cell_type": "code",
   "execution_count": 1,
   "id": "7780d9a2",
   "metadata": {},
   "outputs": [],
   "source": [
    "import warnings\n",
    "warnings.filterwarnings('ignore')"
   ]
  },
  {
   "cell_type": "code",
   "execution_count": 2,
   "id": "e42a5585",
   "metadata": {},
   "outputs": [],
   "source": [
    "import os\n",
    "\n",
    "import pandas as pd\n",
    "import numpy as np\n",
    "\n",
    "from implicit.als import AlternatingLeastSquares\n",
    "\n",
    "from rectools.metrics import Precision, Recall, MAP, calc_metrics\n",
    "from rectools.models import PopularModel, RandomModel, ImplicitALSWrapperModel\n",
    "from rectools import Columns\n",
    "from rectools.dataset import Dataset\n",
    "from rectools.models import ImplicitALSWrapperModel, LightFMWrapperModel\n",
    "\n",
    "import matplotlib.pyplot as plt\n",
    "import seaborn as sns\n",
    "\n",
    "import matplotlib.pyplot as plt\n",
    "from pathlib import Path\n",
    "import typing as tp\n",
    "from tqdm import tqdm\n",
    "\n",
    "from lightfm import LightFM\n",
    "\n",
    "from implicit.bpr import BayesianPersonalizedRanking\n",
    "\n",
    "from implicit.lmf import LogisticMatrixFactorization\n",
    "\n",
    "import optuna"
   ]
  },
  {
   "cell_type": "code",
   "execution_count": 3,
   "id": "8cd36e1a",
   "metadata": {},
   "outputs": [],
   "source": [
    "os.environ['OPENBLAS_NUM_THREADS'] = \"1\""
   ]
  },
  {
   "cell_type": "code",
   "execution_count": 4,
   "id": "4cb722c3",
   "metadata": {},
   "outputs": [],
   "source": [
    "DATA_PATH = Path(\"../data\")"
   ]
  },
  {
   "cell_type": "code",
   "execution_count": 93,
   "id": "8195e56b",
   "metadata": {},
   "outputs": [
    {
     "name": "stdout",
     "output_type": "stream",
     "text": [
      "CPU times: user 2.69 s, sys: 212 ms, total: 2.9 s\n",
      "Wall time: 3.2 s\n"
     ]
    }
   ],
   "source": [
    "%%time\n",
    "users = pd.read_csv(DATA_PATH / 'users.csv')\n",
    "items = pd.read_csv(DATA_PATH / 'items.csv')\n",
    "interactions = pd.read_csv(DATA_PATH / 'interactions.csv')"
   ]
  },
  {
   "cell_type": "code",
   "execution_count": 94,
   "id": "01c2bdef",
   "metadata": {},
   "outputs": [],
   "source": [
    "Columns.Datetime = 'last_watch_dt'"
   ]
  },
  {
   "cell_type": "markdown",
   "id": "00b5584e",
   "metadata": {},
   "source": [
    "# Preprocess Interactions"
   ]
  },
  {
   "cell_type": "code",
   "execution_count": 95,
   "id": "0a3b4b12",
   "metadata": {},
   "outputs": [
    {
     "data": {
      "text/html": [
       "<div>\n",
       "<style scoped>\n",
       "    .dataframe tbody tr th:only-of-type {\n",
       "        vertical-align: middle;\n",
       "    }\n",
       "\n",
       "    .dataframe tbody tr th {\n",
       "        vertical-align: top;\n",
       "    }\n",
       "\n",
       "    .dataframe thead th {\n",
       "        text-align: right;\n",
       "    }\n",
       "</style>\n",
       "<table border=\"1\" class=\"dataframe\">\n",
       "  <thead>\n",
       "    <tr style=\"text-align: right;\">\n",
       "      <th></th>\n",
       "      <th>user_id</th>\n",
       "      <th>item_id</th>\n",
       "      <th>last_watch_dt</th>\n",
       "      <th>total_dur</th>\n",
       "      <th>watched_pct</th>\n",
       "    </tr>\n",
       "  </thead>\n",
       "  <tbody>\n",
       "    <tr>\n",
       "      <th>0</th>\n",
       "      <td>176549</td>\n",
       "      <td>9506</td>\n",
       "      <td>2021-05-11</td>\n",
       "      <td>4250</td>\n",
       "      <td>72.0</td>\n",
       "    </tr>\n",
       "    <tr>\n",
       "      <th>1</th>\n",
       "      <td>699317</td>\n",
       "      <td>1659</td>\n",
       "      <td>2021-05-29</td>\n",
       "      <td>8317</td>\n",
       "      <td>100.0</td>\n",
       "    </tr>\n",
       "    <tr>\n",
       "      <th>2</th>\n",
       "      <td>656683</td>\n",
       "      <td>7107</td>\n",
       "      <td>2021-05-09</td>\n",
       "      <td>10</td>\n",
       "      <td>0.0</td>\n",
       "    </tr>\n",
       "    <tr>\n",
       "      <th>3</th>\n",
       "      <td>864613</td>\n",
       "      <td>7638</td>\n",
       "      <td>2021-07-05</td>\n",
       "      <td>14483</td>\n",
       "      <td>100.0</td>\n",
       "    </tr>\n",
       "    <tr>\n",
       "      <th>4</th>\n",
       "      <td>964868</td>\n",
       "      <td>9506</td>\n",
       "      <td>2021-04-30</td>\n",
       "      <td>6725</td>\n",
       "      <td>100.0</td>\n",
       "    </tr>\n",
       "    <tr>\n",
       "      <th>...</th>\n",
       "      <td>...</td>\n",
       "      <td>...</td>\n",
       "      <td>...</td>\n",
       "      <td>...</td>\n",
       "      <td>...</td>\n",
       "    </tr>\n",
       "    <tr>\n",
       "      <th>5476246</th>\n",
       "      <td>648596</td>\n",
       "      <td>12225</td>\n",
       "      <td>2021-08-13</td>\n",
       "      <td>76</td>\n",
       "      <td>0.0</td>\n",
       "    </tr>\n",
       "    <tr>\n",
       "      <th>5476247</th>\n",
       "      <td>546862</td>\n",
       "      <td>9673</td>\n",
       "      <td>2021-04-13</td>\n",
       "      <td>2308</td>\n",
       "      <td>49.0</td>\n",
       "    </tr>\n",
       "    <tr>\n",
       "      <th>5476248</th>\n",
       "      <td>697262</td>\n",
       "      <td>15297</td>\n",
       "      <td>2021-08-20</td>\n",
       "      <td>18307</td>\n",
       "      <td>63.0</td>\n",
       "    </tr>\n",
       "    <tr>\n",
       "      <th>5476249</th>\n",
       "      <td>384202</td>\n",
       "      <td>16197</td>\n",
       "      <td>2021-04-19</td>\n",
       "      <td>6203</td>\n",
       "      <td>100.0</td>\n",
       "    </tr>\n",
       "    <tr>\n",
       "      <th>5476250</th>\n",
       "      <td>319709</td>\n",
       "      <td>4436</td>\n",
       "      <td>2021-08-15</td>\n",
       "      <td>3921</td>\n",
       "      <td>45.0</td>\n",
       "    </tr>\n",
       "  </tbody>\n",
       "</table>\n",
       "<p>5476251 rows × 5 columns</p>\n",
       "</div>"
      ],
      "text/plain": [
       "         user_id  item_id last_watch_dt  total_dur  watched_pct\n",
       "0         176549     9506    2021-05-11       4250         72.0\n",
       "1         699317     1659    2021-05-29       8317        100.0\n",
       "2         656683     7107    2021-05-09         10          0.0\n",
       "3         864613     7638    2021-07-05      14483        100.0\n",
       "4         964868     9506    2021-04-30       6725        100.0\n",
       "...          ...      ...           ...        ...          ...\n",
       "5476246   648596    12225    2021-08-13         76          0.0\n",
       "5476247   546862     9673    2021-04-13       2308         49.0\n",
       "5476248   697262    15297    2021-08-20      18307         63.0\n",
       "5476249   384202    16197    2021-04-19       6203        100.0\n",
       "5476250   319709     4436    2021-08-15       3921         45.0\n",
       "\n",
       "[5476251 rows x 5 columns]"
      ]
     },
     "execution_count": 95,
     "metadata": {},
     "output_type": "execute_result"
    }
   ],
   "source": [
    "interactions"
   ]
  },
  {
   "cell_type": "code",
   "execution_count": 96,
   "id": "260b1c48",
   "metadata": {},
   "outputs": [
    {
     "data": {
      "text/plain": [
       "user_id            int64\n",
       "item_id            int64\n",
       "last_watch_dt     object\n",
       "total_dur          int64\n",
       "watched_pct      float64\n",
       "dtype: object"
      ]
     },
     "execution_count": 96,
     "metadata": {},
     "output_type": "execute_result"
    }
   ],
   "source": [
    "interactions.dtypes"
   ]
  },
  {
   "cell_type": "code",
   "execution_count": 97,
   "id": "fe2dbc06",
   "metadata": {},
   "outputs": [
    {
     "data": {
      "text/plain": [
       "user_id            0\n",
       "item_id            0\n",
       "last_watch_dt      0\n",
       "total_dur          0\n",
       "watched_pct      828\n",
       "dtype: int64"
      ]
     },
     "execution_count": 97,
     "metadata": {},
     "output_type": "execute_result"
    }
   ],
   "source": [
    "interactions.isna().sum()"
   ]
  },
  {
   "cell_type": "code",
   "execution_count": 98,
   "id": "71f61e81",
   "metadata": {},
   "outputs": [],
   "source": [
    "interactions[Columns.Datetime] = \\\n",
    "    pd.to_datetime(interactions[Columns.Datetime], format='%Y-%m-%d')"
   ]
  },
  {
   "cell_type": "code",
   "execution_count": 99,
   "id": "39646cb5",
   "metadata": {},
   "outputs": [],
   "source": [
    "interactions.dropna(inplace=True)"
   ]
  },
  {
   "cell_type": "code",
   "execution_count": 100,
   "id": "f98ae95d",
   "metadata": {},
   "outputs": [
    {
     "data": {
      "image/png": "[encoded data removed]",
      "text/plain": [
       "<Figure size 432x288 with 1 Axes>"
      ]
     },
     "metadata": {
      "needs_background": "light"
     },
     "output_type": "display_data"
    }
   ],
   "source": [
    "interactions['watched_pct'].hist(bins=20);"
   ]
  },
  {
   "cell_type": "markdown",
   "id": "1a0ad9f8",
   "metadata": {},
   "source": [
    "Делю график просмотра на 5 категорий, где:  \n",
    "от 0% до 20%  = 1,  \n",
    "от 21% до 40% = 2,  \n",
    "... ,  \n",
    "от 80% до 100% = 5"
   ]
  },
  {
   "cell_type": "code",
   "execution_count": 101,
   "id": "1424e744",
   "metadata": {},
   "outputs": [],
   "source": [
    "interactions[Columns.Weight] = np.where(interactions['watched_pct']\n",
    "        > 20, 2, 1)\n",
    "interactions[Columns.Weight].mask(interactions['watched_pct'] > 40, 3,\n",
    "                                  inplace=True)\n",
    "interactions[Columns.Weight].mask(interactions['watched_pct'] > 60, 4,\n",
    "                                  inplace=True)\n",
    "interactions[Columns.Weight].mask(interactions['watched_pct'] > 80, 5,\n",
    "                                  inplace=True)"
   ]
  },
  {
   "cell_type": "code",
   "execution_count": 102,
   "id": "052d2fb0",
   "metadata": {},
   "outputs": [
    {
     "data": {
      "text/plain": [
       "<AxesSubplot:>"
      ]
     },
     "execution_count": 102,
     "metadata": {},
     "output_type": "execute_result"
    },
    {
     "data": {
      "image/png": "[encoded data removed]",
      "text/plain": [
       "<Figure size 432x288 with 1 Axes>"
      ]
     },
     "metadata": {
      "needs_background": "light"
     },
     "output_type": "display_data"
    }
   ],
   "source": [
    "interactions[Columns.Datetime].hist(bins=20)"
   ]
  },
  {
   "cell_type": "markdown",
   "id": "5adb80ee",
   "metadata": {},
   "source": [
    "Вообще, видно, что кол-во пользователей растет"
   ]
  },
  {
   "cell_type": "code",
   "execution_count": 103,
   "id": "0fbd2bbc",
   "metadata": {},
   "outputs": [],
   "source": [
    "cold_users = \\\n",
    "    interactions[Columns.User].value_counts()[interactions[Columns.User].value_counts()\n",
    "        == 1].index"
   ]
  },
  {
   "cell_type": "code",
   "execution_count": 104,
   "id": "150e1593",
   "metadata": {},
   "outputs": [
    {
     "data": {
      "text/plain": [
       "<AxesSubplot:>"
      ]
     },
     "execution_count": 104,
     "metadata": {},
     "output_type": "execute_result"
    },
    {
     "data": {
      "image/png": "[encoded data removed]",
      "text/plain": [
       "<Figure size 432x288 with 1 Axes>"
      ]
     },
     "metadata": {
      "needs_background": "light"
     },
     "output_type": "display_data"
    }
   ],
   "source": [
    "interactions[interactions[Columns.User].isin(cold_users)]['watched_pct'\n",
    "        ].hist(bins=20)"
   ]
  },
  {
   "cell_type": "markdown",
   "id": "b5fa83eb",
   "metadata": {},
   "source": [
    "Для холодных пользователей, я бы рекомендовал айтемы с самый высоким просмотром в среднем по холодным пользователям"
   ]
  },
  {
   "cell_type": "code",
   "execution_count": 105,
   "id": "cca06e3f",
   "metadata": {},
   "outputs": [
    {
     "data": {
      "text/html": [
       "<div>\n",
       "<style scoped>\n",
       "    .dataframe tbody tr th:only-of-type {\n",
       "        vertical-align: middle;\n",
       "    }\n",
       "\n",
       "    .dataframe tbody tr th {\n",
       "        vertical-align: top;\n",
       "    }\n",
       "\n",
       "    .dataframe thead th {\n",
       "        text-align: right;\n",
       "    }\n",
       "</style>\n",
       "<table border=\"1\" class=\"dataframe\">\n",
       "  <thead>\n",
       "    <tr style=\"text-align: right;\">\n",
       "      <th></th>\n",
       "      <th>user_id</th>\n",
       "      <th>item_id</th>\n",
       "      <th>last_watch_dt</th>\n",
       "      <th>total_dur</th>\n",
       "      <th>watched_pct</th>\n",
       "      <th>weight</th>\n",
       "    </tr>\n",
       "  </thead>\n",
       "  <tbody>\n",
       "    <tr>\n",
       "      <th>10</th>\n",
       "      <td>791466</td>\n",
       "      <td>8199</td>\n",
       "      <td>2021-07-27</td>\n",
       "      <td>713</td>\n",
       "      <td>9.0</td>\n",
       "      <td>1</td>\n",
       "    </tr>\n",
       "    <tr>\n",
       "      <th>26</th>\n",
       "      <td>181144</td>\n",
       "      <td>10440</td>\n",
       "      <td>2021-08-08</td>\n",
       "      <td>27408</td>\n",
       "      <td>40.0</td>\n",
       "      <td>2</td>\n",
       "    </tr>\n",
       "    <tr>\n",
       "      <th>37</th>\n",
       "      <td>161176</td>\n",
       "      <td>10440</td>\n",
       "      <td>2021-07-29</td>\n",
       "      <td>22</td>\n",
       "      <td>0.0</td>\n",
       "      <td>1</td>\n",
       "    </tr>\n",
       "    <tr>\n",
       "      <th>38</th>\n",
       "      <td>21723</td>\n",
       "      <td>1819</td>\n",
       "      <td>2021-04-11</td>\n",
       "      <td>8535</td>\n",
       "      <td>100.0</td>\n",
       "      <td>5</td>\n",
       "    </tr>\n",
       "    <tr>\n",
       "      <th>60</th>\n",
       "      <td>77216</td>\n",
       "      <td>8143</td>\n",
       "      <td>2021-05-08</td>\n",
       "      <td>660</td>\n",
       "      <td>11.0</td>\n",
       "      <td>1</td>\n",
       "    </tr>\n",
       "    <tr>\n",
       "      <th>...</th>\n",
       "      <td>...</td>\n",
       "      <td>...</td>\n",
       "      <td>...</td>\n",
       "      <td>...</td>\n",
       "      <td>...</td>\n",
       "      <td>...</td>\n",
       "    </tr>\n",
       "    <tr>\n",
       "      <th>5476222</th>\n",
       "      <td>1007900</td>\n",
       "      <td>9728</td>\n",
       "      <td>2021-08-12</td>\n",
       "      <td>416</td>\n",
       "      <td>6.0</td>\n",
       "      <td>1</td>\n",
       "    </tr>\n",
       "    <tr>\n",
       "      <th>5476225</th>\n",
       "      <td>882138</td>\n",
       "      <td>4716</td>\n",
       "      <td>2021-05-21</td>\n",
       "      <td>1594</td>\n",
       "      <td>2.0</td>\n",
       "      <td>1</td>\n",
       "    </tr>\n",
       "    <tr>\n",
       "      <th>5476238</th>\n",
       "      <td>805174</td>\n",
       "      <td>13125</td>\n",
       "      <td>2021-06-27</td>\n",
       "      <td>1</td>\n",
       "      <td>0.0</td>\n",
       "      <td>1</td>\n",
       "    </tr>\n",
       "    <tr>\n",
       "      <th>5476246</th>\n",
       "      <td>648596</td>\n",
       "      <td>12225</td>\n",
       "      <td>2021-08-13</td>\n",
       "      <td>76</td>\n",
       "      <td>0.0</td>\n",
       "      <td>1</td>\n",
       "    </tr>\n",
       "    <tr>\n",
       "      <th>5476248</th>\n",
       "      <td>697262</td>\n",
       "      <td>15297</td>\n",
       "      <td>2021-08-20</td>\n",
       "      <td>18307</td>\n",
       "      <td>63.0</td>\n",
       "      <td>4</td>\n",
       "    </tr>\n",
       "  </tbody>\n",
       "</table>\n",
       "<p>355162 rows × 6 columns</p>\n",
       "</div>"
      ],
      "text/plain": [
       "         user_id  item_id last_watch_dt  total_dur  watched_pct  weight\n",
       "10        791466     8199    2021-07-27        713          9.0       1\n",
       "26        181144    10440    2021-08-08      27408         40.0       2\n",
       "37        161176    10440    2021-07-29         22          0.0       1\n",
       "38         21723     1819    2021-04-11       8535        100.0       5\n",
       "60         77216     8143    2021-05-08        660         11.0       1\n",
       "...          ...      ...           ...        ...          ...     ...\n",
       "5476222  1007900     9728    2021-08-12        416          6.0       1\n",
       "5476225   882138     4716    2021-05-21       1594          2.0       1\n",
       "5476238   805174    13125    2021-06-27          1          0.0       1\n",
       "5476246   648596    12225    2021-08-13         76          0.0       1\n",
       "5476248   697262    15297    2021-08-20      18307         63.0       4\n",
       "\n",
       "[355162 rows x 6 columns]"
      ]
     },
     "execution_count": 105,
     "metadata": {},
     "output_type": "execute_result"
    }
   ],
   "source": [
    "cold_users = interactions[interactions[Columns.User].isin(cold_users)]\n",
    "hot_users = interactions[~interactions[Columns.User].isin(cold_users)]\n",
    "cold_users"
   ]
  },
  {
   "cell_type": "code",
   "execution_count": 106,
   "id": "a691676f",
   "metadata": {},
   "outputs": [
    {
     "data": {
      "text/html": [
       "<div>\n",
       "<style scoped>\n",
       "    .dataframe tbody tr th:only-of-type {\n",
       "        vertical-align: middle;\n",
       "    }\n",
       "\n",
       "    .dataframe tbody tr th {\n",
       "        vertical-align: top;\n",
       "    }\n",
       "\n",
       "    .dataframe thead th {\n",
       "        text-align: right;\n",
       "    }\n",
       "</style>\n",
       "<table border=\"1\" class=\"dataframe\">\n",
       "  <thead>\n",
       "    <tr style=\"text-align: right;\">\n",
       "      <th></th>\n",
       "      <th>user_id</th>\n",
       "      <th>item_id</th>\n",
       "      <th>last_watch_dt</th>\n",
       "      <th>total_dur</th>\n",
       "      <th>watched_pct</th>\n",
       "      <th>weight</th>\n",
       "    </tr>\n",
       "  </thead>\n",
       "  <tbody>\n",
       "    <tr>\n",
       "      <th>0</th>\n",
       "      <td>176549</td>\n",
       "      <td>9506</td>\n",
       "      <td>2021-05-11</td>\n",
       "      <td>4250</td>\n",
       "      <td>72.0</td>\n",
       "      <td>4</td>\n",
       "    </tr>\n",
       "    <tr>\n",
       "      <th>1</th>\n",
       "      <td>699317</td>\n",
       "      <td>1659</td>\n",
       "      <td>2021-05-29</td>\n",
       "      <td>8317</td>\n",
       "      <td>100.0</td>\n",
       "      <td>5</td>\n",
       "    </tr>\n",
       "    <tr>\n",
       "      <th>2</th>\n",
       "      <td>656683</td>\n",
       "      <td>7107</td>\n",
       "      <td>2021-05-09</td>\n",
       "      <td>10</td>\n",
       "      <td>0.0</td>\n",
       "      <td>1</td>\n",
       "    </tr>\n",
       "    <tr>\n",
       "      <th>3</th>\n",
       "      <td>864613</td>\n",
       "      <td>7638</td>\n",
       "      <td>2021-07-05</td>\n",
       "      <td>14483</td>\n",
       "      <td>100.0</td>\n",
       "      <td>5</td>\n",
       "    </tr>\n",
       "    <tr>\n",
       "      <th>4</th>\n",
       "      <td>964868</td>\n",
       "      <td>9506</td>\n",
       "      <td>2021-04-30</td>\n",
       "      <td>6725</td>\n",
       "      <td>100.0</td>\n",
       "      <td>5</td>\n",
       "    </tr>\n",
       "    <tr>\n",
       "      <th>...</th>\n",
       "      <td>...</td>\n",
       "      <td>...</td>\n",
       "      <td>...</td>\n",
       "      <td>...</td>\n",
       "      <td>...</td>\n",
       "      <td>...</td>\n",
       "    </tr>\n",
       "    <tr>\n",
       "      <th>5476246</th>\n",
       "      <td>648596</td>\n",
       "      <td>12225</td>\n",
       "      <td>2021-08-13</td>\n",
       "      <td>76</td>\n",
       "      <td>0.0</td>\n",
       "      <td>1</td>\n",
       "    </tr>\n",
       "    <tr>\n",
       "      <th>5476247</th>\n",
       "      <td>546862</td>\n",
       "      <td>9673</td>\n",
       "      <td>2021-04-13</td>\n",
       "      <td>2308</td>\n",
       "      <td>49.0</td>\n",
       "      <td>3</td>\n",
       "    </tr>\n",
       "    <tr>\n",
       "      <th>5476248</th>\n",
       "      <td>697262</td>\n",
       "      <td>15297</td>\n",
       "      <td>2021-08-20</td>\n",
       "      <td>18307</td>\n",
       "      <td>63.0</td>\n",
       "      <td>4</td>\n",
       "    </tr>\n",
       "    <tr>\n",
       "      <th>5476249</th>\n",
       "      <td>384202</td>\n",
       "      <td>16197</td>\n",
       "      <td>2021-04-19</td>\n",
       "      <td>6203</td>\n",
       "      <td>100.0</td>\n",
       "      <td>5</td>\n",
       "    </tr>\n",
       "    <tr>\n",
       "      <th>5476250</th>\n",
       "      <td>319709</td>\n",
       "      <td>4436</td>\n",
       "      <td>2021-08-15</td>\n",
       "      <td>3921</td>\n",
       "      <td>45.0</td>\n",
       "      <td>3</td>\n",
       "    </tr>\n",
       "  </tbody>\n",
       "</table>\n",
       "<p>5475423 rows × 6 columns</p>\n",
       "</div>"
      ],
      "text/plain": [
       "         user_id  item_id last_watch_dt  total_dur  watched_pct  weight\n",
       "0         176549     9506    2021-05-11       4250         72.0       4\n",
       "1         699317     1659    2021-05-29       8317        100.0       5\n",
       "2         656683     7107    2021-05-09         10          0.0       1\n",
       "3         864613     7638    2021-07-05      14483        100.0       5\n",
       "4         964868     9506    2021-04-30       6725        100.0       5\n",
       "...          ...      ...           ...        ...          ...     ...\n",
       "5476246   648596    12225    2021-08-13         76          0.0       1\n",
       "5476247   546862     9673    2021-04-13       2308         49.0       3\n",
       "5476248   697262    15297    2021-08-20      18307         63.0       4\n",
       "5476249   384202    16197    2021-04-19       6203        100.0       5\n",
       "5476250   319709     4436    2021-08-15       3921         45.0       3\n",
       "\n",
       "[5475423 rows x 6 columns]"
      ]
     },
     "execution_count": 106,
     "metadata": {},
     "output_type": "execute_result"
    }
   ],
   "source": [
    "hot_users"
   ]
  },
  {
   "cell_type": "code",
   "execution_count": 107,
   "id": "a64701c2",
   "metadata": {},
   "outputs": [
    {
     "data": {
      "text/html": [
       "<div>\n",
       "<style scoped>\n",
       "    .dataframe tbody tr th:only-of-type {\n",
       "        vertical-align: middle;\n",
       "    }\n",
       "\n",
       "    .dataframe tbody tr th {\n",
       "        vertical-align: top;\n",
       "    }\n",
       "\n",
       "    .dataframe thead th {\n",
       "        text-align: right;\n",
       "    }\n",
       "</style>\n",
       "<table border=\"1\" class=\"dataframe\">\n",
       "  <thead>\n",
       "    <tr style=\"text-align: right;\">\n",
       "      <th></th>\n",
       "      <th>item_id</th>\n",
       "    </tr>\n",
       "  </thead>\n",
       "  <tbody>\n",
       "    <tr>\n",
       "      <th>10440</th>\n",
       "      <td>45695</td>\n",
       "    </tr>\n",
       "    <tr>\n",
       "      <th>15297</th>\n",
       "      <td>39309</td>\n",
       "    </tr>\n",
       "    <tr>\n",
       "      <th>2657</th>\n",
       "      <td>20474</td>\n",
       "    </tr>\n",
       "    <tr>\n",
       "      <th>9728</th>\n",
       "      <td>15140</td>\n",
       "    </tr>\n",
       "    <tr>\n",
       "      <th>4740</th>\n",
       "      <td>11455</td>\n",
       "    </tr>\n",
       "    <tr>\n",
       "      <th>...</th>\n",
       "      <td>...</td>\n",
       "    </tr>\n",
       "    <tr>\n",
       "      <th>1946</th>\n",
       "      <td>1</td>\n",
       "    </tr>\n",
       "    <tr>\n",
       "      <th>13886</th>\n",
       "      <td>1</td>\n",
       "    </tr>\n",
       "    <tr>\n",
       "      <th>14090</th>\n",
       "      <td>1</td>\n",
       "    </tr>\n",
       "    <tr>\n",
       "      <th>5730</th>\n",
       "      <td>1</td>\n",
       "    </tr>\n",
       "    <tr>\n",
       "      <th>13125</th>\n",
       "      <td>1</td>\n",
       "    </tr>\n",
       "  </tbody>\n",
       "</table>\n",
       "<p>6440 rows × 1 columns</p>\n",
       "</div>"
      ],
      "text/plain": [
       "       item_id\n",
       "10440    45695\n",
       "15297    39309\n",
       "2657     20474\n",
       "9728     15140\n",
       "4740     11455\n",
       "...        ...\n",
       "1946         1\n",
       "13886        1\n",
       "14090        1\n",
       "5730         1\n",
       "13125        1\n",
       "\n",
       "[6440 rows x 1 columns]"
      ]
     },
     "execution_count": 107,
     "metadata": {},
     "output_type": "execute_result"
    }
   ],
   "source": [
    "cold_users['item_id'].value_counts().to_frame()"
   ]
  },
  {
   "cell_type": "code",
   "execution_count": 108,
   "id": "cef9cfa6",
   "metadata": {},
   "outputs": [
    {
     "data": {
      "text/plain": [
       "Int64Index([609, 4895, 3825, 5069, 14092, 12593, 7142, 2271, 13673, 11566], dtype='int64', name='item_id')"
      ]
     },
     "execution_count": 108,
     "metadata": {},
     "output_type": "execute_result"
    }
   ],
   "source": [
    "cold_users[['item_id', 'total_dur']].groupby('item_id').mean().sort_values(by='total_dur', ascending=False).head(10).index"
   ]
  },
  {
   "cell_type": "markdown",
   "id": "a52f311b",
   "metadata": {},
   "source": [
    "# Делим на train и test"
   ]
  },
  {
   "cell_type": "code",
   "execution_count": 109,
   "id": "bd68d3fe",
   "metadata": {},
   "outputs": [],
   "source": [
    "max_date = interactions[Columns.Datetime].max()"
   ]
  },
  {
   "cell_type": "code",
   "execution_count": 110,
   "id": "3092fe4b",
   "metadata": {},
   "outputs": [
    {
     "name": "stdout",
     "output_type": "stream",
     "text": [
      "train: (4984443, 6)\n",
      "test: (490980, 6)\n"
     ]
    }
   ],
   "source": [
    "train = interactions[interactions[Columns.Datetime] < max_date\n",
    "                     - pd.Timedelta(days=7)].copy()\n",
    "test = interactions[interactions[Columns.Datetime] >= max_date\n",
    "                    - pd.Timedelta(days=7)].copy()\n",
    "\n",
    "print(f\"train: {train.shape}\")\n",
    "print(f\"test: {test.shape}\")"
   ]
  },
  {
   "cell_type": "code",
   "execution_count": 111,
   "id": "ec286bdc",
   "metadata": {},
   "outputs": [],
   "source": [
    "train.drop(train.query(\"total_dur < 300\").index, inplace=True)"
   ]
  },
  {
   "cell_type": "code",
   "execution_count": 112,
   "id": "52241fed",
   "metadata": {},
   "outputs": [],
   "source": [
    "drop_user = set(test[Columns.User]) - set(train[Columns.User])\n",
    "test.drop(test[test[Columns.User].isin(drop_user)].index, inplace=True)"
   ]
  },
  {
   "cell_type": "markdown",
   "id": "b5eec6da",
   "metadata": {},
   "source": [
    "# User preprocess"
   ]
  },
  {
   "cell_type": "code",
   "execution_count": 113,
   "id": "c57e2b2f",
   "metadata": {},
   "outputs": [
    {
     "data": {
      "text/html": [
       "<div>\n",
       "<style scoped>\n",
       "    .dataframe tbody tr th:only-of-type {\n",
       "        vertical-align: middle;\n",
       "    }\n",
       "\n",
       "    .dataframe tbody tr th {\n",
       "        vertical-align: top;\n",
       "    }\n",
       "\n",
       "    .dataframe thead th {\n",
       "        text-align: right;\n",
       "    }\n",
       "</style>\n",
       "<table border=\"1\" class=\"dataframe\">\n",
       "  <thead>\n",
       "    <tr style=\"text-align: right;\">\n",
       "      <th></th>\n",
       "      <th>user_id</th>\n",
       "      <th>age</th>\n",
       "      <th>income</th>\n",
       "      <th>sex</th>\n",
       "      <th>kids_flg</th>\n",
       "    </tr>\n",
       "  </thead>\n",
       "  <tbody>\n",
       "    <tr>\n",
       "      <th>0</th>\n",
       "      <td>973171</td>\n",
       "      <td>age_25_34</td>\n",
       "      <td>income_60_90</td>\n",
       "      <td>М</td>\n",
       "      <td>1</td>\n",
       "    </tr>\n",
       "    <tr>\n",
       "      <th>1</th>\n",
       "      <td>962099</td>\n",
       "      <td>age_18_24</td>\n",
       "      <td>income_20_40</td>\n",
       "      <td>М</td>\n",
       "      <td>0</td>\n",
       "    </tr>\n",
       "    <tr>\n",
       "      <th>2</th>\n",
       "      <td>1047345</td>\n",
       "      <td>age_45_54</td>\n",
       "      <td>income_40_60</td>\n",
       "      <td>Ж</td>\n",
       "      <td>0</td>\n",
       "    </tr>\n",
       "    <tr>\n",
       "      <th>3</th>\n",
       "      <td>721985</td>\n",
       "      <td>age_45_54</td>\n",
       "      <td>income_20_40</td>\n",
       "      <td>Ж</td>\n",
       "      <td>0</td>\n",
       "    </tr>\n",
       "    <tr>\n",
       "      <th>4</th>\n",
       "      <td>704055</td>\n",
       "      <td>age_35_44</td>\n",
       "      <td>income_60_90</td>\n",
       "      <td>Ж</td>\n",
       "      <td>0</td>\n",
       "    </tr>\n",
       "    <tr>\n",
       "      <th>...</th>\n",
       "      <td>...</td>\n",
       "      <td>...</td>\n",
       "      <td>...</td>\n",
       "      <td>...</td>\n",
       "      <td>...</td>\n",
       "    </tr>\n",
       "    <tr>\n",
       "      <th>840192</th>\n",
       "      <td>339025</td>\n",
       "      <td>age_65_inf</td>\n",
       "      <td>income_0_20</td>\n",
       "      <td>Ж</td>\n",
       "      <td>0</td>\n",
       "    </tr>\n",
       "    <tr>\n",
       "      <th>840193</th>\n",
       "      <td>983617</td>\n",
       "      <td>age_18_24</td>\n",
       "      <td>income_20_40</td>\n",
       "      <td>Ж</td>\n",
       "      <td>1</td>\n",
       "    </tr>\n",
       "    <tr>\n",
       "      <th>840194</th>\n",
       "      <td>251008</td>\n",
       "      <td>NaN</td>\n",
       "      <td>NaN</td>\n",
       "      <td>NaN</td>\n",
       "      <td>0</td>\n",
       "    </tr>\n",
       "    <tr>\n",
       "      <th>840195</th>\n",
       "      <td>590706</td>\n",
       "      <td>NaN</td>\n",
       "      <td>NaN</td>\n",
       "      <td>Ж</td>\n",
       "      <td>0</td>\n",
       "    </tr>\n",
       "    <tr>\n",
       "      <th>840196</th>\n",
       "      <td>166555</td>\n",
       "      <td>age_65_inf</td>\n",
       "      <td>income_20_40</td>\n",
       "      <td>Ж</td>\n",
       "      <td>0</td>\n",
       "    </tr>\n",
       "  </tbody>\n",
       "</table>\n",
       "<p>840197 rows × 5 columns</p>\n",
       "</div>"
      ],
      "text/plain": [
       "        user_id         age        income  sex  kids_flg\n",
       "0        973171   age_25_34  income_60_90    М         1\n",
       "1        962099   age_18_24  income_20_40    М         0\n",
       "2       1047345   age_45_54  income_40_60    Ж         0\n",
       "3        721985   age_45_54  income_20_40    Ж         0\n",
       "4        704055   age_35_44  income_60_90    Ж         0\n",
       "...         ...         ...           ...  ...       ...\n",
       "840192   339025  age_65_inf   income_0_20    Ж         0\n",
       "840193   983617   age_18_24  income_20_40    Ж         1\n",
       "840194   251008         NaN           NaN  NaN         0\n",
       "840195   590706         NaN           NaN    Ж         0\n",
       "840196   166555  age_65_inf  income_20_40    Ж         0\n",
       "\n",
       "[840197 rows x 5 columns]"
      ]
     },
     "execution_count": 113,
     "metadata": {},
     "output_type": "execute_result"
    }
   ],
   "source": [
    "users"
   ]
  },
  {
   "cell_type": "code",
   "execution_count": 114,
   "id": "24cc138a",
   "metadata": {},
   "outputs": [],
   "source": [
    "users = users.loc[users[Columns.User].isin(train[Columns.User])].copy()"
   ]
  },
  {
   "cell_type": "code",
   "execution_count": 115,
   "id": "6e5e2d92",
   "metadata": {},
   "outputs": [
    {
     "data": {
      "text/html": [
       "<div>\n",
       "<style scoped>\n",
       "    .dataframe tbody tr th:only-of-type {\n",
       "        vertical-align: middle;\n",
       "    }\n",
       "\n",
       "    .dataframe tbody tr th {\n",
       "        vertical-align: top;\n",
       "    }\n",
       "\n",
       "    .dataframe thead th {\n",
       "        text-align: right;\n",
       "    }\n",
       "</style>\n",
       "<table border=\"1\" class=\"dataframe\">\n",
       "  <thead>\n",
       "    <tr style=\"text-align: right;\">\n",
       "      <th></th>\n",
       "      <th>user_id</th>\n",
       "      <th>age</th>\n",
       "      <th>income</th>\n",
       "      <th>sex</th>\n",
       "      <th>kids_flg</th>\n",
       "    </tr>\n",
       "  </thead>\n",
       "  <tbody>\n",
       "    <tr>\n",
       "      <th>0</th>\n",
       "      <td>973171</td>\n",
       "      <td>age_25_34</td>\n",
       "      <td>income_60_90</td>\n",
       "      <td>М</td>\n",
       "      <td>1</td>\n",
       "    </tr>\n",
       "    <tr>\n",
       "      <th>1</th>\n",
       "      <td>962099</td>\n",
       "      <td>age_18_24</td>\n",
       "      <td>income_20_40</td>\n",
       "      <td>М</td>\n",
       "      <td>0</td>\n",
       "    </tr>\n",
       "    <tr>\n",
       "      <th>3</th>\n",
       "      <td>721985</td>\n",
       "      <td>age_45_54</td>\n",
       "      <td>income_20_40</td>\n",
       "      <td>Ж</td>\n",
       "      <td>0</td>\n",
       "    </tr>\n",
       "    <tr>\n",
       "      <th>4</th>\n",
       "      <td>704055</td>\n",
       "      <td>age_35_44</td>\n",
       "      <td>income_60_90</td>\n",
       "      <td>Ж</td>\n",
       "      <td>0</td>\n",
       "    </tr>\n",
       "    <tr>\n",
       "      <th>5</th>\n",
       "      <td>1037719</td>\n",
       "      <td>age_45_54</td>\n",
       "      <td>income_60_90</td>\n",
       "      <td>М</td>\n",
       "      <td>0</td>\n",
       "    </tr>\n",
       "    <tr>\n",
       "      <th>...</th>\n",
       "      <td>...</td>\n",
       "      <td>...</td>\n",
       "      <td>...</td>\n",
       "      <td>...</td>\n",
       "      <td>...</td>\n",
       "    </tr>\n",
       "    <tr>\n",
       "      <th>840184</th>\n",
       "      <td>529394</td>\n",
       "      <td>age_25_34</td>\n",
       "      <td>income_40_60</td>\n",
       "      <td>Ж</td>\n",
       "      <td>0</td>\n",
       "    </tr>\n",
       "    <tr>\n",
       "      <th>840186</th>\n",
       "      <td>80113</td>\n",
       "      <td>age_25_34</td>\n",
       "      <td>income_40_60</td>\n",
       "      <td>Ж</td>\n",
       "      <td>0</td>\n",
       "    </tr>\n",
       "    <tr>\n",
       "      <th>840188</th>\n",
       "      <td>312839</td>\n",
       "      <td>age_65_inf</td>\n",
       "      <td>income_60_90</td>\n",
       "      <td>Ж</td>\n",
       "      <td>0</td>\n",
       "    </tr>\n",
       "    <tr>\n",
       "      <th>840189</th>\n",
       "      <td>191349</td>\n",
       "      <td>age_45_54</td>\n",
       "      <td>income_40_60</td>\n",
       "      <td>М</td>\n",
       "      <td>1</td>\n",
       "    </tr>\n",
       "    <tr>\n",
       "      <th>840190</th>\n",
       "      <td>393868</td>\n",
       "      <td>age_25_34</td>\n",
       "      <td>income_20_40</td>\n",
       "      <td>М</td>\n",
       "      <td>0</td>\n",
       "    </tr>\n",
       "  </tbody>\n",
       "</table>\n",
       "<p>586653 rows × 5 columns</p>\n",
       "</div>"
      ],
      "text/plain": [
       "        user_id         age        income sex  kids_flg\n",
       "0        973171   age_25_34  income_60_90   М         1\n",
       "1        962099   age_18_24  income_20_40   М         0\n",
       "3        721985   age_45_54  income_20_40   Ж         0\n",
       "4        704055   age_35_44  income_60_90   Ж         0\n",
       "5       1037719   age_45_54  income_60_90   М         0\n",
       "...         ...         ...           ...  ..       ...\n",
       "840184   529394   age_25_34  income_40_60   Ж         0\n",
       "840186    80113   age_25_34  income_40_60   Ж         0\n",
       "840188   312839  age_65_inf  income_60_90   Ж         0\n",
       "840189   191349   age_45_54  income_40_60   М         1\n",
       "840190   393868   age_25_34  income_20_40   М         0\n",
       "\n",
       "[586653 rows x 5 columns]"
      ]
     },
     "execution_count": 115,
     "metadata": {},
     "output_type": "execute_result"
    }
   ],
   "source": [
    "users"
   ]
  },
  {
   "cell_type": "markdown",
   "id": "c7f9a6e7",
   "metadata": {},
   "source": [
    "Заменяю Nan'ы на Unknown"
   ]
  },
  {
   "cell_type": "code",
   "execution_count": 116,
   "id": "1286eb60",
   "metadata": {},
   "outputs": [],
   "source": [
    "users.fillna('Unknown', inplace=True)"
   ]
  },
  {
   "cell_type": "code",
   "execution_count": 117,
   "id": "1ccccf0f",
   "metadata": {},
   "outputs": [
    {
     "data": {
      "text/html": [
       "<div>\n",
       "<style scoped>\n",
       "    .dataframe tbody tr th:only-of-type {\n",
       "        vertical-align: middle;\n",
       "    }\n",
       "\n",
       "    .dataframe tbody tr th {\n",
       "        vertical-align: top;\n",
       "    }\n",
       "\n",
       "    .dataframe thead th {\n",
       "        text-align: right;\n",
       "    }\n",
       "</style>\n",
       "<table border=\"1\" class=\"dataframe\">\n",
       "  <thead>\n",
       "    <tr style=\"text-align: right;\">\n",
       "      <th></th>\n",
       "      <th>id</th>\n",
       "      <th>value</th>\n",
       "      <th>feature</th>\n",
       "    </tr>\n",
       "  </thead>\n",
       "  <tbody>\n",
       "    <tr>\n",
       "      <th>0</th>\n",
       "      <td>973171</td>\n",
       "      <td>М</td>\n",
       "      <td>sex</td>\n",
       "    </tr>\n",
       "    <tr>\n",
       "      <th>1</th>\n",
       "      <td>962099</td>\n",
       "      <td>М</td>\n",
       "      <td>sex</td>\n",
       "    </tr>\n",
       "    <tr>\n",
       "      <th>3</th>\n",
       "      <td>721985</td>\n",
       "      <td>Ж</td>\n",
       "      <td>sex</td>\n",
       "    </tr>\n",
       "    <tr>\n",
       "      <th>4</th>\n",
       "      <td>704055</td>\n",
       "      <td>Ж</td>\n",
       "      <td>sex</td>\n",
       "    </tr>\n",
       "    <tr>\n",
       "      <th>5</th>\n",
       "      <td>1037719</td>\n",
       "      <td>М</td>\n",
       "      <td>sex</td>\n",
       "    </tr>\n",
       "  </tbody>\n",
       "</table>\n",
       "</div>"
      ],
      "text/plain": [
       "        id value feature\n",
       "0   973171     М     sex\n",
       "1   962099     М     sex\n",
       "3   721985     Ж     sex\n",
       "4   704055     Ж     sex\n",
       "5  1037719     М     sex"
      ]
     },
     "execution_count": 117,
     "metadata": {},
     "output_type": "execute_result"
    }
   ],
   "source": [
    "user_features_frames = []\n",
    "for feature in ['sex', 'age', 'income']:\n",
    "    feature_frame = users.reindex(columns=[Columns.User, feature])\n",
    "    feature_frame.columns = ['id', 'value']\n",
    "    feature_frame['feature'] = feature\n",
    "    user_features_frames.append(feature_frame)\n",
    "user_features = pd.concat(user_features_frames)\n",
    "user_features.head()"
   ]
  },
  {
   "cell_type": "markdown",
   "id": "b9220b0b",
   "metadata": {},
   "source": [
    "# Item preprocess"
   ]
  },
  {
   "cell_type": "code",
   "execution_count": 118,
   "id": "8bbe9ee4",
   "metadata": {},
   "outputs": [
    {
     "data": {
      "text/html": [
       "<div>\n",
       "<style scoped>\n",
       "    .dataframe tbody tr th:only-of-type {\n",
       "        vertical-align: middle;\n",
       "    }\n",
       "\n",
       "    .dataframe tbody tr th {\n",
       "        vertical-align: top;\n",
       "    }\n",
       "\n",
       "    .dataframe thead th {\n",
       "        text-align: right;\n",
       "    }\n",
       "</style>\n",
       "<table border=\"1\" class=\"dataframe\">\n",
       "  <thead>\n",
       "    <tr style=\"text-align: right;\">\n",
       "      <th></th>\n",
       "      <th>item_id</th>\n",
       "      <th>content_type</th>\n",
       "      <th>title</th>\n",
       "      <th>title_orig</th>\n",
       "      <th>release_year</th>\n",
       "      <th>genres</th>\n",
       "      <th>countries</th>\n",
       "      <th>for_kids</th>\n",
       "      <th>age_rating</th>\n",
       "      <th>studios</th>\n",
       "      <th>directors</th>\n",
       "      <th>actors</th>\n",
       "      <th>description</th>\n",
       "      <th>keywords</th>\n",
       "    </tr>\n",
       "  </thead>\n",
       "  <tbody>\n",
       "    <tr>\n",
       "      <th>0</th>\n",
       "      <td>10711</td>\n",
       "      <td>film</td>\n",
       "      <td>Поговори с ней</td>\n",
       "      <td>Hable con ella</td>\n",
       "      <td>2002.0</td>\n",
       "      <td>драмы, зарубежные, детективы, мелодрамы</td>\n",
       "      <td>Испания</td>\n",
       "      <td>NaN</td>\n",
       "      <td>16.0</td>\n",
       "      <td>NaN</td>\n",
       "      <td>Педро Альмодовар</td>\n",
       "      <td>Адольфо Фернандес, Ана Фернандес, Дарио Гранди...</td>\n",
       "      <td>Мелодрама легендарного Педро Альмодовара «Пого...</td>\n",
       "      <td>Поговори, ней, 2002, Испания, друзья, любовь, ...</td>\n",
       "    </tr>\n",
       "    <tr>\n",
       "      <th>1</th>\n",
       "      <td>2508</td>\n",
       "      <td>film</td>\n",
       "      <td>Голые перцы</td>\n",
       "      <td>Search Party</td>\n",
       "      <td>2014.0</td>\n",
       "      <td>зарубежные, приключения, комедии</td>\n",
       "      <td>США</td>\n",
       "      <td>NaN</td>\n",
       "      <td>16.0</td>\n",
       "      <td>NaN</td>\n",
       "      <td>Скот Армстронг</td>\n",
       "      <td>Адам Палли, Брайан Хаски, Дж.Б. Смув, Джейсон ...</td>\n",
       "      <td>Уморительная современная комедия на популярную...</td>\n",
       "      <td>Голые, перцы, 2014, США, друзья, свадьбы, прео...</td>\n",
       "    </tr>\n",
       "    <tr>\n",
       "      <th>2</th>\n",
       "      <td>10716</td>\n",
       "      <td>film</td>\n",
       "      <td>Тактическая сила</td>\n",
       "      <td>Tactical Force</td>\n",
       "      <td>2011.0</td>\n",
       "      <td>криминал, зарубежные, триллеры, боевики, комедии</td>\n",
       "      <td>Канада</td>\n",
       "      <td>NaN</td>\n",
       "      <td>16.0</td>\n",
       "      <td>NaN</td>\n",
       "      <td>Адам П. Калтраро</td>\n",
       "      <td>Адриан Холмс, Даррен Шалави, Джерри Вассерман,...</td>\n",
       "      <td>Профессиональный рестлер Стив Остин («Все или ...</td>\n",
       "      <td>Тактическая, сила, 2011, Канада, бандиты, ганг...</td>\n",
       "    </tr>\n",
       "    <tr>\n",
       "      <th>3</th>\n",
       "      <td>7868</td>\n",
       "      <td>film</td>\n",
       "      <td>45 лет</td>\n",
       "      <td>45 Years</td>\n",
       "      <td>2015.0</td>\n",
       "      <td>драмы, зарубежные, мелодрамы</td>\n",
       "      <td>Великобритания</td>\n",
       "      <td>NaN</td>\n",
       "      <td>16.0</td>\n",
       "      <td>NaN</td>\n",
       "      <td>Эндрю Хэй</td>\n",
       "      <td>Александра Риддлстон-Барретт, Джеральдин Джейм...</td>\n",
       "      <td>Шарлотта Рэмплинг, Том Кортни, Джеральдин Джей...</td>\n",
       "      <td>45, лет, 2015, Великобритания, брак, жизнь, лю...</td>\n",
       "    </tr>\n",
       "    <tr>\n",
       "      <th>4</th>\n",
       "      <td>16268</td>\n",
       "      <td>film</td>\n",
       "      <td>Все решает мгновение</td>\n",
       "      <td>NaN</td>\n",
       "      <td>1978.0</td>\n",
       "      <td>драмы, спорт, советские, мелодрамы</td>\n",
       "      <td>СССР</td>\n",
       "      <td>NaN</td>\n",
       "      <td>12.0</td>\n",
       "      <td>Ленфильм</td>\n",
       "      <td>Виктор Садовский</td>\n",
       "      <td>Александр Абдулов, Александр Демьяненко, Алекс...</td>\n",
       "      <td>Расчетливая чаровница из советского кинохита «...</td>\n",
       "      <td>Все, решает, мгновение, 1978, СССР, сильные, ж...</td>\n",
       "    </tr>\n",
       "    <tr>\n",
       "      <th>...</th>\n",
       "      <td>...</td>\n",
       "      <td>...</td>\n",
       "      <td>...</td>\n",
       "      <td>...</td>\n",
       "      <td>...</td>\n",
       "      <td>...</td>\n",
       "      <td>...</td>\n",
       "      <td>...</td>\n",
       "      <td>...</td>\n",
       "      <td>...</td>\n",
       "      <td>...</td>\n",
       "      <td>...</td>\n",
       "      <td>...</td>\n",
       "      <td>...</td>\n",
       "    </tr>\n",
       "    <tr>\n",
       "      <th>15958</th>\n",
       "      <td>6443</td>\n",
       "      <td>series</td>\n",
       "      <td>Полярный круг</td>\n",
       "      <td>Arctic Circle</td>\n",
       "      <td>2018.0</td>\n",
       "      <td>драмы, триллеры, криминал</td>\n",
       "      <td>Финляндия, Германия</td>\n",
       "      <td>NaN</td>\n",
       "      <td>16.0</td>\n",
       "      <td>NaN</td>\n",
       "      <td>Ханну Салонен</td>\n",
       "      <td>Иина Куустонен, Максимилиан Брюкнер, Пихла Вии...</td>\n",
       "      <td>Во время погони за браконьерами по лесу, сотру...</td>\n",
       "      <td>убийство, вирус, расследование преступления, н...</td>\n",
       "    </tr>\n",
       "    <tr>\n",
       "      <th>15959</th>\n",
       "      <td>2367</td>\n",
       "      <td>series</td>\n",
       "      <td>Надежда</td>\n",
       "      <td>NaN</td>\n",
       "      <td>2020.0</td>\n",
       "      <td>драмы, боевики</td>\n",
       "      <td>Россия</td>\n",
       "      <td>0.0</td>\n",
       "      <td>18.0</td>\n",
       "      <td>NaN</td>\n",
       "      <td>Елена Хазанова</td>\n",
       "      <td>Виктория Исакова, Александр Кузьмин, Алексей М...</td>\n",
       "      <td>Оригинальный киносериал от создателей «Бывших»...</td>\n",
       "      <td>Надежда, 2020, Россия</td>\n",
       "    </tr>\n",
       "    <tr>\n",
       "      <th>15960</th>\n",
       "      <td>10632</td>\n",
       "      <td>series</td>\n",
       "      <td>Сговор</td>\n",
       "      <td>Hassel</td>\n",
       "      <td>2017.0</td>\n",
       "      <td>драмы, триллеры, криминал</td>\n",
       "      <td>Россия</td>\n",
       "      <td>0.0</td>\n",
       "      <td>18.0</td>\n",
       "      <td>NaN</td>\n",
       "      <td>Эшреф Рейбрук, Амир Камдин, Эрик Эгер</td>\n",
       "      <td>Ола Рапас, Алиетт Офейм, Уильма Лиден, Шанти Р...</td>\n",
       "      <td>Криминальная драма по мотивам романов о шведск...</td>\n",
       "      <td>Сговор, 2017, Россия</td>\n",
       "    </tr>\n",
       "    <tr>\n",
       "      <th>15961</th>\n",
       "      <td>4538</td>\n",
       "      <td>series</td>\n",
       "      <td>Среди камней</td>\n",
       "      <td>Darklands</td>\n",
       "      <td>2019.0</td>\n",
       "      <td>драмы, спорт, криминал</td>\n",
       "      <td>Россия</td>\n",
       "      <td>0.0</td>\n",
       "      <td>18.0</td>\n",
       "      <td>NaN</td>\n",
       "      <td>Марк О’Коннор, Конор МакМахон</td>\n",
       "      <td>Дэйн Уайт О’Хара, Томас Кэйн-Бирн, Джудит Родд...</td>\n",
       "      <td>Семнадцатилетний Дэмиен мечтает вырваться за п...</td>\n",
       "      <td>Среди, камней, 2019, Россия</td>\n",
       "    </tr>\n",
       "    <tr>\n",
       "      <th>15962</th>\n",
       "      <td>3206</td>\n",
       "      <td>series</td>\n",
       "      <td>Гоша</td>\n",
       "      <td>NaN</td>\n",
       "      <td>2019.0</td>\n",
       "      <td>комедии</td>\n",
       "      <td>Россия</td>\n",
       "      <td>0.0</td>\n",
       "      <td>16.0</td>\n",
       "      <td>NaN</td>\n",
       "      <td>Михаил Миронов</td>\n",
       "      <td>Мкртыч Арзуманян, Виктория Рунцова</td>\n",
       "      <td>Добродушный Гоша не может выйти из дома, чтобы...</td>\n",
       "      <td>Гоша, 2019, Россия</td>\n",
       "    </tr>\n",
       "  </tbody>\n",
       "</table>\n",
       "<p>15963 rows × 14 columns</p>\n",
       "</div>"
      ],
      "text/plain": [
       "       item_id content_type                 title      title_orig  \\\n",
       "0        10711         film        Поговори с ней  Hable con ella   \n",
       "1         2508         film           Голые перцы    Search Party   \n",
       "2        10716         film      Тактическая сила  Tactical Force   \n",
       "3         7868         film                45 лет        45 Years   \n",
       "4        16268         film  Все решает мгновение             NaN   \n",
       "...        ...          ...                   ...             ...   \n",
       "15958     6443       series         Полярный круг   Arctic Circle   \n",
       "15959     2367       series               Надежда             NaN   \n",
       "15960    10632       series                Сговор          Hassel   \n",
       "15961     4538       series          Среди камней      Darklands    \n",
       "15962     3206       series                  Гоша             NaN   \n",
       "\n",
       "       release_year                                            genres  \\\n",
       "0            2002.0           драмы, зарубежные, детективы, мелодрамы   \n",
       "1            2014.0                  зарубежные, приключения, комедии   \n",
       "2            2011.0  криминал, зарубежные, триллеры, боевики, комедии   \n",
       "3            2015.0                      драмы, зарубежные, мелодрамы   \n",
       "4            1978.0                драмы, спорт, советские, мелодрамы   \n",
       "...             ...                                               ...   \n",
       "15958        2018.0                         драмы, триллеры, криминал   \n",
       "15959        2020.0                                    драмы, боевики   \n",
       "15960        2017.0                         драмы, триллеры, криминал   \n",
       "15961        2019.0                            драмы, спорт, криминал   \n",
       "15962        2019.0                                           комедии   \n",
       "\n",
       "                 countries  for_kids  age_rating   studios  \\\n",
       "0                  Испания       NaN        16.0       NaN   \n",
       "1                      США       NaN        16.0       NaN   \n",
       "2                   Канада       NaN        16.0       NaN   \n",
       "3           Великобритания       NaN        16.0       NaN   \n",
       "4                     СССР       NaN        12.0  Ленфильм   \n",
       "...                    ...       ...         ...       ...   \n",
       "15958  Финляндия, Германия       NaN        16.0       NaN   \n",
       "15959               Россия       0.0        18.0       NaN   \n",
       "15960               Россия       0.0        18.0       NaN   \n",
       "15961               Россия       0.0        18.0       NaN   \n",
       "15962               Россия       0.0        16.0       NaN   \n",
       "\n",
       "                                   directors  \\\n",
       "0                           Педро Альмодовар   \n",
       "1                             Скот Армстронг   \n",
       "2                           Адам П. Калтраро   \n",
       "3                                  Эндрю Хэй   \n",
       "4                           Виктор Садовский   \n",
       "...                                      ...   \n",
       "15958                          Ханну Салонен   \n",
       "15959                         Елена Хазанова   \n",
       "15960  Эшреф Рейбрук, Амир Камдин, Эрик Эгер   \n",
       "15961          Марк О’Коннор, Конор МакМахон   \n",
       "15962                         Михаил Миронов   \n",
       "\n",
       "                                                  actors  \\\n",
       "0      Адольфо Фернандес, Ана Фернандес, Дарио Гранди...   \n",
       "1      Адам Палли, Брайан Хаски, Дж.Б. Смув, Джейсон ...   \n",
       "2      Адриан Холмс, Даррен Шалави, Джерри Вассерман,...   \n",
       "3      Александра Риддлстон-Барретт, Джеральдин Джейм...   \n",
       "4      Александр Абдулов, Александр Демьяненко, Алекс...   \n",
       "...                                                  ...   \n",
       "15958  Иина Куустонен, Максимилиан Брюкнер, Пихла Вии...   \n",
       "15959  Виктория Исакова, Александр Кузьмин, Алексей М...   \n",
       "15960  Ола Рапас, Алиетт Офейм, Уильма Лиден, Шанти Р...   \n",
       "15961  Дэйн Уайт О’Хара, Томас Кэйн-Бирн, Джудит Родд...   \n",
       "15962                 Мкртыч Арзуманян, Виктория Рунцова   \n",
       "\n",
       "                                             description  \\\n",
       "0      Мелодрама легендарного Педро Альмодовара «Пого...   \n",
       "1      Уморительная современная комедия на популярную...   \n",
       "2      Профессиональный рестлер Стив Остин («Все или ...   \n",
       "3      Шарлотта Рэмплинг, Том Кортни, Джеральдин Джей...   \n",
       "4      Расчетливая чаровница из советского кинохита «...   \n",
       "...                                                  ...   \n",
       "15958  Во время погони за браконьерами по лесу, сотру...   \n",
       "15959  Оригинальный киносериал от создателей «Бывших»...   \n",
       "15960  Криминальная драма по мотивам романов о шведск...   \n",
       "15961  Семнадцатилетний Дэмиен мечтает вырваться за п...   \n",
       "15962  Добродушный Гоша не может выйти из дома, чтобы...   \n",
       "\n",
       "                                                keywords  \n",
       "0      Поговори, ней, 2002, Испания, друзья, любовь, ...  \n",
       "1      Голые, перцы, 2014, США, друзья, свадьбы, прео...  \n",
       "2      Тактическая, сила, 2011, Канада, бандиты, ганг...  \n",
       "3      45, лет, 2015, Великобритания, брак, жизнь, лю...  \n",
       "4      Все, решает, мгновение, 1978, СССР, сильные, ж...  \n",
       "...                                                  ...  \n",
       "15958  убийство, вирус, расследование преступления, н...  \n",
       "15959                              Надежда, 2020, Россия  \n",
       "15960                               Сговор, 2017, Россия  \n",
       "15961                        Среди, камней, 2019, Россия  \n",
       "15962                                 Гоша, 2019, Россия  \n",
       "\n",
       "[15963 rows x 14 columns]"
      ]
     },
     "execution_count": 118,
     "metadata": {},
     "output_type": "execute_result"
    }
   ],
   "source": [
    "items"
   ]
  },
  {
   "cell_type": "code",
   "execution_count": 119,
   "id": "72fa86a0",
   "metadata": {
    "scrolled": true
   },
   "outputs": [
    {
     "data": {
      "text/plain": [
       "item_id             0\n",
       "content_type        0\n",
       "title               0\n",
       "title_orig       4745\n",
       "release_year       98\n",
       "genres              0\n",
       "countries          37\n",
       "for_kids        15397\n",
       "age_rating          2\n",
       "studios         14898\n",
       "directors        1509\n",
       "actors           2619\n",
       "description         2\n",
       "keywords          423\n",
       "dtype: int64"
      ]
     },
     "execution_count": 119,
     "metadata": {},
     "output_type": "execute_result"
    }
   ],
   "source": [
    "items.isna().sum()"
   ]
  },
  {
   "cell_type": "code",
   "execution_count": 120,
   "id": "50f0611f",
   "metadata": {},
   "outputs": [],
   "source": [
    "items = items.loc[items[Columns.Item].isin(train[Columns.Item])].copy()"
   ]
  },
  {
   "cell_type": "code",
   "execution_count": 121,
   "id": "280cf47d",
   "metadata": {},
   "outputs": [
    {
     "data": {
      "text/plain": [
       "item_id             0\n",
       "content_type        0\n",
       "title               0\n",
       "title_orig       3775\n",
       "release_year       31\n",
       "genres              0\n",
       "countries          14\n",
       "for_kids        13415\n",
       "age_rating          1\n",
       "studios         13047\n",
       "directors         939\n",
       "actors           1858\n",
       "description         0\n",
       "keywords          388\n",
       "dtype: int64"
      ]
     },
     "execution_count": 121,
     "metadata": {},
     "output_type": "execute_result"
    }
   ],
   "source": [
    "items.isna().sum()"
   ]
  },
  {
   "cell_type": "markdown",
   "id": "eddd93b5",
   "metadata": {},
   "source": [
    "# Genre"
   ]
  },
  {
   "cell_type": "code",
   "execution_count": 122,
   "id": "bf6da75c",
   "metadata": {},
   "outputs": [
    {
     "data": {
      "text/html": [
       "<div>\n",
       "<style scoped>\n",
       "    .dataframe tbody tr th:only-of-type {\n",
       "        vertical-align: middle;\n",
       "    }\n",
       "\n",
       "    .dataframe tbody tr th {\n",
       "        vertical-align: top;\n",
       "    }\n",
       "\n",
       "    .dataframe thead th {\n",
       "        text-align: right;\n",
       "    }\n",
       "</style>\n",
       "<table border=\"1\" class=\"dataframe\">\n",
       "  <thead>\n",
       "    <tr style=\"text-align: right;\">\n",
       "      <th></th>\n",
       "      <th>id</th>\n",
       "      <th>value</th>\n",
       "      <th>feature</th>\n",
       "    </tr>\n",
       "  </thead>\n",
       "  <tbody>\n",
       "    <tr>\n",
       "      <th>0</th>\n",
       "      <td>10711</td>\n",
       "      <td>драмы</td>\n",
       "      <td>genre</td>\n",
       "    </tr>\n",
       "    <tr>\n",
       "      <th>0</th>\n",
       "      <td>10711</td>\n",
       "      <td>зарубежные</td>\n",
       "      <td>genre</td>\n",
       "    </tr>\n",
       "    <tr>\n",
       "      <th>0</th>\n",
       "      <td>10711</td>\n",
       "      <td>детективы</td>\n",
       "      <td>genre</td>\n",
       "    </tr>\n",
       "    <tr>\n",
       "      <th>0</th>\n",
       "      <td>10711</td>\n",
       "      <td>мелодрамы</td>\n",
       "      <td>genre</td>\n",
       "    </tr>\n",
       "    <tr>\n",
       "      <th>1</th>\n",
       "      <td>2508</td>\n",
       "      <td>зарубежные</td>\n",
       "      <td>genre</td>\n",
       "    </tr>\n",
       "  </tbody>\n",
       "</table>\n",
       "</div>"
      ],
      "text/plain": [
       "      id       value feature\n",
       "0  10711       драмы   genre\n",
       "0  10711  зарубежные   genre\n",
       "0  10711   детективы   genre\n",
       "0  10711   мелодрамы   genre\n",
       "1   2508  зарубежные   genre"
      ]
     },
     "execution_count": 122,
     "metadata": {},
     "output_type": "execute_result"
    }
   ],
   "source": [
    "# Explode genres to flatten table\n",
    "items['genre'] = items['genres'].str.lower().str.replace(', ', ',',\n",
    "        regex=False).str.split(',')\n",
    "genre_feature = items[['item_id', 'genre']].explode('genre')\n",
    "genre_feature.columns = ['id', 'value']\n",
    "genre_feature['feature'] = 'genre'\n",
    "genre_feature.head()\n"
   ]
  },
  {
   "cell_type": "code",
   "execution_count": 123,
   "id": "913b9c27",
   "metadata": {},
   "outputs": [
    {
     "data": {
      "text/html": [
       "<div>\n",
       "<style scoped>\n",
       "    .dataframe tbody tr th:only-of-type {\n",
       "        vertical-align: middle;\n",
       "    }\n",
       "\n",
       "    .dataframe tbody tr th {\n",
       "        vertical-align: top;\n",
       "    }\n",
       "\n",
       "    .dataframe thead th {\n",
       "        text-align: right;\n",
       "    }\n",
       "</style>\n",
       "<table border=\"1\" class=\"dataframe\">\n",
       "  <thead>\n",
       "    <tr style=\"text-align: right;\">\n",
       "      <th></th>\n",
       "      <th>id</th>\n",
       "      <th>value</th>\n",
       "      <th>feature</th>\n",
       "    </tr>\n",
       "  </thead>\n",
       "  <tbody>\n",
       "    <tr>\n",
       "      <th>0</th>\n",
       "      <td>10711</td>\n",
       "      <td>драмы</td>\n",
       "      <td>genre</td>\n",
       "    </tr>\n",
       "    <tr>\n",
       "      <th>0</th>\n",
       "      <td>10711</td>\n",
       "      <td>зарубежные</td>\n",
       "      <td>genre</td>\n",
       "    </tr>\n",
       "    <tr>\n",
       "      <th>0</th>\n",
       "      <td>10711</td>\n",
       "      <td>детективы</td>\n",
       "      <td>genre</td>\n",
       "    </tr>\n",
       "    <tr>\n",
       "      <th>0</th>\n",
       "      <td>10711</td>\n",
       "      <td>мелодрамы</td>\n",
       "      <td>genre</td>\n",
       "    </tr>\n",
       "    <tr>\n",
       "      <th>1</th>\n",
       "      <td>2508</td>\n",
       "      <td>зарубежные</td>\n",
       "      <td>genre</td>\n",
       "    </tr>\n",
       "    <tr>\n",
       "      <th>...</th>\n",
       "      <td>...</td>\n",
       "      <td>...</td>\n",
       "      <td>...</td>\n",
       "    </tr>\n",
       "    <tr>\n",
       "      <th>15960</th>\n",
       "      <td>10632</td>\n",
       "      <td>криминал</td>\n",
       "      <td>genre</td>\n",
       "    </tr>\n",
       "    <tr>\n",
       "      <th>15961</th>\n",
       "      <td>4538</td>\n",
       "      <td>драмы</td>\n",
       "      <td>genre</td>\n",
       "    </tr>\n",
       "    <tr>\n",
       "      <th>15961</th>\n",
       "      <td>4538</td>\n",
       "      <td>спорт</td>\n",
       "      <td>genre</td>\n",
       "    </tr>\n",
       "    <tr>\n",
       "      <th>15961</th>\n",
       "      <td>4538</td>\n",
       "      <td>криминал</td>\n",
       "      <td>genre</td>\n",
       "    </tr>\n",
       "    <tr>\n",
       "      <th>15962</th>\n",
       "      <td>3206</td>\n",
       "      <td>комедии</td>\n",
       "      <td>genre</td>\n",
       "    </tr>\n",
       "  </tbody>\n",
       "</table>\n",
       "<p>36128 rows × 3 columns</p>\n",
       "</div>"
      ],
      "text/plain": [
       "          id       value feature\n",
       "0      10711       драмы   genre\n",
       "0      10711  зарубежные   genre\n",
       "0      10711   детективы   genre\n",
       "0      10711   мелодрамы   genre\n",
       "1       2508  зарубежные   genre\n",
       "...      ...         ...     ...\n",
       "15960  10632    криминал   genre\n",
       "15961   4538       драмы   genre\n",
       "15961   4538       спорт   genre\n",
       "15961   4538    криминал   genre\n",
       "15962   3206     комедии   genre\n",
       "\n",
       "[36128 rows x 3 columns]"
      ]
     },
     "execution_count": 123,
     "metadata": {},
     "output_type": "execute_result"
    }
   ],
   "source": [
    "genre_feature"
   ]
  },
  {
   "cell_type": "markdown",
   "id": "478bf1e3",
   "metadata": {},
   "source": [
    "# Content"
   ]
  },
  {
   "cell_type": "code",
   "execution_count": 124,
   "id": "65f8b5d9",
   "metadata": {},
   "outputs": [
    {
     "data": {
      "text/html": [
       "<div>\n",
       "<style scoped>\n",
       "    .dataframe tbody tr th:only-of-type {\n",
       "        vertical-align: middle;\n",
       "    }\n",
       "\n",
       "    .dataframe tbody tr th {\n",
       "        vertical-align: top;\n",
       "    }\n",
       "\n",
       "    .dataframe thead th {\n",
       "        text-align: right;\n",
       "    }\n",
       "</style>\n",
       "<table border=\"1\" class=\"dataframe\">\n",
       "  <thead>\n",
       "    <tr style=\"text-align: right;\">\n",
       "      <th></th>\n",
       "      <th>id</th>\n",
       "      <th>value</th>\n",
       "      <th>feature</th>\n",
       "    </tr>\n",
       "  </thead>\n",
       "  <tbody>\n",
       "    <tr>\n",
       "      <th>0</th>\n",
       "      <td>10711</td>\n",
       "      <td>film</td>\n",
       "      <td>content_type</td>\n",
       "    </tr>\n",
       "    <tr>\n",
       "      <th>1</th>\n",
       "      <td>2508</td>\n",
       "      <td>film</td>\n",
       "      <td>content_type</td>\n",
       "    </tr>\n",
       "    <tr>\n",
       "      <th>2</th>\n",
       "      <td>10716</td>\n",
       "      <td>film</td>\n",
       "      <td>content_type</td>\n",
       "    </tr>\n",
       "    <tr>\n",
       "      <th>3</th>\n",
       "      <td>7868</td>\n",
       "      <td>film</td>\n",
       "      <td>content_type</td>\n",
       "    </tr>\n",
       "    <tr>\n",
       "      <th>4</th>\n",
       "      <td>16268</td>\n",
       "      <td>film</td>\n",
       "      <td>content_type</td>\n",
       "    </tr>\n",
       "    <tr>\n",
       "      <th>...</th>\n",
       "      <td>...</td>\n",
       "      <td>...</td>\n",
       "      <td>...</td>\n",
       "    </tr>\n",
       "    <tr>\n",
       "      <th>15958</th>\n",
       "      <td>6443</td>\n",
       "      <td>series</td>\n",
       "      <td>content_type</td>\n",
       "    </tr>\n",
       "    <tr>\n",
       "      <th>15959</th>\n",
       "      <td>2367</td>\n",
       "      <td>series</td>\n",
       "      <td>content_type</td>\n",
       "    </tr>\n",
       "    <tr>\n",
       "      <th>15960</th>\n",
       "      <td>10632</td>\n",
       "      <td>series</td>\n",
       "      <td>content_type</td>\n",
       "    </tr>\n",
       "    <tr>\n",
       "      <th>15961</th>\n",
       "      <td>4538</td>\n",
       "      <td>series</td>\n",
       "      <td>content_type</td>\n",
       "    </tr>\n",
       "    <tr>\n",
       "      <th>15962</th>\n",
       "      <td>3206</td>\n",
       "      <td>series</td>\n",
       "      <td>content_type</td>\n",
       "    </tr>\n",
       "  </tbody>\n",
       "</table>\n",
       "<p>13963 rows × 3 columns</p>\n",
       "</div>"
      ],
      "text/plain": [
       "          id   value       feature\n",
       "0      10711    film  content_type\n",
       "1       2508    film  content_type\n",
       "2      10716    film  content_type\n",
       "3       7868    film  content_type\n",
       "4      16268    film  content_type\n",
       "...      ...     ...           ...\n",
       "15958   6443  series  content_type\n",
       "15959   2367  series  content_type\n",
       "15960  10632  series  content_type\n",
       "15961   4538  series  content_type\n",
       "15962   3206  series  content_type\n",
       "\n",
       "[13963 rows x 3 columns]"
      ]
     },
     "execution_count": 124,
     "metadata": {},
     "output_type": "execute_result"
    }
   ],
   "source": [
    "content_feature = items.reindex(columns=[Columns.Item, \"content_type\"])\n",
    "content_feature.columns = [\"id\", \"value\"]\n",
    "content_feature[\"feature\"] = \"content_type\"\n",
    "content_feature"
   ]
  },
  {
   "cell_type": "markdown",
   "id": "a62ebee4",
   "metadata": {},
   "source": [
    "# Actors"
   ]
  },
  {
   "cell_type": "code",
   "execution_count": 125,
   "id": "fdc43660",
   "metadata": {},
   "outputs": [
    {
     "data": {
      "text/html": [
       "<div>\n",
       "<style scoped>\n",
       "    .dataframe tbody tr th:only-of-type {\n",
       "        vertical-align: middle;\n",
       "    }\n",
       "\n",
       "    .dataframe tbody tr th {\n",
       "        vertical-align: top;\n",
       "    }\n",
       "\n",
       "    .dataframe thead th {\n",
       "        text-align: right;\n",
       "    }\n",
       "</style>\n",
       "<table border=\"1\" class=\"dataframe\">\n",
       "  <thead>\n",
       "    <tr style=\"text-align: right;\">\n",
       "      <th></th>\n",
       "      <th>id</th>\n",
       "      <th>value</th>\n",
       "      <th>feature</th>\n",
       "    </tr>\n",
       "  </thead>\n",
       "  <tbody>\n",
       "    <tr>\n",
       "      <th>0</th>\n",
       "      <td>10711</td>\n",
       "      <td>адольфо фернандес</td>\n",
       "      <td>actors</td>\n",
       "    </tr>\n",
       "    <tr>\n",
       "      <th>0</th>\n",
       "      <td>10711</td>\n",
       "      <td>ана фернандес</td>\n",
       "      <td>actors</td>\n",
       "    </tr>\n",
       "    <tr>\n",
       "      <th>0</th>\n",
       "      <td>10711</td>\n",
       "      <td>дарио грандинетти</td>\n",
       "      <td>actors</td>\n",
       "    </tr>\n",
       "    <tr>\n",
       "      <th>0</th>\n",
       "      <td>10711</td>\n",
       "      <td>джеральдин чаплин</td>\n",
       "      <td>actors</td>\n",
       "    </tr>\n",
       "    <tr>\n",
       "      <th>0</th>\n",
       "      <td>10711</td>\n",
       "      <td>елена анайя</td>\n",
       "      <td>actors</td>\n",
       "    </tr>\n",
       "    <tr>\n",
       "      <th>...</th>\n",
       "      <td>...</td>\n",
       "      <td>...</td>\n",
       "      <td>...</td>\n",
       "    </tr>\n",
       "    <tr>\n",
       "      <th>15961</th>\n",
       "      <td>4538</td>\n",
       "      <td>джудит родди</td>\n",
       "      <td>actors</td>\n",
       "    </tr>\n",
       "    <tr>\n",
       "      <th>15961</th>\n",
       "      <td>4538</td>\n",
       "      <td>марк о’халлоран</td>\n",
       "      <td>actors</td>\n",
       "    </tr>\n",
       "    <tr>\n",
       "      <th>15961</th>\n",
       "      <td>4538</td>\n",
       "      <td>джимми смоллхорн</td>\n",
       "      <td>actors</td>\n",
       "    </tr>\n",
       "    <tr>\n",
       "      <th>15962</th>\n",
       "      <td>3206</td>\n",
       "      <td>мкртыч арзуманян</td>\n",
       "      <td>actors</td>\n",
       "    </tr>\n",
       "    <tr>\n",
       "      <th>15962</th>\n",
       "      <td>3206</td>\n",
       "      <td>виктория рунцова</td>\n",
       "      <td>actors</td>\n",
       "    </tr>\n",
       "  </tbody>\n",
       "</table>\n",
       "<p>128926 rows × 3 columns</p>\n",
       "</div>"
      ],
      "text/plain": [
       "          id              value feature\n",
       "0      10711  адольфо фернандес  actors\n",
       "0      10711      ана фернандес  actors\n",
       "0      10711  дарио грандинетти  actors\n",
       "0      10711  джеральдин чаплин  actors\n",
       "0      10711        елена анайя  actors\n",
       "...      ...                ...     ...\n",
       "15961   4538       джудит родди  actors\n",
       "15961   4538    марк о’халлоран  actors\n",
       "15961   4538   джимми смоллхорн  actors\n",
       "15962   3206   мкртыч арзуманян  actors\n",
       "15962   3206   виктория рунцова  actors\n",
       "\n",
       "[128926 rows x 3 columns]"
      ]
     },
     "execution_count": 125,
     "metadata": {},
     "output_type": "execute_result"
    }
   ],
   "source": [
    "items['actors'] = items['actors'].str.lower().str.replace(', ', ',',\n",
    "        regex=False).str.split(',')\n",
    "actors_feature = items[['item_id', 'actors']].explode('actors')\n",
    "actors_feature.columns = ['id', 'value']\n",
    "actors_feature['feature'] = 'actors'\n",
    "actors_feature"
   ]
  },
  {
   "cell_type": "markdown",
   "id": "73801647",
   "metadata": {},
   "source": [
    "# Keywords"
   ]
  },
  {
   "cell_type": "code",
   "execution_count": 126,
   "id": "594abe5c",
   "metadata": {},
   "outputs": [
    {
     "data": {
      "text/html": [
       "<div>\n",
       "<style scoped>\n",
       "    .dataframe tbody tr th:only-of-type {\n",
       "        vertical-align: middle;\n",
       "    }\n",
       "\n",
       "    .dataframe tbody tr th {\n",
       "        vertical-align: top;\n",
       "    }\n",
       "\n",
       "    .dataframe thead th {\n",
       "        text-align: right;\n",
       "    }\n",
       "</style>\n",
       "<table border=\"1\" class=\"dataframe\">\n",
       "  <thead>\n",
       "    <tr style=\"text-align: right;\">\n",
       "      <th></th>\n",
       "      <th>id</th>\n",
       "      <th>value</th>\n",
       "      <th>feature</th>\n",
       "    </tr>\n",
       "  </thead>\n",
       "  <tbody>\n",
       "    <tr>\n",
       "      <th>0</th>\n",
       "      <td>10711</td>\n",
       "      <td>поговори</td>\n",
       "      <td>keywords</td>\n",
       "    </tr>\n",
       "    <tr>\n",
       "      <th>0</th>\n",
       "      <td>10711</td>\n",
       "      <td>ней</td>\n",
       "      <td>keywords</td>\n",
       "    </tr>\n",
       "    <tr>\n",
       "      <th>0</th>\n",
       "      <td>10711</td>\n",
       "      <td>2002</td>\n",
       "      <td>keywords</td>\n",
       "    </tr>\n",
       "    <tr>\n",
       "      <th>0</th>\n",
       "      <td>10711</td>\n",
       "      <td>испания</td>\n",
       "      <td>keywords</td>\n",
       "    </tr>\n",
       "    <tr>\n",
       "      <th>0</th>\n",
       "      <td>10711</td>\n",
       "      <td>друзья</td>\n",
       "      <td>keywords</td>\n",
       "    </tr>\n",
       "    <tr>\n",
       "      <th>...</th>\n",
       "      <td>...</td>\n",
       "      <td>...</td>\n",
       "      <td>...</td>\n",
       "    </tr>\n",
       "    <tr>\n",
       "      <th>15961</th>\n",
       "      <td>4538</td>\n",
       "      <td>2019</td>\n",
       "      <td>keywords</td>\n",
       "    </tr>\n",
       "    <tr>\n",
       "      <th>15961</th>\n",
       "      <td>4538</td>\n",
       "      <td>россия</td>\n",
       "      <td>keywords</td>\n",
       "    </tr>\n",
       "    <tr>\n",
       "      <th>15962</th>\n",
       "      <td>3206</td>\n",
       "      <td>гоша</td>\n",
       "      <td>keywords</td>\n",
       "    </tr>\n",
       "    <tr>\n",
       "      <th>15962</th>\n",
       "      <td>3206</td>\n",
       "      <td>2019</td>\n",
       "      <td>keywords</td>\n",
       "    </tr>\n",
       "    <tr>\n",
       "      <th>15962</th>\n",
       "      <td>3206</td>\n",
       "      <td>россия</td>\n",
       "      <td>keywords</td>\n",
       "    </tr>\n",
       "  </tbody>\n",
       "</table>\n",
       "<p>341629 rows × 3 columns</p>\n",
       "</div>"
      ],
      "text/plain": [
       "          id     value   feature\n",
       "0      10711  поговори  keywords\n",
       "0      10711       ней  keywords\n",
       "0      10711      2002  keywords\n",
       "0      10711   испания  keywords\n",
       "0      10711    друзья  keywords\n",
       "...      ...       ...       ...\n",
       "15961   4538      2019  keywords\n",
       "15961   4538    россия  keywords\n",
       "15962   3206      гоша  keywords\n",
       "15962   3206      2019  keywords\n",
       "15962   3206    россия  keywords\n",
       "\n",
       "[341629 rows x 3 columns]"
      ]
     },
     "execution_count": 126,
     "metadata": {},
     "output_type": "execute_result"
    }
   ],
   "source": [
    "items['keywords'] = items['keywords'].str.lower().str.replace(', ', ','\n",
    "        , regex=False).str.split(',')\n",
    "keywords_feature = items[['item_id', 'keywords']].explode('keywords')\n",
    "keywords_feature.columns = ['id', 'value']\n",
    "keywords_feature['feature'] = 'keywords'\n",
    "keywords_feature"
   ]
  },
  {
   "cell_type": "markdown",
   "id": "d3eb0a37",
   "metadata": {},
   "source": [
    "# Countries\t"
   ]
  },
  {
   "cell_type": "code",
   "execution_count": 39,
   "id": "8eb8a621",
   "metadata": {},
   "outputs": [
    {
     "data": {
      "text/html": [
       "<div>\n",
       "<style scoped>\n",
       "    .dataframe tbody tr th:only-of-type {\n",
       "        vertical-align: middle;\n",
       "    }\n",
       "\n",
       "    .dataframe tbody tr th {\n",
       "        vertical-align: top;\n",
       "    }\n",
       "\n",
       "    .dataframe thead th {\n",
       "        text-align: right;\n",
       "    }\n",
       "</style>\n",
       "<table border=\"1\" class=\"dataframe\">\n",
       "  <thead>\n",
       "    <tr style=\"text-align: right;\">\n",
       "      <th></th>\n",
       "      <th>id</th>\n",
       "      <th>value</th>\n",
       "      <th>feature</th>\n",
       "    </tr>\n",
       "  </thead>\n",
       "  <tbody>\n",
       "    <tr>\n",
       "      <th>0</th>\n",
       "      <td>10711</td>\n",
       "      <td>Испания</td>\n",
       "      <td>countries</td>\n",
       "    </tr>\n",
       "    <tr>\n",
       "      <th>1</th>\n",
       "      <td>2508</td>\n",
       "      <td>США</td>\n",
       "      <td>countries</td>\n",
       "    </tr>\n",
       "    <tr>\n",
       "      <th>2</th>\n",
       "      <td>10716</td>\n",
       "      <td>Канада</td>\n",
       "      <td>countries</td>\n",
       "    </tr>\n",
       "    <tr>\n",
       "      <th>3</th>\n",
       "      <td>7868</td>\n",
       "      <td>Великобритания</td>\n",
       "      <td>countries</td>\n",
       "    </tr>\n",
       "    <tr>\n",
       "      <th>4</th>\n",
       "      <td>16268</td>\n",
       "      <td>СССР</td>\n",
       "      <td>countries</td>\n",
       "    </tr>\n",
       "    <tr>\n",
       "      <th>...</th>\n",
       "      <td>...</td>\n",
       "      <td>...</td>\n",
       "      <td>...</td>\n",
       "    </tr>\n",
       "    <tr>\n",
       "      <th>15958</th>\n",
       "      <td>6443</td>\n",
       "      <td>Финляндия, Германия</td>\n",
       "      <td>countries</td>\n",
       "    </tr>\n",
       "    <tr>\n",
       "      <th>15959</th>\n",
       "      <td>2367</td>\n",
       "      <td>Россия</td>\n",
       "      <td>countries</td>\n",
       "    </tr>\n",
       "    <tr>\n",
       "      <th>15960</th>\n",
       "      <td>10632</td>\n",
       "      <td>Россия</td>\n",
       "      <td>countries</td>\n",
       "    </tr>\n",
       "    <tr>\n",
       "      <th>15961</th>\n",
       "      <td>4538</td>\n",
       "      <td>Россия</td>\n",
       "      <td>countries</td>\n",
       "    </tr>\n",
       "    <tr>\n",
       "      <th>15962</th>\n",
       "      <td>3206</td>\n",
       "      <td>Россия</td>\n",
       "      <td>countries</td>\n",
       "    </tr>\n",
       "  </tbody>\n",
       "</table>\n",
       "<p>13963 rows × 3 columns</p>\n",
       "</div>"
      ],
      "text/plain": [
       "          id                value    feature\n",
       "0      10711              Испания  countries\n",
       "1       2508                  США  countries\n",
       "2      10716               Канада  countries\n",
       "3       7868       Великобритания  countries\n",
       "4      16268                 СССР  countries\n",
       "...      ...                  ...        ...\n",
       "15958   6443  Финляндия, Германия  countries\n",
       "15959   2367               Россия  countries\n",
       "15960  10632               Россия  countries\n",
       "15961   4538               Россия  countries\n",
       "15962   3206               Россия  countries\n",
       "\n",
       "[13963 rows x 3 columns]"
      ]
     },
     "execution_count": 39,
     "metadata": {},
     "output_type": "execute_result"
    }
   ],
   "source": [
    "country_feature = items.reindex(columns=[Columns.Item, 'countries'])\n",
    "country_feature.columns = ['id', 'value']\n",
    "country_feature['feature'] = 'countries'\n",
    "country_feature"
   ]
  },
  {
   "cell_type": "markdown",
   "id": "5e477ee1",
   "metadata": {},
   "source": [
    "# Age Rating"
   ]
  },
  {
   "cell_type": "code",
   "execution_count": 40,
   "id": "0894154a",
   "metadata": {},
   "outputs": [
    {
     "data": {
      "text/html": [
       "<div>\n",
       "<style scoped>\n",
       "    .dataframe tbody tr th:only-of-type {\n",
       "        vertical-align: middle;\n",
       "    }\n",
       "\n",
       "    .dataframe tbody tr th {\n",
       "        vertical-align: top;\n",
       "    }\n",
       "\n",
       "    .dataframe thead th {\n",
       "        text-align: right;\n",
       "    }\n",
       "</style>\n",
       "<table border=\"1\" class=\"dataframe\">\n",
       "  <thead>\n",
       "    <tr style=\"text-align: right;\">\n",
       "      <th></th>\n",
       "      <th>id</th>\n",
       "      <th>value</th>\n",
       "      <th>feature</th>\n",
       "    </tr>\n",
       "  </thead>\n",
       "  <tbody>\n",
       "    <tr>\n",
       "      <th>0</th>\n",
       "      <td>10711</td>\n",
       "      <td>16.0</td>\n",
       "      <td>age_feature</td>\n",
       "    </tr>\n",
       "    <tr>\n",
       "      <th>1</th>\n",
       "      <td>2508</td>\n",
       "      <td>16.0</td>\n",
       "      <td>age_feature</td>\n",
       "    </tr>\n",
       "    <tr>\n",
       "      <th>2</th>\n",
       "      <td>10716</td>\n",
       "      <td>16.0</td>\n",
       "      <td>age_feature</td>\n",
       "    </tr>\n",
       "    <tr>\n",
       "      <th>3</th>\n",
       "      <td>7868</td>\n",
       "      <td>16.0</td>\n",
       "      <td>age_feature</td>\n",
       "    </tr>\n",
       "    <tr>\n",
       "      <th>4</th>\n",
       "      <td>16268</td>\n",
       "      <td>12.0</td>\n",
       "      <td>age_feature</td>\n",
       "    </tr>\n",
       "    <tr>\n",
       "      <th>...</th>\n",
       "      <td>...</td>\n",
       "      <td>...</td>\n",
       "      <td>...</td>\n",
       "    </tr>\n",
       "    <tr>\n",
       "      <th>15958</th>\n",
       "      <td>6443</td>\n",
       "      <td>16.0</td>\n",
       "      <td>age_feature</td>\n",
       "    </tr>\n",
       "    <tr>\n",
       "      <th>15959</th>\n",
       "      <td>2367</td>\n",
       "      <td>18.0</td>\n",
       "      <td>age_feature</td>\n",
       "    </tr>\n",
       "    <tr>\n",
       "      <th>15960</th>\n",
       "      <td>10632</td>\n",
       "      <td>18.0</td>\n",
       "      <td>age_feature</td>\n",
       "    </tr>\n",
       "    <tr>\n",
       "      <th>15961</th>\n",
       "      <td>4538</td>\n",
       "      <td>18.0</td>\n",
       "      <td>age_feature</td>\n",
       "    </tr>\n",
       "    <tr>\n",
       "      <th>15962</th>\n",
       "      <td>3206</td>\n",
       "      <td>16.0</td>\n",
       "      <td>age_feature</td>\n",
       "    </tr>\n",
       "  </tbody>\n",
       "</table>\n",
       "<p>13963 rows × 3 columns</p>\n",
       "</div>"
      ],
      "text/plain": [
       "          id  value      feature\n",
       "0      10711   16.0  age_feature\n",
       "1       2508   16.0  age_feature\n",
       "2      10716   16.0  age_feature\n",
       "3       7868   16.0  age_feature\n",
       "4      16268   12.0  age_feature\n",
       "...      ...    ...          ...\n",
       "15958   6443   16.0  age_feature\n",
       "15959   2367   18.0  age_feature\n",
       "15960  10632   18.0  age_feature\n",
       "15961   4538   18.0  age_feature\n",
       "15962   3206   16.0  age_feature\n",
       "\n",
       "[13963 rows x 3 columns]"
      ]
     },
     "execution_count": 40,
     "metadata": {},
     "output_type": "execute_result"
    }
   ],
   "source": [
    "age_feature = items.reindex(columns=[Columns.Item, \"age_rating\"])\n",
    "age_feature.columns = [\"id\", \"value\"]\n",
    "age_feature[\"feature\"] = \"age_feature\"\n",
    "age_feature"
   ]
  },
  {
   "cell_type": "markdown",
   "id": "c09df1ec",
   "metadata": {},
   "source": [
    "# Studios"
   ]
  },
  {
   "cell_type": "code",
   "execution_count": 41,
   "id": "ff937b4f",
   "metadata": {},
   "outputs": [],
   "source": [
    "items.fillna('Unknown', inplace=True)"
   ]
  },
  {
   "cell_type": "code",
   "execution_count": 42,
   "id": "cee42708",
   "metadata": {},
   "outputs": [
    {
     "data": {
      "text/html": [
       "<div>\n",
       "<style scoped>\n",
       "    .dataframe tbody tr th:only-of-type {\n",
       "        vertical-align: middle;\n",
       "    }\n",
       "\n",
       "    .dataframe tbody tr th {\n",
       "        vertical-align: top;\n",
       "    }\n",
       "\n",
       "    .dataframe thead th {\n",
       "        text-align: right;\n",
       "    }\n",
       "</style>\n",
       "<table border=\"1\" class=\"dataframe\">\n",
       "  <thead>\n",
       "    <tr style=\"text-align: right;\">\n",
       "      <th></th>\n",
       "      <th>id</th>\n",
       "      <th>value</th>\n",
       "      <th>feature</th>\n",
       "    </tr>\n",
       "  </thead>\n",
       "  <tbody>\n",
       "    <tr>\n",
       "      <th>0</th>\n",
       "      <td>10711</td>\n",
       "      <td>Unknown</td>\n",
       "      <td>studios</td>\n",
       "    </tr>\n",
       "    <tr>\n",
       "      <th>1</th>\n",
       "      <td>2508</td>\n",
       "      <td>Unknown</td>\n",
       "      <td>studios</td>\n",
       "    </tr>\n",
       "    <tr>\n",
       "      <th>2</th>\n",
       "      <td>10716</td>\n",
       "      <td>Unknown</td>\n",
       "      <td>studios</td>\n",
       "    </tr>\n",
       "    <tr>\n",
       "      <th>3</th>\n",
       "      <td>7868</td>\n",
       "      <td>Unknown</td>\n",
       "      <td>studios</td>\n",
       "    </tr>\n",
       "    <tr>\n",
       "      <th>4</th>\n",
       "      <td>16268</td>\n",
       "      <td>Ленфильм</td>\n",
       "      <td>studios</td>\n",
       "    </tr>\n",
       "    <tr>\n",
       "      <th>...</th>\n",
       "      <td>...</td>\n",
       "      <td>...</td>\n",
       "      <td>...</td>\n",
       "    </tr>\n",
       "    <tr>\n",
       "      <th>15958</th>\n",
       "      <td>6443</td>\n",
       "      <td>Unknown</td>\n",
       "      <td>studios</td>\n",
       "    </tr>\n",
       "    <tr>\n",
       "      <th>15959</th>\n",
       "      <td>2367</td>\n",
       "      <td>Unknown</td>\n",
       "      <td>studios</td>\n",
       "    </tr>\n",
       "    <tr>\n",
       "      <th>15960</th>\n",
       "      <td>10632</td>\n",
       "      <td>Unknown</td>\n",
       "      <td>studios</td>\n",
       "    </tr>\n",
       "    <tr>\n",
       "      <th>15961</th>\n",
       "      <td>4538</td>\n",
       "      <td>Unknown</td>\n",
       "      <td>studios</td>\n",
       "    </tr>\n",
       "    <tr>\n",
       "      <th>15962</th>\n",
       "      <td>3206</td>\n",
       "      <td>Unknown</td>\n",
       "      <td>studios</td>\n",
       "    </tr>\n",
       "  </tbody>\n",
       "</table>\n",
       "<p>13963 rows × 3 columns</p>\n",
       "</div>"
      ],
      "text/plain": [
       "          id     value  feature\n",
       "0      10711   Unknown  studios\n",
       "1       2508   Unknown  studios\n",
       "2      10716   Unknown  studios\n",
       "3       7868   Unknown  studios\n",
       "4      16268  Ленфильм  studios\n",
       "...      ...       ...      ...\n",
       "15958   6443   Unknown  studios\n",
       "15959   2367   Unknown  studios\n",
       "15960  10632   Unknown  studios\n",
       "15961   4538   Unknown  studios\n",
       "15962   3206   Unknown  studios\n",
       "\n",
       "[13963 rows x 3 columns]"
      ]
     },
     "execution_count": 42,
     "metadata": {},
     "output_type": "execute_result"
    }
   ],
   "source": [
    "studios_feature = items.reindex(columns=[Columns.Item, \"studios\"])\n",
    "studios_feature.columns = [\"id\", \"value\"]\n",
    "studios_feature[\"feature\"] = \"studios\"\n",
    "studios_feature"
   ]
  },
  {
   "cell_type": "code",
   "execution_count": 128,
   "id": "7234f13b",
   "metadata": {},
   "outputs": [
    {
     "data": {
      "text/html": [
       "<div>\n",
       "<style scoped>\n",
       "    .dataframe tbody tr th:only-of-type {\n",
       "        vertical-align: middle;\n",
       "    }\n",
       "\n",
       "    .dataframe tbody tr th {\n",
       "        vertical-align: top;\n",
       "    }\n",
       "\n",
       "    .dataframe thead th {\n",
       "        text-align: right;\n",
       "    }\n",
       "</style>\n",
       "<table border=\"1\" class=\"dataframe\">\n",
       "  <thead>\n",
       "    <tr style=\"text-align: right;\">\n",
       "      <th></th>\n",
       "      <th>id</th>\n",
       "      <th>value</th>\n",
       "      <th>feature</th>\n",
       "    </tr>\n",
       "  </thead>\n",
       "  <tbody>\n",
       "    <tr>\n",
       "      <th>0</th>\n",
       "      <td>10711</td>\n",
       "      <td>драмы</td>\n",
       "      <td>genre</td>\n",
       "    </tr>\n",
       "    <tr>\n",
       "      <th>0</th>\n",
       "      <td>10711</td>\n",
       "      <td>зарубежные</td>\n",
       "      <td>genre</td>\n",
       "    </tr>\n",
       "    <tr>\n",
       "      <th>0</th>\n",
       "      <td>10711</td>\n",
       "      <td>детективы</td>\n",
       "      <td>genre</td>\n",
       "    </tr>\n",
       "    <tr>\n",
       "      <th>0</th>\n",
       "      <td>10711</td>\n",
       "      <td>мелодрамы</td>\n",
       "      <td>genre</td>\n",
       "    </tr>\n",
       "    <tr>\n",
       "      <th>1</th>\n",
       "      <td>2508</td>\n",
       "      <td>зарубежные</td>\n",
       "      <td>genre</td>\n",
       "    </tr>\n",
       "    <tr>\n",
       "      <th>...</th>\n",
       "      <td>...</td>\n",
       "      <td>...</td>\n",
       "      <td>...</td>\n",
       "    </tr>\n",
       "    <tr>\n",
       "      <th>15958</th>\n",
       "      <td>6443</td>\n",
       "      <td>series</td>\n",
       "      <td>content_type</td>\n",
       "    </tr>\n",
       "    <tr>\n",
       "      <th>15959</th>\n",
       "      <td>2367</td>\n",
       "      <td>series</td>\n",
       "      <td>content_type</td>\n",
       "    </tr>\n",
       "    <tr>\n",
       "      <th>15960</th>\n",
       "      <td>10632</td>\n",
       "      <td>series</td>\n",
       "      <td>content_type</td>\n",
       "    </tr>\n",
       "    <tr>\n",
       "      <th>15961</th>\n",
       "      <td>4538</td>\n",
       "      <td>series</td>\n",
       "      <td>content_type</td>\n",
       "    </tr>\n",
       "    <tr>\n",
       "      <th>15962</th>\n",
       "      <td>3206</td>\n",
       "      <td>series</td>\n",
       "      <td>content_type</td>\n",
       "    </tr>\n",
       "  </tbody>\n",
       "</table>\n",
       "<p>50091 rows × 3 columns</p>\n",
       "</div>"
      ],
      "text/plain": [
       "          id       value       feature\n",
       "0      10711       драмы         genre\n",
       "0      10711  зарубежные         genre\n",
       "0      10711   детективы         genre\n",
       "0      10711   мелодрамы         genre\n",
       "1       2508  зарубежные         genre\n",
       "...      ...         ...           ...\n",
       "15958   6443      series  content_type\n",
       "15959   2367      series  content_type\n",
       "15960  10632      series  content_type\n",
       "15961   4538      series  content_type\n",
       "15962   3206      series  content_type\n",
       "\n",
       "[50091 rows x 3 columns]"
      ]
     },
     "execution_count": 128,
     "metadata": {},
     "output_type": "execute_result"
    }
   ],
   "source": [
    "# studios_feature, age_feature, country_feature - фичи которые хотелось бы использовать,\n",
    "# но длительность обучения \"OPTUNA\" увеличивается в разы\n",
    "item_features = pd.concat((genre_feature, content_feature ))\n",
    "item_features"
   ]
  },
  {
   "cell_type": "markdown",
   "id": "09b8d756",
   "metadata": {},
   "source": [
    "# Metrics"
   ]
  },
  {
   "cell_type": "code",
   "execution_count": 129,
   "id": "b082e667",
   "metadata": {},
   "outputs": [
    {
     "data": {
      "text/plain": [
       "{'Precision@1': Precision(k=1),\n",
       " 'Precision@2': Precision(k=2),\n",
       " 'Precision@3': Precision(k=3),\n",
       " 'Precision@4': Precision(k=4),\n",
       " 'Precision@5': Precision(k=5),\n",
       " 'Precision@6': Precision(k=6),\n",
       " 'Precision@7': Precision(k=7),\n",
       " 'Precision@8': Precision(k=8),\n",
       " 'Precision@9': Precision(k=9),\n",
       " 'Precision@10': Precision(k=10),\n",
       " 'Recall@1': Recall(k=1),\n",
       " 'Recall@2': Recall(k=2),\n",
       " 'Recall@3': Recall(k=3),\n",
       " 'Recall@4': Recall(k=4),\n",
       " 'Recall@5': Recall(k=5),\n",
       " 'Recall@6': Recall(k=6),\n",
       " 'Recall@7': Recall(k=7),\n",
       " 'Recall@8': Recall(k=8),\n",
       " 'Recall@9': Recall(k=9),\n",
       " 'Recall@10': Recall(k=10),\n",
       " 'MAP@1': MAP(k=1, divide_by_k=False),\n",
       " 'MAP@2': MAP(k=2, divide_by_k=False),\n",
       " 'MAP@3': MAP(k=3, divide_by_k=False),\n",
       " 'MAP@4': MAP(k=4, divide_by_k=False),\n",
       " 'MAP@5': MAP(k=5, divide_by_k=False),\n",
       " 'MAP@6': MAP(k=6, divide_by_k=False),\n",
       " 'MAP@7': MAP(k=7, divide_by_k=False),\n",
       " 'MAP@8': MAP(k=8, divide_by_k=False),\n",
       " 'MAP@9': MAP(k=9, divide_by_k=False),\n",
       " 'MAP@10': MAP(k=10, divide_by_k=False)}"
      ]
     },
     "execution_count": 129,
     "metadata": {},
     "output_type": "execute_result"
    }
   ],
   "source": [
    "metrics_name = {\n",
    "    'Precision': Precision,\n",
    "    'Recall': Recall,\n",
    "    'MAP': MAP,\n",
    "}\n",
    "\n",
    "metrics = {}\n",
    "for metric_name, metric in metrics_name.items():\n",
    "    for k in range(1, 11):\n",
    "        metrics[f'{metric_name}@{k}'] = metric(k=k)\n",
    "metrics"
   ]
  },
  {
   "cell_type": "code",
   "execution_count": 130,
   "id": "d027f149",
   "metadata": {},
   "outputs": [],
   "source": [
    "TEST_USERS = test[Columns.User].unique()"
   ]
  },
  {
   "cell_type": "markdown",
   "id": "2c603783",
   "metadata": {},
   "source": [
    "# Optuna"
   ]
  },
  {
   "cell_type": "code",
   "execution_count": 131,
   "id": "fb193c2f",
   "metadata": {},
   "outputs": [],
   "source": [
    "NUM_THREADS = 8\n",
    "RANDOM_STATE = 42\n",
    "K = 5\n",
    "NO_COMPONENTS = 32\n",
    "N_EPOCHS = 1"
   ]
  },
  {
   "cell_type": "code",
   "execution_count": 132,
   "id": "3328645d",
   "metadata": {},
   "outputs": [],
   "source": [
    "USER_ALPHA = 0 \n",
    "ITEM_ALPHA = 0 \n",
    "K_RECOS = 10"
   ]
  },
  {
   "cell_type": "code",
   "execution_count": 54,
   "id": "a17b8b66",
   "metadata": {
    "scrolled": true
   },
   "outputs": [
    {
     "name": "stderr",
     "output_type": "stream",
     "text": [
      "\u001b[32m[I 2022-12-12 18:32:01,241]\u001b[0m A new study created in memory with name: no-name-d2c12238-d18d-4c6f-bca4-840e7d3f29b0\u001b[0m\n",
      "\u001b[32m[I 2022-12-12 18:41:40,178]\u001b[0m Trial 0 finished with value: 0.07156314077881751 and parameters: {'recomender': 'ALS', 'regularization': 0.0035671951579306937}. Best is trial 0 with value: 0.07156314077881751.\u001b[0m\n"
     ]
    },
    {
     "name": "stdout",
     "output_type": "stream",
     "text": [
      "MAP@10 0.07156314077881751\n"
     ]
    },
    {
     "name": "stderr",
     "output_type": "stream",
     "text": [
      "\u001b[32m[I 2022-12-12 18:51:48,671]\u001b[0m Trial 1 finished with value: 0.07241639094290958 and parameters: {'recomender': 'ALS', 'regularization': 0.006724126527816994}. Best is trial 1 with value: 0.07241639094290958.\u001b[0m\n"
     ]
    },
    {
     "name": "stdout",
     "output_type": "stream",
     "text": [
      "MAP@10 0.07241639094290958\n"
     ]
    },
    {
     "name": "stderr",
     "output_type": "stream",
     "text": [
      "\u001b[32m[I 2022-12-12 18:53:18,697]\u001b[0m Trial 2 finished with value: 1.4050149479540313e-07 and parameters: {'recomender': 'LightFM', 'learning_rate': 0.8190152272980945, 'k': 6, 'loss': 'bpr'}. Best is trial 1 with value: 0.07241639094290958.\u001b[0m\n"
     ]
    },
    {
     "name": "stdout",
     "output_type": "stream",
     "text": [
      "MAP@10 1.4050149479540313e-07\n"
     ]
    },
    {
     "name": "stderr",
     "output_type": "stream",
     "text": [
      "\u001b[32m[I 2022-12-12 18:54:36,340]\u001b[0m Trial 3 finished with value: 0.005366068762176463 and parameters: {'recomender': 'LightFM', 'learning_rate': 0.18723291153626603, 'k': 7, 'loss': 'bpr'}. Best is trial 1 with value: 0.07241639094290958.\u001b[0m\n"
     ]
    },
    {
     "name": "stdout",
     "output_type": "stream",
     "text": [
      "MAP@10 0.005366068762176463\n"
     ]
    },
    {
     "name": "stderr",
     "output_type": "stream",
     "text": [
      "\u001b[32m[I 2022-12-12 18:56:21,781]\u001b[0m Trial 4 finished with value: 0.0002205827579874263 and parameters: {'recomender': 'LightFM', 'learning_rate': 0.6560234930178588, 'k': 6, 'loss': 'logistic'}. Best is trial 1 with value: 0.07241639094290958.\u001b[0m\n"
     ]
    },
    {
     "name": "stdout",
     "output_type": "stream",
     "text": [
      "MAP@10 0.0002205827579874263\n"
     ]
    },
    {
     "name": "stderr",
     "output_type": "stream",
     "text": [
      "\u001b[32m[I 2022-12-12 19:05:46,138]\u001b[0m Trial 5 finished with value: 0.07173988822226253 and parameters: {'recomender': 'ALS', 'regularization': 0.009044651486228098}. Best is trial 1 with value: 0.07241639094290958.\u001b[0m\n"
     ]
    },
    {
     "name": "stdout",
     "output_type": "stream",
     "text": [
      "MAP@10 0.07173988822226253\n"
     ]
    },
    {
     "name": "stderr",
     "output_type": "stream",
     "text": [
      "\u001b[32m[I 2022-12-12 19:07:05,748]\u001b[0m Trial 6 finished with value: 3.943062688880311e-06 and parameters: {'recomender': 'LightFM', 'learning_rate': 0.44751878244334975, 'k': 7, 'loss': 'warp'}. Best is trial 1 with value: 0.07241639094290958.\u001b[0m\n"
     ]
    },
    {
     "name": "stdout",
     "output_type": "stream",
     "text": [
      "MAP@10 3.943062688880311e-06\n"
     ]
    },
    {
     "name": "stderr",
     "output_type": "stream",
     "text": [
      "\u001b[32m[I 2022-12-12 19:08:22,099]\u001b[0m Trial 7 finished with value: 0.06793721324055035 and parameters: {'recomender': 'LightFM', 'learning_rate': 0.10438302844592218, 'k': 3, 'loss': 'warp'}. Best is trial 1 with value: 0.07241639094290958.\u001b[0m\n"
     ]
    },
    {
     "name": "stdout",
     "output_type": "stream",
     "text": [
      "MAP@10 0.06793721324055035\n"
     ]
    },
    {
     "name": "stderr",
     "output_type": "stream",
     "text": [
      "\u001b[32m[I 2022-12-12 19:17:32,898]\u001b[0m Trial 8 finished with value: 0.07184311920591484 and parameters: {'recomender': 'ALS', 'regularization': 0.0005806772800434514}. Best is trial 1 with value: 0.07241639094290958.\u001b[0m\n"
     ]
    },
    {
     "name": "stdout",
     "output_type": "stream",
     "text": [
      "MAP@10 0.07184311920591484\n"
     ]
    },
    {
     "name": "stderr",
     "output_type": "stream",
     "text": [
      "\u001b[32m[I 2022-12-12 19:18:59,268]\u001b[0m Trial 9 finished with value: 2.2409988419866796e-06 and parameters: {'recomender': 'LightFM', 'learning_rate': 0.805131840226543, 'k': 7, 'loss': 'bpr'}. Best is trial 1 with value: 0.07241639094290958.\u001b[0m\n"
     ]
    },
    {
     "name": "stdout",
     "output_type": "stream",
     "text": [
      "MAP@10 2.2409988419866796e-06\n"
     ]
    },
    {
     "name": "stderr",
     "output_type": "stream",
     "text": [
      "\u001b[32m[I 2022-12-12 19:28:09,202]\u001b[0m Trial 10 finished with value: 0.07180954187357708 and parameters: {'recomender': 'ALS', 'regularization': 0.008190821633209066}. Best is trial 1 with value: 0.07241639094290958.\u001b[0m\n"
     ]
    },
    {
     "name": "stdout",
     "output_type": "stream",
     "text": [
      "MAP@10 0.07180954187357708\n"
     ]
    },
    {
     "name": "stderr",
     "output_type": "stream",
     "text": [
      "\u001b[32m[I 2022-12-12 19:37:15,147]\u001b[0m Trial 11 finished with value: 0.07244222251339615 and parameters: {'recomender': 'ALS', 'regularization': 0.00026970098377155163}. Best is trial 11 with value: 0.07244222251339615.\u001b[0m\n"
     ]
    },
    {
     "name": "stdout",
     "output_type": "stream",
     "text": [
      "MAP@10 0.07244222251339615\n"
     ]
    },
    {
     "name": "stderr",
     "output_type": "stream",
     "text": [
      "\u001b[32m[I 2022-12-12 19:46:24,260]\u001b[0m Trial 12 finished with value: 0.07202031081710311 and parameters: {'recomender': 'ALS', 'regularization': 0.0066363513358619185}. Best is trial 11 with value: 0.07244222251339615.\u001b[0m\n"
     ]
    },
    {
     "name": "stdout",
     "output_type": "stream",
     "text": [
      "MAP@10 0.07202031081710311\n"
     ]
    },
    {
     "name": "stderr",
     "output_type": "stream",
     "text": [
      "\u001b[32m[I 2022-12-12 19:55:34,176]\u001b[0m Trial 13 finished with value: 0.07199398893026046 and parameters: {'recomender': 'ALS', 'regularization': 0.004156107607150058}. Best is trial 11 with value: 0.07244222251339615.\u001b[0m\n"
     ]
    },
    {
     "name": "stdout",
     "output_type": "stream",
     "text": [
      "MAP@10 0.07199398893026046\n"
     ]
    },
    {
     "name": "stderr",
     "output_type": "stream",
     "text": [
      "\u001b[32m[I 2022-12-12 20:04:42,589]\u001b[0m Trial 14 finished with value: 0.07167963259586223 and parameters: {'recomender': 'ALS', 'regularization': 0.0006228566403390988}. Best is trial 11 with value: 0.07244222251339615.\u001b[0m\n"
     ]
    },
    {
     "name": "stdout",
     "output_type": "stream",
     "text": [
      "MAP@10 0.07167963259586223\n"
     ]
    },
    {
     "name": "stderr",
     "output_type": "stream",
     "text": [
      "\u001b[32m[I 2022-12-12 20:13:49,348]\u001b[0m Trial 15 finished with value: 0.07202106855494453 and parameters: {'recomender': 'ALS', 'regularization': 0.00598705937836684}. Best is trial 11 with value: 0.07244222251339615.\u001b[0m\n"
     ]
    },
    {
     "name": "stdout",
     "output_type": "stream",
     "text": [
      "MAP@10 0.07202106855494453\n"
     ]
    },
    {
     "name": "stderr",
     "output_type": "stream",
     "text": [
      "\u001b[32m[I 2022-12-12 20:22:57,770]\u001b[0m Trial 16 finished with value: 0.07193963920172777 and parameters: {'recomender': 'ALS', 'regularization': 0.0028834604694796696}. Best is trial 11 with value: 0.07244222251339615.\u001b[0m\n"
     ]
    },
    {
     "name": "stdout",
     "output_type": "stream",
     "text": [
      "MAP@10 0.07193963920172777\n"
     ]
    },
    {
     "name": "stderr",
     "output_type": "stream",
     "text": [
      "\u001b[32m[I 2022-12-12 20:32:04,614]\u001b[0m Trial 17 finished with value: 0.07186249836889418 and parameters: {'recomender': 'ALS', 'regularization': 0.007249626991281137}. Best is trial 11 with value: 0.07244222251339615.\u001b[0m\n"
     ]
    },
    {
     "name": "stdout",
     "output_type": "stream",
     "text": [
      "MAP@10 0.07186249836889418\n"
     ]
    },
    {
     "name": "stderr",
     "output_type": "stream",
     "text": [
      "\u001b[32m[I 2022-12-12 20:41:24,258]\u001b[0m Trial 18 finished with value: 0.07164870366757094 and parameters: {'recomender': 'ALS', 'regularization': 0.005115162467576984}. Best is trial 11 with value: 0.07244222251339615.\u001b[0m\n"
     ]
    },
    {
     "name": "stdout",
     "output_type": "stream",
     "text": [
      "MAP@10 0.07164870366757094\n"
     ]
    },
    {
     "name": "stderr",
     "output_type": "stream",
     "text": [
      "\u001b[32m[I 2022-12-12 20:50:49,059]\u001b[0m Trial 19 finished with value: 0.07179004415938793 and parameters: {'recomender': 'ALS', 'regularization': 0.0018963762834092678}. Best is trial 11 with value: 0.07244222251339615.\u001b[0m\n"
     ]
    },
    {
     "name": "stdout",
     "output_type": "stream",
     "text": [
      "MAP@10 0.07179004415938793\n"
     ]
    },
    {
     "name": "stderr",
     "output_type": "stream",
     "text": [
      "\u001b[32m[I 2022-12-12 21:42:16,853]\u001b[0m Trial 20 finished with value: 0.07167129296212232 and parameters: {'recomender': 'ALS', 'regularization': 0.009804091535656343}. Best is trial 11 with value: 0.07244222251339615.\u001b[0m\n"
     ]
    },
    {
     "name": "stdout",
     "output_type": "stream",
     "text": [
      "MAP@10 0.07167129296212232\n"
     ]
    },
    {
     "name": "stderr",
     "output_type": "stream",
     "text": [
      "\u001b[32m[I 2022-12-12 21:52:20,413]\u001b[0m Trial 21 finished with value: 0.07191839766465505 and parameters: {'recomender': 'ALS', 'regularization': 0.005764203522687446}. Best is trial 11 with value: 0.07244222251339615.\u001b[0m\n"
     ]
    },
    {
     "name": "stdout",
     "output_type": "stream",
     "text": [
      "MAP@10 0.07191839766465505\n"
     ]
    },
    {
     "name": "stderr",
     "output_type": "stream",
     "text": [
      "\u001b[32m[I 2022-12-12 22:02:12,773]\u001b[0m Trial 22 finished with value: 0.07159025974450188 and parameters: {'recomender': 'ALS', 'regularization': 0.006209360331833826}. Best is trial 11 with value: 0.07244222251339615.\u001b[0m\n"
     ]
    },
    {
     "name": "stdout",
     "output_type": "stream",
     "text": [
      "MAP@10 0.07159025974450188\n"
     ]
    },
    {
     "name": "stderr",
     "output_type": "stream",
     "text": [
      "\u001b[32m[I 2022-12-12 22:12:55,936]\u001b[0m Trial 23 finished with value: 0.07167021208897958 and parameters: {'recomender': 'ALS', 'regularization': 0.007825089420401029}. Best is trial 11 with value: 0.07244222251339615.\u001b[0m\n"
     ]
    },
    {
     "name": "stdout",
     "output_type": "stream",
     "text": [
      "MAP@10 0.07167021208897958\n"
     ]
    },
    {
     "name": "stderr",
     "output_type": "stream",
     "text": [
      "\u001b[32m[I 2022-12-12 22:23:04,762]\u001b[0m Trial 24 finished with value: 0.07191850988173716 and parameters: {'recomender': 'ALS', 'regularization': 0.004979324924695012}. Best is trial 11 with value: 0.07244222251339615.\u001b[0m\n"
     ]
    },
    {
     "name": "stdout",
     "output_type": "stream",
     "text": [
      "MAP@10 0.07191850988173716\n"
     ]
    },
    {
     "name": "stderr",
     "output_type": "stream",
     "text": [
      "\u001b[32m[I 2022-12-12 22:34:38,654]\u001b[0m Trial 25 finished with value: 0.07178449755342503 and parameters: {'recomender': 'ALS', 'regularization': 0.002381286135370409}. Best is trial 11 with value: 0.07244222251339615.\u001b[0m\n"
     ]
    },
    {
     "name": "stdout",
     "output_type": "stream",
     "text": [
      "MAP@10 0.07178449755342503\n"
     ]
    },
    {
     "name": "stderr",
     "output_type": "stream",
     "text": [
      "\u001b[32m[I 2022-12-12 22:45:43,850]\u001b[0m Trial 26 finished with value: 0.07177449403191542 and parameters: {'recomender': 'ALS', 'regularization': 0.004677821831829}. Best is trial 11 with value: 0.07244222251339615.\u001b[0m\n"
     ]
    },
    {
     "name": "stdout",
     "output_type": "stream",
     "text": [
      "MAP@10 0.07177449403191542\n"
     ]
    },
    {
     "name": "stderr",
     "output_type": "stream",
     "text": [
      "\u001b[32m[I 2022-12-12 22:56:45,636]\u001b[0m Trial 27 finished with value: 0.07214439856613958 and parameters: {'recomender': 'ALS', 'regularization': 0.0069504676367203744}. Best is trial 11 with value: 0.07244222251339615.\u001b[0m\n"
     ]
    },
    {
     "name": "stdout",
     "output_type": "stream",
     "text": [
      "MAP@10 0.07214439856613958\n"
     ]
    },
    {
     "name": "stderr",
     "output_type": "stream",
     "text": [
      "\u001b[32m[I 2022-12-12 23:08:13,361]\u001b[0m Trial 28 finished with value: 0.07237690498752612 and parameters: {'recomender': 'ALS', 'regularization': 0.0074561399301387955}. Best is trial 11 with value: 0.07244222251339615.\u001b[0m\n"
     ]
    },
    {
     "name": "stdout",
     "output_type": "stream",
     "text": [
      "MAP@10 0.07237690498752612\n"
     ]
    },
    {
     "name": "stderr",
     "output_type": "stream",
     "text": [
      "\u001b[32m[I 2022-12-12 23:18:05,878]\u001b[0m Trial 29 finished with value: 0.07173589378156864 and parameters: {'recomender': 'ALS', 'regularization': 0.00848249465326267}. Best is trial 11 with value: 0.07244222251339615.\u001b[0m\n"
     ]
    },
    {
     "name": "stdout",
     "output_type": "stream",
     "text": [
      "MAP@10 0.07173589378156864\n"
     ]
    },
    {
     "name": "stderr",
     "output_type": "stream",
     "text": [
      "\u001b[33m[W 2022-12-12 23:27:26,180]\u001b[0m Trial 30 failed because of the following error: KeyboardInterrupt()\u001b[0m\n",
      "Traceback (most recent call last):\n",
      "  File \"/home/rezarayev/anaconda3/lib/python3.8/site-packages/optuna/study/_optimize.py\", line 196, in _run_trial\n",
      "    value_or_values = func(trial)\n",
      "  File \"/tmp/ipykernel_5286/352742220.py\", line 40, in objective\n",
      "    recos = model.recommend(\n",
      "  File \"/home/rezarayev/anaconda3/lib/python3.8/site-packages/rectools/models/base.py\", line 132, in recommend\n",
      "    reco_user_ids, reco_item_ids, reco_scores = self._recommend_u2i(\n",
      "  File \"/home/rezarayev/anaconda3/lib/python3.8/site-packages/rectools/models/vector.py\", line 141, in _recommend_u2i\n",
      "    scores = scores_calculator.calc(target_id)\n",
      "  File \"/home/rezarayev/anaconda3/lib/python3.8/site-packages/rectools/models/vector.py\", line 98, in calc\n",
      "    scores = self.objects_factors @ subject_factors\n",
      "KeyboardInterrupt\n"
     ]
    },
    {
     "ename": "KeyboardInterrupt",
     "evalue": "",
     "output_type": "error",
     "traceback": [
      "\u001b[0;31m---------------------------------------------------------------------------\u001b[0m",
      "\u001b[0;31mKeyboardInterrupt\u001b[0m                         Traceback (most recent call last)",
      "\u001b[0;32m/tmp/ipykernel_5286/352742220.py\u001b[0m in \u001b[0;36m<module>\u001b[0;34m\u001b[0m\n\u001b[1;32m     48\u001b[0m \u001b[0;34m\u001b[0m\u001b[0m\n\u001b[1;32m     49\u001b[0m \u001b[0mstudy\u001b[0m \u001b[0;34m=\u001b[0m \u001b[0moptuna\u001b[0m\u001b[0;34m.\u001b[0m\u001b[0mcreate_study\u001b[0m\u001b[0;34m(\u001b[0m\u001b[0mdirection\u001b[0m \u001b[0;34m=\u001b[0m \u001b[0;34m'maximize'\u001b[0m\u001b[0;34m)\u001b[0m\u001b[0;34m\u001b[0m\u001b[0;34m\u001b[0m\u001b[0m\n\u001b[0;32m---> 50\u001b[0;31m \u001b[0mstudy\u001b[0m\u001b[0;34m.\u001b[0m\u001b[0moptimize\u001b[0m\u001b[0;34m(\u001b[0m\u001b[0mobjective\u001b[0m\u001b[0;34m,\u001b[0m \u001b[0mn_trials\u001b[0m \u001b[0;34m=\u001b[0m \u001b[0;36m100\u001b[0m\u001b[0;34m)\u001b[0m\u001b[0;34m\u001b[0m\u001b[0;34m\u001b[0m\u001b[0m\n\u001b[0m",
      "\u001b[0;32m~/anaconda3/lib/python3.8/site-packages/optuna/study/study.py\u001b[0m in \u001b[0;36moptimize\u001b[0;34m(self, func, n_trials, timeout, n_jobs, catch, callbacks, gc_after_trial, show_progress_bar)\u001b[0m\n\u001b[1;32m    417\u001b[0m         \"\"\"\n\u001b[1;32m    418\u001b[0m \u001b[0;34m\u001b[0m\u001b[0m\n\u001b[0;32m--> 419\u001b[0;31m         _optimize(\n\u001b[0m\u001b[1;32m    420\u001b[0m             \u001b[0mstudy\u001b[0m\u001b[0;34m=\u001b[0m\u001b[0mself\u001b[0m\u001b[0;34m,\u001b[0m\u001b[0;34m\u001b[0m\u001b[0;34m\u001b[0m\u001b[0m\n\u001b[1;32m    421\u001b[0m             \u001b[0mfunc\u001b[0m\u001b[0;34m=\u001b[0m\u001b[0mfunc\u001b[0m\u001b[0;34m,\u001b[0m\u001b[0;34m\u001b[0m\u001b[0;34m\u001b[0m\u001b[0m\n",
      "\u001b[0;32m~/anaconda3/lib/python3.8/site-packages/optuna/study/_optimize.py\u001b[0m in \u001b[0;36m_optimize\u001b[0;34m(study, func, n_trials, timeout, n_jobs, catch, callbacks, gc_after_trial, show_progress_bar)\u001b[0m\n\u001b[1;32m     64\u001b[0m     \u001b[0;32mtry\u001b[0m\u001b[0;34m:\u001b[0m\u001b[0;34m\u001b[0m\u001b[0;34m\u001b[0m\u001b[0m\n\u001b[1;32m     65\u001b[0m         \u001b[0;32mif\u001b[0m \u001b[0mn_jobs\u001b[0m \u001b[0;34m==\u001b[0m \u001b[0;36m1\u001b[0m\u001b[0;34m:\u001b[0m\u001b[0;34m\u001b[0m\u001b[0;34m\u001b[0m\u001b[0m\n\u001b[0;32m---> 66\u001b[0;31m             _optimize_sequential(\n\u001b[0m\u001b[1;32m     67\u001b[0m                 \u001b[0mstudy\u001b[0m\u001b[0;34m,\u001b[0m\u001b[0;34m\u001b[0m\u001b[0;34m\u001b[0m\u001b[0m\n\u001b[1;32m     68\u001b[0m                 \u001b[0mfunc\u001b[0m\u001b[0;34m,\u001b[0m\u001b[0;34m\u001b[0m\u001b[0;34m\u001b[0m\u001b[0m\n",
      "\u001b[0;32m~/anaconda3/lib/python3.8/site-packages/optuna/study/_optimize.py\u001b[0m in \u001b[0;36m_optimize_sequential\u001b[0;34m(study, func, n_trials, timeout, catch, callbacks, gc_after_trial, reseed_sampler_rng, time_start, progress_bar)\u001b[0m\n\u001b[1;32m    158\u001b[0m \u001b[0;34m\u001b[0m\u001b[0m\n\u001b[1;32m    159\u001b[0m         \u001b[0;32mtry\u001b[0m\u001b[0;34m:\u001b[0m\u001b[0;34m\u001b[0m\u001b[0;34m\u001b[0m\u001b[0m\n\u001b[0;32m--> 160\u001b[0;31m             \u001b[0mfrozen_trial\u001b[0m \u001b[0;34m=\u001b[0m \u001b[0m_run_trial\u001b[0m\u001b[0;34m(\u001b[0m\u001b[0mstudy\u001b[0m\u001b[0;34m,\u001b[0m \u001b[0mfunc\u001b[0m\u001b[0;34m,\u001b[0m \u001b[0mcatch\u001b[0m\u001b[0;34m)\u001b[0m\u001b[0;34m\u001b[0m\u001b[0;34m\u001b[0m\u001b[0m\n\u001b[0m\u001b[1;32m    161\u001b[0m         \u001b[0;32mfinally\u001b[0m\u001b[0;34m:\u001b[0m\u001b[0;34m\u001b[0m\u001b[0;34m\u001b[0m\u001b[0m\n\u001b[1;32m    162\u001b[0m             \u001b[0;31m# The following line mitigates memory problems that can be occurred in some\u001b[0m\u001b[0;34m\u001b[0m\u001b[0;34m\u001b[0m\u001b[0;34m\u001b[0m\u001b[0m\n",
      "\u001b[0;32m~/anaconda3/lib/python3.8/site-packages/optuna/study/_optimize.py\u001b[0m in \u001b[0;36m_run_trial\u001b[0;34m(study, func, catch)\u001b[0m\n\u001b[1;32m    232\u001b[0m         \u001b[0;32mand\u001b[0m \u001b[0;32mnot\u001b[0m \u001b[0misinstance\u001b[0m\u001b[0;34m(\u001b[0m\u001b[0mfunc_err\u001b[0m\u001b[0;34m,\u001b[0m \u001b[0mcatch\u001b[0m\u001b[0;34m)\u001b[0m\u001b[0;34m\u001b[0m\u001b[0;34m\u001b[0m\u001b[0m\n\u001b[1;32m    233\u001b[0m     ):\n\u001b[0;32m--> 234\u001b[0;31m         \u001b[0;32mraise\u001b[0m \u001b[0mfunc_err\u001b[0m\u001b[0;34m\u001b[0m\u001b[0;34m\u001b[0m\u001b[0m\n\u001b[0m\u001b[1;32m    235\u001b[0m     \u001b[0;32mreturn\u001b[0m \u001b[0mfrozen_trial\u001b[0m\u001b[0;34m\u001b[0m\u001b[0;34m\u001b[0m\u001b[0m\n\u001b[1;32m    236\u001b[0m \u001b[0;34m\u001b[0m\u001b[0m\n",
      "\u001b[0;32m~/anaconda3/lib/python3.8/site-packages/optuna/study/_optimize.py\u001b[0m in \u001b[0;36m_run_trial\u001b[0;34m(study, func, catch)\u001b[0m\n\u001b[1;32m    194\u001b[0m     \u001b[0;32mwith\u001b[0m \u001b[0mget_heartbeat_thread\u001b[0m\u001b[0;34m(\u001b[0m\u001b[0mtrial\u001b[0m\u001b[0;34m.\u001b[0m\u001b[0m_trial_id\u001b[0m\u001b[0;34m,\u001b[0m \u001b[0mstudy\u001b[0m\u001b[0;34m.\u001b[0m\u001b[0m_storage\u001b[0m\u001b[0;34m)\u001b[0m\u001b[0;34m:\u001b[0m\u001b[0;34m\u001b[0m\u001b[0;34m\u001b[0m\u001b[0m\n\u001b[1;32m    195\u001b[0m         \u001b[0;32mtry\u001b[0m\u001b[0;34m:\u001b[0m\u001b[0;34m\u001b[0m\u001b[0;34m\u001b[0m\u001b[0m\n\u001b[0;32m--> 196\u001b[0;31m             \u001b[0mvalue_or_values\u001b[0m \u001b[0;34m=\u001b[0m \u001b[0mfunc\u001b[0m\u001b[0;34m(\u001b[0m\u001b[0mtrial\u001b[0m\u001b[0;34m)\u001b[0m\u001b[0;34m\u001b[0m\u001b[0;34m\u001b[0m\u001b[0m\n\u001b[0m\u001b[1;32m    197\u001b[0m         \u001b[0;32mexcept\u001b[0m \u001b[0mexceptions\u001b[0m\u001b[0;34m.\u001b[0m\u001b[0mTrialPruned\u001b[0m \u001b[0;32mas\u001b[0m \u001b[0me\u001b[0m\u001b[0;34m:\u001b[0m\u001b[0;34m\u001b[0m\u001b[0;34m\u001b[0m\u001b[0m\n\u001b[1;32m    198\u001b[0m             \u001b[0;31m# TODO(mamu): Handle multi-objective cases.\u001b[0m\u001b[0;34m\u001b[0m\u001b[0;34m\u001b[0m\u001b[0;34m\u001b[0m\u001b[0m\n",
      "\u001b[0;32m/tmp/ipykernel_5286/352742220.py\u001b[0m in \u001b[0;36mobjective\u001b[0;34m(trial)\u001b[0m\n\u001b[1;32m     38\u001b[0m                     fit_features_together=True)\n\u001b[1;32m     39\u001b[0m     \u001b[0mmodel\u001b[0m\u001b[0;34m.\u001b[0m\u001b[0mfit\u001b[0m\u001b[0;34m(\u001b[0m\u001b[0mdataset\u001b[0m\u001b[0;34m)\u001b[0m\u001b[0;34m\u001b[0m\u001b[0;34m\u001b[0m\u001b[0m\n\u001b[0;32m---> 40\u001b[0;31m     recos = model.recommend(\n\u001b[0m\u001b[1;32m     41\u001b[0m     \u001b[0musers\u001b[0m\u001b[0;34m=\u001b[0m\u001b[0mTEST_USERS\u001b[0m\u001b[0;34m,\u001b[0m\u001b[0;34m\u001b[0m\u001b[0;34m\u001b[0m\u001b[0m\n\u001b[1;32m     42\u001b[0m     \u001b[0mdataset\u001b[0m\u001b[0;34m=\u001b[0m\u001b[0mdataset\u001b[0m\u001b[0;34m,\u001b[0m\u001b[0;34m\u001b[0m\u001b[0;34m\u001b[0m\u001b[0m\n",
      "\u001b[0;32m~/anaconda3/lib/python3.8/site-packages/rectools/models/base.py\u001b[0m in \u001b[0;36mrecommend\u001b[0;34m(self, users, dataset, k, filter_viewed, items_to_recommend, add_rank_col)\u001b[0m\n\u001b[1;32m    130\u001b[0m             \u001b[0msorted_item_ids_to_recommend\u001b[0m \u001b[0;34m=\u001b[0m \u001b[0;32mNone\u001b[0m\u001b[0;34m\u001b[0m\u001b[0;34m\u001b[0m\u001b[0m\n\u001b[1;32m    131\u001b[0m \u001b[0;34m\u001b[0m\u001b[0m\n\u001b[0;32m--> 132\u001b[0;31m         reco_user_ids, reco_item_ids, reco_scores = self._recommend_u2i(\n\u001b[0m\u001b[1;32m    133\u001b[0m             \u001b[0muser_ids\u001b[0m\u001b[0;34m,\u001b[0m\u001b[0;34m\u001b[0m\u001b[0;34m\u001b[0m\u001b[0m\n\u001b[1;32m    134\u001b[0m             \u001b[0mdataset\u001b[0m\u001b[0;34m,\u001b[0m\u001b[0;34m\u001b[0m\u001b[0;34m\u001b[0m\u001b[0m\n",
      "\u001b[0;32m~/anaconda3/lib/python3.8/site-packages/rectools/models/vector.py\u001b[0m in \u001b[0;36m_recommend_u2i\u001b[0;34m(self, user_ids, dataset, k, filter_viewed, sorted_item_ids_to_recommend)\u001b[0m\n\u001b[1;32m    139\u001b[0m         \u001b[0mall_scores\u001b[0m\u001b[0;34m:\u001b[0m \u001b[0mtp\u001b[0m\u001b[0;34m.\u001b[0m\u001b[0mList\u001b[0m\u001b[0;34m[\u001b[0m\u001b[0mnp\u001b[0m\u001b[0;34m.\u001b[0m\u001b[0mndarray\u001b[0m\u001b[0;34m]\u001b[0m \u001b[0;34m=\u001b[0m \u001b[0;34m[\u001b[0m\u001b[0;34m]\u001b[0m\u001b[0;34m\u001b[0m\u001b[0;34m\u001b[0m\u001b[0m\n\u001b[1;32m    140\u001b[0m         \u001b[0;32mfor\u001b[0m \u001b[0mtarget_id\u001b[0m \u001b[0;32min\u001b[0m \u001b[0mtqdm\u001b[0m\u001b[0;34m(\u001b[0m\u001b[0muser_ids\u001b[0m\u001b[0;34m,\u001b[0m \u001b[0mdisable\u001b[0m\u001b[0;34m=\u001b[0m\u001b[0mself\u001b[0m\u001b[0;34m.\u001b[0m\u001b[0mverbose\u001b[0m \u001b[0;34m==\u001b[0m \u001b[0;36m0\u001b[0m\u001b[0;34m)\u001b[0m\u001b[0;34m:\u001b[0m\u001b[0;34m\u001b[0m\u001b[0;34m\u001b[0m\u001b[0m\n\u001b[0;32m--> 141\u001b[0;31m             \u001b[0mscores\u001b[0m \u001b[0;34m=\u001b[0m \u001b[0mscores_calculator\u001b[0m\u001b[0;34m.\u001b[0m\u001b[0mcalc\u001b[0m\u001b[0;34m(\u001b[0m\u001b[0mtarget_id\u001b[0m\u001b[0;34m)\u001b[0m\u001b[0;34m\u001b[0m\u001b[0;34m\u001b[0m\u001b[0m\n\u001b[0m\u001b[1;32m    142\u001b[0m             reco_ids, reco_scores = recommend_from_scores(\n\u001b[1;32m    143\u001b[0m                 \u001b[0mscores\u001b[0m\u001b[0;34m=\u001b[0m\u001b[0mscores\u001b[0m\u001b[0;34m,\u001b[0m\u001b[0;34m\u001b[0m\u001b[0;34m\u001b[0m\u001b[0m\n",
      "\u001b[0;32m~/anaconda3/lib/python3.8/site-packages/rectools/models/vector.py\u001b[0m in \u001b[0;36mcalc\u001b[0;34m(self, subject_id)\u001b[0m\n\u001b[1;32m     96\u001b[0m         \u001b[0msubject_factors\u001b[0m \u001b[0;34m=\u001b[0m \u001b[0mself\u001b[0m\u001b[0;34m.\u001b[0m\u001b[0msubjects_factors\u001b[0m\u001b[0;34m[\u001b[0m\u001b[0msubject_id\u001b[0m\u001b[0;34m]\u001b[0m\u001b[0;34m\u001b[0m\u001b[0;34m\u001b[0m\u001b[0m\n\u001b[1;32m     97\u001b[0m         \u001b[0;32mif\u001b[0m \u001b[0mself\u001b[0m\u001b[0;34m.\u001b[0m\u001b[0mdistance\u001b[0m \u001b[0;34m==\u001b[0m \u001b[0mDistance\u001b[0m\u001b[0;34m.\u001b[0m\u001b[0mDOT\u001b[0m\u001b[0;34m:\u001b[0m\u001b[0;34m\u001b[0m\u001b[0;34m\u001b[0m\u001b[0m\n\u001b[0;32m---> 98\u001b[0;31m             \u001b[0mscores\u001b[0m \u001b[0;34m=\u001b[0m \u001b[0mself\u001b[0m\u001b[0;34m.\u001b[0m\u001b[0mobjects_factors\u001b[0m \u001b[0;34m@\u001b[0m \u001b[0msubject_factors\u001b[0m\u001b[0;34m\u001b[0m\u001b[0;34m\u001b[0m\u001b[0m\n\u001b[0m\u001b[1;32m     99\u001b[0m         \u001b[0;32melif\u001b[0m \u001b[0mself\u001b[0m\u001b[0;34m.\u001b[0m\u001b[0mdistance\u001b[0m \u001b[0;34m==\u001b[0m \u001b[0mDistance\u001b[0m\u001b[0;34m.\u001b[0m\u001b[0mEUCLIDEAN\u001b[0m\u001b[0;34m:\u001b[0m\u001b[0;34m\u001b[0m\u001b[0;34m\u001b[0m\u001b[0m\n\u001b[1;32m    100\u001b[0m             \u001b[0msubject_dot\u001b[0m \u001b[0;34m=\u001b[0m \u001b[0mself\u001b[0m\u001b[0;34m.\u001b[0m\u001b[0msubjects_dots\u001b[0m\u001b[0;34m[\u001b[0m\u001b[0msubject_id\u001b[0m\u001b[0;34m]\u001b[0m\u001b[0;34m\u001b[0m\u001b[0;34m\u001b[0m\u001b[0m\n",
      "\u001b[0;31mKeyboardInterrupt\u001b[0m: "
     ]
    }
   ],
   "source": [
    "dataset = Dataset.construct(interactions_df=train,\n",
    "                            user_features_df=user_features,\n",
    "                            cat_user_features=['sex', 'age', 'income'],\n",
    "                            item_features_df=item_features,\n",
    "                            cat_item_features=['content_type', 'genre'])\n",
    "TEST_USERS = test[Columns.User].unique()\n",
    "\n",
    "\n",
    "def objective(trial):\n",
    "    model_name = trial.suggest_categorical('recomender', ['LightFM',\n",
    "            'ALS'])\n",
    "    if model_name == 'LightFM':\n",
    "        learning_rate = trial.suggest_float('learning_rate', 1e-10, 1)\n",
    "        k = trial.suggest_int('k', 2, 10)\n",
    "        loss = trial.suggest_categorical('loss', ['logistic', 'bpr',\n",
    "                'warp'])\n",
    "        model = LightFMWrapperModel(LightFM(k=k,\n",
    "                                    learning_rate=learning_rate,\n",
    "                                    loss=loss, no_components=10),\n",
    "                                    epochs=N_EPOCHS,\n",
    "                                    num_threads=NUM_THREADS)\n",
    "    else:\n",
    "        regularization = trial.suggest_float('regularization', 1e-4,\n",
    "                1e-2)\n",
    "        model = \\\n",
    "            ImplicitALSWrapperModel(model=AlternatingLeastSquares(factors=10,\n",
    "                                    random_state=RANDOM_STATE,\n",
    "                                    num_threads=NUM_THREADS,\n",
    "                                    regularization=regularization),\n",
    "                                    fit_features_together=True)\n",
    "    model.fit(dataset)\n",
    "    recos = model.recommend(users=TEST_USERS, dataset=dataset,\n",
    "                            k=K_RECOS, filter_viewed=True)\n",
    "    metric = calc_metrics(metrics, recos, test, train)['MAP@10']\n",
    "    print ('MAP@10', metric)\n",
    "    return metric\n",
    "\n",
    "\n",
    "study = optuna.create_study(direction='maximize')\n",
    "study.optimize(objective, n_trials=100)"
   ]
  },
  {
   "cell_type": "markdown",
   "id": "3989645b",
   "metadata": {},
   "source": [
    "## Пришлось остановить обучение, тк эти 30 эпох обучались 6 часов"
   ]
  },
  {
   "cell_type": "code",
   "execution_count": 55,
   "id": "99aae61e",
   "metadata": {},
   "outputs": [
    {
     "data": {
      "text/plain": [
       "{'recomender': 'ALS', 'regularization': 0.00026970098377155163}"
      ]
     },
     "execution_count": 55,
     "metadata": {},
     "output_type": "execute_result"
    }
   ],
   "source": [
    "study.best_params"
   ]
  },
  {
   "cell_type": "code",
   "execution_count": 133,
   "id": "d1f6069a",
   "metadata": {},
   "outputs": [],
   "source": [
    "# обучаем best model после optuna\n",
    "model = \\\n",
    "    ImplicitALSWrapperModel(model=AlternatingLeastSquares(factors=32,\n",
    "                            random_state=RANDOM_STATE,\n",
    "                            num_threads=NUM_THREADS,\n",
    "                            regularization=study.best_params['regularization'\n",
    "                            ]), fit_features_together=True)"
   ]
  },
  {
   "cell_type": "code",
   "execution_count": null,
   "id": "d3907c1d",
   "metadata": {},
   "outputs": [],
   "source": [
    "model.fit(dataset)"
   ]
  },
  {
   "cell_type": "code",
   "execution_count": 58,
   "id": "b2050a6e",
   "metadata": {},
   "outputs": [],
   "source": [
    "recos = model.recommend(\n",
    "        users=TEST_USERS,\n",
    "        dataset=dataset,\n",
    "        k=K_RECOS,\n",
    "        filter_viewed=True)"
   ]
  },
  {
   "cell_type": "code",
   "execution_count": 59,
   "id": "6bbe3ff3",
   "metadata": {},
   "outputs": [
    {
     "data": {
      "text/plain": [
       "0.07124010116092815"
      ]
     },
     "execution_count": 59,
     "metadata": {},
     "output_type": "execute_result"
    }
   ],
   "source": [
    "calc_metrics(metrics, recos, test, train)['MAP@10']"
   ]
  },
  {
   "cell_type": "code",
   "execution_count": 61,
   "id": "d3eead34",
   "metadata": {},
   "outputs": [],
   "source": [
    "recos = recos[['user_id', 'item_id']]\n",
    "recos.to_csv('ALS_after_optuna.csv.gz', index=False, compression='gzip')"
   ]
  },
  {
   "cell_type": "markdown",
   "id": "ab12c89f",
   "metadata": {},
   "source": [
    " ## Воспользоваться методом приближенного поиска соседей для выдачи рекомендаций. "
   ]
  },
  {
   "cell_type": "code",
   "execution_count": 216,
   "id": "bcdc650a",
   "metadata": {},
   "outputs": [],
   "source": [
    "#pip install --no-binary :all: nmslib"
   ]
  },
  {
   "cell_type": "code",
   "execution_count": 62,
   "id": "f6fc49dc",
   "metadata": {},
   "outputs": [
    {
     "name": "stderr",
     "output_type": "stream",
     "text": [
      "Your CPU supports instructions that this binary was not compiled to use: SSE3 SSE4.1 SSE4.2 AVX AVX2\n",
      "For maximum performance, you can install NMSLIB from sources \n",
      "pip install --no-binary :all: nmslib\n"
     ]
    }
   ],
   "source": [
    "import nmslib\n",
    "import time"
   ]
  },
  {
   "cell_type": "code",
   "execution_count": 67,
   "id": "5d1161b4",
   "metadata": {},
   "outputs": [],
   "source": [
    "LEARNING_RATE = 0.08165160206425184\n",
    "LOSS = 'warp'"
   ]
  },
  {
   "cell_type": "code",
   "execution_count": 68,
   "id": "9f20ae6e",
   "metadata": {},
   "outputs": [],
   "source": [
    "# обучаем LightFM, чтобы достать из нее вектора пользователей и айтемов\n",
    "model = LightFMWrapperModel(\n",
    "    LightFM(\n",
    "        k=K,\n",
    "        no_components=NO_COMPONENTS, \n",
    "        loss= LOSS, \n",
    "        random_state=RANDOM_STATE,\n",
    "        learning_rate=LEARNING_RATE,\n",
    "        user_alpha=USER_ALPHA,\n",
    "        item_alpha=ITEM_ALPHA),\n",
    "    epochs=N_EPOCHS,\n",
    "    num_threads=NUM_THREADS) "
   ]
  },
  {
   "cell_type": "code",
   "execution_count": 69,
   "id": "9982d55c",
   "metadata": {},
   "outputs": [
    {
     "data": {
      "text/plain": [
       "<rectools.models.lightfm.LightFMWrapperModel at 0x7f8dfdb82520>"
      ]
     },
     "execution_count": 69,
     "metadata": {},
     "output_type": "execute_result"
    }
   ],
   "source": [
    "model.fit(dataset)"
   ]
  },
  {
   "cell_type": "code",
   "execution_count": 72,
   "id": "348b4fd6",
   "metadata": {},
   "outputs": [],
   "source": [
    "user_embeddings, item_embeddings = model.get_vectors(dataset)"
   ]
  },
  {
   "cell_type": "code",
   "execution_count": 73,
   "id": "fd296cf4",
   "metadata": {},
   "outputs": [
    {
     "data": {
      "text/plain": [
       "((756545, 34), (13963, 34))"
      ]
     },
     "execution_count": 73,
     "metadata": {},
     "output_type": "execute_result"
    }
   ],
   "source": [
    "user_embeddings.shape, item_embeddings.shape"
   ]
  },
  {
   "cell_type": "code",
   "execution_count": 74,
   "id": "d75b4570",
   "metadata": {},
   "outputs": [
    {
     "data": {
      "text/plain": [
       "array([-2.48910075e+02,  1.00000000e+00, -3.04745167e-01,  1.30259299e-01,\n",
       "       -1.25937782e-01,  1.32810516e-01, -3.98682870e-01,  2.12211904e-01,\n",
       "        3.15063161e-01,  9.48599975e-03,  1.79876286e-01, -1.15210674e-01,\n",
       "        3.13044085e-01,  5.25500635e-02, -8.94866249e-02,  6.32450803e-02,\n",
       "        3.30464664e-01, -2.79290127e-01,  7.66675368e-02,  2.69704125e-01,\n",
       "       -2.02872234e-01,  3.65543869e-02, -2.08750917e-01, -7.48397237e-02,\n",
       "        2.09714412e-01,  1.28161004e-01, -2.49842146e-01,  7.57336145e-02,\n",
       "        6.74582969e-02,  2.03054725e-01, -4.46441335e-02,  1.00222239e-01,\n",
       "        3.09746759e-01,  2.26963989e-01])"
      ]
     },
     "execution_count": 74,
     "metadata": {},
     "output_type": "execute_result"
    }
   ],
   "source": [
    "#пользователь со средним значением по каждому признаку\n",
    "first_person = user_embeddings.mean(0)\n",
    "first_person"
   ]
  },
  {
   "cell_type": "code",
   "execution_count": 75,
   "id": "88198015",
   "metadata": {},
   "outputs": [
    {
     "data": {
      "text/plain": [
       "array([-364.41271973,    1.        ,   -2.19337273,   -2.05960441,\n",
       "         -3.03305483,   -2.15237951,   -3.10027146,   -1.44008625,\n",
       "         -1.55592728,   -1.69499218,   -1.87335801,   -3.19125104,\n",
       "         -1.8664068 ,   -2.62357092,   -2.23808742,   -1.78050435,\n",
       "         -1.67308342,   -2.70261121,   -1.94637215,   -2.44766903,\n",
       "         -2.40233946,   -1.93648934,   -2.32535124,   -2.73280096,\n",
       "         -2.20278382,   -1.93085539,   -2.29366779,   -1.9847883 ,\n",
       "         -2.619452  ,   -1.8447926 ,   -2.03915739,   -1.86472845,\n",
       "         -1.80441463,   -1.98137343])"
      ]
     },
     "execution_count": 75,
     "metadata": {},
     "output_type": "execute_result"
    }
   ],
   "source": [
    "#пользователь со минимальным значением по каждому признаку\n",
    "second_person = user_embeddings.min(axis=0)\n",
    "second_person"
   ]
  },
  {
   "cell_type": "code",
   "execution_count": 76,
   "id": "4e02dec3",
   "metadata": {},
   "outputs": [
    {
     "data": {
      "text/plain": [
       "array([0.        , 1.        , 1.80414879, 2.91568851, 2.57092023,\n",
       "       2.49563074, 3.0165813 , 2.02071786, 2.10402703, 1.86775827,\n",
       "       1.81193578, 2.3456769 , 2.37611055, 4.0926795 , 1.8776809 ,\n",
       "       1.91333187, 2.16625547, 1.76979506, 1.87265527, 2.63360167,\n",
       "       1.97114313, 1.88249838, 1.89424872, 2.15507913, 2.38049865,\n",
       "       1.99921763, 1.80478072, 1.8311218 , 3.32906055, 2.25318193,\n",
       "       2.0245254 , 2.37490654, 2.28989363, 1.97282732])"
      ]
     },
     "execution_count": 76,
     "metadata": {},
     "output_type": "execute_result"
    }
   ],
   "source": [
    "#пользователь со максимальным значением по каждому признаку\n",
    "third_person = user_embeddings.max(axis=0)\n",
    "third_person"
   ]
  },
  {
   "cell_type": "code",
   "execution_count": 77,
   "id": "75a314ac",
   "metadata": {},
   "outputs": [
    {
     "data": {
      "text/plain": [
       "(756545, 34)"
      ]
     },
     "execution_count": 77,
     "metadata": {},
     "output_type": "execute_result"
    }
   ],
   "source": [
    "user_embeddings.shape"
   ]
  },
  {
   "cell_type": "code",
   "execution_count": 78,
   "id": "3cb72431",
   "metadata": {},
   "outputs": [
    {
     "data": {
      "text/plain": [
       "(756548, 34)"
      ]
     },
     "execution_count": 78,
     "metadata": {},
     "output_type": "execute_result"
    }
   ],
   "source": [
    "# добавим векотра 3х новых пользователей\n",
    "user_embeddings = np.append(user_embeddings, np.array([first_person,\n",
    "                            second_person, third_person]), axis=0)\n",
    "user_embeddings.shape\n"
   ]
  },
  {
   "cell_type": "code",
   "execution_count": 79,
   "id": "db53d401",
   "metadata": {},
   "outputs": [
    {
     "name": "stdout",
     "output_type": "stream",
     "text": [
      "Index-time parameters {'M': 50, 'indexThreadQty': 8, 'efConstruction': 150, 'post': 0, 'chunkIndexSize': 10000}\n"
     ]
    }
   ],
   "source": [
    "M = 50\n",
    "efC = 150\n",
    "\n",
    "num_threads = 8\n",
    "chunkIndexSize = 10000\n",
    "\n",
    "index_time_params = {\n",
    "    'M': M,\n",
    "    'indexThreadQty': num_threads,\n",
    "    'efConstruction': efC,\n",
    "    'post': 0,\n",
    "    'chunkIndexSize': chunkIndexSize,\n",
    "    }\n",
    "print ('Index-time parameters', index_time_params)"
   ]
  },
  {
   "cell_type": "code",
   "execution_count": 80,
   "id": "e09782e5",
   "metadata": {},
   "outputs": [
    {
     "data": {
      "text/plain": [
       "13963"
      ]
     },
     "execution_count": 80,
     "metadata": {},
     "output_type": "execute_result"
    }
   ],
   "source": [
    "K = 10\n",
    "space_name = 'negdotprod'\n",
    "index = nmslib.init(method='hnsw', space=space_name,\n",
    "                    data_type=nmslib.DataType.DENSE_VECTOR)\n",
    "index.addDataPointBatch(item_embeddings)"
   ]
  },
  {
   "cell_type": "code",
   "execution_count": 81,
   "id": "209d778e",
   "metadata": {},
   "outputs": [
    {
     "name": "stdout",
     "output_type": "stream",
     "text": [
      "Index-time parameters {'M': 50, 'indexThreadQty': 8, 'efConstruction': 150}\n",
      "Indexing time = 1.392440\n"
     ]
    }
   ],
   "source": [
    "start = time.time()\n",
    "index_time_params = {'M': M, 'indexThreadQty': num_threads,\n",
    "                     'efConstruction': efC}\n",
    "index.createIndex(index_time_params)\n",
    "end = time.time()\n",
    "print ('Index-time parameters', index_time_params)\n",
    "print 'Indexing time = %f' % (end - start)"
   ]
  },
  {
   "cell_type": "code",
   "execution_count": 82,
   "id": "998dad8b",
   "metadata": {},
   "outputs": [
    {
     "name": "stdout",
     "output_type": "stream",
     "text": [
      "Setting query-time parameters {'efSearch': 100}\n"
     ]
    }
   ],
   "source": [
    "efS = 100\n",
    "query_time_params = {'efSearch': efS}\n",
    "print('Setting query-time parameters', query_time_params)\n",
    "index.setQueryTimeParams(query_time_params)"
   ]
  },
  {
   "cell_type": "code",
   "execution_count": 83,
   "id": "6f5cd03c",
   "metadata": {},
   "outputs": [],
   "source": [
    "query_matrix = user_embeddings"
   ]
  },
  {
   "cell_type": "code",
   "execution_count": 84,
   "id": "77039943",
   "metadata": {},
   "outputs": [
    {
     "name": "stdout",
     "output_type": "stream",
     "text": [
      "kNN time total=3.962551 (sec), per query=0.000005 (sec), per query adjusted for thread number=0.000042 (sec)\n"
     ]
    }
   ],
   "source": [
    "query_qty = query_matrix.shape[0]\n",
    "start = time.time()\n",
    "nbrs = index.knnQueryBatch(query_matrix, k=K, num_threads=num_threads)\n",
    "end = time.time()\n",
    "print 'kNN time total=%f (sec), per query=%f (sec), per query adjusted for thread number=%f (sec)' \\\n",
    "    % (end - start, float(end - start) / query_qty, num_threads\n",
    "       * float(end - start) / query_qty)\n"
   ]
  },
  {
   "cell_type": "code",
   "execution_count": 86,
   "id": "cac18e0e",
   "metadata": {},
   "outputs": [
    {
     "data": {
      "text/plain": [
       "array([[ 32,  19,  43, ...,  31,  36,  69],\n",
       "       [ 31, 262,  62, ...,  32, 121, 735],\n",
       "       [ 19,  31, 121, ...,  29,  62, 105],\n",
       "       ...,\n",
       "       [ 31,  19,  43, ..., 268, 100,  86],\n",
       "       [ 19,  31,  32, ..., 268,  49, 173],\n",
       "       [ 19,  31,  32, ..., 100, 105, 268]])"
      ]
     },
     "execution_count": 86,
     "metadata": {},
     "output_type": "execute_result"
    }
   ],
   "source": [
    "# рекомендации для всех пользователей \n",
    "recos_old_persons = np.array(nbrs, dtype=int)[:,0][:len(nbrs) - 3]\n",
    "recos_old_persons"
   ]
  },
  {
   "cell_type": "code",
   "execution_count": 87,
   "id": "918c6976",
   "metadata": {},
   "outputs": [
    {
     "data": {
      "text/plain": [
       "array([[   31,    19,    32,    43,    62,   121,   173,   268,   100,\n",
       "           86],\n",
       "       [12018, 10998,  7308, 12006, 10159, 10215,  3543,  8118,  8180,\n",
       "        11511],\n",
       "       [ 8453,  6400,  3557,  3945,  6642,  4779,  3583,  2068,  8668,\n",
       "          371]])"
      ]
     },
     "execution_count": 87,
     "metadata": {},
     "output_type": "execute_result"
    }
   ],
   "source": [
    "# рекомендации для добавленных пользователей \n",
    "recos_new_persons =  np.array(nbrs, dtype=int)[:,0][-3:]\n",
    "recos_new_persons"
   ]
  },
  {
   "cell_type": "code",
   "execution_count": 88,
   "id": "c78fbc6a",
   "metadata": {},
   "outputs": [
    {
     "data": {
      "text/html": [
       "<div>\n",
       "<style scoped>\n",
       "    .dataframe tbody tr th:only-of-type {\n",
       "        vertical-align: middle;\n",
       "    }\n",
       "\n",
       "    .dataframe tbody tr th {\n",
       "        vertical-align: top;\n",
       "    }\n",
       "\n",
       "    .dataframe thead th {\n",
       "        text-align: right;\n",
       "    }\n",
       "</style>\n",
       "<table border=\"1\" class=\"dataframe\">\n",
       "  <thead>\n",
       "    <tr style=\"text-align: right;\">\n",
       "      <th></th>\n",
       "      <th>user_id</th>\n",
       "      <th>item_id</th>\n",
       "    </tr>\n",
       "  </thead>\n",
       "  <tbody>\n",
       "    <tr>\n",
       "      <th>0</th>\n",
       "      <td>0</td>\n",
       "      <td>32</td>\n",
       "    </tr>\n",
       "    <tr>\n",
       "      <th>1</th>\n",
       "      <td>0</td>\n",
       "      <td>19</td>\n",
       "    </tr>\n",
       "    <tr>\n",
       "      <th>2</th>\n",
       "      <td>0</td>\n",
       "      <td>43</td>\n",
       "    </tr>\n",
       "    <tr>\n",
       "      <th>3</th>\n",
       "      <td>0</td>\n",
       "      <td>62</td>\n",
       "    </tr>\n",
       "    <tr>\n",
       "      <th>4</th>\n",
       "      <td>0</td>\n",
       "      <td>449</td>\n",
       "    </tr>\n",
       "    <tr>\n",
       "      <th>...</th>\n",
       "      <td>...</td>\n",
       "      <td>...</td>\n",
       "    </tr>\n",
       "    <tr>\n",
       "      <th>7565445</th>\n",
       "      <td>756544</td>\n",
       "      <td>43</td>\n",
       "    </tr>\n",
       "    <tr>\n",
       "      <th>7565446</th>\n",
       "      <td>756544</td>\n",
       "      <td>29</td>\n",
       "    </tr>\n",
       "    <tr>\n",
       "      <th>7565447</th>\n",
       "      <td>756544</td>\n",
       "      <td>100</td>\n",
       "    </tr>\n",
       "    <tr>\n",
       "      <th>7565448</th>\n",
       "      <td>756544</td>\n",
       "      <td>105</td>\n",
       "    </tr>\n",
       "    <tr>\n",
       "      <th>7565449</th>\n",
       "      <td>756544</td>\n",
       "      <td>268</td>\n",
       "    </tr>\n",
       "  </tbody>\n",
       "</table>\n",
       "<p>7565450 rows × 2 columns</p>\n",
       "</div>"
      ],
      "text/plain": [
       "         user_id  item_id\n",
       "0              0       32\n",
       "1              0       19\n",
       "2              0       43\n",
       "3              0       62\n",
       "4              0      449\n",
       "...          ...      ...\n",
       "7565445   756544       43\n",
       "7565446   756544       29\n",
       "7565447   756544      100\n",
       "7565448   756544      105\n",
       "7565449   756544      268\n",
       "\n",
       "[7565450 rows x 2 columns]"
      ]
     },
     "execution_count": 88,
     "metadata": {},
     "output_type": "execute_result"
    }
   ],
   "source": [
    "df_r = \\\n",
    "    pd.DataFrame({'user_id': np.repeat(np.arange(len(recos_old_persons)),\n",
    "                 10), Columns.Item: recos_old_persons.ravel()})\n",
    "df_r\n"
   ]
  },
  {
   "cell_type": "code",
   "execution_count": 89,
   "id": "902cbca6",
   "metadata": {},
   "outputs": [],
   "source": [
    "df_r.to_csv('nmslib.csv.gz', index=False, compression='gzip')"
   ]
  }
 ],
 "metadata": {
  "kernelspec": {
   "display_name": "Python 3 (ipykernel)",
   "language": "python",
   "name": "python3"
  },
  "language_info": {
   "codemirror_mode": {
    "name": "ipython",
    "version": 3
   },
   "file_extension": ".py",
   "mimetype": "text/x-python",
   "name": "python",
   "nbconvert_exporter": "python",
   "pygments_lexer": "ipython3",
   "version": "3.8.8"
  }
 },
 "nbformat": 4,
 "nbformat_minor": 5
}
