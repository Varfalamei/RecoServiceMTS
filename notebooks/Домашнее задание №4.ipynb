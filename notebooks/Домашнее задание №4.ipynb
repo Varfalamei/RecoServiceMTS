{
 "cells": [
  {
   "cell_type": "code",
   "execution_count": 1,
   "id": "7780d9a2",
   "metadata": {},
   "outputs": [],
   "source": [
    "import warnings\n",
    "warnings.filterwarnings('ignore')"
   ]
  },
  {
   "cell_type": "code",
   "execution_count": 2,
   "id": "e42a5585",
   "metadata": {},
   "outputs": [],
   "source": [
    "import os\n",
    "\n",
    "import pandas as pd\n",
    "import numpy as np\n",
    "\n",
    "from implicit.als import AlternatingLeastSquares\n",
    "\n",
    "from rectools.metrics import Precision, Recall, MAP, calc_metrics\n",
    "from rectools.models import PopularModel, RandomModel, ImplicitALSWrapperModel\n",
    "from rectools import Columns\n",
    "from rectools.dataset import Dataset\n",
    "from rectools.models import ImplicitALSWrapperModel, LightFMWrapperModel\n",
    "\n",
    "import matplotlib.pyplot as plt\n",
    "import seaborn as sns\n",
    "\n",
    "import matplotlib.pyplot as plt\n",
    "from pathlib import Path\n",
    "import typing as tp\n",
    "from tqdm import tqdm\n",
    "\n",
    "from lightfm import LightFM\n",
    "\n",
    "from implicit.bpr import BayesianPersonalizedRanking\n",
    "\n",
    "from implicit.lmf import LogisticMatrixFactorization\n",
    "\n",
    "import optuna"
   ]
  },
  {
   "cell_type": "code",
   "execution_count": 3,
   "id": "8cd36e1a",
   "metadata": {},
   "outputs": [],
   "source": [
    "os.environ['OPENBLAS_NUM_THREADS'] = \"1\""
   ]
  },
  {
   "cell_type": "code",
   "execution_count": 4,
   "id": "4cb722c3",
   "metadata": {},
   "outputs": [],
   "source": [
    "DATA_PATH = Path(\"../data\")"
   ]
  },
  {
   "cell_type": "code",
   "execution_count": 5,
   "id": "8195e56b",
   "metadata": {},
   "outputs": [
    {
     "name": "stdout",
     "output_type": "stream",
     "text": [
      "CPU times: user 2.71 s, sys: 627 ms, total: 3.34 s\n",
      "Wall time: 3.69 s\n"
     ]
    }
   ],
   "source": [
    "%%time\n",
    "users = pd.read_csv(DATA_PATH / 'users.csv')\n",
    "items = pd.read_csv(DATA_PATH / 'items.csv')\n",
    "interactions = pd.read_csv(DATA_PATH / 'interactions.csv')"
   ]
  },
  {
   "cell_type": "code",
   "execution_count": 6,
   "id": "01c2bdef",
   "metadata": {},
   "outputs": [],
   "source": [
    "Columns.Datetime = 'last_watch_dt'"
   ]
  },
  {
   "cell_type": "markdown",
   "id": "00b5584e",
   "metadata": {},
   "source": [
    "# Preprocess Interactions"
   ]
  },
  {
   "cell_type": "code",
   "execution_count": 7,
   "id": "0a3b4b12",
   "metadata": {},
   "outputs": [
    {
     "data": {
      "text/html": [
       "<div>\n",
       "<style scoped>\n",
       "    .dataframe tbody tr th:only-of-type {\n",
       "        vertical-align: middle;\n",
       "    }\n",
       "\n",
       "    .dataframe tbody tr th {\n",
       "        vertical-align: top;\n",
       "    }\n",
       "\n",
       "    .dataframe thead th {\n",
       "        text-align: right;\n",
       "    }\n",
       "</style>\n",
       "<table border=\"1\" class=\"dataframe\">\n",
       "  <thead>\n",
       "    <tr style=\"text-align: right;\">\n",
       "      <th></th>\n",
       "      <th>user_id</th>\n",
       "      <th>item_id</th>\n",
       "      <th>last_watch_dt</th>\n",
       "      <th>total_dur</th>\n",
       "      <th>watched_pct</th>\n",
       "    </tr>\n",
       "  </thead>\n",
       "  <tbody>\n",
       "    <tr>\n",
       "      <th>0</th>\n",
       "      <td>176549</td>\n",
       "      <td>9506</td>\n",
       "      <td>2021-05-11</td>\n",
       "      <td>4250</td>\n",
       "      <td>72.0</td>\n",
       "    </tr>\n",
       "    <tr>\n",
       "      <th>1</th>\n",
       "      <td>699317</td>\n",
       "      <td>1659</td>\n",
       "      <td>2021-05-29</td>\n",
       "      <td>8317</td>\n",
       "      <td>100.0</td>\n",
       "    </tr>\n",
       "    <tr>\n",
       "      <th>2</th>\n",
       "      <td>656683</td>\n",
       "      <td>7107</td>\n",
       "      <td>2021-05-09</td>\n",
       "      <td>10</td>\n",
       "      <td>0.0</td>\n",
       "    </tr>\n",
       "    <tr>\n",
       "      <th>3</th>\n",
       "      <td>864613</td>\n",
       "      <td>7638</td>\n",
       "      <td>2021-07-05</td>\n",
       "      <td>14483</td>\n",
       "      <td>100.0</td>\n",
       "    </tr>\n",
       "    <tr>\n",
       "      <th>4</th>\n",
       "      <td>964868</td>\n",
       "      <td>9506</td>\n",
       "      <td>2021-04-30</td>\n",
       "      <td>6725</td>\n",
       "      <td>100.0</td>\n",
       "    </tr>\n",
       "    <tr>\n",
       "      <th>...</th>\n",
       "      <td>...</td>\n",
       "      <td>...</td>\n",
       "      <td>...</td>\n",
       "      <td>...</td>\n",
       "      <td>...</td>\n",
       "    </tr>\n",
       "    <tr>\n",
       "      <th>5476246</th>\n",
       "      <td>648596</td>\n",
       "      <td>12225</td>\n",
       "      <td>2021-08-13</td>\n",
       "      <td>76</td>\n",
       "      <td>0.0</td>\n",
       "    </tr>\n",
       "    <tr>\n",
       "      <th>5476247</th>\n",
       "      <td>546862</td>\n",
       "      <td>9673</td>\n",
       "      <td>2021-04-13</td>\n",
       "      <td>2308</td>\n",
       "      <td>49.0</td>\n",
       "    </tr>\n",
       "    <tr>\n",
       "      <th>5476248</th>\n",
       "      <td>697262</td>\n",
       "      <td>15297</td>\n",
       "      <td>2021-08-20</td>\n",
       "      <td>18307</td>\n",
       "      <td>63.0</td>\n",
       "    </tr>\n",
       "    <tr>\n",
       "      <th>5476249</th>\n",
       "      <td>384202</td>\n",
       "      <td>16197</td>\n",
       "      <td>2021-04-19</td>\n",
       "      <td>6203</td>\n",
       "      <td>100.0</td>\n",
       "    </tr>\n",
       "    <tr>\n",
       "      <th>5476250</th>\n",
       "      <td>319709</td>\n",
       "      <td>4436</td>\n",
       "      <td>2021-08-15</td>\n",
       "      <td>3921</td>\n",
       "      <td>45.0</td>\n",
       "    </tr>\n",
       "  </tbody>\n",
       "</table>\n",
       "<p>5476251 rows × 5 columns</p>\n",
       "</div>"
      ],
      "text/plain": [
       "         user_id  item_id last_watch_dt  total_dur  watched_pct\n",
       "0         176549     9506    2021-05-11       4250         72.0\n",
       "1         699317     1659    2021-05-29       8317        100.0\n",
       "2         656683     7107    2021-05-09         10          0.0\n",
       "3         864613     7638    2021-07-05      14483        100.0\n",
       "4         964868     9506    2021-04-30       6725        100.0\n",
       "...          ...      ...           ...        ...          ...\n",
       "5476246   648596    12225    2021-08-13         76          0.0\n",
       "5476247   546862     9673    2021-04-13       2308         49.0\n",
       "5476248   697262    15297    2021-08-20      18307         63.0\n",
       "5476249   384202    16197    2021-04-19       6203        100.0\n",
       "5476250   319709     4436    2021-08-15       3921         45.0\n",
       "\n",
       "[5476251 rows x 5 columns]"
      ]
     },
     "execution_count": 7,
     "metadata": {},
     "output_type": "execute_result"
    }
   ],
   "source": [
    "interactions"
   ]
  },
  {
   "cell_type": "code",
   "execution_count": 8,
   "id": "260b1c48",
   "metadata": {},
   "outputs": [
    {
     "data": {
      "text/plain": [
       "user_id            int64\n",
       "item_id            int64\n",
       "last_watch_dt     object\n",
       "total_dur          int64\n",
       "watched_pct      float64\n",
       "dtype: object"
      ]
     },
     "execution_count": 8,
     "metadata": {},
     "output_type": "execute_result"
    }
   ],
   "source": [
    "interactions.dtypes"
   ]
  },
  {
   "cell_type": "code",
   "execution_count": 9,
   "id": "fe2dbc06",
   "metadata": {},
   "outputs": [
    {
     "data": {
      "text/plain": [
       "user_id            0\n",
       "item_id            0\n",
       "last_watch_dt      0\n",
       "total_dur          0\n",
       "watched_pct      828\n",
       "dtype: int64"
      ]
     },
     "execution_count": 9,
     "metadata": {},
     "output_type": "execute_result"
    }
   ],
   "source": [
    "interactions.isna().sum()"
   ]
  },
  {
   "cell_type": "code",
   "execution_count": 10,
   "id": "71f61e81",
   "metadata": {},
   "outputs": [],
   "source": [
    "interactions[Columns.Datetime] = pd.to_datetime(interactions[Columns.Datetime], format='%Y-%m-%d')"
   ]
  },
  {
   "cell_type": "code",
   "execution_count": 11,
   "id": "39646cb5",
   "metadata": {},
   "outputs": [],
   "source": [
    "interactions.dropna(inplace=True)"
   ]
  },
  {
   "cell_type": "code",
   "execution_count": 12,
   "id": "f98ae95d",
   "metadata": {},
   "outputs": [
    {
     "data": {
      "image/png": "[encoded data removed]",
      "text/plain": [
       "<Figure size 432x288 with 1 Axes>"
      ]
     },
     "metadata": {
      "needs_background": "light"
     },
     "output_type": "display_data"
    }
   ],
   "source": [
    "interactions['watched_pct'].hist(bins=20);"
   ]
  },
  {
   "cell_type": "markdown",
   "id": "1a0ad9f8",
   "metadata": {},
   "source": [
    "Делю график просмотра на 5 категорий, где:  \n",
    "от 0% до 20%  = 1,  \n",
    "от 21% до 40% = 2,  \n",
    "... ,  \n",
    "от 80% до 100% = 5"
   ]
  },
  {
   "cell_type": "code",
   "execution_count": 13,
   "id": "1424e744",
   "metadata": {},
   "outputs": [],
   "source": [
    "interactions[Columns.Weight] = np.where((interactions['watched_pct'] > 20), 2, 1)\n",
    "interactions[Columns.Weight].mask(interactions['watched_pct'] > 40, 3, inplace=True)\n",
    "interactions[Columns.Weight].mask(interactions['watched_pct'] > 60, 4, inplace=True)\n",
    "interactions[Columns.Weight].mask(interactions['watched_pct'] > 80, 5, inplace=True)"
   ]
  },
  {
   "cell_type": "code",
   "execution_count": 14,
   "id": "052d2fb0",
   "metadata": {},
   "outputs": [
    {
     "data": {
      "text/plain": [
       "<AxesSubplot:>"
      ]
     },
     "execution_count": 14,
     "metadata": {},
     "output_type": "execute_result"
    },
    {
     "data": {
      "image/png": "[encoded data removed]",
      "text/plain": [
       "<Figure size 432x288 with 1 Axes>"
      ]
     },
     "metadata": {
      "needs_background": "light"
     },
     "output_type": "display_data"
    }
   ],
   "source": [
    "interactions[Columns.Datetime].hist(bins=20)"
   ]
  },
  {
   "cell_type": "markdown",
   "id": "5adb80ee",
   "metadata": {},
   "source": [
    "Вообще, видно, что кол-во пользователей растет"
   ]
  },
  {
   "cell_type": "code",
   "execution_count": 15,
   "id": "0fbd2bbc",
   "metadata": {},
   "outputs": [],
   "source": [
    "cold_users = interactions[Columns.User].value_counts()[interactions[Columns.User].value_counts() == 1].index"
   ]
  },
  {
   "cell_type": "code",
   "execution_count": 16,
   "id": "150e1593",
   "metadata": {},
   "outputs": [
    {
     "data": {
      "text/plain": [
       "<AxesSubplot:>"
      ]
     },
     "execution_count": 16,
     "metadata": {},
     "output_type": "execute_result"
    },
    {
     "data": {
      "image/png": "[encoded data removed]",
      "text/plain": [
       "<Figure size 432x288 with 1 Axes>"
      ]
     },
     "metadata": {
      "needs_background": "light"
     },
     "output_type": "display_data"
    }
   ],
   "source": [
    "interactions[interactions[Columns.User].isin(cold_users)]['watched_pct'].hist(bins=20)"
   ]
  },
  {
   "cell_type": "markdown",
   "id": "b5fa83eb",
   "metadata": {},
   "source": [
    "Для холодных пользователей, я бы рекомендовал айтемы с самый высоким просмотром в среднем по холодным пользователям"
   ]
  },
  {
   "cell_type": "code",
   "execution_count": 17,
   "id": "cca06e3f",
   "metadata": {},
   "outputs": [
    {
     "data": {
      "text/html": [
       "<div>\n",
       "<style scoped>\n",
       "    .dataframe tbody tr th:only-of-type {\n",
       "        vertical-align: middle;\n",
       "    }\n",
       "\n",
       "    .dataframe tbody tr th {\n",
       "        vertical-align: top;\n",
       "    }\n",
       "\n",
       "    .dataframe thead th {\n",
       "        text-align: right;\n",
       "    }\n",
       "</style>\n",
       "<table border=\"1\" class=\"dataframe\">\n",
       "  <thead>\n",
       "    <tr style=\"text-align: right;\">\n",
       "      <th></th>\n",
       "      <th>user_id</th>\n",
       "      <th>item_id</th>\n",
       "      <th>last_watch_dt</th>\n",
       "      <th>total_dur</th>\n",
       "      <th>watched_pct</th>\n",
       "      <th>weight</th>\n",
       "    </tr>\n",
       "  </thead>\n",
       "  <tbody>\n",
       "    <tr>\n",
       "      <th>10</th>\n",
       "      <td>791466</td>\n",
       "      <td>8199</td>\n",
       "      <td>2021-07-27</td>\n",
       "      <td>713</td>\n",
       "      <td>9.0</td>\n",
       "      <td>1</td>\n",
       "    </tr>\n",
       "    <tr>\n",
       "      <th>26</th>\n",
       "      <td>181144</td>\n",
       "      <td>10440</td>\n",
       "      <td>2021-08-08</td>\n",
       "      <td>27408</td>\n",
       "      <td>40.0</td>\n",
       "      <td>2</td>\n",
       "    </tr>\n",
       "    <tr>\n",
       "      <th>37</th>\n",
       "      <td>161176</td>\n",
       "      <td>10440</td>\n",
       "      <td>2021-07-29</td>\n",
       "      <td>22</td>\n",
       "      <td>0.0</td>\n",
       "      <td>1</td>\n",
       "    </tr>\n",
       "    <tr>\n",
       "      <th>38</th>\n",
       "      <td>21723</td>\n",
       "      <td>1819</td>\n",
       "      <td>2021-04-11</td>\n",
       "      <td>8535</td>\n",
       "      <td>100.0</td>\n",
       "      <td>5</td>\n",
       "    </tr>\n",
       "    <tr>\n",
       "      <th>60</th>\n",
       "      <td>77216</td>\n",
       "      <td>8143</td>\n",
       "      <td>2021-05-08</td>\n",
       "      <td>660</td>\n",
       "      <td>11.0</td>\n",
       "      <td>1</td>\n",
       "    </tr>\n",
       "    <tr>\n",
       "      <th>...</th>\n",
       "      <td>...</td>\n",
       "      <td>...</td>\n",
       "      <td>...</td>\n",
       "      <td>...</td>\n",
       "      <td>...</td>\n",
       "      <td>...</td>\n",
       "    </tr>\n",
       "    <tr>\n",
       "      <th>5476222</th>\n",
       "      <td>1007900</td>\n",
       "      <td>9728</td>\n",
       "      <td>2021-08-12</td>\n",
       "      <td>416</td>\n",
       "      <td>6.0</td>\n",
       "      <td>1</td>\n",
       "    </tr>\n",
       "    <tr>\n",
       "      <th>5476225</th>\n",
       "      <td>882138</td>\n",
       "      <td>4716</td>\n",
       "      <td>2021-05-21</td>\n",
       "      <td>1594</td>\n",
       "      <td>2.0</td>\n",
       "      <td>1</td>\n",
       "    </tr>\n",
       "    <tr>\n",
       "      <th>5476238</th>\n",
       "      <td>805174</td>\n",
       "      <td>13125</td>\n",
       "      <td>2021-06-27</td>\n",
       "      <td>1</td>\n",
       "      <td>0.0</td>\n",
       "      <td>1</td>\n",
       "    </tr>\n",
       "    <tr>\n",
       "      <th>5476246</th>\n",
       "      <td>648596</td>\n",
       "      <td>12225</td>\n",
       "      <td>2021-08-13</td>\n",
       "      <td>76</td>\n",
       "      <td>0.0</td>\n",
       "      <td>1</td>\n",
       "    </tr>\n",
       "    <tr>\n",
       "      <th>5476248</th>\n",
       "      <td>697262</td>\n",
       "      <td>15297</td>\n",
       "      <td>2021-08-20</td>\n",
       "      <td>18307</td>\n",
       "      <td>63.0</td>\n",
       "      <td>4</td>\n",
       "    </tr>\n",
       "  </tbody>\n",
       "</table>\n",
       "<p>355162 rows × 6 columns</p>\n",
       "</div>"
      ],
      "text/plain": [
       "         user_id  item_id last_watch_dt  total_dur  watched_pct  weight\n",
       "10        791466     8199    2021-07-27        713          9.0       1\n",
       "26        181144    10440    2021-08-08      27408         40.0       2\n",
       "37        161176    10440    2021-07-29         22          0.0       1\n",
       "38         21723     1819    2021-04-11       8535        100.0       5\n",
       "60         77216     8143    2021-05-08        660         11.0       1\n",
       "...          ...      ...           ...        ...          ...     ...\n",
       "5476222  1007900     9728    2021-08-12        416          6.0       1\n",
       "5476225   882138     4716    2021-05-21       1594          2.0       1\n",
       "5476238   805174    13125    2021-06-27          1          0.0       1\n",
       "5476246   648596    12225    2021-08-13         76          0.0       1\n",
       "5476248   697262    15297    2021-08-20      18307         63.0       4\n",
       "\n",
       "[355162 rows x 6 columns]"
      ]
     },
     "execution_count": 17,
     "metadata": {},
     "output_type": "execute_result"
    }
   ],
   "source": [
    "cold_users = interactions[interactions[Columns.User].isin(cold_users)]\n",
    "hot_users = interactions[~interactions[Columns.User].isin(cold_users)]\n",
    "cold_users"
   ]
  },
  {
   "cell_type": "code",
   "execution_count": 20,
   "id": "a691676f",
   "metadata": {},
   "outputs": [
    {
     "data": {
      "text/html": [
       "<div>\n",
       "<style scoped>\n",
       "    .dataframe tbody tr th:only-of-type {\n",
       "        vertical-align: middle;\n",
       "    }\n",
       "\n",
       "    .dataframe tbody tr th {\n",
       "        vertical-align: top;\n",
       "    }\n",
       "\n",
       "    .dataframe thead th {\n",
       "        text-align: right;\n",
       "    }\n",
       "</style>\n",
       "<table border=\"1\" class=\"dataframe\">\n",
       "  <thead>\n",
       "    <tr style=\"text-align: right;\">\n",
       "      <th></th>\n",
       "      <th>user_id</th>\n",
       "      <th>item_id</th>\n",
       "      <th>last_watch_dt</th>\n",
       "      <th>total_dur</th>\n",
       "      <th>watched_pct</th>\n",
       "      <th>weight</th>\n",
       "    </tr>\n",
       "  </thead>\n",
       "  <tbody>\n",
       "    <tr>\n",
       "      <th>0</th>\n",
       "      <td>176549</td>\n",
       "      <td>9506</td>\n",
       "      <td>2021-05-11</td>\n",
       "      <td>4250</td>\n",
       "      <td>72.0</td>\n",
       "      <td>4</td>\n",
       "    </tr>\n",
       "    <tr>\n",
       "      <th>1</th>\n",
       "      <td>699317</td>\n",
       "      <td>1659</td>\n",
       "      <td>2021-05-29</td>\n",
       "      <td>8317</td>\n",
       "      <td>100.0</td>\n",
       "      <td>5</td>\n",
       "    </tr>\n",
       "    <tr>\n",
       "      <th>2</th>\n",
       "      <td>656683</td>\n",
       "      <td>7107</td>\n",
       "      <td>2021-05-09</td>\n",
       "      <td>10</td>\n",
       "      <td>0.0</td>\n",
       "      <td>1</td>\n",
       "    </tr>\n",
       "    <tr>\n",
       "      <th>3</th>\n",
       "      <td>864613</td>\n",
       "      <td>7638</td>\n",
       "      <td>2021-07-05</td>\n",
       "      <td>14483</td>\n",
       "      <td>100.0</td>\n",
       "      <td>5</td>\n",
       "    </tr>\n",
       "    <tr>\n",
       "      <th>4</th>\n",
       "      <td>964868</td>\n",
       "      <td>9506</td>\n",
       "      <td>2021-04-30</td>\n",
       "      <td>6725</td>\n",
       "      <td>100.0</td>\n",
       "      <td>5</td>\n",
       "    </tr>\n",
       "    <tr>\n",
       "      <th>...</th>\n",
       "      <td>...</td>\n",
       "      <td>...</td>\n",
       "      <td>...</td>\n",
       "      <td>...</td>\n",
       "      <td>...</td>\n",
       "      <td>...</td>\n",
       "    </tr>\n",
       "    <tr>\n",
       "      <th>5476246</th>\n",
       "      <td>648596</td>\n",
       "      <td>12225</td>\n",
       "      <td>2021-08-13</td>\n",
       "      <td>76</td>\n",
       "      <td>0.0</td>\n",
       "      <td>1</td>\n",
       "    </tr>\n",
       "    <tr>\n",
       "      <th>5476247</th>\n",
       "      <td>546862</td>\n",
       "      <td>9673</td>\n",
       "      <td>2021-04-13</td>\n",
       "      <td>2308</td>\n",
       "      <td>49.0</td>\n",
       "      <td>3</td>\n",
       "    </tr>\n",
       "    <tr>\n",
       "      <th>5476248</th>\n",
       "      <td>697262</td>\n",
       "      <td>15297</td>\n",
       "      <td>2021-08-20</td>\n",
       "      <td>18307</td>\n",
       "      <td>63.0</td>\n",
       "      <td>4</td>\n",
       "    </tr>\n",
       "    <tr>\n",
       "      <th>5476249</th>\n",
       "      <td>384202</td>\n",
       "      <td>16197</td>\n",
       "      <td>2021-04-19</td>\n",
       "      <td>6203</td>\n",
       "      <td>100.0</td>\n",
       "      <td>5</td>\n",
       "    </tr>\n",
       "    <tr>\n",
       "      <th>5476250</th>\n",
       "      <td>319709</td>\n",
       "      <td>4436</td>\n",
       "      <td>2021-08-15</td>\n",
       "      <td>3921</td>\n",
       "      <td>45.0</td>\n",
       "      <td>3</td>\n",
       "    </tr>\n",
       "  </tbody>\n",
       "</table>\n",
       "<p>5475423 rows × 6 columns</p>\n",
       "</div>"
      ],
      "text/plain": [
       "         user_id  item_id last_watch_dt  total_dur  watched_pct  weight\n",
       "0         176549     9506    2021-05-11       4250         72.0       4\n",
       "1         699317     1659    2021-05-29       8317        100.0       5\n",
       "2         656683     7107    2021-05-09         10          0.0       1\n",
       "3         864613     7638    2021-07-05      14483        100.0       5\n",
       "4         964868     9506    2021-04-30       6725        100.0       5\n",
       "...          ...      ...           ...        ...          ...     ...\n",
       "5476246   648596    12225    2021-08-13         76          0.0       1\n",
       "5476247   546862     9673    2021-04-13       2308         49.0       3\n",
       "5476248   697262    15297    2021-08-20      18307         63.0       4\n",
       "5476249   384202    16197    2021-04-19       6203        100.0       5\n",
       "5476250   319709     4436    2021-08-15       3921         45.0       3\n",
       "\n",
       "[5475423 rows x 6 columns]"
      ]
     },
     "execution_count": 20,
     "metadata": {},
     "output_type": "execute_result"
    }
   ],
   "source": [
    "hot_users"
   ]
  },
  {
   "cell_type": "code",
   "execution_count": 21,
   "id": "a64701c2",
   "metadata": {},
   "outputs": [
    {
     "data": {
      "text/html": [
       "<div>\n",
       "<style scoped>\n",
       "    .dataframe tbody tr th:only-of-type {\n",
       "        vertical-align: middle;\n",
       "    }\n",
       "\n",
       "    .dataframe tbody tr th {\n",
       "        vertical-align: top;\n",
       "    }\n",
       "\n",
       "    .dataframe thead th {\n",
       "        text-align: right;\n",
       "    }\n",
       "</style>\n",
       "<table border=\"1\" class=\"dataframe\">\n",
       "  <thead>\n",
       "    <tr style=\"text-align: right;\">\n",
       "      <th></th>\n",
       "      <th>item_id</th>\n",
       "    </tr>\n",
       "  </thead>\n",
       "  <tbody>\n",
       "    <tr>\n",
       "      <th>10440</th>\n",
       "      <td>45695</td>\n",
       "    </tr>\n",
       "    <tr>\n",
       "      <th>15297</th>\n",
       "      <td>39309</td>\n",
       "    </tr>\n",
       "    <tr>\n",
       "      <th>2657</th>\n",
       "      <td>20474</td>\n",
       "    </tr>\n",
       "    <tr>\n",
       "      <th>9728</th>\n",
       "      <td>15140</td>\n",
       "    </tr>\n",
       "    <tr>\n",
       "      <th>4740</th>\n",
       "      <td>11455</td>\n",
       "    </tr>\n",
       "    <tr>\n",
       "      <th>...</th>\n",
       "      <td>...</td>\n",
       "    </tr>\n",
       "    <tr>\n",
       "      <th>1946</th>\n",
       "      <td>1</td>\n",
       "    </tr>\n",
       "    <tr>\n",
       "      <th>13886</th>\n",
       "      <td>1</td>\n",
       "    </tr>\n",
       "    <tr>\n",
       "      <th>14090</th>\n",
       "      <td>1</td>\n",
       "    </tr>\n",
       "    <tr>\n",
       "      <th>5730</th>\n",
       "      <td>1</td>\n",
       "    </tr>\n",
       "    <tr>\n",
       "      <th>13125</th>\n",
       "      <td>1</td>\n",
       "    </tr>\n",
       "  </tbody>\n",
       "</table>\n",
       "<p>6440 rows × 1 columns</p>\n",
       "</div>"
      ],
      "text/plain": [
       "       item_id\n",
       "10440    45695\n",
       "15297    39309\n",
       "2657     20474\n",
       "9728     15140\n",
       "4740     11455\n",
       "...        ...\n",
       "1946         1\n",
       "13886        1\n",
       "14090        1\n",
       "5730         1\n",
       "13125        1\n",
       "\n",
       "[6440 rows x 1 columns]"
      ]
     },
     "execution_count": 21,
     "metadata": {},
     "output_type": "execute_result"
    }
   ],
   "source": [
    "cold_users['item_id'].value_counts().to_frame()"
   ]
  },
  {
   "cell_type": "code",
   "execution_count": 22,
   "id": "cef9cfa6",
   "metadata": {},
   "outputs": [
    {
     "data": {
      "text/plain": [
       "Int64Index([609, 4895, 3825, 5069, 14092, 12593, 7142, 2271, 13673, 11566], dtype='int64', name='item_id')"
      ]
     },
     "execution_count": 22,
     "metadata": {},
     "output_type": "execute_result"
    }
   ],
   "source": [
    "cold_users[['item_id', 'total_dur']].groupby('item_id').mean().sort_values(by='total_dur', ascending=False).head(10).index"
   ]
  },
  {
   "cell_type": "markdown",
   "id": "a52f311b",
   "metadata": {},
   "source": [
    "# Делим на train и test"
   ]
  },
  {
   "cell_type": "code",
   "execution_count": 23,
   "id": "bd68d3fe",
   "metadata": {},
   "outputs": [],
   "source": [
    "max_date = hot_users[Columns.Datetime].max()"
   ]
  },
  {
   "cell_type": "code",
   "execution_count": 24,
   "id": "3092fe4b",
   "metadata": {},
   "outputs": [
    {
     "name": "stdout",
     "output_type": "stream",
     "text": [
      "train: (4984443, 6)\n",
      "test: (490980, 6)\n"
     ]
    }
   ],
   "source": [
    "train = interactions[interactions[Columns.Datetime] < max_date - pd.Timedelta(days=7)].copy()\n",
    "test = interactions[interactions[Columns.Datetime] >= max_date - pd.Timedelta(days=7)].copy()\n",
    "\n",
    "print(f\"train: {train.shape}\")\n",
    "print(f\"test: {test.shape}\")"
   ]
  },
  {
   "cell_type": "code",
   "execution_count": 25,
   "id": "ec286bdc",
   "metadata": {},
   "outputs": [],
   "source": [
    "train.drop(train.query(\"total_dur < 300\").index, inplace=True)"
   ]
  },
  {
   "cell_type": "code",
   "execution_count": 26,
   "id": "c32fcaae",
   "metadata": {},
   "outputs": [],
   "source": [
    "drop_user = set(test[Columns.User]) - set(train[Columns.User])"
   ]
  },
  {
   "cell_type": "code",
   "execution_count": 27,
   "id": "7183cb6f",
   "metadata": {},
   "outputs": [],
   "source": [
    "test.drop(test[test[Columns.User].isin(drop_user)].index, inplace=True)"
   ]
  },
  {
   "cell_type": "code",
   "execution_count": 28,
   "id": "1ff85593",
   "metadata": {},
   "outputs": [
    {
     "data": {
      "text/html": [
       "<div>\n",
       "<style scoped>\n",
       "    .dataframe tbody tr th:only-of-type {\n",
       "        vertical-align: middle;\n",
       "    }\n",
       "\n",
       "    .dataframe tbody tr th {\n",
       "        vertical-align: top;\n",
       "    }\n",
       "\n",
       "    .dataframe thead th {\n",
       "        text-align: right;\n",
       "    }\n",
       "</style>\n",
       "<table border=\"1\" class=\"dataframe\">\n",
       "  <thead>\n",
       "    <tr style=\"text-align: right;\">\n",
       "      <th></th>\n",
       "      <th>user_id</th>\n",
       "      <th>item_id</th>\n",
       "      <th>last_watch_dt</th>\n",
       "      <th>total_dur</th>\n",
       "      <th>watched_pct</th>\n",
       "      <th>weight</th>\n",
       "    </tr>\n",
       "  </thead>\n",
       "  <tbody>\n",
       "    <tr>\n",
       "      <th>9</th>\n",
       "      <td>203219</td>\n",
       "      <td>13582</td>\n",
       "      <td>2021-08-22</td>\n",
       "      <td>6975</td>\n",
       "      <td>100.0</td>\n",
       "      <td>5</td>\n",
       "    </tr>\n",
       "    <tr>\n",
       "      <th>54</th>\n",
       "      <td>200197</td>\n",
       "      <td>9335</td>\n",
       "      <td>2021-08-16</td>\n",
       "      <td>83</td>\n",
       "      <td>2.0</td>\n",
       "      <td>1</td>\n",
       "    </tr>\n",
       "    <tr>\n",
       "      <th>64</th>\n",
       "      <td>73446</td>\n",
       "      <td>14488</td>\n",
       "      <td>2021-08-19</td>\n",
       "      <td>6011</td>\n",
       "      <td>100.0</td>\n",
       "      <td>5</td>\n",
       "    </tr>\n",
       "    <tr>\n",
       "      <th>84</th>\n",
       "      <td>10010</td>\n",
       "      <td>512</td>\n",
       "      <td>2021-08-15</td>\n",
       "      <td>14</td>\n",
       "      <td>0.0</td>\n",
       "      <td>1</td>\n",
       "    </tr>\n",
       "    <tr>\n",
       "      <th>94</th>\n",
       "      <td>890735</td>\n",
       "      <td>14200</td>\n",
       "      <td>2021-08-16</td>\n",
       "      <td>1179</td>\n",
       "      <td>28.0</td>\n",
       "      <td>2</td>\n",
       "    </tr>\n",
       "    <tr>\n",
       "      <th>...</th>\n",
       "      <td>...</td>\n",
       "      <td>...</td>\n",
       "      <td>...</td>\n",
       "      <td>...</td>\n",
       "      <td>...</td>\n",
       "      <td>...</td>\n",
       "    </tr>\n",
       "    <tr>\n",
       "      <th>5476169</th>\n",
       "      <td>589589</td>\n",
       "      <td>983</td>\n",
       "      <td>2021-08-21</td>\n",
       "      <td>2403</td>\n",
       "      <td>43.0</td>\n",
       "      <td>3</td>\n",
       "    </tr>\n",
       "    <tr>\n",
       "      <th>5476188</th>\n",
       "      <td>590892</td>\n",
       "      <td>8618</td>\n",
       "      <td>2021-08-21</td>\n",
       "      <td>1335</td>\n",
       "      <td>23.0</td>\n",
       "      <td>2</td>\n",
       "    </tr>\n",
       "    <tr>\n",
       "      <th>5476191</th>\n",
       "      <td>857162</td>\n",
       "      <td>12360</td>\n",
       "      <td>2021-08-16</td>\n",
       "      <td>11</td>\n",
       "      <td>0.0</td>\n",
       "      <td>1</td>\n",
       "    </tr>\n",
       "    <tr>\n",
       "      <th>5476201</th>\n",
       "      <td>273558</td>\n",
       "      <td>10605</td>\n",
       "      <td>2021-08-21</td>\n",
       "      <td>34030</td>\n",
       "      <td>100.0</td>\n",
       "      <td>5</td>\n",
       "    </tr>\n",
       "    <tr>\n",
       "      <th>5476250</th>\n",
       "      <td>319709</td>\n",
       "      <td>4436</td>\n",
       "      <td>2021-08-15</td>\n",
       "      <td>3921</td>\n",
       "      <td>45.0</td>\n",
       "      <td>3</td>\n",
       "    </tr>\n",
       "  </tbody>\n",
       "</table>\n",
       "<p>333022 rows × 6 columns</p>\n",
       "</div>"
      ],
      "text/plain": [
       "         user_id  item_id last_watch_dt  total_dur  watched_pct  weight\n",
       "9         203219    13582    2021-08-22       6975        100.0       5\n",
       "54        200197     9335    2021-08-16         83          2.0       1\n",
       "64         73446    14488    2021-08-19       6011        100.0       5\n",
       "84         10010      512    2021-08-15         14          0.0       1\n",
       "94        890735    14200    2021-08-16       1179         28.0       2\n",
       "...          ...      ...           ...        ...          ...     ...\n",
       "5476169   589589      983    2021-08-21       2403         43.0       3\n",
       "5476188   590892     8618    2021-08-21       1335         23.0       2\n",
       "5476191   857162    12360    2021-08-16         11          0.0       1\n",
       "5476201   273558    10605    2021-08-21      34030        100.0       5\n",
       "5476250   319709     4436    2021-08-15       3921         45.0       3\n",
       "\n",
       "[333022 rows x 6 columns]"
      ]
     },
     "execution_count": 28,
     "metadata": {},
     "output_type": "execute_result"
    }
   ],
   "source": [
    "test"
   ]
  },
  {
   "cell_type": "markdown",
   "id": "b5eec6da",
   "metadata": {},
   "source": [
    "# User preprocess"
   ]
  },
  {
   "cell_type": "code",
   "execution_count": 29,
   "id": "c57e2b2f",
   "metadata": {},
   "outputs": [
    {
     "data": {
      "text/html": [
       "<div>\n",
       "<style scoped>\n",
       "    .dataframe tbody tr th:only-of-type {\n",
       "        vertical-align: middle;\n",
       "    }\n",
       "\n",
       "    .dataframe tbody tr th {\n",
       "        vertical-align: top;\n",
       "    }\n",
       "\n",
       "    .dataframe thead th {\n",
       "        text-align: right;\n",
       "    }\n",
       "</style>\n",
       "<table border=\"1\" class=\"dataframe\">\n",
       "  <thead>\n",
       "    <tr style=\"text-align: right;\">\n",
       "      <th></th>\n",
       "      <th>user_id</th>\n",
       "      <th>age</th>\n",
       "      <th>income</th>\n",
       "      <th>sex</th>\n",
       "      <th>kids_flg</th>\n",
       "    </tr>\n",
       "  </thead>\n",
       "  <tbody>\n",
       "    <tr>\n",
       "      <th>0</th>\n",
       "      <td>973171</td>\n",
       "      <td>age_25_34</td>\n",
       "      <td>income_60_90</td>\n",
       "      <td>М</td>\n",
       "      <td>1</td>\n",
       "    </tr>\n",
       "    <tr>\n",
       "      <th>1</th>\n",
       "      <td>962099</td>\n",
       "      <td>age_18_24</td>\n",
       "      <td>income_20_40</td>\n",
       "      <td>М</td>\n",
       "      <td>0</td>\n",
       "    </tr>\n",
       "    <tr>\n",
       "      <th>2</th>\n",
       "      <td>1047345</td>\n",
       "      <td>age_45_54</td>\n",
       "      <td>income_40_60</td>\n",
       "      <td>Ж</td>\n",
       "      <td>0</td>\n",
       "    </tr>\n",
       "    <tr>\n",
       "      <th>3</th>\n",
       "      <td>721985</td>\n",
       "      <td>age_45_54</td>\n",
       "      <td>income_20_40</td>\n",
       "      <td>Ж</td>\n",
       "      <td>0</td>\n",
       "    </tr>\n",
       "    <tr>\n",
       "      <th>4</th>\n",
       "      <td>704055</td>\n",
       "      <td>age_35_44</td>\n",
       "      <td>income_60_90</td>\n",
       "      <td>Ж</td>\n",
       "      <td>0</td>\n",
       "    </tr>\n",
       "    <tr>\n",
       "      <th>...</th>\n",
       "      <td>...</td>\n",
       "      <td>...</td>\n",
       "      <td>...</td>\n",
       "      <td>...</td>\n",
       "      <td>...</td>\n",
       "    </tr>\n",
       "    <tr>\n",
       "      <th>840192</th>\n",
       "      <td>339025</td>\n",
       "      <td>age_65_inf</td>\n",
       "      <td>income_0_20</td>\n",
       "      <td>Ж</td>\n",
       "      <td>0</td>\n",
       "    </tr>\n",
       "    <tr>\n",
       "      <th>840193</th>\n",
       "      <td>983617</td>\n",
       "      <td>age_18_24</td>\n",
       "      <td>income_20_40</td>\n",
       "      <td>Ж</td>\n",
       "      <td>1</td>\n",
       "    </tr>\n",
       "    <tr>\n",
       "      <th>840194</th>\n",
       "      <td>251008</td>\n",
       "      <td>NaN</td>\n",
       "      <td>NaN</td>\n",
       "      <td>NaN</td>\n",
       "      <td>0</td>\n",
       "    </tr>\n",
       "    <tr>\n",
       "      <th>840195</th>\n",
       "      <td>590706</td>\n",
       "      <td>NaN</td>\n",
       "      <td>NaN</td>\n",
       "      <td>Ж</td>\n",
       "      <td>0</td>\n",
       "    </tr>\n",
       "    <tr>\n",
       "      <th>840196</th>\n",
       "      <td>166555</td>\n",
       "      <td>age_65_inf</td>\n",
       "      <td>income_20_40</td>\n",
       "      <td>Ж</td>\n",
       "      <td>0</td>\n",
       "    </tr>\n",
       "  </tbody>\n",
       "</table>\n",
       "<p>840197 rows × 5 columns</p>\n",
       "</div>"
      ],
      "text/plain": [
       "        user_id         age        income  sex  kids_flg\n",
       "0        973171   age_25_34  income_60_90    М         1\n",
       "1        962099   age_18_24  income_20_40    М         0\n",
       "2       1047345   age_45_54  income_40_60    Ж         0\n",
       "3        721985   age_45_54  income_20_40    Ж         0\n",
       "4        704055   age_35_44  income_60_90    Ж         0\n",
       "...         ...         ...           ...  ...       ...\n",
       "840192   339025  age_65_inf   income_0_20    Ж         0\n",
       "840193   983617   age_18_24  income_20_40    Ж         1\n",
       "840194   251008         NaN           NaN  NaN         0\n",
       "840195   590706         NaN           NaN    Ж         0\n",
       "840196   166555  age_65_inf  income_20_40    Ж         0\n",
       "\n",
       "[840197 rows x 5 columns]"
      ]
     },
     "execution_count": 29,
     "metadata": {},
     "output_type": "execute_result"
    }
   ],
   "source": [
    "users"
   ]
  },
  {
   "cell_type": "code",
   "execution_count": 30,
   "id": "63996e92",
   "metadata": {},
   "outputs": [
    {
     "data": {
      "text/plain": [
       "user_id     0.000000\n",
       "age         0.016776\n",
       "income      0.017586\n",
       "sex         0.016462\n",
       "kids_flg    0.000000\n",
       "dtype: float64"
      ]
     },
     "execution_count": 30,
     "metadata": {},
     "output_type": "execute_result"
    }
   ],
   "source": [
    "users.isnull().sum()/840197"
   ]
  },
  {
   "cell_type": "code",
   "execution_count": 31,
   "id": "24cc138a",
   "metadata": {},
   "outputs": [],
   "source": [
    "users = users.loc[users[Columns.User].isin(train[Columns.User])].copy()"
   ]
  },
  {
   "cell_type": "markdown",
   "id": "c7f9a6e7",
   "metadata": {},
   "source": [
    "Заменяю Nan'ы на Unknown"
   ]
  },
  {
   "cell_type": "code",
   "execution_count": 32,
   "id": "1286eb60",
   "metadata": {},
   "outputs": [],
   "source": [
    "users.fillna('Unknown', inplace=True)\n"
   ]
  },
  {
   "cell_type": "code",
   "execution_count": 33,
   "id": "1ccccf0f",
   "metadata": {},
   "outputs": [
    {
     "data": {
      "text/html": [
       "<div>\n",
       "<style scoped>\n",
       "    .dataframe tbody tr th:only-of-type {\n",
       "        vertical-align: middle;\n",
       "    }\n",
       "\n",
       "    .dataframe tbody tr th {\n",
       "        vertical-align: top;\n",
       "    }\n",
       "\n",
       "    .dataframe thead th {\n",
       "        text-align: right;\n",
       "    }\n",
       "</style>\n",
       "<table border=\"1\" class=\"dataframe\">\n",
       "  <thead>\n",
       "    <tr style=\"text-align: right;\">\n",
       "      <th></th>\n",
       "      <th>id</th>\n",
       "      <th>value</th>\n",
       "      <th>feature</th>\n",
       "    </tr>\n",
       "  </thead>\n",
       "  <tbody>\n",
       "    <tr>\n",
       "      <th>0</th>\n",
       "      <td>973171</td>\n",
       "      <td>М</td>\n",
       "      <td>sex</td>\n",
       "    </tr>\n",
       "    <tr>\n",
       "      <th>1</th>\n",
       "      <td>962099</td>\n",
       "      <td>М</td>\n",
       "      <td>sex</td>\n",
       "    </tr>\n",
       "    <tr>\n",
       "      <th>3</th>\n",
       "      <td>721985</td>\n",
       "      <td>Ж</td>\n",
       "      <td>sex</td>\n",
       "    </tr>\n",
       "    <tr>\n",
       "      <th>4</th>\n",
       "      <td>704055</td>\n",
       "      <td>Ж</td>\n",
       "      <td>sex</td>\n",
       "    </tr>\n",
       "    <tr>\n",
       "      <th>5</th>\n",
       "      <td>1037719</td>\n",
       "      <td>М</td>\n",
       "      <td>sex</td>\n",
       "    </tr>\n",
       "  </tbody>\n",
       "</table>\n",
       "</div>"
      ],
      "text/plain": [
       "        id value feature\n",
       "0   973171     М     sex\n",
       "1   962099     М     sex\n",
       "3   721985     Ж     sex\n",
       "4   704055     Ж     sex\n",
       "5  1037719     М     sex"
      ]
     },
     "execution_count": 33,
     "metadata": {},
     "output_type": "execute_result"
    }
   ],
   "source": [
    "user_features_frames = []\n",
    "for feature in [\"sex\", \"age\", \"income\"]:\n",
    "    feature_frame = users.reindex(columns=[Columns.User, feature])\n",
    "    feature_frame.columns = [\"id\", \"value\"]\n",
    "    feature_frame[\"feature\"] = feature\n",
    "    user_features_frames.append(feature_frame)\n",
    "user_features = pd.concat(user_features_frames)\n",
    "user_features.head()"
   ]
  },
  {
   "cell_type": "markdown",
   "id": "b9220b0b",
   "metadata": {},
   "source": [
    "# Item preprocess"
   ]
  },
  {
   "cell_type": "code",
   "execution_count": 34,
   "id": "8bbe9ee4",
   "metadata": {},
   "outputs": [
    {
     "data": {
      "text/html": [
       "<div>\n",
       "<style scoped>\n",
       "    .dataframe tbody tr th:only-of-type {\n",
       "        vertical-align: middle;\n",
       "    }\n",
       "\n",
       "    .dataframe tbody tr th {\n",
       "        vertical-align: top;\n",
       "    }\n",
       "\n",
       "    .dataframe thead th {\n",
       "        text-align: right;\n",
       "    }\n",
       "</style>\n",
       "<table border=\"1\" class=\"dataframe\">\n",
       "  <thead>\n",
       "    <tr style=\"text-align: right;\">\n",
       "      <th></th>\n",
       "      <th>item_id</th>\n",
       "      <th>content_type</th>\n",
       "      <th>title</th>\n",
       "      <th>title_orig</th>\n",
       "      <th>release_year</th>\n",
       "      <th>genres</th>\n",
       "      <th>countries</th>\n",
       "      <th>for_kids</th>\n",
       "      <th>age_rating</th>\n",
       "      <th>studios</th>\n",
       "      <th>directors</th>\n",
       "      <th>actors</th>\n",
       "      <th>description</th>\n",
       "      <th>keywords</th>\n",
       "    </tr>\n",
       "  </thead>\n",
       "  <tbody>\n",
       "    <tr>\n",
       "      <th>0</th>\n",
       "      <td>10711</td>\n",
       "      <td>film</td>\n",
       "      <td>Поговори с ней</td>\n",
       "      <td>Hable con ella</td>\n",
       "      <td>2002.0</td>\n",
       "      <td>драмы, зарубежные, детективы, мелодрамы</td>\n",
       "      <td>Испания</td>\n",
       "      <td>NaN</td>\n",
       "      <td>16.0</td>\n",
       "      <td>NaN</td>\n",
       "      <td>Педро Альмодовар</td>\n",
       "      <td>Адольфо Фернандес, Ана Фернандес, Дарио Гранди...</td>\n",
       "      <td>Мелодрама легендарного Педро Альмодовара «Пого...</td>\n",
       "      <td>Поговори, ней, 2002, Испания, друзья, любовь, ...</td>\n",
       "    </tr>\n",
       "    <tr>\n",
       "      <th>1</th>\n",
       "      <td>2508</td>\n",
       "      <td>film</td>\n",
       "      <td>Голые перцы</td>\n",
       "      <td>Search Party</td>\n",
       "      <td>2014.0</td>\n",
       "      <td>зарубежные, приключения, комедии</td>\n",
       "      <td>США</td>\n",
       "      <td>NaN</td>\n",
       "      <td>16.0</td>\n",
       "      <td>NaN</td>\n",
       "      <td>Скот Армстронг</td>\n",
       "      <td>Адам Палли, Брайан Хаски, Дж.Б. Смув, Джейсон ...</td>\n",
       "      <td>Уморительная современная комедия на популярную...</td>\n",
       "      <td>Голые, перцы, 2014, США, друзья, свадьбы, прео...</td>\n",
       "    </tr>\n",
       "    <tr>\n",
       "      <th>2</th>\n",
       "      <td>10716</td>\n",
       "      <td>film</td>\n",
       "      <td>Тактическая сила</td>\n",
       "      <td>Tactical Force</td>\n",
       "      <td>2011.0</td>\n",
       "      <td>криминал, зарубежные, триллеры, боевики, комедии</td>\n",
       "      <td>Канада</td>\n",
       "      <td>NaN</td>\n",
       "      <td>16.0</td>\n",
       "      <td>NaN</td>\n",
       "      <td>Адам П. Калтраро</td>\n",
       "      <td>Адриан Холмс, Даррен Шалави, Джерри Вассерман,...</td>\n",
       "      <td>Профессиональный рестлер Стив Остин («Все или ...</td>\n",
       "      <td>Тактическая, сила, 2011, Канада, бандиты, ганг...</td>\n",
       "    </tr>\n",
       "    <tr>\n",
       "      <th>3</th>\n",
       "      <td>7868</td>\n",
       "      <td>film</td>\n",
       "      <td>45 лет</td>\n",
       "      <td>45 Years</td>\n",
       "      <td>2015.0</td>\n",
       "      <td>драмы, зарубежные, мелодрамы</td>\n",
       "      <td>Великобритания</td>\n",
       "      <td>NaN</td>\n",
       "      <td>16.0</td>\n",
       "      <td>NaN</td>\n",
       "      <td>Эндрю Хэй</td>\n",
       "      <td>Александра Риддлстон-Барретт, Джеральдин Джейм...</td>\n",
       "      <td>Шарлотта Рэмплинг, Том Кортни, Джеральдин Джей...</td>\n",
       "      <td>45, лет, 2015, Великобритания, брак, жизнь, лю...</td>\n",
       "    </tr>\n",
       "    <tr>\n",
       "      <th>4</th>\n",
       "      <td>16268</td>\n",
       "      <td>film</td>\n",
       "      <td>Все решает мгновение</td>\n",
       "      <td>NaN</td>\n",
       "      <td>1978.0</td>\n",
       "      <td>драмы, спорт, советские, мелодрамы</td>\n",
       "      <td>СССР</td>\n",
       "      <td>NaN</td>\n",
       "      <td>12.0</td>\n",
       "      <td>Ленфильм</td>\n",
       "      <td>Виктор Садовский</td>\n",
       "      <td>Александр Абдулов, Александр Демьяненко, Алекс...</td>\n",
       "      <td>Расчетливая чаровница из советского кинохита «...</td>\n",
       "      <td>Все, решает, мгновение, 1978, СССР, сильные, ж...</td>\n",
       "    </tr>\n",
       "    <tr>\n",
       "      <th>...</th>\n",
       "      <td>...</td>\n",
       "      <td>...</td>\n",
       "      <td>...</td>\n",
       "      <td>...</td>\n",
       "      <td>...</td>\n",
       "      <td>...</td>\n",
       "      <td>...</td>\n",
       "      <td>...</td>\n",
       "      <td>...</td>\n",
       "      <td>...</td>\n",
       "      <td>...</td>\n",
       "      <td>...</td>\n",
       "      <td>...</td>\n",
       "      <td>...</td>\n",
       "    </tr>\n",
       "    <tr>\n",
       "      <th>15958</th>\n",
       "      <td>6443</td>\n",
       "      <td>series</td>\n",
       "      <td>Полярный круг</td>\n",
       "      <td>Arctic Circle</td>\n",
       "      <td>2018.0</td>\n",
       "      <td>драмы, триллеры, криминал</td>\n",
       "      <td>Финляндия, Германия</td>\n",
       "      <td>NaN</td>\n",
       "      <td>16.0</td>\n",
       "      <td>NaN</td>\n",
       "      <td>Ханну Салонен</td>\n",
       "      <td>Иина Куустонен, Максимилиан Брюкнер, Пихла Вии...</td>\n",
       "      <td>Во время погони за браконьерами по лесу, сотру...</td>\n",
       "      <td>убийство, вирус, расследование преступления, н...</td>\n",
       "    </tr>\n",
       "    <tr>\n",
       "      <th>15959</th>\n",
       "      <td>2367</td>\n",
       "      <td>series</td>\n",
       "      <td>Надежда</td>\n",
       "      <td>NaN</td>\n",
       "      <td>2020.0</td>\n",
       "      <td>драмы, боевики</td>\n",
       "      <td>Россия</td>\n",
       "      <td>0.0</td>\n",
       "      <td>18.0</td>\n",
       "      <td>NaN</td>\n",
       "      <td>Елена Хазанова</td>\n",
       "      <td>Виктория Исакова, Александр Кузьмин, Алексей М...</td>\n",
       "      <td>Оригинальный киносериал от создателей «Бывших»...</td>\n",
       "      <td>Надежда, 2020, Россия</td>\n",
       "    </tr>\n",
       "    <tr>\n",
       "      <th>15960</th>\n",
       "      <td>10632</td>\n",
       "      <td>series</td>\n",
       "      <td>Сговор</td>\n",
       "      <td>Hassel</td>\n",
       "      <td>2017.0</td>\n",
       "      <td>драмы, триллеры, криминал</td>\n",
       "      <td>Россия</td>\n",
       "      <td>0.0</td>\n",
       "      <td>18.0</td>\n",
       "      <td>NaN</td>\n",
       "      <td>Эшреф Рейбрук, Амир Камдин, Эрик Эгер</td>\n",
       "      <td>Ола Рапас, Алиетт Офейм, Уильма Лиден, Шанти Р...</td>\n",
       "      <td>Криминальная драма по мотивам романов о шведск...</td>\n",
       "      <td>Сговор, 2017, Россия</td>\n",
       "    </tr>\n",
       "    <tr>\n",
       "      <th>15961</th>\n",
       "      <td>4538</td>\n",
       "      <td>series</td>\n",
       "      <td>Среди камней</td>\n",
       "      <td>Darklands</td>\n",
       "      <td>2019.0</td>\n",
       "      <td>драмы, спорт, криминал</td>\n",
       "      <td>Россия</td>\n",
       "      <td>0.0</td>\n",
       "      <td>18.0</td>\n",
       "      <td>NaN</td>\n",
       "      <td>Марк О’Коннор, Конор МакМахон</td>\n",
       "      <td>Дэйн Уайт О’Хара, Томас Кэйн-Бирн, Джудит Родд...</td>\n",
       "      <td>Семнадцатилетний Дэмиен мечтает вырваться за п...</td>\n",
       "      <td>Среди, камней, 2019, Россия</td>\n",
       "    </tr>\n",
       "    <tr>\n",
       "      <th>15962</th>\n",
       "      <td>3206</td>\n",
       "      <td>series</td>\n",
       "      <td>Гоша</td>\n",
       "      <td>NaN</td>\n",
       "      <td>2019.0</td>\n",
       "      <td>комедии</td>\n",
       "      <td>Россия</td>\n",
       "      <td>0.0</td>\n",
       "      <td>16.0</td>\n",
       "      <td>NaN</td>\n",
       "      <td>Михаил Миронов</td>\n",
       "      <td>Мкртыч Арзуманян, Виктория Рунцова</td>\n",
       "      <td>Добродушный Гоша не может выйти из дома, чтобы...</td>\n",
       "      <td>Гоша, 2019, Россия</td>\n",
       "    </tr>\n",
       "  </tbody>\n",
       "</table>\n",
       "<p>15963 rows × 14 columns</p>\n",
       "</div>"
      ],
      "text/plain": [
       "       item_id content_type                 title      title_orig  \\\n",
       "0        10711         film        Поговори с ней  Hable con ella   \n",
       "1         2508         film           Голые перцы    Search Party   \n",
       "2        10716         film      Тактическая сила  Tactical Force   \n",
       "3         7868         film                45 лет        45 Years   \n",
       "4        16268         film  Все решает мгновение             NaN   \n",
       "...        ...          ...                   ...             ...   \n",
       "15958     6443       series         Полярный круг   Arctic Circle   \n",
       "15959     2367       series               Надежда             NaN   \n",
       "15960    10632       series                Сговор          Hassel   \n",
       "15961     4538       series          Среди камней      Darklands    \n",
       "15962     3206       series                  Гоша             NaN   \n",
       "\n",
       "       release_year                                            genres  \\\n",
       "0            2002.0           драмы, зарубежные, детективы, мелодрамы   \n",
       "1            2014.0                  зарубежные, приключения, комедии   \n",
       "2            2011.0  криминал, зарубежные, триллеры, боевики, комедии   \n",
       "3            2015.0                      драмы, зарубежные, мелодрамы   \n",
       "4            1978.0                драмы, спорт, советские, мелодрамы   \n",
       "...             ...                                               ...   \n",
       "15958        2018.0                         драмы, триллеры, криминал   \n",
       "15959        2020.0                                    драмы, боевики   \n",
       "15960        2017.0                         драмы, триллеры, криминал   \n",
       "15961        2019.0                            драмы, спорт, криминал   \n",
       "15962        2019.0                                           комедии   \n",
       "\n",
       "                 countries  for_kids  age_rating   studios  \\\n",
       "0                  Испания       NaN        16.0       NaN   \n",
       "1                      США       NaN        16.0       NaN   \n",
       "2                   Канада       NaN        16.0       NaN   \n",
       "3           Великобритания       NaN        16.0       NaN   \n",
       "4                     СССР       NaN        12.0  Ленфильм   \n",
       "...                    ...       ...         ...       ...   \n",
       "15958  Финляндия, Германия       NaN        16.0       NaN   \n",
       "15959               Россия       0.0        18.0       NaN   \n",
       "15960               Россия       0.0        18.0       NaN   \n",
       "15961               Россия       0.0        18.0       NaN   \n",
       "15962               Россия       0.0        16.0       NaN   \n",
       "\n",
       "                                   directors  \\\n",
       "0                           Педро Альмодовар   \n",
       "1                             Скот Армстронг   \n",
       "2                           Адам П. Калтраро   \n",
       "3                                  Эндрю Хэй   \n",
       "4                           Виктор Садовский   \n",
       "...                                      ...   \n",
       "15958                          Ханну Салонен   \n",
       "15959                         Елена Хазанова   \n",
       "15960  Эшреф Рейбрук, Амир Камдин, Эрик Эгер   \n",
       "15961          Марк О’Коннор, Конор МакМахон   \n",
       "15962                         Михаил Миронов   \n",
       "\n",
       "                                                  actors  \\\n",
       "0      Адольфо Фернандес, Ана Фернандес, Дарио Гранди...   \n",
       "1      Адам Палли, Брайан Хаски, Дж.Б. Смув, Джейсон ...   \n",
       "2      Адриан Холмс, Даррен Шалави, Джерри Вассерман,...   \n",
       "3      Александра Риддлстон-Барретт, Джеральдин Джейм...   \n",
       "4      Александр Абдулов, Александр Демьяненко, Алекс...   \n",
       "...                                                  ...   \n",
       "15958  Иина Куустонен, Максимилиан Брюкнер, Пихла Вии...   \n",
       "15959  Виктория Исакова, Александр Кузьмин, Алексей М...   \n",
       "15960  Ола Рапас, Алиетт Офейм, Уильма Лиден, Шанти Р...   \n",
       "15961  Дэйн Уайт О’Хара, Томас Кэйн-Бирн, Джудит Родд...   \n",
       "15962                 Мкртыч Арзуманян, Виктория Рунцова   \n",
       "\n",
       "                                             description  \\\n",
       "0      Мелодрама легендарного Педро Альмодовара «Пого...   \n",
       "1      Уморительная современная комедия на популярную...   \n",
       "2      Профессиональный рестлер Стив Остин («Все или ...   \n",
       "3      Шарлотта Рэмплинг, Том Кортни, Джеральдин Джей...   \n",
       "4      Расчетливая чаровница из советского кинохита «...   \n",
       "...                                                  ...   \n",
       "15958  Во время погони за браконьерами по лесу, сотру...   \n",
       "15959  Оригинальный киносериал от создателей «Бывших»...   \n",
       "15960  Криминальная драма по мотивам романов о шведск...   \n",
       "15961  Семнадцатилетний Дэмиен мечтает вырваться за п...   \n",
       "15962  Добродушный Гоша не может выйти из дома, чтобы...   \n",
       "\n",
       "                                                keywords  \n",
       "0      Поговори, ней, 2002, Испания, друзья, любовь, ...  \n",
       "1      Голые, перцы, 2014, США, друзья, свадьбы, прео...  \n",
       "2      Тактическая, сила, 2011, Канада, бандиты, ганг...  \n",
       "3      45, лет, 2015, Великобритания, брак, жизнь, лю...  \n",
       "4      Все, решает, мгновение, 1978, СССР, сильные, ж...  \n",
       "...                                                  ...  \n",
       "15958  убийство, вирус, расследование преступления, н...  \n",
       "15959                              Надежда, 2020, Россия  \n",
       "15960                               Сговор, 2017, Россия  \n",
       "15961                        Среди, камней, 2019, Россия  \n",
       "15962                                 Гоша, 2019, Россия  \n",
       "\n",
       "[15963 rows x 14 columns]"
      ]
     },
     "execution_count": 34,
     "metadata": {},
     "output_type": "execute_result"
    }
   ],
   "source": [
    "items"
   ]
  },
  {
   "cell_type": "code",
   "execution_count": 35,
   "id": "72fa86a0",
   "metadata": {
    "scrolled": true
   },
   "outputs": [
    {
     "data": {
      "text/plain": [
       "item_id             0\n",
       "content_type        0\n",
       "title               0\n",
       "title_orig       4745\n",
       "release_year       98\n",
       "genres              0\n",
       "countries          37\n",
       "for_kids        15397\n",
       "age_rating          2\n",
       "studios         14898\n",
       "directors        1509\n",
       "actors           2619\n",
       "description         2\n",
       "keywords          423\n",
       "dtype: int64"
      ]
     },
     "execution_count": 35,
     "metadata": {},
     "output_type": "execute_result"
    }
   ],
   "source": [
    "items.isna().sum()"
   ]
  },
  {
   "cell_type": "code",
   "execution_count": 36,
   "id": "50f0611f",
   "metadata": {},
   "outputs": [],
   "source": [
    "items = items.loc[items[Columns.Item].isin(train[Columns.Item])].copy()"
   ]
  },
  {
   "cell_type": "code",
   "execution_count": 37,
   "id": "280cf47d",
   "metadata": {},
   "outputs": [
    {
     "data": {
      "text/plain": [
       "item_id             0\n",
       "content_type        0\n",
       "title               0\n",
       "title_orig       3775\n",
       "release_year       31\n",
       "genres              0\n",
       "countries          14\n",
       "for_kids        13415\n",
       "age_rating          1\n",
       "studios         13047\n",
       "directors         939\n",
       "actors           1858\n",
       "description         0\n",
       "keywords          388\n",
       "dtype: int64"
      ]
     },
     "execution_count": 37,
     "metadata": {},
     "output_type": "execute_result"
    }
   ],
   "source": [
    "items.isna().sum()"
   ]
  },
  {
   "cell_type": "markdown",
   "id": "eddd93b5",
   "metadata": {},
   "source": [
    "# Genre"
   ]
  },
  {
   "cell_type": "code",
   "execution_count": 38,
   "id": "bf6da75c",
   "metadata": {},
   "outputs": [
    {
     "data": {
      "text/html": [
       "<div>\n",
       "<style scoped>\n",
       "    .dataframe tbody tr th:only-of-type {\n",
       "        vertical-align: middle;\n",
       "    }\n",
       "\n",
       "    .dataframe tbody tr th {\n",
       "        vertical-align: top;\n",
       "    }\n",
       "\n",
       "    .dataframe thead th {\n",
       "        text-align: right;\n",
       "    }\n",
       "</style>\n",
       "<table border=\"1\" class=\"dataframe\">\n",
       "  <thead>\n",
       "    <tr style=\"text-align: right;\">\n",
       "      <th></th>\n",
       "      <th>id</th>\n",
       "      <th>value</th>\n",
       "      <th>feature</th>\n",
       "    </tr>\n",
       "  </thead>\n",
       "  <tbody>\n",
       "    <tr>\n",
       "      <th>0</th>\n",
       "      <td>10711</td>\n",
       "      <td>драмы</td>\n",
       "      <td>genre</td>\n",
       "    </tr>\n",
       "    <tr>\n",
       "      <th>0</th>\n",
       "      <td>10711</td>\n",
       "      <td>зарубежные</td>\n",
       "      <td>genre</td>\n",
       "    </tr>\n",
       "    <tr>\n",
       "      <th>0</th>\n",
       "      <td>10711</td>\n",
       "      <td>детективы</td>\n",
       "      <td>genre</td>\n",
       "    </tr>\n",
       "    <tr>\n",
       "      <th>0</th>\n",
       "      <td>10711</td>\n",
       "      <td>мелодрамы</td>\n",
       "      <td>genre</td>\n",
       "    </tr>\n",
       "    <tr>\n",
       "      <th>1</th>\n",
       "      <td>2508</td>\n",
       "      <td>зарубежные</td>\n",
       "      <td>genre</td>\n",
       "    </tr>\n",
       "  </tbody>\n",
       "</table>\n",
       "</div>"
      ],
      "text/plain": [
       "      id       value feature\n",
       "0  10711       драмы   genre\n",
       "0  10711  зарубежные   genre\n",
       "0  10711   детективы   genre\n",
       "0  10711   мелодрамы   genre\n",
       "1   2508  зарубежные   genre"
      ]
     },
     "execution_count": 38,
     "metadata": {},
     "output_type": "execute_result"
    }
   ],
   "source": [
    "# Explode genres to flatten table\n",
    "items[\"genre\"] = items[\"genres\"].str.lower().str.replace(\", \", \",\", regex=False).str.split(\",\")\n",
    "genre_feature = items[[\"item_id\", \"genre\"]].explode(\"genre\")\n",
    "genre_feature.columns = [\"id\", \"value\"]\n",
    "genre_feature[\"feature\"] = \"genre\"\n",
    "genre_feature.head()"
   ]
  },
  {
   "cell_type": "code",
   "execution_count": 39,
   "id": "913b9c27",
   "metadata": {},
   "outputs": [
    {
     "data": {
      "text/html": [
       "<div>\n",
       "<style scoped>\n",
       "    .dataframe tbody tr th:only-of-type {\n",
       "        vertical-align: middle;\n",
       "    }\n",
       "\n",
       "    .dataframe tbody tr th {\n",
       "        vertical-align: top;\n",
       "    }\n",
       "\n",
       "    .dataframe thead th {\n",
       "        text-align: right;\n",
       "    }\n",
       "</style>\n",
       "<table border=\"1\" class=\"dataframe\">\n",
       "  <thead>\n",
       "    <tr style=\"text-align: right;\">\n",
       "      <th></th>\n",
       "      <th>id</th>\n",
       "      <th>value</th>\n",
       "      <th>feature</th>\n",
       "    </tr>\n",
       "  </thead>\n",
       "  <tbody>\n",
       "    <tr>\n",
       "      <th>0</th>\n",
       "      <td>10711</td>\n",
       "      <td>драмы</td>\n",
       "      <td>genre</td>\n",
       "    </tr>\n",
       "    <tr>\n",
       "      <th>0</th>\n",
       "      <td>10711</td>\n",
       "      <td>зарубежные</td>\n",
       "      <td>genre</td>\n",
       "    </tr>\n",
       "    <tr>\n",
       "      <th>0</th>\n",
       "      <td>10711</td>\n",
       "      <td>детективы</td>\n",
       "      <td>genre</td>\n",
       "    </tr>\n",
       "    <tr>\n",
       "      <th>0</th>\n",
       "      <td>10711</td>\n",
       "      <td>мелодрамы</td>\n",
       "      <td>genre</td>\n",
       "    </tr>\n",
       "    <tr>\n",
       "      <th>1</th>\n",
       "      <td>2508</td>\n",
       "      <td>зарубежные</td>\n",
       "      <td>genre</td>\n",
       "    </tr>\n",
       "    <tr>\n",
       "      <th>...</th>\n",
       "      <td>...</td>\n",
       "      <td>...</td>\n",
       "      <td>...</td>\n",
       "    </tr>\n",
       "    <tr>\n",
       "      <th>15960</th>\n",
       "      <td>10632</td>\n",
       "      <td>криминал</td>\n",
       "      <td>genre</td>\n",
       "    </tr>\n",
       "    <tr>\n",
       "      <th>15961</th>\n",
       "      <td>4538</td>\n",
       "      <td>драмы</td>\n",
       "      <td>genre</td>\n",
       "    </tr>\n",
       "    <tr>\n",
       "      <th>15961</th>\n",
       "      <td>4538</td>\n",
       "      <td>спорт</td>\n",
       "      <td>genre</td>\n",
       "    </tr>\n",
       "    <tr>\n",
       "      <th>15961</th>\n",
       "      <td>4538</td>\n",
       "      <td>криминал</td>\n",
       "      <td>genre</td>\n",
       "    </tr>\n",
       "    <tr>\n",
       "      <th>15962</th>\n",
       "      <td>3206</td>\n",
       "      <td>комедии</td>\n",
       "      <td>genre</td>\n",
       "    </tr>\n",
       "  </tbody>\n",
       "</table>\n",
       "<p>36128 rows × 3 columns</p>\n",
       "</div>"
      ],
      "text/plain": [
       "          id       value feature\n",
       "0      10711       драмы   genre\n",
       "0      10711  зарубежные   genre\n",
       "0      10711   детективы   genre\n",
       "0      10711   мелодрамы   genre\n",
       "1       2508  зарубежные   genre\n",
       "...      ...         ...     ...\n",
       "15960  10632    криминал   genre\n",
       "15961   4538       драмы   genre\n",
       "15961   4538       спорт   genre\n",
       "15961   4538    криминал   genre\n",
       "15962   3206     комедии   genre\n",
       "\n",
       "[36128 rows x 3 columns]"
      ]
     },
     "execution_count": 39,
     "metadata": {},
     "output_type": "execute_result"
    }
   ],
   "source": [
    "genre_feature"
   ]
  },
  {
   "cell_type": "markdown",
   "id": "478bf1e3",
   "metadata": {},
   "source": [
    "# Content"
   ]
  },
  {
   "cell_type": "code",
   "execution_count": 40,
   "id": "65f8b5d9",
   "metadata": {},
   "outputs": [
    {
     "data": {
      "text/html": [
       "<div>\n",
       "<style scoped>\n",
       "    .dataframe tbody tr th:only-of-type {\n",
       "        vertical-align: middle;\n",
       "    }\n",
       "\n",
       "    .dataframe tbody tr th {\n",
       "        vertical-align: top;\n",
       "    }\n",
       "\n",
       "    .dataframe thead th {\n",
       "        text-align: right;\n",
       "    }\n",
       "</style>\n",
       "<table border=\"1\" class=\"dataframe\">\n",
       "  <thead>\n",
       "    <tr style=\"text-align: right;\">\n",
       "      <th></th>\n",
       "      <th>id</th>\n",
       "      <th>value</th>\n",
       "      <th>feature</th>\n",
       "    </tr>\n",
       "  </thead>\n",
       "  <tbody>\n",
       "    <tr>\n",
       "      <th>0</th>\n",
       "      <td>10711</td>\n",
       "      <td>film</td>\n",
       "      <td>content_type</td>\n",
       "    </tr>\n",
       "    <tr>\n",
       "      <th>1</th>\n",
       "      <td>2508</td>\n",
       "      <td>film</td>\n",
       "      <td>content_type</td>\n",
       "    </tr>\n",
       "    <tr>\n",
       "      <th>2</th>\n",
       "      <td>10716</td>\n",
       "      <td>film</td>\n",
       "      <td>content_type</td>\n",
       "    </tr>\n",
       "    <tr>\n",
       "      <th>3</th>\n",
       "      <td>7868</td>\n",
       "      <td>film</td>\n",
       "      <td>content_type</td>\n",
       "    </tr>\n",
       "    <tr>\n",
       "      <th>4</th>\n",
       "      <td>16268</td>\n",
       "      <td>film</td>\n",
       "      <td>content_type</td>\n",
       "    </tr>\n",
       "    <tr>\n",
       "      <th>...</th>\n",
       "      <td>...</td>\n",
       "      <td>...</td>\n",
       "      <td>...</td>\n",
       "    </tr>\n",
       "    <tr>\n",
       "      <th>15958</th>\n",
       "      <td>6443</td>\n",
       "      <td>series</td>\n",
       "      <td>content_type</td>\n",
       "    </tr>\n",
       "    <tr>\n",
       "      <th>15959</th>\n",
       "      <td>2367</td>\n",
       "      <td>series</td>\n",
       "      <td>content_type</td>\n",
       "    </tr>\n",
       "    <tr>\n",
       "      <th>15960</th>\n",
       "      <td>10632</td>\n",
       "      <td>series</td>\n",
       "      <td>content_type</td>\n",
       "    </tr>\n",
       "    <tr>\n",
       "      <th>15961</th>\n",
       "      <td>4538</td>\n",
       "      <td>series</td>\n",
       "      <td>content_type</td>\n",
       "    </tr>\n",
       "    <tr>\n",
       "      <th>15962</th>\n",
       "      <td>3206</td>\n",
       "      <td>series</td>\n",
       "      <td>content_type</td>\n",
       "    </tr>\n",
       "  </tbody>\n",
       "</table>\n",
       "<p>13963 rows × 3 columns</p>\n",
       "</div>"
      ],
      "text/plain": [
       "          id   value       feature\n",
       "0      10711    film  content_type\n",
       "1       2508    film  content_type\n",
       "2      10716    film  content_type\n",
       "3       7868    film  content_type\n",
       "4      16268    film  content_type\n",
       "...      ...     ...           ...\n",
       "15958   6443  series  content_type\n",
       "15959   2367  series  content_type\n",
       "15960  10632  series  content_type\n",
       "15961   4538  series  content_type\n",
       "15962   3206  series  content_type\n",
       "\n",
       "[13963 rows x 3 columns]"
      ]
     },
     "execution_count": 40,
     "metadata": {},
     "output_type": "execute_result"
    }
   ],
   "source": [
    "content_feature = items.reindex(columns=[Columns.Item, \"content_type\"])\n",
    "content_feature.columns = [\"id\", \"value\"]\n",
    "content_feature[\"feature\"] = \"content_type\"\n",
    "content_feature"
   ]
  },
  {
   "cell_type": "markdown",
   "id": "a62ebee4",
   "metadata": {},
   "source": [
    "# Actors"
   ]
  },
  {
   "cell_type": "code",
   "execution_count": 41,
   "id": "fdc43660",
   "metadata": {},
   "outputs": [
    {
     "data": {
      "text/html": [
       "<div>\n",
       "<style scoped>\n",
       "    .dataframe tbody tr th:only-of-type {\n",
       "        vertical-align: middle;\n",
       "    }\n",
       "\n",
       "    .dataframe tbody tr th {\n",
       "        vertical-align: top;\n",
       "    }\n",
       "\n",
       "    .dataframe thead th {\n",
       "        text-align: right;\n",
       "    }\n",
       "</style>\n",
       "<table border=\"1\" class=\"dataframe\">\n",
       "  <thead>\n",
       "    <tr style=\"text-align: right;\">\n",
       "      <th></th>\n",
       "      <th>id</th>\n",
       "      <th>value</th>\n",
       "      <th>feature</th>\n",
       "    </tr>\n",
       "  </thead>\n",
       "  <tbody>\n",
       "    <tr>\n",
       "      <th>0</th>\n",
       "      <td>10711</td>\n",
       "      <td>адольфо фернандес</td>\n",
       "      <td>actors</td>\n",
       "    </tr>\n",
       "    <tr>\n",
       "      <th>0</th>\n",
       "      <td>10711</td>\n",
       "      <td>ана фернандес</td>\n",
       "      <td>actors</td>\n",
       "    </tr>\n",
       "    <tr>\n",
       "      <th>0</th>\n",
       "      <td>10711</td>\n",
       "      <td>дарио грандинетти</td>\n",
       "      <td>actors</td>\n",
       "    </tr>\n",
       "    <tr>\n",
       "      <th>0</th>\n",
       "      <td>10711</td>\n",
       "      <td>джеральдин чаплин</td>\n",
       "      <td>actors</td>\n",
       "    </tr>\n",
       "    <tr>\n",
       "      <th>0</th>\n",
       "      <td>10711</td>\n",
       "      <td>елена анайя</td>\n",
       "      <td>actors</td>\n",
       "    </tr>\n",
       "    <tr>\n",
       "      <th>...</th>\n",
       "      <td>...</td>\n",
       "      <td>...</td>\n",
       "      <td>...</td>\n",
       "    </tr>\n",
       "    <tr>\n",
       "      <th>15961</th>\n",
       "      <td>4538</td>\n",
       "      <td>джудит родди</td>\n",
       "      <td>actors</td>\n",
       "    </tr>\n",
       "    <tr>\n",
       "      <th>15961</th>\n",
       "      <td>4538</td>\n",
       "      <td>марк о’халлоран</td>\n",
       "      <td>actors</td>\n",
       "    </tr>\n",
       "    <tr>\n",
       "      <th>15961</th>\n",
       "      <td>4538</td>\n",
       "      <td>джимми смоллхорн</td>\n",
       "      <td>actors</td>\n",
       "    </tr>\n",
       "    <tr>\n",
       "      <th>15962</th>\n",
       "      <td>3206</td>\n",
       "      <td>мкртыч арзуманян</td>\n",
       "      <td>actors</td>\n",
       "    </tr>\n",
       "    <tr>\n",
       "      <th>15962</th>\n",
       "      <td>3206</td>\n",
       "      <td>виктория рунцова</td>\n",
       "      <td>actors</td>\n",
       "    </tr>\n",
       "  </tbody>\n",
       "</table>\n",
       "<p>128926 rows × 3 columns</p>\n",
       "</div>"
      ],
      "text/plain": [
       "          id              value feature\n",
       "0      10711  адольфо фернандес  actors\n",
       "0      10711      ана фернандес  actors\n",
       "0      10711  дарио грандинетти  actors\n",
       "0      10711  джеральдин чаплин  actors\n",
       "0      10711        елена анайя  actors\n",
       "...      ...                ...     ...\n",
       "15961   4538       джудит родди  actors\n",
       "15961   4538    марк о’халлоран  actors\n",
       "15961   4538   джимми смоллхорн  actors\n",
       "15962   3206   мкртыч арзуманян  actors\n",
       "15962   3206   виктория рунцова  actors\n",
       "\n",
       "[128926 rows x 3 columns]"
      ]
     },
     "execution_count": 41,
     "metadata": {},
     "output_type": "execute_result"
    }
   ],
   "source": [
    "items[\"actors\"] = items[\"actors\"].str.lower().str.replace(\", \", \",\", regex=False).str.split(\",\")\n",
    "actors_feature = items[[\"item_id\", \"actors\"]].explode(\"actors\")\n",
    "actors_feature.columns = [\"id\", \"value\"]\n",
    "actors_feature[\"feature\"] = \"actors\"\n",
    "actors_feature"
   ]
  },
  {
   "cell_type": "markdown",
   "id": "73801647",
   "metadata": {},
   "source": [
    "# Keywords"
   ]
  },
  {
   "cell_type": "code",
   "execution_count": 42,
   "id": "594abe5c",
   "metadata": {},
   "outputs": [
    {
     "data": {
      "text/html": [
       "<div>\n",
       "<style scoped>\n",
       "    .dataframe tbody tr th:only-of-type {\n",
       "        vertical-align: middle;\n",
       "    }\n",
       "\n",
       "    .dataframe tbody tr th {\n",
       "        vertical-align: top;\n",
       "    }\n",
       "\n",
       "    .dataframe thead th {\n",
       "        text-align: right;\n",
       "    }\n",
       "</style>\n",
       "<table border=\"1\" class=\"dataframe\">\n",
       "  <thead>\n",
       "    <tr style=\"text-align: right;\">\n",
       "      <th></th>\n",
       "      <th>id</th>\n",
       "      <th>value</th>\n",
       "      <th>feature</th>\n",
       "    </tr>\n",
       "  </thead>\n",
       "  <tbody>\n",
       "    <tr>\n",
       "      <th>0</th>\n",
       "      <td>10711</td>\n",
       "      <td>поговори</td>\n",
       "      <td>keywords</td>\n",
       "    </tr>\n",
       "    <tr>\n",
       "      <th>0</th>\n",
       "      <td>10711</td>\n",
       "      <td>ней</td>\n",
       "      <td>keywords</td>\n",
       "    </tr>\n",
       "    <tr>\n",
       "      <th>0</th>\n",
       "      <td>10711</td>\n",
       "      <td>2002</td>\n",
       "      <td>keywords</td>\n",
       "    </tr>\n",
       "    <tr>\n",
       "      <th>0</th>\n",
       "      <td>10711</td>\n",
       "      <td>испания</td>\n",
       "      <td>keywords</td>\n",
       "    </tr>\n",
       "    <tr>\n",
       "      <th>0</th>\n",
       "      <td>10711</td>\n",
       "      <td>друзья</td>\n",
       "      <td>keywords</td>\n",
       "    </tr>\n",
       "    <tr>\n",
       "      <th>...</th>\n",
       "      <td>...</td>\n",
       "      <td>...</td>\n",
       "      <td>...</td>\n",
       "    </tr>\n",
       "    <tr>\n",
       "      <th>15961</th>\n",
       "      <td>4538</td>\n",
       "      <td>2019</td>\n",
       "      <td>keywords</td>\n",
       "    </tr>\n",
       "    <tr>\n",
       "      <th>15961</th>\n",
       "      <td>4538</td>\n",
       "      <td>россия</td>\n",
       "      <td>keywords</td>\n",
       "    </tr>\n",
       "    <tr>\n",
       "      <th>15962</th>\n",
       "      <td>3206</td>\n",
       "      <td>гоша</td>\n",
       "      <td>keywords</td>\n",
       "    </tr>\n",
       "    <tr>\n",
       "      <th>15962</th>\n",
       "      <td>3206</td>\n",
       "      <td>2019</td>\n",
       "      <td>keywords</td>\n",
       "    </tr>\n",
       "    <tr>\n",
       "      <th>15962</th>\n",
       "      <td>3206</td>\n",
       "      <td>россия</td>\n",
       "      <td>keywords</td>\n",
       "    </tr>\n",
       "  </tbody>\n",
       "</table>\n",
       "<p>341629 rows × 3 columns</p>\n",
       "</div>"
      ],
      "text/plain": [
       "          id     value   feature\n",
       "0      10711  поговори  keywords\n",
       "0      10711       ней  keywords\n",
       "0      10711      2002  keywords\n",
       "0      10711   испания  keywords\n",
       "0      10711    друзья  keywords\n",
       "...      ...       ...       ...\n",
       "15961   4538      2019  keywords\n",
       "15961   4538    россия  keywords\n",
       "15962   3206      гоша  keywords\n",
       "15962   3206      2019  keywords\n",
       "15962   3206    россия  keywords\n",
       "\n",
       "[341629 rows x 3 columns]"
      ]
     },
     "execution_count": 42,
     "metadata": {},
     "output_type": "execute_result"
    }
   ],
   "source": [
    "items[\"keywords\"] = items[\"keywords\"].str.lower().str.replace(\", \", \",\", regex=False).str.split(\",\")\n",
    "keywords_feature = items[[\"item_id\", \"keywords\"]].explode(\"keywords\")\n",
    "keywords_feature.columns = [\"id\", \"value\"]\n",
    "keywords_feature[\"feature\"] = \"keywords\"\n",
    "keywords_feature"
   ]
  },
  {
   "cell_type": "markdown",
   "id": "d3eb0a37",
   "metadata": {},
   "source": [
    "# Countries\t"
   ]
  },
  {
   "cell_type": "code",
   "execution_count": 43,
   "id": "8eb8a621",
   "metadata": {},
   "outputs": [
    {
     "data": {
      "text/html": [
       "<div>\n",
       "<style scoped>\n",
       "    .dataframe tbody tr th:only-of-type {\n",
       "        vertical-align: middle;\n",
       "    }\n",
       "\n",
       "    .dataframe tbody tr th {\n",
       "        vertical-align: top;\n",
       "    }\n",
       "\n",
       "    .dataframe thead th {\n",
       "        text-align: right;\n",
       "    }\n",
       "</style>\n",
       "<table border=\"1\" class=\"dataframe\">\n",
       "  <thead>\n",
       "    <tr style=\"text-align: right;\">\n",
       "      <th></th>\n",
       "      <th>id</th>\n",
       "      <th>value</th>\n",
       "      <th>feature</th>\n",
       "    </tr>\n",
       "  </thead>\n",
       "  <tbody>\n",
       "    <tr>\n",
       "      <th>0</th>\n",
       "      <td>10711</td>\n",
       "      <td>Испания</td>\n",
       "      <td>countries</td>\n",
       "    </tr>\n",
       "    <tr>\n",
       "      <th>1</th>\n",
       "      <td>2508</td>\n",
       "      <td>США</td>\n",
       "      <td>countries</td>\n",
       "    </tr>\n",
       "    <tr>\n",
       "      <th>2</th>\n",
       "      <td>10716</td>\n",
       "      <td>Канада</td>\n",
       "      <td>countries</td>\n",
       "    </tr>\n",
       "    <tr>\n",
       "      <th>3</th>\n",
       "      <td>7868</td>\n",
       "      <td>Великобритания</td>\n",
       "      <td>countries</td>\n",
       "    </tr>\n",
       "    <tr>\n",
       "      <th>4</th>\n",
       "      <td>16268</td>\n",
       "      <td>СССР</td>\n",
       "      <td>countries</td>\n",
       "    </tr>\n",
       "    <tr>\n",
       "      <th>...</th>\n",
       "      <td>...</td>\n",
       "      <td>...</td>\n",
       "      <td>...</td>\n",
       "    </tr>\n",
       "    <tr>\n",
       "      <th>15958</th>\n",
       "      <td>6443</td>\n",
       "      <td>Финляндия, Германия</td>\n",
       "      <td>countries</td>\n",
       "    </tr>\n",
       "    <tr>\n",
       "      <th>15959</th>\n",
       "      <td>2367</td>\n",
       "      <td>Россия</td>\n",
       "      <td>countries</td>\n",
       "    </tr>\n",
       "    <tr>\n",
       "      <th>15960</th>\n",
       "      <td>10632</td>\n",
       "      <td>Россия</td>\n",
       "      <td>countries</td>\n",
       "    </tr>\n",
       "    <tr>\n",
       "      <th>15961</th>\n",
       "      <td>4538</td>\n",
       "      <td>Россия</td>\n",
       "      <td>countries</td>\n",
       "    </tr>\n",
       "    <tr>\n",
       "      <th>15962</th>\n",
       "      <td>3206</td>\n",
       "      <td>Россия</td>\n",
       "      <td>countries</td>\n",
       "    </tr>\n",
       "  </tbody>\n",
       "</table>\n",
       "<p>13963 rows × 3 columns</p>\n",
       "</div>"
      ],
      "text/plain": [
       "          id                value    feature\n",
       "0      10711              Испания  countries\n",
       "1       2508                  США  countries\n",
       "2      10716               Канада  countries\n",
       "3       7868       Великобритания  countries\n",
       "4      16268                 СССР  countries\n",
       "...      ...                  ...        ...\n",
       "15958   6443  Финляндия, Германия  countries\n",
       "15959   2367               Россия  countries\n",
       "15960  10632               Россия  countries\n",
       "15961   4538               Россия  countries\n",
       "15962   3206               Россия  countries\n",
       "\n",
       "[13963 rows x 3 columns]"
      ]
     },
     "execution_count": 43,
     "metadata": {},
     "output_type": "execute_result"
    }
   ],
   "source": [
    "country_feature = items.reindex(columns=[Columns.Item, \"countries\"])\n",
    "country_feature.columns = [\"id\", \"value\"]\n",
    "country_feature[\"feature\"] = \"countries\"\n",
    "country_feature"
   ]
  },
  {
   "cell_type": "markdown",
   "id": "5e477ee1",
   "metadata": {},
   "source": [
    "# Age Rating"
   ]
  },
  {
   "cell_type": "code",
   "execution_count": 44,
   "id": "0894154a",
   "metadata": {},
   "outputs": [
    {
     "data": {
      "text/html": [
       "<div>\n",
       "<style scoped>\n",
       "    .dataframe tbody tr th:only-of-type {\n",
       "        vertical-align: middle;\n",
       "    }\n",
       "\n",
       "    .dataframe tbody tr th {\n",
       "        vertical-align: top;\n",
       "    }\n",
       "\n",
       "    .dataframe thead th {\n",
       "        text-align: right;\n",
       "    }\n",
       "</style>\n",
       "<table border=\"1\" class=\"dataframe\">\n",
       "  <thead>\n",
       "    <tr style=\"text-align: right;\">\n",
       "      <th></th>\n",
       "      <th>id</th>\n",
       "      <th>value</th>\n",
       "      <th>feature</th>\n",
       "    </tr>\n",
       "  </thead>\n",
       "  <tbody>\n",
       "    <tr>\n",
       "      <th>0</th>\n",
       "      <td>10711</td>\n",
       "      <td>16.0</td>\n",
       "      <td>age_feature</td>\n",
       "    </tr>\n",
       "    <tr>\n",
       "      <th>1</th>\n",
       "      <td>2508</td>\n",
       "      <td>16.0</td>\n",
       "      <td>age_feature</td>\n",
       "    </tr>\n",
       "    <tr>\n",
       "      <th>2</th>\n",
       "      <td>10716</td>\n",
       "      <td>16.0</td>\n",
       "      <td>age_feature</td>\n",
       "    </tr>\n",
       "    <tr>\n",
       "      <th>3</th>\n",
       "      <td>7868</td>\n",
       "      <td>16.0</td>\n",
       "      <td>age_feature</td>\n",
       "    </tr>\n",
       "    <tr>\n",
       "      <th>4</th>\n",
       "      <td>16268</td>\n",
       "      <td>12.0</td>\n",
       "      <td>age_feature</td>\n",
       "    </tr>\n",
       "    <tr>\n",
       "      <th>...</th>\n",
       "      <td>...</td>\n",
       "      <td>...</td>\n",
       "      <td>...</td>\n",
       "    </tr>\n",
       "    <tr>\n",
       "      <th>15958</th>\n",
       "      <td>6443</td>\n",
       "      <td>16.0</td>\n",
       "      <td>age_feature</td>\n",
       "    </tr>\n",
       "    <tr>\n",
       "      <th>15959</th>\n",
       "      <td>2367</td>\n",
       "      <td>18.0</td>\n",
       "      <td>age_feature</td>\n",
       "    </tr>\n",
       "    <tr>\n",
       "      <th>15960</th>\n",
       "      <td>10632</td>\n",
       "      <td>18.0</td>\n",
       "      <td>age_feature</td>\n",
       "    </tr>\n",
       "    <tr>\n",
       "      <th>15961</th>\n",
       "      <td>4538</td>\n",
       "      <td>18.0</td>\n",
       "      <td>age_feature</td>\n",
       "    </tr>\n",
       "    <tr>\n",
       "      <th>15962</th>\n",
       "      <td>3206</td>\n",
       "      <td>16.0</td>\n",
       "      <td>age_feature</td>\n",
       "    </tr>\n",
       "  </tbody>\n",
       "</table>\n",
       "<p>13963 rows × 3 columns</p>\n",
       "</div>"
      ],
      "text/plain": [
       "          id  value      feature\n",
       "0      10711   16.0  age_feature\n",
       "1       2508   16.0  age_feature\n",
       "2      10716   16.0  age_feature\n",
       "3       7868   16.0  age_feature\n",
       "4      16268   12.0  age_feature\n",
       "...      ...    ...          ...\n",
       "15958   6443   16.0  age_feature\n",
       "15959   2367   18.0  age_feature\n",
       "15960  10632   18.0  age_feature\n",
       "15961   4538   18.0  age_feature\n",
       "15962   3206   16.0  age_feature\n",
       "\n",
       "[13963 rows x 3 columns]"
      ]
     },
     "execution_count": 44,
     "metadata": {},
     "output_type": "execute_result"
    }
   ],
   "source": [
    "age_feature = items.reindex(columns=[Columns.Item, \"age_rating\"])\n",
    "age_feature.columns = [\"id\", \"value\"]\n",
    "age_feature[\"feature\"] = \"age_feature\"\n",
    "age_feature"
   ]
  },
  {
   "cell_type": "markdown",
   "id": "c09df1ec",
   "metadata": {},
   "source": [
    "# Studios"
   ]
  },
  {
   "cell_type": "code",
   "execution_count": 45,
   "id": "ff937b4f",
   "metadata": {},
   "outputs": [],
   "source": [
    "items.fillna('Unknown', inplace=True)"
   ]
  },
  {
   "cell_type": "code",
   "execution_count": 46,
   "id": "cee42708",
   "metadata": {},
   "outputs": [
    {
     "data": {
      "text/html": [
       "<div>\n",
       "<style scoped>\n",
       "    .dataframe tbody tr th:only-of-type {\n",
       "        vertical-align: middle;\n",
       "    }\n",
       "\n",
       "    .dataframe tbody tr th {\n",
       "        vertical-align: top;\n",
       "    }\n",
       "\n",
       "    .dataframe thead th {\n",
       "        text-align: right;\n",
       "    }\n",
       "</style>\n",
       "<table border=\"1\" class=\"dataframe\">\n",
       "  <thead>\n",
       "    <tr style=\"text-align: right;\">\n",
       "      <th></th>\n",
       "      <th>id</th>\n",
       "      <th>value</th>\n",
       "      <th>feature</th>\n",
       "    </tr>\n",
       "  </thead>\n",
       "  <tbody>\n",
       "    <tr>\n",
       "      <th>0</th>\n",
       "      <td>10711</td>\n",
       "      <td>Unknown</td>\n",
       "      <td>studios</td>\n",
       "    </tr>\n",
       "    <tr>\n",
       "      <th>1</th>\n",
       "      <td>2508</td>\n",
       "      <td>Unknown</td>\n",
       "      <td>studios</td>\n",
       "    </tr>\n",
       "    <tr>\n",
       "      <th>2</th>\n",
       "      <td>10716</td>\n",
       "      <td>Unknown</td>\n",
       "      <td>studios</td>\n",
       "    </tr>\n",
       "    <tr>\n",
       "      <th>3</th>\n",
       "      <td>7868</td>\n",
       "      <td>Unknown</td>\n",
       "      <td>studios</td>\n",
       "    </tr>\n",
       "    <tr>\n",
       "      <th>4</th>\n",
       "      <td>16268</td>\n",
       "      <td>Ленфильм</td>\n",
       "      <td>studios</td>\n",
       "    </tr>\n",
       "    <tr>\n",
       "      <th>...</th>\n",
       "      <td>...</td>\n",
       "      <td>...</td>\n",
       "      <td>...</td>\n",
       "    </tr>\n",
       "    <tr>\n",
       "      <th>15958</th>\n",
       "      <td>6443</td>\n",
       "      <td>Unknown</td>\n",
       "      <td>studios</td>\n",
       "    </tr>\n",
       "    <tr>\n",
       "      <th>15959</th>\n",
       "      <td>2367</td>\n",
       "      <td>Unknown</td>\n",
       "      <td>studios</td>\n",
       "    </tr>\n",
       "    <tr>\n",
       "      <th>15960</th>\n",
       "      <td>10632</td>\n",
       "      <td>Unknown</td>\n",
       "      <td>studios</td>\n",
       "    </tr>\n",
       "    <tr>\n",
       "      <th>15961</th>\n",
       "      <td>4538</td>\n",
       "      <td>Unknown</td>\n",
       "      <td>studios</td>\n",
       "    </tr>\n",
       "    <tr>\n",
       "      <th>15962</th>\n",
       "      <td>3206</td>\n",
       "      <td>Unknown</td>\n",
       "      <td>studios</td>\n",
       "    </tr>\n",
       "  </tbody>\n",
       "</table>\n",
       "<p>13963 rows × 3 columns</p>\n",
       "</div>"
      ],
      "text/plain": [
       "          id     value  feature\n",
       "0      10711   Unknown  studios\n",
       "1       2508   Unknown  studios\n",
       "2      10716   Unknown  studios\n",
       "3       7868   Unknown  studios\n",
       "4      16268  Ленфильм  studios\n",
       "...      ...       ...      ...\n",
       "15958   6443   Unknown  studios\n",
       "15959   2367   Unknown  studios\n",
       "15960  10632   Unknown  studios\n",
       "15961   4538   Unknown  studios\n",
       "15962   3206   Unknown  studios\n",
       "\n",
       "[13963 rows x 3 columns]"
      ]
     },
     "execution_count": 46,
     "metadata": {},
     "output_type": "execute_result"
    }
   ],
   "source": [
    "studios_feature = items.reindex(columns=[Columns.Item, \"studios\"])\n",
    "studios_feature.columns = [\"id\", \"value\"]\n",
    "studios_feature[\"feature\"] = \"studios\"\n",
    "studios_feature"
   ]
  },
  {
   "cell_type": "code",
   "execution_count": 49,
   "id": "6158b0bd",
   "metadata": {},
   "outputs": [],
   "source": [
    "item_features = pd.concat((genre_feature, content_feature, studios_feature, age_feature, country_feature))"
   ]
  },
  {
   "cell_type": "code",
   "execution_count": 50,
   "id": "ea1feadd",
   "metadata": {},
   "outputs": [
    {
     "data": {
      "text/html": [
       "<div>\n",
       "<style scoped>\n",
       "    .dataframe tbody tr th:only-of-type {\n",
       "        vertical-align: middle;\n",
       "    }\n",
       "\n",
       "    .dataframe tbody tr th {\n",
       "        vertical-align: top;\n",
       "    }\n",
       "\n",
       "    .dataframe thead th {\n",
       "        text-align: right;\n",
       "    }\n",
       "</style>\n",
       "<table border=\"1\" class=\"dataframe\">\n",
       "  <thead>\n",
       "    <tr style=\"text-align: right;\">\n",
       "      <th></th>\n",
       "      <th>id</th>\n",
       "      <th>value</th>\n",
       "      <th>feature</th>\n",
       "    </tr>\n",
       "  </thead>\n",
       "  <tbody>\n",
       "    <tr>\n",
       "      <th>0</th>\n",
       "      <td>10711</td>\n",
       "      <td>драмы</td>\n",
       "      <td>genre</td>\n",
       "    </tr>\n",
       "    <tr>\n",
       "      <th>0</th>\n",
       "      <td>10711</td>\n",
       "      <td>зарубежные</td>\n",
       "      <td>genre</td>\n",
       "    </tr>\n",
       "    <tr>\n",
       "      <th>0</th>\n",
       "      <td>10711</td>\n",
       "      <td>детективы</td>\n",
       "      <td>genre</td>\n",
       "    </tr>\n",
       "    <tr>\n",
       "      <th>0</th>\n",
       "      <td>10711</td>\n",
       "      <td>мелодрамы</td>\n",
       "      <td>genre</td>\n",
       "    </tr>\n",
       "    <tr>\n",
       "      <th>1</th>\n",
       "      <td>2508</td>\n",
       "      <td>зарубежные</td>\n",
       "      <td>genre</td>\n",
       "    </tr>\n",
       "    <tr>\n",
       "      <th>...</th>\n",
       "      <td>...</td>\n",
       "      <td>...</td>\n",
       "      <td>...</td>\n",
       "    </tr>\n",
       "    <tr>\n",
       "      <th>15958</th>\n",
       "      <td>6443</td>\n",
       "      <td>Финляндия, Германия</td>\n",
       "      <td>countries</td>\n",
       "    </tr>\n",
       "    <tr>\n",
       "      <th>15959</th>\n",
       "      <td>2367</td>\n",
       "      <td>Россия</td>\n",
       "      <td>countries</td>\n",
       "    </tr>\n",
       "    <tr>\n",
       "      <th>15960</th>\n",
       "      <td>10632</td>\n",
       "      <td>Россия</td>\n",
       "      <td>countries</td>\n",
       "    </tr>\n",
       "    <tr>\n",
       "      <th>15961</th>\n",
       "      <td>4538</td>\n",
       "      <td>Россия</td>\n",
       "      <td>countries</td>\n",
       "    </tr>\n",
       "    <tr>\n",
       "      <th>15962</th>\n",
       "      <td>3206</td>\n",
       "      <td>Россия</td>\n",
       "      <td>countries</td>\n",
       "    </tr>\n",
       "  </tbody>\n",
       "</table>\n",
       "<p>91980 rows × 3 columns</p>\n",
       "</div>"
      ],
      "text/plain": [
       "          id                value    feature\n",
       "0      10711                драмы      genre\n",
       "0      10711           зарубежные      genre\n",
       "0      10711            детективы      genre\n",
       "0      10711            мелодрамы      genre\n",
       "1       2508           зарубежные      genre\n",
       "...      ...                  ...        ...\n",
       "15958   6443  Финляндия, Германия  countries\n",
       "15959   2367               Россия  countries\n",
       "15960  10632               Россия  countries\n",
       "15961   4538               Россия  countries\n",
       "15962   3206               Россия  countries\n",
       "\n",
       "[91980 rows x 3 columns]"
      ]
     },
     "execution_count": 50,
     "metadata": {},
     "output_type": "execute_result"
    }
   ],
   "source": [
    "item_features"
   ]
  },
  {
   "cell_type": "markdown",
   "id": "09b8d756",
   "metadata": {},
   "source": [
    "# Metrics"
   ]
  },
  {
   "cell_type": "code",
   "execution_count": 51,
   "id": "b082e667",
   "metadata": {},
   "outputs": [
    {
     "data": {
      "text/plain": [
       "{'Precision@1': Precision(k=1),\n",
       " 'Precision@2': Precision(k=2),\n",
       " 'Precision@3': Precision(k=3),\n",
       " 'Precision@4': Precision(k=4),\n",
       " 'Precision@5': Precision(k=5),\n",
       " 'Precision@6': Precision(k=6),\n",
       " 'Precision@7': Precision(k=7),\n",
       " 'Precision@8': Precision(k=8),\n",
       " 'Precision@9': Precision(k=9),\n",
       " 'Precision@10': Precision(k=10),\n",
       " 'Recall@1': Recall(k=1),\n",
       " 'Recall@2': Recall(k=2),\n",
       " 'Recall@3': Recall(k=3),\n",
       " 'Recall@4': Recall(k=4),\n",
       " 'Recall@5': Recall(k=5),\n",
       " 'Recall@6': Recall(k=6),\n",
       " 'Recall@7': Recall(k=7),\n",
       " 'Recall@8': Recall(k=8),\n",
       " 'Recall@9': Recall(k=9),\n",
       " 'Recall@10': Recall(k=10),\n",
       " 'MAP@1': MAP(k=1, divide_by_k=False),\n",
       " 'MAP@2': MAP(k=2, divide_by_k=False),\n",
       " 'MAP@3': MAP(k=3, divide_by_k=False),\n",
       " 'MAP@4': MAP(k=4, divide_by_k=False),\n",
       " 'MAP@5': MAP(k=5, divide_by_k=False),\n",
       " 'MAP@6': MAP(k=6, divide_by_k=False),\n",
       " 'MAP@7': MAP(k=7, divide_by_k=False),\n",
       " 'MAP@8': MAP(k=8, divide_by_k=False),\n",
       " 'MAP@9': MAP(k=9, divide_by_k=False),\n",
       " 'MAP@10': MAP(k=10, divide_by_k=False)}"
      ]
     },
     "execution_count": 51,
     "metadata": {},
     "output_type": "execute_result"
    }
   ],
   "source": [
    "metrics_name = {\n",
    "    'Precision': Precision,\n",
    "    'Recall': Recall,\n",
    "    'MAP': MAP,\n",
    "}\n",
    "\n",
    "metrics = {}\n",
    "for metric_name, metric in metrics_name.items():\n",
    "    for k in range(1, 11):\n",
    "        metrics[f'{metric_name}@{k}'] = metric(k=k)\n",
    "metrics"
   ]
  },
  {
   "cell_type": "code",
   "execution_count": 52,
   "id": "864a7990",
   "metadata": {},
   "outputs": [],
   "source": [
    "K_RECOS = 10\n",
    "RANDOM_STATE = 42\n",
    "NUM_THREADS = 8\n",
    "N_FACTORS = (32,)\n",
    "N_EPOCHS = 1 # Lightfm\n",
    "USER_ALPHA = 0 # Lightfm\n",
    "ITEM_ALPHA = 0 # Lightfm\n",
    "LEARNING_RATE = 0.05 # Lightfm"
   ]
  },
  {
   "cell_type": "code",
   "execution_count": 53,
   "id": "12662152",
   "metadata": {},
   "outputs": [],
   "source": [
    "models = {}\n",
    "implicit_models = {\n",
    "    'ALS': AlternatingLeastSquares,\n",
    "}\n",
    "for implicit_name, implicit_model in implicit_models.items():\n",
    "    for is_fitting_features in (True, False):\n",
    "        for n_factors in N_FACTORS:\n",
    "            models[f\"{implicit_name}_{n_factors}_{is_fitting_features}\"] = (\n",
    "                ImplicitALSWrapperModel(\n",
    "                    model=implicit_model(\n",
    "                        factors=n_factors, \n",
    "                        random_state=RANDOM_STATE, \n",
    "                        num_threads=NUM_THREADS,\n",
    "                    ),\n",
    "                    fit_features_together=is_fitting_features,\n",
    "                )\n",
    "            )"
   ]
  },
  {
   "cell_type": "code",
   "execution_count": 51,
   "id": "6f9ef4f0",
   "metadata": {},
   "outputs": [],
   "source": [
    "lightfm_losses = ('logistic', 'bpr', 'warp')\n",
    "\n",
    "for loss in lightfm_losses:\n",
    "    for n_factors in N_FACTORS:\n",
    "        models[f\"LightFM_{loss}_{n_factors}\"] = LightFMWrapperModel(\n",
    "            LightFM(\n",
    "                no_components=n_factors, \n",
    "                loss=loss, \n",
    "                random_state=RANDOM_STATE,\n",
    "                learning_rate=LEARNING_RATE,\n",
    "                user_alpha=USER_ALPHA,\n",
    "                item_alpha=ITEM_ALPHA,\n",
    "            ),\n",
    "            epochs=N_EPOCHS,\n",
    "            num_threads=NUM_THREADS,\n",
    "        )"
   ]
  },
  {
   "cell_type": "code",
   "execution_count": 52,
   "id": "21773201",
   "metadata": {},
   "outputs": [
    {
     "data": {
      "text/plain": [
       "{'ALS_32_True': <rectools.models.implicit_als.ImplicitALSWrapperModel at 0x7fdedfb1bb20>,\n",
       " 'ALS_32_False': <rectools.models.implicit_als.ImplicitALSWrapperModel at 0x7fdedfb1bb80>,\n",
       " 'LightFM_logistic_32': <rectools.models.lightfm.LightFMWrapperModel at 0x7fdedfb1b8e0>,\n",
       " 'LightFM_bpr_32': <rectools.models.lightfm.LightFMWrapperModel at 0x7fdedfb1ba90>,\n",
       " 'LightFM_warp_32': <rectools.models.lightfm.LightFMWrapperModel at 0x7fdedfb1bd60>}"
      ]
     },
     "execution_count": 52,
     "metadata": {},
     "output_type": "execute_result"
    }
   ],
   "source": [
    "models"
   ]
  },
  {
   "cell_type": "code",
   "execution_count": 53,
   "id": "125de2fc",
   "metadata": {},
   "outputs": [
    {
     "data": {
      "text/plain": [
       "{'content_type', 'genre'}"
      ]
     },
     "execution_count": 53,
     "metadata": {},
     "output_type": "execute_result"
    }
   ],
   "source": [
    "set(item_features.feature)"
   ]
  },
  {
   "cell_type": "code",
   "execution_count": 54,
   "id": "6288eea7",
   "metadata": {},
   "outputs": [
    {
     "name": "stdout",
     "output_type": "stream",
     "text": [
      "CPU times: user 1.35 s, sys: 79.5 ms, total: 1.43 s\n",
      "Wall time: 1.43 s\n"
     ]
    }
   ],
   "source": [
    "%%time\n",
    "dataset = Dataset.construct(\n",
    "    interactions_df=train,\n",
    "    user_features_df=user_features,\n",
    "    cat_user_features=[\"sex\", \"age\", \"income\"],\n",
    "    item_features_df=item_features,\n",
    "    cat_item_features=['content_type', 'genre'])"
   ]
  },
  {
   "cell_type": "code",
   "execution_count": 55,
   "id": "d027f149",
   "metadata": {},
   "outputs": [],
   "source": [
    "TEST_USERS = test[Columns.User].unique()"
   ]
  },
  {
   "cell_type": "code",
   "execution_count": null,
   "id": "70bc6f59",
   "metadata": {},
   "outputs": [],
   "source": [
    " model = LightFMWrapperModel(LightFM(k=5,\n",
    "                        learning_rate=learning_rate,\n",
    "                        loss=loss), \n",
    "                        epochs=N_EPOCHS,\n",
    "                        num_threads=NUM_THREADS)"
   ]
  },
  {
   "cell_type": "code",
   "execution_count": 58,
   "id": "c99924ca",
   "metadata": {},
   "outputs": [],
   "source": [
    "model = LightFMWrapperModel(\n",
    "    LightFM(\n",
    "        k=5,\n",
    "        no_components=32, \n",
    "        loss='warp', \n",
    "        random_state=RANDOM_STATE,\n",
    "        learning_rate=0.08165160206425184,\n",
    "        user_alpha=USER_ALPHA,\n",
    "        item_alpha=ITEM_ALPHA),\n",
    "    epochs=N_EPOCHS,\n",
    "    num_threads=NUM_THREADS) "
   ]
  },
  {
   "cell_type": "code",
   "execution_count": 59,
   "id": "d3907c1d",
   "metadata": {},
   "outputs": [
    {
     "data": {
      "text/plain": [
       "<rectools.models.lightfm.LightFMWrapperModel at 0x7fc1506d5d00>"
      ]
     },
     "execution_count": 59,
     "metadata": {},
     "output_type": "execute_result"
    }
   ],
   "source": [
    "model.fit(dataset)"
   ]
  },
  {
   "cell_type": "code",
   "execution_count": 77,
   "id": "b2050a6e",
   "metadata": {},
   "outputs": [],
   "source": [
    "recos = model.recommend(\n",
    "        users=TEST_USERS,\n",
    "        dataset=dataset,\n",
    "        k=K_RECOS,\n",
    "        filter_viewed=True,\n",
    "    )"
   ]
  },
  {
   "cell_type": "code",
   "execution_count": 78,
   "id": "8c7da423",
   "metadata": {},
   "outputs": [
    {
     "data": {
      "text/html": [
       "<div>\n",
       "<style scoped>\n",
       "    .dataframe tbody tr th:only-of-type {\n",
       "        vertical-align: middle;\n",
       "    }\n",
       "\n",
       "    .dataframe tbody tr th {\n",
       "        vertical-align: top;\n",
       "    }\n",
       "\n",
       "    .dataframe thead th {\n",
       "        text-align: right;\n",
       "    }\n",
       "</style>\n",
       "<table border=\"1\" class=\"dataframe\">\n",
       "  <thead>\n",
       "    <tr style=\"text-align: right;\">\n",
       "      <th></th>\n",
       "      <th>user_id</th>\n",
       "      <th>item_id</th>\n",
       "      <th>score</th>\n",
       "      <th>rank</th>\n",
       "    </tr>\n",
       "  </thead>\n",
       "  <tbody>\n",
       "    <tr>\n",
       "      <th>0</th>\n",
       "      <td>203219</td>\n",
       "      <td>10440</td>\n",
       "      <td>4.980549</td>\n",
       "      <td>1</td>\n",
       "    </tr>\n",
       "    <tr>\n",
       "      <th>1</th>\n",
       "      <td>203219</td>\n",
       "      <td>15297</td>\n",
       "      <td>4.967870</td>\n",
       "      <td>2</td>\n",
       "    </tr>\n",
       "    <tr>\n",
       "      <th>2</th>\n",
       "      <td>203219</td>\n",
       "      <td>4151</td>\n",
       "      <td>4.477647</td>\n",
       "      <td>3</td>\n",
       "    </tr>\n",
       "    <tr>\n",
       "      <th>3</th>\n",
       "      <td>203219</td>\n",
       "      <td>13865</td>\n",
       "      <td>4.430725</td>\n",
       "      <td>4</td>\n",
       "    </tr>\n",
       "    <tr>\n",
       "      <th>4</th>\n",
       "      <td>203219</td>\n",
       "      <td>9728</td>\n",
       "      <td>4.354463</td>\n",
       "      <td>5</td>\n",
       "    </tr>\n",
       "    <tr>\n",
       "      <th>...</th>\n",
       "      <td>...</td>\n",
       "      <td>...</td>\n",
       "      <td>...</td>\n",
       "      <td>...</td>\n",
       "    </tr>\n",
       "    <tr>\n",
       "      <th>1129735</th>\n",
       "      <td>857162</td>\n",
       "      <td>3734</td>\n",
       "      <td>14.436745</td>\n",
       "      <td>6</td>\n",
       "    </tr>\n",
       "    <tr>\n",
       "      <th>1129736</th>\n",
       "      <td>857162</td>\n",
       "      <td>142</td>\n",
       "      <td>14.134408</td>\n",
       "      <td>7</td>\n",
       "    </tr>\n",
       "    <tr>\n",
       "      <th>1129737</th>\n",
       "      <td>857162</td>\n",
       "      <td>4880</td>\n",
       "      <td>14.081835</td>\n",
       "      <td>8</td>\n",
       "    </tr>\n",
       "    <tr>\n",
       "      <th>1129738</th>\n",
       "      <td>857162</td>\n",
       "      <td>2657</td>\n",
       "      <td>14.024325</td>\n",
       "      <td>9</td>\n",
       "    </tr>\n",
       "    <tr>\n",
       "      <th>1129739</th>\n",
       "      <td>857162</td>\n",
       "      <td>6809</td>\n",
       "      <td>13.957677</td>\n",
       "      <td>10</td>\n",
       "    </tr>\n",
       "  </tbody>\n",
       "</table>\n",
       "<p>1129740 rows × 4 columns</p>\n",
       "</div>"
      ],
      "text/plain": [
       "         user_id  item_id      score  rank\n",
       "0         203219    10440   4.980549     1\n",
       "1         203219    15297   4.967870     2\n",
       "2         203219     4151   4.477647     3\n",
       "3         203219    13865   4.430725     4\n",
       "4         203219     9728   4.354463     5\n",
       "...          ...      ...        ...   ...\n",
       "1129735   857162     3734  14.436745     6\n",
       "1129736   857162      142  14.134408     7\n",
       "1129737   857162     4880  14.081835     8\n",
       "1129738   857162     2657  14.024325     9\n",
       "1129739   857162     6809  13.957677    10\n",
       "\n",
       "[1129740 rows x 4 columns]"
      ]
     },
     "execution_count": 78,
     "metadata": {},
     "output_type": "execute_result"
    }
   ],
   "source": [
    "recos"
   ]
  },
  {
   "cell_type": "code",
   "execution_count": 79,
   "id": "6bbe3ff3",
   "metadata": {},
   "outputs": [
    {
     "data": {
      "text/plain": [
       "0.07682068366774675"
      ]
     },
     "execution_count": 79,
     "metadata": {},
     "output_type": "execute_result"
    }
   ],
   "source": [
    "calc_metrics(metrics, recos, test, train)['MAP@10']"
   ]
  },
  {
   "cell_type": "code",
   "execution_count": 80,
   "id": "51b77a4b",
   "metadata": {},
   "outputs": [
    {
     "ename": "NameError",
     "evalue": "name 'model_quality' is not defined",
     "output_type": "error",
     "traceback": [
      "\u001b[0;31m---------------------------------------------------------------------------\u001b[0m",
      "\u001b[0;31mNameError\u001b[0m                                 Traceback (most recent call last)",
      "\u001b[0;32m/tmp/ipykernel_23602/1194377468.py\u001b[0m in \u001b[0;36m<module>\u001b[0;34m\u001b[0m\n\u001b[1;32m      1\u001b[0m \u001b[0mmetric_values\u001b[0m \u001b[0;34m=\u001b[0m \u001b[0mcalc_metrics\u001b[0m\u001b[0;34m(\u001b[0m\u001b[0mmetrics\u001b[0m\u001b[0;34m,\u001b[0m \u001b[0mrecos\u001b[0m\u001b[0;34m,\u001b[0m \u001b[0mtest\u001b[0m\u001b[0;34m,\u001b[0m \u001b[0mtrain\u001b[0m\u001b[0;34m)\u001b[0m\u001b[0;34m\u001b[0m\u001b[0;34m\u001b[0m\u001b[0m\n\u001b[0;32m----> 2\u001b[0;31m \u001b[0mmodel_quality\u001b[0m\u001b[0;34m.\u001b[0m\u001b[0mupdate\u001b[0m\u001b[0;34m(\u001b[0m\u001b[0mmetric_values\u001b[0m\u001b[0;34m)\u001b[0m\u001b[0;34m\u001b[0m\u001b[0;34m\u001b[0m\u001b[0m\n\u001b[0m",
      "\u001b[0;31mNameError\u001b[0m: name 'model_quality' is not defined"
     ]
    }
   ],
   "source": [
    "metric_values = calc_metrics(metrics, recos, test, train)\n",
    "model_quality.update(metric_values)"
   ]
  },
  {
   "cell_type": "code",
   "execution_count": null,
   "id": "2b6345c1",
   "metadata": {},
   "outputs": [],
   "source": [
    "recos"
   ]
  },
  {
   "cell_type": "code",
   "execution_count": 81,
   "id": "2d847fd3",
   "metadata": {},
   "outputs": [],
   "source": [
    "recos['rank'] = recos.groupby('user_id')['user_id'].rank(method='first')"
   ]
  },
  {
   "cell_type": "code",
   "execution_count": 82,
   "id": "9d12a9b6",
   "metadata": {},
   "outputs": [
    {
     "data": {
      "text/html": [
       "<div>\n",
       "<style scoped>\n",
       "    .dataframe tbody tr th:only-of-type {\n",
       "        vertical-align: middle;\n",
       "    }\n",
       "\n",
       "    .dataframe tbody tr th {\n",
       "        vertical-align: top;\n",
       "    }\n",
       "\n",
       "    .dataframe thead th {\n",
       "        text-align: right;\n",
       "    }\n",
       "</style>\n",
       "<table border=\"1\" class=\"dataframe\">\n",
       "  <thead>\n",
       "    <tr style=\"text-align: right;\">\n",
       "      <th></th>\n",
       "      <th>user_id</th>\n",
       "      <th>item_id</th>\n",
       "      <th>score</th>\n",
       "      <th>rank</th>\n",
       "    </tr>\n",
       "  </thead>\n",
       "  <tbody>\n",
       "    <tr>\n",
       "      <th>0</th>\n",
       "      <td>203219</td>\n",
       "      <td>10440</td>\n",
       "      <td>4.980549</td>\n",
       "      <td>1.0</td>\n",
       "    </tr>\n",
       "    <tr>\n",
       "      <th>1</th>\n",
       "      <td>203219</td>\n",
       "      <td>15297</td>\n",
       "      <td>4.967870</td>\n",
       "      <td>2.0</td>\n",
       "    </tr>\n",
       "    <tr>\n",
       "      <th>2</th>\n",
       "      <td>203219</td>\n",
       "      <td>4151</td>\n",
       "      <td>4.477647</td>\n",
       "      <td>3.0</td>\n",
       "    </tr>\n",
       "    <tr>\n",
       "      <th>3</th>\n",
       "      <td>203219</td>\n",
       "      <td>13865</td>\n",
       "      <td>4.430725</td>\n",
       "      <td>4.0</td>\n",
       "    </tr>\n",
       "    <tr>\n",
       "      <th>4</th>\n",
       "      <td>203219</td>\n",
       "      <td>9728</td>\n",
       "      <td>4.354463</td>\n",
       "      <td>5.0</td>\n",
       "    </tr>\n",
       "    <tr>\n",
       "      <th>...</th>\n",
       "      <td>...</td>\n",
       "      <td>...</td>\n",
       "      <td>...</td>\n",
       "      <td>...</td>\n",
       "    </tr>\n",
       "    <tr>\n",
       "      <th>1129735</th>\n",
       "      <td>857162</td>\n",
       "      <td>3734</td>\n",
       "      <td>14.436745</td>\n",
       "      <td>6.0</td>\n",
       "    </tr>\n",
       "    <tr>\n",
       "      <th>1129736</th>\n",
       "      <td>857162</td>\n",
       "      <td>142</td>\n",
       "      <td>14.134408</td>\n",
       "      <td>7.0</td>\n",
       "    </tr>\n",
       "    <tr>\n",
       "      <th>1129737</th>\n",
       "      <td>857162</td>\n",
       "      <td>4880</td>\n",
       "      <td>14.081835</td>\n",
       "      <td>8.0</td>\n",
       "    </tr>\n",
       "    <tr>\n",
       "      <th>1129738</th>\n",
       "      <td>857162</td>\n",
       "      <td>2657</td>\n",
       "      <td>14.024325</td>\n",
       "      <td>9.0</td>\n",
       "    </tr>\n",
       "    <tr>\n",
       "      <th>1129739</th>\n",
       "      <td>857162</td>\n",
       "      <td>6809</td>\n",
       "      <td>13.957677</td>\n",
       "      <td>10.0</td>\n",
       "    </tr>\n",
       "  </tbody>\n",
       "</table>\n",
       "<p>1129740 rows × 4 columns</p>\n",
       "</div>"
      ],
      "text/plain": [
       "         user_id  item_id      score  rank\n",
       "0         203219    10440   4.980549   1.0\n",
       "1         203219    15297   4.967870   2.0\n",
       "2         203219     4151   4.477647   3.0\n",
       "3         203219    13865   4.430725   4.0\n",
       "4         203219     9728   4.354463   5.0\n",
       "...          ...      ...        ...   ...\n",
       "1129735   857162     3734  14.436745   6.0\n",
       "1129736   857162      142  14.134408   7.0\n",
       "1129737   857162     4880  14.081835   8.0\n",
       "1129738   857162     2657  14.024325   9.0\n",
       "1129739   857162     6809  13.957677  10.0\n",
       "\n",
       "[1129740 rows x 4 columns]"
      ]
     },
     "execution_count": 82,
     "metadata": {},
     "output_type": "execute_result"
    }
   ],
   "source": [
    "recos"
   ]
  },
  {
   "cell_type": "code",
   "execution_count": 83,
   "id": "d3eead34",
   "metadata": {},
   "outputs": [],
   "source": [
    "recos = recos[['user_id', 'item_id']]\n",
    "recos.to_csv('LightFM_after_optuna.csv.gz', index=False, compression='gzip')"
   ]
  },
  {
   "cell_type": "code",
   "execution_count": 84,
   "id": "ab782bd2",
   "metadata": {
    "scrolled": true
   },
   "outputs": [
    {
     "data": {
      "text/plain": [
       "{'Precision@1': 0.07723901074583532,\n",
       " 'Recall@1': 0.039945025203155064,\n",
       " 'Precision@2': 0.06777223077876325,\n",
       " 'Recall@2': 0.06826845228559537,\n",
       " 'Precision@3': 0.060972731188874404,\n",
       " 'Recall@3': 0.09049343777050076,\n",
       " 'Precision@4': 0.05550613415476127,\n",
       " 'Recall@4': 0.10871933417276143,\n",
       " 'Precision@5': 0.050597482606595634,\n",
       " 'Recall@5': 0.12251909647186383,\n",
       " 'Precision@6': 0.0459235458306068,\n",
       " 'Recall@6': 0.1321820062289563,\n",
       " 'Precision@7': 0.041941382214374844,\n",
       " 'Recall@7': 0.1398538669008927,\n",
       " 'Precision@8': 0.038631676314904315,\n",
       " 'Recall@8': 0.14618067736019413,\n",
       " 'Precision@9': 0.03598468084103889,\n",
       " 'Recall@9': 0.15248904141482145,\n",
       " 'Precision@10': 0.03387593605606706,\n",
       " 'Recall@10': 0.1588631307179617,\n",
       " 'MAP@1': 0.039945025203155064,\n",
       " 'MAP@2': 0.05480355385012115,\n",
       " 'MAP@3': 0.06281691802625049,\n",
       " 'MAP@4': 0.0678842944950224,\n",
       " 'MAP@5': 0.07103949043829605,\n",
       " 'MAP@6': 0.07292909703284091,\n",
       " 'MAP@7': 0.07424621516323489,\n",
       " 'MAP@8': 0.0752068879380646,\n",
       " 'MAP@9': 0.076042345201511,\n",
       " 'MAP@10': 0.07682068366774675}"
      ]
     },
     "execution_count": 84,
     "metadata": {},
     "output_type": "execute_result"
    }
   ],
   "source": [
    "metric_values"
   ]
  },
  {
   "cell_type": "code",
   "execution_count": 168,
   "id": "b44853f7",
   "metadata": {},
   "outputs": [
    {
     "data": {
      "text/plain": [
       "{'Precision@1': 0.08459468550285906,\n",
       " 'Recall@1': 0.043103367696718034,\n",
       " 'Precision@2': 0.07092782410112061,\n",
       " 'Recall@2': 0.07046014541694683,\n",
       " 'Precision@3': 0.06248635379230436,\n",
       " 'Recall@3': 0.0921280723507131,\n",
       " 'Precision@4': 0.05624966806521855,\n",
       " 'Recall@4': 0.10932894551338254,\n",
       " 'Precision@5': 0.05087719298243397,\n",
       " 'Recall@5': 0.12237920952417945,\n",
       " 'Precision@6': 0.04632924389682875,\n",
       " 'Recall@6': 0.1323848629683412,\n",
       " 'Precision@7': 0.04247753591851333,\n",
       " 'Recall@7': 0.1404981921258083,\n",
       " 'Precision@8': 0.03938074247171915,\n",
       " 'Recall@8': 0.14793166723537798,\n",
       " 'Precision@9': 0.036883609404740884,\n",
       " 'Recall@9': 0.15500874146216406,\n",
       " 'Precision@10': 0.03488855842935579,\n",
       " 'Recall@10': 0.16230490106911452,\n",
       " 'MAP@1': 0.043103367696718034,\n",
       " 'MAP@2': 0.05749557914551633,\n",
       " 'MAP@3': 0.0653294074408595,\n",
       " 'MAP@4': 0.07012030221603167,\n",
       " 'MAP@5': 0.07311471593152033,\n",
       " 'MAP@6': 0.07509192714707785,\n",
       " 'MAP@7': 0.07646356744900325,\n",
       " 'MAP@8': 0.07757984846454224,\n",
       " 'MAP@9': 0.07852432437618763,\n",
       " 'MAP@10': 0.07940775755218821}"
      ]
     },
     "execution_count": 168,
     "metadata": {},
     "output_type": "execute_result"
    }
   ],
   "source": [
    "metric_values"
   ]
  },
  {
   "cell_type": "code",
   "execution_count": 161,
   "id": "0d5edb2b",
   "metadata": {
    "collapsed": true
   },
   "outputs": [
    {
     "name": "stdout",
     "output_type": "stream",
     "text": [
      "Fitting model ALS_32_True...\n"
     ]
    },
    {
     "ename": "KeyboardInterrupt",
     "evalue": "",
     "output_type": "error",
     "traceback": [
      "\u001b[0;31m---------------------------------------------------------------------------\u001b[0m",
      "\u001b[0;31mKeyboardInterrupt\u001b[0m                         Traceback (most recent call last)",
      "\u001b[0;32m<timed exec>\u001b[0m in \u001b[0;36m<module>\u001b[0;34m\u001b[0m\n",
      "\u001b[0;32m~/anaconda3/lib/python3.8/site-packages/rectools/models/base.py\u001b[0m in \u001b[0;36mfit\u001b[0;34m(self, dataset, *args, **kwargs)\u001b[0m\n\u001b[1;32m     53\u001b[0m         \u001b[0mself\u001b[0m\u001b[0;34m\u001b[0m\u001b[0;34m\u001b[0m\u001b[0m\n\u001b[1;32m     54\u001b[0m         \"\"\"\n\u001b[0;32m---> 55\u001b[0;31m         \u001b[0mself\u001b[0m\u001b[0;34m.\u001b[0m\u001b[0m_fit\u001b[0m\u001b[0;34m(\u001b[0m\u001b[0mdataset\u001b[0m\u001b[0;34m,\u001b[0m \u001b[0;34m*\u001b[0m\u001b[0margs\u001b[0m\u001b[0;34m,\u001b[0m \u001b[0;34m**\u001b[0m\u001b[0mkwargs\u001b[0m\u001b[0;34m)\u001b[0m\u001b[0;34m\u001b[0m\u001b[0;34m\u001b[0m\u001b[0m\n\u001b[0m\u001b[1;32m     56\u001b[0m         \u001b[0mself\u001b[0m\u001b[0;34m.\u001b[0m\u001b[0mis_fitted\u001b[0m \u001b[0;34m=\u001b[0m \u001b[0;32mTrue\u001b[0m\u001b[0;34m\u001b[0m\u001b[0;34m\u001b[0m\u001b[0m\n\u001b[1;32m     57\u001b[0m         \u001b[0;32mreturn\u001b[0m \u001b[0mself\u001b[0m\u001b[0;34m\u001b[0m\u001b[0;34m\u001b[0m\u001b[0m\n",
      "\u001b[0;32m~/anaconda3/lib/python3.8/site-packages/rectools/models/implicit_als.py\u001b[0m in \u001b[0;36m_fit\u001b[0;34m(self, dataset)\u001b[0m\n\u001b[1;32m     69\u001b[0m \u001b[0;34m\u001b[0m\u001b[0m\n\u001b[1;32m     70\u001b[0m         \u001b[0;32mif\u001b[0m \u001b[0mself\u001b[0m\u001b[0;34m.\u001b[0m\u001b[0mfit_features_together\u001b[0m\u001b[0;34m:\u001b[0m\u001b[0;34m\u001b[0m\u001b[0;34m\u001b[0m\u001b[0m\n\u001b[0;32m---> 71\u001b[0;31m             user_factors, item_factors = fit_als_with_features_together(\n\u001b[0m\u001b[1;32m     72\u001b[0m                 \u001b[0mself\u001b[0m\u001b[0;34m.\u001b[0m\u001b[0mmodel\u001b[0m\u001b[0;34m,\u001b[0m\u001b[0;34m\u001b[0m\u001b[0;34m\u001b[0m\u001b[0m\n\u001b[1;32m     73\u001b[0m                 \u001b[0mui_csr\u001b[0m\u001b[0;34m,\u001b[0m\u001b[0;34m\u001b[0m\u001b[0;34m\u001b[0m\u001b[0m\n",
      "\u001b[0;32m~/anaconda3/lib/python3.8/site-packages/rectools/models/implicit_als.py\u001b[0m in \u001b[0;36mfit_als_with_features_together\u001b[0;34m(model, ui_csr, user_features, item_features, verbose)\u001b[0m\n\u001b[1;32m    315\u001b[0m         )\n\u001b[1;32m    316\u001b[0m     \u001b[0;32melse\u001b[0m\u001b[0;34m:\u001b[0m\u001b[0;34m\u001b[0m\u001b[0;34m\u001b[0m\u001b[0m\n\u001b[0;32m--> 317\u001b[0;31m         _fit_combined_factors_on_cpu_inplace(\n\u001b[0m\u001b[1;32m    318\u001b[0m             \u001b[0mmodel\u001b[0m\u001b[0;34m,\u001b[0m\u001b[0;34m\u001b[0m\u001b[0;34m\u001b[0m\u001b[0m\n\u001b[1;32m    319\u001b[0m             \u001b[0mui_csr\u001b[0m\u001b[0;34m,\u001b[0m\u001b[0;34m\u001b[0m\u001b[0;34m\u001b[0m\u001b[0m\n",
      "\u001b[0;32m~/anaconda3/lib/python3.8/site-packages/rectools/models/implicit_als.py\u001b[0m in \u001b[0;36m_fit_combined_factors_on_cpu_inplace\u001b[0;34m(model, ui_csr, user_factors, item_factors, n_user_explicit_factors, n_item_explicit_factors, verbose)\u001b[0m\n\u001b[1;32m    343\u001b[0m \u001b[0;34m\u001b[0m\u001b[0m\n\u001b[1;32m    344\u001b[0m     \u001b[0;32mfor\u001b[0m \u001b[0m_\u001b[0m \u001b[0;32min\u001b[0m \u001b[0mtqdm\u001b[0m\u001b[0;34m(\u001b[0m\u001b[0mrange\u001b[0m\u001b[0;34m(\u001b[0m\u001b[0mmodel\u001b[0m\u001b[0;34m.\u001b[0m\u001b[0miterations\u001b[0m\u001b[0;34m)\u001b[0m\u001b[0;34m,\u001b[0m \u001b[0mdisable\u001b[0m\u001b[0;34m=\u001b[0m\u001b[0mverbose\u001b[0m \u001b[0;34m==\u001b[0m \u001b[0;36m0\u001b[0m\u001b[0;34m)\u001b[0m\u001b[0;34m:\u001b[0m\u001b[0;34m\u001b[0m\u001b[0;34m\u001b[0m\u001b[0m\n\u001b[0;32m--> 345\u001b[0;31m         model.solver(\n\u001b[0m\u001b[1;32m    346\u001b[0m             \u001b[0mui_csr\u001b[0m\u001b[0;34m,\u001b[0m\u001b[0;34m\u001b[0m\u001b[0;34m\u001b[0m\u001b[0m\n\u001b[1;32m    347\u001b[0m             \u001b[0muser_factors\u001b[0m\u001b[0;34m,\u001b[0m\u001b[0;34m\u001b[0m\u001b[0;34m\u001b[0m\u001b[0m\n",
      "\u001b[0;31mKeyboardInterrupt\u001b[0m: "
     ]
    }
   ],
   "source": [
    "%%time\n",
    "results = []\n",
    "for model_name, model in models.items():\n",
    "    print(f\"Fitting model {model_name}...\")\n",
    "    model_quality = {'model': model_name}\n",
    "\n",
    "    model.fit(dataset)\n",
    "    recos = model.recommend(\n",
    "        users=TEST_USERS,\n",
    "        dataset=dataset,\n",
    "        k=K_RECOS,\n",
    "        filter_viewed=True,\n",
    "    )\n",
    "    metric_values = calc_metrics(metrics, recos, test, train)\n",
    "    model_quality.update(metric_values)\n",
    "    results.append(model_quality)"
   ]
  },
  {
   "cell_type": "markdown",
   "id": "2c603783",
   "metadata": {},
   "source": [
    "# Optuna"
   ]
  },
  {
   "cell_type": "code",
   "execution_count": 57,
   "id": "a17b8b66",
   "metadata": {},
   "outputs": [
    {
     "name": "stderr",
     "output_type": "stream",
     "text": [
      "\u001b[32m[I 2022-12-09 17:13:21,142]\u001b[0m A new study created in memory with name: no-name-44cee810-24ee-4f4d-af33-ba725d146103\u001b[0m\n",
      "\u001b[32m[I 2022-12-09 17:15:14,403]\u001b[0m Trial 0 finished with value: 0.025636581479650006 and parameters: {'recomender': 'LightFM', 'learning_rate': 0.023009046673404, 'k': 7, 'loss': 'bpr', 'no_components': 57}. Best is trial 0 with value: 0.025636581479650006.\u001b[0m\n"
     ]
    },
    {
     "name": "stdout",
     "output_type": "stream",
     "text": [
      "MAP@10 0.025636581479650006\n"
     ]
    },
    {
     "name": "stderr",
     "output_type": "stream",
     "text": [
      "\u001b[32m[I 2022-12-09 17:17:17,369]\u001b[0m Trial 1 finished with value: 1.7682698542896463e-06 and parameters: {'recomender': 'LightFM', 'learning_rate': 0.9292650108371142, 'k': 5, 'loss': 'bpr', 'no_components': 54}. Best is trial 0 with value: 0.025636581479650006.\u001b[0m\n"
     ]
    },
    {
     "name": "stdout",
     "output_type": "stream",
     "text": [
      "MAP@10 1.7682698542896463e-06\n"
     ]
    },
    {
     "name": "stderr",
     "output_type": "stream",
     "text": [
      "\u001b[32m[I 2022-12-09 17:19:24,650]\u001b[0m Trial 2 finished with value: 5.655503042200033e-07 and parameters: {'recomender': 'LightFM', 'learning_rate': 0.8504703081672879, 'k': 9, 'loss': 'bpr', 'no_components': 48}. Best is trial 0 with value: 0.025636581479650006.\u001b[0m\n"
     ]
    },
    {
     "name": "stdout",
     "output_type": "stream",
     "text": [
      "MAP@10 5.655503042200033e-07\n"
     ]
    },
    {
     "name": "stderr",
     "output_type": "stream",
     "text": [
      "\u001b[33m[W 2022-12-09 17:21:00,280]\u001b[0m Trial 3 failed because of the following error: KeyboardInterrupt()\u001b[0m\n",
      "Traceback (most recent call last):\n",
      "  File \"/home/rezarayev/anaconda3/lib/python3.8/site-packages/optuna/study/_optimize.py\", line 196, in _run_trial\n",
      "    value_or_values = func(trial)\n",
      "  File \"/tmp/ipykernel_24970/801119696.py\", line 34, in objective\n",
      "    model.fit(dataset)\n",
      "  File \"/home/rezarayev/anaconda3/lib/python3.8/site-packages/rectools/models/base.py\", line 55, in fit\n",
      "    self._fit(dataset, *args, **kwargs)\n",
      "  File \"/home/rezarayev/anaconda3/lib/python3.8/site-packages/rectools/models/implicit_als.py\", line 71, in _fit\n",
      "    user_factors, item_factors = fit_als_with_features_together(\n",
      "  File \"/home/rezarayev/anaconda3/lib/python3.8/site-packages/rectools/models/implicit_als.py\", line 317, in fit_als_with_features_together\n",
      "    _fit_combined_factors_on_cpu_inplace(\n",
      "  File \"/home/rezarayev/anaconda3/lib/python3.8/site-packages/rectools/models/implicit_als.py\", line 345, in _fit_combined_factors_on_cpu_inplace\n",
      "    model.solver(\n",
      "KeyboardInterrupt\n"
     ]
    },
    {
     "ename": "KeyboardInterrupt",
     "evalue": "",
     "output_type": "error",
     "traceback": [
      "\u001b[0;31m---------------------------------------------------------------------------\u001b[0m",
      "\u001b[0;31mKeyboardInterrupt\u001b[0m                         Traceback (most recent call last)",
      "\u001b[0;32m/tmp/ipykernel_24970/801119696.py\u001b[0m in \u001b[0;36m<module>\u001b[0;34m\u001b[0m\n\u001b[1;32m     43\u001b[0m \u001b[0;34m\u001b[0m\u001b[0m\n\u001b[1;32m     44\u001b[0m \u001b[0mstudy\u001b[0m \u001b[0;34m=\u001b[0m \u001b[0moptuna\u001b[0m\u001b[0;34m.\u001b[0m\u001b[0mcreate_study\u001b[0m\u001b[0;34m(\u001b[0m\u001b[0mdirection\u001b[0m \u001b[0;34m=\u001b[0m \u001b[0;34m'maximize'\u001b[0m\u001b[0;34m)\u001b[0m\u001b[0;34m\u001b[0m\u001b[0;34m\u001b[0m\u001b[0m\n\u001b[0;32m---> 45\u001b[0;31m \u001b[0mstudy\u001b[0m\u001b[0;34m.\u001b[0m\u001b[0moptimize\u001b[0m\u001b[0;34m(\u001b[0m\u001b[0mobjective\u001b[0m\u001b[0;34m,\u001b[0m \u001b[0mn_trials\u001b[0m \u001b[0;34m=\u001b[0m \u001b[0;36m10\u001b[0m\u001b[0;34m)\u001b[0m\u001b[0;34m\u001b[0m\u001b[0;34m\u001b[0m\u001b[0m\n\u001b[0m",
      "\u001b[0;32m~/anaconda3/lib/python3.8/site-packages/optuna/study/study.py\u001b[0m in \u001b[0;36moptimize\u001b[0;34m(self, func, n_trials, timeout, n_jobs, catch, callbacks, gc_after_trial, show_progress_bar)\u001b[0m\n\u001b[1;32m    417\u001b[0m         \"\"\"\n\u001b[1;32m    418\u001b[0m \u001b[0;34m\u001b[0m\u001b[0m\n\u001b[0;32m--> 419\u001b[0;31m         _optimize(\n\u001b[0m\u001b[1;32m    420\u001b[0m             \u001b[0mstudy\u001b[0m\u001b[0;34m=\u001b[0m\u001b[0mself\u001b[0m\u001b[0;34m,\u001b[0m\u001b[0;34m\u001b[0m\u001b[0;34m\u001b[0m\u001b[0m\n\u001b[1;32m    421\u001b[0m             \u001b[0mfunc\u001b[0m\u001b[0;34m=\u001b[0m\u001b[0mfunc\u001b[0m\u001b[0;34m,\u001b[0m\u001b[0;34m\u001b[0m\u001b[0;34m\u001b[0m\u001b[0m\n",
      "\u001b[0;32m~/anaconda3/lib/python3.8/site-packages/optuna/study/_optimize.py\u001b[0m in \u001b[0;36m_optimize\u001b[0;34m(study, func, n_trials, timeout, n_jobs, catch, callbacks, gc_after_trial, show_progress_bar)\u001b[0m\n\u001b[1;32m     64\u001b[0m     \u001b[0;32mtry\u001b[0m\u001b[0;34m:\u001b[0m\u001b[0;34m\u001b[0m\u001b[0;34m\u001b[0m\u001b[0m\n\u001b[1;32m     65\u001b[0m         \u001b[0;32mif\u001b[0m \u001b[0mn_jobs\u001b[0m \u001b[0;34m==\u001b[0m \u001b[0;36m1\u001b[0m\u001b[0;34m:\u001b[0m\u001b[0;34m\u001b[0m\u001b[0;34m\u001b[0m\u001b[0m\n\u001b[0;32m---> 66\u001b[0;31m             _optimize_sequential(\n\u001b[0m\u001b[1;32m     67\u001b[0m                 \u001b[0mstudy\u001b[0m\u001b[0;34m,\u001b[0m\u001b[0;34m\u001b[0m\u001b[0;34m\u001b[0m\u001b[0m\n\u001b[1;32m     68\u001b[0m                 \u001b[0mfunc\u001b[0m\u001b[0;34m,\u001b[0m\u001b[0;34m\u001b[0m\u001b[0;34m\u001b[0m\u001b[0m\n",
      "\u001b[0;32m~/anaconda3/lib/python3.8/site-packages/optuna/study/_optimize.py\u001b[0m in \u001b[0;36m_optimize_sequential\u001b[0;34m(study, func, n_trials, timeout, catch, callbacks, gc_after_trial, reseed_sampler_rng, time_start, progress_bar)\u001b[0m\n\u001b[1;32m    158\u001b[0m \u001b[0;34m\u001b[0m\u001b[0m\n\u001b[1;32m    159\u001b[0m         \u001b[0;32mtry\u001b[0m\u001b[0;34m:\u001b[0m\u001b[0;34m\u001b[0m\u001b[0;34m\u001b[0m\u001b[0m\n\u001b[0;32m--> 160\u001b[0;31m             \u001b[0mfrozen_trial\u001b[0m \u001b[0;34m=\u001b[0m \u001b[0m_run_trial\u001b[0m\u001b[0;34m(\u001b[0m\u001b[0mstudy\u001b[0m\u001b[0;34m,\u001b[0m \u001b[0mfunc\u001b[0m\u001b[0;34m,\u001b[0m \u001b[0mcatch\u001b[0m\u001b[0;34m)\u001b[0m\u001b[0;34m\u001b[0m\u001b[0;34m\u001b[0m\u001b[0m\n\u001b[0m\u001b[1;32m    161\u001b[0m         \u001b[0;32mfinally\u001b[0m\u001b[0;34m:\u001b[0m\u001b[0;34m\u001b[0m\u001b[0;34m\u001b[0m\u001b[0m\n\u001b[1;32m    162\u001b[0m             \u001b[0;31m# The following line mitigates memory problems that can be occurred in some\u001b[0m\u001b[0;34m\u001b[0m\u001b[0;34m\u001b[0m\u001b[0;34m\u001b[0m\u001b[0m\n",
      "\u001b[0;32m~/anaconda3/lib/python3.8/site-packages/optuna/study/_optimize.py\u001b[0m in \u001b[0;36m_run_trial\u001b[0;34m(study, func, catch)\u001b[0m\n\u001b[1;32m    232\u001b[0m         \u001b[0;32mand\u001b[0m \u001b[0;32mnot\u001b[0m \u001b[0misinstance\u001b[0m\u001b[0;34m(\u001b[0m\u001b[0mfunc_err\u001b[0m\u001b[0;34m,\u001b[0m \u001b[0mcatch\u001b[0m\u001b[0;34m)\u001b[0m\u001b[0;34m\u001b[0m\u001b[0;34m\u001b[0m\u001b[0m\n\u001b[1;32m    233\u001b[0m     ):\n\u001b[0;32m--> 234\u001b[0;31m         \u001b[0;32mraise\u001b[0m \u001b[0mfunc_err\u001b[0m\u001b[0;34m\u001b[0m\u001b[0;34m\u001b[0m\u001b[0m\n\u001b[0m\u001b[1;32m    235\u001b[0m     \u001b[0;32mreturn\u001b[0m \u001b[0mfrozen_trial\u001b[0m\u001b[0;34m\u001b[0m\u001b[0;34m\u001b[0m\u001b[0m\n\u001b[1;32m    236\u001b[0m \u001b[0;34m\u001b[0m\u001b[0m\n",
      "\u001b[0;32m~/anaconda3/lib/python3.8/site-packages/optuna/study/_optimize.py\u001b[0m in \u001b[0;36m_run_trial\u001b[0;34m(study, func, catch)\u001b[0m\n\u001b[1;32m    194\u001b[0m     \u001b[0;32mwith\u001b[0m \u001b[0mget_heartbeat_thread\u001b[0m\u001b[0;34m(\u001b[0m\u001b[0mtrial\u001b[0m\u001b[0;34m.\u001b[0m\u001b[0m_trial_id\u001b[0m\u001b[0;34m,\u001b[0m \u001b[0mstudy\u001b[0m\u001b[0;34m.\u001b[0m\u001b[0m_storage\u001b[0m\u001b[0;34m)\u001b[0m\u001b[0;34m:\u001b[0m\u001b[0;34m\u001b[0m\u001b[0;34m\u001b[0m\u001b[0m\n\u001b[1;32m    195\u001b[0m         \u001b[0;32mtry\u001b[0m\u001b[0;34m:\u001b[0m\u001b[0;34m\u001b[0m\u001b[0;34m\u001b[0m\u001b[0m\n\u001b[0;32m--> 196\u001b[0;31m             \u001b[0mvalue_or_values\u001b[0m \u001b[0;34m=\u001b[0m \u001b[0mfunc\u001b[0m\u001b[0;34m(\u001b[0m\u001b[0mtrial\u001b[0m\u001b[0;34m)\u001b[0m\u001b[0;34m\u001b[0m\u001b[0;34m\u001b[0m\u001b[0m\n\u001b[0m\u001b[1;32m    197\u001b[0m         \u001b[0;32mexcept\u001b[0m \u001b[0mexceptions\u001b[0m\u001b[0;34m.\u001b[0m\u001b[0mTrialPruned\u001b[0m \u001b[0;32mas\u001b[0m \u001b[0me\u001b[0m\u001b[0;34m:\u001b[0m\u001b[0;34m\u001b[0m\u001b[0;34m\u001b[0m\u001b[0m\n\u001b[1;32m    198\u001b[0m             \u001b[0;31m# TODO(mamu): Handle multi-objective cases.\u001b[0m\u001b[0;34m\u001b[0m\u001b[0;34m\u001b[0m\u001b[0;34m\u001b[0m\u001b[0m\n",
      "\u001b[0;32m/tmp/ipykernel_24970/801119696.py\u001b[0m in \u001b[0;36mobjective\u001b[0;34m(trial)\u001b[0m\n\u001b[1;32m     32\u001b[0m                     ),\n\u001b[1;32m     33\u001b[0m                     fit_features_together=True)\n\u001b[0;32m---> 34\u001b[0;31m     \u001b[0mmodel\u001b[0m\u001b[0;34m.\u001b[0m\u001b[0mfit\u001b[0m\u001b[0;34m(\u001b[0m\u001b[0mdataset\u001b[0m\u001b[0;34m)\u001b[0m\u001b[0;34m\u001b[0m\u001b[0;34m\u001b[0m\u001b[0m\n\u001b[0m\u001b[1;32m     35\u001b[0m     recos = model.recommend(\n\u001b[1;32m     36\u001b[0m     \u001b[0musers\u001b[0m\u001b[0;34m=\u001b[0m\u001b[0mTEST_USERS\u001b[0m\u001b[0;34m,\u001b[0m\u001b[0;34m\u001b[0m\u001b[0;34m\u001b[0m\u001b[0m\n",
      "\u001b[0;32m~/anaconda3/lib/python3.8/site-packages/rectools/models/base.py\u001b[0m in \u001b[0;36mfit\u001b[0;34m(self, dataset, *args, **kwargs)\u001b[0m\n\u001b[1;32m     53\u001b[0m         \u001b[0mself\u001b[0m\u001b[0;34m\u001b[0m\u001b[0;34m\u001b[0m\u001b[0m\n\u001b[1;32m     54\u001b[0m         \"\"\"\n\u001b[0;32m---> 55\u001b[0;31m         \u001b[0mself\u001b[0m\u001b[0;34m.\u001b[0m\u001b[0m_fit\u001b[0m\u001b[0;34m(\u001b[0m\u001b[0mdataset\u001b[0m\u001b[0;34m,\u001b[0m \u001b[0;34m*\u001b[0m\u001b[0margs\u001b[0m\u001b[0;34m,\u001b[0m \u001b[0;34m**\u001b[0m\u001b[0mkwargs\u001b[0m\u001b[0;34m)\u001b[0m\u001b[0;34m\u001b[0m\u001b[0;34m\u001b[0m\u001b[0m\n\u001b[0m\u001b[1;32m     56\u001b[0m         \u001b[0mself\u001b[0m\u001b[0;34m.\u001b[0m\u001b[0mis_fitted\u001b[0m \u001b[0;34m=\u001b[0m \u001b[0;32mTrue\u001b[0m\u001b[0;34m\u001b[0m\u001b[0;34m\u001b[0m\u001b[0m\n\u001b[1;32m     57\u001b[0m         \u001b[0;32mreturn\u001b[0m \u001b[0mself\u001b[0m\u001b[0;34m\u001b[0m\u001b[0;34m\u001b[0m\u001b[0m\n",
      "\u001b[0;32m~/anaconda3/lib/python3.8/site-packages/rectools/models/implicit_als.py\u001b[0m in \u001b[0;36m_fit\u001b[0;34m(self, dataset)\u001b[0m\n\u001b[1;32m     69\u001b[0m \u001b[0;34m\u001b[0m\u001b[0m\n\u001b[1;32m     70\u001b[0m         \u001b[0;32mif\u001b[0m \u001b[0mself\u001b[0m\u001b[0;34m.\u001b[0m\u001b[0mfit_features_together\u001b[0m\u001b[0;34m:\u001b[0m\u001b[0;34m\u001b[0m\u001b[0;34m\u001b[0m\u001b[0m\n\u001b[0;32m---> 71\u001b[0;31m             user_factors, item_factors = fit_als_with_features_together(\n\u001b[0m\u001b[1;32m     72\u001b[0m                 \u001b[0mself\u001b[0m\u001b[0;34m.\u001b[0m\u001b[0mmodel\u001b[0m\u001b[0;34m,\u001b[0m\u001b[0;34m\u001b[0m\u001b[0;34m\u001b[0m\u001b[0m\n\u001b[1;32m     73\u001b[0m                 \u001b[0mui_csr\u001b[0m\u001b[0;34m,\u001b[0m\u001b[0;34m\u001b[0m\u001b[0;34m\u001b[0m\u001b[0m\n",
      "\u001b[0;32m~/anaconda3/lib/python3.8/site-packages/rectools/models/implicit_als.py\u001b[0m in \u001b[0;36mfit_als_with_features_together\u001b[0;34m(model, ui_csr, user_features, item_features, verbose)\u001b[0m\n\u001b[1;32m    315\u001b[0m         )\n\u001b[1;32m    316\u001b[0m     \u001b[0;32melse\u001b[0m\u001b[0;34m:\u001b[0m\u001b[0;34m\u001b[0m\u001b[0;34m\u001b[0m\u001b[0m\n\u001b[0;32m--> 317\u001b[0;31m         _fit_combined_factors_on_cpu_inplace(\n\u001b[0m\u001b[1;32m    318\u001b[0m             \u001b[0mmodel\u001b[0m\u001b[0;34m,\u001b[0m\u001b[0;34m\u001b[0m\u001b[0;34m\u001b[0m\u001b[0m\n\u001b[1;32m    319\u001b[0m             \u001b[0mui_csr\u001b[0m\u001b[0;34m,\u001b[0m\u001b[0;34m\u001b[0m\u001b[0;34m\u001b[0m\u001b[0m\n",
      "\u001b[0;32m~/anaconda3/lib/python3.8/site-packages/rectools/models/implicit_als.py\u001b[0m in \u001b[0;36m_fit_combined_factors_on_cpu_inplace\u001b[0;34m(model, ui_csr, user_factors, item_factors, n_user_explicit_factors, n_item_explicit_factors, verbose)\u001b[0m\n\u001b[1;32m    343\u001b[0m \u001b[0;34m\u001b[0m\u001b[0m\n\u001b[1;32m    344\u001b[0m     \u001b[0;32mfor\u001b[0m \u001b[0m_\u001b[0m \u001b[0;32min\u001b[0m \u001b[0mtqdm\u001b[0m\u001b[0;34m(\u001b[0m\u001b[0mrange\u001b[0m\u001b[0;34m(\u001b[0m\u001b[0mmodel\u001b[0m\u001b[0;34m.\u001b[0m\u001b[0miterations\u001b[0m\u001b[0;34m)\u001b[0m\u001b[0;34m,\u001b[0m \u001b[0mdisable\u001b[0m\u001b[0;34m=\u001b[0m\u001b[0mverbose\u001b[0m \u001b[0;34m==\u001b[0m \u001b[0;36m0\u001b[0m\u001b[0;34m)\u001b[0m\u001b[0;34m:\u001b[0m\u001b[0;34m\u001b[0m\u001b[0;34m\u001b[0m\u001b[0m\n\u001b[0;32m--> 345\u001b[0;31m         model.solver(\n\u001b[0m\u001b[1;32m    346\u001b[0m             \u001b[0mui_csr\u001b[0m\u001b[0;34m,\u001b[0m\u001b[0;34m\u001b[0m\u001b[0;34m\u001b[0m\u001b[0m\n\u001b[1;32m    347\u001b[0m             \u001b[0muser_factors\u001b[0m\u001b[0;34m,\u001b[0m\u001b[0;34m\u001b[0m\u001b[0;34m\u001b[0m\u001b[0m\n",
      "\u001b[0;31mKeyboardInterrupt\u001b[0m: "
     ]
    }
   ],
   "source": [
    "dataset = Dataset.construct(\n",
    "    interactions_df=train,\n",
    "    user_features_df=user_features,\n",
    "    cat_user_features=[\"sex\", \"age\", \"income\"],\n",
    "    item_features_df=item_features,\n",
    "    cat_item_features=[ 'content_type','genre','studios', 'age_feature', 'countries'])\n",
    "TEST_USERS = test[Columns.User].unique()\n",
    "\n",
    "def objective(trial):\n",
    "\n",
    "    model_name = trial.suggest_categorical('recomender', ['LightFM', 'ALS'])\n",
    "    if model_name == 'LightFM':\n",
    "        learning_rate = trial.suggest_float('learning_rate', 1e-10, 1)\n",
    "        k = trial.suggest_int('k', 2, 10)\n",
    "        loss = trial.suggest_categorical('loss',['logistic', 'bpr', 'warp'])\n",
    "        no_components = trial.suggest_int('no_components', 32, 64)\n",
    "        model = LightFMWrapperModel(LightFM(k=k,\n",
    "                        learning_rate=learning_rate,\n",
    "                        loss=loss,\n",
    "                        no_components = no_components), \n",
    "                        epochs=N_EPOCHS,\n",
    "                        num_threads=NUM_THREADS)\n",
    "    else:\n",
    "        factors = trial.suggest_int('factors',32, 64)\n",
    "        regularization = trial.suggest_float('regularization', 1e-4, 1e-2)\n",
    "        model =  ImplicitALSWrapperModel(\n",
    "                    model=AlternatingLeastSquares(\n",
    "                        factors=factors, \n",
    "                        random_state=RANDOM_STATE, \n",
    "                        num_threads=NUM_THREADS,\n",
    "                        regularization=regularization\n",
    "                    ),\n",
    "                    fit_features_together=True)\n",
    "    model.fit(dataset)\n",
    "    recos = model.recommend(\n",
    "    users=TEST_USERS,\n",
    "    dataset=dataset,\n",
    "    k=K_RECOS,\n",
    "    filter_viewed=True)\n",
    "    metric = calc_metrics(metrics, recos, test, train)['MAP@10']\n",
    "    print(\"MAP@10\", metric)\n",
    "    return metric\n",
    "\n",
    "study = optuna.create_study(direction = 'maximize')\n",
    "study.optimize(objective, n_trials = 10)"
   ]
  },
  {
   "cell_type": "code",
   "execution_count": 73,
   "id": "99aae61e",
   "metadata": {},
   "outputs": [
    {
     "data": {
      "text/plain": [
       "{'recomender': 'LightFM',\n",
       " 'learning_rate': 0.08165160206425184,\n",
       " 'k': 5,\n",
       " 'loss': 'warp'}"
      ]
     },
     "execution_count": 73,
     "metadata": {},
     "output_type": "execute_result"
    }
   ],
   "source": [
    "study.best_params"
   ]
  },
  {
   "cell_type": "code",
   "execution_count": 59,
   "id": "1d149ce9",
   "metadata": {},
   "outputs": [
    {
     "data": {
      "text/plain": [
       "array([203219, 505244, 200197, ..., 226430, 857162, 697262])"
      ]
     },
     "execution_count": 59,
     "metadata": {},
     "output_type": "execute_result"
    }
   ],
   "source": [
    "TEST_USERS"
   ]
  },
  {
   "cell_type": "code",
   "execution_count": 60,
   "id": "0c778c15",
   "metadata": {},
   "outputs": [
    {
     "data": {
      "text/plain": [
       "Dataset(user_id_map=IdMap(external_ids=array([176549, 699317, 656683, ..., 882138, 805174, 648596])), item_id_map=IdMap(external_ids=array([ 9506,  1659,  7107, ..., 13516, 13019, 10542])), interactions=Interactions(df=         user_id  item_id  weight last_watch_dt\n",
       "0              0        0     4.0    2021-05-11\n",
       "1              1        1     5.0    2021-05-29\n",
       "2              2        2     1.0    2021-05-09\n",
       "3              3        3     5.0    2021-07-05\n",
       "4              4        0     5.0    2021-04-30\n",
       "...          ...      ...     ...           ...\n",
       "5476244    69618      219     5.0    2021-08-02\n",
       "5476245    40050      132     1.0    2021-05-12\n",
       "5476246   896762      318     1.0    2021-08-13\n",
       "5476247   206582     2546     3.0    2021-04-13\n",
       "5476249     7236     1609     5.0    2021-04-19\n",
       "\n",
       "[4984443 rows x 4 columns]), user_features=SparseFeatures(values=<896763x17 sparse matrix of type '<class 'numpy.float32'>'\n",
       "\twith 2091336 stored elements in Compressed Sparse Row format>, names=(('sex', 'М'), ('sex', 'Ж'), ('sex', 'Unknown'), ('age', 'age_25_34'), ('age', 'age_18_24'), ('age', 'age_45_54'), ('age', 'age_35_44'), ('age', 'age_55_64'), ('age', 'age_65_inf'), ('age', 'Unknown'), ('income', 'income_60_90'), ('income', 'income_20_40'), ('income', 'income_40_60'), ('income', 'income_90_150'), ('income', 'income_0_20'), ('income', 'Unknown'), ('income', 'income_150_inf'))), item_features=SparseFeatures(values=<15464x96 sparse matrix of type '<class 'numpy.float32'>'\n",
       "\twith 54961 stored elements in Compressed Sparse Row format>, names=(('content_type', 'film'), ('content_type', 'series'), ('genre', 'драмы'), ('genre', 'зарубежные'), ('genre', 'детективы'), ('genre', 'мелодрамы'), ('genre', 'приключения'), ('genre', 'комедии'), ('genre', 'криминал'), ('genre', 'триллеры'), ('genre', 'боевики'), ('genre', 'спорт'), ('genre', 'советские'), ('genre', 'фильмы'), ('genre', 'сказки'), ('genre', 'семейное'), ('genre', 'фэнтези'), ('genre', 'для детей'), ('genre', 'полнометражные'), ('genre', 'западные мультфильмы'), ('genre', 'русские'), ('genre', 'биография'), ('genre', 'экранизации'), ('genre', 'исторические'), ('genre', 'военные'), ('genre', 'ужасы'), ('genre', 'мистика'), ('genre', 'фильмы-спектакли'), ('genre', 'мюзиклы'), ('genre', 'короткометражные'), ('genre', 'детские'), ('genre', 'вестерн'), ('genre', 'мультфильмы'), ('genre', 'для взрослых'), ('genre', 'мультфильм'), ('genre', 'фантастика'), ('genre', 'документальное'), ('genre', 'историческое'), ('genre', 'концерт'), ('genre', 'познавательные'), ('genre', 'сериалы'), ('genre', 'про животных'), ('genre', 'музыка'), ('genre', 'реалити-шоу'), ('genre', 'фитнес'), ('genre', 'телешоу'), ('genre', 'научно-популярные'), ('genre', 'ток-шоу'), ('genre', 'молодежные'), ('genre', 'стендап'), ('genre', 'хочу всё знать'), ('genre', 'русские мультфильмы'), ('genre', 'развитие'), ('genre', 'детские песни'), ('genre', 'аниме'), ('genre', 'музыкальные'), ('genre', 'мультсериалы'), ('genre', 'для самых маленьких'), ('genre', 'no_genre'), ('genre', 'развлекательные'), ('genre', 'караоке'), ('genre', 'фильмы hbo'), ('genre', 'катастрофы'), ('genre', 'медицинские'), ('genre', 'передачи'), ('genre', 'мировая классика'), ('genre', 'артхаус'), ('genre', 'дорамы'), ('genre', 'воспитание детей'), ('genre', 'короткий метр'), ('genre', 'интервью'), ('genre', 'по комиксам'), ('genre', 'увлечения'), ('genre', 'охота и рыбалка'), ('genre', 'популярное'), ('genre', 'реалити'), ('genre', 'футбол'), ('genre', 'романтика'), ('genre', 'фильм-нуар'), ('genre', 'тележурналы'), ('genre', 'живая природа'), ('genre', 'немое кино'), ('genre', 'единоборства'), ('genre', 'шоу'), ('genre', 'юмор'), ('genre', 'вокруг света'), ('genre', 'анимация'), ('genre', 'кулинария'), ('genre', 'индийское кино'), ('genre', 'о знаменитостях'), ('genre', '18+'), ('genre', 'токшоу'), ('genre', 'комиксы'), ('genre', 'красота и здоровье'), ('genre', 'образование'), ('genre', 'рекомендуем'))))"
      ]
     },
     "execution_count": 60,
     "metadata": {},
     "output_type": "execute_result"
    }
   ],
   "source": [
    "dataset"
   ]
  },
  {
   "cell_type": "code",
   "execution_count": 64,
   "id": "cc9c030d",
   "metadata": {},
   "outputs": [
    {
     "data": {
      "text/html": [
       "<div>\n",
       "<style scoped>\n",
       "    .dataframe tbody tr th:only-of-type {\n",
       "        vertical-align: middle;\n",
       "    }\n",
       "\n",
       "    .dataframe tbody tr th {\n",
       "        vertical-align: top;\n",
       "    }\n",
       "\n",
       "    .dataframe thead th {\n",
       "        text-align: right;\n",
       "    }\n",
       "</style>\n",
       "<table border=\"1\" class=\"dataframe\">\n",
       "  <thead>\n",
       "    <tr style=\"text-align: right;\">\n",
       "      <th></th>\n",
       "      <th>user_id</th>\n",
       "      <th>item_id</th>\n",
       "      <th>last_watch_dt</th>\n",
       "      <th>total_dur</th>\n",
       "      <th>watched_pct</th>\n",
       "      <th>weight</th>\n",
       "    </tr>\n",
       "  </thead>\n",
       "  <tbody>\n",
       "    <tr>\n",
       "      <th>0</th>\n",
       "      <td>176549</td>\n",
       "      <td>9506</td>\n",
       "      <td>2021-05-11</td>\n",
       "      <td>4250</td>\n",
       "      <td>72.0</td>\n",
       "      <td>4</td>\n",
       "    </tr>\n",
       "    <tr>\n",
       "      <th>1</th>\n",
       "      <td>699317</td>\n",
       "      <td>1659</td>\n",
       "      <td>2021-05-29</td>\n",
       "      <td>8317</td>\n",
       "      <td>100.0</td>\n",
       "      <td>5</td>\n",
       "    </tr>\n",
       "    <tr>\n",
       "      <th>2</th>\n",
       "      <td>656683</td>\n",
       "      <td>7107</td>\n",
       "      <td>2021-05-09</td>\n",
       "      <td>10</td>\n",
       "      <td>0.0</td>\n",
       "      <td>1</td>\n",
       "    </tr>\n",
       "    <tr>\n",
       "      <th>3</th>\n",
       "      <td>864613</td>\n",
       "      <td>7638</td>\n",
       "      <td>2021-07-05</td>\n",
       "      <td>14483</td>\n",
       "      <td>100.0</td>\n",
       "      <td>5</td>\n",
       "    </tr>\n",
       "    <tr>\n",
       "      <th>4</th>\n",
       "      <td>964868</td>\n",
       "      <td>9506</td>\n",
       "      <td>2021-04-30</td>\n",
       "      <td>6725</td>\n",
       "      <td>100.0</td>\n",
       "      <td>5</td>\n",
       "    </tr>\n",
       "    <tr>\n",
       "      <th>...</th>\n",
       "      <td>...</td>\n",
       "      <td>...</td>\n",
       "      <td>...</td>\n",
       "      <td>...</td>\n",
       "      <td>...</td>\n",
       "      <td>...</td>\n",
       "    </tr>\n",
       "    <tr>\n",
       "      <th>5476244</th>\n",
       "      <td>438585</td>\n",
       "      <td>7829</td>\n",
       "      <td>2021-08-02</td>\n",
       "      <td>6804</td>\n",
       "      <td>100.0</td>\n",
       "      <td>5</td>\n",
       "    </tr>\n",
       "    <tr>\n",
       "      <th>5476245</th>\n",
       "      <td>786732</td>\n",
       "      <td>4880</td>\n",
       "      <td>2021-05-12</td>\n",
       "      <td>753</td>\n",
       "      <td>0.0</td>\n",
       "      <td>1</td>\n",
       "    </tr>\n",
       "    <tr>\n",
       "      <th>5476246</th>\n",
       "      <td>648596</td>\n",
       "      <td>12225</td>\n",
       "      <td>2021-08-13</td>\n",
       "      <td>76</td>\n",
       "      <td>0.0</td>\n",
       "      <td>1</td>\n",
       "    </tr>\n",
       "    <tr>\n",
       "      <th>5476247</th>\n",
       "      <td>546862</td>\n",
       "      <td>9673</td>\n",
       "      <td>2021-04-13</td>\n",
       "      <td>2308</td>\n",
       "      <td>49.0</td>\n",
       "      <td>3</td>\n",
       "    </tr>\n",
       "    <tr>\n",
       "      <th>5476249</th>\n",
       "      <td>384202</td>\n",
       "      <td>16197</td>\n",
       "      <td>2021-04-19</td>\n",
       "      <td>6203</td>\n",
       "      <td>100.0</td>\n",
       "      <td>5</td>\n",
       "    </tr>\n",
       "  </tbody>\n",
       "</table>\n",
       "<p>4984443 rows × 6 columns</p>\n",
       "</div>"
      ],
      "text/plain": [
       "         user_id  item_id last_watch_dt  total_dur  watched_pct  weight\n",
       "0         176549     9506    2021-05-11       4250         72.0       4\n",
       "1         699317     1659    2021-05-29       8317        100.0       5\n",
       "2         656683     7107    2021-05-09         10          0.0       1\n",
       "3         864613     7638    2021-07-05      14483        100.0       5\n",
       "4         964868     9506    2021-04-30       6725        100.0       5\n",
       "...          ...      ...           ...        ...          ...     ...\n",
       "5476244   438585     7829    2021-08-02       6804        100.0       5\n",
       "5476245   786732     4880    2021-05-12        753          0.0       1\n",
       "5476246   648596    12225    2021-08-13         76          0.0       1\n",
       "5476247   546862     9673    2021-04-13       2308         49.0       3\n",
       "5476249   384202    16197    2021-04-19       6203        100.0       5\n",
       "\n",
       "[4984443 rows x 6 columns]"
      ]
     },
     "execution_count": 64,
     "metadata": {},
     "output_type": "execute_result"
    }
   ],
   "source": [
    "train"
   ]
  },
  {
   "cell_type": "code",
   "execution_count": 120,
   "id": "5e5009e5",
   "metadata": {},
   "outputs": [
    {
     "data": {
      "text/html": [
       "<div>\n",
       "<style scoped>\n",
       "    .dataframe tbody tr th:only-of-type {\n",
       "        vertical-align: middle;\n",
       "    }\n",
       "\n",
       "    .dataframe tbody tr th {\n",
       "        vertical-align: top;\n",
       "    }\n",
       "\n",
       "    .dataframe thead th {\n",
       "        text-align: right;\n",
       "    }\n",
       "</style>\n",
       "<table border=\"1\" class=\"dataframe\">\n",
       "  <thead>\n",
       "    <tr style=\"text-align: right;\">\n",
       "      <th></th>\n",
       "      <th>item_id</th>\n",
       "      <th>content_type</th>\n",
       "      <th>title</th>\n",
       "      <th>title_orig</th>\n",
       "      <th>release_year</th>\n",
       "      <th>genres</th>\n",
       "      <th>countries</th>\n",
       "      <th>for_kids</th>\n",
       "      <th>age_rating</th>\n",
       "      <th>studios</th>\n",
       "      <th>directors</th>\n",
       "      <th>actors</th>\n",
       "      <th>description</th>\n",
       "      <th>keywords</th>\n",
       "      <th>genre</th>\n",
       "    </tr>\n",
       "  </thead>\n",
       "  <tbody>\n",
       "    <tr>\n",
       "      <th>4164</th>\n",
       "      <td>4</td>\n",
       "      <td>film</td>\n",
       "      <td>Очень женские истории</td>\n",
       "      <td>Unknown</td>\n",
       "      <td>2020.0</td>\n",
       "      <td>мелодрамы, русские, комедии</td>\n",
       "      <td>Россия</td>\n",
       "      <td>Unknown</td>\n",
       "      <td>18.0</td>\n",
       "      <td>Unknown</td>\n",
       "      <td>Анна Саруханова, Антон Бильжо, Лика Ятковская,...</td>\n",
       "      <td>[анастасия пронина, анна михалкова, анна слю, ...</td>\n",
       "      <td>Киноальманах из пяти короткометражных фильмов,...</td>\n",
       "      <td>[очень, женские, истории, 2020, россия, друзья...</td>\n",
       "      <td>[мелодрамы, русские, комедии]</td>\n",
       "    </tr>\n",
       "  </tbody>\n",
       "</table>\n",
       "</div>"
      ],
      "text/plain": [
       "      item_id content_type                  title title_orig release_year  \\\n",
       "4164        4         film  Очень женские истории    Unknown       2020.0   \n",
       "\n",
       "                           genres countries for_kids age_rating  studios  \\\n",
       "4164  мелодрамы, русские, комедии    Россия  Unknown       18.0  Unknown   \n",
       "\n",
       "                                              directors  \\\n",
       "4164  Анна Саруханова, Антон Бильжо, Лика Ятковская,...   \n",
       "\n",
       "                                                 actors  \\\n",
       "4164  [анастасия пронина, анна михалкова, анна слю, ...   \n",
       "\n",
       "                                            description  \\\n",
       "4164  Киноальманах из пяти короткометражных фильмов,...   \n",
       "\n",
       "                                               keywords  \\\n",
       "4164  [очень, женские, истории, 2020, россия, друзья...   \n",
       "\n",
       "                              genre  \n",
       "4164  [мелодрамы, русские, комедии]  "
      ]
     },
     "execution_count": 120,
     "metadata": {},
     "output_type": "execute_result"
    }
   ],
   "source": [
    "items[items['item_id'] == 4]"
   ]
  },
  {
   "cell_type": "code",
   "execution_count": 125,
   "id": "a30929c1",
   "metadata": {},
   "outputs": [
    {
     "data": {
      "text/html": [
       "<div>\n",
       "<style scoped>\n",
       "    .dataframe tbody tr th:only-of-type {\n",
       "        vertical-align: middle;\n",
       "    }\n",
       "\n",
       "    .dataframe tbody tr th {\n",
       "        vertical-align: top;\n",
       "    }\n",
       "\n",
       "    .dataframe thead th {\n",
       "        text-align: right;\n",
       "    }\n",
       "</style>\n",
       "<table border=\"1\" class=\"dataframe\">\n",
       "  <thead>\n",
       "    <tr style=\"text-align: right;\">\n",
       "      <th></th>\n",
       "      <th>user_id</th>\n",
       "      <th>age</th>\n",
       "      <th>income</th>\n",
       "      <th>sex</th>\n",
       "      <th>kids_flg</th>\n",
       "    </tr>\n",
       "  </thead>\n",
       "  <tbody>\n",
       "    <tr>\n",
       "      <th>149662</th>\n",
       "      <td>1</td>\n",
       "      <td>age_25_34</td>\n",
       "      <td>income_20_40</td>\n",
       "      <td>Ж</td>\n",
       "      <td>1</td>\n",
       "    </tr>\n",
       "  </tbody>\n",
       "</table>\n",
       "</div>"
      ],
      "text/plain": [
       "        user_id        age        income sex  kids_flg\n",
       "149662        1  age_25_34  income_20_40   Ж         1"
      ]
     },
     "execution_count": 125,
     "metadata": {},
     "output_type": "execute_result"
    }
   ],
   "source": [
    "users[users['user_id'] == 1]"
   ]
  },
  {
   "cell_type": "markdown",
   "id": "43411998",
   "metadata": {},
   "source": [
    " ## Воспользоваться методом приближенного поиска соседей для выдачи рекомендаций. "
   ]
  },
  {
   "cell_type": "code",
   "execution_count": 74,
   "id": "62bf8c5b",
   "metadata": {
    "collapsed": true
   },
   "outputs": [
    {
     "name": "stdout",
     "output_type": "stream",
     "text": [
      "Requirement already satisfied: nmslib in /home/rezarayev/anaconda3/lib/python3.8/site-packages (2.1.1)\n",
      "Collecting pybind11<2.6.2\n",
      "  Using cached pybind11-2.6.1-py2.py3-none-any.whl (188 kB)\n",
      "Requirement already satisfied: psutil in /home/rezarayev/anaconda3/lib/python3.8/site-packages (from nmslib) (5.8.0)\n",
      "Requirement already satisfied: numpy>=1.10.0 in /home/rezarayev/anaconda3/lib/python3.8/site-packages (from nmslib) (1.22.2)\n",
      "\u001b[33mWARNING: Error parsing requirements for pybind11: [Errno 2] Нет такого файла или каталога: '/home/rezarayev/anaconda3/lib/python3.8/site-packages/pybind11-2.9.2.dist-info/METADATA'\u001b[0m\n",
      "Installing collected packages: pybind11\n",
      "  Attempting uninstall: pybind11\n",
      "    Found existing installation: pybind11 2.9.2\n",
      "\u001b[31mERROR: Could not install packages due to an OSError: [Errno 2] Нет такого файла или каталога: '/home/rezarayev/anaconda3/lib/python3.8/site-packages/pybind11-2.9.2.dist-info/RECORD'\n",
      "\u001b[0m\n",
      "Note: you may need to restart the kernel to use updated packages.\n"
     ]
    }
   ],
   "source": [
    "pip install nmslib"
   ]
  },
  {
   "cell_type": "code",
   "execution_count": 78,
   "id": "2aa5abcf",
   "metadata": {},
   "outputs": [],
   "source": [
    "import nmslib\n",
    "import time"
   ]
  },
  {
   "cell_type": "code",
   "execution_count": 126,
   "id": "62d4c831",
   "metadata": {},
   "outputs": [
    {
     "data": {
      "text/plain": [
       "Dataset(user_id_map=IdMap(external_ids=array([ 176549,  699317,  864613, ...,   92876, 1007900,  882138])), item_id_map=IdMap(external_ids=array([ 9506,  1659,  7638, ..., 14064, 11002, 10542])), interactions=Interactions(df=         user_id  item_id  weight last_watch_dt\n",
       "0              0        0     4.0    2021-05-11\n",
       "1              1        1     5.0    2021-05-29\n",
       "3              2        2     5.0    2021-07-05\n",
       "4              3        0     5.0    2021-04-30\n",
       "5              4        3     5.0    2021-05-13\n",
       "...          ...      ...     ...           ...\n",
       "5476242   233253       46     5.0    2021-04-21\n",
       "5476244    54444      166     5.0    2021-08-02\n",
       "5476245   173668      100     1.0    2021-05-12\n",
       "5476247   165648     2141     3.0    2021-04-13\n",
       "5476249   115506     1328     5.0    2021-04-19\n",
       "\n",
       "[3832259 rows x 4 columns]), user_features=SparseFeatures(values=<756545x17 sparse matrix of type '<class 'numpy.float32'>'\n",
       "\twith 1759959 stored elements in Compressed Sparse Row format>, names=(('sex', 'М'), ('sex', 'Ж'), ('sex', 'Unknown'), ('age', 'age_25_34'), ('age', 'age_18_24'), ('age', 'age_45_54'), ('age', 'age_35_44'), ('age', 'age_55_64'), ('age', 'age_65_inf'), ('age', 'Unknown'), ('income', 'income_60_90'), ('income', 'income_20_40'), ('income', 'income_40_60'), ('income', 'income_90_150'), ('income', 'income_0_20'), ('income', 'Unknown'), ('income', 'income_150_inf'))), item_features=SparseFeatures(values=<13963x809 sparse matrix of type '<class 'numpy.float32'>'\n",
       "\twith 91980 stored elements in Compressed Sparse Row format>, names=(('content_type', 'film'), ('content_type', 'series'), ('genre', 'драмы'), ('genre', 'зарубежные'), ('genre', 'детективы'), ('genre', 'мелодрамы'), ('genre', 'приключения'), ('genre', 'комедии'), ('genre', 'криминал'), ('genre', 'триллеры'), ('genre', 'боевики'), ('genre', 'спорт'), ('genre', 'советские'), ('genre', 'фильмы'), ('genre', 'сказки'), ('genre', 'семейное'), ('genre', 'фэнтези'), ('genre', 'для детей'), ('genre', 'полнометражные'), ('genre', 'западные мультфильмы'), ('genre', 'русские'), ('genre', 'биография'), ('genre', 'экранизации'), ('genre', 'исторические'), ('genre', 'военные'), ('genre', 'ужасы'), ('genre', 'мистика'), ('genre', 'фильмы-спектакли'), ('genre', 'мюзиклы'), ('genre', 'короткометражные'), ('genre', 'детские'), ('genre', 'вестерн'), ('genre', 'мультфильмы'), ('genre', 'для взрослых'), ('genre', 'мультфильм'), ('genre', 'фантастика'), ('genre', 'документальное'), ('genre', 'историческое'), ('genre', 'концерт'), ('genre', 'познавательные'), ('genre', 'музыка'), ('genre', 'реалити-шоу'), ('genre', 'фитнес'), ('genre', 'телешоу'), ('genre', 'научно-популярные'), ('genre', 'ток-шоу'), ('genre', 'молодежные'), ('genre', 'стендап'), ('genre', 'хочу всё знать'), ('genre', 'про животных'), ('genre', 'русские мультфильмы'), ('genre', 'развитие'), ('genre', 'аниме'), ('genre', 'музыкальные'), ('genre', 'сериалы'), ('genre', 'детские песни'), ('genre', 'мультсериалы'), ('genre', 'для самых маленьких'), ('genre', 'no_genre'), ('genre', 'развлекательные'), ('genre', 'караоке'), ('genre', 'фильмы hbo'), ('genre', 'катастрофы'), ('genre', 'медицинские'), ('genre', 'передачи'), ('genre', 'мировая классика'), ('genre', 'артхаус'), ('genre', 'дорамы'), ('genre', 'воспитание детей'), ('genre', 'короткий метр'), ('genre', 'интервью'), ('genre', 'по комиксам'), ('genre', 'увлечения'), ('genre', 'охота и рыбалка'), ('genre', 'популярное'), ('genre', 'реалити'), ('genre', 'футбол'), ('genre', 'романтика'), ('genre', 'фильм-нуар'), ('genre', 'тележурналы'), ('genre', 'живая природа'), ('genre', 'немое кино'), ('genre', 'единоборства'), ('genre', 'шоу'), ('genre', 'юмор'), ('genre', 'вокруг света'), ('genre', 'анимация'), ('genre', 'кулинария'), ('genre', 'о знаменитостях'), ('genre', 'индийское кино'), ('genre', '18+'), ('genre', 'токшоу'), ('genre', 'комиксы'), ('genre', 'красота и здоровье'), ('genre', 'образование'), ('genre', 'рекомендуем'), ('studios', 'Unknown'), ('studios', 'Ленфильм'), ('studios', 'Sony Pictures'), ('studios', 'Starz'), ('studios', 'BBC'), ('studios', 'Ленфильм, рентв'), ('studios', 'HBO'), ('studios', 'Paramount'), ('studios', 'Universal'), ('studios', 'Sky'), ('studios', 'Cinemax'), ('studios', 'CBS'), ('studios', 'Sony Plus, рентв'), ('studios', 'FX'), ('studios', 'Sky, Fremantle'), ('studios', 'DAZN'), ('studios', 'Warner Bros'), ('studios', 'Fremantle'), ('studios', 'Sony Pictures, рентв'), ('studios', 'Fox'), ('studios', 'HBO, BBC'), ('studios', 'Мосфильм'), ('studios', 'Showtime'), ('studios', 'Endemol'), ('studios', 'Sony Pictures Television'), ('studios', 'CBS All Access'), ('studios', 'ABC'), ('studios', 'Universal, рентв'), ('studios', 'Amediateka'), ('studios', 'Рок фильм'), ('studios', 'Disney'), ('studios', 'HBO Max'), ('studios', 'Warner Bros. Television'), ('studios', 'MGM'), ('studios', 'Legendary'), ('studios', 'рентв'), ('studios', 'Channel 4'), ('studios', 'New Regency Productions'), ('studios', 'Sony Plus'), ('age_feature', 16.0), ('age_feature', 12.0), ('age_feature', 6.0), ('age_feature', 18.0), ('age_feature', 0.0), ('age_feature', 21.0), ('age_feature', nan), ('countries', 'Испания'), ('countries', 'США'), ('countries', 'Канада'), ('countries', 'Великобритания'), ('countries', 'СССР'), ('countries', 'Россия'), ('countries', 'Германия'), ('countries', 'Италия'), ('countries', 'Аргентина'), ('countries', 'Франция'), ('countries', 'Украина'), ('countries', 'США, Германия, Япония, Великобритания'), ('countries', 'Швеция'), ('countries', 'Норвегия'), ('countries', 'Германия, Канада'), ('countries', 'Россия, Италия, Швеция'), ('countries', 'Чехия'), ('countries', 'Китай, Япония, Тайвань, Республика Корея'), ('countries', 'Израиль'), ('countries', 'Великобритания, Франция'), ('countries', 'Дания, Швеция, США, Великобритания, Аргентина, Германия, Исландия, Испания'), ('countries', 'Бельгия'), ('countries', 'США, Канада'), ('countries', 'Франция, Бельгия'), ('countries', 'Республика Корея'), ('countries', 'Новая Зеландия'), ('countries', 'Австралия'), ('countries', 'Мексика'), ('countries', 'Великобритания, США'), ('countries', 'Швеция, Испания, США'), ('countries', 'США, Великобритания'), ('countries', 'Нидерланды, Великобритания'), ('countries', 'США, Германия'), ('countries', 'Япония'), ('countries', 'Китай'), ('countries', 'Великобритания, Швеция, Германия'), ('countries', 'США, Китай, Германия, Япония'), ('countries', 'Великобритания, США, Китай'), ('countries', 'Кипр'), ('countries', 'Маврикий'), ('countries', 'Казахстан'), ('countries', 'США, Гонконг'), ('countries', 'США, Китай, Япония'), ('countries', 'Ирландия'), ('countries', 'Германия, Норвегия'), ('countries', 'Болгария, Великобритания'), ('countries', 'Россия, Беларусь'), ('countries', 'Италия, СССР'), ('countries', 'США, Румыния'), ('countries', 'Франция, США'), ('countries', 'Россия, США'), ('countries', 'США, Китай'), ('countries', 'США, Мальта'), ('countries', 'США, Великобритания, Австралия'), ('countries', 'Великобритания, США, Канада'), ('countries', 'США, Болгария'), ('countries', 'Нидерланды'), ('countries', 'Чили'), ('countries', 'Армения'), ('countries', 'Германия, Франция'), ('countries', 'Канада, Франция'), ('countries', 'США, Мексика, Австралия, Канада'), ('countries', 'США, Мексика'), ('countries', 'США, Индия'), ('countries', 'Таиланд'), ('countries', 'Канада, США'), ('countries', 'Великобритания, Франция, США, Китай, Венгрия'), ('countries', 'Франция, Сенегал'), ('countries', 'Бразилия, Канада'), ('countries', 'США, Великобритания, Япония, Германия'), ('countries', 'Ирландия, Великобритания'), ('countries', 'США, Германия, Япония'), ('countries', 'США, Великобритания, Канада, Китай'), ('countries', 'США, Япония'), ('countries', 'Италия, Франция'), ('countries', 'Гонконг'), ('countries', 'Беларусь'), ('countries', 'Польша'), ('countries', 'Испания, США'), ('countries', 'Германия, Франция, Италия'), ('countries', 'Австралия, США'), ('countries', 'Нидерланды, Чехия'), ('countries', 'Германия, Бельгия, Люксембург, Ирландия, США'), ('countries', 'Франция, Великобритания, Чехия'), ('countries', 'США, Ирландия'), ('countries', 'Китай, Гонконг'), ('countries', 'Норвегия, Великобритания'), ('countries', 'Россия, Украина'), ('countries', 'Россия, Украина, Беларусь'), ('countries', 'Дания'), ('countries', 'Великобритания, Австралия, США'), ('countries', 'США, Испания'), ('countries', 'Турция'), ('countries', 'ЮАР'), ('countries', 'Швейцария'), ('countries', 'США, Великобритания, Германия'), ('countries', 'США, Франция, Великобритания'), ('countries', 'Швейцария, Великобритания, США'), ('countries', 'Ирландия, Великобритания, Германия, Швеция'), ('countries', 'Дания, Швеция, Нидерланды'), ('countries', 'Македония'), ('countries', 'Великобритания, Канада'), ('countries', 'Индия'), ('countries', 'Финляндия'), ('countries', 'Франция, Республика Корея, Япония'), ('countries', 'Узбекистан'), ('countries', 'Малайзия'), ('countries', 'США, ОАЭ, Чехия'), ('countries', 'США, Австралия'), ('countries', 'Австралия, Россия'), ('countries', 'США, Франция'), ('countries', 'Испания, Мальта, Болгария'), ('countries', 'Португалия, Германия, Дания, США, Франция'), ('countries', 'Испания, Болгария'), ('countries', 'Бразилия'), ('countries', 'Дания, Швеция, Франция, Германия'), ('countries', 'Франция, Германия, США'), ('countries', 'Великобритания, США, Франция'), ('countries', 'Франция, Австралия'), ('countries', 'Канада, США, Индия, Великобритания'), ('countries', 'Германия, США'), ('countries', 'США, Канада, Новая Зеландия'), ('countries', 'Испания, Германия'), ('countries', 'Великобритания, Франция, Германия, США'), ('countries', 'США, Великобритания, Япония'), ('countries', 'Венгрия'), ('countries', 'США, Швеция, ЮАР'), ('countries', 'Казахстан, Россия, Франция'), ('countries', 'Франция, Канада'), ('countries', 'США, Швейцария, Великобритания'), ('countries', 'США, Республика Корея'), ('countries', 'Бельгия, Франция'), ('countries', 'Франция, Бельгия, Германия'), ('countries', 'Польша, Великобритания, Франция'), ('countries', 'США, Франция, Япония'), ('countries', 'Россия, Испания'), ('countries', 'Филиппины'), ('countries', 'Великобритания, Австралия'), ('countries', 'США, Бразилия'), ('countries', 'Пуэрто-Рико, Великобритания, США'), ('countries', 'Испания, Канада'), ('countries', 'Великобритания, Канада, Ирландия'), ('countries', 'Португалия'), ('countries', 'Германия, Бельгия, Великобритания, Дания'), ('countries', 'Чехия, Великобритания, Германия, США'), ('countries', 'Франция, Германия, ЮАР'), ('countries', 'Канада, Ирландия, Великобритания, США'), ('countries', 'Италия, Германия'), ('countries', 'Перу'), ('countries', 'Франция, Канада, США'), ('countries', 'Австралия, Бельгия'), ('countries', 'Латвия'), ('countries', 'Австрия, Германия'), ('countries', 'Киргизия'), ('countries', 'Великобритания, Швеция, Дания, Ирландия'), ('countries', 'Швеция, Норвегия, Германия'), ('countries', 'Алжир, США'), ('countries', 'Дания, Чехия'), ('countries', 'Великобритания, Нидерланды'), ('countries', 'Дания, Швеция, Франция, Нидерланды, Италия, Испания'), ('countries', 'Австралия, Канада'), ('countries', nan), ('countries', 'Великобритания, Франция, Германия'), ('countries', 'Франция, Великобритания, Венгрия'), ('countries', 'Дания, Швеция, Франция, Нидерланды, Норвегия, Исландия, Испания'), ('countries', 'США, ЮАР, Великобритания'), ('countries', 'Великобритания, Румыния'), ('countries', 'Великобритания, Дания'), ('countries', 'Колумбия'), ('countries', 'Румыния'), ('countries', 'Гонконг, Китай'), ('countries', 'США, Финляндия'), ('countries', 'Ирландия, Бельгия, Дания, Канада'), ('countries', 'Австралия, Франция'), ('countries', 'США, Франция, Италия'), ('countries', 'Испания, Япония'), ('countries', 'США, Гонконг, Исландия'), ('countries', 'Франция, Германия, США, Великобритания'), ('countries', 'Австрия'), ('countries', 'Венесуэла'), ('countries', 'США, Великобритания, Италия'), ('countries', 'США, Великобритания, Канада'), ('countries', 'Аргентина, Уругвай, Россия, Германия, Франция, Нидерланды'), ('countries', 'Мексика, США'), ('countries', 'Россия, Беларусь, Польша'), ('countries', 'Германия, Франция, Великобритания, Канада, США, Япония'), ('countries', 'Индонезия, США'), ('countries', 'США, Германия, Канада'), ('countries', 'Китай, США'), ('countries', 'Ирландия, Бельгия'), ('countries', 'Германия, Великобритания, США'), ('countries', 'Дания, Канада, Швеция, США, Франция'), ('countries', 'США, Великобритания, Франция'), ('countries', 'США, Франция, Бельгия, Нидерланды, Латвия'), ('countries', 'Хорватия'), ('countries', 'США, Франция, Великобритания, Италия'), ('countries', 'Австралия, Новая Зеландия'), ('countries', 'Ирландия, Испания'), ('countries', 'Канада, США, Великобритания'), ('countries', 'Новая Зеландия, США'), ('countries', 'США, Великобритания, Франция, Венгрия, Германия'), ('countries', 'Индия, Великобритания, Китай, Канада, Япония, Республика Корея, США'), ('countries', 'Швеция, Дания'), ('countries', 'Великобритания, США, Индия, Канада, Франция, Бельгия'), ('countries', 'Япония, Сингапур'), ('countries', 'Великобритания, Испания, Германия, США'), ('countries', 'Аргентина, Испания, Бразилия, Германия'), ('countries', 'США, Аргентина, Гонконг, Канада'), ('countries', 'Индонезия'), ('countries', 'США, Италия, Румыния, Великобритания'), ('countries', 'Великобритания, Франция, Китай, Камбоджа, США, Германия'), ('countries', 'Дания, Норвегия, Венгрия, Чехия'), ('countries', 'Япония, США'), ('countries', 'США, Канада, Гонконг'), ('countries', 'Германия, Великобритания, США, Канада'), ('countries', 'США, Чехия'), ('countries', 'Италия, Испания'), ('countries', 'Франция, Италия'), ('countries', 'Парагвай'), ('countries', 'Россия, Франция'), ('countries', 'Великобритания, Франция, США'), ('countries', 'Великобритания, Китай, Япония, США'), ('countries', 'Франция, Бельгия, Люксембург'), ('countries', 'США, Бельгия'), ('countries', 'Сербия, СССР'), ('countries', 'США, Нидерланды, Аргентина, Франция'), ('countries', 'Швеция, США'), ('countries', 'Великобритания, Швеция, Франция, Бельгия'), ('countries', 'Россия, Сербия'), ('countries', 'США, Великобритания, Чехия, Канада'), ('countries', 'Россия, Германия, Франция'), ('countries', 'Франция, Польша, Бельгия'), ('countries', 'Франция, Великобритания'), ('countries', 'Испания, Аргентина'), ('countries', 'Германия, Индия, США'), ('countries', 'Великобритания, Германия, США'), ('countries', 'США, Канада, Франция'), ('countries', 'Франция, Япония'), ('countries', 'Австралия, Китай, Германия, США'), ('countries', 'Великобритания, США, Индия'), ('countries', 'Дания, Норвегия, Германия'), ('countries', 'Великобритания, Нидерланды, Франция, Италия, Япония'), ('countries', 'Молдова'), ('countries', 'Германия, Китай'), ('countries', 'Дания, США'), ('countries', 'Великобритания, Испания'), ('countries', 'Швеция, Дания, США'), ('countries', 'Австралия, Германия'), ('countries', 'Великобритания, Франция, США, Канада'), ('countries', 'Исландия, Дания, Швеция'), ('countries', 'США, Великобритания, Франция, Германия, Япония'), ('countries', 'Эстония'), ('countries', 'США, Армения'), ('countries', 'Франция, Польша'), ('countries', 'Нидерланды, Люксембург, Великобритания'), ('countries', 'Россия, Люксембург'), ('countries', 'США, Канада, Индия'), ('countries', 'США, Германия, Франция'), ('countries', 'США, Франция, Бельгия, Чехия'), ('countries', 'Албания'), ('countries', 'Бельгия, Великобритания, Германия'), ('countries', 'Болгария'), ('countries', 'Испания, Португалия, Франция'), ('countries', 'Канада, Республика Корея, США'), ('countries', 'Великобритания, Италия'), ('countries', 'США, Чили, Израиль'), ('countries', 'Мексика, Франция'), ('countries', 'Великобритания, Ирландия, Франция, США'), ('countries', 'Великобритания, Новая Зеландия'), ('countries', 'Бельгия, Люксембург, Франция'), ('countries', 'Аргентина, Испания'), ('countries', 'США, Гонконг, Канада, Китай'), ('countries', 'США, Китай, Канада, Австралия'), ('countries', 'Швеция, СССР, Норвегия'), ('countries', 'Австралия, Великобритания'), ('countries', 'США, Канада, Австралия'), ('countries', 'Канада, Китай, США'), ('countries', 'Россия, Великобритания, Австрия'), ('countries', 'США, Австралия, Мексика'), ('countries', 'США, Япония, Испания, Великобритания'), ('countries', 'США, Россия'), ('countries', 'США, ОАЭ'), ('countries', 'Великобритания, США, Китай, Швеция, Япония'), ('countries', 'Франция, Испания, Румыния, Бельгия, США'), ('countries', 'Гонконг, США'), ('countries', 'Великобритания, Китай, США'), ('countries', 'Нидерланды, Великобритания, Польша, Украина, США'), ('countries', 'Дания, Германия, Франция, Бельгия'), ('countries', 'США, Новая Зеландия'), ('countries', 'Великобритания, Германия, Испания, США'), ('countries', 'Испания, Франция'), ('countries', 'Исландия'), ('countries', 'США, Германия, Великобритания, Нидерланды, Италия'), ('countries', 'Индия, Сингапур, США'), ('countries', 'США, Канада, Великобритания'), ('countries', 'Ирландия, Швеция, США'), ('countries', 'Швейцария, Германия, Португалия'), ('countries', 'Германия, Австрия, Италия'), ('countries', 'Великобритания, Франция, Германия, Ирландия, США'), ('countries', 'США, Великобритания, Япония, Венгрия'), ('countries', 'Великобритания, Канада, США'), ('countries', 'Сингапур'), ('countries', 'Франция, США, Бразилия'), ('countries', 'Китай, Канада, США'), ('countries', 'Россия, Турция'), ('countries', 'Хорватия, Люксембург, Норвегия, Чехия, Словакия, Словения'), ('countries', 'Германия, Австралия'), ('countries', 'Австралия, Колумбия'), ('countries', 'Россия, Казахстан'), ('countries', 'Австрия, Россия'), ('countries', 'Эквадор, Испания, Перу'), ('countries', 'Франция, Великобритания, США'), ('countries', 'Сербия'), ('countries', 'Швеция, Германия, Норвегия, Дания, Исландия, Бельгия, Великобритания'), ('countries', 'Великобритания, Ирландия, Канада, США, Индия'), ('countries', 'США, ЮАР'), ('countries', 'Тайвань'), ('countries', 'Мальта'), ('countries', 'Бельгия, Люксембург'), ('countries', 'Франция, Китай'), ('countries', 'США, Канада, Франция, Великобритания, Индия'), ('countries', 'Армения, Грузия, США'), ('countries', 'Канада, Испания, Япония'), ('countries', 'Канада, Республика Корея'), ('countries', 'Испания, Болгария, США'), ('countries', 'Испания, США, Франция'), ('countries', 'США, Норвегия'), ('countries', 'Великобритания, Германия'), ('countries', 'США, Франция, Канада, Испания'), ('countries', 'США, Камбоджа'), ('countries', 'США, Великобритания, Мальта, Марокко'), ('countries', 'Аргентина, Мексика'), ('countries', 'Франция, Люксембург, Бельгия'), ('countries', 'Великобритания, США, Германия'), ('countries', 'Великобритания, Германия, США, Испания'), ('countries', 'США, Германия, Польша'), ('countries', 'США, Великобритания, Ирландия'), ('countries', 'Индия, США'), ('countries', 'Канада, Бельгия'), ('countries', 'Норвегия, США, Великобритания'), ('countries', 'Россия, Украина, Великобритания'), ('countries', 'Италия, Бельгия'), ('countries', 'Иран'), ('countries', 'Германия, Япония, США, Великобритания'), ('countries', 'США, Германия, Чехия'), ('countries', 'Великобритания, Ирландия'), ('countries', 'Россия, Тунис'), ('countries', 'Великобритания, Финляндия, Германия, США, Франция'), ('countries', 'США, Германия, Китай, Канада'), ('countries', 'Польша, СССР'), ('countries', 'США, Нидерланды'), ('countries', 'Ирландия, США'), ('countries', 'Бельгия, Великобритания, Ирландия, США'), ('countries', 'США, Швеция, Венгрия'), ('countries', 'Великобритания, Мексика, США'), ('countries', 'США, Канада, Австралия, Тайвань'), ('countries', 'США, Греция'), ('countries', 'Германия, Канада, США'), ('countries', 'США, Бельгия, Дания, Великобритания, Швеция, Китай'), ('countries', 'Бельгия, Германия'), ('countries', 'Германия, Франция, Испания, США'), ('countries', 'Германия, Россия'), ('countries', 'Ирландия, Франция'), ('countries', 'Германия, Дания, Франция, Швеция'), ('countries', 'Франция, США, Германия'), ('countries', 'США, Китай, Великобритания'), ('countries', 'США, Филиппины, Пуэрто-Рико'), ('countries', 'США, Германия, Гонконг, Сингапур'), ('countries', 'Великобритания, Люксембург'), ('countries', 'Швейцария, Франция'), ('countries', 'Великобритания, Германия, Франция'), ('countries', 'Франция, США, Испания'), ('countries', 'Швеция, Канада'), ('countries', 'Россия, Латвия, Великобритания, Австрия'), ('countries', 'Новая Зеландия, США, Германия'), ('countries', 'Германия, США, Мексика'), ('countries', 'Ирландия, Канада'), ('countries', 'Швеция, Великобритания, Франция, Испания, Россия'), ('countries', 'Чехия, Великобритания'), ('countries', 'Словения'), ('countries', 'США, Канада, Китай'), ('countries', 'США, Новая Зеландия, Германия'), ('countries', 'Россия, Канада, Грузия, Греция'), ('countries', 'Индия, Китай'), ('countries', 'Дания, Норвегия, Чехия'), ('countries', 'Канада, Венгрия'), ('countries', 'Дания, Латвия, Россия, США'), ('countries', 'Ирландия, Франция, Исландия, США, Мексика, Бельгия, Великобритания, Гонконг'), ('countries', 'Иран, Ливан'), ('countries', 'Франция, Испания'), ('countries', 'Франция, СССР'), ('countries', 'Германия, Италия'), ('countries', 'Куба, Испания'), ('countries', 'Великобритания, США, Испания'), ('countries', 'Уругвай, Аргентина, Германия, Испания, Нидерланды'), ('countries', 'Италия, Люксембург, Бельгия'), ('countries', 'США, Индия, Великобритания, Франция, Канада, Германия'), ('countries', 'Болгария, США'), ('countries', 'Испания, США, Италия'), ('countries', 'США, Великобритания, Китай'), ('countries', 'Россия, Грузия'), ('countries', 'США, Германия, Великобритания, Франция'), ('countries', 'Азербайджан'), ('countries', 'Великобритания, Австралия, США, Новая Зеландия'), ('countries', 'США, Индия, Канада'), ('countries', 'Германия, Франция, Бельгия, ЮАР, Италия, Великобритания, Люксембург'), ('countries', 'США, Германия, Великобритания'), ('countries', 'Франция, Германия'), ('countries', 'Великобритания, Чехия, Германия, США'), ('countries', 'Финляндия, Латвия'), ('countries', 'Германия, Бельгия, Франция'), ('countries', 'США, Испания, Франция, Великобритания'), ('countries', 'США, Великобритания, Германия, Нидерланды, Франция, Италия, Марокко, Таиланд'), ('countries', 'Великобритания, ЮАР'), ('countries', 'Аргентина, США'), ('countries', 'Великобритания, Румыния, США'), ('countries', 'Франция, Польша, Великобритания'), ('countries', 'Мексика, Тайвань, Великобритания, США, Япония, Италия'), ('countries', 'Австралия, США, Канада, Великобритания'), ('countries', 'Великобритания, Канада, Норвегия, США'), ('countries', 'Великобритания, США, Германия, Дания, Бельгия, Япония'), ('countries', 'Франция, Италия, Тунис'), ('countries', 'Бельгия, Великобритания'), ('countries', 'Канада, Великобритания'), ('countries', 'Франция, Бельгия, США'), ('countries', 'Китай, США, Канада'), ('countries', 'Россия, Франция, Германия, Бельгия'), ('countries', 'Иордания'), ('countries', 'Германия, Франция, ЮАР'), ('countries', 'Бразилия, Германия'), ('countries', 'Германия, Франция, США, Канада, Великобритания'), ('countries', 'США, Канада, Италия'), ('countries', 'Болгария, Великобритания, США'), ('countries', 'США, Мексика, Испания'), ('countries', 'Грузия, Украина'), ('countries', 'Турция, США'), ('countries', 'Армения, Россия'), ('countries', 'Беларусь, Украина'), ('countries', 'Великобритания, США, Австралия'), ('countries', 'США, Венгрия'), ('countries', 'Япония, США, Франция'), ('countries', 'Великобритания, США, Япония'), ('countries', 'Япония, Канада'), ('countries', 'Дания, Швеция, Франция, Италия, Германия, Исландия'), ('countries', 'Португалия, Великобритания'), ('countries', 'США, Канада, Венгрия'), ('countries', 'США, Япония, Мексика, Канада'), ('countries', 'Россия, Беларусь, Чехия, Франция, Польша, Израиль'), ('countries', 'Колумбия, США'), ('countries', 'Швеция, Дания, Финляндия'), ('countries', 'Германия, Бельгия'), ('countries', 'Италия, Франция, Великобритания, Швейцария'), ('countries', 'Великобритания, Германия, Люксембург'), ('countries', 'США, Тайвань, Великобритания, Канада'), ('countries', 'Россия, Армения'), ('countries', 'США, Швейцария'), ('countries', 'США, Аргентина, Мексика'), ('countries', 'Норвегия, США'), ('countries', 'Германия, Великобритания'), ('countries', 'Китай, Франция'), ('countries', 'США, Германия, Канада, Великобритания'), ('countries', 'Бельгия, Германия, Швеция'), ('countries', 'Германия, СССР'), ('countries', 'Бразилия, Франция'), ('countries', 'США, Великобритания, Австралия, Канада'), ('countries', 'Испания, Великобритания, Франция, США'), ('countries', 'Германия, Канада, США, Франция, Великобритания'), ('countries', 'США, Китай, Канада'), ('countries', 'ЮАР, Япония, США'), ('countries', 'США, ЮАР, Замбия, Германия'), ('countries', 'Китай, США, Индия'), ('countries', 'Нидерланды, Перу'), ('countries', 'Великобритания, США, Франция, Испания, Италия'), ('countries', 'Испания, Франция, Италия'), ('countries', 'Великобритания, Польша'), ('countries', 'Италия, Испания, Великобритания'), ('countries', 'Япония, Россия'), ('countries', 'США, Малайзия, Португалия'), ('countries', 'США, Ливан'), ('countries', 'Греция'), ('countries', 'США, Япония, Великобритания'), ('countries', 'Канада, Финляндия'), ('countries', 'Индия, Мексика'), ('countries', 'США, Польша'), ('countries', 'Великобритания, США, Румыния'), ('countries', 'Германия, Норвегия, Швеция'), ('countries', 'Япония, Китай'), ('countries', 'Дания, Швеция'), ('countries', 'Япония, СССР'), ('countries', 'Великобритания, СССР'), ('countries', 'США, Великобритания, Канада, Бельгия'), ('countries', 'ЮАР, США'), ('countries', 'Франция, Бельгия, Китай'), ('countries', 'Уругвай, Аргентина, Испания'), ('countries', 'Финляндия, Россия'), ('countries', 'Франция, Израиль, Германия'), ('countries', 'Франция, Россия'), ('countries', 'США, Канада, Люксембург'), ('countries', 'Великобритания, США, Швеция'), ('countries', 'США, Великобритания, Германия, Чехия'), ('countries', 'США, Италия'), ('countries', 'США, Франция, Чехия'), ('countries', 'США, Германия, Франция, Испания'), ('countries', 'Дания, Швеция, Франция, Германия, Швейцария, Испания'), ('countries', 'США, Германия, Венгрия'), ('countries', 'Германия, Испания'), ('countries', 'Казахстан, Турция'), ('countries', 'США, Россия, Венгрия'), ('countries', 'Ирландия, Великобритания, Германия'), ('countries', 'Германия, Люксембург'), ('countries', 'Тунис, Швейцария, Франция'), ('countries', 'Великобритания, Ирландия, Канада, США'), ('countries', 'Бельгия, Великобритания, Ирландия'), ('countries', 'Канада, Великобритания, США'), ('countries', 'Ирландия, Великобритания, США'), ('countries', 'СССР, Франция'), ('countries', 'Швеция, Бельгия'), ('countries', 'Россия, Азербайджан'), ('countries', 'Дания, Швеция, Чехия'), ('countries', 'Великобритания, Франция, Канада, Бельгия, США'), ('countries', 'Бельгия, Франция, Великобритания'), ('countries', 'Великобритания, Венгрия, США'), ('countries', 'Россия, Китай'), ('countries', 'Россия, Германия, Казахстан, Франция'), ('countries', 'Чехия, Германия, Сингапур, США'), ('countries', 'Бразилия, Уругвай, Дания, Норвегия'), ('countries', 'Эстония, Россия'), ('countries', 'Германия, Австрия'), ('countries', 'Германия, Бельгия, США'), ('countries', 'Австрия, Венгрия'), ('countries', 'США, Германия, Бельгия'), ('countries', 'Франция, Бельгия, Италия'), ('countries', 'США, Исландия, Великобритания'), ('countries', 'Украина, Беларусь'), ('countries', 'США, Великобритания, Индия, Испания, Канада'), ('countries', 'Швеция, Германия, Франция, Дания, США'), ('countries', 'Великобритания, Сербия'), ('countries', 'Франция, Чехия'), ('countries', 'США, Польша, Словения, Чехия'), ('countries', 'Испания, Канада, Франция'), ('countries', 'Россия, Франция, Германия'), ('countries', 'Канада, Китай'), ('countries', 'Франция, Чили'), ('countries', 'Великобритания, США, Франция, Венгрия, Нидерланды'), ('countries', 'Германия, Канада, Великобритания'), ('countries', 'Дания, Франция, Швеция, Германия, Бельгия, Тунис'), ('countries', 'Россия, Норвегия'), ('countries', 'Индия, Канада'), ('countries', 'Германия, Великобритания, Италия, Испания'), ('countries', 'Италия, Люксембург, Франция, Бельгия'), ('countries', 'США, Канада, Филиппины, Великобритания, Республика Корея, Франция'), ('countries', 'Канада, США, Великобритания, Австралия'), ('countries', 'Ирландия, США, Великобритания, Швеция, Бельгия'), ('countries', 'Бельгия, Нидерланды'), ('countries', 'Германия, Испания, Тайвань'), ('countries', 'Россия, Великобритания'), ('countries', 'США, Канада, Китай, Япония'), ('countries', 'Великобритания, Испания, США'), ('countries', 'Великобритания, Чехия, США, Германия'), ('countries', 'США, Нидерланды, Великобритания'), ('countries', 'США, Канада, Япония'), ('countries', 'Россия, Латвия'), ('countries', 'Великобритания, Франция, Германия, Мексика, США'), ('countries', 'Вьетнам'), ('countries', 'Германия, Франция, Бельгия'), ('countries', 'Италия, США'), ('countries', 'Германия, Швеция, США, Венгрия'), ('countries', 'Франция, Норвегия'), ('countries', 'Дания, Нидерланды, Швеция, Германия, Великобритания, Франция, Финляндия, Норвегия, Италия'), ('countries', 'Чехия, Словакия, Хорватия'), ('countries', 'США, Таиланд'), ('countries', 'Чили, Аргентина, Бразилия'), ('countries', 'Нидерланды, Великобритания, Франция, Люксембург, Австрия'), ('countries', 'Чили, США'), ('countries', 'Дания, Швейцария'), ('countries', 'Чехия, Великобритания, США'), ('countries', 'Мексика, США, Канада'), ('countries', 'США, Китай, Гонконг, Австралия, Канада'), ('countries', 'США, Канада, Япония, Франция'), ('countries', 'Великобритания, Пуэрто-Рико'), ('countries', 'США, Япония, Колумбия'), ('countries', 'Испания, Великобритания, Нидерланды'), ('countries', 'Германия, США, Франция, Австралия, Великобритания'), ('countries', 'Япония, Китай, Республика Корея'), ('countries', 'Люксембург'), ('countries', 'США, Германия, Мексика'), ('countries', 'Республика Корея, Канада'), ('countries', 'Франция, США, Мексика'), ('countries', 'Великобритания, Германия, Дания, США'), ('countries', 'Аргентина, США, Чили, Перу, Бразилия, Великобритания, Германия, Франция'), ('countries', 'Великобритания, Бельгия'), ('countries', 'США, Германия, Италия'), ('countries', 'Чехия, Словакия'), ('countries', 'Гонконг, Канада, США'), ('countries', 'Россия, Нидерланды'), ('countries', 'Дания, Великобритания'), ('countries', 'Канада, Мексика, Германия'), ('countries', 'Германия, Ирландия, США'), ('countries', 'Великобритания, Норвегия'), ('countries', 'Великобритания, Чехия, Франция, Италия, США'), ('countries', 'Великобритания, Испания, Германия'), ('countries', 'Дания, Швеция, Италия, Франция, Германия'), ('countries', 'США, Германия, Великобритания, Венгрия'), ('countries', 'Китай, Тайвань, Гонконг'), ('countries', 'Коста-Рика'), ('countries', 'Россия, Болгария'), ('countries', 'Дания, Франция, США, Швеция, Бельгия'), ('countries', 'Мексика, Индия, США'), ('countries', 'США, Китай, Бразилия'), ('countries', 'США, Германия, Великобритания, Испания'), ('countries', 'Дания, Швеция, Нидерланды, Франция, Германия, Великобритания, Италия, США'), ('countries', 'Грузия'), ('countries', 'Португалия, США'), ('countries', 'Швеция, Дания, Германия, Финляндия, Франция, Великобритания, Италия'), ('countries', 'Великобритания, США, Венгрия'), ('countries', 'США, Великобритания, Венгрия'), ('countries', 'Дания, Норвегия, Чехия, Исландия, Швеция'), ('countries', 'США, Великобритания, Испания'), ('countries', 'Великобритания, Россия'), ('countries', 'Италия, Испания, Германия'), ('countries', 'Кения, Индия, США'), ('countries', 'Франция, Испания, США'), ('countries', 'США, Франция, Китай, Великобритания'), ('countries', 'Дания, Норвегия, Швеция, Исландия'), ('countries', 'Швеция, СССР'), ('countries', 'Бельгия, Франция, Ирландия'), ('countries', 'США, Германия, Ирландия, Великобритания'), ('countries', 'США, Индия, Франция'), ('countries', 'Сербия, Великобритания, США, Аргентина'), ('countries', 'Великобритания, Япония'), ('countries', 'Великобритания, Франция, Испания, США'), ('countries', 'США, ЮАР, Индия'), ('countries', 'Бельгия, США, Франция, Италия'), ('countries', 'Республика Корея, Чехия'), ('countries', 'Ирландия, Бельгия, США'), ('countries', 'Венгрия, Великобритания, Франция, Австралия, США, Новая Зеландия'), ('countries', 'Республика Корея, Китай'), ('countries', 'Австралия, Швеция'), ('countries', 'Россия, Украина, Германия, Великобритания, Чехия'), ('countries', 'Норвегия, Швеция, Дания'), ('countries', 'Германия, Индия, Австралия'), ('countries', 'Иран, Франция, Германия, Швейцария'), ('countries', 'Испания, Франция, Швеция, Аргентина'), ('countries', 'Франция, Республика Корея, Испания'), ('countries', 'Венгрия, Дания, Норвегия, Чехия'), ('countries', 'Россия, Япония, Эстония'), ('countries', 'ОАЭ'), ('countries', 'Франция, Иран'), ('countries', 'Чехия, СССР'), ('countries', 'Германия, Люксембург, Дания'), ('countries', 'Испания, Бельгия'), ('countries', 'США, Чехия, Великобритания'), ('countries', 'Япония, Великобритания'), ('countries', 'Ирландия, Великобритания, Греция, Франция, Нидерланды'), ('countries', 'Великобритания, Австрия'), ('countries', 'Норвегия, Швеция, Дания, Германия'), ('countries', 'Россия, Литва, Ирландия'), ('countries', 'Бельгия, Канада'), ('countries', 'Италия, Франция, Великобритания'), ('countries', 'Германия, Франция, Польша'), ('countries', 'Канада, США, Франция, Германия, Великобритания'), ('countries', 'Великобритания, Франция, Австралия'), ('countries', 'США, Германия, Чехия, Великобритания'), ('countries', 'Германия, США, Нидерланды'), ('countries', 'США, Франция, Канада'), ('countries', 'Испания, США, Чехия'), ('countries', 'Финляндия, Германия'))))"
      ]
     },
     "execution_count": 126,
     "metadata": {},
     "output_type": "execute_result"
    }
   ],
   "source": [
    "dataset"
   ]
  },
  {
   "cell_type": "code",
   "execution_count": 60,
   "id": "e0dfa8e8",
   "metadata": {},
   "outputs": [],
   "source": [
    "user_embeddings, item_embeddings = model.get_vectors(dataset)"
   ]
  },
  {
   "cell_type": "code",
   "execution_count": 62,
   "id": "91a20b08",
   "metadata": {},
   "outputs": [
    {
     "data": {
      "text/plain": [
       "((756545, 34), (13963, 34))"
      ]
     },
     "execution_count": 62,
     "metadata": {},
     "output_type": "execute_result"
    }
   ],
   "source": [
    "user_embeddings.shape, item_embeddings.shape"
   ]
  },
  {
   "cell_type": "code",
   "execution_count": 63,
   "id": "3634fd78",
   "metadata": {},
   "outputs": [],
   "source": [
    "def augment_inner_product(factors):\n",
    "    normed_factors = np.linalg.norm(factors, axis=1)\n",
    "    max_norm = normed_factors.max()\n",
    "    \n",
    "    extra_dim = np.sqrt(max_norm ** 2 - normed_factors ** 2).reshape(-1, 1)\n",
    "    augmented_factors = np.append(factors, extra_dim, axis=1)\n",
    "    return max_norm, augmented_factors"
   ]
  },
  {
   "cell_type": "code",
   "execution_count": 64,
   "id": "c2668a0d",
   "metadata": {},
   "outputs": [
    {
     "name": "stdout",
     "output_type": "stream",
     "text": [
      "pre shape:  (13963, 34)\n"
     ]
    },
    {
     "data": {
      "text/plain": [
       "(13963, 35)"
      ]
     },
     "execution_count": 64,
     "metadata": {},
     "output_type": "execute_result"
    }
   ],
   "source": [
    "print('pre shape: ', item_embeddings.shape)\n",
    "max_norm, augmented_item_embeddings = augment_inner_product(item_embeddings)\n",
    "augmented_item_embeddings.shape"
   ]
  },
  {
   "cell_type": "code",
   "execution_count": 65,
   "id": "16fb4a95",
   "metadata": {},
   "outputs": [
    {
     "data": {
      "text/plain": [
       "(756545, 35)"
      ]
     },
     "execution_count": 65,
     "metadata": {},
     "output_type": "execute_result"
    }
   ],
   "source": [
    "extra_zero = np.zeros((user_embeddings.shape[0], 1))\n",
    "augmented_user_embeddings = np.append(user_embeddings, extra_zero, axis=1)\n",
    "augmented_user_embeddings.shape"
   ]
  },
  {
   "cell_type": "code",
   "execution_count": 67,
   "id": "8d3d96d3",
   "metadata": {},
   "outputs": [
    {
     "data": {
      "text/plain": [
       "array([-3.57730194e+02,  1.00000000e+00, -2.26793036e-01, -3.82283032e-02,\n",
       "       -2.24665195e-01,  2.79386699e-01,  4.53218251e-01,  7.11198449e-01,\n",
       "       -3.75804901e-01, -1.72303200e-01,  2.92628944e-01, -1.33832023e-01,\n",
       "       -2.28909120e-01, -3.57735574e-01, -3.30191135e-01,  1.64654672e-01,\n",
       "        9.00539607e-02, -4.77109384e-03, -3.73476028e-01, -3.36808801e-01,\n",
       "       -2.85889745e-01,  3.30380827e-01,  5.07512987e-02, -1.93970263e-01,\n",
       "        5.27234077e-02, -1.03786469e-01,  2.36950964e-02, -3.96105945e-01,\n",
       "       -2.38289386e-01, -4.49349046e-01,  4.56677824e-01,  1.46467835e-01,\n",
       "       -2.78142452e-01, -4.42725003e-01])"
      ]
     },
     "execution_count": 67,
     "metadata": {},
     "output_type": "execute_result"
    }
   ],
   "source": [
    "user_id = 30\n",
    "user_embeddings[user_id]"
   ]
  },
  {
   "cell_type": "code",
   "execution_count": 68,
   "id": "a3abdc5a",
   "metadata": {},
   "outputs": [
    {
     "data": {
      "text/plain": [
       "array([-3.57730194e+02,  1.00000000e+00, -2.26793036e-01, -3.82283032e-02,\n",
       "       -2.24665195e-01,  2.79386699e-01,  4.53218251e-01,  7.11198449e-01,\n",
       "       -3.75804901e-01, -1.72303200e-01,  2.92628944e-01, -1.33832023e-01,\n",
       "       -2.28909120e-01, -3.57735574e-01, -3.30191135e-01,  1.64654672e-01,\n",
       "        9.00539607e-02, -4.77109384e-03, -3.73476028e-01, -3.36808801e-01,\n",
       "       -2.85889745e-01,  3.30380827e-01,  5.07512987e-02, -1.93970263e-01,\n",
       "        5.27234077e-02, -1.03786469e-01,  2.36950964e-02, -3.96105945e-01,\n",
       "       -2.38289386e-01, -4.49349046e-01,  4.56677824e-01,  1.46467835e-01,\n",
       "       -2.78142452e-01, -4.42725003e-01,  0.00000000e+00])"
      ]
     },
     "execution_count": 68,
     "metadata": {},
     "output_type": "execute_result"
    }
   ],
   "source": [
    "augmented_user_embeddings[user_id]"
   ]
  },
  {
   "cell_type": "code",
   "execution_count": 69,
   "id": "b4d804fe",
   "metadata": {},
   "outputs": [
    {
     "data": {
      "text/plain": [
       "array([ 1.        ,  3.20644975, -0.28407601,  0.04007996, -1.09869027,\n",
       "        1.66705382,  1.70660424,  2.58876157, -1.66243601, -1.03955173,\n",
       "        1.49190485, -0.31513208, -0.32752386, -2.05019426, -0.32129809,\n",
       "        2.38546944,  2.56410718,  0.10934736, -2.01597881, -1.75085366,\n",
       "       -2.90048265,  2.37181401, -1.49925196, -1.98518109,  1.68892503,\n",
       "        0.41754866,  0.90933883, -2.91862941, -2.08309627, -2.04692388,\n",
       "        3.48958254,  1.95236182, -2.21343875, -2.94543052])"
      ]
     },
     "execution_count": 69,
     "metadata": {},
     "output_type": "execute_result"
    }
   ],
   "source": [
    "item_id = 0\n",
    "item_embeddings[item_id]"
   ]
  },
  {
   "cell_type": "code",
   "execution_count": 70,
   "id": "2e0030f1",
   "metadata": {},
   "outputs": [
    {
     "data": {
      "text/plain": [
       "array([ 1.        ,  3.20644975, -0.28407601,  0.04007996, -1.09869027,\n",
       "        1.66705382,  1.70660424,  2.58876157, -1.66243601, -1.03955173,\n",
       "        1.49190485, -0.31513208, -0.32752386, -2.05019426, -0.32129809,\n",
       "        2.38546944,  2.56410718,  0.10934736, -2.01597881, -1.75085366,\n",
       "       -2.90048265,  2.37181401, -1.49925196, -1.98518109,  1.68892503,\n",
       "        0.41754866,  0.90933883, -2.91862941, -2.08309627, -2.04692388,\n",
       "        3.48958254,  1.95236182, -2.21343875, -2.94543052,  7.11584563])"
      ]
     },
     "execution_count": 70,
     "metadata": {},
     "output_type": "execute_result"
    }
   ],
   "source": [
    "augmented_item_embeddings[item_id]"
   ]
  },
  {
   "cell_type": "code",
   "execution_count": 71,
   "id": "19104d9a",
   "metadata": {},
   "outputs": [
    {
     "name": "stdout",
     "output_type": "stream",
     "text": [
      "Index-time parameters {'M': 48, 'indexThreadQty': 4, 'efConstruction': 100, 'post': 0}\n"
     ]
    }
   ],
   "source": [
    "M = 48\n",
    "efC = 100\n",
    "\n",
    "num_threads = 4\n",
    "index_time_params = {'M': M, 'indexThreadQty': num_threads, 'efConstruction': efC, 'post' : 0}\n",
    "print('Index-time parameters', index_time_params)\n"
   ]
  },
  {
   "cell_type": "code",
   "execution_count": 76,
   "id": "3634ebbb",
   "metadata": {},
   "outputs": [
    {
     "data": {
      "text/plain": [
       "13963"
      ]
     },
     "execution_count": 76,
     "metadata": {},
     "output_type": "execute_result"
    }
   ],
   "source": [
    "K=10\n",
    "space_name='negdotprod'\n",
    "index = nmslib.init(method='hnsw', space=space_name, data_type=nmslib.DataType.DENSE_VECTOR) \n",
    "index.addDataPointBatch(augmented_item_embeddings) "
   ]
  },
  {
   "cell_type": "code",
   "execution_count": 79,
   "id": "6d423d8d",
   "metadata": {},
   "outputs": [
    {
     "name": "stdout",
     "output_type": "stream",
     "text": [
      "Index-time parameters {'M': 48, 'indexThreadQty': 4, 'efConstruction': 100}\n",
      "Indexing time = 0.282692\n"
     ]
    }
   ],
   "source": [
    "start = time.time()\n",
    "index_time_params = {'M': M, 'indexThreadQty': num_threads, 'efConstruction': efC}\n",
    "index.createIndex(index_time_params) \n",
    "end = time.time() \n",
    "print('Index-time parameters', index_time_params)\n",
    "print('Indexing time = %f' % (end-start))"
   ]
  },
  {
   "cell_type": "code",
   "execution_count": 80,
   "id": "9dc1529f",
   "metadata": {},
   "outputs": [
    {
     "name": "stdout",
     "output_type": "stream",
     "text": [
      "Setting query-time parameters {'efSearch': 100}\n"
     ]
    }
   ],
   "source": [
    "efS = 100\n",
    "query_time_params = {'efSearch': efS}\n",
    "print('Setting query-time parameters', query_time_params)\n",
    "index.setQueryTimeParams(query_time_params)"
   ]
  },
  {
   "cell_type": "code",
   "execution_count": 81,
   "id": "0fff67a2",
   "metadata": {},
   "outputs": [],
   "source": [
    "query_matrix = augmented_user_embeddings[:1000, :]"
   ]
  },
  {
   "cell_type": "code",
   "execution_count": 82,
   "id": "1cdffc65",
   "metadata": {},
   "outputs": [
    {
     "name": "stdout",
     "output_type": "stream",
     "text": [
      "kNN time total=0.023291 (sec), per query=0.000023 (sec), per query adjusted for thread number=0.000093 (sec)\n"
     ]
    }
   ],
   "source": [
    "query_qty = query_matrix.shape[0]\n",
    "start = time.time() \n",
    "nbrs = index.knnQueryBatch(query_matrix, k = K, num_threads = num_threads)\n",
    "end = time.time() \n",
    "print('kNN time total=%f (sec), per query=%f (sec), per query adjusted for thread number=%f (sec)' % \n",
    "      (end-start, float(end-start)/query_qty, num_threads*float(end-start)/query_qty)) \n"
   ]
  },
  {
   "cell_type": "code",
   "execution_count": 83,
   "id": "d94de743",
   "metadata": {},
   "outputs": [
    {
     "data": {
      "text/plain": [
       "(array([ 43,  32,  19,  62,  31, 112, 305, 188, 268, 948], dtype=int32),\n",
       " array([304.80273, 304.95447, 305.16202, 305.32443, 305.47067, 305.5135 ,\n",
       "        305.6464 , 305.6903 , 305.73453, 305.78738], dtype=float32))"
      ]
     },
     "execution_count": 83,
     "metadata": {},
     "output_type": "execute_result"
    }
   ],
   "source": [
    "nbrs[0]"
   ]
  },
  {
   "cell_type": "code",
   "execution_count": 87,
   "id": "5be5c93c",
   "metadata": {},
   "outputs": [],
   "source": [
    "def recommend_all(query_factors, index_factors, topn=10):\n",
    "    output = query_factors.dot(index_factors.T)\n",
    "    argpartition_indices = np.argpartition(output, -topn)[:, -topn:]\n",
    "\n",
    "    x_indices = np.repeat(np.arange(output.shape[0]), topn)\n",
    "    y_indices = argpartition_indices.flatten()\n",
    "    top_value = output[x_indices, y_indices].reshape(output.shape[0], topn)\n",
    "    top_indices = np.argsort(top_value)[:, ::-1]\n",
    "\n",
    "    y_indices = top_indices.flatten()\n",
    "    top_indices = argpartition_indices[x_indices, y_indices]\n",
    "    labels = top_indices.reshape(-1, topn)\n",
    "    distances = output[x_indices, top_indices].reshape(-1, topn)\n",
    "    return labels, distances\n"
   ]
  },
  {
   "cell_type": "code",
   "execution_count": 108,
   "id": "e9988091",
   "metadata": {},
   "outputs": [
    {
     "data": {
      "text/plain": [
       "array([[ 19,  31, 121,  32,  43, 268, 120,  62, 103, 173]])"
      ]
     },
     "execution_count": 108,
     "metadata": {},
     "output_type": "execute_result"
    }
   ],
   "source": [
    "labels,_  = recommend_all(user_embeddings[[], :], item_embeddings)\n",
    "labels"
   ]
  },
  {
   "cell_type": "code",
   "execution_count": 112,
   "id": "3c722149",
   "metadata": {},
   "outputs": [
    {
     "data": {
      "text/plain": [
       "array([], shape=(0, 34), dtype=float64)"
      ]
     },
     "execution_count": 112,
     "metadata": {},
     "output_type": "execute_result"
    }
   ],
   "source": [
    "user_embeddings[[], :]"
   ]
  },
  {
   "cell_type": "code",
   "execution_count": 113,
   "id": "d300a815",
   "metadata": {},
   "outputs": [
    {
     "data": {
      "text/plain": [
       "array([[-3.24551971e+02,  1.00000000e+00,  8.73963833e-02, ...,\n",
       "        -1.30321786e-01,  1.82629615e-01, -3.07083875e-01],\n",
       "       [-3.24792297e+02,  1.00000000e+00,  3.87268960e-01, ...,\n",
       "        -4.32303697e-02, -4.72983688e-01, -1.79986209e-01],\n",
       "       [-3.01102661e+02,  1.00000000e+00, -1.63965374e-01, ...,\n",
       "        -1.01540364e-01,  1.10484377e-01, -2.40944147e-01],\n",
       "       ...,\n",
       "       [-3.58453766e+02,  1.00000000e+00, -1.08767882e-01, ...,\n",
       "         2.43232936e-01, -1.24036551e-01, -4.88389194e-01],\n",
       "       [-2.99490662e+02,  1.00000000e+00, -3.04439873e-01, ...,\n",
       "        -2.42081508e-02, -3.93126070e-01, -2.91359007e-01],\n",
       "       [-3.10774689e+02,  1.00000000e+00, -2.57401466e-01, ...,\n",
       "        -3.03505287e-02, -4.26894128e-01, -3.11958164e-01]])"
      ]
     },
     "execution_count": 113,
     "metadata": {},
     "output_type": "execute_result"
    }
   ],
   "source": [
    "user_embeddings"
   ]
  },
  {
   "cell_type": "code",
   "execution_count": null,
   "id": "15d49fe7",
   "metadata": {},
   "outputs": [],
   "source": [
    "labels"
   ]
  },
  {
   "cell_type": "code",
   "execution_count": 89,
   "id": "d6c68dd7",
   "metadata": {},
   "outputs": [],
   "source": [
    "query_matrix_not_augmented = user_embeddings[:1000, :]"
   ]
  },
  {
   "cell_type": "code",
   "execution_count": 105,
   "id": "b7d9dd1f",
   "metadata": {},
   "outputs": [
    {
     "name": "stdout",
     "output_type": "stream",
     "text": [
      "[[  43   32   19 ...  188  268  948]\n",
      " [  31   19   62 ...  450   49  268]\n",
      " [  19   31  121 ...   62  103  173]\n",
      " ...\n",
      " [  31   62  358 ...    8  884   43]\n",
      " [  43   19   32 ...    8  121  164]\n",
      " [3117 5859  776 ...   43   62 1132]]\n",
      "[[  43   32   19 ...  188  268  948]\n",
      " [  31   19   62 ...  450   49  268]\n",
      " [  19   31  121 ...   62  103  173]\n",
      " ...\n",
      " [  31   62  358 ...    8  884   43]\n",
      " [  43   19   32 ...    8  121  164]\n",
      " [3117 5859  776 ...   43   62 1132]]\n",
      "[[  43   32   19 ...  188  268  948]\n",
      " [  31   19   62 ...  450   49  268]\n",
      " [  19   31  121 ...   62  103  173]\n",
      " ...\n",
      " [  31   62  358 ...    8  884   43]\n",
      " [  43   19   32 ...    8  121  164]\n",
      " [3117 5859  776 ...   43   62 1132]]\n",
      "[[  43   32   19 ...  188  268  948]\n",
      " [  31   19   62 ...  450   49  268]\n",
      " [  19   31  121 ...   62  103  173]\n",
      " ...\n",
      " [  31   62  358 ...    8  884   43]\n",
      " [  43   19   32 ...    8  121  164]\n",
      " [3117 5859  776 ...   43   62 1132]]\n",
      "[[  43   32   19 ...  188  268  948]\n",
      " [  31   19   62 ...  450   49  268]\n",
      " [  19   31  121 ...   62  103  173]\n",
      " ...\n",
      " [  31   62  358 ...    8  884   43]\n",
      " [  43   19   32 ...    8  121  164]\n",
      " [3117 5859  776 ...   43   62 1132]]\n",
      "[[  43   32   19 ...  188  268  948]\n",
      " [  31   19   62 ...  450   49  268]\n",
      " [  19   31  121 ...   62  103  173]\n",
      " ...\n",
      " [  31   62  358 ...    8  884   43]\n",
      " [  43   19   32 ...    8  121  164]\n",
      " [3117 5859  776 ...   43   62 1132]]\n",
      "[[  43   32   19 ...  188  268  948]\n",
      " [  31   19   62 ...  450   49  268]\n",
      " [  19   31  121 ...   62  103  173]\n",
      " ...\n",
      " [  31   62  358 ...    8  884   43]\n",
      " [  43   19   32 ...    8  121  164]\n",
      " [3117 5859  776 ...   43   62 1132]]\n",
      "[[  43   32   19 ...  188  268  948]\n",
      " [  31   19   62 ...  450   49  268]\n",
      " [  19   31  121 ...   62  103  173]\n",
      " ...\n",
      " [  31   62  358 ...    8  884   43]\n",
      " [  43   19   32 ...    8  121  164]\n",
      " [3117 5859  776 ...   43   62 1132]]\n",
      "207 ms ± 6.37 ms per loop (mean ± std. dev. of 7 runs, 1 loop each)\n"
     ]
    }
   ],
   "source": [
    "%%timeit\n",
    "labels,_ = recommend_all(query_matrix_not_augmented, item_embeddings)\n",
    "print(labels)"
   ]
  },
  {
   "cell_type": "code",
   "execution_count": 92,
   "id": "904846a6",
   "metadata": {},
   "outputs": [
    {
     "data": {
      "text/plain": [
       "((1000, 34), (756545, 34))"
      ]
     },
     "execution_count": 92,
     "metadata": {},
     "output_type": "execute_result"
    }
   ],
   "source": [
    "item_embeddings[:1000, :].shape, user_embeddings.shape"
   ]
  },
  {
   "cell_type": "code",
   "execution_count": 93,
   "id": "d6027ae4",
   "metadata": {},
   "outputs": [
    {
     "name": "stdout",
     "output_type": "stream",
     "text": [
      "7.88 ms ± 368 µs per loop (mean ± std. dev. of 7 runs, 100 loops each)\n"
     ]
    }
   ],
   "source": [
    "%%timeit\n",
    "index.knnQueryBatch(query_matrix, k = K, num_threads = num_threads)"
   ]
  },
  {
   "cell_type": "code",
   "execution_count": 96,
   "id": "901b82c3",
   "metadata": {},
   "outputs": [
    {
     "name": "stdout",
     "output_type": "stream",
     "text": [
      "Collecting hnswlib\n",
      "  Downloading hnswlib-0.6.2.tar.gz (31 kB)\n",
      "  Installing build dependencies ... \u001b[?25ldone\n",
      "\u001b[?25h  Getting requirements to build wheel ... \u001b[?25ldone\n",
      "\u001b[?25h    Preparing wheel metadata ... \u001b[?25ldone\n",
      "\u001b[?25hRequirement already satisfied: numpy in /home/rezarayev/anaconda3/lib/python3.8/site-packages (from hnswlib) (1.22.2)\n",
      "Building wheels for collected packages: hnswlib\n",
      "  Building wheel for hnswlib (PEP 517) ... \u001b[?25ldone\n",
      "\u001b[?25h  Created wheel for hnswlib: filename=hnswlib-0.6.2-cp38-cp38-linux_x86_64.whl size=2038858 sha256=51c4c2849d71105958f418c5961215d8cac3027e3f96cab05899827043a3d43d\n",
      "  Stored in directory: /home/rezarayev/.cache/pip/wheels/74/3b/89/4bd924865709f24ac2df457bcca4c0b55a3eb89c5a94ce3ce8\n",
      "Successfully built hnswlib\n",
      "\u001b[33mWARNING: Error parsing requirements for pybind11: [Errno 2] Нет такого файла или каталога: '/home/rezarayev/anaconda3/lib/python3.8/site-packages/pybind11-2.9.2.dist-info/METADATA'\u001b[0m\n",
      "Installing collected packages: hnswlib\n",
      "Successfully installed hnswlib-0.6.2\n",
      "Note: you may need to restart the kernel to use updated packages.\n"
     ]
    }
   ],
   "source": [
    "pip install hnswlib"
   ]
  },
  {
   "cell_type": "code",
   "execution_count": 103,
   "id": "e6b0be91",
   "metadata": {},
   "outputs": [
    {
     "name": "stdout",
     "output_type": "stream",
     "text": [
      "[[  43   32   19 ...  188  268  948]\n",
      " [  31   19   62 ...  450   49  268]\n",
      " [  19   31  121 ...   62  103  173]\n",
      " ...\n",
      " [  31   62  358 ...    8  884   43]\n",
      " [  43   19   32 ...    8  121  164]\n",
      " [3117 5859  776 ...   43   62 1132]]\n",
      "[[-304.80272148 -304.95450166 -305.1620535  ... -305.69031591\n",
      "  -305.73454442 -305.7874324 ]\n",
      " [-311.19933349 -311.44323422 -311.45526998 ... -312.0948194\n",
      "  -312.21820321 -312.23901463]\n",
      " [-284.3956498  -284.45770448 -284.96237912 ... -285.29546382\n",
      "  -285.36598349 -285.41208658]\n",
      " ...\n",
      " [-332.37278335 -332.85525963 -332.98405066 ... -333.36833688\n",
      "  -333.44008879 -333.48889785]\n",
      " [-302.10402324 -302.13324433 -302.3124104  ... -302.86405908\n",
      "  -302.88296188 -303.00234271]\n",
      " [  14.88806505   14.41715752   14.1114468  ...   13.71272978\n",
      "    13.68271151   13.6242354 ]]\n"
     ]
    }
   ],
   "source": [
    "labels, distances = recommend_all(user_embeddings[:1000, :], item_embeddings)\n",
    "print(labels)\n",
    "print(distances)"
   ]
  },
  {
   "cell_type": "code",
   "execution_count": null,
   "id": "77fedf20",
   "metadata": {},
   "outputs": [],
   "source": []
  }
 ],
 "metadata": {
  "kernelspec": {
   "display_name": "Python 3 (ipykernel)",
   "language": "python",
   "name": "python3"
  },
  "language_info": {
   "codemirror_mode": {
    "name": "ipython",
    "version": 3
   },
   "file_extension": ".py",
   "mimetype": "text/x-python",
   "name": "python",
   "nbconvert_exporter": "python",
   "pygments_lexer": "ipython3",
   "version": "3.8.8"
  }
 },
 "nbformat": 4,
 "nbformat_minor": 5
}
