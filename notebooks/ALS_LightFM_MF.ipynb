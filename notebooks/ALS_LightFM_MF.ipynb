{
 "cells": [
  {
   "cell_type": "markdown",
   "id": "7322c9ec",
   "metadata": {},
   "source": [
    "# Домашнее задание\n",
    "\n",
    "Домашнее задание состоит из нескольких блоков.\n",
    "\n",
    "\n",
    "## Эксперименты в ipynb ноутбуках (15 баллов)\n",
    "- Необходимо будет перебрать $N$ моделей $(N \\geq 2)$ матричной факторизации и перебрать у них $K$ гиперпараметров $(K \\geq 2)$ **(6 баллов)**\n",
    "    - Для перебора гиперпараметров можно использовать [`Optuna`](https://github.com/optuna/optuna), [`Hyperopt`](https://github.com/hyperopt/hyperopt)\n",
    "- Воспользоваться методом приближенного поиска соседей для выдачи рекомендаций. **(3 балла)**\n",
    "    - Можно использовать любые удобные: [`Annoy`](https://github.com/spotify/annoy), [`nmslib`](https://github.com/nmslib/nmslib) и.т.д\n",
    "- Добавить 3 \"аватаров\" (искусственных пользователей) и посмотреть рекомендации итоговой модели на них. Объяснить почему добавили именно таких пользователей. **(3 балла)**\n",
    "- Придумать как можно обработать рекомендации для холодных пользователей. **(3 балла)**\n",
    "\n",
    "Примечание: за невоспроизводимый код в ноутбуках (например, нарушен порядок выполнения ячеек, вызываются переменные, которые нигде не были объявлены ранее и.т.п) будут штрафы на усмотрение проверяющего.\n",
    "\n",
    "\n",
    "## Реализация итоговой модели в сервисе (10 баллов)\n",
    "- Пробитие бейзлайна $MAP@10 \\geq 0.074921$ **(6 баллов)**\n",
    "- Код сервиса соответствует критериям читаемости и воспроизводимости **(4 балла)**"
   ]
  },
  {
   "cell_type": "code",
   "execution_count": 1,
   "id": "7780d9a2",
   "metadata": {},
   "outputs": [],
   "source": [
    "import warnings\n",
    "warnings.filterwarnings('ignore')"
   ]
  },
  {
   "cell_type": "code",
   "execution_count": 2,
   "id": "6e60b1cf",
   "metadata": {},
   "outputs": [],
   "source": [
    "# import sys\n",
    "# !{sys.executable} -m pip install rectools=0.3.0"
   ]
  },
  {
   "cell_type": "code",
   "execution_count": 3,
   "id": "e42a5585",
   "metadata": {},
   "outputs": [],
   "source": [
    "import os\n",
    "import time\n",
    "from pathlib import Path\n",
    "\n",
    "import numpy as np\n",
    "import optuna\n",
    "import pandas as pd\n",
    "\n",
    "# import nmslib\n",
    "from implicit.als import AlternatingLeastSquares\n",
    "from lightfm import LightFM\n",
    "from rectools import Columns\n",
    "from rectools.dataset import Dataset\n",
    "from rectools.metrics import MAP, Precision, Recall, calc_metrics\n",
    "from rectools.models import ImplicitALSWrapperModel, LightFMWrapperModel"
   ]
  },
  {
   "cell_type": "code",
   "execution_count": 4,
   "id": "46bfbe38",
   "metadata": {},
   "outputs": [
    {
     "data": {
      "text/plain": [
       "'item_id'"
      ]
     },
     "execution_count": 4,
     "metadata": {},
     "output_type": "execute_result"
    }
   ],
   "source": [
    "Columns.Item"
   ]
  },
  {
   "cell_type": "code",
   "execution_count": 3,
   "id": "8cd36e1a",
   "metadata": {},
   "outputs": [],
   "source": [
    "os.environ['OPENBLAS_NUM_THREADS'] = \"1\"\n",
    "Columns.Datetime = 'last_watch_dt'\n",
    "DATA_PATH = Path(\"../data/kion_train/\")"
   ]
  },
  {
   "cell_type": "code",
   "execution_count": 4,
   "id": "8195e56b",
   "metadata": {},
   "outputs": [
    {
     "name": "stdout",
     "output_type": "stream",
     "text": [
      "CPU times: user 2.23 s, sys: 464 ms, total: 2.69 s\n",
      "Wall time: 2.9 s\n"
     ]
    }
   ],
   "source": [
    "%%time\n",
    "users = pd.read_csv(DATA_PATH / 'users.csv')\n",
    "items = pd.read_csv(DATA_PATH / 'items.csv')\n",
    "interactions = pd.read_csv(DATA_PATH / 'interactions.csv')"
   ]
  },
  {
   "cell_type": "markdown",
   "id": "00b5584e",
   "metadata": {},
   "source": [
    "# Preprocess Interactions"
   ]
  },
  {
   "cell_type": "code",
   "execution_count": 5,
   "id": "0a3b4b12",
   "metadata": {},
   "outputs": [
    {
     "data": {
      "text/html": [
       "<div>\n",
       "<style scoped>\n",
       "    .dataframe tbody tr th:only-of-type {\n",
       "        vertical-align: middle;\n",
       "    }\n",
       "\n",
       "    .dataframe tbody tr th {\n",
       "        vertical-align: top;\n",
       "    }\n",
       "\n",
       "    .dataframe thead th {\n",
       "        text-align: right;\n",
       "    }\n",
       "</style>\n",
       "<table border=\"1\" class=\"dataframe\">\n",
       "  <thead>\n",
       "    <tr style=\"text-align: right;\">\n",
       "      <th></th>\n",
       "      <th>user_id</th>\n",
       "      <th>item_id</th>\n",
       "      <th>last_watch_dt</th>\n",
       "      <th>total_dur</th>\n",
       "      <th>watched_pct</th>\n",
       "    </tr>\n",
       "  </thead>\n",
       "  <tbody>\n",
       "    <tr>\n",
       "      <th>0</th>\n",
       "      <td>176549</td>\n",
       "      <td>9506</td>\n",
       "      <td>2021-05-11</td>\n",
       "      <td>4250</td>\n",
       "      <td>72.0</td>\n",
       "    </tr>\n",
       "    <tr>\n",
       "      <th>1</th>\n",
       "      <td>699317</td>\n",
       "      <td>1659</td>\n",
       "      <td>2021-05-29</td>\n",
       "      <td>8317</td>\n",
       "      <td>100.0</td>\n",
       "    </tr>\n",
       "    <tr>\n",
       "      <th>2</th>\n",
       "      <td>656683</td>\n",
       "      <td>7107</td>\n",
       "      <td>2021-05-09</td>\n",
       "      <td>10</td>\n",
       "      <td>0.0</td>\n",
       "    </tr>\n",
       "    <tr>\n",
       "      <th>3</th>\n",
       "      <td>864613</td>\n",
       "      <td>7638</td>\n",
       "      <td>2021-07-05</td>\n",
       "      <td>14483</td>\n",
       "      <td>100.0</td>\n",
       "    </tr>\n",
       "    <tr>\n",
       "      <th>4</th>\n",
       "      <td>964868</td>\n",
       "      <td>9506</td>\n",
       "      <td>2021-04-30</td>\n",
       "      <td>6725</td>\n",
       "      <td>100.0</td>\n",
       "    </tr>\n",
       "  </tbody>\n",
       "</table>\n",
       "</div>"
      ],
      "text/plain": [
       "   user_id  item_id last_watch_dt  total_dur  watched_pct\n",
       "0   176549     9506    2021-05-11       4250         72.0\n",
       "1   699317     1659    2021-05-29       8317        100.0\n",
       "2   656683     7107    2021-05-09         10          0.0\n",
       "3   864613     7638    2021-07-05      14483        100.0\n",
       "4   964868     9506    2021-04-30       6725        100.0"
      ]
     },
     "execution_count": 5,
     "metadata": {},
     "output_type": "execute_result"
    }
   ],
   "source": [
    "interactions.head(5)"
   ]
  },
  {
   "cell_type": "code",
   "execution_count": 6,
   "id": "260b1c48",
   "metadata": {},
   "outputs": [
    {
     "data": {
      "text/plain": [
       "user_id            int64\n",
       "item_id            int64\n",
       "last_watch_dt     object\n",
       "total_dur          int64\n",
       "watched_pct      float64\n",
       "dtype: object"
      ]
     },
     "execution_count": 6,
     "metadata": {},
     "output_type": "execute_result"
    }
   ],
   "source": [
    "interactions.dtypes"
   ]
  },
  {
   "cell_type": "code",
   "execution_count": 7,
   "id": "fe2dbc06",
   "metadata": {},
   "outputs": [
    {
     "data": {
      "text/plain": [
       "user_id            0\n",
       "item_id            0\n",
       "last_watch_dt      0\n",
       "total_dur          0\n",
       "watched_pct      828\n",
       "dtype: int64"
      ]
     },
     "execution_count": 7,
     "metadata": {},
     "output_type": "execute_result"
    }
   ],
   "source": [
    "# Количество пустых значений в каждой колонке\n",
    "interactions.isna().sum()"
   ]
  },
  {
   "cell_type": "code",
   "execution_count": 8,
   "id": "71f61e81",
   "metadata": {},
   "outputs": [],
   "source": [
    "interactions[Columns.Datetime] = pd.to_datetime(interactions[Columns.Datetime], format='%Y-%m-%d')\n",
    "interactions.dropna(inplace=True)"
   ]
  },
  {
   "cell_type": "code",
   "execution_count": 9,
   "id": "f98ae95d",
   "metadata": {},
   "outputs": [
    {
     "data": {
      "image/png": "[encoded data removed]",
      "text/plain": [
       "<Figure size 640x480 with 1 Axes>"
      ]
     },
     "metadata": {},
     "output_type": "display_data"
    }
   ],
   "source": [
    "interactions['watched_pct'].hist(bins=20);"
   ]
  },
  {
   "cell_type": "code",
   "execution_count": 10,
   "id": "aa7af6a8",
   "metadata": {},
   "outputs": [
    {
     "data": {
      "text/html": [
       "<div>\n",
       "<style scoped>\n",
       "    .dataframe tbody tr th:only-of-type {\n",
       "        vertical-align: middle;\n",
       "    }\n",
       "\n",
       "    .dataframe tbody tr th {\n",
       "        vertical-align: top;\n",
       "    }\n",
       "\n",
       "    .dataframe thead th {\n",
       "        text-align: right;\n",
       "    }\n",
       "</style>\n",
       "<table border=\"1\" class=\"dataframe\">\n",
       "  <thead>\n",
       "    <tr style=\"text-align: right;\">\n",
       "      <th></th>\n",
       "      <th>user_id</th>\n",
       "      <th>item_id</th>\n",
       "      <th>last_watch_dt</th>\n",
       "      <th>total_dur</th>\n",
       "      <th>watched_pct</th>\n",
       "    </tr>\n",
       "  </thead>\n",
       "  <tbody>\n",
       "    <tr>\n",
       "      <th>0</th>\n",
       "      <td>176549</td>\n",
       "      <td>9506</td>\n",
       "      <td>2021-05-11</td>\n",
       "      <td>4250</td>\n",
       "      <td>72.0</td>\n",
       "    </tr>\n",
       "    <tr>\n",
       "      <th>1</th>\n",
       "      <td>699317</td>\n",
       "      <td>1659</td>\n",
       "      <td>2021-05-29</td>\n",
       "      <td>8317</td>\n",
       "      <td>100.0</td>\n",
       "    </tr>\n",
       "    <tr>\n",
       "      <th>2</th>\n",
       "      <td>656683</td>\n",
       "      <td>7107</td>\n",
       "      <td>2021-05-09</td>\n",
       "      <td>10</td>\n",
       "      <td>0.0</td>\n",
       "    </tr>\n",
       "    <tr>\n",
       "      <th>3</th>\n",
       "      <td>864613</td>\n",
       "      <td>7638</td>\n",
       "      <td>2021-07-05</td>\n",
       "      <td>14483</td>\n",
       "      <td>100.0</td>\n",
       "    </tr>\n",
       "    <tr>\n",
       "      <th>4</th>\n",
       "      <td>964868</td>\n",
       "      <td>9506</td>\n",
       "      <td>2021-04-30</td>\n",
       "      <td>6725</td>\n",
       "      <td>100.0</td>\n",
       "    </tr>\n",
       "    <tr>\n",
       "      <th>...</th>\n",
       "      <td>...</td>\n",
       "      <td>...</td>\n",
       "      <td>...</td>\n",
       "      <td>...</td>\n",
       "      <td>...</td>\n",
       "    </tr>\n",
       "    <tr>\n",
       "      <th>5476246</th>\n",
       "      <td>648596</td>\n",
       "      <td>12225</td>\n",
       "      <td>2021-08-13</td>\n",
       "      <td>76</td>\n",
       "      <td>0.0</td>\n",
       "    </tr>\n",
       "    <tr>\n",
       "      <th>5476247</th>\n",
       "      <td>546862</td>\n",
       "      <td>9673</td>\n",
       "      <td>2021-04-13</td>\n",
       "      <td>2308</td>\n",
       "      <td>49.0</td>\n",
       "    </tr>\n",
       "    <tr>\n",
       "      <th>5476248</th>\n",
       "      <td>697262</td>\n",
       "      <td>15297</td>\n",
       "      <td>2021-08-20</td>\n",
       "      <td>18307</td>\n",
       "      <td>63.0</td>\n",
       "    </tr>\n",
       "    <tr>\n",
       "      <th>5476249</th>\n",
       "      <td>384202</td>\n",
       "      <td>16197</td>\n",
       "      <td>2021-04-19</td>\n",
       "      <td>6203</td>\n",
       "      <td>100.0</td>\n",
       "    </tr>\n",
       "    <tr>\n",
       "      <th>5476250</th>\n",
       "      <td>319709</td>\n",
       "      <td>4436</td>\n",
       "      <td>2021-08-15</td>\n",
       "      <td>3921</td>\n",
       "      <td>45.0</td>\n",
       "    </tr>\n",
       "  </tbody>\n",
       "</table>\n",
       "<p>5475423 rows × 5 columns</p>\n",
       "</div>"
      ],
      "text/plain": [
       "         user_id  item_id last_watch_dt  total_dur  watched_pct\n",
       "0         176549     9506    2021-05-11       4250         72.0\n",
       "1         699317     1659    2021-05-29       8317        100.0\n",
       "2         656683     7107    2021-05-09         10          0.0\n",
       "3         864613     7638    2021-07-05      14483        100.0\n",
       "4         964868     9506    2021-04-30       6725        100.0\n",
       "...          ...      ...           ...        ...          ...\n",
       "5476246   648596    12225    2021-08-13         76          0.0\n",
       "5476247   546862     9673    2021-04-13       2308         49.0\n",
       "5476248   697262    15297    2021-08-20      18307         63.0\n",
       "5476249   384202    16197    2021-04-19       6203        100.0\n",
       "5476250   319709     4436    2021-08-15       3921         45.0\n",
       "\n",
       "[5475423 rows x 5 columns]"
      ]
     },
     "execution_count": 10,
     "metadata": {},
     "output_type": "execute_result"
    }
   ],
   "source": [
    "interactions"
   ]
  },
  {
   "cell_type": "markdown",
   "id": "1a0ad9f8",
   "metadata": {},
   "source": [
    "Разбиваем длительность просмотра на 5 частей, где:\n",
    " - от 0% до 20%  = 1,\n",
    " - от 21% до 40% = 2,\n",
    " - ... ,\n",
    " - от 80% до 100% = 5"
   ]
  },
  {
   "cell_type": "code",
   "execution_count": 11,
   "id": "1424e744",
   "metadata": {},
   "outputs": [],
   "source": [
    "interactions[Columns.Weight] = pd.cut(\n",
    "    x=interactions['watched_pct'],\n",
    "    bins=5,\n",
    "    labels=[1, 2, 3, 4, 5]\n",
    ")"
   ]
  },
  {
   "cell_type": "code",
   "execution_count": 12,
   "id": "052d2fb0",
   "metadata": {},
   "outputs": [
    {
     "data": {
      "image/png": "[encoded data removed]",
      "text/plain": [
       "<Figure size 640x480 with 1 Axes>"
      ]
     },
     "metadata": {},
     "output_type": "display_data"
    }
   ],
   "source": [
    "interactions[Columns.Datetime].hist(bins=20);"
   ]
  },
  {
   "cell_type": "markdown",
   "id": "5adb80ee",
   "metadata": {},
   "source": [
    "Видно, что кол-во пользователей растет"
   ]
  },
  {
   "cell_type": "code",
   "execution_count": 13,
   "id": "0fbd2bbc",
   "metadata": {},
   "outputs": [],
   "source": [
    "cold_users = interactions[Columns.User].value_counts()\n",
    "cold_users = cold_users[cold_users < 3].index"
   ]
  },
  {
   "cell_type": "code",
   "execution_count": 14,
   "id": "150e1593",
   "metadata": {},
   "outputs": [
    {
     "data": {
      "image/png": "[encoded data removed]",
      "text/plain": [
       "<Figure size 640x480 with 1 Axes>"
      ]
     },
     "metadata": {},
     "output_type": "display_data"
    }
   ],
   "source": [
    "interactions[interactions[Columns.User].isin(cold_users)]['watched_pct'].hist(bins=20);"
   ]
  },
  {
   "cell_type": "markdown",
   "id": "b5fa83eb",
   "metadata": {},
   "source": [
    "Для холодных пользователей, мы бы рекомендовали айтемы с самый высоким просмотром в среднем по холодным пользователям"
   ]
  },
  {
   "cell_type": "code",
   "execution_count": 15,
   "id": "cca06e3f",
   "metadata": {},
   "outputs": [],
   "source": [
    "cold_users_interactions = interactions[interactions[Columns.User].isin(cold_users)]\n",
    "hot_users_interactions = interactions[~interactions[Columns.User].isin(cold_users)]"
   ]
  },
  {
   "cell_type": "code",
   "execution_count": 16,
   "id": "422d0455",
   "metadata": {},
   "outputs": [
    {
     "name": "stdout",
     "output_type": "stream",
     "text": [
      "shape cold_users_interactions - 650696\n"
     ]
    },
    {
     "data": {
      "text/html": [
       "<div>\n",
       "<style scoped>\n",
       "    .dataframe tbody tr th:only-of-type {\n",
       "        vertical-align: middle;\n",
       "    }\n",
       "\n",
       "    .dataframe tbody tr th {\n",
       "        vertical-align: top;\n",
       "    }\n",
       "\n",
       "    .dataframe thead th {\n",
       "        text-align: right;\n",
       "    }\n",
       "</style>\n",
       "<table border=\"1\" class=\"dataframe\">\n",
       "  <thead>\n",
       "    <tr style=\"text-align: right;\">\n",
       "      <th></th>\n",
       "      <th>user_id</th>\n",
       "      <th>item_id</th>\n",
       "      <th>last_watch_dt</th>\n",
       "      <th>total_dur</th>\n",
       "      <th>watched_pct</th>\n",
       "      <th>weight</th>\n",
       "    </tr>\n",
       "  </thead>\n",
       "  <tbody>\n",
       "    <tr>\n",
       "      <th>10</th>\n",
       "      <td>791466</td>\n",
       "      <td>8199</td>\n",
       "      <td>2021-07-27</td>\n",
       "      <td>713</td>\n",
       "      <td>9.0</td>\n",
       "      <td>1</td>\n",
       "    </tr>\n",
       "    <tr>\n",
       "      <th>16</th>\n",
       "      <td>646903</td>\n",
       "      <td>16228</td>\n",
       "      <td>2021-07-23</td>\n",
       "      <td>57375</td>\n",
       "      <td>46.0</td>\n",
       "      <td>3</td>\n",
       "    </tr>\n",
       "    <tr>\n",
       "      <th>22</th>\n",
       "      <td>505244</td>\n",
       "      <td>15297</td>\n",
       "      <td>2021-08-15</td>\n",
       "      <td>15991</td>\n",
       "      <td>63.0</td>\n",
       "      <td>4</td>\n",
       "    </tr>\n",
       "    <tr>\n",
       "      <th>26</th>\n",
       "      <td>181144</td>\n",
       "      <td>10440</td>\n",
       "      <td>2021-08-08</td>\n",
       "      <td>27408</td>\n",
       "      <td>40.0</td>\n",
       "      <td>2</td>\n",
       "    </tr>\n",
       "    <tr>\n",
       "      <th>37</th>\n",
       "      <td>161176</td>\n",
       "      <td>10440</td>\n",
       "      <td>2021-07-29</td>\n",
       "      <td>22</td>\n",
       "      <td>0.0</td>\n",
       "      <td>1</td>\n",
       "    </tr>\n",
       "  </tbody>\n",
       "</table>\n",
       "</div>"
      ],
      "text/plain": [
       "    user_id  item_id last_watch_dt  total_dur  watched_pct weight\n",
       "10   791466     8199    2021-07-27        713          9.0      1\n",
       "16   646903    16228    2021-07-23      57375         46.0      3\n",
       "22   505244    15297    2021-08-15      15991         63.0      4\n",
       "26   181144    10440    2021-08-08      27408         40.0      2\n",
       "37   161176    10440    2021-07-29         22          0.0      1"
      ]
     },
     "execution_count": 16,
     "metadata": {},
     "output_type": "execute_result"
    }
   ],
   "source": [
    "print('shape cold_users_interactions -', cold_users_interactions.shape[0])\n",
    "cold_users_interactions.head()"
   ]
  },
  {
   "cell_type": "code",
   "execution_count": 17,
   "id": "a691676f",
   "metadata": {},
   "outputs": [
    {
     "name": "stdout",
     "output_type": "stream",
     "text": [
      "shape hot_users_interactions - 4824727\n"
     ]
    },
    {
     "data": {
      "text/html": [
       "<div>\n",
       "<style scoped>\n",
       "    .dataframe tbody tr th:only-of-type {\n",
       "        vertical-align: middle;\n",
       "    }\n",
       "\n",
       "    .dataframe tbody tr th {\n",
       "        vertical-align: top;\n",
       "    }\n",
       "\n",
       "    .dataframe thead th {\n",
       "        text-align: right;\n",
       "    }\n",
       "</style>\n",
       "<table border=\"1\" class=\"dataframe\">\n",
       "  <thead>\n",
       "    <tr style=\"text-align: right;\">\n",
       "      <th></th>\n",
       "      <th>user_id</th>\n",
       "      <th>item_id</th>\n",
       "      <th>last_watch_dt</th>\n",
       "      <th>total_dur</th>\n",
       "      <th>watched_pct</th>\n",
       "      <th>weight</th>\n",
       "    </tr>\n",
       "  </thead>\n",
       "  <tbody>\n",
       "    <tr>\n",
       "      <th>0</th>\n",
       "      <td>176549</td>\n",
       "      <td>9506</td>\n",
       "      <td>2021-05-11</td>\n",
       "      <td>4250</td>\n",
       "      <td>72.0</td>\n",
       "      <td>4</td>\n",
       "    </tr>\n",
       "    <tr>\n",
       "      <th>1</th>\n",
       "      <td>699317</td>\n",
       "      <td>1659</td>\n",
       "      <td>2021-05-29</td>\n",
       "      <td>8317</td>\n",
       "      <td>100.0</td>\n",
       "      <td>5</td>\n",
       "    </tr>\n",
       "    <tr>\n",
       "      <th>2</th>\n",
       "      <td>656683</td>\n",
       "      <td>7107</td>\n",
       "      <td>2021-05-09</td>\n",
       "      <td>10</td>\n",
       "      <td>0.0</td>\n",
       "      <td>1</td>\n",
       "    </tr>\n",
       "    <tr>\n",
       "      <th>3</th>\n",
       "      <td>864613</td>\n",
       "      <td>7638</td>\n",
       "      <td>2021-07-05</td>\n",
       "      <td>14483</td>\n",
       "      <td>100.0</td>\n",
       "      <td>5</td>\n",
       "    </tr>\n",
       "    <tr>\n",
       "      <th>4</th>\n",
       "      <td>964868</td>\n",
       "      <td>9506</td>\n",
       "      <td>2021-04-30</td>\n",
       "      <td>6725</td>\n",
       "      <td>100.0</td>\n",
       "      <td>5</td>\n",
       "    </tr>\n",
       "  </tbody>\n",
       "</table>\n",
       "</div>"
      ],
      "text/plain": [
       "   user_id  item_id last_watch_dt  total_dur  watched_pct weight\n",
       "0   176549     9506    2021-05-11       4250         72.0      4\n",
       "1   699317     1659    2021-05-29       8317        100.0      5\n",
       "2   656683     7107    2021-05-09         10          0.0      1\n",
       "3   864613     7638    2021-07-05      14483        100.0      5\n",
       "4   964868     9506    2021-04-30       6725        100.0      5"
      ]
     },
     "execution_count": 17,
     "metadata": {},
     "output_type": "execute_result"
    }
   ],
   "source": [
    "print('shape hot_users_interactions -', hot_users_interactions.shape[0])\n",
    "hot_users_interactions.head()"
   ]
  },
  {
   "cell_type": "code",
   "execution_count": 18,
   "id": "a64701c2",
   "metadata": {},
   "outputs": [
    {
     "data": {
      "text/html": [
       "<div>\n",
       "<style scoped>\n",
       "    .dataframe tbody tr th:only-of-type {\n",
       "        vertical-align: middle;\n",
       "    }\n",
       "\n",
       "    .dataframe tbody tr th {\n",
       "        vertical-align: top;\n",
       "    }\n",
       "\n",
       "    .dataframe thead th {\n",
       "        text-align: right;\n",
       "    }\n",
       "</style>\n",
       "<table border=\"1\" class=\"dataframe\">\n",
       "  <thead>\n",
       "    <tr style=\"text-align: right;\">\n",
       "      <th></th>\n",
       "      <th>item_id</th>\n",
       "    </tr>\n",
       "  </thead>\n",
       "  <tbody>\n",
       "    <tr>\n",
       "      <th>10440</th>\n",
       "      <td>69181</td>\n",
       "    </tr>\n",
       "    <tr>\n",
       "      <th>15297</th>\n",
       "      <td>64307</td>\n",
       "    </tr>\n",
       "    <tr>\n",
       "      <th>9728</th>\n",
       "      <td>28294</td>\n",
       "    </tr>\n",
       "    <tr>\n",
       "      <th>2657</th>\n",
       "      <td>25592</td>\n",
       "    </tr>\n",
       "    <tr>\n",
       "      <th>13865</th>\n",
       "      <td>22653</td>\n",
       "    </tr>\n",
       "  </tbody>\n",
       "</table>\n",
       "</div>"
      ],
      "text/plain": [
       "       item_id\n",
       "10440    69181\n",
       "15297    64307\n",
       "9728     28294\n",
       "2657     25592\n",
       "13865    22653"
      ]
     },
     "execution_count": 18,
     "metadata": {},
     "output_type": "execute_result"
    }
   ],
   "source": [
    "cold_users_interactions['item_id'].value_counts().to_frame().head()"
   ]
  },
  {
   "cell_type": "code",
   "execution_count": 19,
   "id": "cef9cfa6",
   "metadata": {},
   "outputs": [
    {
     "data": {
      "text/plain": [
       "Int64Index([609, 3825, 4895, 5069, 2271, 11566, 13390, 9954, 5733, 7434], dtype='int64', name='item_id')"
      ]
     },
     "execution_count": 19,
     "metadata": {},
     "output_type": "execute_result"
    }
   ],
   "source": [
    "(\n",
    "    cold_users_interactions[['item_id', 'total_dur']]\n",
    "    .groupby('item_id')\n",
    "    .mean()\n",
    "    .sort_values(by='total_dur', ascending=False)\n",
    "    .head(10)\n",
    "    .index\n",
    ")"
   ]
  },
  {
   "cell_type": "markdown",
   "id": "a52f311b",
   "metadata": {},
   "source": [
    "# Делим на train и test"
   ]
  },
  {
   "cell_type": "code",
   "execution_count": 20,
   "id": "bd68d3fe",
   "metadata": {},
   "outputs": [],
   "source": [
    "max_date = hot_users_interactions[Columns.Datetime].max()"
   ]
  },
  {
   "cell_type": "code",
   "execution_count": 21,
   "id": "3092fe4b",
   "metadata": {},
   "outputs": [
    {
     "name": "stdout",
     "output_type": "stream",
     "text": [
      "train: (4984443, 6)\n",
      "test: (490980, 6)\n"
     ]
    }
   ],
   "source": [
    "train = interactions[interactions[Columns.Datetime] < max_date - pd.Timedelta(days=7)].copy()\n",
    "test = interactions[interactions[Columns.Datetime] >= max_date - pd.Timedelta(days=7)].copy()\n",
    "\n",
    "print(f\"train: {train.shape}\")\n",
    "print(f\"test: {test.shape}\")"
   ]
  },
  {
   "cell_type": "code",
   "execution_count": 22,
   "id": "ec286bdc",
   "metadata": {},
   "outputs": [],
   "source": [
    "train.drop(train.query(\"total_dur < 300\").index, inplace=True)"
   ]
  },
  {
   "cell_type": "code",
   "execution_count": 23,
   "id": "c32fcaae",
   "metadata": {},
   "outputs": [],
   "source": [
    "drop_user = set(test[Columns.User]) - set(train[Columns.User])"
   ]
  },
  {
   "cell_type": "code",
   "execution_count": 24,
   "id": "7183cb6f",
   "metadata": {},
   "outputs": [],
   "source": [
    "test.drop(test[test[Columns.User].isin(drop_user)].index, inplace=True)"
   ]
  },
  {
   "cell_type": "code",
   "execution_count": 25,
   "id": "1ff85593",
   "metadata": {},
   "outputs": [
    {
     "data": {
      "text/html": [
       "<div>\n",
       "<style scoped>\n",
       "    .dataframe tbody tr th:only-of-type {\n",
       "        vertical-align: middle;\n",
       "    }\n",
       "\n",
       "    .dataframe tbody tr th {\n",
       "        vertical-align: top;\n",
       "    }\n",
       "\n",
       "    .dataframe thead th {\n",
       "        text-align: right;\n",
       "    }\n",
       "</style>\n",
       "<table border=\"1\" class=\"dataframe\">\n",
       "  <thead>\n",
       "    <tr style=\"text-align: right;\">\n",
       "      <th></th>\n",
       "      <th>user_id</th>\n",
       "      <th>item_id</th>\n",
       "      <th>last_watch_dt</th>\n",
       "      <th>total_dur</th>\n",
       "      <th>watched_pct</th>\n",
       "      <th>weight</th>\n",
       "    </tr>\n",
       "  </thead>\n",
       "  <tbody>\n",
       "    <tr>\n",
       "      <th>9</th>\n",
       "      <td>203219</td>\n",
       "      <td>13582</td>\n",
       "      <td>2021-08-22</td>\n",
       "      <td>6975</td>\n",
       "      <td>100.0</td>\n",
       "      <td>5</td>\n",
       "    </tr>\n",
       "    <tr>\n",
       "      <th>54</th>\n",
       "      <td>200197</td>\n",
       "      <td>9335</td>\n",
       "      <td>2021-08-16</td>\n",
       "      <td>83</td>\n",
       "      <td>2.0</td>\n",
       "      <td>1</td>\n",
       "    </tr>\n",
       "    <tr>\n",
       "      <th>64</th>\n",
       "      <td>73446</td>\n",
       "      <td>14488</td>\n",
       "      <td>2021-08-19</td>\n",
       "      <td>6011</td>\n",
       "      <td>100.0</td>\n",
       "      <td>5</td>\n",
       "    </tr>\n",
       "    <tr>\n",
       "      <th>84</th>\n",
       "      <td>10010</td>\n",
       "      <td>512</td>\n",
       "      <td>2021-08-15</td>\n",
       "      <td>14</td>\n",
       "      <td>0.0</td>\n",
       "      <td>1</td>\n",
       "    </tr>\n",
       "    <tr>\n",
       "      <th>94</th>\n",
       "      <td>890735</td>\n",
       "      <td>14200</td>\n",
       "      <td>2021-08-16</td>\n",
       "      <td>1179</td>\n",
       "      <td>28.0</td>\n",
       "      <td>2</td>\n",
       "    </tr>\n",
       "    <tr>\n",
       "      <th>...</th>\n",
       "      <td>...</td>\n",
       "      <td>...</td>\n",
       "      <td>...</td>\n",
       "      <td>...</td>\n",
       "      <td>...</td>\n",
       "      <td>...</td>\n",
       "    </tr>\n",
       "    <tr>\n",
       "      <th>5476169</th>\n",
       "      <td>589589</td>\n",
       "      <td>983</td>\n",
       "      <td>2021-08-21</td>\n",
       "      <td>2403</td>\n",
       "      <td>43.0</td>\n",
       "      <td>3</td>\n",
       "    </tr>\n",
       "    <tr>\n",
       "      <th>5476188</th>\n",
       "      <td>590892</td>\n",
       "      <td>8618</td>\n",
       "      <td>2021-08-21</td>\n",
       "      <td>1335</td>\n",
       "      <td>23.0</td>\n",
       "      <td>2</td>\n",
       "    </tr>\n",
       "    <tr>\n",
       "      <th>5476191</th>\n",
       "      <td>857162</td>\n",
       "      <td>12360</td>\n",
       "      <td>2021-08-16</td>\n",
       "      <td>11</td>\n",
       "      <td>0.0</td>\n",
       "      <td>1</td>\n",
       "    </tr>\n",
       "    <tr>\n",
       "      <th>5476201</th>\n",
       "      <td>273558</td>\n",
       "      <td>10605</td>\n",
       "      <td>2021-08-21</td>\n",
       "      <td>34030</td>\n",
       "      <td>100.0</td>\n",
       "      <td>5</td>\n",
       "    </tr>\n",
       "    <tr>\n",
       "      <th>5476250</th>\n",
       "      <td>319709</td>\n",
       "      <td>4436</td>\n",
       "      <td>2021-08-15</td>\n",
       "      <td>3921</td>\n",
       "      <td>45.0</td>\n",
       "      <td>3</td>\n",
       "    </tr>\n",
       "  </tbody>\n",
       "</table>\n",
       "<p>333022 rows × 6 columns</p>\n",
       "</div>"
      ],
      "text/plain": [
       "         user_id  item_id last_watch_dt  total_dur  watched_pct weight\n",
       "9         203219    13582    2021-08-22       6975        100.0      5\n",
       "54        200197     9335    2021-08-16         83          2.0      1\n",
       "64         73446    14488    2021-08-19       6011        100.0      5\n",
       "84         10010      512    2021-08-15         14          0.0      1\n",
       "94        890735    14200    2021-08-16       1179         28.0      2\n",
       "...          ...      ...           ...        ...          ...    ...\n",
       "5476169   589589      983    2021-08-21       2403         43.0      3\n",
       "5476188   590892     8618    2021-08-21       1335         23.0      2\n",
       "5476191   857162    12360    2021-08-16         11          0.0      1\n",
       "5476201   273558    10605    2021-08-21      34030        100.0      5\n",
       "5476250   319709     4436    2021-08-15       3921         45.0      3\n",
       "\n",
       "[333022 rows x 6 columns]"
      ]
     },
     "execution_count": 25,
     "metadata": {},
     "output_type": "execute_result"
    }
   ],
   "source": [
    "test"
   ]
  },
  {
   "cell_type": "markdown",
   "id": "b5eec6da",
   "metadata": {},
   "source": [
    "# User preprocess"
   ]
  },
  {
   "cell_type": "code",
   "execution_count": 26,
   "id": "c57e2b2f",
   "metadata": {},
   "outputs": [
    {
     "data": {
      "text/html": [
       "<div>\n",
       "<style scoped>\n",
       "    .dataframe tbody tr th:only-of-type {\n",
       "        vertical-align: middle;\n",
       "    }\n",
       "\n",
       "    .dataframe tbody tr th {\n",
       "        vertical-align: top;\n",
       "    }\n",
       "\n",
       "    .dataframe thead th {\n",
       "        text-align: right;\n",
       "    }\n",
       "</style>\n",
       "<table border=\"1\" class=\"dataframe\">\n",
       "  <thead>\n",
       "    <tr style=\"text-align: right;\">\n",
       "      <th></th>\n",
       "      <th>user_id</th>\n",
       "      <th>age</th>\n",
       "      <th>income</th>\n",
       "      <th>sex</th>\n",
       "      <th>kids_flg</th>\n",
       "    </tr>\n",
       "  </thead>\n",
       "  <tbody>\n",
       "    <tr>\n",
       "      <th>0</th>\n",
       "      <td>973171</td>\n",
       "      <td>age_25_34</td>\n",
       "      <td>income_60_90</td>\n",
       "      <td>М</td>\n",
       "      <td>1</td>\n",
       "    </tr>\n",
       "    <tr>\n",
       "      <th>1</th>\n",
       "      <td>962099</td>\n",
       "      <td>age_18_24</td>\n",
       "      <td>income_20_40</td>\n",
       "      <td>М</td>\n",
       "      <td>0</td>\n",
       "    </tr>\n",
       "    <tr>\n",
       "      <th>2</th>\n",
       "      <td>1047345</td>\n",
       "      <td>age_45_54</td>\n",
       "      <td>income_40_60</td>\n",
       "      <td>Ж</td>\n",
       "      <td>0</td>\n",
       "    </tr>\n",
       "    <tr>\n",
       "      <th>3</th>\n",
       "      <td>721985</td>\n",
       "      <td>age_45_54</td>\n",
       "      <td>income_20_40</td>\n",
       "      <td>Ж</td>\n",
       "      <td>0</td>\n",
       "    </tr>\n",
       "    <tr>\n",
       "      <th>4</th>\n",
       "      <td>704055</td>\n",
       "      <td>age_35_44</td>\n",
       "      <td>income_60_90</td>\n",
       "      <td>Ж</td>\n",
       "      <td>0</td>\n",
       "    </tr>\n",
       "  </tbody>\n",
       "</table>\n",
       "</div>"
      ],
      "text/plain": [
       "   user_id        age        income sex  kids_flg\n",
       "0   973171  age_25_34  income_60_90   М         1\n",
       "1   962099  age_18_24  income_20_40   М         0\n",
       "2  1047345  age_45_54  income_40_60   Ж         0\n",
       "3   721985  age_45_54  income_20_40   Ж         0\n",
       "4   704055  age_35_44  income_60_90   Ж         0"
      ]
     },
     "execution_count": 26,
     "metadata": {},
     "output_type": "execute_result"
    }
   ],
   "source": [
    "users.head()"
   ]
  },
  {
   "cell_type": "code",
   "execution_count": 27,
   "id": "63996e92",
   "metadata": {},
   "outputs": [
    {
     "data": {
      "text/plain": [
       "user_id     0.000000\n",
       "age         0.016776\n",
       "income      0.017586\n",
       "sex         0.016462\n",
       "kids_flg    0.000000\n",
       "dtype: float64"
      ]
     },
     "execution_count": 27,
     "metadata": {},
     "output_type": "execute_result"
    }
   ],
   "source": [
    "users.isnull().sum()/840197"
   ]
  },
  {
   "cell_type": "code",
   "execution_count": 28,
   "id": "24cc138a",
   "metadata": {},
   "outputs": [],
   "source": [
    "users = users.loc[users[Columns.User].isin(train[Columns.User])].copy()"
   ]
  },
  {
   "cell_type": "code",
   "execution_count": 29,
   "id": "b2283c6d",
   "metadata": {},
   "outputs": [
    {
     "data": {
      "text/html": [
       "<div>\n",
       "<style scoped>\n",
       "    .dataframe tbody tr th:only-of-type {\n",
       "        vertical-align: middle;\n",
       "    }\n",
       "\n",
       "    .dataframe tbody tr th {\n",
       "        vertical-align: top;\n",
       "    }\n",
       "\n",
       "    .dataframe thead th {\n",
       "        text-align: right;\n",
       "    }\n",
       "</style>\n",
       "<table border=\"1\" class=\"dataframe\">\n",
       "  <thead>\n",
       "    <tr style=\"text-align: right;\">\n",
       "      <th></th>\n",
       "      <th>user_id</th>\n",
       "      <th>age</th>\n",
       "      <th>income</th>\n",
       "      <th>sex</th>\n",
       "      <th>kids_flg</th>\n",
       "    </tr>\n",
       "  </thead>\n",
       "  <tbody>\n",
       "    <tr>\n",
       "      <th>0</th>\n",
       "      <td>973171</td>\n",
       "      <td>age_25_34</td>\n",
       "      <td>income_60_90</td>\n",
       "      <td>М</td>\n",
       "      <td>1</td>\n",
       "    </tr>\n",
       "    <tr>\n",
       "      <th>1</th>\n",
       "      <td>962099</td>\n",
       "      <td>age_18_24</td>\n",
       "      <td>income_20_40</td>\n",
       "      <td>М</td>\n",
       "      <td>0</td>\n",
       "    </tr>\n",
       "    <tr>\n",
       "      <th>3</th>\n",
       "      <td>721985</td>\n",
       "      <td>age_45_54</td>\n",
       "      <td>income_20_40</td>\n",
       "      <td>Ж</td>\n",
       "      <td>0</td>\n",
       "    </tr>\n",
       "    <tr>\n",
       "      <th>4</th>\n",
       "      <td>704055</td>\n",
       "      <td>age_35_44</td>\n",
       "      <td>income_60_90</td>\n",
       "      <td>Ж</td>\n",
       "      <td>0</td>\n",
       "    </tr>\n",
       "    <tr>\n",
       "      <th>5</th>\n",
       "      <td>1037719</td>\n",
       "      <td>age_45_54</td>\n",
       "      <td>income_60_90</td>\n",
       "      <td>М</td>\n",
       "      <td>0</td>\n",
       "    </tr>\n",
       "  </tbody>\n",
       "</table>\n",
       "</div>"
      ],
      "text/plain": [
       "   user_id        age        income sex  kids_flg\n",
       "0   973171  age_25_34  income_60_90   М         1\n",
       "1   962099  age_18_24  income_20_40   М         0\n",
       "3   721985  age_45_54  income_20_40   Ж         0\n",
       "4   704055  age_35_44  income_60_90   Ж         0\n",
       "5  1037719  age_45_54  income_60_90   М         0"
      ]
     },
     "execution_count": 29,
     "metadata": {},
     "output_type": "execute_result"
    }
   ],
   "source": [
    "users.head()"
   ]
  },
  {
   "cell_type": "markdown",
   "id": "c7f9a6e7",
   "metadata": {},
   "source": [
    "Заменяем Nan'ы на Unknown"
   ]
  },
  {
   "cell_type": "code",
   "execution_count": 30,
   "id": "1286eb60",
   "metadata": {},
   "outputs": [],
   "source": [
    "users.fillna('Unknown', inplace=True)"
   ]
  },
  {
   "cell_type": "code",
   "execution_count": 31,
   "id": "1ccccf0f",
   "metadata": {},
   "outputs": [
    {
     "data": {
      "text/html": [
       "<div>\n",
       "<style scoped>\n",
       "    .dataframe tbody tr th:only-of-type {\n",
       "        vertical-align: middle;\n",
       "    }\n",
       "\n",
       "    .dataframe tbody tr th {\n",
       "        vertical-align: top;\n",
       "    }\n",
       "\n",
       "    .dataframe thead th {\n",
       "        text-align: right;\n",
       "    }\n",
       "</style>\n",
       "<table border=\"1\" class=\"dataframe\">\n",
       "  <thead>\n",
       "    <tr style=\"text-align: right;\">\n",
       "      <th></th>\n",
       "      <th>id</th>\n",
       "      <th>value</th>\n",
       "      <th>feature</th>\n",
       "    </tr>\n",
       "  </thead>\n",
       "  <tbody>\n",
       "    <tr>\n",
       "      <th>0</th>\n",
       "      <td>973171</td>\n",
       "      <td>М</td>\n",
       "      <td>sex</td>\n",
       "    </tr>\n",
       "    <tr>\n",
       "      <th>1</th>\n",
       "      <td>962099</td>\n",
       "      <td>М</td>\n",
       "      <td>sex</td>\n",
       "    </tr>\n",
       "    <tr>\n",
       "      <th>3</th>\n",
       "      <td>721985</td>\n",
       "      <td>Ж</td>\n",
       "      <td>sex</td>\n",
       "    </tr>\n",
       "    <tr>\n",
       "      <th>4</th>\n",
       "      <td>704055</td>\n",
       "      <td>Ж</td>\n",
       "      <td>sex</td>\n",
       "    </tr>\n",
       "    <tr>\n",
       "      <th>5</th>\n",
       "      <td>1037719</td>\n",
       "      <td>М</td>\n",
       "      <td>sex</td>\n",
       "    </tr>\n",
       "  </tbody>\n",
       "</table>\n",
       "</div>"
      ],
      "text/plain": [
       "        id value feature\n",
       "0   973171     М     sex\n",
       "1   962099     М     sex\n",
       "3   721985     Ж     sex\n",
       "4   704055     Ж     sex\n",
       "5  1037719     М     sex"
      ]
     },
     "execution_count": 31,
     "metadata": {},
     "output_type": "execute_result"
    }
   ],
   "source": [
    "user_features_frames = []\n",
    "for feature in [\"sex\", \"age\", \"income\"]:\n",
    "    feature_frame = users.reindex(columns=[Columns.User, feature])\n",
    "    feature_frame.columns = [\"id\", \"value\"]\n",
    "    feature_frame[\"feature\"] = feature\n",
    "    user_features_frames.append(feature_frame)\n",
    "user_features = pd.concat(user_features_frames)\n",
    "user_features.head()"
   ]
  },
  {
   "cell_type": "markdown",
   "id": "b9220b0b",
   "metadata": {},
   "source": [
    "# Item preprocess"
   ]
  },
  {
   "cell_type": "code",
   "execution_count": 32,
   "id": "8bbe9ee4",
   "metadata": {},
   "outputs": [
    {
     "data": {
      "text/html": [
       "<div>\n",
       "<style scoped>\n",
       "    .dataframe tbody tr th:only-of-type {\n",
       "        vertical-align: middle;\n",
       "    }\n",
       "\n",
       "    .dataframe tbody tr th {\n",
       "        vertical-align: top;\n",
       "    }\n",
       "\n",
       "    .dataframe thead th {\n",
       "        text-align: right;\n",
       "    }\n",
       "</style>\n",
       "<table border=\"1\" class=\"dataframe\">\n",
       "  <thead>\n",
       "    <tr style=\"text-align: right;\">\n",
       "      <th></th>\n",
       "      <th>item_id</th>\n",
       "      <th>content_type</th>\n",
       "      <th>title</th>\n",
       "      <th>title_orig</th>\n",
       "      <th>release_year</th>\n",
       "      <th>genres</th>\n",
       "      <th>countries</th>\n",
       "      <th>for_kids</th>\n",
       "      <th>age_rating</th>\n",
       "      <th>studios</th>\n",
       "      <th>directors</th>\n",
       "      <th>actors</th>\n",
       "      <th>description</th>\n",
       "      <th>keywords</th>\n",
       "    </tr>\n",
       "  </thead>\n",
       "  <tbody>\n",
       "    <tr>\n",
       "      <th>6657</th>\n",
       "      <td>602</td>\n",
       "      <td>film</td>\n",
       "      <td>Чем заняться дома?</td>\n",
       "      <td>Chem zanyat'sya doma?</td>\n",
       "      <td>2020.0</td>\n",
       "      <td>мультфильм, комедии</td>\n",
       "      <td>Кипр</td>\n",
       "      <td>NaN</td>\n",
       "      <td>0.0</td>\n",
       "      <td>NaN</td>\n",
       "      <td>Наумов Артем</td>\n",
       "      <td>Саранцева Варя</td>\n",
       "      <td>Чем заняться ребёнку, если никуда не получаетс...</td>\n",
       "      <td>2020, кипр, чем, заняться, дома</td>\n",
       "    </tr>\n",
       "    <tr>\n",
       "      <th>12313</th>\n",
       "      <td>15798</td>\n",
       "      <td>film</td>\n",
       "      <td>В мире динозавров</td>\n",
       "      <td>NaN</td>\n",
       "      <td>2005.0</td>\n",
       "      <td>русские, для детей, хочу всё знать, русские му...</td>\n",
       "      <td>Россия</td>\n",
       "      <td>NaN</td>\n",
       "      <td>0.0</td>\n",
       "      <td>NaN</td>\n",
       "      <td>Роберт Саакянц</td>\n",
       "      <td>NaN</td>\n",
       "      <td>Познавательный мультфильм для детей, рассказыв...</td>\n",
       "      <td>мире, динозавров, 2005, Россия, динозавры, пут...</td>\n",
       "    </tr>\n",
       "    <tr>\n",
       "      <th>8428</th>\n",
       "      <td>10616</td>\n",
       "      <td>film</td>\n",
       "      <td>Рождение нации</td>\n",
       "      <td>The Birth of a Nation</td>\n",
       "      <td>2016.0</td>\n",
       "      <td>драмы, биография, историческое</td>\n",
       "      <td>США, Канада</td>\n",
       "      <td>NaN</td>\n",
       "      <td>18.0</td>\n",
       "      <td>NaN</td>\n",
       "      <td>Нэйт Паркер</td>\n",
       "      <td>Нэйт Паркер, Арми Хаммер, Пенелопа Энн Миллер,...</td>\n",
       "      <td>Историко-драматический байопик о чернокожем ра...</td>\n",
       "      <td>южные сша, рабство, биография, основанная на р...</td>\n",
       "    </tr>\n",
       "  </tbody>\n",
       "</table>\n",
       "</div>"
      ],
      "text/plain": [
       "       item_id content_type               title             title_orig  \\\n",
       "6657       602         film  Чем заняться дома?  Chem zanyat'sya doma?   \n",
       "12313    15798         film   В мире динозавров                    NaN   \n",
       "8428     10616         film      Рождение нации  The Birth of a Nation   \n",
       "\n",
       "       release_year                                             genres  \\\n",
       "6657         2020.0                                мультфильм, комедии   \n",
       "12313        2005.0  русские, для детей, хочу всё знать, русские му...   \n",
       "8428         2016.0                     драмы, биография, историческое   \n",
       "\n",
       "         countries  for_kids  age_rating studios       directors  \\\n",
       "6657          Кипр       NaN         0.0     NaN    Наумов Артем   \n",
       "12313       Россия       NaN         0.0     NaN  Роберт Саакянц   \n",
       "8428   США, Канада       NaN        18.0     NaN     Нэйт Паркер   \n",
       "\n",
       "                                                  actors  \\\n",
       "6657                                      Саранцева Варя   \n",
       "12313                                                NaN   \n",
       "8428   Нэйт Паркер, Арми Хаммер, Пенелопа Энн Миллер,...   \n",
       "\n",
       "                                             description  \\\n",
       "6657   Чем заняться ребёнку, если никуда не получаетс...   \n",
       "12313  Познавательный мультфильм для детей, рассказыв...   \n",
       "8428   Историко-драматический байопик о чернокожем ра...   \n",
       "\n",
       "                                                keywords  \n",
       "6657                     2020, кипр, чем, заняться, дома  \n",
       "12313  мире, динозавров, 2005, Россия, динозавры, пут...  \n",
       "8428   южные сша, рабство, биография, основанная на р...  "
      ]
     },
     "execution_count": 32,
     "metadata": {},
     "output_type": "execute_result"
    }
   ],
   "source": [
    "items.sample(3)"
   ]
  },
  {
   "cell_type": "code",
   "execution_count": 33,
   "id": "72fa86a0",
   "metadata": {
    "scrolled": true
   },
   "outputs": [
    {
     "data": {
      "text/plain": [
       "item_id             0\n",
       "content_type        0\n",
       "title               0\n",
       "title_orig       4745\n",
       "release_year       98\n",
       "genres              0\n",
       "countries          37\n",
       "for_kids        15397\n",
       "age_rating          2\n",
       "studios         14898\n",
       "directors        1509\n",
       "actors           2619\n",
       "description         2\n",
       "keywords          423\n",
       "dtype: int64"
      ]
     },
     "execution_count": 33,
     "metadata": {},
     "output_type": "execute_result"
    }
   ],
   "source": [
    "items.isna().sum()"
   ]
  },
  {
   "cell_type": "code",
   "execution_count": 34,
   "id": "50f0611f",
   "metadata": {},
   "outputs": [],
   "source": [
    "items = items.loc[items[Columns.Item].isin(train[Columns.Item])].copy()"
   ]
  },
  {
   "cell_type": "code",
   "execution_count": 35,
   "id": "280cf47d",
   "metadata": {},
   "outputs": [
    {
     "data": {
      "text/plain": [
       "item_id             0\n",
       "content_type        0\n",
       "title               0\n",
       "title_orig       3775\n",
       "release_year       31\n",
       "genres              0\n",
       "countries          14\n",
       "for_kids        13415\n",
       "age_rating          1\n",
       "studios         13047\n",
       "directors         939\n",
       "actors           1858\n",
       "description         0\n",
       "keywords          388\n",
       "dtype: int64"
      ]
     },
     "execution_count": 35,
     "metadata": {},
     "output_type": "execute_result"
    }
   ],
   "source": [
    "items.isna().sum()"
   ]
  },
  {
   "cell_type": "markdown",
   "id": "eddd93b5",
   "metadata": {},
   "source": [
    "# Genre"
   ]
  },
  {
   "cell_type": "code",
   "execution_count": 36,
   "id": "bf6da75c",
   "metadata": {},
   "outputs": [
    {
     "data": {
      "text/html": [
       "<div>\n",
       "<style scoped>\n",
       "    .dataframe tbody tr th:only-of-type {\n",
       "        vertical-align: middle;\n",
       "    }\n",
       "\n",
       "    .dataframe tbody tr th {\n",
       "        vertical-align: top;\n",
       "    }\n",
       "\n",
       "    .dataframe thead th {\n",
       "        text-align: right;\n",
       "    }\n",
       "</style>\n",
       "<table border=\"1\" class=\"dataframe\">\n",
       "  <thead>\n",
       "    <tr style=\"text-align: right;\">\n",
       "      <th></th>\n",
       "      <th>id</th>\n",
       "      <th>value</th>\n",
       "      <th>feature</th>\n",
       "    </tr>\n",
       "  </thead>\n",
       "  <tbody>\n",
       "    <tr>\n",
       "      <th>0</th>\n",
       "      <td>10711</td>\n",
       "      <td>драмы</td>\n",
       "      <td>genre</td>\n",
       "    </tr>\n",
       "    <tr>\n",
       "      <th>0</th>\n",
       "      <td>10711</td>\n",
       "      <td>зарубежные</td>\n",
       "      <td>genre</td>\n",
       "    </tr>\n",
       "    <tr>\n",
       "      <th>0</th>\n",
       "      <td>10711</td>\n",
       "      <td>детективы</td>\n",
       "      <td>genre</td>\n",
       "    </tr>\n",
       "    <tr>\n",
       "      <th>0</th>\n",
       "      <td>10711</td>\n",
       "      <td>мелодрамы</td>\n",
       "      <td>genre</td>\n",
       "    </tr>\n",
       "    <tr>\n",
       "      <th>1</th>\n",
       "      <td>2508</td>\n",
       "      <td>зарубежные</td>\n",
       "      <td>genre</td>\n",
       "    </tr>\n",
       "  </tbody>\n",
       "</table>\n",
       "</div>"
      ],
      "text/plain": [
       "      id       value feature\n",
       "0  10711       драмы   genre\n",
       "0  10711  зарубежные   genre\n",
       "0  10711   детективы   genre\n",
       "0  10711   мелодрамы   genre\n",
       "1   2508  зарубежные   genre"
      ]
     },
     "execution_count": 36,
     "metadata": {},
     "output_type": "execute_result"
    }
   ],
   "source": [
    "# Explode genres to flatten table\n",
    "items[\"genre\"] = items[\"genres\"].str.lower().str.replace(\", \", \",\", regex=False).str.split(\",\")\n",
    "genre_feature = items[[\"item_id\", \"genre\"]].explode(\"genre\")\n",
    "genre_feature.columns = [\"id\", \"value\"]\n",
    "genre_feature[\"feature\"] = \"genre\"\n",
    "genre_feature.head()"
   ]
  },
  {
   "cell_type": "markdown",
   "id": "478bf1e3",
   "metadata": {},
   "source": [
    "# Content"
   ]
  },
  {
   "cell_type": "code",
   "execution_count": 37,
   "id": "65f8b5d9",
   "metadata": {},
   "outputs": [
    {
     "data": {
      "text/html": [
       "<div>\n",
       "<style scoped>\n",
       "    .dataframe tbody tr th:only-of-type {\n",
       "        vertical-align: middle;\n",
       "    }\n",
       "\n",
       "    .dataframe tbody tr th {\n",
       "        vertical-align: top;\n",
       "    }\n",
       "\n",
       "    .dataframe thead th {\n",
       "        text-align: right;\n",
       "    }\n",
       "</style>\n",
       "<table border=\"1\" class=\"dataframe\">\n",
       "  <thead>\n",
       "    <tr style=\"text-align: right;\">\n",
       "      <th></th>\n",
       "      <th>id</th>\n",
       "      <th>value</th>\n",
       "      <th>feature</th>\n",
       "    </tr>\n",
       "  </thead>\n",
       "  <tbody>\n",
       "    <tr>\n",
       "      <th>0</th>\n",
       "      <td>10711</td>\n",
       "      <td>film</td>\n",
       "      <td>content_type</td>\n",
       "    </tr>\n",
       "    <tr>\n",
       "      <th>1</th>\n",
       "      <td>2508</td>\n",
       "      <td>film</td>\n",
       "      <td>content_type</td>\n",
       "    </tr>\n",
       "    <tr>\n",
       "      <th>2</th>\n",
       "      <td>10716</td>\n",
       "      <td>film</td>\n",
       "      <td>content_type</td>\n",
       "    </tr>\n",
       "    <tr>\n",
       "      <th>3</th>\n",
       "      <td>7868</td>\n",
       "      <td>film</td>\n",
       "      <td>content_type</td>\n",
       "    </tr>\n",
       "    <tr>\n",
       "      <th>4</th>\n",
       "      <td>16268</td>\n",
       "      <td>film</td>\n",
       "      <td>content_type</td>\n",
       "    </tr>\n",
       "  </tbody>\n",
       "</table>\n",
       "</div>"
      ],
      "text/plain": [
       "      id value       feature\n",
       "0  10711  film  content_type\n",
       "1   2508  film  content_type\n",
       "2  10716  film  content_type\n",
       "3   7868  film  content_type\n",
       "4  16268  film  content_type"
      ]
     },
     "execution_count": 37,
     "metadata": {},
     "output_type": "execute_result"
    }
   ],
   "source": [
    "content_feature = items.reindex(columns=[Columns.Item, \"content_type\"])\n",
    "content_feature.columns = [\"id\", \"value\"]\n",
    "content_feature[\"feature\"] = \"content_type\"\n",
    "content_feature.head()"
   ]
  },
  {
   "cell_type": "markdown",
   "id": "a62ebee4",
   "metadata": {},
   "source": [
    "# Actors"
   ]
  },
  {
   "cell_type": "code",
   "execution_count": 38,
   "id": "fdc43660",
   "metadata": {},
   "outputs": [
    {
     "data": {
      "text/html": [
       "<div>\n",
       "<style scoped>\n",
       "    .dataframe tbody tr th:only-of-type {\n",
       "        vertical-align: middle;\n",
       "    }\n",
       "\n",
       "    .dataframe tbody tr th {\n",
       "        vertical-align: top;\n",
       "    }\n",
       "\n",
       "    .dataframe thead th {\n",
       "        text-align: right;\n",
       "    }\n",
       "</style>\n",
       "<table border=\"1\" class=\"dataframe\">\n",
       "  <thead>\n",
       "    <tr style=\"text-align: right;\">\n",
       "      <th></th>\n",
       "      <th>id</th>\n",
       "      <th>value</th>\n",
       "      <th>feature</th>\n",
       "    </tr>\n",
       "  </thead>\n",
       "  <tbody>\n",
       "    <tr>\n",
       "      <th>0</th>\n",
       "      <td>10711</td>\n",
       "      <td>адольфо фернандес</td>\n",
       "      <td>actors</td>\n",
       "    </tr>\n",
       "    <tr>\n",
       "      <th>0</th>\n",
       "      <td>10711</td>\n",
       "      <td>ана фернандес</td>\n",
       "      <td>actors</td>\n",
       "    </tr>\n",
       "    <tr>\n",
       "      <th>0</th>\n",
       "      <td>10711</td>\n",
       "      <td>дарио грандинетти</td>\n",
       "      <td>actors</td>\n",
       "    </tr>\n",
       "    <tr>\n",
       "      <th>0</th>\n",
       "      <td>10711</td>\n",
       "      <td>джеральдин чаплин</td>\n",
       "      <td>actors</td>\n",
       "    </tr>\n",
       "    <tr>\n",
       "      <th>0</th>\n",
       "      <td>10711</td>\n",
       "      <td>елена анайя</td>\n",
       "      <td>actors</td>\n",
       "    </tr>\n",
       "  </tbody>\n",
       "</table>\n",
       "</div>"
      ],
      "text/plain": [
       "      id              value feature\n",
       "0  10711  адольфо фернандес  actors\n",
       "0  10711      ана фернандес  actors\n",
       "0  10711  дарио грандинетти  actors\n",
       "0  10711  джеральдин чаплин  actors\n",
       "0  10711        елена анайя  actors"
      ]
     },
     "execution_count": 38,
     "metadata": {},
     "output_type": "execute_result"
    }
   ],
   "source": [
    "items[\"actors\"] = items[\"actors\"].str.lower().str.replace(\", \", \",\", regex=False).str.split(\",\")\n",
    "actors_feature = items[[\"item_id\", \"actors\"]].explode(\"actors\")\n",
    "actors_feature.columns = [\"id\", \"value\"]\n",
    "actors_feature[\"feature\"] = \"actors\"\n",
    "actors_feature.head()"
   ]
  },
  {
   "cell_type": "markdown",
   "id": "73801647",
   "metadata": {},
   "source": [
    "# Keywords"
   ]
  },
  {
   "cell_type": "code",
   "execution_count": 39,
   "id": "594abe5c",
   "metadata": {},
   "outputs": [
    {
     "data": {
      "text/html": [
       "<div>\n",
       "<style scoped>\n",
       "    .dataframe tbody tr th:only-of-type {\n",
       "        vertical-align: middle;\n",
       "    }\n",
       "\n",
       "    .dataframe tbody tr th {\n",
       "        vertical-align: top;\n",
       "    }\n",
       "\n",
       "    .dataframe thead th {\n",
       "        text-align: right;\n",
       "    }\n",
       "</style>\n",
       "<table border=\"1\" class=\"dataframe\">\n",
       "  <thead>\n",
       "    <tr style=\"text-align: right;\">\n",
       "      <th></th>\n",
       "      <th>id</th>\n",
       "      <th>value</th>\n",
       "      <th>feature</th>\n",
       "    </tr>\n",
       "  </thead>\n",
       "  <tbody>\n",
       "    <tr>\n",
       "      <th>0</th>\n",
       "      <td>10711</td>\n",
       "      <td>поговори</td>\n",
       "      <td>keywords</td>\n",
       "    </tr>\n",
       "    <tr>\n",
       "      <th>0</th>\n",
       "      <td>10711</td>\n",
       "      <td>ней</td>\n",
       "      <td>keywords</td>\n",
       "    </tr>\n",
       "    <tr>\n",
       "      <th>0</th>\n",
       "      <td>10711</td>\n",
       "      <td>2002</td>\n",
       "      <td>keywords</td>\n",
       "    </tr>\n",
       "    <tr>\n",
       "      <th>0</th>\n",
       "      <td>10711</td>\n",
       "      <td>испания</td>\n",
       "      <td>keywords</td>\n",
       "    </tr>\n",
       "    <tr>\n",
       "      <th>0</th>\n",
       "      <td>10711</td>\n",
       "      <td>друзья</td>\n",
       "      <td>keywords</td>\n",
       "    </tr>\n",
       "  </tbody>\n",
       "</table>\n",
       "</div>"
      ],
      "text/plain": [
       "      id     value   feature\n",
       "0  10711  поговори  keywords\n",
       "0  10711       ней  keywords\n",
       "0  10711      2002  keywords\n",
       "0  10711   испания  keywords\n",
       "0  10711    друзья  keywords"
      ]
     },
     "execution_count": 39,
     "metadata": {},
     "output_type": "execute_result"
    }
   ],
   "source": [
    "items[\"keywords\"] = items[\"keywords\"].str.lower().str.replace(\", \", \",\", regex=False).str.split(\",\")\n",
    "keywords_feature = items[[\"item_id\", \"keywords\"]].explode(\"keywords\")\n",
    "keywords_feature.columns = [\"id\", \"value\"]\n",
    "keywords_feature[\"feature\"] = \"keywords\"\n",
    "keywords_feature.head()"
   ]
  },
  {
   "cell_type": "markdown",
   "id": "d3eb0a37",
   "metadata": {},
   "source": [
    "# Countries"
   ]
  },
  {
   "cell_type": "code",
   "execution_count": 40,
   "id": "8eb8a621",
   "metadata": {},
   "outputs": [
    {
     "data": {
      "text/html": [
       "<div>\n",
       "<style scoped>\n",
       "    .dataframe tbody tr th:only-of-type {\n",
       "        vertical-align: middle;\n",
       "    }\n",
       "\n",
       "    .dataframe tbody tr th {\n",
       "        vertical-align: top;\n",
       "    }\n",
       "\n",
       "    .dataframe thead th {\n",
       "        text-align: right;\n",
       "    }\n",
       "</style>\n",
       "<table border=\"1\" class=\"dataframe\">\n",
       "  <thead>\n",
       "    <tr style=\"text-align: right;\">\n",
       "      <th></th>\n",
       "      <th>id</th>\n",
       "      <th>value</th>\n",
       "      <th>feature</th>\n",
       "    </tr>\n",
       "  </thead>\n",
       "  <tbody>\n",
       "    <tr>\n",
       "      <th>0</th>\n",
       "      <td>10711</td>\n",
       "      <td>Испания</td>\n",
       "      <td>countries</td>\n",
       "    </tr>\n",
       "    <tr>\n",
       "      <th>1</th>\n",
       "      <td>2508</td>\n",
       "      <td>США</td>\n",
       "      <td>countries</td>\n",
       "    </tr>\n",
       "    <tr>\n",
       "      <th>2</th>\n",
       "      <td>10716</td>\n",
       "      <td>Канада</td>\n",
       "      <td>countries</td>\n",
       "    </tr>\n",
       "    <tr>\n",
       "      <th>3</th>\n",
       "      <td>7868</td>\n",
       "      <td>Великобритания</td>\n",
       "      <td>countries</td>\n",
       "    </tr>\n",
       "    <tr>\n",
       "      <th>4</th>\n",
       "      <td>16268</td>\n",
       "      <td>СССР</td>\n",
       "      <td>countries</td>\n",
       "    </tr>\n",
       "  </tbody>\n",
       "</table>\n",
       "</div>"
      ],
      "text/plain": [
       "      id           value    feature\n",
       "0  10711         Испания  countries\n",
       "1   2508             США  countries\n",
       "2  10716          Канада  countries\n",
       "3   7868  Великобритания  countries\n",
       "4  16268            СССР  countries"
      ]
     },
     "execution_count": 40,
     "metadata": {},
     "output_type": "execute_result"
    }
   ],
   "source": [
    "country_feature = items.reindex(columns=[Columns.Item, \"countries\"])\n",
    "country_feature.columns = [\"id\", \"value\"]\n",
    "country_feature[\"feature\"] = \"countries\"\n",
    "country_feature.head()"
   ]
  },
  {
   "cell_type": "markdown",
   "id": "5e477ee1",
   "metadata": {},
   "source": [
    "# Age Rating"
   ]
  },
  {
   "cell_type": "code",
   "execution_count": 41,
   "id": "0894154a",
   "metadata": {},
   "outputs": [
    {
     "data": {
      "text/html": [
       "<div>\n",
       "<style scoped>\n",
       "    .dataframe tbody tr th:only-of-type {\n",
       "        vertical-align: middle;\n",
       "    }\n",
       "\n",
       "    .dataframe tbody tr th {\n",
       "        vertical-align: top;\n",
       "    }\n",
       "\n",
       "    .dataframe thead th {\n",
       "        text-align: right;\n",
       "    }\n",
       "</style>\n",
       "<table border=\"1\" class=\"dataframe\">\n",
       "  <thead>\n",
       "    <tr style=\"text-align: right;\">\n",
       "      <th></th>\n",
       "      <th>id</th>\n",
       "      <th>value</th>\n",
       "      <th>feature</th>\n",
       "    </tr>\n",
       "  </thead>\n",
       "  <tbody>\n",
       "    <tr>\n",
       "      <th>0</th>\n",
       "      <td>10711</td>\n",
       "      <td>16.0</td>\n",
       "      <td>age_feature</td>\n",
       "    </tr>\n",
       "    <tr>\n",
       "      <th>1</th>\n",
       "      <td>2508</td>\n",
       "      <td>16.0</td>\n",
       "      <td>age_feature</td>\n",
       "    </tr>\n",
       "    <tr>\n",
       "      <th>2</th>\n",
       "      <td>10716</td>\n",
       "      <td>16.0</td>\n",
       "      <td>age_feature</td>\n",
       "    </tr>\n",
       "    <tr>\n",
       "      <th>3</th>\n",
       "      <td>7868</td>\n",
       "      <td>16.0</td>\n",
       "      <td>age_feature</td>\n",
       "    </tr>\n",
       "    <tr>\n",
       "      <th>4</th>\n",
       "      <td>16268</td>\n",
       "      <td>12.0</td>\n",
       "      <td>age_feature</td>\n",
       "    </tr>\n",
       "  </tbody>\n",
       "</table>\n",
       "</div>"
      ],
      "text/plain": [
       "      id  value      feature\n",
       "0  10711   16.0  age_feature\n",
       "1   2508   16.0  age_feature\n",
       "2  10716   16.0  age_feature\n",
       "3   7868   16.0  age_feature\n",
       "4  16268   12.0  age_feature"
      ]
     },
     "execution_count": 41,
     "metadata": {},
     "output_type": "execute_result"
    }
   ],
   "source": [
    "age_feature = items.reindex(columns=[Columns.Item, \"age_rating\"])\n",
    "age_feature.columns = [\"id\", \"value\"]\n",
    "age_feature[\"feature\"] = \"age_feature\"\n",
    "age_feature.head()"
   ]
  },
  {
   "cell_type": "markdown",
   "id": "c09df1ec",
   "metadata": {},
   "source": [
    "# Studios"
   ]
  },
  {
   "cell_type": "code",
   "execution_count": 42,
   "id": "ff937b4f",
   "metadata": {},
   "outputs": [],
   "source": [
    "items.fillna('Unknown', inplace=True)"
   ]
  },
  {
   "cell_type": "code",
   "execution_count": 43,
   "id": "cee42708",
   "metadata": {},
   "outputs": [
    {
     "data": {
      "text/html": [
       "<div>\n",
       "<style scoped>\n",
       "    .dataframe tbody tr th:only-of-type {\n",
       "        vertical-align: middle;\n",
       "    }\n",
       "\n",
       "    .dataframe tbody tr th {\n",
       "        vertical-align: top;\n",
       "    }\n",
       "\n",
       "    .dataframe thead th {\n",
       "        text-align: right;\n",
       "    }\n",
       "</style>\n",
       "<table border=\"1\" class=\"dataframe\">\n",
       "  <thead>\n",
       "    <tr style=\"text-align: right;\">\n",
       "      <th></th>\n",
       "      <th>id</th>\n",
       "      <th>value</th>\n",
       "      <th>feature</th>\n",
       "    </tr>\n",
       "  </thead>\n",
       "  <tbody>\n",
       "    <tr>\n",
       "      <th>0</th>\n",
       "      <td>10711</td>\n",
       "      <td>Unknown</td>\n",
       "      <td>studios</td>\n",
       "    </tr>\n",
       "    <tr>\n",
       "      <th>1</th>\n",
       "      <td>2508</td>\n",
       "      <td>Unknown</td>\n",
       "      <td>studios</td>\n",
       "    </tr>\n",
       "    <tr>\n",
       "      <th>2</th>\n",
       "      <td>10716</td>\n",
       "      <td>Unknown</td>\n",
       "      <td>studios</td>\n",
       "    </tr>\n",
       "    <tr>\n",
       "      <th>3</th>\n",
       "      <td>7868</td>\n",
       "      <td>Unknown</td>\n",
       "      <td>studios</td>\n",
       "    </tr>\n",
       "    <tr>\n",
       "      <th>4</th>\n",
       "      <td>16268</td>\n",
       "      <td>Ленфильм</td>\n",
       "      <td>studios</td>\n",
       "    </tr>\n",
       "  </tbody>\n",
       "</table>\n",
       "</div>"
      ],
      "text/plain": [
       "      id     value  feature\n",
       "0  10711   Unknown  studios\n",
       "1   2508   Unknown  studios\n",
       "2  10716   Unknown  studios\n",
       "3   7868   Unknown  studios\n",
       "4  16268  Ленфильм  studios"
      ]
     },
     "execution_count": 43,
     "metadata": {},
     "output_type": "execute_result"
    }
   ],
   "source": [
    "studios_feature = items.reindex(columns=[Columns.Item, \"studios\"])\n",
    "studios_feature.columns = [\"id\", \"value\"]\n",
    "studios_feature[\"feature\"] = \"studios\"\n",
    "studios_feature.head()"
   ]
  },
  {
   "cell_type": "markdown",
   "id": "82558d41",
   "metadata": {},
   "source": [
    "### Конкатим все доп фичи в один датасет"
   ]
  },
  {
   "cell_type": "code",
   "execution_count": 44,
   "id": "6158b0bd",
   "metadata": {},
   "outputs": [
    {
     "data": {
      "text/html": [
       "<div>\n",
       "<style scoped>\n",
       "    .dataframe tbody tr th:only-of-type {\n",
       "        vertical-align: middle;\n",
       "    }\n",
       "\n",
       "    .dataframe tbody tr th {\n",
       "        vertical-align: top;\n",
       "    }\n",
       "\n",
       "    .dataframe thead th {\n",
       "        text-align: right;\n",
       "    }\n",
       "</style>\n",
       "<table border=\"1\" class=\"dataframe\">\n",
       "  <thead>\n",
       "    <tr style=\"text-align: right;\">\n",
       "      <th></th>\n",
       "      <th>id</th>\n",
       "      <th>value</th>\n",
       "      <th>feature</th>\n",
       "    </tr>\n",
       "  </thead>\n",
       "  <tbody>\n",
       "    <tr>\n",
       "      <th>2755</th>\n",
       "      <td>6781</td>\n",
       "      <td>Unknown</td>\n",
       "      <td>studios</td>\n",
       "    </tr>\n",
       "    <tr>\n",
       "      <th>1885</th>\n",
       "      <td>9843</td>\n",
       "      <td>Unknown</td>\n",
       "      <td>studios</td>\n",
       "    </tr>\n",
       "    <tr>\n",
       "      <th>7472</th>\n",
       "      <td>6909</td>\n",
       "      <td>12.0</td>\n",
       "      <td>age_feature</td>\n",
       "    </tr>\n",
       "    <tr>\n",
       "      <th>3395</th>\n",
       "      <td>10751</td>\n",
       "      <td>для детей</td>\n",
       "      <td>genre</td>\n",
       "    </tr>\n",
       "    <tr>\n",
       "      <th>3915</th>\n",
       "      <td>9872</td>\n",
       "      <td>триллеры</td>\n",
       "      <td>genre</td>\n",
       "    </tr>\n",
       "  </tbody>\n",
       "</table>\n",
       "</div>"
      ],
      "text/plain": [
       "         id      value      feature\n",
       "2755   6781    Unknown      studios\n",
       "1885   9843    Unknown      studios\n",
       "7472   6909       12.0  age_feature\n",
       "3395  10751  для детей        genre\n",
       "3915   9872   триллеры        genre"
      ]
     },
     "execution_count": 44,
     "metadata": {},
     "output_type": "execute_result"
    }
   ],
   "source": [
    "item_features = pd.concat((genre_feature, content_feature, studios_feature, age_feature, country_feature))\n",
    "item_features.sample(5)"
   ]
  },
  {
   "cell_type": "markdown",
   "id": "09b8d756",
   "metadata": {},
   "source": [
    "# Metrics"
   ]
  },
  {
   "cell_type": "code",
   "execution_count": 45,
   "id": "b082e667",
   "metadata": {},
   "outputs": [
    {
     "data": {
      "text/plain": [
       "{'Precision@1': Precision(k=1),\n",
       " 'Precision@2': Precision(k=2),\n",
       " 'Precision@3': Precision(k=3),\n",
       " 'Precision@4': Precision(k=4),\n",
       " 'Precision@5': Precision(k=5),\n",
       " 'Precision@6': Precision(k=6),\n",
       " 'Precision@7': Precision(k=7),\n",
       " 'Precision@8': Precision(k=8),\n",
       " 'Precision@9': Precision(k=9),\n",
       " 'Precision@10': Precision(k=10),\n",
       " 'Recall@1': Recall(k=1),\n",
       " 'Recall@2': Recall(k=2),\n",
       " 'Recall@3': Recall(k=3),\n",
       " 'Recall@4': Recall(k=4),\n",
       " 'Recall@5': Recall(k=5),\n",
       " 'Recall@6': Recall(k=6),\n",
       " 'Recall@7': Recall(k=7),\n",
       " 'Recall@8': Recall(k=8),\n",
       " 'Recall@9': Recall(k=9),\n",
       " 'Recall@10': Recall(k=10),\n",
       " 'MAP@1': MAP(k=1, divide_by_k=False),\n",
       " 'MAP@2': MAP(k=2, divide_by_k=False),\n",
       " 'MAP@3': MAP(k=3, divide_by_k=False),\n",
       " 'MAP@4': MAP(k=4, divide_by_k=False),\n",
       " 'MAP@5': MAP(k=5, divide_by_k=False),\n",
       " 'MAP@6': MAP(k=6, divide_by_k=False),\n",
       " 'MAP@7': MAP(k=7, divide_by_k=False),\n",
       " 'MAP@8': MAP(k=8, divide_by_k=False),\n",
       " 'MAP@9': MAP(k=9, divide_by_k=False),\n",
       " 'MAP@10': MAP(k=10, divide_by_k=False)}"
      ]
     },
     "execution_count": 45,
     "metadata": {},
     "output_type": "execute_result"
    }
   ],
   "source": [
    "metrics_name = {\n",
    "    'Precision': Precision,\n",
    "    'Recall': Recall,\n",
    "    'MAP': MAP,\n",
    "}\n",
    "\n",
    "metrics = {}\n",
    "for metric_name, metric in metrics_name.items():\n",
    "    for k in range(1, 11):\n",
    "        metrics[f'{metric_name}@{k}'] = metric(k=k)\n",
    "metrics"
   ]
  },
  {
   "cell_type": "markdown",
   "id": "0bce189f",
   "metadata": {},
   "source": [
    "# Обучение моделей"
   ]
  },
  {
   "cell_type": "code",
   "execution_count": 46,
   "id": "864a7990",
   "metadata": {},
   "outputs": [],
   "source": [
    "K_RECOS = 10\n",
    "RANDOM_STATE = 42\n",
    "NUM_THREADS = 8\n",
    "N_FACTORS = (32,)\n",
    "N_EPOCHS = 1 # Lightfm\n",
    "USER_ALPHA = 0 # Lightfm\n",
    "ITEM_ALPHA = 0 # Lightfm\n",
    "LEARNING_RATE = 0.05 # Lightfm"
   ]
  },
  {
   "cell_type": "code",
   "execution_count": 66,
   "id": "89c1cedb",
   "metadata": {},
   "outputs": [
    {
     "name": "stdout",
     "output_type": "stream",
     "text": [
      "user_features - {'income', 'age', 'sex'}\n",
      "item_features - {'age_feature', 'countries', 'studios', 'genre', 'content_type'}\n"
     ]
    }
   ],
   "source": [
    "print('user_features -', set(user_features.feature))\n",
    "print('item_features -', set(item_features.feature))"
   ]
  },
  {
   "cell_type": "code",
   "execution_count": 64,
   "id": "6288eea7",
   "metadata": {},
   "outputs": [
    {
     "name": "stdout",
     "output_type": "stream",
     "text": [
      "CPU times: user 663 ms, sys: 165 ms, total: 828 ms\n",
      "Wall time: 900 ms\n"
     ]
    }
   ],
   "source": [
    "%%time\n",
    "dataset = Dataset.construct(\n",
    "    interactions_df=train,\n",
    "    user_features_df=user_features,\n",
    "    item_features_df=item_features,\n",
    "    cat_user_features=[\"sex\", \"age\", \"income\"],\n",
    "    cat_item_features=['age_feature', 'content_type', 'countries', 'genre', 'studios']\n",
    ")"
   ]
  },
  {
   "cell_type": "code",
   "execution_count": 67,
   "id": "d027f149",
   "metadata": {},
   "outputs": [],
   "source": [
    "TEST_USERS = test[Columns.User].unique()"
   ]
  },
  {
   "cell_type": "markdown",
   "id": "b73393d0",
   "metadata": {},
   "source": [
    "## Baseline LightFM"
   ]
  },
  {
   "cell_type": "code",
   "execution_count": 69,
   "id": "c99924ca",
   "metadata": {},
   "outputs": [],
   "source": [
    "model = LightFMWrapperModel(\n",
    "    LightFM(\n",
    "        k=5,\n",
    "        no_components=32,\n",
    "        loss='warp',\n",
    "        random_state=RANDOM_STATE,\n",
    "        learning_rate=0.081651,\n",
    "        user_alpha=USER_ALPHA,\n",
    "        item_alpha=ITEM_ALPHA\n",
    "    ),\n",
    "    epochs=N_EPOCHS,\n",
    "    num_threads=NUM_THREADS\n",
    ")"
   ]
  },
  {
   "cell_type": "code",
   "execution_count": 70,
   "id": "d3907c1d",
   "metadata": {},
   "outputs": [
    {
     "data": {
      "text/plain": [
       "<rectools.models.lightfm.LightFMWrapperModel at 0x7fadc6c02340>"
      ]
     },
     "execution_count": 70,
     "metadata": {},
     "output_type": "execute_result"
    }
   ],
   "source": [
    "model.fit(dataset)"
   ]
  },
  {
   "cell_type": "code",
   "execution_count": 71,
   "id": "b2050a6e",
   "metadata": {},
   "outputs": [],
   "source": [
    "recos = model.recommend(\n",
    "    users=TEST_USERS,\n",
    "    dataset=dataset,\n",
    "    k=K_RECOS,\n",
    "    filter_viewed=True,\n",
    ")"
   ]
  },
  {
   "cell_type": "code",
   "execution_count": 72,
   "id": "8c7da423",
   "metadata": {},
   "outputs": [
    {
     "data": {
      "text/html": [
       "<div>\n",
       "<style scoped>\n",
       "    .dataframe tbody tr th:only-of-type {\n",
       "        vertical-align: middle;\n",
       "    }\n",
       "\n",
       "    .dataframe tbody tr th {\n",
       "        vertical-align: top;\n",
       "    }\n",
       "\n",
       "    .dataframe thead th {\n",
       "        text-align: right;\n",
       "    }\n",
       "</style>\n",
       "<table border=\"1\" class=\"dataframe\">\n",
       "  <thead>\n",
       "    <tr style=\"text-align: right;\">\n",
       "      <th></th>\n",
       "      <th>user_id</th>\n",
       "      <th>item_id</th>\n",
       "      <th>score</th>\n",
       "      <th>rank</th>\n",
       "    </tr>\n",
       "  </thead>\n",
       "  <tbody>\n",
       "    <tr>\n",
       "      <th>0</th>\n",
       "      <td>203219</td>\n",
       "      <td>10440</td>\n",
       "      <td>6.980337</td>\n",
       "      <td>1</td>\n",
       "    </tr>\n",
       "    <tr>\n",
       "      <th>1</th>\n",
       "      <td>203219</td>\n",
       "      <td>15297</td>\n",
       "      <td>6.950036</td>\n",
       "      <td>2</td>\n",
       "    </tr>\n",
       "    <tr>\n",
       "      <th>2</th>\n",
       "      <td>203219</td>\n",
       "      <td>13865</td>\n",
       "      <td>6.413501</td>\n",
       "      <td>3</td>\n",
       "    </tr>\n",
       "    <tr>\n",
       "      <th>3</th>\n",
       "      <td>203219</td>\n",
       "      <td>9728</td>\n",
       "      <td>6.361548</td>\n",
       "      <td>4</td>\n",
       "    </tr>\n",
       "    <tr>\n",
       "      <th>4</th>\n",
       "      <td>203219</td>\n",
       "      <td>4151</td>\n",
       "      <td>6.287244</td>\n",
       "      <td>5</td>\n",
       "    </tr>\n",
       "  </tbody>\n",
       "</table>\n",
       "</div>"
      ],
      "text/plain": [
       "   user_id  item_id     score  rank\n",
       "0   203219    10440  6.980337     1\n",
       "1   203219    15297  6.950036     2\n",
       "2   203219    13865  6.413501     3\n",
       "3   203219     9728  6.361548     4\n",
       "4   203219     4151  6.287244     5"
      ]
     },
     "execution_count": 72,
     "metadata": {},
     "output_type": "execute_result"
    }
   ],
   "source": [
    "recos.head()"
   ]
  },
  {
   "cell_type": "code",
   "execution_count": 73,
   "id": "6bbe3ff3",
   "metadata": {},
   "outputs": [
    {
     "data": {
      "text/plain": [
       "{'Precision@1': 0.07467204843592332,\n",
       " 'Recall@1': 0.03845573009300656,\n",
       " 'Precision@2': 0.0649131658611716,\n",
       " 'Recall@2': 0.06533320917725449,\n",
       " 'Precision@3': 0.05858575129380801,\n",
       " 'Recall@3': 0.08732125781565075,\n",
       " 'Precision@4': 0.053242338945244036,\n",
       " 'Recall@4': 0.10450467843880465,\n",
       " 'Precision@5': 0.04813673942677076,\n",
       " 'Recall@5': 0.11660090113349054,\n",
       " 'Precision@6': 0.04386112438850237,\n",
       " 'Recall@6': 0.12606432618063965,\n",
       " 'Precision@7': 0.04029751472525916,\n",
       " 'Recall@7': 0.13385118540696275,\n",
       " 'Precision@8': 0.037416795014782164,\n",
       " 'Recall@8': 0.14120255388899725,\n",
       " 'Precision@9': 0.03498445069957099,\n",
       " 'Recall@9': 0.14776157788428726,\n",
       " 'Precision@10': 0.03296510701577354,\n",
       " 'Recall@10': 0.15403037510704012,\n",
       " 'MAP@1': 0.03845573009300656,\n",
       " 'MAP@2': 0.05246902559206522,\n",
       " 'MAP@3': 0.06034291707347781,\n",
       " 'MAP@4': 0.06511711937144428,\n",
       " 'MAP@5': 0.06788409272317658,\n",
       " 'MAP@6': 0.06973275065780024,\n",
       " 'MAP@7': 0.071056944551092,\n",
       " 'MAP@8': 0.07213601259055538,\n",
       " 'MAP@9': 0.0730308574271295,\n",
       " 'MAP@10': 0.07379233810864445}"
      ]
     },
     "execution_count": 73,
     "metadata": {},
     "output_type": "execute_result"
    }
   ],
   "source": [
    "metric_values = calc_metrics(metrics, recos, test, train)\n",
    "metric_values"
   ]
  },
  {
   "cell_type": "code",
   "execution_count": 75,
   "id": "d3eead34",
   "metadata": {},
   "outputs": [],
   "source": [
    "recos = recos[['user_id', 'item_id']]\n",
    "recos.to_csv('../data/base_LightFM.csv.gz', index=False, compression='gzip')"
   ]
  },
  {
   "cell_type": "markdown",
   "id": "bb0b92d4",
   "metadata": {},
   "source": [
    "## Grid Search ALS and LightFM"
   ]
  },
  {
   "cell_type": "code",
   "execution_count": null,
   "id": "1740223a",
   "metadata": {},
   "outputs": [],
   "source": [
    "models = {}\n",
    "implicit_models = {\n",
    "    'ALS': AlternatingLeastSquares,\n",
    "}\n",
    "for implicit_name, implicit_model in implicit_models.items():\n",
    "    for is_fitting_features in (True, False):\n",
    "        for n_factors in N_FACTORS:\n",
    "            models[f\"{implicit_name}_{n_factors}_{is_fitting_features}\"] = (\n",
    "                ImplicitALSWrapperModel(\n",
    "                    model=implicit_model(\n",
    "                        factors=n_factors,\n",
    "                        random_state=RANDOM_STATE,\n",
    "                        num_threads=NUM_THREADS,\n",
    "                    ),\n",
    "                    fit_features_together=is_fitting_features,\n",
    "                )\n",
    "            )\n",
    "\n",
    "for loss in ('logistic', 'bpr', 'warp'): # lightfm losses\n",
    "    for n_factors in N_FACTORS:\n",
    "        models[f\"LightFM_{loss}_{n_factors}\"] = LightFMWrapperModel(\n",
    "            LightFM(\n",
    "                no_components=n_factors,\n",
    "                loss=loss,\n",
    "                random_state=RANDOM_STATE,\n",
    "                learning_rate=LEARNING_RATE,\n",
    "                user_alpha=USER_ALPHA,\n",
    "                item_alpha=ITEM_ALPHA,\n",
    "            ),\n",
    "            epochs=N_EPOCHS,\n",
    "            num_threads=NUM_THREADS,\n",
    "        )\n",
    "\n",
    "print(models)"
   ]
  },
  {
   "cell_type": "code",
   "execution_count": 76,
   "id": "0d5edb2b",
   "metadata": {},
   "outputs": [
    {
     "name": "stdout",
     "output_type": "stream",
     "text": [
      "Fitting model ALS_32_True...\n"
     ]
    },
    {
     "ename": "KeyboardInterrupt",
     "evalue": "",
     "output_type": "error",
     "traceback": [
      "\u001B[0;31m---------------------------------------------------------------------------\u001B[0m",
      "\u001B[0;31mKeyboardInterrupt\u001B[0m                         Traceback (most recent call last)",
      "File \u001B[0;32m<timed exec>:6\u001B[0m\n",
      "File \u001B[0;32m~/PycharmProjects/RecoServiceMTS_v2/.venv/lib/python3.9/site-packages/rectools/models/base.py:55\u001B[0m, in \u001B[0;36mModelBase.fit\u001B[0;34m(self, dataset, *args, **kwargs)\u001B[0m\n\u001B[1;32m     42\u001B[0m \u001B[38;5;28;01mdef\u001B[39;00m \u001B[38;5;21mfit\u001B[39m(\u001B[38;5;28mself\u001B[39m: T, dataset: Dataset, \u001B[38;5;241m*\u001B[39margs: tp\u001B[38;5;241m.\u001B[39mAny, \u001B[38;5;241m*\u001B[39m\u001B[38;5;241m*\u001B[39mkwargs: tp\u001B[38;5;241m.\u001B[39mAny) \u001B[38;5;241m-\u001B[39m\u001B[38;5;241m>\u001B[39m T:\n\u001B[1;32m     43\u001B[0m     \u001B[38;5;124;03m\"\"\"\u001B[39;00m\n\u001B[1;32m     44\u001B[0m \u001B[38;5;124;03m    Fit model.\u001B[39;00m\n\u001B[1;32m     45\u001B[0m \n\u001B[0;32m   (...)\u001B[0m\n\u001B[1;32m     53\u001B[0m \u001B[38;5;124;03m    self\u001B[39;00m\n\u001B[1;32m     54\u001B[0m \u001B[38;5;124;03m    \"\"\"\u001B[39;00m\n\u001B[0;32m---> 55\u001B[0m     \u001B[38;5;28;43mself\u001B[39;49m\u001B[38;5;241;43m.\u001B[39;49m\u001B[43m_fit\u001B[49m\u001B[43m(\u001B[49m\u001B[43mdataset\u001B[49m\u001B[43m,\u001B[49m\u001B[43m \u001B[49m\u001B[38;5;241;43m*\u001B[39;49m\u001B[43margs\u001B[49m\u001B[43m,\u001B[49m\u001B[43m \u001B[49m\u001B[38;5;241;43m*\u001B[39;49m\u001B[38;5;241;43m*\u001B[39;49m\u001B[43mkwargs\u001B[49m\u001B[43m)\u001B[49m\n\u001B[1;32m     56\u001B[0m     \u001B[38;5;28mself\u001B[39m\u001B[38;5;241m.\u001B[39mis_fitted \u001B[38;5;241m=\u001B[39m \u001B[38;5;28;01mTrue\u001B[39;00m\n\u001B[1;32m     57\u001B[0m     \u001B[38;5;28;01mreturn\u001B[39;00m \u001B[38;5;28mself\u001B[39m\n",
      "File \u001B[0;32m~/PycharmProjects/RecoServiceMTS_v2/.venv/lib/python3.9/site-packages/rectools/models/implicit_als.py:71\u001B[0m, in \u001B[0;36mImplicitALSWrapperModel._fit\u001B[0;34m(self, dataset)\u001B[0m\n\u001B[1;32m     68\u001B[0m ui_csr \u001B[38;5;241m=\u001B[39m dataset\u001B[38;5;241m.\u001B[39mget_user_item_matrix(include_weights\u001B[38;5;241m=\u001B[39m\u001B[38;5;28;01mTrue\u001B[39;00m)\n\u001B[1;32m     70\u001B[0m \u001B[38;5;28;01mif\u001B[39;00m \u001B[38;5;28mself\u001B[39m\u001B[38;5;241m.\u001B[39mfit_features_together:\n\u001B[0;32m---> 71\u001B[0m     user_factors, item_factors \u001B[38;5;241m=\u001B[39m \u001B[43mfit_als_with_features_together\u001B[49m\u001B[43m(\u001B[49m\n\u001B[1;32m     72\u001B[0m \u001B[43m        \u001B[49m\u001B[38;5;28;43mself\u001B[39;49m\u001B[38;5;241;43m.\u001B[39;49m\u001B[43mmodel\u001B[49m\u001B[43m,\u001B[49m\n\u001B[1;32m     73\u001B[0m \u001B[43m        \u001B[49m\u001B[43mui_csr\u001B[49m\u001B[43m,\u001B[49m\n\u001B[1;32m     74\u001B[0m \u001B[43m        \u001B[49m\u001B[43mdataset\u001B[49m\u001B[38;5;241;43m.\u001B[39;49m\u001B[43muser_features\u001B[49m\u001B[43m,\u001B[49m\n\u001B[1;32m     75\u001B[0m \u001B[43m        \u001B[49m\u001B[43mdataset\u001B[49m\u001B[38;5;241;43m.\u001B[39;49m\u001B[43mitem_features\u001B[49m\u001B[43m,\u001B[49m\n\u001B[1;32m     76\u001B[0m \u001B[43m        \u001B[49m\u001B[38;5;28;43mself\u001B[39;49m\u001B[38;5;241;43m.\u001B[39;49m\u001B[43mverbose\u001B[49m\u001B[43m,\u001B[49m\n\u001B[1;32m     77\u001B[0m \u001B[43m    \u001B[49m\u001B[43m)\u001B[49m\n\u001B[1;32m     78\u001B[0m \u001B[38;5;28;01melse\u001B[39;00m:\n\u001B[1;32m     79\u001B[0m     user_factors, item_factors \u001B[38;5;241m=\u001B[39m fit_als_with_features_separately(\n\u001B[1;32m     80\u001B[0m         \u001B[38;5;28mself\u001B[39m\u001B[38;5;241m.\u001B[39mmodel,\n\u001B[1;32m     81\u001B[0m         ui_csr,\n\u001B[0;32m   (...)\u001B[0m\n\u001B[1;32m     84\u001B[0m         \u001B[38;5;28mself\u001B[39m\u001B[38;5;241m.\u001B[39mverbose,\n\u001B[1;32m     85\u001B[0m     )\n",
      "File \u001B[0;32m~/PycharmProjects/RecoServiceMTS_v2/.venv/lib/python3.9/site-packages/rectools/models/implicit_als.py:317\u001B[0m, in \u001B[0;36mfit_als_with_features_together\u001B[0;34m(model, ui_csr, user_features, item_features, verbose)\u001B[0m\n\u001B[1;32m    307\u001B[0m     _fit_combined_factors_on_gpu_inplace(\n\u001B[1;32m    308\u001B[0m         model,\n\u001B[1;32m    309\u001B[0m         ui_csr,\n\u001B[0;32m   (...)\u001B[0m\n\u001B[1;32m    314\u001B[0m         verbose,\n\u001B[1;32m    315\u001B[0m     )\n\u001B[1;32m    316\u001B[0m \u001B[38;5;28;01melse\u001B[39;00m:\n\u001B[0;32m--> 317\u001B[0m     \u001B[43m_fit_combined_factors_on_cpu_inplace\u001B[49m\u001B[43m(\u001B[49m\n\u001B[1;32m    318\u001B[0m \u001B[43m        \u001B[49m\u001B[43mmodel\u001B[49m\u001B[43m,\u001B[49m\n\u001B[1;32m    319\u001B[0m \u001B[43m        \u001B[49m\u001B[43mui_csr\u001B[49m\u001B[43m,\u001B[49m\n\u001B[1;32m    320\u001B[0m \u001B[43m        \u001B[49m\u001B[43muser_factors\u001B[49m\u001B[43m,\u001B[49m\n\u001B[1;32m    321\u001B[0m \u001B[43m        \u001B[49m\u001B[43mitem_factors\u001B[49m\u001B[43m,\u001B[49m\n\u001B[1;32m    322\u001B[0m \u001B[43m        \u001B[49m\u001B[43mn_user_explicit_factors\u001B[49m\u001B[43m,\u001B[49m\n\u001B[1;32m    323\u001B[0m \u001B[43m        \u001B[49m\u001B[43mn_item_explicit_factors\u001B[49m\u001B[43m,\u001B[49m\n\u001B[1;32m    324\u001B[0m \u001B[43m        \u001B[49m\u001B[43mverbose\u001B[49m\u001B[43m,\u001B[49m\n\u001B[1;32m    325\u001B[0m \u001B[43m    \u001B[49m\u001B[43m)\u001B[49m\n\u001B[1;32m    327\u001B[0m \u001B[38;5;28;01mreturn\u001B[39;00m user_factors, item_factors\n",
      "File \u001B[0;32m~/PycharmProjects/RecoServiceMTS_v2/.venv/lib/python3.9/site-packages/rectools/models/implicit_als.py:345\u001B[0m, in \u001B[0;36m_fit_combined_factors_on_cpu_inplace\u001B[0;34m(model, ui_csr, user_factors, item_factors, n_user_explicit_factors, n_item_explicit_factors, verbose)\u001B[0m\n\u001B[1;32m    342\u001B[0m iu_csr \u001B[38;5;241m=\u001B[39m ui_csr\u001B[38;5;241m.\u001B[39mT\u001B[38;5;241m.\u001B[39mtocsr(copy\u001B[38;5;241m=\u001B[39m\u001B[38;5;28;01mFalse\u001B[39;00m)\n\u001B[1;32m    344\u001B[0m \u001B[38;5;28;01mfor\u001B[39;00m _ \u001B[38;5;129;01min\u001B[39;00m tqdm(\u001B[38;5;28mrange\u001B[39m(model\u001B[38;5;241m.\u001B[39miterations), disable\u001B[38;5;241m=\u001B[39mverbose \u001B[38;5;241m==\u001B[39m \u001B[38;5;241m0\u001B[39m):\n\u001B[0;32m--> 345\u001B[0m     \u001B[43mmodel\u001B[49m\u001B[38;5;241;43m.\u001B[39;49m\u001B[43msolver\u001B[49m\u001B[43m(\u001B[49m\n\u001B[1;32m    346\u001B[0m \u001B[43m        \u001B[49m\u001B[43mui_csr\u001B[49m\u001B[43m,\u001B[49m\n\u001B[1;32m    347\u001B[0m \u001B[43m        \u001B[49m\u001B[43muser_factors\u001B[49m\u001B[43m,\u001B[49m\n\u001B[1;32m    348\u001B[0m \u001B[43m        \u001B[49m\u001B[43mitem_factors\u001B[49m\u001B[43m,\u001B[49m\n\u001B[1;32m    349\u001B[0m \u001B[43m        \u001B[49m\u001B[43mmodel\u001B[49m\u001B[38;5;241;43m.\u001B[39;49m\u001B[43mregularization\u001B[49m\u001B[43m,\u001B[49m\n\u001B[1;32m    350\u001B[0m \u001B[43m        \u001B[49m\u001B[43mmodel\u001B[49m\u001B[38;5;241;43m.\u001B[39;49m\u001B[43mnum_threads\u001B[49m\u001B[43m,\u001B[49m\n\u001B[1;32m    351\u001B[0m \u001B[43m    \u001B[49m\u001B[43m)\u001B[49m\n\u001B[1;32m    352\u001B[0m     user_factors[:, :n_user_explicit_factors] \u001B[38;5;241m=\u001B[39m user_explicit_factors\n\u001B[1;32m    354\u001B[0m     model\u001B[38;5;241m.\u001B[39msolver(\n\u001B[1;32m    355\u001B[0m         iu_csr,\n\u001B[1;32m    356\u001B[0m         item_factors,\n\u001B[0;32m   (...)\u001B[0m\n\u001B[1;32m    359\u001B[0m         model\u001B[38;5;241m.\u001B[39mnum_threads,\n\u001B[1;32m    360\u001B[0m     )\n",
      "\u001B[0;31mKeyboardInterrupt\u001B[0m: "
     ]
    }
   ],
   "source": [
    "%%time\n",
    "results = []\n",
    "for model_name, model in models.items():\n",
    "    print(f\"Fitting model {model_name}...\")\n",
    "    model_quality = {'model': model_name}\n",
    "\n",
    "    model.fit(dataset)\n",
    "    recos = model.recommend(\n",
    "        users=TEST_USERS,\n",
    "        dataset=dataset,\n",
    "        k=K_RECOS,\n",
    "        filter_viewed=True,\n",
    "    )\n",
    "    metric_values = calc_metrics(metrics, recos, test, train)\n",
    "    model_quality.update(metric_values)\n",
    "    results.append(model_quality)\n",
    "\n",
    "df_quality_grid_search = pd.DataFrame(results).T\n",
    "df_quality_grid_search.columns = df_quality_grid_search.iloc[0]\n",
    "df_quality_grid_search.drop('model', inplace=True)\n",
    "\n",
    "df_quality_grid_search.style.highlight_max(color='lightgreen', axis=1)"
   ]
  },
  {
   "cell_type": "markdown",
   "id": "2c603783",
   "metadata": {},
   "source": [
    "# Optuna"
   ]
  },
  {
   "cell_type": "code",
   "execution_count": 77,
   "id": "a17b8b66",
   "metadata": {},
   "outputs": [
    {
     "name": "stderr",
     "output_type": "stream",
     "text": [
      "\u001B[32m[I 2022-12-11 01:16:32,212]\u001B[0m A new study created in memory with name: no-name-db609323-c8c4-4475-8bcf-6d559813862c\u001B[0m\n",
      "\u001B[32m[I 2022-12-11 01:17:37,725]\u001B[0m Trial 0 finished with value: 3.6209115294627156e-05 and parameters: {'recomender': 'LightFM', 'learning_rate': 0.5486709126434274, 'k': 3, 'loss': 'warp', 'no_components': 57}. Best is trial 0 with value: 3.6209115294627156e-05.\u001B[0m\n"
     ]
    },
    {
     "name": "stdout",
     "output_type": "stream",
     "text": [
      "MAP@10 3.6209115294627156e-05\n"
     ]
    },
    {
     "name": "stderr",
     "output_type": "stream",
     "text": [
      "\u001B[33m[W 2022-12-11 01:36:33,239]\u001B[0m Trial 1 failed because of the following error: KeyboardInterrupt()\u001B[0m\n",
      "Traceback (most recent call last):\n",
      "  File \"/Users/renat/PycharmProjects/RecoServiceMTS_v2/.venv/lib/python3.9/site-packages/optuna/study/_optimize.py\", line 196, in _run_trial\n",
      "    value_or_values = func(trial)\n",
      "  File \"/var/folders/f8/ytvrd_xj4gvd76trh8sqryh80000gn/T/ipykernel_2736/210213320.py\", line 38, in objective\n",
      "    model.fit(dataset)\n",
      "  File \"/Users/renat/PycharmProjects/RecoServiceMTS_v2/.venv/lib/python3.9/site-packages/rectools/models/base.py\", line 55, in fit\n",
      "    self._fit(dataset, *args, **kwargs)\n",
      "  File \"/Users/renat/PycharmProjects/RecoServiceMTS_v2/.venv/lib/python3.9/site-packages/rectools/models/implicit_als.py\", line 71, in _fit\n",
      "    user_factors, item_factors = fit_als_with_features_together(\n",
      "  File \"/Users/renat/PycharmProjects/RecoServiceMTS_v2/.venv/lib/python3.9/site-packages/rectools/models/implicit_als.py\", line 317, in fit_als_with_features_together\n",
      "    _fit_combined_factors_on_cpu_inplace(\n",
      "  File \"/Users/renat/PycharmProjects/RecoServiceMTS_v2/.venv/lib/python3.9/site-packages/rectools/models/implicit_als.py\", line 345, in _fit_combined_factors_on_cpu_inplace\n",
      "    model.solver(\n",
      "KeyboardInterrupt\n"
     ]
    },
    {
     "ename": "KeyboardInterrupt",
     "evalue": "",
     "output_type": "error",
     "traceback": [
      "\u001B[0;31m---------------------------------------------------------------------------\u001B[0m",
      "\u001B[0;31mKeyboardInterrupt\u001B[0m                         Traceback (most recent call last)",
      "Cell \u001B[0;32mIn[77], line 51\u001B[0m\n\u001B[1;32m     48\u001B[0m     \u001B[38;5;28;01mreturn\u001B[39;00m metric\n\u001B[1;32m     50\u001B[0m study \u001B[38;5;241m=\u001B[39m optuna\u001B[38;5;241m.\u001B[39mcreate_study(direction \u001B[38;5;241m=\u001B[39m \u001B[38;5;124m'\u001B[39m\u001B[38;5;124mmaximize\u001B[39m\u001B[38;5;124m'\u001B[39m)\n\u001B[0;32m---> 51\u001B[0m \u001B[43mstudy\u001B[49m\u001B[38;5;241;43m.\u001B[39;49m\u001B[43moptimize\u001B[49m\u001B[43m(\u001B[49m\u001B[43mobjective\u001B[49m\u001B[43m,\u001B[49m\u001B[43m \u001B[49m\u001B[43mn_trials\u001B[49m\u001B[43m \u001B[49m\u001B[38;5;241;43m=\u001B[39;49m\u001B[43m \u001B[49m\u001B[38;5;241;43m10\u001B[39;49m\u001B[43m)\u001B[49m\n",
      "File \u001B[0;32m~/PycharmProjects/RecoServiceMTS_v2/.venv/lib/python3.9/site-packages/optuna/study/study.py:419\u001B[0m, in \u001B[0;36mStudy.optimize\u001B[0;34m(self, func, n_trials, timeout, n_jobs, catch, callbacks, gc_after_trial, show_progress_bar)\u001B[0m\n\u001B[1;32m    315\u001B[0m \u001B[38;5;28;01mdef\u001B[39;00m \u001B[38;5;21moptimize\u001B[39m(\n\u001B[1;32m    316\u001B[0m     \u001B[38;5;28mself\u001B[39m,\n\u001B[1;32m    317\u001B[0m     func: ObjectiveFuncType,\n\u001B[0;32m   (...)\u001B[0m\n\u001B[1;32m    324\u001B[0m     show_progress_bar: \u001B[38;5;28mbool\u001B[39m \u001B[38;5;241m=\u001B[39m \u001B[38;5;28;01mFalse\u001B[39;00m,\n\u001B[1;32m    325\u001B[0m ) \u001B[38;5;241m-\u001B[39m\u001B[38;5;241m>\u001B[39m \u001B[38;5;28;01mNone\u001B[39;00m:\n\u001B[1;32m    326\u001B[0m     \u001B[38;5;124;03m\"\"\"Optimize an objective function.\u001B[39;00m\n\u001B[1;32m    327\u001B[0m \n\u001B[1;32m    328\u001B[0m \u001B[38;5;124;03m    Optimization is done by choosing a suitable set of hyperparameter values from a given\u001B[39;00m\n\u001B[0;32m   (...)\u001B[0m\n\u001B[1;32m    416\u001B[0m \u001B[38;5;124;03m            If nested invocation of this method occurs.\u001B[39;00m\n\u001B[1;32m    417\u001B[0m \u001B[38;5;124;03m    \"\"\"\u001B[39;00m\n\u001B[0;32m--> 419\u001B[0m     \u001B[43m_optimize\u001B[49m\u001B[43m(\u001B[49m\n\u001B[1;32m    420\u001B[0m \u001B[43m        \u001B[49m\u001B[43mstudy\u001B[49m\u001B[38;5;241;43m=\u001B[39;49m\u001B[38;5;28;43mself\u001B[39;49m\u001B[43m,\u001B[49m\n\u001B[1;32m    421\u001B[0m \u001B[43m        \u001B[49m\u001B[43mfunc\u001B[49m\u001B[38;5;241;43m=\u001B[39;49m\u001B[43mfunc\u001B[49m\u001B[43m,\u001B[49m\n\u001B[1;32m    422\u001B[0m \u001B[43m        \u001B[49m\u001B[43mn_trials\u001B[49m\u001B[38;5;241;43m=\u001B[39;49m\u001B[43mn_trials\u001B[49m\u001B[43m,\u001B[49m\n\u001B[1;32m    423\u001B[0m \u001B[43m        \u001B[49m\u001B[43mtimeout\u001B[49m\u001B[38;5;241;43m=\u001B[39;49m\u001B[43mtimeout\u001B[49m\u001B[43m,\u001B[49m\n\u001B[1;32m    424\u001B[0m \u001B[43m        \u001B[49m\u001B[43mn_jobs\u001B[49m\u001B[38;5;241;43m=\u001B[39;49m\u001B[43mn_jobs\u001B[49m\u001B[43m,\u001B[49m\n\u001B[1;32m    425\u001B[0m \u001B[43m        \u001B[49m\u001B[43mcatch\u001B[49m\u001B[38;5;241;43m=\u001B[39;49m\u001B[43mcatch\u001B[49m\u001B[43m,\u001B[49m\n\u001B[1;32m    426\u001B[0m \u001B[43m        \u001B[49m\u001B[43mcallbacks\u001B[49m\u001B[38;5;241;43m=\u001B[39;49m\u001B[43mcallbacks\u001B[49m\u001B[43m,\u001B[49m\n\u001B[1;32m    427\u001B[0m \u001B[43m        \u001B[49m\u001B[43mgc_after_trial\u001B[49m\u001B[38;5;241;43m=\u001B[39;49m\u001B[43mgc_after_trial\u001B[49m\u001B[43m,\u001B[49m\n\u001B[1;32m    428\u001B[0m \u001B[43m        \u001B[49m\u001B[43mshow_progress_bar\u001B[49m\u001B[38;5;241;43m=\u001B[39;49m\u001B[43mshow_progress_bar\u001B[49m\u001B[43m,\u001B[49m\n\u001B[1;32m    429\u001B[0m \u001B[43m    \u001B[49m\u001B[43m)\u001B[49m\n",
      "File \u001B[0;32m~/PycharmProjects/RecoServiceMTS_v2/.venv/lib/python3.9/site-packages/optuna/study/_optimize.py:66\u001B[0m, in \u001B[0;36m_optimize\u001B[0;34m(study, func, n_trials, timeout, n_jobs, catch, callbacks, gc_after_trial, show_progress_bar)\u001B[0m\n\u001B[1;32m     64\u001B[0m \u001B[38;5;28;01mtry\u001B[39;00m:\n\u001B[1;32m     65\u001B[0m     \u001B[38;5;28;01mif\u001B[39;00m n_jobs \u001B[38;5;241m==\u001B[39m \u001B[38;5;241m1\u001B[39m:\n\u001B[0;32m---> 66\u001B[0m         \u001B[43m_optimize_sequential\u001B[49m\u001B[43m(\u001B[49m\n\u001B[1;32m     67\u001B[0m \u001B[43m            \u001B[49m\u001B[43mstudy\u001B[49m\u001B[43m,\u001B[49m\n\u001B[1;32m     68\u001B[0m \u001B[43m            \u001B[49m\u001B[43mfunc\u001B[49m\u001B[43m,\u001B[49m\n\u001B[1;32m     69\u001B[0m \u001B[43m            \u001B[49m\u001B[43mn_trials\u001B[49m\u001B[43m,\u001B[49m\n\u001B[1;32m     70\u001B[0m \u001B[43m            \u001B[49m\u001B[43mtimeout\u001B[49m\u001B[43m,\u001B[49m\n\u001B[1;32m     71\u001B[0m \u001B[43m            \u001B[49m\u001B[43mcatch\u001B[49m\u001B[43m,\u001B[49m\n\u001B[1;32m     72\u001B[0m \u001B[43m            \u001B[49m\u001B[43mcallbacks\u001B[49m\u001B[43m,\u001B[49m\n\u001B[1;32m     73\u001B[0m \u001B[43m            \u001B[49m\u001B[43mgc_after_trial\u001B[49m\u001B[43m,\u001B[49m\n\u001B[1;32m     74\u001B[0m \u001B[43m            \u001B[49m\u001B[43mreseed_sampler_rng\u001B[49m\u001B[38;5;241;43m=\u001B[39;49m\u001B[38;5;28;43;01mFalse\u001B[39;49;00m\u001B[43m,\u001B[49m\n\u001B[1;32m     75\u001B[0m \u001B[43m            \u001B[49m\u001B[43mtime_start\u001B[49m\u001B[38;5;241;43m=\u001B[39;49m\u001B[38;5;28;43;01mNone\u001B[39;49;00m\u001B[43m,\u001B[49m\n\u001B[1;32m     76\u001B[0m \u001B[43m            \u001B[49m\u001B[43mprogress_bar\u001B[49m\u001B[38;5;241;43m=\u001B[39;49m\u001B[43mprogress_bar\u001B[49m\u001B[43m,\u001B[49m\n\u001B[1;32m     77\u001B[0m \u001B[43m        \u001B[49m\u001B[43m)\u001B[49m\n\u001B[1;32m     78\u001B[0m     \u001B[38;5;28;01melse\u001B[39;00m:\n\u001B[1;32m     79\u001B[0m         \u001B[38;5;28;01mif\u001B[39;00m n_jobs \u001B[38;5;241m==\u001B[39m \u001B[38;5;241m-\u001B[39m\u001B[38;5;241m1\u001B[39m:\n",
      "File \u001B[0;32m~/PycharmProjects/RecoServiceMTS_v2/.venv/lib/python3.9/site-packages/optuna/study/_optimize.py:160\u001B[0m, in \u001B[0;36m_optimize_sequential\u001B[0;34m(study, func, n_trials, timeout, catch, callbacks, gc_after_trial, reseed_sampler_rng, time_start, progress_bar)\u001B[0m\n\u001B[1;32m    157\u001B[0m         \u001B[38;5;28;01mbreak\u001B[39;00m\n\u001B[1;32m    159\u001B[0m \u001B[38;5;28;01mtry\u001B[39;00m:\n\u001B[0;32m--> 160\u001B[0m     frozen_trial \u001B[38;5;241m=\u001B[39m \u001B[43m_run_trial\u001B[49m\u001B[43m(\u001B[49m\u001B[43mstudy\u001B[49m\u001B[43m,\u001B[49m\u001B[43m \u001B[49m\u001B[43mfunc\u001B[49m\u001B[43m,\u001B[49m\u001B[43m \u001B[49m\u001B[43mcatch\u001B[49m\u001B[43m)\u001B[49m\n\u001B[1;32m    161\u001B[0m \u001B[38;5;28;01mfinally\u001B[39;00m:\n\u001B[1;32m    162\u001B[0m     \u001B[38;5;66;03m# The following line mitigates memory problems that can be occurred in some\u001B[39;00m\n\u001B[1;32m    163\u001B[0m     \u001B[38;5;66;03m# environments (e.g., services that use computing containers such as CircleCI).\u001B[39;00m\n\u001B[1;32m    164\u001B[0m     \u001B[38;5;66;03m# Please refer to the following PR for further details:\u001B[39;00m\n\u001B[1;32m    165\u001B[0m     \u001B[38;5;66;03m# https://github.com/optuna/optuna/pull/325.\u001B[39;00m\n\u001B[1;32m    166\u001B[0m     \u001B[38;5;28;01mif\u001B[39;00m gc_after_trial:\n",
      "File \u001B[0;32m~/PycharmProjects/RecoServiceMTS_v2/.venv/lib/python3.9/site-packages/optuna/study/_optimize.py:234\u001B[0m, in \u001B[0;36m_run_trial\u001B[0;34m(study, func, catch)\u001B[0m\n\u001B[1;32m    227\u001B[0m         \u001B[38;5;28;01massert\u001B[39;00m \u001B[38;5;28;01mFalse\u001B[39;00m, \u001B[38;5;124m\"\u001B[39m\u001B[38;5;124mShould not reach.\u001B[39m\u001B[38;5;124m\"\u001B[39m\n\u001B[1;32m    229\u001B[0m \u001B[38;5;28;01mif\u001B[39;00m (\n\u001B[1;32m    230\u001B[0m     frozen_trial\u001B[38;5;241m.\u001B[39mstate \u001B[38;5;241m==\u001B[39m TrialState\u001B[38;5;241m.\u001B[39mFAIL\n\u001B[1;32m    231\u001B[0m     \u001B[38;5;129;01mand\u001B[39;00m func_err \u001B[38;5;129;01mis\u001B[39;00m \u001B[38;5;129;01mnot\u001B[39;00m \u001B[38;5;28;01mNone\u001B[39;00m\n\u001B[1;32m    232\u001B[0m     \u001B[38;5;129;01mand\u001B[39;00m \u001B[38;5;129;01mnot\u001B[39;00m \u001B[38;5;28misinstance\u001B[39m(func_err, catch)\n\u001B[1;32m    233\u001B[0m ):\n\u001B[0;32m--> 234\u001B[0m     \u001B[38;5;28;01mraise\u001B[39;00m func_err\n\u001B[1;32m    235\u001B[0m \u001B[38;5;28;01mreturn\u001B[39;00m frozen_trial\n",
      "File \u001B[0;32m~/PycharmProjects/RecoServiceMTS_v2/.venv/lib/python3.9/site-packages/optuna/study/_optimize.py:196\u001B[0m, in \u001B[0;36m_run_trial\u001B[0;34m(study, func, catch)\u001B[0m\n\u001B[1;32m    194\u001B[0m \u001B[38;5;28;01mwith\u001B[39;00m get_heartbeat_thread(trial\u001B[38;5;241m.\u001B[39m_trial_id, study\u001B[38;5;241m.\u001B[39m_storage):\n\u001B[1;32m    195\u001B[0m     \u001B[38;5;28;01mtry\u001B[39;00m:\n\u001B[0;32m--> 196\u001B[0m         value_or_values \u001B[38;5;241m=\u001B[39m \u001B[43mfunc\u001B[49m\u001B[43m(\u001B[49m\u001B[43mtrial\u001B[49m\u001B[43m)\u001B[49m\n\u001B[1;32m    197\u001B[0m     \u001B[38;5;28;01mexcept\u001B[39;00m exceptions\u001B[38;5;241m.\u001B[39mTrialPruned \u001B[38;5;28;01mas\u001B[39;00m e:\n\u001B[1;32m    198\u001B[0m         \u001B[38;5;66;03m# TODO(mamu): Handle multi-objective cases.\u001B[39;00m\n\u001B[1;32m    199\u001B[0m         state \u001B[38;5;241m=\u001B[39m TrialState\u001B[38;5;241m.\u001B[39mPRUNED\n",
      "Cell \u001B[0;32mIn[77], line 38\u001B[0m, in \u001B[0;36mobjective\u001B[0;34m(trial)\u001B[0m\n\u001B[1;32m     28\u001B[0m     model \u001B[38;5;241m=\u001B[39m ImplicitALSWrapperModel(\n\u001B[1;32m     29\u001B[0m         model\u001B[38;5;241m=\u001B[39mAlternatingLeastSquares(\n\u001B[1;32m     30\u001B[0m             factors\u001B[38;5;241m=\u001B[39mfactors,\n\u001B[0;32m   (...)\u001B[0m\n\u001B[1;32m     35\u001B[0m         fit_features_together\u001B[38;5;241m=\u001B[39m\u001B[38;5;28;01mTrue\u001B[39;00m\n\u001B[1;32m     36\u001B[0m     )\n\u001B[1;32m     37\u001B[0m \u001B[38;5;66;03m# Обучение модели и предикт для подсчета метрик\u001B[39;00m\n\u001B[0;32m---> 38\u001B[0m \u001B[43mmodel\u001B[49m\u001B[38;5;241;43m.\u001B[39;49m\u001B[43mfit\u001B[49m\u001B[43m(\u001B[49m\u001B[43mdataset\u001B[49m\u001B[43m)\u001B[49m\n\u001B[1;32m     40\u001B[0m recos \u001B[38;5;241m=\u001B[39m model\u001B[38;5;241m.\u001B[39mrecommend(\n\u001B[1;32m     41\u001B[0m     users\u001B[38;5;241m=\u001B[39mTEST_USERS,\n\u001B[1;32m     42\u001B[0m     dataset\u001B[38;5;241m=\u001B[39mdataset,\n\u001B[1;32m     43\u001B[0m     k\u001B[38;5;241m=\u001B[39mK_RECOS,\n\u001B[1;32m     44\u001B[0m     filter_viewed\u001B[38;5;241m=\u001B[39m\u001B[38;5;28;01mTrue\u001B[39;00m\n\u001B[1;32m     45\u001B[0m )\n\u001B[1;32m     46\u001B[0m metric \u001B[38;5;241m=\u001B[39m calc_metrics(metrics, recos, test, train)[\u001B[38;5;124m'\u001B[39m\u001B[38;5;124mMAP@10\u001B[39m\u001B[38;5;124m'\u001B[39m]\n",
      "File \u001B[0;32m~/PycharmProjects/RecoServiceMTS_v2/.venv/lib/python3.9/site-packages/rectools/models/base.py:55\u001B[0m, in \u001B[0;36mModelBase.fit\u001B[0;34m(self, dataset, *args, **kwargs)\u001B[0m\n\u001B[1;32m     42\u001B[0m \u001B[38;5;28;01mdef\u001B[39;00m \u001B[38;5;21mfit\u001B[39m(\u001B[38;5;28mself\u001B[39m: T, dataset: Dataset, \u001B[38;5;241m*\u001B[39margs: tp\u001B[38;5;241m.\u001B[39mAny, \u001B[38;5;241m*\u001B[39m\u001B[38;5;241m*\u001B[39mkwargs: tp\u001B[38;5;241m.\u001B[39mAny) \u001B[38;5;241m-\u001B[39m\u001B[38;5;241m>\u001B[39m T:\n\u001B[1;32m     43\u001B[0m     \u001B[38;5;124;03m\"\"\"\u001B[39;00m\n\u001B[1;32m     44\u001B[0m \u001B[38;5;124;03m    Fit model.\u001B[39;00m\n\u001B[1;32m     45\u001B[0m \n\u001B[0;32m   (...)\u001B[0m\n\u001B[1;32m     53\u001B[0m \u001B[38;5;124;03m    self\u001B[39;00m\n\u001B[1;32m     54\u001B[0m \u001B[38;5;124;03m    \"\"\"\u001B[39;00m\n\u001B[0;32m---> 55\u001B[0m     \u001B[38;5;28;43mself\u001B[39;49m\u001B[38;5;241;43m.\u001B[39;49m\u001B[43m_fit\u001B[49m\u001B[43m(\u001B[49m\u001B[43mdataset\u001B[49m\u001B[43m,\u001B[49m\u001B[43m \u001B[49m\u001B[38;5;241;43m*\u001B[39;49m\u001B[43margs\u001B[49m\u001B[43m,\u001B[49m\u001B[43m \u001B[49m\u001B[38;5;241;43m*\u001B[39;49m\u001B[38;5;241;43m*\u001B[39;49m\u001B[43mkwargs\u001B[49m\u001B[43m)\u001B[49m\n\u001B[1;32m     56\u001B[0m     \u001B[38;5;28mself\u001B[39m\u001B[38;5;241m.\u001B[39mis_fitted \u001B[38;5;241m=\u001B[39m \u001B[38;5;28;01mTrue\u001B[39;00m\n\u001B[1;32m     57\u001B[0m     \u001B[38;5;28;01mreturn\u001B[39;00m \u001B[38;5;28mself\u001B[39m\n",
      "File \u001B[0;32m~/PycharmProjects/RecoServiceMTS_v2/.venv/lib/python3.9/site-packages/rectools/models/implicit_als.py:71\u001B[0m, in \u001B[0;36mImplicitALSWrapperModel._fit\u001B[0;34m(self, dataset)\u001B[0m\n\u001B[1;32m     68\u001B[0m ui_csr \u001B[38;5;241m=\u001B[39m dataset\u001B[38;5;241m.\u001B[39mget_user_item_matrix(include_weights\u001B[38;5;241m=\u001B[39m\u001B[38;5;28;01mTrue\u001B[39;00m)\n\u001B[1;32m     70\u001B[0m \u001B[38;5;28;01mif\u001B[39;00m \u001B[38;5;28mself\u001B[39m\u001B[38;5;241m.\u001B[39mfit_features_together:\n\u001B[0;32m---> 71\u001B[0m     user_factors, item_factors \u001B[38;5;241m=\u001B[39m \u001B[43mfit_als_with_features_together\u001B[49m\u001B[43m(\u001B[49m\n\u001B[1;32m     72\u001B[0m \u001B[43m        \u001B[49m\u001B[38;5;28;43mself\u001B[39;49m\u001B[38;5;241;43m.\u001B[39;49m\u001B[43mmodel\u001B[49m\u001B[43m,\u001B[49m\n\u001B[1;32m     73\u001B[0m \u001B[43m        \u001B[49m\u001B[43mui_csr\u001B[49m\u001B[43m,\u001B[49m\n\u001B[1;32m     74\u001B[0m \u001B[43m        \u001B[49m\u001B[43mdataset\u001B[49m\u001B[38;5;241;43m.\u001B[39;49m\u001B[43muser_features\u001B[49m\u001B[43m,\u001B[49m\n\u001B[1;32m     75\u001B[0m \u001B[43m        \u001B[49m\u001B[43mdataset\u001B[49m\u001B[38;5;241;43m.\u001B[39;49m\u001B[43mitem_features\u001B[49m\u001B[43m,\u001B[49m\n\u001B[1;32m     76\u001B[0m \u001B[43m        \u001B[49m\u001B[38;5;28;43mself\u001B[39;49m\u001B[38;5;241;43m.\u001B[39;49m\u001B[43mverbose\u001B[49m\u001B[43m,\u001B[49m\n\u001B[1;32m     77\u001B[0m \u001B[43m    \u001B[49m\u001B[43m)\u001B[49m\n\u001B[1;32m     78\u001B[0m \u001B[38;5;28;01melse\u001B[39;00m:\n\u001B[1;32m     79\u001B[0m     user_factors, item_factors \u001B[38;5;241m=\u001B[39m fit_als_with_features_separately(\n\u001B[1;32m     80\u001B[0m         \u001B[38;5;28mself\u001B[39m\u001B[38;5;241m.\u001B[39mmodel,\n\u001B[1;32m     81\u001B[0m         ui_csr,\n\u001B[0;32m   (...)\u001B[0m\n\u001B[1;32m     84\u001B[0m         \u001B[38;5;28mself\u001B[39m\u001B[38;5;241m.\u001B[39mverbose,\n\u001B[1;32m     85\u001B[0m     )\n",
      "File \u001B[0;32m~/PycharmProjects/RecoServiceMTS_v2/.venv/lib/python3.9/site-packages/rectools/models/implicit_als.py:317\u001B[0m, in \u001B[0;36mfit_als_with_features_together\u001B[0;34m(model, ui_csr, user_features, item_features, verbose)\u001B[0m\n\u001B[1;32m    307\u001B[0m     _fit_combined_factors_on_gpu_inplace(\n\u001B[1;32m    308\u001B[0m         model,\n\u001B[1;32m    309\u001B[0m         ui_csr,\n\u001B[0;32m   (...)\u001B[0m\n\u001B[1;32m    314\u001B[0m         verbose,\n\u001B[1;32m    315\u001B[0m     )\n\u001B[1;32m    316\u001B[0m \u001B[38;5;28;01melse\u001B[39;00m:\n\u001B[0;32m--> 317\u001B[0m     \u001B[43m_fit_combined_factors_on_cpu_inplace\u001B[49m\u001B[43m(\u001B[49m\n\u001B[1;32m    318\u001B[0m \u001B[43m        \u001B[49m\u001B[43mmodel\u001B[49m\u001B[43m,\u001B[49m\n\u001B[1;32m    319\u001B[0m \u001B[43m        \u001B[49m\u001B[43mui_csr\u001B[49m\u001B[43m,\u001B[49m\n\u001B[1;32m    320\u001B[0m \u001B[43m        \u001B[49m\u001B[43muser_factors\u001B[49m\u001B[43m,\u001B[49m\n\u001B[1;32m    321\u001B[0m \u001B[43m        \u001B[49m\u001B[43mitem_factors\u001B[49m\u001B[43m,\u001B[49m\n\u001B[1;32m    322\u001B[0m \u001B[43m        \u001B[49m\u001B[43mn_user_explicit_factors\u001B[49m\u001B[43m,\u001B[49m\n\u001B[1;32m    323\u001B[0m \u001B[43m        \u001B[49m\u001B[43mn_item_explicit_factors\u001B[49m\u001B[43m,\u001B[49m\n\u001B[1;32m    324\u001B[0m \u001B[43m        \u001B[49m\u001B[43mverbose\u001B[49m\u001B[43m,\u001B[49m\n\u001B[1;32m    325\u001B[0m \u001B[43m    \u001B[49m\u001B[43m)\u001B[49m\n\u001B[1;32m    327\u001B[0m \u001B[38;5;28;01mreturn\u001B[39;00m user_factors, item_factors\n",
      "File \u001B[0;32m~/PycharmProjects/RecoServiceMTS_v2/.venv/lib/python3.9/site-packages/rectools/models/implicit_als.py:345\u001B[0m, in \u001B[0;36m_fit_combined_factors_on_cpu_inplace\u001B[0;34m(model, ui_csr, user_factors, item_factors, n_user_explicit_factors, n_item_explicit_factors, verbose)\u001B[0m\n\u001B[1;32m    342\u001B[0m iu_csr \u001B[38;5;241m=\u001B[39m ui_csr\u001B[38;5;241m.\u001B[39mT\u001B[38;5;241m.\u001B[39mtocsr(copy\u001B[38;5;241m=\u001B[39m\u001B[38;5;28;01mFalse\u001B[39;00m)\n\u001B[1;32m    344\u001B[0m \u001B[38;5;28;01mfor\u001B[39;00m _ \u001B[38;5;129;01min\u001B[39;00m tqdm(\u001B[38;5;28mrange\u001B[39m(model\u001B[38;5;241m.\u001B[39miterations), disable\u001B[38;5;241m=\u001B[39mverbose \u001B[38;5;241m==\u001B[39m \u001B[38;5;241m0\u001B[39m):\n\u001B[0;32m--> 345\u001B[0m     \u001B[43mmodel\u001B[49m\u001B[38;5;241;43m.\u001B[39;49m\u001B[43msolver\u001B[49m\u001B[43m(\u001B[49m\n\u001B[1;32m    346\u001B[0m \u001B[43m        \u001B[49m\u001B[43mui_csr\u001B[49m\u001B[43m,\u001B[49m\n\u001B[1;32m    347\u001B[0m \u001B[43m        \u001B[49m\u001B[43muser_factors\u001B[49m\u001B[43m,\u001B[49m\n\u001B[1;32m    348\u001B[0m \u001B[43m        \u001B[49m\u001B[43mitem_factors\u001B[49m\u001B[43m,\u001B[49m\n\u001B[1;32m    349\u001B[0m \u001B[43m        \u001B[49m\u001B[43mmodel\u001B[49m\u001B[38;5;241;43m.\u001B[39;49m\u001B[43mregularization\u001B[49m\u001B[43m,\u001B[49m\n\u001B[1;32m    350\u001B[0m \u001B[43m        \u001B[49m\u001B[43mmodel\u001B[49m\u001B[38;5;241;43m.\u001B[39;49m\u001B[43mnum_threads\u001B[49m\u001B[43m,\u001B[49m\n\u001B[1;32m    351\u001B[0m \u001B[43m    \u001B[49m\u001B[43m)\u001B[49m\n\u001B[1;32m    352\u001B[0m     user_factors[:, :n_user_explicit_factors] \u001B[38;5;241m=\u001B[39m user_explicit_factors\n\u001B[1;32m    354\u001B[0m     model\u001B[38;5;241m.\u001B[39msolver(\n\u001B[1;32m    355\u001B[0m         iu_csr,\n\u001B[1;32m    356\u001B[0m         item_factors,\n\u001B[0;32m   (...)\u001B[0m\n\u001B[1;32m    359\u001B[0m         model\u001B[38;5;241m.\u001B[39mnum_threads,\n\u001B[1;32m    360\u001B[0m     )\n",
      "\u001B[0;31mKeyboardInterrupt\u001B[0m: "
     ]
    }
   ],
   "source": [
    "def objective(trial):\n",
    "    # параметры для подбора типа модели\n",
    "    model_name = trial.suggest_categorical('recomender', ['LightFM', 'ALS'])\n",
    "\n",
    "    if model_name == 'LightFM':\n",
    "        # параметры для подбора модели LightFM\n",
    "        learning_rate = trial.suggest_float('learning_rate', 0.001, 0.1)\n",
    "        k = trial.suggest_int('k', 2, 10)\n",
    "        loss = trial.suggest_categorical('loss',['logistic', 'bpr', 'warp'])\n",
    "        no_components = trial.suggest_int('no_components', 5, 64)\n",
    "\n",
    "        # Создание инстанса модели\n",
    "        model = LightFMWrapperModel(\n",
    "            LightFM(\n",
    "                no_components=no_components,\n",
    "                k=k,\n",
    "                learning_rate=learning_rate,\n",
    "                loss=loss,\n",
    "            ),\n",
    "            epochs=N_EPOCHS,\n",
    "            num_threads=NUM_THREADS\n",
    "        )\n",
    "    else:\n",
    "        # параметры для подбора модели ALS\n",
    "        factors = trial.suggest_int('factors', 32, 128)\n",
    "        regularization = trial.suggest_float('regularization', 0.001, 0.1)\n",
    "\n",
    "        # Создание инстанса модели\n",
    "        model = ImplicitALSWrapperModel(\n",
    "            model=AlternatingLeastSquares(\n",
    "                factors=factors,\n",
    "                random_state=RANDOM_STATE,\n",
    "                num_threads=NUM_THREADS,\n",
    "                regularization=regularization\n",
    "            ),\n",
    "            fit_features_together=True\n",
    "        )\n",
    "    # Обучение модели и предикт для подсчета метрик\n",
    "    model.fit(dataset)\n",
    "\n",
    "    recos = model.recommend(\n",
    "        users=TEST_USERS,\n",
    "        dataset=dataset,\n",
    "        k=K_RECOS,\n",
    "        filter_viewed=True\n",
    "    )\n",
    "    metric = calc_metrics(metrics, recos, test, train)['MAP@10']\n",
    "    print(\"MAP@10\", metric)\n",
    "    return metric\n",
    "\n",
    "study = optuna.create_study(direction = 'maximize')\n",
    "study.optimize(objective, n_trials = 10)"
   ]
  },
  {
   "cell_type": "code",
   "execution_count": 78,
   "id": "99aae61e",
   "metadata": {},
   "outputs": [
    {
     "name": "stdout",
     "output_type": "stream",
     "text": [
      "best params from optuna - {'recomender': 'LightFM', 'learning_rate': 0.5486709126434274, 'k': 3, 'loss': 'warp', 'no_components': 57}\n"
     ]
    }
   ],
   "source": [
    "print('best params from optuna -', study.best_params)"
   ]
  },
  {
   "cell_type": "code",
   "execution_count": 84,
   "id": "8428c4c7",
   "metadata": {},
   "outputs": [
    {
     "data": {
      "text/plain": [
       "{'Precision@1': 3.540637668844159e-05,\n",
       " 'Recall@1': 1.4548389395699396e-05,\n",
       " 'Precision@2': 3.098057960238639e-05,\n",
       " 'Recall@2': 1.9395690966140803e-05,\n",
       " 'Precision@3': 2.3604251125627725e-05,\n",
       " 'Recall@3': 2.824728513825121e-05,\n",
       " 'Precision@4': 2.8767681059358792e-05,\n",
       " 'Recall@4': 3.996894166313679e-05,\n",
       " 'Precision@5': 2.4784463681909114e-05,\n",
       " 'Recall@5': 4.144420735848852e-05,\n",
       " 'Precision@6': 2.0653719734924258e-05,\n",
       " 'Recall@6': 4.144420735848852e-05,\n",
       " 'Precision@7': 1.896770179737942e-05,\n",
       " 'Recall@7': 4.1526932537667124e-05,\n",
       " 'Precision@8': 1.8809637615734594e-05,\n",
       " 'Recall@8': 4.7427995319074045e-05,\n",
       " 'Precision@9': 1.868669880778862e-05,\n",
       " 'Recall@9': 4.834627294577257e-05,\n",
       " 'Precision@10': 1.8588347761431833e-05,\n",
       " 'Recall@10': 5.295271481085044e-05,\n",
       " 'MAP@1': 1.4548389395699396e-05,\n",
       " 'MAP@2': 1.69720401809201e-05,\n",
       " 'MAP@3': 1.9922571571623564e-05,\n",
       " 'MAP@4': 2.2852985702844963e-05,\n",
       " 'MAP@5': 2.3148038841915313e-05,\n",
       " 'MAP@6': 2.3148038841915313e-05,\n",
       " 'MAP@7': 2.3159856724655112e-05,\n",
       " 'MAP@8': 2.3897489572330977e-05,\n",
       " 'MAP@9': 2.3999520419741923e-05,\n",
       " 'MAP@10': 2.4460164606249712e-05}"
      ]
     },
     "execution_count": 84,
     "metadata": {},
     "output_type": "execute_result"
    }
   ],
   "source": [
    "if study.best_params['recomender'] == 'LightFM':\n",
    "    # Создание инстанса модели\n",
    "    model = LightFMWrapperModel(\n",
    "        LightFM(\n",
    "            k=study.best_params['k'],\n",
    "            learning_rate=study.best_params['learning_rate'],\n",
    "            loss=study.best_params['loss'],\n",
    "            no_components=study.best_params['no_components']\n",
    "        ),\n",
    "        epochs=N_EPOCHS,\n",
    "        num_threads=NUM_THREADS\n",
    "    )\n",
    "else:\n",
    "    # Создание инстанса модели\n",
    "    model = ImplicitALSWrapperModel(\n",
    "        model=AlternatingLeastSquares(\n",
    "            factors=study.best_params['factors'],\n",
    "            random_state=RANDOM_STATE,\n",
    "            num_threads=NUM_THREADS,\n",
    "            regularization=study.best_params['regularization']\n",
    "        ),\n",
    "        fit_features_together=True\n",
    "    )\n",
    "# Обучение модели и предикт для подсчета метрик\n",
    "model.fit(dataset)\n",
    "\n",
    "recos = model.recommend(\n",
    "    users=TEST_USERS,\n",
    "    dataset=dataset,\n",
    "    k=K_RECOS,\n",
    "    filter_viewed=True\n",
    ")\n",
    "metric = calc_metrics(metrics, recos, test, train)\n",
    "metric"
   ]
  },
  {
   "cell_type": "markdown",
   "id": "43411998",
   "metadata": {},
   "source": [
    " ## Метод приближенного поиска соседей."
   ]
  },
  {
   "cell_type": "code",
   "execution_count": 85,
   "id": "e0dfa8e8",
   "metadata": {},
   "outputs": [],
   "source": [
    "user_embeddings, item_embeddings = model.get_vectors(dataset)"
   ]
  },
  {
   "cell_type": "code",
   "execution_count": 86,
   "id": "91a20b08",
   "metadata": {},
   "outputs": [
    {
     "data": {
      "text/plain": [
       "((756545, 59), (13963, 59))"
      ]
     },
     "execution_count": 86,
     "metadata": {},
     "output_type": "execute_result"
    }
   ],
   "source": [
    "user_embeddings.shape, item_embeddings.shape"
   ]
  },
  {
   "cell_type": "code",
   "execution_count": 87,
   "id": "3634fd78",
   "metadata": {},
   "outputs": [],
   "source": [
    "def augment_inner_product(factors):\n",
    "    normed_factors = np.linalg.norm(factors, axis=1)\n",
    "    max_norm = normed_factors.max()\n",
    "\n",
    "    extra_dim = np.sqrt(max_norm ** 2 - normed_factors ** 2).reshape(-1, 1)\n",
    "    augmented_factors = np.append(factors, extra_dim, axis=1)\n",
    "    return max_norm, augmented_factors"
   ]
  },
  {
   "cell_type": "code",
   "execution_count": 88,
   "id": "c2668a0d",
   "metadata": {},
   "outputs": [
    {
     "name": "stdout",
     "output_type": "stream",
     "text": [
      "pre shape:  (13963, 59)\n"
     ]
    },
    {
     "data": {
      "text/plain": [
       "(13963, 60)"
      ]
     },
     "execution_count": 88,
     "metadata": {},
     "output_type": "execute_result"
    }
   ],
   "source": [
    "print('pre shape: ', item_embeddings.shape)\n",
    "max_norm, augmented_item_embeddings = augment_inner_product(item_embeddings)\n",
    "augmented_item_embeddings.shape"
   ]
  },
  {
   "cell_type": "code",
   "execution_count": 89,
   "id": "16fb4a95",
   "metadata": {},
   "outputs": [
    {
     "data": {
      "text/plain": [
       "(756545, 60)"
      ]
     },
     "execution_count": 89,
     "metadata": {},
     "output_type": "execute_result"
    }
   ],
   "source": [
    "extra_zero = np.zeros((user_embeddings.shape[0], 1))\n",
    "augmented_user_embeddings = np.append(user_embeddings, extra_zero, axis=1)\n",
    "augmented_user_embeddings.shape"
   ]
  },
  {
   "cell_type": "code",
   "execution_count": 90,
   "id": "8d3d96d3",
   "metadata": {},
   "outputs": [
    {
     "data": {
      "text/plain": [
       "array([-3.68946387e+03,  1.00000000e+00,  5.00279766e+04,  8.85783906e+04,\n",
       "       -1.05108094e+05, -3.06310918e+04,  1.96517285e+04,  6.73730078e+04,\n",
       "        2.04599453e+05,  6.12343242e+04,  6.41995352e+04, -5.77218633e+04,\n",
       "       -7.05726250e+04, -1.61670656e+05, -5.52132148e+04, -1.30570914e+05,\n",
       "       -7.23810078e+04,  2.07963969e+05,  1.65819863e+04, -9.76921953e+04,\n",
       "       -3.12005684e+04, -7.85079531e+04,  5.45297734e+04,  1.34828297e+05,\n",
       "        1.17192398e+05,  7.57457812e+04, -1.89341052e+03,  1.23631297e+05,\n",
       "       -1.10485789e+05,  2.78173301e+04,  1.66516035e+04, -6.22929336e+04,\n",
       "        9.86834219e+04, -1.32930908e+04,  3.14460527e+04,  6.04318125e+04,\n",
       "       -8.20018047e+04,  6.20642812e+04,  4.66973711e+04, -1.44485000e+05,\n",
       "        1.34138750e+05,  1.11652305e+05, -1.54659141e+05, -1.48082953e+05,\n",
       "        3.26356621e+04, -2.69916387e+04, -1.60023016e+05, -7.10024922e+04,\n",
       "       -4.93529492e+04, -3.54507500e+04,  8.54245703e+04, -2.75770918e+04,\n",
       "       -1.25765594e+05, -1.01873039e+05, -3.04939473e+04,  9.42476641e+04,\n",
       "        2.47347930e+04,  1.37679953e+05,  5.63563555e+04])"
      ]
     },
     "execution_count": 90,
     "metadata": {},
     "output_type": "execute_result"
    }
   ],
   "source": [
    "user_id = 30\n",
    "user_embeddings[user_id]"
   ]
  },
  {
   "cell_type": "code",
   "execution_count": 91,
   "id": "a3abdc5a",
   "metadata": {},
   "outputs": [
    {
     "data": {
      "text/plain": [
       "array([-3.68946387e+03,  1.00000000e+00,  5.00279766e+04,  8.85783906e+04,\n",
       "       -1.05108094e+05, -3.06310918e+04,  1.96517285e+04,  6.73730078e+04,\n",
       "        2.04599453e+05,  6.12343242e+04,  6.41995352e+04, -5.77218633e+04,\n",
       "       -7.05726250e+04, -1.61670656e+05, -5.52132148e+04, -1.30570914e+05,\n",
       "       -7.23810078e+04,  2.07963969e+05,  1.65819863e+04, -9.76921953e+04,\n",
       "       -3.12005684e+04, -7.85079531e+04,  5.45297734e+04,  1.34828297e+05,\n",
       "        1.17192398e+05,  7.57457812e+04, -1.89341052e+03,  1.23631297e+05,\n",
       "       -1.10485789e+05,  2.78173301e+04,  1.66516035e+04, -6.22929336e+04,\n",
       "        9.86834219e+04, -1.32930908e+04,  3.14460527e+04,  6.04318125e+04,\n",
       "       -8.20018047e+04,  6.20642812e+04,  4.66973711e+04, -1.44485000e+05,\n",
       "        1.34138750e+05,  1.11652305e+05, -1.54659141e+05, -1.48082953e+05,\n",
       "        3.26356621e+04, -2.69916387e+04, -1.60023016e+05, -7.10024922e+04,\n",
       "       -4.93529492e+04, -3.54507500e+04,  8.54245703e+04, -2.75770918e+04,\n",
       "       -1.25765594e+05, -1.01873039e+05, -3.04939473e+04,  9.42476641e+04,\n",
       "        2.47347930e+04,  1.37679953e+05,  5.63563555e+04,  0.00000000e+00])"
      ]
     },
     "execution_count": 91,
     "metadata": {},
     "output_type": "execute_result"
    }
   ],
   "source": [
    "augmented_user_embeddings[user_id]"
   ]
  },
  {
   "cell_type": "code",
   "execution_count": 92,
   "id": "b4d804fe",
   "metadata": {},
   "outputs": [
    {
     "data": {
      "text/plain": [
       "array([ 1.00000000e+00,  3.71805847e+02,  3.05234741e+03,  1.01628503e+03,\n",
       "       -2.01937231e+03, -7.06286914e+03,  2.08036670e+03,  1.44198691e+04,\n",
       "        1.04459076e+02,  2.91055640e+03,  4.90286133e+03, -8.00846631e+03,\n",
       "       -3.74290078e+04, -5.34835303e+03, -5.73522314e+03, -1.32270422e+03,\n",
       "       -4.57180566e+03,  5.20245544e+02,  2.12270190e+03, -2.74671069e+03,\n",
       "       -3.97734521e+03, -5.76298193e+03, -9.74685645e+03,  1.00388757e+03,\n",
       "        1.41514294e+03,  2.31493750e+04,  8.51632129e+03,  9.64525818e+02,\n",
       "       -1.17795410e+04,  5.20026611e+03, -1.86291174e+03, -3.32180225e+03,\n",
       "        2.35795312e+03, -2.74500562e+03,  7.57092236e+03,  8.45529199e+03,\n",
       "       -4.04447168e+03,  3.18093457e+03,  1.06870723e+04, -1.86842322e+03,\n",
       "        1.92173401e+03,  2.00068164e+03, -2.32481689e+03, -1.20484082e+03,\n",
       "        8.42075134e+02, -2.14867944e+03, -8.79860291e+02, -7.14862646e+03,\n",
       "       -2.94369702e+03, -2.65627759e+03,  1.50566143e+04, -2.40812646e+03,\n",
       "       -8.63793823e+02, -1.57019958e+03, -2.04618115e+03,  1.11798945e+04,\n",
       "        1.65814307e+03,  6.58971863e+02,  7.54287207e+03])"
      ]
     },
     "execution_count": 92,
     "metadata": {},
     "output_type": "execute_result"
    }
   ],
   "source": [
    "item_id = 0\n",
    "item_embeddings[item_id]"
   ]
  },
  {
   "cell_type": "code",
   "execution_count": 93,
   "id": "2e0030f1",
   "metadata": {},
   "outputs": [
    {
     "data": {
      "text/plain": [
       "array([ 1.00000000e+00,  3.71805847e+02,  3.05234741e+03,  1.01628503e+03,\n",
       "       -2.01937231e+03, -7.06286914e+03,  2.08036670e+03,  1.44198691e+04,\n",
       "        1.04459076e+02,  2.91055640e+03,  4.90286133e+03, -8.00846631e+03,\n",
       "       -3.74290078e+04, -5.34835303e+03, -5.73522314e+03, -1.32270422e+03,\n",
       "       -4.57180566e+03,  5.20245544e+02,  2.12270190e+03, -2.74671069e+03,\n",
       "       -3.97734521e+03, -5.76298193e+03, -9.74685645e+03,  1.00388757e+03,\n",
       "        1.41514294e+03,  2.31493750e+04,  8.51632129e+03,  9.64525818e+02,\n",
       "       -1.17795410e+04,  5.20026611e+03, -1.86291174e+03, -3.32180225e+03,\n",
       "        2.35795312e+03, -2.74500562e+03,  7.57092236e+03,  8.45529199e+03,\n",
       "       -4.04447168e+03,  3.18093457e+03,  1.06870723e+04, -1.86842322e+03,\n",
       "        1.92173401e+03,  2.00068164e+03, -2.32481689e+03, -1.20484082e+03,\n",
       "        8.42075134e+02, -2.14867944e+03, -8.79860291e+02, -7.14862646e+03,\n",
       "       -2.94369702e+03, -2.65627759e+03,  1.50566143e+04, -2.40812646e+03,\n",
       "       -8.63793823e+02, -1.57019958e+03, -2.04618115e+03,  1.11798945e+04,\n",
       "        1.65814307e+03,  6.58971863e+02,  7.54287207e+03,  3.94554062e+09])"
      ]
     },
     "execution_count": 93,
     "metadata": {},
     "output_type": "execute_result"
    }
   ],
   "source": [
    "augmented_item_embeddings[item_id]"
   ]
  },
  {
   "cell_type": "code",
   "execution_count": 94,
   "id": "19104d9a",
   "metadata": {},
   "outputs": [
    {
     "name": "stdout",
     "output_type": "stream",
     "text": [
      "Index-time parameters {'M': 48, 'indexThreadQty': 4, 'efConstruction': 100, 'post': 0}\n"
     ]
    }
   ],
   "source": [
    "M = 48\n",
    "efC = 100\n",
    "\n",
    "num_threads = 4\n",
    "index_time_params = {'M': M, 'indexThreadQty': num_threads, 'efConstruction': efC, 'post' : 0}\n",
    "print('Index-time parameters', index_time_params)"
   ]
  },
  {
   "cell_type": "code",
   "execution_count": 95,
   "id": "3634ebbb",
   "metadata": {},
   "outputs": [
    {
     "ename": "NameError",
     "evalue": "name 'nmslib' is not defined",
     "output_type": "error",
     "traceback": [
      "\u001B[0;31m---------------------------------------------------------------------------\u001B[0m",
      "\u001B[0;31mNameError\u001B[0m                                 Traceback (most recent call last)",
      "Cell \u001B[0;32mIn[95], line 3\u001B[0m\n\u001B[1;32m      1\u001B[0m K\u001B[38;5;241m=\u001B[39m\u001B[38;5;241m10\u001B[39m\n\u001B[1;32m      2\u001B[0m space_name\u001B[38;5;241m=\u001B[39m\u001B[38;5;124m'\u001B[39m\u001B[38;5;124mnegdotprod\u001B[39m\u001B[38;5;124m'\u001B[39m\n\u001B[0;32m----> 3\u001B[0m index \u001B[38;5;241m=\u001B[39m \u001B[43mnmslib\u001B[49m\u001B[38;5;241m.\u001B[39minit(method\u001B[38;5;241m=\u001B[39m\u001B[38;5;124m'\u001B[39m\u001B[38;5;124mhnsw\u001B[39m\u001B[38;5;124m'\u001B[39m, space\u001B[38;5;241m=\u001B[39mspace_name, data_type\u001B[38;5;241m=\u001B[39mnmslib\u001B[38;5;241m.\u001B[39mDataType\u001B[38;5;241m.\u001B[39mDENSE_VECTOR)\n\u001B[1;32m      4\u001B[0m index\u001B[38;5;241m.\u001B[39maddDataPointBatch(augmented_item_embeddings)\n",
      "\u001B[0;31mNameError\u001B[0m: name 'nmslib' is not defined"
     ]
    }
   ],
   "source": [
    "K=10\n",
    "space_name='negdotprod'\n",
    "index = nmslib.init(method='hnsw', space=space_name, data_type=nmslib.DataType.DENSE_VECTOR)\n",
    "index.addDataPointBatch(augmented_item_embeddings)"
   ]
  },
  {
   "cell_type": "code",
   "execution_count": 79,
   "id": "6d423d8d",
   "metadata": {},
   "outputs": [
    {
     "name": "stdout",
     "output_type": "stream",
     "text": [
      "Index-time parameters {'M': 48, 'indexThreadQty': 4, 'efConstruction': 100}\n",
      "Indexing time = 0.282692\n"
     ]
    }
   ],
   "source": [
    "start = time.time()\n",
    "index_time_params = {'M': M, 'indexThreadQty': num_threads, 'efConstruction': efC}\n",
    "index.createIndex(index_time_params)\n",
    "end = time.time()\n",
    "print('Index-time parameters', index_time_params)\n",
    "print('Indexing time = %f' % (end-start))"
   ]
  },
  {
   "cell_type": "code",
   "execution_count": 80,
   "id": "9dc1529f",
   "metadata": {},
   "outputs": [
    {
     "name": "stdout",
     "output_type": "stream",
     "text": [
      "Setting query-time parameters {'efSearch': 100}\n"
     ]
    }
   ],
   "source": [
    "efS = 100\n",
    "query_time_params = {'efSearch': efS}\n",
    "print('Setting query-time parameters', query_time_params)\n",
    "index.setQueryTimeParams(query_time_params)"
   ]
  },
  {
   "cell_type": "code",
   "execution_count": 81,
   "id": "0fff67a2",
   "metadata": {},
   "outputs": [],
   "source": [
    "query_matrix = augmented_user_embeddings[:1000, :]"
   ]
  },
  {
   "cell_type": "code",
   "execution_count": 82,
   "id": "1cdffc65",
   "metadata": {},
   "outputs": [
    {
     "name": "stdout",
     "output_type": "stream",
     "text": [
      "kNN time total=0.023291 (sec), per query=0.000023 (sec), per query adjusted for thread number=0.000093 (sec)\n"
     ]
    }
   ],
   "source": [
    "query_qty = query_matrix.shape[0]\n",
    "start = time.time()\n",
    "nbrs = index.knnQueryBatch(query_matrix, k = K, num_threads = num_threads)\n",
    "end = time.time()\n",
    "print(\n",
    "    'kNN time total=%f (sec), per query=%f (sec), per query adjusted for thread number=%f (sec)' %\n",
    "    (end-start, float(end-start)/query_qty, num_threads*float(end-start)/query_qty)\n",
    ")"
   ]
  },
  {
   "cell_type": "code",
   "execution_count": 83,
   "id": "d94de743",
   "metadata": {},
   "outputs": [
    {
     "data": {
      "text/plain": [
       "(array([ 43,  32,  19,  62,  31, 112, 305, 188, 268, 948], dtype=int32),\n",
       " array([304.80273, 304.95447, 305.16202, 305.32443, 305.47067, 305.5135 ,\n",
       "        305.6464 , 305.6903 , 305.73453, 305.78738], dtype=float32))"
      ]
     },
     "execution_count": 83,
     "metadata": {},
     "output_type": "execute_result"
    }
   ],
   "source": [
    "nbrs[0]"
   ]
  },
  {
   "cell_type": "code",
   "execution_count": 87,
   "id": "5be5c93c",
   "metadata": {},
   "outputs": [],
   "source": [
    "def recommend_all(query_factors, index_factors, topn=10):\n",
    "    output = query_factors.dot(index_factors.T)\n",
    "    argpartition_indices = np.argpartition(output, -topn)[:, -topn:]\n",
    "\n",
    "    x_indices = np.repeat(np.arange(output.shape[0]), topn)\n",
    "    y_indices = argpartition_indices.flatten()\n",
    "    top_value = output[x_indices, y_indices].reshape(output.shape[0], topn)\n",
    "    top_indices = np.argsort(top_value)[:, ::-1]\n",
    "\n",
    "    y_indices = top_indices.flatten()\n",
    "    top_indices = argpartition_indices[x_indices, y_indices]\n",
    "    labels = top_indices.reshape(-1, topn)\n",
    "    distances = output[x_indices, top_indices].reshape(-1, topn)\n",
    "    return labels, distances\n"
   ]
  },
  {
   "cell_type": "code",
   "execution_count": 108,
   "id": "e9988091",
   "metadata": {},
   "outputs": [
    {
     "data": {
      "text/plain": [
       "array([[ 19,  31, 121,  32,  43, 268, 120,  62, 103, 173]])"
      ]
     },
     "execution_count": 108,
     "metadata": {},
     "output_type": "execute_result"
    }
   ],
   "source": [
    "labels,_  = recommend_all(user_embeddings[[], :], item_embeddings)\n",
    "labels"
   ]
  },
  {
   "cell_type": "code",
   "execution_count": 112,
   "id": "3c722149",
   "metadata": {},
   "outputs": [
    {
     "data": {
      "text/plain": [
       "array([], shape=(0, 34), dtype=float64)"
      ]
     },
     "execution_count": 112,
     "metadata": {},
     "output_type": "execute_result"
    }
   ],
   "source": [
    "user_embeddings[[], :]"
   ]
  },
  {
   "cell_type": "code",
   "execution_count": 113,
   "id": "d300a815",
   "metadata": {},
   "outputs": [
    {
     "data": {
      "text/plain": [
       "array([[-3.24551971e+02,  1.00000000e+00,  8.73963833e-02, ...,\n",
       "        -1.30321786e-01,  1.82629615e-01, -3.07083875e-01],\n",
       "       [-3.24792297e+02,  1.00000000e+00,  3.87268960e-01, ...,\n",
       "        -4.32303697e-02, -4.72983688e-01, -1.79986209e-01],\n",
       "       [-3.01102661e+02,  1.00000000e+00, -1.63965374e-01, ...,\n",
       "        -1.01540364e-01,  1.10484377e-01, -2.40944147e-01],\n",
       "       ...,\n",
       "       [-3.58453766e+02,  1.00000000e+00, -1.08767882e-01, ...,\n",
       "         2.43232936e-01, -1.24036551e-01, -4.88389194e-01],\n",
       "       [-2.99490662e+02,  1.00000000e+00, -3.04439873e-01, ...,\n",
       "        -2.42081508e-02, -3.93126070e-01, -2.91359007e-01],\n",
       "       [-3.10774689e+02,  1.00000000e+00, -2.57401466e-01, ...,\n",
       "        -3.03505287e-02, -4.26894128e-01, -3.11958164e-01]])"
      ]
     },
     "execution_count": 113,
     "metadata": {},
     "output_type": "execute_result"
    }
   ],
   "source": [
    "user_embeddings"
   ]
  },
  {
   "cell_type": "code",
   "execution_count": null,
   "id": "15d49fe7",
   "metadata": {},
   "outputs": [],
   "source": [
    "labels"
   ]
  },
  {
   "cell_type": "code",
   "execution_count": 89,
   "id": "d6c68dd7",
   "metadata": {},
   "outputs": [],
   "source": [
    "query_matrix_not_augmented = user_embeddings[:1000, :]"
   ]
  },
  {
   "cell_type": "code",
   "execution_count": 105,
   "id": "b7d9dd1f",
   "metadata": {},
   "outputs": [
    {
     "name": "stdout",
     "output_type": "stream",
     "text": [
      "[[  43   32   19 ...  188  268  948]\n",
      " [  31   19   62 ...  450   49  268]\n",
      " [  19   31  121 ...   62  103  173]\n",
      " ...\n",
      " [  31   62  358 ...    8  884   43]\n",
      " [  43   19   32 ...    8  121  164]\n",
      " [3117 5859  776 ...   43   62 1132]]\n",
      "[[  43   32   19 ...  188  268  948]\n",
      " [  31   19   62 ...  450   49  268]\n",
      " [  19   31  121 ...   62  103  173]\n",
      " ...\n",
      " [  31   62  358 ...    8  884   43]\n",
      " [  43   19   32 ...    8  121  164]\n",
      " [3117 5859  776 ...   43   62 1132]]\n",
      "[[  43   32   19 ...  188  268  948]\n",
      " [  31   19   62 ...  450   49  268]\n",
      " [  19   31  121 ...   62  103  173]\n",
      " ...\n",
      " [  31   62  358 ...    8  884   43]\n",
      " [  43   19   32 ...    8  121  164]\n",
      " [3117 5859  776 ...   43   62 1132]]\n",
      "[[  43   32   19 ...  188  268  948]\n",
      " [  31   19   62 ...  450   49  268]\n",
      " [  19   31  121 ...   62  103  173]\n",
      " ...\n",
      " [  31   62  358 ...    8  884   43]\n",
      " [  43   19   32 ...    8  121  164]\n",
      " [3117 5859  776 ...   43   62 1132]]\n",
      "[[  43   32   19 ...  188  268  948]\n",
      " [  31   19   62 ...  450   49  268]\n",
      " [  19   31  121 ...   62  103  173]\n",
      " ...\n",
      " [  31   62  358 ...    8  884   43]\n",
      " [  43   19   32 ...    8  121  164]\n",
      " [3117 5859  776 ...   43   62 1132]]\n",
      "[[  43   32   19 ...  188  268  948]\n",
      " [  31   19   62 ...  450   49  268]\n",
      " [  19   31  121 ...   62  103  173]\n",
      " ...\n",
      " [  31   62  358 ...    8  884   43]\n",
      " [  43   19   32 ...    8  121  164]\n",
      " [3117 5859  776 ...   43   62 1132]]\n",
      "[[  43   32   19 ...  188  268  948]\n",
      " [  31   19   62 ...  450   49  268]\n",
      " [  19   31  121 ...   62  103  173]\n",
      " ...\n",
      " [  31   62  358 ...    8  884   43]\n",
      " [  43   19   32 ...    8  121  164]\n",
      " [3117 5859  776 ...   43   62 1132]]\n",
      "[[  43   32   19 ...  188  268  948]\n",
      " [  31   19   62 ...  450   49  268]\n",
      " [  19   31  121 ...   62  103  173]\n",
      " ...\n",
      " [  31   62  358 ...    8  884   43]\n",
      " [  43   19   32 ...    8  121  164]\n",
      " [3117 5859  776 ...   43   62 1132]]\n",
      "207 ms ± 6.37 ms per loop (mean ± std. dev. of 7 runs, 1 loop each)\n"
     ]
    }
   ],
   "source": [
    "%%timeit\n",
    "labels,_ = recommend_all(query_matrix_not_augmented, item_embeddings)\n",
    "print(labels)"
   ]
  },
  {
   "cell_type": "code",
   "execution_count": 92,
   "id": "904846a6",
   "metadata": {},
   "outputs": [
    {
     "data": {
      "text/plain": [
       "((1000, 34), (756545, 34))"
      ]
     },
     "execution_count": 92,
     "metadata": {},
     "output_type": "execute_result"
    }
   ],
   "source": [
    "item_embeddings[:1000, :].shape, user_embeddings.shape"
   ]
  },
  {
   "cell_type": "code",
   "execution_count": 93,
   "id": "d6027ae4",
   "metadata": {},
   "outputs": [
    {
     "name": "stdout",
     "output_type": "stream",
     "text": [
      "7.88 ms ± 368 µs per loop (mean ± std. dev. of 7 runs, 100 loops each)\n"
     ]
    }
   ],
   "source": [
    "%%timeit\n",
    "index.knnQueryBatch(query_matrix, k = K, num_threads = num_threads)"
   ]
  },
  {
   "cell_type": "code",
   "execution_count": 103,
   "id": "e6b0be91",
   "metadata": {},
   "outputs": [
    {
     "name": "stdout",
     "output_type": "stream",
     "text": [
      "[[  43   32   19 ...  188  268  948]\n",
      " [  31   19   62 ...  450   49  268]\n",
      " [  19   31  121 ...   62  103  173]\n",
      " ...\n",
      " [  31   62  358 ...    8  884   43]\n",
      " [  43   19   32 ...    8  121  164]\n",
      " [3117 5859  776 ...   43   62 1132]]\n",
      "[[-304.80272148 -304.95450166 -305.1620535  ... -305.69031591\n",
      "  -305.73454442 -305.7874324 ]\n",
      " [-311.19933349 -311.44323422 -311.45526998 ... -312.0948194\n",
      "  -312.21820321 -312.23901463]\n",
      " [-284.3956498  -284.45770448 -284.96237912 ... -285.29546382\n",
      "  -285.36598349 -285.41208658]\n",
      " ...\n",
      " [-332.37278335 -332.85525963 -332.98405066 ... -333.36833688\n",
      "  -333.44008879 -333.48889785]\n",
      " [-302.10402324 -302.13324433 -302.3124104  ... -302.86405908\n",
      "  -302.88296188 -303.00234271]\n",
      " [  14.88806505   14.41715752   14.1114468  ...   13.71272978\n",
      "    13.68271151   13.6242354 ]]\n"
     ]
    }
   ],
   "source": [
    "labels, distances = recommend_all(user_embeddings[:1000, :], item_embeddings)\n",
    "print(labels)\n",
    "print(distances)"
   ]
  },
  {
   "cell_type": "code",
   "execution_count": null,
   "id": "77fedf20",
   "metadata": {},
   "outputs": [],
   "source": []
  }
 ],
 "metadata": {
  "kernelspec": {
   "display_name": "Python 3 (ipykernel)",
   "language": "python",
   "name": "python3"
  },
  "language_info": {
   "codemirror_mode": {
    "name": "ipython",
    "version": 3
   },
   "file_extension": ".py",
   "mimetype": "text/x-python",
   "name": "python",
   "nbconvert_exporter": "python",
   "pygments_lexer": "ipython3",
   "version": "3.9.7"
  }
 },
 "nbformat": 4,
 "nbformat_minor": 5
}
