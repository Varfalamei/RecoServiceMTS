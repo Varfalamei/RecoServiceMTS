{
  "cells": [
    {
      "cell_type": "code",
      "execution_count": null,
      "metadata": {
        "id": "c2ZYQcUXr-Hj"
      },
      "outputs": [],
      "source": [
        "# import sys\n",
        "# !{sys.executable} -m pip install rectools==0.2.0"
      ]
    },
    {
      "cell_type": "code",
      "execution_count": 21,
      "metadata": {
        "id": "xwoQaesPc-dn"
      },
      "outputs": [],
      "source": [
        "import os\n",
        "import pickle\n",
        "import random\n",
        "import warnings\n",
        "\n",
        "import numpy as np\n",
        "import pandas as pd\n",
        "from implicit.nearest_neighbours import (\n",
        "    BM25Recommender,\n",
        "    CosineRecommender,\n",
        "    TFIDFRecommender,\n",
        ")\n",
        "from rectools import Columns\n",
        "from rectools.dataset import Dataset\n",
        "from rectools.metrics import (\n",
        "    MAP,\n",
        "    MeanInvUserFreq,\n",
        "    Precision,\n",
        "    Recall,\n",
        "    Serendipity,\n",
        "    calc_metrics,\n",
        ")\n",
        "from rectools.model_selection import TimeRangeSplit\n",
        "from rectools.models import ImplicitItemKNNWrapperModel\n",
        "from rectools.models.popular import PopularModel \n",
        "\n",
        "# from service.api.models_zoo import UserKNN\n",
        "\n",
        "warnings.filterwarnings(\"ignore\")"
      ]
    },
    {
      "cell_type": "code",
      "execution_count": 4,
      "metadata": {
        "id": "wsIdcoM3r-Hr"
      },
      "outputs": [],
      "source": [
        "pd.set_option('display.max_columns', None)\n",
        "pd.set_option('display.max_colwidth', 200)\n",
        "\n",
        "seed = 42\n",
        "random.seed(seed)\n",
        "np.random.seed(seed)\n",
        "os.environ['PYTHONHASHSEED'] = str(seed)"
      ]
    },
    {
      "cell_type": "code",
      "execution_count": null,
      "metadata": {
        "colab": {
          "base_uri": "https://localhost:8080/",
          "height": 49,
          "referenced_widgets": [
            "c0bfd770c7d8427b81f086582511ea5c",
            "55a377744d8f4210aa54d169432a875a",
            "9e24019e94c447e7bfeac17084db4311",
            "ea693d5b828f4422b7c39905b13013bc",
            "8c6266d5faaf4cb0a3836dcb27ece76a",
            "bed4ba00c1b1496f9575f831392054d6",
            "d0744e6c7b314540adb07fd62f9ef474",
            "c2afc043a89b4c8f9539ec4977d619da",
            "4fffef0974c04f749408a6cefb9eeefb",
            "cb25401266de479bb59f1d249183f722",
            "5dadbe16150d40c3a71fc5ec29c3b1e2"
          ]
        },
        "id": "q-MjS-lodBPz",
        "outputId": "5566c044-4026-4187-ec5f-9e81342c1606"
      },
      "outputs": [
        {
          "name": "stdout",
          "output_type": "stream",
          "text": [
            "--2022-12-04 17:08:24--  https://storage.yandexcloud.net/itmo-recsys-public-data/kion_train.zip\r\n",
            "Resolving storage.yandexcloud.net (storage.yandexcloud.net)... 213.180.193.243\r\n",
            "Connecting to storage.yandexcloud.net (storage.yandexcloud.net)|213.180.193.243|:443... connected.\r\n",
            "HTTP request sent, awaiting response... 200 OK\r\n",
            "Length: 78795385 (75M) [application/zip]\r\n",
            "Saving to: ‘../data/data_original.zip’\r\n",
            "\r\n",
            "../data/data_origin 100%[===================>]  75.14M  8.72MB/s    in 8.7s    \r\n",
            "\r\n",
            "2022-12-04 17:08:33 (8.64 MB/s) - ‘../data/data_original.zip’ saved [78795385/78795385]\r\n",
            "\r\n",
            "Archive:  ../data/data_original.zip\r\n",
            "   creating: ../data/kion_train/\r\n",
            "  inflating: ../data/kion_train/interactions.csv  \r\n",
            "  inflating: ../data/__MACOSX/kion_train/._interactions.csv  \r\n",
            "  inflating: ../data/kion_train/users.csv  \r\n",
            "  inflating: ../data/__MACOSX/kion_train/._users.csv  \r\n",
            "  inflating: ../data/kion_train/items.csv  \r\n",
            "  inflating: ../data/__MACOSX/kion_train/._items.csv  \r\n"
          ]
        }
      ],
      "source": [
        "# download dataset by chunks\n",
        "# !wget https://storage.yandexcloud.net/itmo-recsys-public-data/kion_train.zip -O ../data/data_original.zip\n",
        "# !unzip ../data/data_original.zip -d ../data"
      ]
    },
    {
      "cell_type": "code",
      "execution_count": null,
      "metadata": {
        "id": "eyAk_oJ9dDIo"
      },
      "outputs": [],
      "source": [
        "interactions = pd.read_csv('../data/kion_train/interactions.csv')\n",
        "users = pd.read_csv('../data/kion_train/users.csv')\n",
        "items = pd.read_csv('../data/kion_train/items.csv')\n",
        "\n",
        "# rename columns, convert timestamp\n",
        "interactions.rename(columns={'last_watch_dt': Columns.Datetime,\n",
        "                            'total_dur': Columns.Weight},\n",
        "                    inplace=True)\n",
        "\n",
        "interactions['datetime'] = pd.to_datetime(interactions['datetime'])"
      ]
    },
    {
      "cell_type": "markdown",
      "metadata": {
        "id": "h-0_YSEcgP0T"
      },
      "source": [
        "## Train test split"
      ]
    },
    {
      "cell_type": "code",
      "execution_count": 10,
      "metadata": {
        "colab": {
          "base_uri": "https://localhost:8080/"
        },
        "id": "u0b5O2ZogHda",
        "outputId": "c917f5b7-afce-47e0-f9b6-c71ebc73f4ca"
      },
      "outputs": [
        {
          "name": "stdout",
          "output_type": "stream",
          "text": [
            "Start date and last date of the test fold: (Timestamp('2021-08-08 00:00:00'), Timestamp('2021-08-22 00:00:00'))\n",
            "Test fold borders: ['2021-08-08' '2021-08-15']\n",
            "Real number of folds: 1\n"
          ]
        }
      ],
      "source": [
        "# train test split\n",
        "# test = last 1 week\n",
        "n_folds = 1\n",
        "unit = \"W\"\n",
        "n_units = 1\n",
        "periods = n_folds + 1\n",
        "\n",
        "last_date = interactions[Columns.Datetime].max().normalize()\n",
        "start_date = last_date - pd.Timedelta(n_folds * n_units + 1, unit=unit)  # TimeDelta возвращает длительность промежутка между датами\n",
        "print(f\"Start date and last date of the test fold: {start_date, last_date}\")\n",
        "\n",
        "date_range = pd.date_range(start=start_date, periods=periods, freq=unit, tz=last_date.tz)\n",
        "print(f\"Test fold borders: {date_range.values.astype('datetime64[D]')}\")\n",
        "\n",
        "# generator of folds\n",
        "cv = TimeRangeSplit(\n",
        "    date_range=date_range,\n",
        "    filter_already_seen=True,\n",
        "    filter_cold_items=True,\n",
        "    filter_cold_users=True,\n",
        ")\n",
        "print(f\"Real number of folds: {cv.get_n_splits(interactions)}\")"
      ]
    },
    {
      "cell_type": "code",
      "execution_count": 11,
      "metadata": {
        "id": "Ja9ZQu32h2vk"
      },
      "outputs": [],
      "source": [
        "(train_ids, test_ids, fold_info) = cv.split(interactions, collect_fold_stats=True).__next__()"
      ]
    },
    {
      "cell_type": "code",
      "execution_count": 12,
      "metadata": {
        "id": "NN5AeKz1jHGT"
      },
      "outputs": [],
      "source": [
        "train = interactions.loc[train_ids].reset_index(drop=True)\n",
        "test = interactions.loc[test_ids].reset_index(drop=True)"
      ]
    },
    {
      "cell_type": "code",
      "execution_count": 13,
      "metadata": {
        "colab": {
          "base_uri": "https://localhost:8080/",
          "height": 206
        },
        "id": "cfaUmHKatbdC",
        "outputId": "53ec375a-5d2f-4565-c0c2-494ab246dfb8"
      },
      "outputs": [
        {
          "data": {
            "text/html": [
              "\n",
              "  <div id=\"df-89e37fad-faa8-46c8-ab0d-63b2eed8912b\">\n",
              "    <div class=\"colab-df-container\">\n",
              "      <div>\n",
              "<style scoped>\n",
              "    .dataframe tbody tr th:only-of-type {\n",
              "        vertical-align: middle;\n",
              "    }\n",
              "\n",
              "    .dataframe tbody tr th {\n",
              "        vertical-align: top;\n",
              "    }\n",
              "\n",
              "    .dataframe thead th {\n",
              "        text-align: right;\n",
              "    }\n",
              "</style>\n",
              "<table border=\"1\" class=\"dataframe\">\n",
              "  <thead>\n",
              "    <tr style=\"text-align: right;\">\n",
              "      <th></th>\n",
              "      <th>user_id</th>\n",
              "      <th>item_id</th>\n",
              "      <th>datetime</th>\n",
              "      <th>weight</th>\n",
              "      <th>watched_pct</th>\n",
              "    </tr>\n",
              "  </thead>\n",
              "  <tbody>\n",
              "    <tr>\n",
              "      <th>0</th>\n",
              "      <td>176549</td>\n",
              "      <td>9506</td>\n",
              "      <td>2021-05-11</td>\n",
              "      <td>4250</td>\n",
              "      <td>72.0</td>\n",
              "    </tr>\n",
              "    <tr>\n",
              "      <th>1</th>\n",
              "      <td>699317</td>\n",
              "      <td>1659</td>\n",
              "      <td>2021-05-29</td>\n",
              "      <td>8317</td>\n",
              "      <td>100.0</td>\n",
              "    </tr>\n",
              "    <tr>\n",
              "      <th>2</th>\n",
              "      <td>656683</td>\n",
              "      <td>7107</td>\n",
              "      <td>2021-05-09</td>\n",
              "      <td>10</td>\n",
              "      <td>0.0</td>\n",
              "    </tr>\n",
              "    <tr>\n",
              "      <th>3</th>\n",
              "      <td>864613</td>\n",
              "      <td>7638</td>\n",
              "      <td>2021-07-05</td>\n",
              "      <td>14483</td>\n",
              "      <td>100.0</td>\n",
              "    </tr>\n",
              "    <tr>\n",
              "      <th>4</th>\n",
              "      <td>964868</td>\n",
              "      <td>9506</td>\n",
              "      <td>2021-04-30</td>\n",
              "      <td>6725</td>\n",
              "      <td>100.0</td>\n",
              "    </tr>\n",
              "  </tbody>\n",
              "</table>\n",
              "</div>\n",
              "      <button class=\"colab-df-convert\" onclick=\"convertToInteractive('df-89e37fad-faa8-46c8-ab0d-63b2eed8912b')\"\n",
              "              title=\"Convert this dataframe to an interactive table.\"\n",
              "              style=\"display:none;\">\n",
              "        \n",
              "  <svg xmlns=\"http://www.w3.org/2000/svg\" height=\"24px\"viewBox=\"0 0 24 24\"\n",
              "       width=\"24px\">\n",
              "    <path d=\"M0 0h24v24H0V0z\" fill=\"none\"/>\n",
              "    <path d=\"M18.56 5.44l.94 2.06.94-2.06 2.06-.94-2.06-.94-.94-2.06-.94 2.06-2.06.94zm-11 1L8.5 8.5l.94-2.06 2.06-.94-2.06-.94L8.5 2.5l-.94 2.06-2.06.94zm10 10l.94 2.06.94-2.06 2.06-.94-2.06-.94-.94-2.06-.94 2.06-2.06.94z\"/><path d=\"M17.41 7.96l-1.37-1.37c-.4-.4-.92-.59-1.43-.59-.52 0-1.04.2-1.43.59L10.3 9.45l-7.72 7.72c-.78.78-.78 2.05 0 2.83L4 21.41c.39.39.9.59 1.41.59.51 0 1.02-.2 1.41-.59l7.78-7.78 2.81-2.81c.8-.78.8-2.07 0-2.86zM5.41 20L4 18.59l7.72-7.72 1.47 1.35L5.41 20z\"/>\n",
              "  </svg>\n",
              "      </button>\n",
              "      \n",
              "  <style>\n",
              "    .colab-df-container {\n",
              "      display:flex;\n",
              "      flex-wrap:wrap;\n",
              "      gap: 12px;\n",
              "    }\n",
              "\n",
              "    .colab-df-convert {\n",
              "      background-color: #E8F0FE;\n",
              "      border: none;\n",
              "      border-radius: 50%;\n",
              "      cursor: pointer;\n",
              "      display: none;\n",
              "      fill: #1967D2;\n",
              "      height: 32px;\n",
              "      padding: 0 0 0 0;\n",
              "      width: 32px;\n",
              "    }\n",
              "\n",
              "    .colab-df-convert:hover {\n",
              "      background-color: #E2EBFA;\n",
              "      box-shadow: 0px 1px 2px rgba(60, 64, 67, 0.3), 0px 1px 3px 1px rgba(60, 64, 67, 0.15);\n",
              "      fill: #174EA6;\n",
              "    }\n",
              "\n",
              "    [theme=dark] .colab-df-convert {\n",
              "      background-color: #3B4455;\n",
              "      fill: #D2E3FC;\n",
              "    }\n",
              "\n",
              "    [theme=dark] .colab-df-convert:hover {\n",
              "      background-color: #434B5C;\n",
              "      box-shadow: 0px 1px 3px 1px rgba(0, 0, 0, 0.15);\n",
              "      filter: drop-shadow(0px 1px 2px rgba(0, 0, 0, 0.3));\n",
              "      fill: #FFFFFF;\n",
              "    }\n",
              "  </style>\n",
              "\n",
              "      <script>\n",
              "        const buttonEl =\n",
              "          document.querySelector('#df-89e37fad-faa8-46c8-ab0d-63b2eed8912b button.colab-df-convert');\n",
              "        buttonEl.style.display =\n",
              "          google.colab.kernel.accessAllowed ? 'block' : 'none';\n",
              "\n",
              "        async function convertToInteractive(key) {\n",
              "          const element = document.querySelector('#df-89e37fad-faa8-46c8-ab0d-63b2eed8912b');\n",
              "          const dataTable =\n",
              "            await google.colab.kernel.invokeFunction('convertToInteractive',\n",
              "                                                     [key], {});\n",
              "          if (!dataTable) return;\n",
              "\n",
              "          const docLinkHtml = 'Like what you see? Visit the ' +\n",
              "            '<a target=\"_blank\" href=https://colab.research.google.com/notebooks/data_table.ipynb>data table notebook</a>'\n",
              "            + ' to learn more about interactive tables.';\n",
              "          element.innerHTML = '';\n",
              "          dataTable['output_type'] = 'display_data';\n",
              "          await google.colab.output.renderOutput(dataTable, element);\n",
              "          const docLink = document.createElement('div');\n",
              "          docLink.innerHTML = docLinkHtml;\n",
              "          element.appendChild(docLink);\n",
              "        }\n",
              "      </script>\n",
              "    </div>\n",
              "  </div>\n",
              "  "
            ],
            "text/plain": [
              "   user_id  item_id   datetime  weight  watched_pct\n",
              "0   176549     9506 2021-05-11    4250         72.0\n",
              "1   699317     1659 2021-05-29    8317        100.0\n",
              "2   656683     7107 2021-05-09      10          0.0\n",
              "3   864613     7638 2021-07-05   14483        100.0\n",
              "4   964868     9506 2021-04-30    6725        100.0"
            ]
          },
          "execution_count": 13,
          "metadata": {},
          "output_type": "execute_result"
        }
      ],
      "source": [
        "train.head()"
      ]
    },
    {
      "cell_type": "code",
      "execution_count": 14,
      "metadata": {
        "id": "uOfF5DEqftHu"
      },
      "outputs": [],
      "source": [
        "# Create dataset\n",
        "train_df = Dataset.construct(\n",
        "    train,\n",
        ")\n",
        "test_df = Dataset.construct(\n",
        "    test,\n",
        ")"
      ]
    },
    {
      "cell_type": "code",
      "execution_count": 15,
      "metadata": {
        "id": "7f61RWVIuIWd"
      },
      "outputs": [],
      "source": [
        "N = 10 # Количество рекомендаций"
      ]
    },
    {
      "cell_type": "code",
      "execution_count": 16,
      "metadata": {
        "id": "fTuw36uqd2m0"
      },
      "outputs": [],
      "source": [
        "# Fit model\n",
        "model_tfidf = ImplicitItemKNNWrapperModel(TFIDFRecommender(K=10)) # K = 10, 25, 50 \n",
        "model_tfidf.fit(train_df)\n",
        "\n",
        "# Make recommendations\n",
        "recos_tfidf = model_tfidf.recommend(\n",
        "    users=train[Columns.User].unique(),\n",
        "    dataset=train_df,\n",
        "    k=N,\n",
        "    filter_viewed=True,\n",
        ")"
      ]
    },
    {
      "cell_type": "code",
      "execution_count": 17,
      "metadata": {
        "id": "tJ58fmuJe_eW"
      },
      "outputs": [],
      "source": [
        "# Fit model\n",
        "model_bm25 = ImplicitItemKNNWrapperModel(BM25Recommender(K=10, K1=2)) # K = 10, 25, 50. Изменение коэффициентов K1 и b особой роли не играет.\n",
        "model_bm25.fit(train_df)\n",
        "\n",
        "# Make recommendations\n",
        "recos_bm25 = model_bm25.recommend(\n",
        "    users=train[Columns.User].unique(),\n",
        "    dataset=train_df,\n",
        "    k=N,\n",
        "    filter_viewed=True,\n",
        ")"
      ]
    },
    {
      "cell_type": "code",
      "execution_count": 18,
      "metadata": {
        "id": "9FX2Mmw5fTGH"
      },
      "outputs": [],
      "source": [
        "# Fit model\n",
        "model_cossim = ImplicitItemKNNWrapperModel(CosineRecommender(K=10)) # K = 10, 25, 50 \n",
        "model_cossim.fit(train_df)\n",
        "\n",
        "# Make recommendations\n",
        "recos_cossim = model_cossim.recommend(\n",
        "    users=train[Columns.User].unique(),\n",
        "    dataset=train_df,\n",
        "    k=N,\n",
        "    filter_viewed=True,\n",
        ")"
      ]
    },
    {
      "cell_type": "code",
      "execution_count": 19,
      "metadata": {
        "id": "CZEOB9dmoT1U"
      },
      "outputs": [],
      "source": [
        "metrics = {\n",
        "    \"mAP@10\": MAP(k=10),\n",
        "    \"prec@10\": Precision(k=10),\n",
        "    \"recall@10\": Recall(k=10),\n",
        "    \"novelty\": MeanInvUserFreq(k=10),\n",
        "    \"serendipity\": Serendipity(k=10),\n",
        "}\n",
        "\n",
        "catalog = train['item_id'].unique()"
      ]
    },
    {
      "cell_type": "code",
      "execution_count": 20,
      "metadata": {
        "colab": {
          "base_uri": "https://localhost:8080/"
        },
        "id": "foakGDh1oHvF",
        "outputId": "7f647781-a488-4798-c48f-d1af4cc25060"
      },
      "outputs": [
        {
          "name": "stdout",
          "output_type": "stream",
          "text": [
            "KNN с поиском похожих юзеров через tf-idf выдает:\n",
            " {'prec@10': 0.03379975093888197, 'recall@10': 0.16785348935939565, 'mAP@10': 0.0780738513664305, 'novelty': 7.445808587669819, 'serendipity': 2.450980496715003e-05}\n",
            "KNN с поиском похожих юзеров через BM25 выдает:\n",
            " {'prec@10': 0.03937715109380976, 'recall@10': 0.19876239246077565, 'mAP@10': 0.0956302459933854, 'novelty': 4.052741401774423, 'serendipity': 8.128819126883973e-06}\n",
            "KNN с поиском похожих юзеров через Cos sim выдает:\n",
            " {'prec@10': 0.022914603414294542, 'recall@10': 0.1191115419628571, 'mAP@10': 0.05829229137022718, 'novelty': 9.589126024970618, 'serendipity': 1.4627631415421597e-05}\n"
          ]
        }
      ],
      "source": [
        "metric_values_tfidf = calc_metrics(\n",
        "    metrics,\n",
        "    reco=recos_tfidf,\n",
        "    interactions=test,\n",
        "    prev_interactions=train,\n",
        "    catalog=catalog\n",
        ")\n",
        "\n",
        "metric_values_bm25 = calc_metrics(\n",
        "    metrics,\n",
        "    reco=recos_bm25,\n",
        "    interactions=test,\n",
        "    prev_interactions=train,\n",
        "    catalog=catalog\n",
        ")\n",
        "\n",
        "metric_values_cossim = calc_metrics(\n",
        "    metrics,\n",
        "    reco=recos_cossim,\n",
        "    interactions=test,\n",
        "    prev_interactions=train,\n",
        "    catalog=catalog\n",
        ")\n",
        "print('KNN с поиском похожих юзеров через tf-idf выдает:\\n', metric_values_tfidf)\n",
        "print('KNN с поиском похожих юзеров через BM25 выдает:\\n', metric_values_bm25)\n",
        "print('KNN с поиском похожих юзеров через Cos sim выдает:\\n', metric_values_cossim)"
      ]
    },
    {
      "cell_type": "markdown",
      "metadata": {
        "id": "ICg58UPIluoa"
      },
      "source": [
        "По метрикам лучше всего себя показал BM25 (ожидаемо) и хуже всего обычное косинусное расстояние. "
      ]
    },
    {
      "cell_type": "markdown",
      "metadata": {
        "id": "lbXx7KFalaaX"
      },
      "source": [
        "Обучим популярное."
      ]
    },
    {
      "cell_type": "code",
      "execution_count": 23,
      "metadata": {
        "id": "CH4AD9z2lZxf"
      },
      "outputs": [],
      "source": [
        "pop = PopularModel(popularity='n_users')\n",
        "pop.fit(train_df);"
      ]
    },
    {
      "cell_type": "code",
      "execution_count": 26,
      "metadata": {
        "id": "jRCsNHLdlyML"
      },
      "outputs": [],
      "source": [
        "recopop = pop.recommend(\n",
        "    users=train[Columns.User].unique(), \n",
        "    dataset=train_df, \n",
        "    k=N, \n",
        "    filter_viewed=False  \n",
        ")"
      ]
    },
    {
      "cell_type": "markdown",
      "metadata": {
        "id": "CP32Am1dlSc7"
      },
      "source": [
        "Для пользователей, которым BM25 выдал меньше 10 рекомендаций (или не выдал вообще), будем добавлять популярное."
      ]
    },
    {
      "cell_type": "code",
      "execution_count": null,
      "metadata": {
        "id": "wTzagFdgj5FZ"
      },
      "outputs": [],
      "source": [
        "recoms = pd.concat([recos_bm25, recopop])\n",
        "recoms = recoms.drop_duplicates(keep='first', subset=['user_id', 'item_id'])\n",
        "recoms['rank'] = recoms.groupby('user_id')['user_id'].rank(method='first')\n",
        "recoms = recoms[recoms['rank'] <= 10]\n",
        "recoms = recoms[['user_id', 'item_id']]\n",
        "recoms.to_csv('BM25pop.csv.gz', index=False, compression='gzip')"
      ]
    },
    {
      "cell_type": "markdown",
      "metadata": {
        "id": "VyyLC_bQm4nf"
      },
      "source": [
        "Другой вариант: объединим предсказания 3-х видов KNN. Объединяем в другом порядке - другой вариант ранжирования."
      ]
    },
    {
      "cell_type": "code",
      "execution_count": null,
      "metadata": {
        "id": "dACHbmR_m2R1"
      },
      "outputs": [],
      "source": [
        "recoms = pd.concat([recos_bm25, recos_cossim, recos_tfidf])\n",
        "recoms = recoms.drop_duplicates(keep='first', subset=['user_id', 'item_id'])\n",
        "recoms['rank'] = recoms.groupby('user_id')['user_id'].rank(method='first')\n",
        "recoms = recoms[recoms['rank'] <= 10]\n",
        "recoms = recoms[['user_id', 'item_id']]\n",
        "recoms.to_csv('BM25TFCOS.csv.gz', index=False, compression='gzip')"
      ]
    },
    {
      "cell_type": "markdown",
      "metadata": {
        "id": "J0Es83AqpCtU"
      },
      "source": [
        "# Final Model"
      ]
    },
    {
      "cell_type": "code",
      "execution_count": null,
      "metadata": {
        "id": "CfxxOuIjpiB3"
      },
      "outputs": [],
      "source": [
        "model = UserKNN(dist_model=BM25Recommender(K=10, K1=2), n_neighbors=10)"
      ]
    },
    {
      "cell_type": "code",
      "execution_count": null,
      "metadata": {
        "colab": {
          "base_uri": "https://localhost:8080/",
          "height": 49,
          "referenced_widgets": [
            "447339f3340240428c24808b16e09464",
            "d1cc5098c64b4dc299000cea59734c55",
            "857b251ecc8041bfa82d2681298a4417",
            "cdb765667fee44ae9f5c5ba91ace415f",
            "05e04191a34c4edcbbfe142680b5d257",
            "6436440b8a3341f0973e8f81f47cce23",
            "c8fb29976e8e46198a3ae5ade40f33e9",
            "41b2b540a3154ef3af02c9f80f499b43",
            "9246664fc9ad42e2a3b9bb148d705f8b",
            "652bfc24e28f4d998f24fb63b822b4d5",
            "ea39a4d2e46f42f4bdc0da75ef2333d2",
            "e2153c9e42704498a407b677413b6bb3"
          ]
        },
        "id": "gyWTBqzz7kP1",
        "outputId": "4736e536-1d4e-4998-d447-2dc242a32366"
      },
      "outputs": [
        {
          "data": {
            "application/vnd.jupyter.widget-view+json": {
              "model_id": "e2153c9e42704498a407b677413b6bb3",
              "version_major": 2,
              "version_minor": 0
            },
            "text/plain": [
              "  0%|          | 0/842129 [00:00<?, ?it/s]"
            ]
          },
          "metadata": {},
          "output_type": "display_data"
        }
      ],
      "source": [
        "model.fit(train)"
      ]
    },
    {
      "cell_type": "code",
      "execution_count": null,
      "metadata": {
        "colab": {
          "base_uri": "https://localhost:8080/"
        },
        "id": "rC7MQDvCOSeE",
        "outputId": "23b06463-3ce0-4ea0-aad5-c9e06f82fc02"
      },
      "outputs": [
        {
          "data": {
            "text/plain": [
              "[1659, 2365, 8727, 5533, 12988, 9506, 5005, 15171, 3474, 11985]"
            ]
          },
          "execution_count": 16,
          "metadata": {},
          "output_type": "execute_result"
        }
      ],
      "source": [
        "model.predict(user_id=699317)"
      ]
    },
    {
      "cell_type": "code",
      "execution_count": null,
      "metadata": {
        "id": "Eomv66-1aBeA"
      },
      "outputs": [],
      "source": [
        "with open('../data/knn_bm25.pickle', 'wb') as f:\n",
        "      pickle.dump(model, f)\n"
      ]
    }
  ],
  "metadata": {
    "colab": {
      "provenance": []
    },
    "kernelspec": {
      "display_name": "Python 3",
      "name": "python3"
    },
    "language_info": {
      "name": "python"
    },
    "widgets": {
      "application/vnd.jupyter.widget-state+json": {
        "05e04191a34c4edcbbfe142680b5d257": {
          "model_module": "@jupyter-widgets/base",
          "model_module_version": "1.2.0",
          "model_name": "LayoutModel",
          "state": {
            "_model_module": "@jupyter-widgets/base",
            "_model_module_version": "1.2.0",
            "_model_name": "LayoutModel",
            "_view_count": null,
            "_view_module": "@jupyter-widgets/base",
            "_view_module_version": "1.2.0",
            "_view_name": "LayoutView",
            "align_content": null,
            "align_items": null,
            "align_self": null,
            "border": null,
            "bottom": null,
            "display": null,
            "flex": null,
            "flex_flow": null,
            "grid_area": null,
            "grid_auto_columns": null,
            "grid_auto_flow": null,
            "grid_auto_rows": null,
            "grid_column": null,
            "grid_gap": null,
            "grid_row": null,
            "grid_template_areas": null,
            "grid_template_columns": null,
            "grid_template_rows": null,
            "height": null,
            "justify_content": null,
            "justify_items": null,
            "left": null,
            "margin": null,
            "max_height": null,
            "max_width": null,
            "min_height": null,
            "min_width": null,
            "object_fit": null,
            "object_position": null,
            "order": null,
            "overflow": null,
            "overflow_x": null,
            "overflow_y": null,
            "padding": null,
            "right": null,
            "top": null,
            "visibility": null,
            "width": null
          }
        },
        "41b2b540a3154ef3af02c9f80f499b43": {
          "model_module": "@jupyter-widgets/base",
          "model_module_version": "1.2.0",
          "model_name": "LayoutModel",
          "state": {
            "_model_module": "@jupyter-widgets/base",
            "_model_module_version": "1.2.0",
            "_model_name": "LayoutModel",
            "_view_count": null,
            "_view_module": "@jupyter-widgets/base",
            "_view_module_version": "1.2.0",
            "_view_name": "LayoutView",
            "align_content": null,
            "align_items": null,
            "align_self": null,
            "border": null,
            "bottom": null,
            "display": null,
            "flex": null,
            "flex_flow": null,
            "grid_area": null,
            "grid_auto_columns": null,
            "grid_auto_flow": null,
            "grid_auto_rows": null,
            "grid_column": null,
            "grid_gap": null,
            "grid_row": null,
            "grid_template_areas": null,
            "grid_template_columns": null,
            "grid_template_rows": null,
            "height": null,
            "justify_content": null,
            "justify_items": null,
            "left": null,
            "margin": null,
            "max_height": null,
            "max_width": null,
            "min_height": null,
            "min_width": null,
            "object_fit": null,
            "object_position": null,
            "order": null,
            "overflow": null,
            "overflow_x": null,
            "overflow_y": null,
            "padding": null,
            "right": null,
            "top": null,
            "visibility": null,
            "width": null
          }
        },
        "447339f3340240428c24808b16e09464": {
          "model_module": "@jupyter-widgets/controls",
          "model_module_version": "1.5.0",
          "model_name": "HBoxModel",
          "state": {
            "_dom_classes": [],
            "_model_module": "@jupyter-widgets/controls",
            "_model_module_version": "1.5.0",
            "_model_name": "HBoxModel",
            "_view_count": null,
            "_view_module": "@jupyter-widgets/controls",
            "_view_module_version": "1.5.0",
            "_view_name": "HBoxView",
            "box_style": "",
            "children": [
              "IPY_MODEL_d1cc5098c64b4dc299000cea59734c55",
              "IPY_MODEL_857b251ecc8041bfa82d2681298a4417",
              "IPY_MODEL_cdb765667fee44ae9f5c5ba91ace415f"
            ],
            "layout": "IPY_MODEL_05e04191a34c4edcbbfe142680b5d257"
          }
        },
        "4fffef0974c04f749408a6cefb9eeefb": {
          "model_module": "@jupyter-widgets/controls",
          "model_module_version": "1.5.0",
          "model_name": "ProgressStyleModel",
          "state": {
            "_model_module": "@jupyter-widgets/controls",
            "_model_module_version": "1.5.0",
            "_model_name": "ProgressStyleModel",
            "_view_count": null,
            "_view_module": "@jupyter-widgets/base",
            "_view_module_version": "1.2.0",
            "_view_name": "StyleView",
            "bar_color": null,
            "description_width": ""
          }
        },
        "55a377744d8f4210aa54d169432a875a": {
          "model_module": "@jupyter-widgets/controls",
          "model_module_version": "1.5.0",
          "model_name": "HTMLModel",
          "state": {
            "_dom_classes": [],
            "_model_module": "@jupyter-widgets/controls",
            "_model_module_version": "1.5.0",
            "_model_name": "HTMLModel",
            "_view_count": null,
            "_view_module": "@jupyter-widgets/controls",
            "_view_module_version": "1.5.0",
            "_view_name": "HTMLView",
            "description": "",
            "description_tooltip": null,
            "layout": "IPY_MODEL_bed4ba00c1b1496f9575f831392054d6",
            "placeholder": "​",
            "style": "IPY_MODEL_d0744e6c7b314540adb07fd62f9ef474",
            "value": "kion dataset download: 100%"
          }
        },
        "5dadbe16150d40c3a71fc5ec29c3b1e2": {
          "model_module": "@jupyter-widgets/controls",
          "model_module_version": "1.5.0",
          "model_name": "DescriptionStyleModel",
          "state": {
            "_model_module": "@jupyter-widgets/controls",
            "_model_module_version": "1.5.0",
            "_model_name": "DescriptionStyleModel",
            "_view_count": null,
            "_view_module": "@jupyter-widgets/base",
            "_view_module_version": "1.2.0",
            "_view_name": "StyleView",
            "description_width": ""
          }
        },
        "6436440b8a3341f0973e8f81f47cce23": {
          "model_module": "@jupyter-widgets/base",
          "model_module_version": "1.2.0",
          "model_name": "LayoutModel",
          "state": {
            "_model_module": "@jupyter-widgets/base",
            "_model_module_version": "1.2.0",
            "_model_name": "LayoutModel",
            "_view_count": null,
            "_view_module": "@jupyter-widgets/base",
            "_view_module_version": "1.2.0",
            "_view_name": "LayoutView",
            "align_content": null,
            "align_items": null,
            "align_self": null,
            "border": null,
            "bottom": null,
            "display": null,
            "flex": null,
            "flex_flow": null,
            "grid_area": null,
            "grid_auto_columns": null,
            "grid_auto_flow": null,
            "grid_auto_rows": null,
            "grid_column": null,
            "grid_gap": null,
            "grid_row": null,
            "grid_template_areas": null,
            "grid_template_columns": null,
            "grid_template_rows": null,
            "height": null,
            "justify_content": null,
            "justify_items": null,
            "left": null,
            "margin": null,
            "max_height": null,
            "max_width": null,
            "min_height": null,
            "min_width": null,
            "object_fit": null,
            "object_position": null,
            "order": null,
            "overflow": null,
            "overflow_x": null,
            "overflow_y": null,
            "padding": null,
            "right": null,
            "top": null,
            "visibility": null,
            "width": null
          }
        },
        "652bfc24e28f4d998f24fb63b822b4d5": {
          "model_module": "@jupyter-widgets/base",
          "model_module_version": "1.2.0",
          "model_name": "LayoutModel",
          "state": {
            "_model_module": "@jupyter-widgets/base",
            "_model_module_version": "1.2.0",
            "_model_name": "LayoutModel",
            "_view_count": null,
            "_view_module": "@jupyter-widgets/base",
            "_view_module_version": "1.2.0",
            "_view_name": "LayoutView",
            "align_content": null,
            "align_items": null,
            "align_self": null,
            "border": null,
            "bottom": null,
            "display": null,
            "flex": null,
            "flex_flow": null,
            "grid_area": null,
            "grid_auto_columns": null,
            "grid_auto_flow": null,
            "grid_auto_rows": null,
            "grid_column": null,
            "grid_gap": null,
            "grid_row": null,
            "grid_template_areas": null,
            "grid_template_columns": null,
            "grid_template_rows": null,
            "height": null,
            "justify_content": null,
            "justify_items": null,
            "left": null,
            "margin": null,
            "max_height": null,
            "max_width": null,
            "min_height": null,
            "min_width": null,
            "object_fit": null,
            "object_position": null,
            "order": null,
            "overflow": null,
            "overflow_x": null,
            "overflow_y": null,
            "padding": null,
            "right": null,
            "top": null,
            "visibility": null,
            "width": null
          }
        },
        "857b251ecc8041bfa82d2681298a4417": {
          "model_module": "@jupyter-widgets/controls",
          "model_module_version": "1.5.0",
          "model_name": "FloatProgressModel",
          "state": {
            "_dom_classes": [],
            "_model_module": "@jupyter-widgets/controls",
            "_model_module_version": "1.5.0",
            "_model_name": "FloatProgressModel",
            "_view_count": null,
            "_view_module": "@jupyter-widgets/controls",
            "_view_module_version": "1.5.0",
            "_view_name": "ProgressView",
            "bar_style": "success",
            "description": "",
            "description_tooltip": null,
            "layout": "IPY_MODEL_41b2b540a3154ef3af02c9f80f499b43",
            "max": 842129,
            "min": 0,
            "orientation": "horizontal",
            "style": "IPY_MODEL_9246664fc9ad42e2a3b9bb148d705f8b",
            "value": 842129
          }
        },
        "8c6266d5faaf4cb0a3836dcb27ece76a": {
          "model_module": "@jupyter-widgets/base",
          "model_module_version": "1.2.0",
          "model_name": "LayoutModel",
          "state": {
            "_model_module": "@jupyter-widgets/base",
            "_model_module_version": "1.2.0",
            "_model_name": "LayoutModel",
            "_view_count": null,
            "_view_module": "@jupyter-widgets/base",
            "_view_module_version": "1.2.0",
            "_view_name": "LayoutView",
            "align_content": null,
            "align_items": null,
            "align_self": null,
            "border": null,
            "bottom": null,
            "display": null,
            "flex": null,
            "flex_flow": null,
            "grid_area": null,
            "grid_auto_columns": null,
            "grid_auto_flow": null,
            "grid_auto_rows": null,
            "grid_column": null,
            "grid_gap": null,
            "grid_row": null,
            "grid_template_areas": null,
            "grid_template_columns": null,
            "grid_template_rows": null,
            "height": null,
            "justify_content": null,
            "justify_items": null,
            "left": null,
            "margin": null,
            "max_height": null,
            "max_width": null,
            "min_height": null,
            "min_width": null,
            "object_fit": null,
            "object_position": null,
            "order": null,
            "overflow": null,
            "overflow_x": null,
            "overflow_y": null,
            "padding": null,
            "right": null,
            "top": null,
            "visibility": null,
            "width": null
          }
        },
        "9246664fc9ad42e2a3b9bb148d705f8b": {
          "model_module": "@jupyter-widgets/controls",
          "model_module_version": "1.5.0",
          "model_name": "ProgressStyleModel",
          "state": {
            "_model_module": "@jupyter-widgets/controls",
            "_model_module_version": "1.5.0",
            "_model_name": "ProgressStyleModel",
            "_view_count": null,
            "_view_module": "@jupyter-widgets/base",
            "_view_module_version": "1.2.0",
            "_view_name": "StyleView",
            "bar_color": null,
            "description_width": ""
          }
        },
        "9e24019e94c447e7bfeac17084db4311": {
          "model_module": "@jupyter-widgets/controls",
          "model_module_version": "1.5.0",
          "model_name": "FloatProgressModel",
          "state": {
            "_dom_classes": [],
            "_model_module": "@jupyter-widgets/controls",
            "_model_module_version": "1.5.0",
            "_model_name": "FloatProgressModel",
            "_view_count": null,
            "_view_module": "@jupyter-widgets/controls",
            "_view_module_version": "1.5.0",
            "_view_name": "ProgressView",
            "bar_style": "",
            "description": "",
            "description_tooltip": null,
            "layout": "IPY_MODEL_c2afc043a89b4c8f9539ec4977d619da",
            "max": 78795385,
            "min": 0,
            "orientation": "horizontal",
            "style": "IPY_MODEL_4fffef0974c04f749408a6cefb9eeefb",
            "value": 78795385
          }
        },
        "bed4ba00c1b1496f9575f831392054d6": {
          "model_module": "@jupyter-widgets/base",
          "model_module_version": "1.2.0",
          "model_name": "LayoutModel",
          "state": {
            "_model_module": "@jupyter-widgets/base",
            "_model_module_version": "1.2.0",
            "_model_name": "LayoutModel",
            "_view_count": null,
            "_view_module": "@jupyter-widgets/base",
            "_view_module_version": "1.2.0",
            "_view_name": "LayoutView",
            "align_content": null,
            "align_items": null,
            "align_self": null,
            "border": null,
            "bottom": null,
            "display": null,
            "flex": null,
            "flex_flow": null,
            "grid_area": null,
            "grid_auto_columns": null,
            "grid_auto_flow": null,
            "grid_auto_rows": null,
            "grid_column": null,
            "grid_gap": null,
            "grid_row": null,
            "grid_template_areas": null,
            "grid_template_columns": null,
            "grid_template_rows": null,
            "height": null,
            "justify_content": null,
            "justify_items": null,
            "left": null,
            "margin": null,
            "max_height": null,
            "max_width": null,
            "min_height": null,
            "min_width": null,
            "object_fit": null,
            "object_position": null,
            "order": null,
            "overflow": null,
            "overflow_x": null,
            "overflow_y": null,
            "padding": null,
            "right": null,
            "top": null,
            "visibility": null,
            "width": null
          }
        },
        "c0bfd770c7d8427b81f086582511ea5c": {
          "model_module": "@jupyter-widgets/controls",
          "model_module_version": "1.5.0",
          "model_name": "HBoxModel",
          "state": {
            "_dom_classes": [],
            "_model_module": "@jupyter-widgets/controls",
            "_model_module_version": "1.5.0",
            "_model_name": "HBoxModel",
            "_view_count": null,
            "_view_module": "@jupyter-widgets/controls",
            "_view_module_version": "1.5.0",
            "_view_name": "HBoxView",
            "box_style": "",
            "children": [
              "IPY_MODEL_55a377744d8f4210aa54d169432a875a",
              "IPY_MODEL_9e24019e94c447e7bfeac17084db4311",
              "IPY_MODEL_ea693d5b828f4422b7c39905b13013bc"
            ],
            "layout": "IPY_MODEL_8c6266d5faaf4cb0a3836dcb27ece76a"
          }
        },
        "c2afc043a89b4c8f9539ec4977d619da": {
          "model_module": "@jupyter-widgets/base",
          "model_module_version": "1.2.0",
          "model_name": "LayoutModel",
          "state": {
            "_model_module": "@jupyter-widgets/base",
            "_model_module_version": "1.2.0",
            "_model_name": "LayoutModel",
            "_view_count": null,
            "_view_module": "@jupyter-widgets/base",
            "_view_module_version": "1.2.0",
            "_view_name": "LayoutView",
            "align_content": null,
            "align_items": null,
            "align_self": null,
            "border": null,
            "bottom": null,
            "display": null,
            "flex": null,
            "flex_flow": null,
            "grid_area": null,
            "grid_auto_columns": null,
            "grid_auto_flow": null,
            "grid_auto_rows": null,
            "grid_column": null,
            "grid_gap": null,
            "grid_row": null,
            "grid_template_areas": null,
            "grid_template_columns": null,
            "grid_template_rows": null,
            "height": null,
            "justify_content": null,
            "justify_items": null,
            "left": null,
            "margin": null,
            "max_height": null,
            "max_width": null,
            "min_height": null,
            "min_width": null,
            "object_fit": null,
            "object_position": null,
            "order": null,
            "overflow": null,
            "overflow_x": null,
            "overflow_y": null,
            "padding": null,
            "right": null,
            "top": null,
            "visibility": null,
            "width": null
          }
        },
        "c8fb29976e8e46198a3ae5ade40f33e9": {
          "model_module": "@jupyter-widgets/controls",
          "model_module_version": "1.5.0",
          "model_name": "DescriptionStyleModel",
          "state": {
            "_model_module": "@jupyter-widgets/controls",
            "_model_module_version": "1.5.0",
            "_model_name": "DescriptionStyleModel",
            "_view_count": null,
            "_view_module": "@jupyter-widgets/base",
            "_view_module_version": "1.2.0",
            "_view_name": "StyleView",
            "description_width": ""
          }
        },
        "cb25401266de479bb59f1d249183f722": {
          "model_module": "@jupyter-widgets/base",
          "model_module_version": "1.2.0",
          "model_name": "LayoutModel",
          "state": {
            "_model_module": "@jupyter-widgets/base",
            "_model_module_version": "1.2.0",
            "_model_name": "LayoutModel",
            "_view_count": null,
            "_view_module": "@jupyter-widgets/base",
            "_view_module_version": "1.2.0",
            "_view_name": "LayoutView",
            "align_content": null,
            "align_items": null,
            "align_self": null,
            "border": null,
            "bottom": null,
            "display": null,
            "flex": null,
            "flex_flow": null,
            "grid_area": null,
            "grid_auto_columns": null,
            "grid_auto_flow": null,
            "grid_auto_rows": null,
            "grid_column": null,
            "grid_gap": null,
            "grid_row": null,
            "grid_template_areas": null,
            "grid_template_columns": null,
            "grid_template_rows": null,
            "height": null,
            "justify_content": null,
            "justify_items": null,
            "left": null,
            "margin": null,
            "max_height": null,
            "max_width": null,
            "min_height": null,
            "min_width": null,
            "object_fit": null,
            "object_position": null,
            "order": null,
            "overflow": null,
            "overflow_x": null,
            "overflow_y": null,
            "padding": null,
            "right": null,
            "top": null,
            "visibility": null,
            "width": null
          }
        },
        "cdb765667fee44ae9f5c5ba91ace415f": {
          "model_module": "@jupyter-widgets/controls",
          "model_module_version": "1.5.0",
          "model_name": "HTMLModel",
          "state": {
            "_dom_classes": [],
            "_model_module": "@jupyter-widgets/controls",
            "_model_module_version": "1.5.0",
            "_model_name": "HTMLModel",
            "_view_count": null,
            "_view_module": "@jupyter-widgets/controls",
            "_view_module_version": "1.5.0",
            "_view_name": "HTMLView",
            "description": "",
            "description_tooltip": null,
            "layout": "IPY_MODEL_652bfc24e28f4d998f24fb63b822b4d5",
            "placeholder": "​",
            "style": "IPY_MODEL_ea39a4d2e46f42f4bdc0da75ef2333d2",
            "value": " 842129/842129 [12:56&lt;00:00, 3074.35it/s]"
          }
        },
        "d0744e6c7b314540adb07fd62f9ef474": {
          "model_module": "@jupyter-widgets/controls",
          "model_module_version": "1.5.0",
          "model_name": "DescriptionStyleModel",
          "state": {
            "_model_module": "@jupyter-widgets/controls",
            "_model_module_version": "1.5.0",
            "_model_name": "DescriptionStyleModel",
            "_view_count": null,
            "_view_module": "@jupyter-widgets/base",
            "_view_module_version": "1.2.0",
            "_view_name": "StyleView",
            "description_width": ""
          }
        },
        "d1cc5098c64b4dc299000cea59734c55": {
          "model_module": "@jupyter-widgets/controls",
          "model_module_version": "1.5.0",
          "model_name": "HTMLModel",
          "state": {
            "_dom_classes": [],
            "_model_module": "@jupyter-widgets/controls",
            "_model_module_version": "1.5.0",
            "_model_name": "HTMLModel",
            "_view_count": null,
            "_view_module": "@jupyter-widgets/controls",
            "_view_module_version": "1.5.0",
            "_view_name": "HTMLView",
            "description": "",
            "description_tooltip": null,
            "layout": "IPY_MODEL_6436440b8a3341f0973e8f81f47cce23",
            "placeholder": "​",
            "style": "IPY_MODEL_c8fb29976e8e46198a3ae5ade40f33e9",
            "value": "100%"
          }
        },
        "ea39a4d2e46f42f4bdc0da75ef2333d2": {
          "model_module": "@jupyter-widgets/controls",
          "model_module_version": "1.5.0",
          "model_name": "DescriptionStyleModel",
          "state": {
            "_model_module": "@jupyter-widgets/controls",
            "_model_module_version": "1.5.0",
            "_model_name": "DescriptionStyleModel",
            "_view_count": null,
            "_view_module": "@jupyter-widgets/base",
            "_view_module_version": "1.2.0",
            "_view_name": "StyleView",
            "description_width": ""
          }
        },
        "ea693d5b828f4422b7c39905b13013bc": {
          "model_module": "@jupyter-widgets/controls",
          "model_module_version": "1.5.0",
          "model_name": "HTMLModel",
          "state": {
            "_dom_classes": [],
            "_model_module": "@jupyter-widgets/controls",
            "_model_module_version": "1.5.0",
            "_model_name": "HTMLModel",
            "_view_count": null,
            "_view_module": "@jupyter-widgets/controls",
            "_view_module_version": "1.5.0",
            "_view_name": "HTMLView",
            "description": "",
            "description_tooltip": null,
            "layout": "IPY_MODEL_cb25401266de479bb59f1d249183f722",
            "placeholder": "​",
            "style": "IPY_MODEL_5dadbe16150d40c3a71fc5ec29c3b1e2",
            "value": " 78.8M/78.8M [00:20&lt;00:00, 16.6MiB/s]"
          }
        }
      }
    }
  },
  "nbformat": 4,
  "nbformat_minor": 0
}
