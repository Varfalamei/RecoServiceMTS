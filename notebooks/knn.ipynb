{
 "nbformat": 4,
 "nbformat_minor": 0,
 "metadata": {
  "colab": {
   "provenance": []
  },
  "kernelspec": {
   "name": "python3",
   "display_name": "Python 3"
  },
  "language_info": {
   "name": "python"
  },
  "widgets": {
   "application/vnd.jupyter.widget-state+json": {
    "c0bfd770c7d8427b81f086582511ea5c": {
     "model_module": "@jupyter-widgets/controls",
     "model_name": "HBoxModel",
     "model_module_version": "1.5.0",
     "state": {
      "_dom_classes": [],
      "_model_module": "@jupyter-widgets/controls",
      "_model_module_version": "1.5.0",
      "_model_name": "HBoxModel",
      "_view_count": null,
      "_view_module": "@jupyter-widgets/controls",
      "_view_module_version": "1.5.0",
      "_view_name": "HBoxView",
      "box_style": "",
      "children": [
       "IPY_MODEL_55a377744d8f4210aa54d169432a875a",
       "IPY_MODEL_9e24019e94c447e7bfeac17084db4311",
       "IPY_MODEL_ea693d5b828f4422b7c39905b13013bc"
      ],
      "layout": "IPY_MODEL_8c6266d5faaf4cb0a3836dcb27ece76a"
     }
    },
    "55a377744d8f4210aa54d169432a875a": {
     "model_module": "@jupyter-widgets/controls",
     "model_name": "HTMLModel",
     "model_module_version": "1.5.0",
     "state": {
      "_dom_classes": [],
      "_model_module": "@jupyter-widgets/controls",
      "_model_module_version": "1.5.0",
      "_model_name": "HTMLModel",
      "_view_count": null,
      "_view_module": "@jupyter-widgets/controls",
      "_view_module_version": "1.5.0",
      "_view_name": "HTMLView",
      "description": "",
      "description_tooltip": null,
      "layout": "IPY_MODEL_bed4ba00c1b1496f9575f831392054d6",
      "placeholder": "​",
      "style": "IPY_MODEL_d0744e6c7b314540adb07fd62f9ef474",
      "value": "kion dataset download: 100%"
     }
    },
    "9e24019e94c447e7bfeac17084db4311": {
     "model_module": "@jupyter-widgets/controls",
     "model_name": "FloatProgressModel",
     "model_module_version": "1.5.0",
     "state": {
      "_dom_classes": [],
      "_model_module": "@jupyter-widgets/controls",
      "_model_module_version": "1.5.0",
      "_model_name": "FloatProgressModel",
      "_view_count": null,
      "_view_module": "@jupyter-widgets/controls",
      "_view_module_version": "1.5.0",
      "_view_name": "ProgressView",
      "bar_style": "",
      "description": "",
      "description_tooltip": null,
      "layout": "IPY_MODEL_c2afc043a89b4c8f9539ec4977d619da",
      "max": 78795385,
      "min": 0,
      "orientation": "horizontal",
      "style": "IPY_MODEL_4fffef0974c04f749408a6cefb9eeefb",
      "value": 78795385
     }
    },
    "ea693d5b828f4422b7c39905b13013bc": {
     "model_module": "@jupyter-widgets/controls",
     "model_name": "HTMLModel",
     "model_module_version": "1.5.0",
     "state": {
      "_dom_classes": [],
      "_model_module": "@jupyter-widgets/controls",
      "_model_module_version": "1.5.0",
      "_model_name": "HTMLModel",
      "_view_count": null,
      "_view_module": "@jupyter-widgets/controls",
      "_view_module_version": "1.5.0",
      "_view_name": "HTMLView",
      "description": "",
      "description_tooltip": null,
      "layout": "IPY_MODEL_cb25401266de479bb59f1d249183f722",
      "placeholder": "​",
      "style": "IPY_MODEL_5dadbe16150d40c3a71fc5ec29c3b1e2",
      "value": " 78.8M/78.8M [00:20&lt;00:00, 16.6MiB/s]"
     }
    },
    "8c6266d5faaf4cb0a3836dcb27ece76a": {
     "model_module": "@jupyter-widgets/base",
     "model_name": "LayoutModel",
     "model_module_version": "1.2.0",
     "state": {
      "_model_module": "@jupyter-widgets/base",
      "_model_module_version": "1.2.0",
      "_model_name": "LayoutModel",
      "_view_count": null,
      "_view_module": "@jupyter-widgets/base",
      "_view_module_version": "1.2.0",
      "_view_name": "LayoutView",
      "align_content": null,
      "align_items": null,
      "align_self": null,
      "border": null,
      "bottom": null,
      "display": null,
      "flex": null,
      "flex_flow": null,
      "grid_area": null,
      "grid_auto_columns": null,
      "grid_auto_flow": null,
      "grid_auto_rows": null,
      "grid_column": null,
      "grid_gap": null,
      "grid_row": null,
      "grid_template_areas": null,
      "grid_template_columns": null,
      "grid_template_rows": null,
      "height": null,
      "justify_content": null,
      "justify_items": null,
      "left": null,
      "margin": null,
      "max_height": null,
      "max_width": null,
      "min_height": null,
      "min_width": null,
      "object_fit": null,
      "object_position": null,
      "order": null,
      "overflow": null,
      "overflow_x": null,
      "overflow_y": null,
      "padding": null,
      "right": null,
      "top": null,
      "visibility": null,
      "width": null
     }
    },
    "bed4ba00c1b1496f9575f831392054d6": {
     "model_module": "@jupyter-widgets/base",
     "model_name": "LayoutModel",
     "model_module_version": "1.2.0",
     "state": {
      "_model_module": "@jupyter-widgets/base",
      "_model_module_version": "1.2.0",
      "_model_name": "LayoutModel",
      "_view_count": null,
      "_view_module": "@jupyter-widgets/base",
      "_view_module_version": "1.2.0",
      "_view_name": "LayoutView",
      "align_content": null,
      "align_items": null,
      "align_self": null,
      "border": null,
      "bottom": null,
      "display": null,
      "flex": null,
      "flex_flow": null,
      "grid_area": null,
      "grid_auto_columns": null,
      "grid_auto_flow": null,
      "grid_auto_rows": null,
      "grid_column": null,
      "grid_gap": null,
      "grid_row": null,
      "grid_template_areas": null,
      "grid_template_columns": null,
      "grid_template_rows": null,
      "height": null,
      "justify_content": null,
      "justify_items": null,
      "left": null,
      "margin": null,
      "max_height": null,
      "max_width": null,
      "min_height": null,
      "min_width": null,
      "object_fit": null,
      "object_position": null,
      "order": null,
      "overflow": null,
      "overflow_x": null,
      "overflow_y": null,
      "padding": null,
      "right": null,
      "top": null,
      "visibility": null,
      "width": null
     }
    },
    "d0744e6c7b314540adb07fd62f9ef474": {
     "model_module": "@jupyter-widgets/controls",
     "model_name": "DescriptionStyleModel",
     "model_module_version": "1.5.0",
     "state": {
      "_model_module": "@jupyter-widgets/controls",
      "_model_module_version": "1.5.0",
      "_model_name": "DescriptionStyleModel",
      "_view_count": null,
      "_view_module": "@jupyter-widgets/base",
      "_view_module_version": "1.2.0",
      "_view_name": "StyleView",
      "description_width": ""
     }
    },
    "c2afc043a89b4c8f9539ec4977d619da": {
     "model_module": "@jupyter-widgets/base",
     "model_name": "LayoutModel",
     "model_module_version": "1.2.0",
     "state": {
      "_model_module": "@jupyter-widgets/base",
      "_model_module_version": "1.2.0",
      "_model_name": "LayoutModel",
      "_view_count": null,
      "_view_module": "@jupyter-widgets/base",
      "_view_module_version": "1.2.0",
      "_view_name": "LayoutView",
      "align_content": null,
      "align_items": null,
      "align_self": null,
      "border": null,
      "bottom": null,
      "display": null,
      "flex": null,
      "flex_flow": null,
      "grid_area": null,
      "grid_auto_columns": null,
      "grid_auto_flow": null,
      "grid_auto_rows": null,
      "grid_column": null,
      "grid_gap": null,
      "grid_row": null,
      "grid_template_areas": null,
      "grid_template_columns": null,
      "grid_template_rows": null,
      "height": null,
      "justify_content": null,
      "justify_items": null,
      "left": null,
      "margin": null,
      "max_height": null,
      "max_width": null,
      "min_height": null,
      "min_width": null,
      "object_fit": null,
      "object_position": null,
      "order": null,
      "overflow": null,
      "overflow_x": null,
      "overflow_y": null,
      "padding": null,
      "right": null,
      "top": null,
      "visibility": null,
      "width": null
     }
    },
    "4fffef0974c04f749408a6cefb9eeefb": {
     "model_module": "@jupyter-widgets/controls",
     "model_name": "ProgressStyleModel",
     "model_module_version": "1.5.0",
     "state": {
      "_model_module": "@jupyter-widgets/controls",
      "_model_module_version": "1.5.0",
      "_model_name": "ProgressStyleModel",
      "_view_count": null,
      "_view_module": "@jupyter-widgets/base",
      "_view_module_version": "1.2.0",
      "_view_name": "StyleView",
      "bar_color": null,
      "description_width": ""
     }
    },
    "cb25401266de479bb59f1d249183f722": {
     "model_module": "@jupyter-widgets/base",
     "model_name": "LayoutModel",
     "model_module_version": "1.2.0",
     "state": {
      "_model_module": "@jupyter-widgets/base",
      "_model_module_version": "1.2.0",
      "_model_name": "LayoutModel",
      "_view_count": null,
      "_view_module": "@jupyter-widgets/base",
      "_view_module_version": "1.2.0",
      "_view_name": "LayoutView",
      "align_content": null,
      "align_items": null,
      "align_self": null,
      "border": null,
      "bottom": null,
      "display": null,
      "flex": null,
      "flex_flow": null,
      "grid_area": null,
      "grid_auto_columns": null,
      "grid_auto_flow": null,
      "grid_auto_rows": null,
      "grid_column": null,
      "grid_gap": null,
      "grid_row": null,
      "grid_template_areas": null,
      "grid_template_columns": null,
      "grid_template_rows": null,
      "height": null,
      "justify_content": null,
      "justify_items": null,
      "left": null,
      "margin": null,
      "max_height": null,
      "max_width": null,
      "min_height": null,
      "min_width": null,
      "object_fit": null,
      "object_position": null,
      "order": null,
      "overflow": null,
      "overflow_x": null,
      "overflow_y": null,
      "padding": null,
      "right": null,
      "top": null,
      "visibility": null,
      "width": null
     }
    },
    "5dadbe16150d40c3a71fc5ec29c3b1e2": {
     "model_module": "@jupyter-widgets/controls",
     "model_name": "DescriptionStyleModel",
     "model_module_version": "1.5.0",
     "state": {
      "_model_module": "@jupyter-widgets/controls",
      "_model_module_version": "1.5.0",
      "_model_name": "DescriptionStyleModel",
      "_view_count": null,
      "_view_module": "@jupyter-widgets/base",
      "_view_module_version": "1.2.0",
      "_view_name": "StyleView",
      "description_width": ""
     }
    },
    "447339f3340240428c24808b16e09464": {
     "model_module": "@jupyter-widgets/controls",
     "model_name": "HBoxModel",
     "model_module_version": "1.5.0",
     "state": {
      "_dom_classes": [],
      "_model_module": "@jupyter-widgets/controls",
      "_model_module_version": "1.5.0",
      "_model_name": "HBoxModel",
      "_view_count": null,
      "_view_module": "@jupyter-widgets/controls",
      "_view_module_version": "1.5.0",
      "_view_name": "HBoxView",
      "box_style": "",
      "children": [
       "IPY_MODEL_d1cc5098c64b4dc299000cea59734c55",
       "IPY_MODEL_857b251ecc8041bfa82d2681298a4417",
       "IPY_MODEL_cdb765667fee44ae9f5c5ba91ace415f"
      ],
      "layout": "IPY_MODEL_05e04191a34c4edcbbfe142680b5d257"
     }
    },
    "d1cc5098c64b4dc299000cea59734c55": {
     "model_module": "@jupyter-widgets/controls",
     "model_name": "HTMLModel",
     "model_module_version": "1.5.0",
     "state": {
      "_dom_classes": [],
      "_model_module": "@jupyter-widgets/controls",
      "_model_module_version": "1.5.0",
      "_model_name": "HTMLModel",
      "_view_count": null,
      "_view_module": "@jupyter-widgets/controls",
      "_view_module_version": "1.5.0",
      "_view_name": "HTMLView",
      "description": "",
      "description_tooltip": null,
      "layout": "IPY_MODEL_6436440b8a3341f0973e8f81f47cce23",
      "placeholder": "​",
      "style": "IPY_MODEL_c8fb29976e8e46198a3ae5ade40f33e9",
      "value": "100%"
     }
    },
    "857b251ecc8041bfa82d2681298a4417": {
     "model_module": "@jupyter-widgets/controls",
     "model_name": "FloatProgressModel",
     "model_module_version": "1.5.0",
     "state": {
      "_dom_classes": [],
      "_model_module": "@jupyter-widgets/controls",
      "_model_module_version": "1.5.0",
      "_model_name": "FloatProgressModel",
      "_view_count": null,
      "_view_module": "@jupyter-widgets/controls",
      "_view_module_version": "1.5.0",
      "_view_name": "ProgressView",
      "bar_style": "success",
      "description": "",
      "description_tooltip": null,
      "layout": "IPY_MODEL_41b2b540a3154ef3af02c9f80f499b43",
      "max": 842129,
      "min": 0,
      "orientation": "horizontal",
      "style": "IPY_MODEL_9246664fc9ad42e2a3b9bb148d705f8b",
      "value": 842129
     }
    },
    "cdb765667fee44ae9f5c5ba91ace415f": {
     "model_module": "@jupyter-widgets/controls",
     "model_name": "HTMLModel",
     "model_module_version": "1.5.0",
     "state": {
      "_dom_classes": [],
      "_model_module": "@jupyter-widgets/controls",
      "_model_module_version": "1.5.0",
      "_model_name": "HTMLModel",
      "_view_count": null,
      "_view_module": "@jupyter-widgets/controls",
      "_view_module_version": "1.5.0",
      "_view_name": "HTMLView",
      "description": "",
      "description_tooltip": null,
      "layout": "IPY_MODEL_652bfc24e28f4d998f24fb63b822b4d5",
      "placeholder": "​",
      "style": "IPY_MODEL_ea39a4d2e46f42f4bdc0da75ef2333d2",
      "value": " 842129/842129 [12:56&lt;00:00, 3074.35it/s]"
     }
    },
    "05e04191a34c4edcbbfe142680b5d257": {
     "model_module": "@jupyter-widgets/base",
     "model_name": "LayoutModel",
     "model_module_version": "1.2.0",
     "state": {
      "_model_module": "@jupyter-widgets/base",
      "_model_module_version": "1.2.0",
      "_model_name": "LayoutModel",
      "_view_count": null,
      "_view_module": "@jupyter-widgets/base",
      "_view_module_version": "1.2.0",
      "_view_name": "LayoutView",
      "align_content": null,
      "align_items": null,
      "align_self": null,
      "border": null,
      "bottom": null,
      "display": null,
      "flex": null,
      "flex_flow": null,
      "grid_area": null,
      "grid_auto_columns": null,
      "grid_auto_flow": null,
      "grid_auto_rows": null,
      "grid_column": null,
      "grid_gap": null,
      "grid_row": null,
      "grid_template_areas": null,
      "grid_template_columns": null,
      "grid_template_rows": null,
      "height": null,
      "justify_content": null,
      "justify_items": null,
      "left": null,
      "margin": null,
      "max_height": null,
      "max_width": null,
      "min_height": null,
      "min_width": null,
      "object_fit": null,
      "object_position": null,
      "order": null,
      "overflow": null,
      "overflow_x": null,
      "overflow_y": null,
      "padding": null,
      "right": null,
      "top": null,
      "visibility": null,
      "width": null
     }
    },
    "6436440b8a3341f0973e8f81f47cce23": {
     "model_module": "@jupyter-widgets/base",
     "model_name": "LayoutModel",
     "model_module_version": "1.2.0",
     "state": {
      "_model_module": "@jupyter-widgets/base",
      "_model_module_version": "1.2.0",
      "_model_name": "LayoutModel",
      "_view_count": null,
      "_view_module": "@jupyter-widgets/base",
      "_view_module_version": "1.2.0",
      "_view_name": "LayoutView",
      "align_content": null,
      "align_items": null,
      "align_self": null,
      "border": null,
      "bottom": null,
      "display": null,
      "flex": null,
      "flex_flow": null,
      "grid_area": null,
      "grid_auto_columns": null,
      "grid_auto_flow": null,
      "grid_auto_rows": null,
      "grid_column": null,
      "grid_gap": null,
      "grid_row": null,
      "grid_template_areas": null,
      "grid_template_columns": null,
      "grid_template_rows": null,
      "height": null,
      "justify_content": null,
      "justify_items": null,
      "left": null,
      "margin": null,
      "max_height": null,
      "max_width": null,
      "min_height": null,
      "min_width": null,
      "object_fit": null,
      "object_position": null,
      "order": null,
      "overflow": null,
      "overflow_x": null,
      "overflow_y": null,
      "padding": null,
      "right": null,
      "top": null,
      "visibility": null,
      "width": null
     }
    },
    "c8fb29976e8e46198a3ae5ade40f33e9": {
     "model_module": "@jupyter-widgets/controls",
     "model_name": "DescriptionStyleModel",
     "model_module_version": "1.5.0",
     "state": {
      "_model_module": "@jupyter-widgets/controls",
      "_model_module_version": "1.5.0",
      "_model_name": "DescriptionStyleModel",
      "_view_count": null,
      "_view_module": "@jupyter-widgets/base",
      "_view_module_version": "1.2.0",
      "_view_name": "StyleView",
      "description_width": ""
     }
    },
    "41b2b540a3154ef3af02c9f80f499b43": {
     "model_module": "@jupyter-widgets/base",
     "model_name": "LayoutModel",
     "model_module_version": "1.2.0",
     "state": {
      "_model_module": "@jupyter-widgets/base",
      "_model_module_version": "1.2.0",
      "_model_name": "LayoutModel",
      "_view_count": null,
      "_view_module": "@jupyter-widgets/base",
      "_view_module_version": "1.2.0",
      "_view_name": "LayoutView",
      "align_content": null,
      "align_items": null,
      "align_self": null,
      "border": null,
      "bottom": null,
      "display": null,
      "flex": null,
      "flex_flow": null,
      "grid_area": null,
      "grid_auto_columns": null,
      "grid_auto_flow": null,
      "grid_auto_rows": null,
      "grid_column": null,
      "grid_gap": null,
      "grid_row": null,
      "grid_template_areas": null,
      "grid_template_columns": null,
      "grid_template_rows": null,
      "height": null,
      "justify_content": null,
      "justify_items": null,
      "left": null,
      "margin": null,
      "max_height": null,
      "max_width": null,
      "min_height": null,
      "min_width": null,
      "object_fit": null,
      "object_position": null,
      "order": null,
      "overflow": null,
      "overflow_x": null,
      "overflow_y": null,
      "padding": null,
      "right": null,
      "top": null,
      "visibility": null,
      "width": null
     }
    },
    "9246664fc9ad42e2a3b9bb148d705f8b": {
     "model_module": "@jupyter-widgets/controls",
     "model_name": "ProgressStyleModel",
     "model_module_version": "1.5.0",
     "state": {
      "_model_module": "@jupyter-widgets/controls",
      "_model_module_version": "1.5.0",
      "_model_name": "ProgressStyleModel",
      "_view_count": null,
      "_view_module": "@jupyter-widgets/base",
      "_view_module_version": "1.2.0",
      "_view_name": "StyleView",
      "bar_color": null,
      "description_width": ""
     }
    },
    "652bfc24e28f4d998f24fb63b822b4d5": {
     "model_module": "@jupyter-widgets/base",
     "model_name": "LayoutModel",
     "model_module_version": "1.2.0",
     "state": {
      "_model_module": "@jupyter-widgets/base",
      "_model_module_version": "1.2.0",
      "_model_name": "LayoutModel",
      "_view_count": null,
      "_view_module": "@jupyter-widgets/base",
      "_view_module_version": "1.2.0",
      "_view_name": "LayoutView",
      "align_content": null,
      "align_items": null,
      "align_self": null,
      "border": null,
      "bottom": null,
      "display": null,
      "flex": null,
      "flex_flow": null,
      "grid_area": null,
      "grid_auto_columns": null,
      "grid_auto_flow": null,
      "grid_auto_rows": null,
      "grid_column": null,
      "grid_gap": null,
      "grid_row": null,
      "grid_template_areas": null,
      "grid_template_columns": null,
      "grid_template_rows": null,
      "height": null,
      "justify_content": null,
      "justify_items": null,
      "left": null,
      "margin": null,
      "max_height": null,
      "max_width": null,
      "min_height": null,
      "min_width": null,
      "object_fit": null,
      "object_position": null,
      "order": null,
      "overflow": null,
      "overflow_x": null,
      "overflow_y": null,
      "padding": null,
      "right": null,
      "top": null,
      "visibility": null,
      "width": null
     }
    },
    "ea39a4d2e46f42f4bdc0da75ef2333d2": {
     "model_module": "@jupyter-widgets/controls",
     "model_name": "DescriptionStyleModel",
     "model_module_version": "1.5.0",
     "state": {
      "_model_module": "@jupyter-widgets/controls",
      "_model_module_version": "1.5.0",
      "_model_name": "DescriptionStyleModel",
      "_view_count": null,
      "_view_module": "@jupyter-widgets/base",
      "_view_module_version": "1.2.0",
      "_view_name": "StyleView",
      "description_width": ""
     }
    }
   }
  }
 },
 "cells": [
  {
   "cell_type": "code",
   "execution_count": null,
   "outputs": [],
   "source": [
    "# import sys\n",
    "# !{sys.executable} -m pip install rectools==0.2.0"
   ],
   "metadata": {
    "collapsed": false
   }
  },
  {
   "cell_type": "code",
   "source": [
    "import os\n",
    "import pickle\n",
    "import random\n",
    "import warnings\n",
    "\n",
    "import numpy as np\n",
    "import pandas as pd\n",
    "from implicit.nearest_neighbours import (\n",
    "    BM25Recommender,\n",
    "    CosineRecommender,\n",
    "    TFIDFRecommender,\n",
    ")\n",
    "from rectools import Columns\n",
    "from rectools.dataset import Dataset\n",
    "from rectools.metrics import (\n",
    "    MAP,\n",
    "    MeanInvUserFreq,\n",
    "    Precision,\n",
    "    Recall,\n",
    "    Serendipity,\n",
    "    calc_metrics,\n",
    ")\n",
    "from rectools.model_selection import TimeRangeSplit\n",
    "from rectools.models import ImplicitItemKNNWrapperModel\n",
    "\n",
    "from service.api.models_zoo import UserKNN\n",
    "\n",
    "warnings.filterwarnings(\"ignore\")"
   ],
   "metadata": {
    "id": "xwoQaesPc-dn",
    "colab": {
     "base_uri": "https://localhost:8080/"
    },
    "outputId": "a7a80e52-9602-429e-9c0c-83cd79b50257"
   },
   "execution_count": 1,
   "outputs": [
    {
     "name": "stderr",
     "output_type": "stream",
     "text": [
      "/Users/renat/PycharmProjects/RecoServiceMTS_v2/.venv/lib/python3.9/site-packages/lightfm/_lightfm_fast.py:9: UserWarning: LightFM was compiled without OpenMP support. Only a single thread will be used.\n",
      "  warnings.warn(\n"
     ]
    }
   ]
  },
  {
   "cell_type": "code",
   "execution_count": 2,
   "outputs": [],
   "source": [
    "pd.set_option('display.max_columns', None)\n",
    "pd.set_option('display.max_colwidth', 200)\n",
    "\n",
    "seed = 42\n",
    "random.seed(seed)\n",
    "np.random.seed(seed)\n",
    "os.environ['PYTHONHASHSEED'] = str(seed)"
   ],
   "metadata": {
    "collapsed": false
   }
  },
  {
   "cell_type": "code",
   "source": [
    "# download dataset by chunks\n",
    "# !wget https://storage.yandexcloud.net/itmo-recsys-public-data/kion_train.zip -O ../data/data_original.zip\n",
    "# !unzip ../data/data_original.zip -d ../data"
   ],
   "metadata": {
    "colab": {
     "base_uri": "https://localhost:8080/",
     "height": 49,
     "referenced_widgets": [
      "c0bfd770c7d8427b81f086582511ea5c",
      "55a377744d8f4210aa54d169432a875a",
      "9e24019e94c447e7bfeac17084db4311",
      "ea693d5b828f4422b7c39905b13013bc",
      "8c6266d5faaf4cb0a3836dcb27ece76a",
      "bed4ba00c1b1496f9575f831392054d6",
      "d0744e6c7b314540adb07fd62f9ef474",
      "c2afc043a89b4c8f9539ec4977d619da",
      "4fffef0974c04f749408a6cefb9eeefb",
      "cb25401266de479bb59f1d249183f722",
      "5dadbe16150d40c3a71fc5ec29c3b1e2"
     ]
    },
    "id": "q-MjS-lodBPz",
    "outputId": "5566c044-4026-4187-ec5f-9e81342c1606"
   },
   "execution_count": 3,
   "outputs": [
    {
     "name": "stdout",
     "output_type": "stream",
     "text": [
      "--2022-12-04 17:08:24--  https://storage.yandexcloud.net/itmo-recsys-public-data/kion_train.zip\r\n",
      "Resolving storage.yandexcloud.net (storage.yandexcloud.net)... 213.180.193.243\r\n",
      "Connecting to storage.yandexcloud.net (storage.yandexcloud.net)|213.180.193.243|:443... connected.\r\n",
      "HTTP request sent, awaiting response... 200 OK\r\n",
      "Length: 78795385 (75M) [application/zip]\r\n",
      "Saving to: ‘../data/data_original.zip’\r\n",
      "\r\n",
      "../data/data_origin 100%[===================>]  75.14M  8.72MB/s    in 8.7s    \r\n",
      "\r\n",
      "2022-12-04 17:08:33 (8.64 MB/s) - ‘../data/data_original.zip’ saved [78795385/78795385]\r\n",
      "\r\n",
      "Archive:  ../data/data_original.zip\r\n",
      "   creating: ../data/kion_train/\r\n",
      "  inflating: ../data/kion_train/interactions.csv  \r\n",
      "  inflating: ../data/__MACOSX/kion_train/._interactions.csv  \r\n",
      "  inflating: ../data/kion_train/users.csv  \r\n",
      "  inflating: ../data/__MACOSX/kion_train/._users.csv  \r\n",
      "  inflating: ../data/kion_train/items.csv  \r\n",
      "  inflating: ../data/__MACOSX/kion_train/._items.csv  \r\n"
     ]
    }
   ]
  },
  {
   "cell_type": "code",
   "source": [
    "interactions = pd.read_csv('../data/kion_train/interactions.csv')\n",
    "users = pd.read_csv('../data/kion_train/users.csv')\n",
    "items = pd.read_csv('../data/kion_train/items.csv')\n",
    "\n",
    "# rename columns, convert timestamp\n",
    "interactions.rename(columns={'last_watch_dt': Columns.Datetime,\n",
    "                            'total_dur': Columns.Weight},\n",
    "                    inplace=True)\n",
    "\n",
    "interactions['datetime'] = pd.to_datetime(interactions['datetime'])"
   ],
   "metadata": {
    "colab": {
     "base_uri": "https://localhost:8080/"
    },
    "id": "eyAk_oJ9dDIo",
    "outputId": "a7881688-9d49-4423-c50a-8468f4484b8e"
   },
   "execution_count": 13,
   "outputs": []
  },
  {
   "cell_type": "markdown",
   "source": [
    "## Train test split"
   ],
   "metadata": {
    "id": "h-0_YSEcgP0T"
   }
  },
  {
   "cell_type": "code",
   "source": [
    "# train test split\n",
    "# test = last 1 week\n",
    "n_folds = 1\n",
    "unit = \"W\"\n",
    "n_units = 1\n",
    "periods = n_folds + 1\n",
    "\n",
    "last_date = interactions[Columns.Datetime].max().normalize()\n",
    "start_date = last_date - pd.Timedelta(n_folds * n_units + 1, unit=unit)  # TimeDelta возвращает длительность промежутка между датами\n",
    "print(f\"Start date and last date of the test fold: {start_date, last_date}\")\n",
    "\n",
    "date_range = pd.date_range(start=start_date, periods=periods, freq=unit, tz=last_date.tz)\n",
    "print(f\"Test fold borders: {date_range.values.astype('datetime64[D]')}\")\n",
    "\n",
    "# generator of folds\n",
    "cv = TimeRangeSplit(\n",
    "    date_range=date_range,\n",
    "    filter_already_seen=True,\n",
    "    filter_cold_items=True,\n",
    "    filter_cold_users=True,\n",
    ")\n",
    "print(f\"Real number of folds: {cv.get_n_splits(interactions)}\")"
   ],
   "metadata": {
    "colab": {
     "base_uri": "https://localhost:8080/"
    },
    "id": "u0b5O2ZogHda",
    "outputId": "14d58974-5b02-457a-b07c-839a8a51311c"
   },
   "execution_count": 14,
   "outputs": [
    {
     "name": "stdout",
     "output_type": "stream",
     "text": [
      "Start date and last date of the test fold: (Timestamp('2021-08-08 00:00:00'), Timestamp('2021-08-22 00:00:00'))\n",
      "Test fold borders: ['2021-08-08' '2021-08-15']\n",
      "Real number of folds: 1\n"
     ]
    }
   ]
  },
  {
   "cell_type": "code",
   "source": [
    "(train_ids, test_ids, fold_info) = cv.split(interactions, collect_fold_stats=True).__next__()"
   ],
   "metadata": {
    "id": "Ja9ZQu32h2vk"
   },
   "execution_count": 15,
   "outputs": []
  },
  {
   "cell_type": "code",
   "source": [
    "train = interactions.loc[train_ids].reset_index(drop=True)\n",
    "test = interactions.loc[test_ids].reset_index(drop=True)"
   ],
   "metadata": {
    "id": "NN5AeKz1jHGT"
   },
   "execution_count": 16,
   "outputs": []
  },
  {
   "cell_type": "code",
   "source": [
    "# prepare user and item features\n",
    "age_feature = (\n",
    "    users[[\"user_id\", \"age\"]]\n",
    "    .rename({'user_id': 'id', 'age': 'value'}, axis=1)\n",
    ")\n",
    "age_feature[\"feature\"] = \"age\"\n",
    "\n",
    "age_feature_train = age_feature[age_feature['id'].isin(train['user_id'])]\n",
    "age_feature_test = age_feature[age_feature['id'].isin(test['user_id'])]\n",
    "\n",
    "\n",
    "genres_feature = (\n",
    "    items[[\"item_id\", \"genres\"]]\n",
    "    .rename({'item_id': 'id', 'genres': 'value'}, axis=1)\n",
    ")\n",
    "\n",
    "genres_feature[\"value\"] = genres_feature[\"value\"].str.split(\",\")\n",
    "genres_feature = genres_feature.explode(\"value\")\n",
    "genres_feature[\"feature\"] = \"genres\"\n",
    "\n",
    "genres_feature_train = genres_feature[genres_feature['id'].isin(train['item_id'])]\n",
    "genres_feature_test = genres_feature[genres_feature['id'].isin(test['item_id'])]"
   ],
   "metadata": {
    "id": "EFUgFKLKZWiT"
   },
   "execution_count": 17,
   "outputs": []
  },
  {
   "cell_type": "code",
   "source": [
    "# Create dataset\n",
    "train_df = Dataset.construct(\n",
    "    train,\n",
    "    user_features_df=None, # age_feature_train\n",
    "    item_features_df=None, # genres_feature_train\n",
    "    # cat_item_features=['genres'],\n",
    "    # cat_user_features=['age']\n",
    "\n",
    ")\n",
    "test_df = Dataset.construct(\n",
    "    test,\n",
    "    user_features_df=None, # age_feature_test\n",
    "    item_features_df=None,\n",
    "    # cat_item_features=['genres'],\n",
    "    # cat_user_features=['age']\n",
    "\n",
    ")"
   ],
   "metadata": {
    "id": "uOfF5DEqftHu"
   },
   "execution_count": 30,
   "outputs": []
  },
  {
   "cell_type": "code",
   "source": [
    "# Fit model\n",
    "model_tfidf = ImplicitItemKNNWrapperModel(TFIDFRecommender(K=10))\n",
    "model_tfidf.fit(train_df)\n",
    "\n",
    "# Make recommendations\n",
    "recos_tfidf = model_tfidf.recommend(\n",
    "    users=train_df[Columns.User].unique(),\n",
    "    dataset=train_df,\n",
    "    k=10,\n",
    "    filter_viewed=True,\n",
    ")"
   ],
   "metadata": {
    "id": "fTuw36uqd2m0"
   },
   "execution_count": 21,
   "outputs": [
    {
     "ename": "TypeError",
     "evalue": "'Dataset' object is not subscriptable",
     "output_type": "error",
     "traceback": [
      "\u001B[0;31m---------------------------------------------------------------------------\u001B[0m",
      "\u001B[0;31mTypeError\u001B[0m                                 Traceback (most recent call last)",
      "Cell \u001B[0;32mIn[21], line 7\u001B[0m\n\u001B[1;32m      3\u001B[0m model_tfidf\u001B[38;5;241m.\u001B[39mfit(train_df)\n\u001B[1;32m      5\u001B[0m \u001B[38;5;66;03m# Make recommendations\u001B[39;00m\n\u001B[1;32m      6\u001B[0m recos_tfidf \u001B[38;5;241m=\u001B[39m model_tfidf\u001B[38;5;241m.\u001B[39mrecommend(\n\u001B[0;32m----> 7\u001B[0m     users\u001B[38;5;241m=\u001B[39m\u001B[43mtrain_df\u001B[49m\u001B[43m[\u001B[49m\u001B[43mColumns\u001B[49m\u001B[38;5;241;43m.\u001B[39;49m\u001B[43mUser\u001B[49m\u001B[43m]\u001B[49m\u001B[38;5;241m.\u001B[39munique(),\n\u001B[1;32m      8\u001B[0m     dataset\u001B[38;5;241m=\u001B[39mtrain_df,\n\u001B[1;32m      9\u001B[0m     k\u001B[38;5;241m=\u001B[39m\u001B[38;5;241m10\u001B[39m,\n\u001B[1;32m     10\u001B[0m     filter_viewed\u001B[38;5;241m=\u001B[39m\u001B[38;5;28;01mTrue\u001B[39;00m,\n\u001B[1;32m     11\u001B[0m )\n",
      "\u001B[0;31mTypeError\u001B[0m: 'Dataset' object is not subscriptable"
     ]
    }
   ]
  },
  {
   "cell_type": "code",
   "execution_count": 28,
   "outputs": [
    {
     "data": {
      "text/plain": "         user_id  item_id   datetime  weight  watched_pct\n0         176549     9506 2021-05-11    4250         72.0\n1         699317     1659 2021-05-29    8317        100.0\n2         656683     7107 2021-05-09      10          0.0\n3         864613     7638 2021-07-05   14483        100.0\n4         964868     9506 2021-04-30    6725        100.0\n...          ...      ...        ...     ...          ...\n4587703   497899     9629 2021-05-29      45          1.0\n4587704   438585     7829 2021-08-02    6804        100.0\n4587705   786732     4880 2021-05-12     753          0.0\n4587706   546862     9673 2021-04-13    2308         49.0\n4587707   384202    16197 2021-04-19    6203        100.0\n\n[4587708 rows x 5 columns]",
      "text/html": "<div>\n<style scoped>\n    .dataframe tbody tr th:only-of-type {\n        vertical-align: middle;\n    }\n\n    .dataframe tbody tr th {\n        vertical-align: top;\n    }\n\n    .dataframe thead th {\n        text-align: right;\n    }\n</style>\n<table border=\"1\" class=\"dataframe\">\n  <thead>\n    <tr style=\"text-align: right;\">\n      <th></th>\n      <th>user_id</th>\n      <th>item_id</th>\n      <th>datetime</th>\n      <th>weight</th>\n      <th>watched_pct</th>\n    </tr>\n  </thead>\n  <tbody>\n    <tr>\n      <th>0</th>\n      <td>176549</td>\n      <td>9506</td>\n      <td>2021-05-11</td>\n      <td>4250</td>\n      <td>72.0</td>\n    </tr>\n    <tr>\n      <th>1</th>\n      <td>699317</td>\n      <td>1659</td>\n      <td>2021-05-29</td>\n      <td>8317</td>\n      <td>100.0</td>\n    </tr>\n    <tr>\n      <th>2</th>\n      <td>656683</td>\n      <td>7107</td>\n      <td>2021-05-09</td>\n      <td>10</td>\n      <td>0.0</td>\n    </tr>\n    <tr>\n      <th>3</th>\n      <td>864613</td>\n      <td>7638</td>\n      <td>2021-07-05</td>\n      <td>14483</td>\n      <td>100.0</td>\n    </tr>\n    <tr>\n      <th>4</th>\n      <td>964868</td>\n      <td>9506</td>\n      <td>2021-04-30</td>\n      <td>6725</td>\n      <td>100.0</td>\n    </tr>\n    <tr>\n      <th>...</th>\n      <td>...</td>\n      <td>...</td>\n      <td>...</td>\n      <td>...</td>\n      <td>...</td>\n    </tr>\n    <tr>\n      <th>4587703</th>\n      <td>497899</td>\n      <td>9629</td>\n      <td>2021-05-29</td>\n      <td>45</td>\n      <td>1.0</td>\n    </tr>\n    <tr>\n      <th>4587704</th>\n      <td>438585</td>\n      <td>7829</td>\n      <td>2021-08-02</td>\n      <td>6804</td>\n      <td>100.0</td>\n    </tr>\n    <tr>\n      <th>4587705</th>\n      <td>786732</td>\n      <td>4880</td>\n      <td>2021-05-12</td>\n      <td>753</td>\n      <td>0.0</td>\n    </tr>\n    <tr>\n      <th>4587706</th>\n      <td>546862</td>\n      <td>9673</td>\n      <td>2021-04-13</td>\n      <td>2308</td>\n      <td>49.0</td>\n    </tr>\n    <tr>\n      <th>4587707</th>\n      <td>384202</td>\n      <td>16197</td>\n      <td>2021-04-19</td>\n      <td>6203</td>\n      <td>100.0</td>\n    </tr>\n  </tbody>\n</table>\n<p>4587708 rows × 5 columns</p>\n</div>"
     },
     "execution_count": 28,
     "metadata": {},
     "output_type": "execute_result"
    }
   ],
   "source": [
    "train"
   ],
   "metadata": {
    "collapsed": false
   }
  },
  {
   "cell_type": "code",
   "execution_count": 31,
   "outputs": [
    {
     "ename": "KeyError",
     "evalue": "'Some indices not exists'",
     "output_type": "error",
     "traceback": [
      "\u001B[0;31m---------------------------------------------------------------------------\u001B[0m",
      "\u001B[0;31mKeyError\u001B[0m                                  Traceback (most recent call last)",
      "Cell \u001B[0;32mIn[31], line 1\u001B[0m\n\u001B[0;32m----> 1\u001B[0m recos_tfidf \u001B[38;5;241m=\u001B[39m \u001B[43mmodel_tfidf\u001B[49m\u001B[38;5;241;43m.\u001B[39;49m\u001B[43mrecommend\u001B[49m\u001B[43m(\u001B[49m\n\u001B[1;32m      2\u001B[0m \u001B[43m    \u001B[49m\u001B[43musers\u001B[49m\u001B[38;5;241;43m=\u001B[39;49m\u001B[43mtest\u001B[49m\u001B[43m[\u001B[49m\u001B[43mColumns\u001B[49m\u001B[38;5;241;43m.\u001B[39;49m\u001B[43mUser\u001B[49m\u001B[43m]\u001B[49m\u001B[38;5;241;43m.\u001B[39;49m\u001B[43munique\u001B[49m\u001B[43m(\u001B[49m\u001B[43m)\u001B[49m\u001B[38;5;241;43m.\u001B[39;49m\u001B[43mtolist\u001B[49m\u001B[43m(\u001B[49m\u001B[43m)\u001B[49m\u001B[43m,\u001B[49m\n\u001B[1;32m      3\u001B[0m \u001B[43m    \u001B[49m\u001B[43mdataset\u001B[49m\u001B[38;5;241;43m=\u001B[39;49m\u001B[43mtrain_df\u001B[49m\u001B[43m,\u001B[49m\n\u001B[1;32m      4\u001B[0m \u001B[43m    \u001B[49m\u001B[43mk\u001B[49m\u001B[38;5;241;43m=\u001B[39;49m\u001B[38;5;241;43m10\u001B[39;49m\u001B[43m,\u001B[49m\n\u001B[1;32m      5\u001B[0m \u001B[43m    \u001B[49m\u001B[43mfilter_viewed\u001B[49m\u001B[38;5;241;43m=\u001B[39;49m\u001B[38;5;28;43;01mTrue\u001B[39;49;00m\u001B[43m,\u001B[49m\n\u001B[1;32m      6\u001B[0m \u001B[43m)\u001B[49m\n",
      "File \u001B[0;32m~/PycharmProjects/RecoServiceMTS_v2/.venv/lib/python3.9/site-packages/rectools/models/base.py:143\u001B[0m, in \u001B[0;36mModelBase.recommend\u001B[0;34m(self, users, dataset, k, filter_viewed, items_to_recommend, add_rank_col)\u001B[0m\n\u001B[1;32m    130\u001B[0m     sorted_item_ids_to_recommend \u001B[38;5;241m=\u001B[39m \u001B[38;5;28;01mNone\u001B[39;00m\n\u001B[1;32m    132\u001B[0m reco_user_ids, reco_item_ids, reco_scores \u001B[38;5;241m=\u001B[39m \u001B[38;5;28mself\u001B[39m\u001B[38;5;241m.\u001B[39m_recommend_u2i(\n\u001B[1;32m    133\u001B[0m     user_ids,\n\u001B[1;32m    134\u001B[0m     dataset,\n\u001B[0;32m   (...)\u001B[0m\n\u001B[1;32m    137\u001B[0m     sorted_item_ids_to_recommend,\n\u001B[1;32m    138\u001B[0m )\n\u001B[1;32m    140\u001B[0m reco \u001B[38;5;241m=\u001B[39m pd\u001B[38;5;241m.\u001B[39mDataFrame(\n\u001B[1;32m    141\u001B[0m     {\n\u001B[1;32m    142\u001B[0m         Columns\u001B[38;5;241m.\u001B[39mUser: dataset\u001B[38;5;241m.\u001B[39muser_id_map\u001B[38;5;241m.\u001B[39mconvert_to_external(reco_user_ids),\n\u001B[0;32m--> 143\u001B[0m         Columns\u001B[38;5;241m.\u001B[39mItem: \u001B[43mdataset\u001B[49m\u001B[38;5;241;43m.\u001B[39;49m\u001B[43mitem_id_map\u001B[49m\u001B[38;5;241;43m.\u001B[39;49m\u001B[43mconvert_to_external\u001B[49m\u001B[43m(\u001B[49m\u001B[43mreco_item_ids\u001B[49m\u001B[43m)\u001B[49m,\n\u001B[1;32m    144\u001B[0m         Columns\u001B[38;5;241m.\u001B[39mScore: reco_scores,\n\u001B[1;32m    145\u001B[0m     }\n\u001B[1;32m    146\u001B[0m )\n\u001B[1;32m    148\u001B[0m \u001B[38;5;28;01mif\u001B[39;00m add_rank_col:\n\u001B[1;32m    149\u001B[0m     reco[Columns\u001B[38;5;241m.\u001B[39mRank] \u001B[38;5;241m=\u001B[39m reco\u001B[38;5;241m.\u001B[39mgroupby(Columns\u001B[38;5;241m.\u001B[39mUser, sort\u001B[38;5;241m=\u001B[39m\u001B[38;5;28;01mFalse\u001B[39;00m)\u001B[38;5;241m.\u001B[39mcumcount() \u001B[38;5;241m+\u001B[39m \u001B[38;5;241m1\u001B[39m\n",
      "File \u001B[0;32m~/PycharmProjects/RecoServiceMTS_v2/.venv/lib/python3.9/site-packages/rectools/dataset/identifiers.py:162\u001B[0m, in \u001B[0;36mIdMap.convert_to_external\u001B[0;34m(self, internal, strict)\u001B[0m\n\u001B[1;32m    139\u001B[0m \u001B[38;5;28;01mdef\u001B[39;00m \u001B[38;5;21mconvert_to_external\u001B[39m(\u001B[38;5;28mself\u001B[39m, internal: InternalIds, strict: \u001B[38;5;28mbool\u001B[39m \u001B[38;5;241m=\u001B[39m \u001B[38;5;28;01mTrue\u001B[39;00m) \u001B[38;5;241m-\u001B[39m\u001B[38;5;241m>\u001B[39m np\u001B[38;5;241m.\u001B[39mndarray:\n\u001B[1;32m    140\u001B[0m     \u001B[38;5;124;03m\"\"\"\u001B[39;00m\n\u001B[1;32m    141\u001B[0m \u001B[38;5;124;03m    Convert any sequence of internal ids to array of external ids (map internal -> external).\u001B[39;00m\n\u001B[1;32m    142\u001B[0m \n\u001B[0;32m   (...)\u001B[0m\n\u001B[1;32m    160\u001B[0m \u001B[38;5;124;03m        If some of given internal ids do not exist in mapping and `strict` flag is True.\u001B[39;00m\n\u001B[1;32m    161\u001B[0m \u001B[38;5;124;03m    \"\"\"\u001B[39;00m\n\u001B[0;32m--> 162\u001B[0m     external \u001B[38;5;241m=\u001B[39m \u001B[43mget_from_series_by_index\u001B[49m\u001B[43m(\u001B[49m\u001B[38;5;28;43mself\u001B[39;49m\u001B[38;5;241;43m.\u001B[39;49m\u001B[43mto_external\u001B[49m\u001B[43m,\u001B[49m\u001B[43m \u001B[49m\u001B[43minternal\u001B[49m\u001B[43m,\u001B[49m\u001B[43m \u001B[49m\u001B[43mstrict\u001B[49m\u001B[43m)\u001B[49m\n\u001B[1;32m    163\u001B[0m     \u001B[38;5;28;01mreturn\u001B[39;00m external\n",
      "File \u001B[0;32m~/PycharmProjects/RecoServiceMTS_v2/.venv/lib/python3.9/site-packages/rectools/utils/indexing.py:149\u001B[0m, in \u001B[0;36mget_from_series_by_index\u001B[0;34m(series, ids, strict)\u001B[0m\n\u001B[1;32m    147\u001B[0m \u001B[38;5;28;01mif\u001B[39;00m strict:\n\u001B[1;32m    148\u001B[0m     \u001B[38;5;28;01mif\u001B[39;00m \u001B[38;5;129;01mnot\u001B[39;00m exists_mask\u001B[38;5;241m.\u001B[39mall():\n\u001B[0;32m--> 149\u001B[0m         \u001B[38;5;28;01mraise\u001B[39;00m \u001B[38;5;167;01mKeyError\u001B[39;00m(\u001B[38;5;124m\"\u001B[39m\u001B[38;5;124mSome indices not exists\u001B[39m\u001B[38;5;124m\"\u001B[39m)\n\u001B[1;32m    150\u001B[0m     known_ids \u001B[38;5;241m=\u001B[39m ids_arr\n\u001B[1;32m    151\u001B[0m \u001B[38;5;28;01melse\u001B[39;00m:\n",
      "\u001B[0;31mKeyError\u001B[0m: 'Some indices not exists'"
     ]
    }
   ],
   "source": [
    "recos_tfidf = model_tfidf.recommend(\n",
    "    users=test[Columns.User].unique().tolist(),\n",
    "    dataset=train_df,\n",
    "    k=10,\n",
    "    filter_viewed=True,\n",
    ")"
   ],
   "metadata": {
    "collapsed": false
   }
  },
  {
   "cell_type": "code",
   "source": [
    "# Fit model\n",
    "model_bm25 = ImplicitItemKNNWrapperModel(BM25Recommender(K=10, K1=2))\n",
    "model_bm25.fit(train_df)\n",
    "\n",
    "# Make recommendations\n",
    "recos_bm25 = model_bm25.recommend(\n",
    "    users=train[Columns.User].unique(),\n",
    "    dataset=train_df,\n",
    "    k=10,\n",
    "    filter_viewed=True,\n",
    ")"
   ],
   "metadata": {
    "id": "tJ58fmuJe_eW"
   },
   "execution_count": 12,
   "outputs": [
    {
     "ename": "KeyError",
     "evalue": "'Some indices not exists'",
     "output_type": "error",
     "traceback": [
      "\u001B[0;31m---------------------------------------------------------------------------\u001B[0m",
      "\u001B[0;31mKeyError\u001B[0m                                  Traceback (most recent call last)",
      "Cell \u001B[0;32mIn[12], line 6\u001B[0m\n\u001B[1;32m      3\u001B[0m model_bm25\u001B[38;5;241m.\u001B[39mfit(train_df)\n\u001B[1;32m      5\u001B[0m \u001B[38;5;66;03m# Make recommendations\u001B[39;00m\n\u001B[0;32m----> 6\u001B[0m recos_bm25 \u001B[38;5;241m=\u001B[39m \u001B[43mmodel_bm25\u001B[49m\u001B[38;5;241;43m.\u001B[39;49m\u001B[43mrecommend\u001B[49m\u001B[43m(\u001B[49m\n\u001B[1;32m      7\u001B[0m \u001B[43m    \u001B[49m\u001B[43musers\u001B[49m\u001B[38;5;241;43m=\u001B[39;49m\u001B[43mtrain\u001B[49m\u001B[43m[\u001B[49m\u001B[43mColumns\u001B[49m\u001B[38;5;241;43m.\u001B[39;49m\u001B[43mUser\u001B[49m\u001B[43m]\u001B[49m\u001B[38;5;241;43m.\u001B[39;49m\u001B[43munique\u001B[49m\u001B[43m(\u001B[49m\u001B[43m)\u001B[49m\u001B[43m,\u001B[49m\n\u001B[1;32m      8\u001B[0m \u001B[43m    \u001B[49m\u001B[43mdataset\u001B[49m\u001B[38;5;241;43m=\u001B[39;49m\u001B[43mtrain_df\u001B[49m\u001B[43m,\u001B[49m\n\u001B[1;32m      9\u001B[0m \u001B[43m    \u001B[49m\u001B[43mk\u001B[49m\u001B[38;5;241;43m=\u001B[39;49m\u001B[38;5;241;43m10\u001B[39;49m\u001B[43m,\u001B[49m\n\u001B[1;32m     10\u001B[0m \u001B[43m    \u001B[49m\u001B[43mfilter_viewed\u001B[49m\u001B[38;5;241;43m=\u001B[39;49m\u001B[38;5;28;43;01mTrue\u001B[39;49;00m\u001B[43m,\u001B[49m\n\u001B[1;32m     11\u001B[0m \u001B[43m)\u001B[49m\n",
      "File \u001B[0;32m~/PycharmProjects/RecoServiceMTS_v2/.venv/lib/python3.9/site-packages/rectools/models/base.py:143\u001B[0m, in \u001B[0;36mModelBase.recommend\u001B[0;34m(self, users, dataset, k, filter_viewed, items_to_recommend, add_rank_col)\u001B[0m\n\u001B[1;32m    130\u001B[0m     sorted_item_ids_to_recommend \u001B[38;5;241m=\u001B[39m \u001B[38;5;28;01mNone\u001B[39;00m\n\u001B[1;32m    132\u001B[0m reco_user_ids, reco_item_ids, reco_scores \u001B[38;5;241m=\u001B[39m \u001B[38;5;28mself\u001B[39m\u001B[38;5;241m.\u001B[39m_recommend_u2i(\n\u001B[1;32m    133\u001B[0m     user_ids,\n\u001B[1;32m    134\u001B[0m     dataset,\n\u001B[0;32m   (...)\u001B[0m\n\u001B[1;32m    137\u001B[0m     sorted_item_ids_to_recommend,\n\u001B[1;32m    138\u001B[0m )\n\u001B[1;32m    140\u001B[0m reco \u001B[38;5;241m=\u001B[39m pd\u001B[38;5;241m.\u001B[39mDataFrame(\n\u001B[1;32m    141\u001B[0m     {\n\u001B[1;32m    142\u001B[0m         Columns\u001B[38;5;241m.\u001B[39mUser: dataset\u001B[38;5;241m.\u001B[39muser_id_map\u001B[38;5;241m.\u001B[39mconvert_to_external(reco_user_ids),\n\u001B[0;32m--> 143\u001B[0m         Columns\u001B[38;5;241m.\u001B[39mItem: \u001B[43mdataset\u001B[49m\u001B[38;5;241;43m.\u001B[39;49m\u001B[43mitem_id_map\u001B[49m\u001B[38;5;241;43m.\u001B[39;49m\u001B[43mconvert_to_external\u001B[49m\u001B[43m(\u001B[49m\u001B[43mreco_item_ids\u001B[49m\u001B[43m)\u001B[49m,\n\u001B[1;32m    144\u001B[0m         Columns\u001B[38;5;241m.\u001B[39mScore: reco_scores,\n\u001B[1;32m    145\u001B[0m     }\n\u001B[1;32m    146\u001B[0m )\n\u001B[1;32m    148\u001B[0m \u001B[38;5;28;01mif\u001B[39;00m add_rank_col:\n\u001B[1;32m    149\u001B[0m     reco[Columns\u001B[38;5;241m.\u001B[39mRank] \u001B[38;5;241m=\u001B[39m reco\u001B[38;5;241m.\u001B[39mgroupby(Columns\u001B[38;5;241m.\u001B[39mUser, sort\u001B[38;5;241m=\u001B[39m\u001B[38;5;28;01mFalse\u001B[39;00m)\u001B[38;5;241m.\u001B[39mcumcount() \u001B[38;5;241m+\u001B[39m \u001B[38;5;241m1\u001B[39m\n",
      "File \u001B[0;32m~/PycharmProjects/RecoServiceMTS_v2/.venv/lib/python3.9/site-packages/rectools/dataset/identifiers.py:162\u001B[0m, in \u001B[0;36mIdMap.convert_to_external\u001B[0;34m(self, internal, strict)\u001B[0m\n\u001B[1;32m    139\u001B[0m \u001B[38;5;28;01mdef\u001B[39;00m \u001B[38;5;21mconvert_to_external\u001B[39m(\u001B[38;5;28mself\u001B[39m, internal: InternalIds, strict: \u001B[38;5;28mbool\u001B[39m \u001B[38;5;241m=\u001B[39m \u001B[38;5;28;01mTrue\u001B[39;00m) \u001B[38;5;241m-\u001B[39m\u001B[38;5;241m>\u001B[39m np\u001B[38;5;241m.\u001B[39mndarray:\n\u001B[1;32m    140\u001B[0m     \u001B[38;5;124;03m\"\"\"\u001B[39;00m\n\u001B[1;32m    141\u001B[0m \u001B[38;5;124;03m    Convert any sequence of internal ids to array of external ids (map internal -> external).\u001B[39;00m\n\u001B[1;32m    142\u001B[0m \n\u001B[0;32m   (...)\u001B[0m\n\u001B[1;32m    160\u001B[0m \u001B[38;5;124;03m        If some of given internal ids do not exist in mapping and `strict` flag is True.\u001B[39;00m\n\u001B[1;32m    161\u001B[0m \u001B[38;5;124;03m    \"\"\"\u001B[39;00m\n\u001B[0;32m--> 162\u001B[0m     external \u001B[38;5;241m=\u001B[39m \u001B[43mget_from_series_by_index\u001B[49m\u001B[43m(\u001B[49m\u001B[38;5;28;43mself\u001B[39;49m\u001B[38;5;241;43m.\u001B[39;49m\u001B[43mto_external\u001B[49m\u001B[43m,\u001B[49m\u001B[43m \u001B[49m\u001B[43minternal\u001B[49m\u001B[43m,\u001B[49m\u001B[43m \u001B[49m\u001B[43mstrict\u001B[49m\u001B[43m)\u001B[49m\n\u001B[1;32m    163\u001B[0m     \u001B[38;5;28;01mreturn\u001B[39;00m external\n",
      "File \u001B[0;32m~/PycharmProjects/RecoServiceMTS_v2/.venv/lib/python3.9/site-packages/rectools/utils/indexing.py:149\u001B[0m, in \u001B[0;36mget_from_series_by_index\u001B[0;34m(series, ids, strict)\u001B[0m\n\u001B[1;32m    147\u001B[0m \u001B[38;5;28;01mif\u001B[39;00m strict:\n\u001B[1;32m    148\u001B[0m     \u001B[38;5;28;01mif\u001B[39;00m \u001B[38;5;129;01mnot\u001B[39;00m exists_mask\u001B[38;5;241m.\u001B[39mall():\n\u001B[0;32m--> 149\u001B[0m         \u001B[38;5;28;01mraise\u001B[39;00m \u001B[38;5;167;01mKeyError\u001B[39;00m(\u001B[38;5;124m\"\u001B[39m\u001B[38;5;124mSome indices not exists\u001B[39m\u001B[38;5;124m\"\u001B[39m)\n\u001B[1;32m    150\u001B[0m     known_ids \u001B[38;5;241m=\u001B[39m ids_arr\n\u001B[1;32m    151\u001B[0m \u001B[38;5;28;01melse\u001B[39;00m:\n",
      "\u001B[0;31mKeyError\u001B[0m: 'Some indices not exists'"
     ]
    }
   ]
  },
  {
   "cell_type": "code",
   "source": [
    "# Fit model\n",
    "model_cossim = ImplicitItemKNNWrapperModel(CosineRecommender(K=10))\n",
    "model_cossim.fit(train_df)\n",
    "\n",
    "# Make recommendations\n",
    "recos_cossim = model_cossim.recommend(\n",
    "    users=train[Columns.User].unique(),\n",
    "    dataset=train_df,\n",
    "    k=10,\n",
    "    filter_viewed=True,\n",
    ")"
   ],
   "metadata": {
    "id": "9FX2Mmw5fTGH"
   },
   "execution_count": null,
   "outputs": []
  },
  {
   "cell_type": "code",
   "source": [
    "metrics = {\n",
    "    \"mAP@10\": MAP(k=10),\n",
    "    \"prec@10\": Precision(k=10),\n",
    "    \"recall@10\": Recall(k=10),\n",
    "    \"novelty\": MeanInvUserFreq(k=10),\n",
    "    \"serendipity\": Serendipity(k=10),\n",
    "}\n",
    "\n",
    "catalog = train['item_id'].unique()"
   ],
   "metadata": {
    "id": "CZEOB9dmoT1U"
   },
   "execution_count": null,
   "outputs": []
  },
  {
   "cell_type": "code",
   "source": [
    "metric_values_tfidf = calc_metrics(\n",
    "    metrics,\n",
    "    reco=recos_tfidf,\n",
    "    interactions=test,\n",
    "    prev_interactions=train,\n",
    "    catalog=catalog\n",
    ")\n",
    "\n",
    "metric_values_bm25 = calc_metrics(\n",
    "    metrics,\n",
    "    reco=recos_bm25,\n",
    "    interactions=test,\n",
    "    prev_interactions=train,\n",
    "    catalog=catalog\n",
    ")\n",
    "\n",
    "metric_values_cossim = calc_metrics(\n",
    "    metrics,\n",
    "    reco=recos_cossim,\n",
    "    interactions=test,\n",
    "    prev_interactions=train,\n",
    "    catalog=catalog\n",
    ")\n",
    "print('KNN с поиском похожих юзеров через tf-idf выдает:\\n', metric_values_tfidf)\n",
    "print('KNN с поиском похожих юзеров через BM25 выдает:\\n', metric_values_bm25)\n",
    "print('KNN с поиском похожих юзеров через Cos sim выдает:\\n', metric_values_cossim)"
   ],
   "metadata": {
    "colab": {
     "base_uri": "https://localhost:8080/"
    },
    "id": "foakGDh1oHvF",
    "outputId": "1fef9262-300f-440e-c431-921e5531e3e9"
   },
   "execution_count": null,
   "outputs": []
  },
  {
   "cell_type": "markdown",
   "source": [
    "По метрикам лучше всего себя показал BM25 (ожидаемо) и хуже всего обычное косинусное расстояние"
   ],
   "metadata": {
    "collapsed": false
   }
  },
  {
   "cell_type": "code",
   "source": [
    "recos_bm25 = recos_bm25[recos_bm25['rank'] <= 10]\n",
    "recos_bm25 = recos_bm25[['user_id', 'item_id']]\n",
    "recos_bm25.to_csv('../data/KNNBM25withAddFeatures.csv.gz', index=False, compression='gzip')"
   ],
   "metadata": {
    "id": "UqAAw1S5X_jR"
   },
   "execution_count": 18,
   "outputs": []
  },
  {
   "cell_type": "markdown",
   "source": [
    "# Final Model"
   ],
   "metadata": {
    "id": "J0Es83AqpCtU"
   }
  },
  {
   "cell_type": "code",
   "source": [
    "model = UserKNN(dist_model=BM25Recommender(K=10, K1=2), n_neighbors=10)"
   ],
   "metadata": {
    "id": "CfxxOuIjpiB3"
   },
   "execution_count": 14,
   "outputs": []
  },
  {
   "cell_type": "code",
   "source": [
    "model.fit(train)"
   ],
   "metadata": {
    "colab": {
     "base_uri": "https://localhost:8080/",
     "height": 49,
     "referenced_widgets": [
      "447339f3340240428c24808b16e09464",
      "d1cc5098c64b4dc299000cea59734c55",
      "857b251ecc8041bfa82d2681298a4417",
      "cdb765667fee44ae9f5c5ba91ace415f",
      "05e04191a34c4edcbbfe142680b5d257",
      "6436440b8a3341f0973e8f81f47cce23",
      "c8fb29976e8e46198a3ae5ade40f33e9",
      "41b2b540a3154ef3af02c9f80f499b43",
      "9246664fc9ad42e2a3b9bb148d705f8b",
      "652bfc24e28f4d998f24fb63b822b4d5",
      "ea39a4d2e46f42f4bdc0da75ef2333d2"
     ]
    },
    "id": "gyWTBqzz7kP1",
    "outputId": "4736e536-1d4e-4998-d447-2dc242a32366"
   },
   "execution_count": 15,
   "outputs": [
    {
     "data": {
      "text/plain": "  0%|          | 0/842129 [00:00<?, ?it/s]",
      "application/vnd.jupyter.widget-view+json": {
       "version_major": 2,
       "version_minor": 0,
       "model_id": "e2153c9e42704498a407b677413b6bb3"
      }
     },
     "metadata": {},
     "output_type": "display_data"
    }
   ]
  },
  {
   "cell_type": "code",
   "source": [
    "model.predict(user_id=699317)"
   ],
   "metadata": {
    "colab": {
     "base_uri": "https://localhost:8080/"
    },
    "id": "rC7MQDvCOSeE",
    "outputId": "23b06463-3ce0-4ea0-aad5-c9e06f82fc02"
   },
   "execution_count": 16,
   "outputs": [
    {
     "data": {
      "text/plain": "[1659, 2365, 8727, 5533, 12988, 9506, 5005, 15171, 3474, 11985]"
     },
     "execution_count": 16,
     "metadata": {},
     "output_type": "execute_result"
    }
   ]
  },
  {
   "cell_type": "code",
   "source": [
    "with open('../data/knn_bm25.pickle', 'wb') as f:\n",
    "      pickle.dump(model, f)\n"
   ],
   "metadata": {
    "id": "Eomv66-1aBeA"
   },
   "execution_count": 17,
   "outputs": []
  }
 ]
}
