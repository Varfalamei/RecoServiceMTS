{
  "cells": [
    {
      "cell_type": "markdown",
      "id": "a00c6db1",
      "metadata": {
        "id": "a00c6db1"
      },
      "source": [
        "# Метрики\n",
        "\n",
        "## Imports"
      ]
    },
    {
      "cell_type": "code",
      "execution_count": 5,
      "id": "I2kKqJ4Ez7HE",
      "metadata": {
        "id": "I2kKqJ4Ez7HE",
        "colab": {
          "base_uri": "https://localhost:8080/"
        },
        "outputId": "1e4f3f1f-8823-4f2e-a39c-97124cb9674d"
      },
      "outputs": [
        {
          "output_type": "stream",
          "name": "stdout",
          "text": [
            "Looking in indexes: https://pypi.org/simple, https://us-python.pkg.dev/colab-wheels/public/simple/\n",
            "Collecting rectools\n",
            "  Using cached RecTools-0.3.0-py3-none-any.whl (89 kB)\n",
            "Requirement already satisfied: pandas<2.0.0,>=0.25.3 in /usr/local/lib/python3.8/dist-packages (from rectools) (1.3.5)\n",
            "Collecting nmslib<3.0.0,>=2.0.4\n",
            "  Using cached nmslib-2.1.1-cp38-cp38-manylinux2010_x86_64.whl (13.4 MB)\n",
            "Collecting Markdown<3.3,>=3.2\n",
            "  Using cached Markdown-3.2.2-py3-none-any.whl (88 kB)\n",
            "Requirement already satisfied: typeguard<3.0.0,>=2.0.1 in /usr/local/lib/python3.8/dist-packages (from rectools) (2.7.1)\n",
            "Requirement already satisfied: scipy<2.0.0,>=1.5.4 in /usr/local/lib/python3.8/dist-packages (from rectools) (1.7.3)\n",
            "Collecting attrs<22.0.0,>=19.1.0\n",
            "  Using cached attrs-21.4.0-py2.py3-none-any.whl (60 kB)\n",
            "Collecting implicit==0.4.4\n",
            "  Using cached implicit-0.4.4.tar.gz (1.1 MB)\n",
            "Requirement already satisfied: tqdm<5.0.0,>=4.27.0 in /usr/local/lib/python3.8/dist-packages (from rectools) (4.64.1)\n",
            "Requirement already satisfied: numpy<2.0.0,>=1.19.5 in /usr/local/lib/python3.8/dist-packages (from rectools) (1.21.6)\n",
            "Collecting lightfm<2.0,>=1.16\n",
            "  Using cached lightfm-1.16.tar.gz (310 kB)\n",
            "Requirement already satisfied: requests in /usr/local/lib/python3.8/dist-packages (from lightfm<2.0,>=1.16->rectools) (2.23.0)\n",
            "Requirement already satisfied: scikit-learn in /usr/local/lib/python3.8/dist-packages (from lightfm<2.0,>=1.16->rectools) (1.0.2)\n",
            "Collecting pybind11<2.6.2\n",
            "  Using cached pybind11-2.6.1-py2.py3-none-any.whl (188 kB)\n",
            "Requirement already satisfied: psutil in /usr/local/lib/python3.8/dist-packages (from nmslib<3.0.0,>=2.0.4->rectools) (5.4.8)\n",
            "Requirement already satisfied: python-dateutil>=2.7.3 in /usr/local/lib/python3.8/dist-packages (from pandas<2.0.0,>=0.25.3->rectools) (2.8.2)\n",
            "Requirement already satisfied: pytz>=2017.3 in /usr/local/lib/python3.8/dist-packages (from pandas<2.0.0,>=0.25.3->rectools) (2022.6)\n",
            "Requirement already satisfied: six>=1.5 in /usr/local/lib/python3.8/dist-packages (from python-dateutil>=2.7.3->pandas<2.0.0,>=0.25.3->rectools) (1.15.0)\n",
            "Requirement already satisfied: urllib3!=1.25.0,!=1.25.1,<1.26,>=1.21.1 in /usr/local/lib/python3.8/dist-packages (from requests->lightfm<2.0,>=1.16->rectools) (1.24.3)\n",
            "Requirement already satisfied: idna<3,>=2.5 in /usr/local/lib/python3.8/dist-packages (from requests->lightfm<2.0,>=1.16->rectools) (2.10)\n",
            "Requirement already satisfied: certifi>=2017.4.17 in /usr/local/lib/python3.8/dist-packages (from requests->lightfm<2.0,>=1.16->rectools) (2022.9.24)\n",
            "Requirement already satisfied: chardet<4,>=3.0.2 in /usr/local/lib/python3.8/dist-packages (from requests->lightfm<2.0,>=1.16->rectools) (3.0.4)\n",
            "Requirement already satisfied: threadpoolctl>=2.0.0 in /usr/local/lib/python3.8/dist-packages (from scikit-learn->lightfm<2.0,>=1.16->rectools) (3.1.0)\n",
            "Requirement already satisfied: joblib>=0.11 in /usr/local/lib/python3.8/dist-packages (from scikit-learn->lightfm<2.0,>=1.16->rectools) (1.2.0)\n",
            "Building wheels for collected packages: implicit, lightfm\n",
            "  Building wheel for implicit (setup.py) ... \u001b[?25l\u001b[?25hdone\n",
            "  Created wheel for implicit: filename=implicit-0.4.4-cp38-cp38-linux_x86_64.whl size=3825494 sha256=6bccd062c3f25c2f0db129e0ea25361550d99cefb2ad25c851550290bb72f800\n",
            "  Stored in directory: /root/.cache/pip/wheels/00/ac/67/6f4536c819ed560c2c7e17c0f7a920e3e50c26108616087d05\n",
            "  Building wheel for lightfm (setup.py) ... \u001b[?25l\u001b[?25hdone\n",
            "  Created wheel for lightfm: filename=lightfm-1.16-cp38-cp38-linux_x86_64.whl size=746163 sha256=2eccdb3dcfb1249dca1a78dccea5cdcd03c7c063e187a046ffa08661f61ab818\n",
            "  Stored in directory: /root/.cache/pip/wheels/ec/bb/51/9c487d021c1373b691d13cadca0b65b6852627b1f3f43550fa\n",
            "Successfully built implicit lightfm\n",
            "Installing collected packages: pybind11, nmslib, Markdown, lightfm, implicit, attrs, rectools\n",
            "  Attempting uninstall: Markdown\n",
            "    Found existing installation: Markdown 3.4.1\n",
            "    Uninstalling Markdown-3.4.1:\n",
            "      Successfully uninstalled Markdown-3.4.1\n",
            "  Attempting uninstall: attrs\n",
            "    Found existing installation: attrs 22.1.0\n",
            "    Uninstalling attrs-22.1.0:\n",
            "      Successfully uninstalled attrs-22.1.0\n",
            "Successfully installed Markdown-3.2.2 attrs-21.4.0 implicit-0.4.4 lightfm-1.16 nmslib-2.1.1 pybind11-2.6.1 rectools-0.3.0\n"
          ]
        }
      ],
      "source": [
        "!pip install rectools"
      ]
    },
    {
      "cell_type": "code",
      "execution_count": null,
      "id": "_yYmrumVz7Kx",
      "metadata": {
        "id": "_yYmrumVz7Kx"
      },
      "outputs": [],
      "source": [
        "url = 'https://github.com/irsafilo/KION_DATASET/raw/f69775be31fa5779907cf0a92ddedb70037fb5ae/data_original.zip'"
      ]
    },
    {
      "cell_type": "code",
      "execution_count": null,
      "id": "ZF_CicYU0DaA",
      "metadata": {
        "id": "ZF_CicYU0DaA"
      },
      "outputs": [],
      "source": [
        "req = requests.get(url, stream=True)\n",
        "\n",
        "with open('kion.zip', 'wb') as fd:\n",
        "    total_size_in_bytes = int(req.headers.get('Content-Length', 0))\n",
        "    progress_bar = tqdm(desc='kion dataset download', total=total_size_in_bytes, unit='iB', unit_scale=True)\n",
        "    for chunk in req.iter_content(chunk_size=2 ** 20):\n",
        "        progress_bar.update(len(chunk))\n",
        "        fd.write(chunk)"
      ]
    },
    {
      "cell_type": "code",
      "execution_count": null,
      "id": "EPKsorOe0Dcl",
      "metadata": {
        "id": "EPKsorOe0Dcl"
      },
      "outputs": [],
      "source": [
        "import zipfile as zf\n",
        "\n",
        "files = zf.ZipFile('kion.zip','r')\n",
        "files.extractall()\n",
        "files.close()"
      ]
    },
    {
      "cell_type": "code",
      "execution_count": 6,
      "id": "14dec809",
      "metadata": {
        "ExecuteTime": {
          "end_time": "2022-11-16T13:16:59.822474Z",
          "start_time": "2022-11-16T13:16:58.134477Z"
        },
        "id": "14dec809"
      },
      "outputs": [],
      "source": [
        "import pandas as pd\n",
        "import numpy as np\n",
        "import numba as nb\n",
        "\n",
        "from tqdm import tqdm\n",
        "from rectools import Columns\n",
        "import matplotlib.pyplot as plt"
      ]
    },
    {
      "cell_type": "code",
      "execution_count": 7,
      "id": "e3551b5e",
      "metadata": {
        "ExecuteTime": {
          "end_time": "2022-11-16T13:16:59.838475Z",
          "start_time": "2022-11-16T13:16:59.825476Z"
        },
        "id": "e3551b5e"
      },
      "outputs": [],
      "source": [
        "np.random.seed(23)"
      ]
    },
    {
      "cell_type": "markdown",
      "id": "d636a7d5",
      "metadata": {
        "id": "d636a7d5"
      },
      "source": [
        "## Read data"
      ]
    },
    {
      "cell_type": "code",
      "execution_count": 8,
      "id": "8b021111",
      "metadata": {
        "ExecuteTime": {
          "end_time": "2022-11-16T13:17:02.540473Z",
          "start_time": "2022-11-16T13:16:59.841479Z"
        },
        "id": "8b021111"
      },
      "outputs": [],
      "source": [
        "interactions = pd.read_csv('/content/interactions.csv')\n",
        "\n",
        "interactions.rename(\n",
        "    columns={\n",
        "        'track_id': Columns.Item,\n",
        "        'last_watch_dt': Columns.Datetime,\n",
        "        'total_dur': Columns.Weight\n",
        "    },\n",
        "    inplace=True)\n",
        "\n",
        "interactions[Columns.Datetime] = pd.to_datetime(interactions[Columns.Datetime])"
      ]
    },
    {
      "cell_type": "code",
      "execution_count": null,
      "id": "1170099f",
      "metadata": {
        "ExecuteTime": {
          "end_time": "2022-11-16T13:17:03.522473Z",
          "start_time": "2022-11-16T13:17:02.544478Z"
        },
        "id": "1170099f"
      },
      "outputs": [],
      "source": [
        "users = pd.read_csv('data_original/users.csv')\n",
        "items = pd.read_csv('data_original/items.csv')"
      ]
    },
    {
      "cell_type": "code",
      "execution_count": null,
      "id": "ebc85847",
      "metadata": {
        "ExecuteTime": {
          "end_time": "2022-11-16T13:17:03.553474Z",
          "start_time": "2022-11-16T13:17:03.525477Z"
        },
        "id": "ebc85847"
      },
      "outputs": [],
      "source": [
        "def headtail(df):\n",
        "    return pd.concat([df.head(), df.tail()])\n",
        "\n",
        "headtail(interactions)"
      ]
    },
    {
      "cell_type": "code",
      "execution_count": null,
      "id": "5cc82806",
      "metadata": {
        "ExecuteTime": {
          "end_time": "2022-11-16T13:17:03.569476Z",
          "start_time": "2022-11-16T13:17:03.556474Z"
        },
        "id": "5cc82806"
      },
      "outputs": [],
      "source": [
        "interactions.info(memory_usage='deep')"
      ]
    },
    {
      "cell_type": "markdown",
      "id": "ff9a7f8e",
      "metadata": {
        "id": "ff9a7f8e"
      },
      "source": [
        "Выделим небольшой кусок из данных, чтобы не слишком страдать"
      ]
    },
    {
      "cell_type": "code",
      "execution_count": null,
      "id": "5b28d22e",
      "metadata": {
        "ExecuteTime": {
          "end_time": "2022-11-16T13:17:03.617474Z",
          "start_time": "2022-11-16T13:17:03.571473Z"
        },
        "id": "5b28d22e",
        "outputId": "f73e7442-5a12-478c-b995-2ac4c28abb8a"
      },
      "outputs": [
        {
          "data": {
            "text/html": [
              "<div>\n",
              "<style scoped>\n",
              "    .dataframe tbody tr th:only-of-type {\n",
              "        vertical-align: middle;\n",
              "    }\n",
              "\n",
              "    .dataframe tbody tr th {\n",
              "        vertical-align: top;\n",
              "    }\n",
              "\n",
              "    .dataframe thead th {\n",
              "        text-align: right;\n",
              "    }\n",
              "</style>\n",
              "<table border=\"1\" class=\"dataframe\">\n",
              "  <thead>\n",
              "    <tr style=\"text-align: right;\">\n",
              "      <th></th>\n",
              "      <th>user_id</th>\n",
              "      <th>item_id</th>\n",
              "    </tr>\n",
              "  </thead>\n",
              "  <tbody>\n",
              "    <tr>\n",
              "      <th>0</th>\n",
              "      <td>70720</td>\n",
              "      <td>4880</td>\n",
              "    </tr>\n",
              "    <tr>\n",
              "      <th>1</th>\n",
              "      <td>57607</td>\n",
              "      <td>4151</td>\n",
              "    </tr>\n",
              "    <tr>\n",
              "      <th>2</th>\n",
              "      <td>57607</td>\n",
              "      <td>10440</td>\n",
              "    </tr>\n",
              "    <tr>\n",
              "      <th>3</th>\n",
              "      <td>70720</td>\n",
              "      <td>4881</td>\n",
              "    </tr>\n",
              "    <tr>\n",
              "      <th>4</th>\n",
              "      <td>403227</td>\n",
              "      <td>6353</td>\n",
              "    </tr>\n",
              "    <tr>\n",
              "      <th>5</th>\n",
              "      <td>403227</td>\n",
              "      <td>1736</td>\n",
              "    </tr>\n",
              "    <tr>\n",
              "      <th>6</th>\n",
              "      <td>70720</td>\n",
              "      <td>6327</td>\n",
              "    </tr>\n",
              "    <tr>\n",
              "      <th>7</th>\n",
              "      <td>57607</td>\n",
              "      <td>13865</td>\n",
              "    </tr>\n",
              "    <tr>\n",
              "      <th>8</th>\n",
              "      <td>403227</td>\n",
              "      <td>5336</td>\n",
              "    </tr>\n",
              "    <tr>\n",
              "      <th>9</th>\n",
              "      <td>403227</td>\n",
              "      <td>181</td>\n",
              "    </tr>\n",
              "  </tbody>\n",
              "</table>\n",
              "</div>"
            ],
            "text/plain": [
              "   user_id  item_id\n",
              "0    70720     4880\n",
              "1    57607     4151\n",
              "2    57607    10440\n",
              "3    70720     4881\n",
              "4   403227     6353\n",
              "5   403227     1736\n",
              "6    70720     6327\n",
              "7    57607    13865\n",
              "8   403227     5336\n",
              "9   403227      181"
            ]
          },
          "execution_count": 8,
          "metadata": {},
          "output_type": "execute_result"
        }
      ],
      "source": [
        "sample_users = [57607, 403227, 70720]\n",
        "df = interactions[interactions[Columns.User].isin(sample_users)].reset_index(drop=True)\n",
        "del df[Columns.Datetime], df[Columns.Weight], df['watched_pct']\n",
        "df"
      ]
    },
    {
      "cell_type": "code",
      "execution_count": null,
      "id": "c1923b07",
      "metadata": {
        "ExecuteTime": {
          "end_time": "2022-11-16T13:17:03.632473Z",
          "start_time": "2022-11-16T13:17:03.620473Z"
        },
        "id": "c1923b07"
      },
      "outputs": [],
      "source": [
        "print('Users', df[Columns.User].unique())\n",
        "sample_items = df[Columns.Item].unique()\n",
        "print('Items', sample_items)"
      ]
    },
    {
      "cell_type": "markdown",
      "id": "cac10ba7",
      "metadata": {
        "id": "cac10ba7"
      },
      "source": [
        "## Regression"
      ]
    },
    {
      "cell_type": "markdown",
      "id": "a221215f",
      "metadata": {
        "id": "a221215f"
      },
      "source": [
        "В регрессией все относительно просто. По (user, item) мы знаем таргет (рейтинг чаще всего) и по такой же паре предсказываем его"
      ]
    },
    {
      "cell_type": "code",
      "execution_count": null,
      "id": "6de45176",
      "metadata": {
        "ExecuteTime": {
          "end_time": "2022-11-16T13:17:03.648474Z",
          "start_time": "2022-11-16T13:17:03.635475Z"
        },
        "id": "6de45176"
      },
      "outputs": [],
      "source": [
        "df['target'] = np.random.choice([3, 4, 5], df.shape[0])\n",
        "df['predict'] = np.random.rand(df.shape[0]) * 3 + 2\n",
        "df"
      ]
    },
    {
      "cell_type": "markdown",
      "id": "5eab0e11",
      "metadata": {
        "id": "5eab0e11"
      },
      "source": [
        "Общая оценка"
      ]
    },
    {
      "cell_type": "code",
      "execution_count": null,
      "id": "51351ab5",
      "metadata": {
        "ExecuteTime": {
          "end_time": "2022-11-16T13:17:03.663474Z",
          "start_time": "2022-11-16T13:17:03.650474Z"
        },
        "id": "51351ab5"
      },
      "outputs": [],
      "source": [
        "mae = (df['target'] - df['predict']).abs().mean()\n",
        "print(mae)"
      ]
    },
    {
      "cell_type": "markdown",
      "id": "0f057a3b",
      "metadata": {
        "id": "0f057a3b"
      },
      "source": [
        "Оценка по пользователю с последюущим усреднением"
      ]
    },
    {
      "cell_type": "code",
      "execution_count": null,
      "id": "b6bce9b4",
      "metadata": {
        "ExecuteTime": {
          "end_time": "2022-11-16T13:17:03.679529Z",
          "start_time": "2022-11-16T13:17:03.670474Z"
        },
        "id": "b6bce9b4"
      },
      "outputs": [],
      "source": [
        "df['diff'] = (df['target'] - df['predict']).abs()\n",
        "average_mae = df.groupby(Columns.User)['diff'].mean()\n",
        "print(average_mae.mean())\n",
        "average_mae"
      ]
    },
    {
      "cell_type": "markdown",
      "id": "0aa59b8a",
      "metadata": {
        "id": "0aa59b8a"
      },
      "source": [
        "Видно, что в данном случае метрики близки к друг другу, но это не всегда так"
      ]
    },
    {
      "cell_type": "code",
      "execution_count": null,
      "id": "878224ff",
      "metadata": {
        "ExecuteTime": {
          "end_time": "2022-11-16T13:17:03.695472Z",
          "start_time": "2022-11-16T13:17:03.682474Z"
        },
        "id": "878224ff"
      },
      "outputs": [],
      "source": [
        "del df['target'], df['predict'], df['diff']"
      ]
    },
    {
      "cell_type": "markdown",
      "id": "89997f8e",
      "metadata": {
        "id": "89997f8e"
      },
      "source": [
        "## Classification"
      ]
    },
    {
      "cell_type": "markdown",
      "id": "70b402f4",
      "metadata": {
        "id": "70b402f4"
      },
      "source": [
        "Сгенерируем случайные рекомендации."
      ]
    },
    {
      "cell_type": "code",
      "execution_count": null,
      "id": "98c0b7d8",
      "metadata": {
        "ExecuteTime": {
          "end_time": "2022-11-16T13:17:03.711473Z",
          "start_time": "2022-11-16T13:17:03.697474Z"
        },
        "id": "98c0b7d8"
      },
      "outputs": [],
      "source": [
        "top_k = 5\n",
        "recs = np.array([\n",
        "    np.random.choice(sample_items, top_k, replace=False),\n",
        "    np.random.choice(sample_items, top_k, replace=False),\n",
        "    np.random.choice(sample_items, top_k, replace=False),\n",
        "])\n",
        "recs"
      ]
    },
    {
      "cell_type": "markdown",
      "id": "b7945394",
      "metadata": {
        "id": "b7945394"
      },
      "source": [
        "Преобразуем в длинный датафрейм"
      ]
    },
    {
      "cell_type": "code",
      "execution_count": null,
      "id": "2aaad704",
      "metadata": {
        "ExecuteTime": {
          "end_time": "2022-11-16T13:17:03.726473Z",
          "start_time": "2022-11-16T13:17:03.714475Z"
        },
        "id": "2aaad704"
      },
      "outputs": [],
      "source": [
        "df_recs = pd.DataFrame({\n",
        "    Columns.User: np.repeat(sample_users, top_k),\n",
        "    Columns.Item: recs.ravel()\n",
        "})\n",
        "df_recs"
      ]
    },
    {
      "cell_type": "code",
      "execution_count": null,
      "id": "82f64f64",
      "metadata": {
        "ExecuteTime": {
          "end_time": "2022-11-16T13:17:03.741474Z",
          "start_time": "2022-11-16T13:17:03.728475Z"
        },
        "id": "82f64f64"
      },
      "outputs": [],
      "source": [
        "df_recs[Columns.Rank] = df_recs.groupby(Columns.User).cumcount() + 1\n",
        "headtail(df_recs)"
      ]
    },
    {
      "cell_type": "markdown",
      "id": "919c480a",
      "metadata": {
        "id": "919c480a"
      },
      "source": [
        "Ключевой момент. Именно ради него преобразовывали данные и именно это позволяет считать метрики быстрее."
      ]
    },
    {
      "cell_type": "code",
      "execution_count": null,
      "id": "7014b438",
      "metadata": {
        "ExecuteTime": {
          "end_time": "2022-11-16T13:17:03.771473Z",
          "start_time": "2022-11-16T13:17:03.743474Z"
        },
        "id": "7014b438"
      },
      "outputs": [],
      "source": [
        "df_recs = df.merge(df_recs, how='left', left_on=Columns.UserItem, right_on=Columns.UserItem)\n",
        "df_recs = df_recs.sort_values(by=[Columns.User, Columns.Rank])\n",
        "df_recs"
      ]
    },
    {
      "cell_type": "markdown",
      "id": "cb5a6c12",
      "metadata": {
        "id": "cb5a6c12"
      },
      "source": [
        "### Precision@K"
      ]
    },
    {
      "cell_type": "code",
      "execution_count": null,
      "id": "d4f9efb1",
      "metadata": {
        "ExecuteTime": {
          "end_time": "2022-11-16T13:17:03.787474Z",
          "start_time": "2022-11-16T13:17:03.774473Z"
        },
        "id": "d4f9efb1"
      },
      "outputs": [],
      "source": [
        "df_recs[f'TP@5'] = df_recs['rank'] < 6\n",
        "df_recs"
      ]
    },
    {
      "cell_type": "code",
      "execution_count": null,
      "id": "dd7c9237",
      "metadata": {
        "ExecuteTime": {
          "end_time": "2022-11-16T13:17:03.803474Z",
          "start_time": "2022-11-16T13:17:03.790477Z"
        },
        "id": "dd7c9237"
      },
      "outputs": [],
      "source": [
        "df_recs[df_recs[Columns.Rank].notnull()]"
      ]
    },
    {
      "cell_type": "markdown",
      "id": "7569f5e0",
      "metadata": {
        "ExecuteTime": {
          "end_time": "2022-11-15T15:26:25.757836Z",
          "start_time": "2022-11-15T15:26:25.738834Z"
        },
        "id": "7569f5e0"
      },
      "source": [
        "Посчитаем вручную (1/5 + 1/5 + 3/5) / 3"
      ]
    },
    {
      "cell_type": "code",
      "execution_count": null,
      "id": "d3c0c214",
      "metadata": {
        "ExecuteTime": {
          "end_time": "2022-11-16T13:17:03.819474Z",
          "start_time": "2022-11-16T13:17:03.806474Z"
        },
        "id": "d3c0c214"
      },
      "outputs": [],
      "source": [
        "df_recs['TP@5/5'] = df_recs['TP@5'] / top_k\n",
        "\n",
        "p5 = df_recs.groupby(Columns.User)['TP@5/5'].sum().mean()\n",
        "\n",
        "print(f'Precision@5 = {p5}')"
      ]
    },
    {
      "cell_type": "code",
      "execution_count": null,
      "id": "0ff4fd10",
      "metadata": {
        "ExecuteTime": {
          "end_time": "2022-11-16T13:17:03.850473Z",
          "start_time": "2022-11-16T13:17:03.822474Z"
        },
        "id": "0ff4fd10"
      },
      "outputs": [],
      "source": [
        "df_recs"
      ]
    },
    {
      "cell_type": "markdown",
      "id": "30ffeeb7",
      "metadata": {
        "id": "30ffeeb7"
      },
      "source": [
        "Используем тот факт, что мы знаем количество пользователей, а значит groupby не нужен"
      ]
    },
    {
      "cell_type": "code",
      "execution_count": null,
      "id": "9555156b",
      "metadata": {
        "ExecuteTime": {
          "end_time": "2022-11-16T13:17:03.865473Z",
          "start_time": "2022-11-16T13:17:03.853476Z"
        },
        "id": "9555156b"
      },
      "outputs": [],
      "source": [
        "p5 = df_recs['TP@5/5'].sum() / len(sample_users)\n",
        "print(f'Precision@5 = {p5}')"
      ]
    },
    {
      "cell_type": "markdown",
      "id": "94b0a780",
      "metadata": {
        "id": "94b0a780"
      },
      "source": [
        "### Recall@K"
      ]
    },
    {
      "cell_type": "code",
      "execution_count": null,
      "id": "535e44f2",
      "metadata": {
        "ExecuteTime": {
          "end_time": "2022-11-16T13:17:03.895474Z",
          "start_time": "2022-11-16T13:17:03.868474Z"
        },
        "id": "535e44f2"
      },
      "outputs": [],
      "source": [
        "df_recs['actual'] = df_recs.groupby(Columns.User)[Columns.Item].transform('count')\n",
        "df_recs"
      ]
    },
    {
      "cell_type": "code",
      "execution_count": null,
      "id": "370013e4",
      "metadata": {
        "ExecuteTime": {
          "end_time": "2022-11-16T13:17:03.925476Z",
          "start_time": "2022-11-16T13:17:03.898476Z"
        },
        "id": "370013e4"
      },
      "outputs": [],
      "source": [
        "df_recs['TP@5/actual'] = df_recs['TP@5'] / df_recs['actual']\n",
        "df_recs"
      ]
    },
    {
      "cell_type": "code",
      "execution_count": null,
      "id": "aebd0ba9",
      "metadata": {
        "ExecuteTime": {
          "end_time": "2022-11-16T13:17:03.940473Z",
          "start_time": "2022-11-16T13:17:03.928474Z"
        },
        "id": "aebd0ba9"
      },
      "outputs": [],
      "source": [
        "(1/3 + 1/3 + 3/4) / 3"
      ]
    },
    {
      "cell_type": "code",
      "execution_count": null,
      "id": "84406981",
      "metadata": {
        "ExecuteTime": {
          "end_time": "2022-11-16T13:17:03.956473Z",
          "start_time": "2022-11-16T13:17:03.943474Z"
        },
        "id": "84406981"
      },
      "outputs": [],
      "source": [
        "r5 = df_recs.groupby(Columns.User)['TP@5/actual'].sum().mean()\n",
        "print(f'Recall@5 = {r5}')"
      ]
    },
    {
      "cell_type": "code",
      "execution_count": null,
      "id": "e5e58fa3",
      "metadata": {
        "ExecuteTime": {
          "end_time": "2022-11-16T13:17:03.972477Z",
          "start_time": "2022-11-16T13:17:03.959476Z"
        },
        "id": "e5e58fa3"
      },
      "outputs": [],
      "source": [
        "r5 = df_recs['TP@5/actual'].sum() / len(sample_users)\n",
        "print(f'Recall@5 = {r5}')"
      ]
    },
    {
      "cell_type": "markdown",
      "id": "a22237fc",
      "metadata": {
        "id": "a22237fc"
      },
      "source": [
        "## Ranking\n",
        "\n",
        "### MAP@K"
      ]
    },
    {
      "cell_type": "code",
      "execution_count": null,
      "id": "7c3bec49",
      "metadata": {
        "ExecuteTime": {
          "end_time": "2022-11-16T13:17:03.988474Z",
          "start_time": "2022-11-16T13:17:03.975477Z"
        },
        "id": "7c3bec49"
      },
      "outputs": [],
      "source": [
        "df_recs"
      ]
    },
    {
      "cell_type": "code",
      "execution_count": null,
      "id": "dc0a5f4c",
      "metadata": {
        "ExecuteTime": {
          "end_time": "2022-11-16T13:17:04.019475Z",
          "start_time": "2022-11-16T13:17:03.991473Z"
        },
        "id": "dc0a5f4c"
      },
      "outputs": [],
      "source": [
        "df_recs['cumTP@5'] = df_recs.groupby(Columns.User)['TP@5'].cumsum()\n",
        "df_recs"
      ]
    },
    {
      "cell_type": "code",
      "execution_count": null,
      "id": "38b572f2",
      "metadata": {
        "ExecuteTime": {
          "end_time": "2022-11-16T13:17:04.049477Z",
          "start_time": "2022-11-16T13:17:04.022475Z"
        },
        "id": "38b572f2"
      },
      "outputs": [],
      "source": [
        "df_recs['Prec@5'] = df_recs['cumTP@5'] / df_recs[Columns.Rank]\n",
        "df_recs"
      ]
    },
    {
      "cell_type": "code",
      "execution_count": null,
      "id": "6948122a",
      "metadata": {
        "ExecuteTime": {
          "end_time": "2022-11-16T13:17:04.080475Z",
          "start_time": "2022-11-16T13:17:04.052477Z"
        },
        "id": "6948122a"
      },
      "outputs": [],
      "source": [
        "df_recs['Prec@5/actual'] = df_recs['Prec@5'] / df_recs['actual']\n",
        "df_recs"
      ]
    },
    {
      "cell_type": "code",
      "execution_count": null,
      "id": "8ac2cbd1",
      "metadata": {
        "ExecuteTime": {
          "end_time": "2022-11-16T13:17:04.096475Z",
          "start_time": "2022-11-16T13:17:04.083477Z"
        },
        "id": "8ac2cbd1"
      },
      "outputs": [],
      "source": [
        "ap = df_recs.groupby(Columns.User)['Prec@5/actual'].sum()\n",
        "print(ap.mean())\n",
        "ap"
      ]
    },
    {
      "cell_type": "markdown",
      "id": "66107dd0",
      "metadata": {
        "id": "66107dd0"
      },
      "source": [
        "## Naive vs Numba vs Pandas"
      ]
    },
    {
      "cell_type": "code",
      "execution_count": null,
      "id": "f0be3252",
      "metadata": {
        "id": "f0be3252"
      },
      "outputs": [],
      "source": [
        "df"
      ]
    },
    {
      "cell_type": "code",
      "execution_count": null,
      "id": "792395d0",
      "metadata": {
        "pycharm": {
          "is_executing": true
        },
        "id": "792395d0"
      },
      "outputs": [],
      "source": [
        "target = df.values\n",
        "target"
      ]
    },
    {
      "cell_type": "code",
      "execution_count": null,
      "id": "7817cf13",
      "metadata": {
        "ExecuteTime": {
          "end_time": "2022-11-16T17:05:06.384880Z",
          "start_time": "2022-11-16T17:05:06.370880Z"
        },
        "id": "7817cf13"
      },
      "outputs": [],
      "source": [
        "target[target[:, 0] == 513902][:, 1]"
      ]
    },
    {
      "cell_type": "code",
      "execution_count": null,
      "id": "0e2ccbe3",
      "metadata": {
        "ExecuteTime": {
          "end_time": "2022-11-16T13:17:04.175473Z",
          "start_time": "2022-11-16T13:17:04.163476Z"
        },
        "id": "0e2ccbe3"
      },
      "outputs": [],
      "source": [
        "recs"
      ]
    },
    {
      "cell_type": "code",
      "execution_count": null,
      "id": "cd795c2a",
      "metadata": {
        "ExecuteTime": {
          "end_time": "2022-11-16T13:17:04.190474Z",
          "start_time": "2022-11-16T13:17:04.178474Z"
        },
        "id": "cd795c2a"
      },
      "outputs": [],
      "source": [
        "def precision_naive(target, users, recs, k):\n",
        "    precision = []\n",
        "    for i, user in enumerate(users):\n",
        "        p = 0\n",
        "        user_target = target[target[:, 0] == user][:, 1]\n",
        "        for rec in recs[i]:\n",
        "            if rec in user_target:\n",
        "                p += 1\n",
        "        precision.append(p / k)\n",
        "    return sum(precision) / len(users)"
      ]
    },
    {
      "cell_type": "code",
      "execution_count": null,
      "id": "68849e75",
      "metadata": {
        "ExecuteTime": {
          "end_time": "2022-11-16T13:17:04.206473Z",
          "start_time": "2022-11-16T13:17:04.193473Z"
        },
        "id": "68849e75"
      },
      "outputs": [],
      "source": [
        "precision_naive(target, sample_users, recs, 5)"
      ]
    },
    {
      "cell_type": "code",
      "execution_count": null,
      "id": "6e9013f4",
      "metadata": {
        "ExecuteTime": {
          "end_time": "2022-11-16T13:17:04.270475Z",
          "start_time": "2022-11-16T13:17:04.208473Z"
        },
        "id": "6e9013f4"
      },
      "outputs": [],
      "source": [
        "@nb.njit(cache=True, parallel=True)\n",
        "def precision_numba(target, users, recs, k):\n",
        "    precision = np.zeros(len(users))\n",
        "    for i in nb.prange(len(users)):\n",
        "        user = users[i]\n",
        "        p = 0\n",
        "        user_target = target[target[:, 0] == user][:, 1]\n",
        "        for rec in recs[i]:\n",
        "            if rec in user_target:\n",
        "                p += 1\n",
        "        precision[i] = p / k\n",
        "    return precision.mean()"
      ]
    },
    {
      "cell_type": "code",
      "execution_count": null,
      "id": "8e6bddb3",
      "metadata": {
        "ExecuteTime": {
          "end_time": "2022-11-16T13:17:04.919472Z",
          "start_time": "2022-11-16T13:17:04.273475Z"
        },
        "id": "8e6bddb3"
      },
      "outputs": [],
      "source": [
        "precision_numba(target, np.array(sample_users), recs, 5)"
      ]
    },
    {
      "cell_type": "code",
      "execution_count": null,
      "id": "f2db84ed",
      "metadata": {
        "ExecuteTime": {
          "end_time": "2022-11-16T13:17:04.935472Z",
          "start_time": "2022-11-16T13:17:04.922564Z"
        },
        "id": "f2db84ed"
      },
      "outputs": [],
      "source": [
        "precision_numba(target, np.array(sample_users), recs, 5)"
      ]
    },
    {
      "cell_type": "code",
      "execution_count": null,
      "id": "eb34dfeb",
      "metadata": {
        "ExecuteTime": {
          "end_time": "2022-11-16T13:17:04.950473Z",
          "start_time": "2022-11-16T13:17:04.938474Z"
        },
        "id": "eb34dfeb"
      },
      "outputs": [],
      "source": [
        "def precision_pandas(df, users, recs, k):\n",
        "    df_recs = pd.DataFrame({\n",
        "        Columns.User: np.repeat(users, k),\n",
        "        Columns.Item: recs.ravel()\n",
        "    })\n",
        "    df_recs[Columns.Rank] = df_recs.groupby(Columns.User).cumcount() + 1\n",
        "    df_recs = df.merge(df_recs, how='left', left_on=Columns.UserItem, right_on=Columns.UserItem)\n",
        "    tp_k = f'TP@{k}'\n",
        "    df_recs[tp_k] = df_recs[Columns.Rank] < (k + 1)\n",
        "    p = df_recs[tp_k].sum() / k / len(users)\n",
        "    return p"
      ]
    },
    {
      "cell_type": "code",
      "execution_count": null,
      "id": "b40cf2a1",
      "metadata": {
        "ExecuteTime": {
          "end_time": "2022-11-16T13:17:04.982472Z",
          "start_time": "2022-11-16T13:17:04.953476Z"
        },
        "id": "b40cf2a1"
      },
      "outputs": [],
      "source": [
        "precision_pandas(df, sample_users, recs, 5)"
      ]
    },
    {
      "cell_type": "markdown",
      "id": "1a2e1aab",
      "metadata": {
        "id": "1a2e1aab"
      },
      "source": [
        "Посмотрим через `timeit`"
      ]
    },
    {
      "cell_type": "code",
      "execution_count": null,
      "id": "48a3a5a4",
      "metadata": {
        "ExecuteTime": {
          "end_time": "2022-11-16T13:17:11.668473Z",
          "start_time": "2022-11-16T13:17:04.986474Z"
        },
        "id": "48a3a5a4"
      },
      "outputs": [],
      "source": [
        "%timeit precision_naive(target, sample_users, recs, 5)"
      ]
    },
    {
      "cell_type": "code",
      "execution_count": null,
      "id": "d1d596c6",
      "metadata": {
        "ExecuteTime": {
          "end_time": "2022-11-16T13:17:16.979472Z",
          "start_time": "2022-11-16T13:17:11.670473Z"
        },
        "id": "d1d596c6"
      },
      "outputs": [],
      "source": [
        "%timeit precision_numba(target, sample_users, recs, 5)"
      ]
    },
    {
      "cell_type": "code",
      "execution_count": null,
      "id": "db0d4951",
      "metadata": {
        "ExecuteTime": {
          "end_time": "2022-11-16T13:17:19.748472Z",
          "start_time": "2022-11-16T13:17:16.982474Z"
        },
        "id": "db0d4951"
      },
      "outputs": [],
      "source": [
        "%timeit precision_pandas(df, sample_users, recs, 5)"
      ]
    },
    {
      "cell_type": "code",
      "execution_count": 9,
      "id": "003c90fd",
      "metadata": {
        "ExecuteTime": {
          "end_time": "2022-11-16T13:17:19.763472Z",
          "start_time": "2022-11-16T13:17:19.751472Z"
        },
        "id": "003c90fd"
      },
      "outputs": [],
      "source": [
        "def generate_subsample(users_count, top_k):\n",
        "    users = np.random.choice(interactions[Columns.User].unique(), users_count, replace=False)\n",
        "    df = interactions[interactions[Columns.User].isin(users)].reset_index(drop=True)\n",
        "    del df[Columns.Datetime], df[Columns.Weight], df['watched_pct']\n",
        "\n",
        "    recs = np.random.choice(df[Columns.Item], size=(users_count, top_k))\n",
        "    return df, users, recs"
      ]
    },
    {
      "cell_type": "code",
      "execution_count": null,
      "id": "82302497",
      "metadata": {
        "ExecuteTime": {
          "end_time": "2022-11-16T13:17:19.981472Z",
          "start_time": "2022-11-16T13:17:19.766472Z"
        },
        "id": "82302497"
      },
      "outputs": [],
      "source": [
        "top_k = 10\n",
        "df, users, recs = generate_subsample(10000, top_k)\n",
        "target = df.values"
      ]
    },
    {
      "cell_type": "code",
      "execution_count": null,
      "id": "ed196c27",
      "metadata": {
        "ExecuteTime": {
          "end_time": "2022-11-16T13:17:36.490476Z",
          "start_time": "2022-11-16T13:17:19.984472Z"
        },
        "id": "ed196c27"
      },
      "outputs": [],
      "source": [
        "%timeit precision_naive(target, users, recs, top_k)"
      ]
    },
    {
      "cell_type": "code",
      "execution_count": null,
      "id": "d40279a4",
      "metadata": {
        "ExecuteTime": {
          "end_time": "2022-11-16T13:17:36.615472Z",
          "start_time": "2022-11-16T13:17:36.493475Z"
        },
        "id": "d40279a4"
      },
      "outputs": [],
      "source": [
        "precision_numba(target, users, recs, top_k)"
      ]
    },
    {
      "cell_type": "code",
      "execution_count": null,
      "id": "ff00d091",
      "metadata": {
        "ExecuteTime": {
          "end_time": "2022-11-16T13:17:44.254473Z",
          "start_time": "2022-11-16T13:17:36.618475Z"
        },
        "id": "ff00d091"
      },
      "outputs": [],
      "source": [
        "%timeit precision_numba(target, users, recs, top_k)"
      ]
    },
    {
      "cell_type": "code",
      "execution_count": null,
      "id": "bb53a8f4",
      "metadata": {
        "ExecuteTime": {
          "end_time": "2022-11-16T13:17:47.065475Z",
          "start_time": "2022-11-16T13:17:44.257476Z"
        },
        "id": "bb53a8f4"
      },
      "outputs": [],
      "source": [
        "%timeit precision_pandas(df, users, recs, top_k)"
      ]
    },
    {
      "cell_type": "markdown",
      "id": "5d9eb0b4",
      "metadata": {
        "id": "5d9eb0b4"
      },
      "source": [
        "## RecTools\n",
        "\n",
        "Рассмотрим, как использовать библиотеку от МТС для подсчета метрик.\n",
        "\n",
        "Полный гайд тут - [RecTools/examples/3_metrics.ipynb](https://github.com/MobileTeleSystems/RecTools/blob/main/examples/3_metrics.ipynb)\n",
        "\n",
        "Вначале вспомним, какие данные есть у нас"
      ]
    },
    {
      "cell_type": "code",
      "execution_count": null,
      "id": "69cdae87",
      "metadata": {
        "ExecuteTime": {
          "end_time": "2022-11-16T13:17:47.081477Z",
          "start_time": "2022-11-16T13:17:47.068477Z"
        },
        "id": "69cdae87"
      },
      "outputs": [],
      "source": [
        "df.shape, users.shape, recs.shape"
      ]
    },
    {
      "cell_type": "code",
      "execution_count": null,
      "id": "c15a3a3d",
      "metadata": {
        "ExecuteTime": {
          "end_time": "2022-11-16T13:17:47.206475Z",
          "start_time": "2022-11-16T13:17:47.084479Z"
        },
        "id": "c15a3a3d"
      },
      "outputs": [],
      "source": [
        "from rectools.metrics import Precision, Recall, MAP, calc_metrics"
      ]
    },
    {
      "cell_type": "code",
      "execution_count": null,
      "id": "f156f6bf",
      "metadata": {
        "ExecuteTime": {
          "end_time": "2022-11-16T13:17:47.222473Z",
          "start_time": "2022-11-16T13:17:47.208477Z"
        },
        "id": "f156f6bf"
      },
      "outputs": [],
      "source": [
        "metrics = {\n",
        "    \"prec@1\": Precision(k=1),\n",
        "    \"prec@10\": Precision(k=10),\n",
        "    \"recall@10\": Recall(k=10),\n",
        "    \"MAP@5\": MAP(k=5),\n",
        "    \"MAP@10\": MAP(k=10),\n",
        "}"
      ]
    },
    {
      "cell_type": "code",
      "execution_count": null,
      "id": "2c5d61a9",
      "metadata": {
        "ExecuteTime": {
          "end_time": "2022-11-16T13:17:47.237486Z",
          "start_time": "2022-11-16T13:17:47.225478Z"
        },
        "id": "2c5d61a9"
      },
      "outputs": [],
      "source": [
        "catalog = df[Columns.Item].unique()"
      ]
    },
    {
      "cell_type": "code",
      "execution_count": null,
      "id": "60ce882e",
      "metadata": {
        "ExecuteTime": {
          "end_time": "2022-11-16T13:17:47.267617Z",
          "start_time": "2022-11-16T13:17:47.240494Z"
        },
        "id": "60ce882e"
      },
      "outputs": [],
      "source": [
        "df_recs = pd.DataFrame({\n",
        "    Columns.User: np.repeat(users, top_k),\n",
        "    Columns.Item: recs.ravel()\n",
        "})\n",
        "df_recs[Columns.Rank] = df_recs.groupby(Columns.User).cumcount() + 1"
      ]
    },
    {
      "cell_type": "code",
      "execution_count": null,
      "id": "6bfb042d",
      "metadata": {
        "ExecuteTime": {
          "end_time": "2022-11-16T13:17:47.346619Z",
          "start_time": "2022-11-16T13:17:47.270620Z"
        },
        "id": "6bfb042d"
      },
      "outputs": [],
      "source": [
        "metric_values = calc_metrics(\n",
        "    metrics,\n",
        "    reco=df_recs,\n",
        "    interactions=df,\n",
        ")"
      ]
    },
    {
      "cell_type": "code",
      "execution_count": null,
      "id": "a9b46c6b",
      "metadata": {
        "ExecuteTime": {
          "end_time": "2022-11-16T13:17:47.362619Z",
          "start_time": "2022-11-16T13:17:47.349619Z"
        },
        "id": "a9b46c6b"
      },
      "outputs": [],
      "source": [
        "metric_values"
      ]
    },
    {
      "cell_type": "markdown",
      "id": "75abea7d",
      "metadata": {
        "id": "75abea7d"
      },
      "source": [
        "Как посчитать одну метрику"
      ]
    },
    {
      "cell_type": "code",
      "execution_count": null,
      "id": "ad2502ac",
      "metadata": {
        "ExecuteTime": {
          "end_time": "2022-11-16T13:17:47.410619Z",
          "start_time": "2022-11-16T13:17:47.365622Z"
        },
        "id": "ad2502ac"
      },
      "outputs": [],
      "source": [
        "metrics['prec@10'].calc(df_recs, df)"
      ]
    },
    {
      "cell_type": "code",
      "execution_count": null,
      "id": "b5117ceb",
      "metadata": {
        "ExecuteTime": {
          "end_time": "2022-11-16T13:17:50.222618Z",
          "start_time": "2022-11-16T13:17:47.412623Z"
        },
        "id": "b5117ceb"
      },
      "outputs": [],
      "source": [
        "%timeit metrics['prec@10'].calc(df_recs, df)"
      ]
    },
    {
      "cell_type": "code",
      "execution_count": null,
      "id": "973cb192",
      "metadata": {
        "ExecuteTime": {
          "end_time": "2022-11-16T13:17:50.267620Z",
          "start_time": "2022-11-16T13:17:50.224619Z"
        },
        "id": "973cb192"
      },
      "outputs": [],
      "source": [
        "metrics['prec@10'].calc_per_user(df_recs, df)"
      ]
    },
    {
      "cell_type": "markdown",
      "id": "86146c27",
      "metadata": {
        "id": "86146c27"
      },
      "source": [
        "## Homework\n",
        "\n",
        "### PFound\n",
        "Исходные данные - Yandex Cup 2022 Analytics\n",
        "- Ссылка - https://yandex.ru/cup/analytics/analysis/ , пример A. Рассчитать pFound\n",
        "- Данные - https://yadi.sk/d/guqki4UI4hFlXQ\n",
        "- Формула\n",
        "$$pFound@K = \\sum_{i=1}^{k} pLook[i]\\ pRel[i]$$\n",
        "\n",
        "$$pLook[1] = 1$$\n",
        "\n",
        "$$pLook[i] = pLook[i-1]\\ (1 - pRel[i-1])\\ (1 - pBreak)$$\n",
        "\n",
        "$$pBreak = 0.15$$\n",
        "\n",
        "**Задача** - написать функцию, которая принимает на вход dataframe (после join), а на выходе дает средний pFound по всем query.\n",
        "- Запрещается использовать циклы for для расчет метрики (как полностью, так и ее частей).\n",
        "- Усложнение, если задача показалась легкой - попробуйте обойтись без groupby (не уверен, что это возможно, но вдруг вы справитесь)"
      ]
    },
    {
      "cell_type": "code",
      "execution_count": null,
      "id": "-7jxqJjv07Df",
      "metadata": {
        "id": "-7jxqJjv07Df"
      },
      "outputs": [],
      "source": [
        "import requests\n",
        "from urllib.parse import urlencode\n",
        "\n",
        "base_url = 'https://cloud-api.yandex.net/v1/disk/public/resources/download?'\n",
        "public_key = 'https://yadi.sk/d/guqki4UI4hFlXQ'\n",
        "\n",
        "\n",
        "final_url = base_url + urlencode(dict(public_key=public_key))\n",
        "response = requests.get(final_url)\n",
        "download_url = response.json()['href']\n",
        "\n",
        "download_response = requests.get(download_url)\n",
        "with open('./data.zip', 'wb') as f:\n",
        "    f.write(download_response.content)"
      ]
    },
    {
      "cell_type": "code",
      "execution_count": null,
      "id": "1AtrgZSy1GL6",
      "metadata": {
        "colab": {
          "base_uri": "https://localhost:8080/"
        },
        "id": "1AtrgZSy1GL6",
        "outputId": "63a6eb7b-1627-4506-91bd-2cb7c70344d5"
      },
      "outputs": [
        {
          "name": "stdout",
          "output_type": "stream",
          "text": [
            "Archive:  hidden_task.zip\n",
            "  inflating: hostid_url.tsv          \n",
            "  inflating: qid_query.tsv           \n",
            "  inflating: qid_url_rating.tsv      \n",
            "Archive:  open_task.zip\n",
            "   creating: open_task/\n",
            "  inflating: open_task/qid_query.tsv  \n",
            "  inflating: open_task/hostid_url.tsv  \n",
            "  inflating: open_task/qid_url_rating.tsv  \n"
          ]
        }
      ],
      "source": [
        "# !unzip data.zip\n",
        "# !unzip hidden_task.zip\n",
        "# !unzip open_task.zip"
      ]
    },
    {
      "cell_type": "markdown",
      "id": "d1-GgSuV0X60",
      "metadata": {
        "id": "d1-GgSuV0X60"
      },
      "source": [
        "##Pfound"
      ]
    },
    {
      "cell_type": "code",
      "execution_count": null,
      "id": "bxP3tkfd1l2Y",
      "metadata": {
        "id": "bxP3tkfd1l2Y"
      },
      "outputs": [],
      "source": [
        "qid_query.head(3) #  id запроса и текст запроса, разделённые табуляцией;"
      ]
    },
    {
      "cell_type": "code",
      "execution_count": null,
      "id": "GCB1NRYQ129r",
      "metadata": {
        "id": "GCB1NRYQ129r"
      },
      "outputs": [],
      "source": [
        "qid_url_rating.head(3) #  id запроса, URL документа, релевантность документа запросу;"
      ]
    },
    {
      "cell_type": "code",
      "execution_count": null,
      "id": "ULV7OwoH19Ub",
      "metadata": {
        "id": "ULV7OwoH19Ub"
      },
      "outputs": [],
      "source": [
        "hostid_url.head(3) #  id хоста и URL документа."
      ]
    },
    {
      "cell_type": "code",
      "execution_count": null,
      "id": "Hz1QAVd02NJX",
      "metadata": {
        "id": "Hz1QAVd02NJX"
      },
      "outputs": [],
      "source": [
        "qid_url_rating_hostid.sample(3)"
      ]
    },
    {
      "cell_type": "code",
      "execution_count": null,
      "id": "T4xvMnuz0Zwq",
      "metadata": {
        "id": "T4xvMnuz0Zwq"
      },
      "outputs": [],
      "source": [
        "import pandas as pd\n",
        "\n",
        "# считываем данные\n",
        "qid_query = pd.read_csv(\"qid_query.tsv\", sep=\"\\t\", names=[\"qid\", \"query\"])\n",
        "qid_url_rating = pd.read_csv(\"qid_url_rating.tsv\", sep=\"\\t\", names=[\"qid\", \"url\", \"rating\"])\n",
        "hostid_url = pd.read_csv(\"hostid_url.tsv\", sep=\"\\t\", names=[\"hostid\", \"url\"])\n",
        "\n",
        "# делаем join двух таблиц, чтобы было просто брать url с максимальным рейтингом\n",
        "qid_url_rating_hostid = pd.merge(qid_url_rating, hostid_url, on=\"url\")\n",
        "\n",
        "\n",
        "def plook(ind, rels):\n",
        "    if ind == 0:\n",
        "        return 1\n",
        "    return plook(ind-1, rels)*(1-rels[ind-1])*(1-0.15)\n",
        "\n",
        "\n",
        "def pfound(group):\n",
        "    max_by_host = group.groupby(\"hostid\")[\"rating\"].max() # максимальный рейтинг хоста\n",
        "    top10 = max_by_host.sort_values(ascending=False)[:10] # берем топ10 урлов с наивысшим рейтингом\n",
        "    pfound = 0\n",
        "    for ind, val in enumerate(top10):\n",
        "        pfound += val*plook(ind, top10.values)\n",
        "        print(plook(ind, top10.values))\n",
        "    return pfound\n",
        "\n",
        "\n",
        "qid_pfound = qid_url_rating_hostid.groupby('qid').apply(pfound) # группируем по qid и вычисляем pfound\n",
        "qid_max = qid_pfound.idxmax() # берем qid с максимальным pfound\n",
        "\n",
        "qid_query[qid_query[\"qid\"] == qid_max]\n"
      ]
    },
    {
      "cell_type": "code",
      "execution_count": null,
      "id": "ZTk7XIe91ZVZ",
      "metadata": {
        "id": "ZTk7XIe91ZVZ"
      },
      "outputs": [],
      "source": [
        "avg_pfound_original = qid_pfound.mean()\n",
        "print(f'Средний pFound по всем query (расчет с сайта): {avg_pfound_original}')"
      ]
    },
    {
      "cell_type": "code",
      "execution_count": null,
      "id": "LeN-TuSS8Uay",
      "metadata": {
        "id": "LeN-TuSS8Uay"
      },
      "outputs": [],
      "source": [
        "def fast_PFoundK(\n",
        "    qid_url_rating_hostid,\n",
        "    K = 10,\n",
        "    p_break = 0.15\n",
        "    ):\n",
        "    \"\"\"\n",
        "    Подсчет метрики PFound@K\n",
        "    \"\"\"\n",
        "    # Получаем максимальный рейтинг для кажого url, и потом сортируем\n",
        "    max_by_host = qid_url_rating_hostid.groupby(['qid', 'hostid'])['rating'].max().reset_index()\n",
        "    top = max_by_host.sort_values(['qid', 'rating'], ascending=False).groupby(['qid']).head(10)\n",
        "\n",
        "    top['rank'] = top.groupby('qid').cumcount()  # Задаем порядок для отсортированного рейтинга\n",
        "     # Ниже идут вспомогательные операции для подсчета метрики\n",
        "    top['one_minus_rating'] = (1 - top['rating']).shift(1)\n",
        "    top['p_break'] = 1 - p_break\n",
        "    top.loc[top['rank'] == 0, ['p_break', 'one_minus_rating']] = 1\n",
        "\n",
        "    top['temp_with_mult'] = top['one_minus_rating'] * top['p_break']\n",
        "\n",
        "    top['plook'] = top.groupby('qid')['temp_with_mult'].cumprod()\n",
        "    top['pfound'] = top['plook'] * top['rating']\n",
        "\n",
        "    pfound_qid = top.groupby('qid')['pfound'].sum() # Подсчет pFound\n",
        "    return pfound_qid.mean()"
      ]
    },
    {
      "cell_type": "markdown",
      "id": "_Ot2DpdI6AcQ",
      "metadata": {
        "id": "_Ot2DpdI6AcQ"
      },
      "source": []
    },
    {
      "cell_type": "code",
      "execution_count": null,
      "id": "Si2vQPHc5PNl",
      "metadata": {
        "id": "Si2vQPHc5PNl"
      },
      "outputs": [],
      "source": [
        "print(fast_PFoundK(qid_url_rating_hostid))"
      ]
    },
    {
      "cell_type": "markdown",
      "id": "nYVmjKUV0d5Y",
      "metadata": {
        "id": "nYVmjKUV0d5Y"
      },
      "source": [
        "##MRR"
      ]
    },
    {
      "cell_type": "markdown",
      "id": "T6wZXgsH92Q8",
      "metadata": {
        "id": "T6wZXgsH92Q8"
      },
      "source": [
        "### MRR\n",
        "Исходные данные - результат `generate_subsample`\n",
        "\n",
        "**Задача** - по аналогии с precision написать три версии функции подсчета Mean Reciprocal Rank (naive, numba, pandas) и протестировать на разных размерах выборки\n",
        "- Протестируйте для всех комбинаций (users_count, top_k):\n",
        "  - users_count - [100, 1000, 10000, 100000]\n",
        "  - top_k - [10, 50, 100]\n",
        "- Результатом тестирования должен быть график, где будут отражены следующие показатели:\n",
        "  - Алгоритм - naive, numba, pandas\n",
        "  - Скорость работы (время)\n",
        "  - users_count\n",
        "  - top_k"
      ]
    },
    {
      "cell_type": "code",
      "execution_count": 10,
      "id": "67fd43e9",
      "metadata": {
        "id": "67fd43e9"
      },
      "outputs": [],
      "source": [
        "#  генерация данных\n",
        "top_k = 10\n",
        "df, users, recs = generate_subsample(10000, top_k)\n",
        "target = df.values"
      ]
    },
    {
      "cell_type": "code",
      "execution_count": 11,
      "id": "SAP8GdMC93jv",
      "metadata": {
        "id": "SAP8GdMC93jv"
      },
      "outputs": [],
      "source": [
        "def mrr_pandas(df, users, recs, top_k):\n",
        "    # Формируем датасет\n",
        "    df_r = pd.DataFrame({\n",
        "        Columns.User: np.repeat(users, top_k),#повторяем user_id \"к раз\n",
        "        Columns.Item: recs.ravel()#вытягиваем все рекомендации в 1 общий массив\n",
        "    })\n",
        "    #составляем ранги\n",
        "    df_r[Columns.Rank] = df_r.groupby(Columns.User).cumcount() + 1\n",
        "    #делаем джоин, чтобы понять ранги рекомендаций, которые были предсказаны верно\n",
        "    df_r = df_r.merge(df, how='right', left_on=Columns.UserItem, right_on=Columns.UserItem)\n",
        "    # 1/rank(i)\n",
        "    df_r['revert_rank'] =  1 / df_r[Columns.Rank]\n",
        "    # заполняем нулями пропуски\n",
        "    df_r['revert_rank'] = df_r['revert_rank'].fillna(0)\n",
        "    # считаем итоговую формулу\n",
        "    mrr = df_r['revert_rank'].sum() / (top_k * len(users))\n",
        "    return mrr"
      ]
    },
    {
      "cell_type": "code",
      "execution_count": 12,
      "id": "4ef580d4",
      "metadata": {
        "colab": {
          "base_uri": "https://localhost:8080/"
        },
        "id": "4ef580d4",
        "outputId": "d502a79e-1bd8-475a-e41e-3201295adc24"
      },
      "outputs": [
        {
          "output_type": "execute_result",
          "data": {
            "text/plain": [
              "0.006471325396825397"
            ]
          },
          "metadata": {},
          "execution_count": 12
        }
      ],
      "source": [
        "mrr_pandas(df, users, recs, 10)"
      ]
    },
    {
      "cell_type": "code",
      "execution_count": 13,
      "id": "98deb1be",
      "metadata": {
        "id": "98deb1be"
      },
      "outputs": [],
      "source": [
        "def mrr_naive(df, users, recs, k):\n",
        "    mrp = []\n",
        "    for i, j in enumerate(users):\n",
        "        mrp_value = 0\n",
        "        # находим список item_id у юзера\n",
        "        user_target = list(df[df[Columns.User] == j][Columns.Item])\n",
        "        # далее проходим по каждой рекомендации для юзера\n",
        "        for rank, rec in enumerate(recs[i]):\n",
        "            # проверяем, взаимодействовал ли этот пользователь с рекомендацией\n",
        "            if rec in user_target:\n",
        "                # если да, то делаем 1/rank и суммируем\n",
        "                mrp_value += 1 / (rank + 1)\n",
        "        mrp.append(mrp_value / k)\n",
        "\n",
        "    return sum(mrp) / len(users)"
      ]
    },
    {
      "cell_type": "code",
      "execution_count": 14,
      "id": "e68de750",
      "metadata": {
        "colab": {
          "base_uri": "https://localhost:8080/"
        },
        "id": "e68de750",
        "outputId": "3dbf229b-883c-4565-e09c-c28061fcfc15"
      },
      "outputs": [
        {
          "output_type": "execute_result",
          "data": {
            "text/plain": [
              "0.006471325396825402"
            ]
          },
          "metadata": {},
          "execution_count": 14
        }
      ],
      "source": [
        "mrr_naive(df, users, recs, 10)"
      ]
    },
    {
      "cell_type": "code",
      "execution_count": 15,
      "id": "MyfBsXg6ENGE",
      "metadata": {
        "id": "MyfBsXg6ENGE"
      },
      "outputs": [],
      "source": [
        "@nb.njit(cache=True, parallel=True)\n",
        "def mrr_numba(target, users, recs, k):\n",
        "    mrp = np.zeros(len(users))\n",
        "    for i in nb.prange(len(users)):\n",
        "        mrp_value = 0\n",
        "        # находим список item_id у юзера\n",
        "        user_target = target[target[:, 0] == users[i]][:, 1]\n",
        "        # далее проходим по каждой рекомендации для юзера\n",
        "        for rank in nb.prange(len(recs[i])):\n",
        "          # проверяем, взаимодействовал ли этот пользователь с рекомендацией\n",
        "            if  recs[i][rank] in user_target:\n",
        "                mrp_value += 1 / (rank + 1)\n",
        "        mrp[i] = mrp_value / k\n",
        "    return mrp.mean()"
      ]
    },
    {
      "cell_type": "code",
      "execution_count": 16,
      "id": "78Cyx0-fEp-O",
      "metadata": {
        "colab": {
          "base_uri": "https://localhost:8080/"
        },
        "id": "78Cyx0-fEp-O",
        "outputId": "1cd5f8d0-5074-4b40-ecbc-e74fb399e062"
      },
      "outputs": [
        {
          "output_type": "execute_result",
          "data": {
            "text/plain": [
              "0.006471325396825425"
            ]
          },
          "metadata": {},
          "execution_count": 16
        }
      ],
      "source": [
        "mrr_numba(target, users, recs, 10)"
      ]
    },
    {
      "cell_type": "code",
      "source": [
        "import time"
      ],
      "metadata": {
        "id": "CyAUcSMUrDUY"
      },
      "id": "CyAUcSMUrDUY",
      "execution_count": 18,
      "outputs": []
    },
    {
      "cell_type": "code",
      "execution_count": 19,
      "id": "D-hQDjU5GrEy",
      "metadata": {
        "colab": {
          "base_uri": "https://localhost:8080/"
        },
        "id": "D-hQDjU5GrEy",
        "outputId": "1aca5f07-dd3d-4a63-ff9c-2bbb0f09ad2a"
      },
      "outputs": [
        {
          "output_type": "stream",
          "name": "stderr",
          "text": [
            "100%|██████████| 4/4 [09:36<00:00, 144.21s/it]\n"
          ]
        }
      ],
      "source": [
        "users_count = [100, 1000, 10000, 100000]\n",
        "top_k = [10, 50, 100]\n",
        "time_pandas = []\n",
        "time_naive = []\n",
        "time_numba = []\n",
        "for user in tqdm(users_count):\n",
        "  for k in top_k:\n",
        "    df, users, recs = generate_subsample(user, k)\n",
        "    target = df.values\n",
        "    start_time = time.time()\n",
        "    mrr_pandas(df, users, recs, k)\n",
        "    time_pandas.append((time.time() - start_time))\n",
        "    start_time = time.time()\n",
        "    mrr_naive(df, users, recs, k)\n",
        "    time_naive.append((time.time() - start_time))\n",
        "    start_time = time.time()\n",
        "    mrr_numba(target, users, recs, k)\n",
        "    time_numba.append((time.time() - start_time))"
      ]
    },
    {
      "cell_type": "code",
      "execution_count": 20,
      "id": "jOBPDHRiK56T",
      "metadata": {
        "colab": {
          "base_uri": "https://localhost:8080/"
        },
        "id": "jOBPDHRiK56T",
        "outputId": "703b653c-7337-4407-8402-0e4d8ab97cc7"
      },
      "outputs": [
        {
          "output_type": "execute_result",
          "data": {
            "text/plain": [
              "[0.011004924774169922,\n",
              " 0.011208057403564453,\n",
              " 0.01003408432006836,\n",
              " 0.009745121002197266,\n",
              " 0.017200946807861328,\n",
              " 0.02498149871826172,\n",
              " 0.046309471130371094,\n",
              " 0.13172388076782227,\n",
              " 0.24241089820861816,\n",
              " 0.47215938568115234,\n",
              " 2.4795279502868652,\n",
              " 5.419566869735718]"
            ]
          },
          "metadata": {},
          "execution_count": 20
        }
      ],
      "source": [
        "time_pandas"
      ]
    },
    {
      "cell_type": "code",
      "execution_count": 21,
      "id": "aBzJ4RnGK7EK",
      "metadata": {
        "colab": {
          "base_uri": "https://localhost:8080/"
        },
        "id": "aBzJ4RnGK7EK",
        "outputId": "a401fce5-ada9-46d8-bc51-44d1a7e16808"
      },
      "outputs": [
        {
          "output_type": "execute_result",
          "data": {
            "text/plain": [
              "[0.03861355781555176,\n",
              " 0.04801297187805176,\n",
              " 0.04343891143798828,\n",
              " 0.39734339714050293,\n",
              " 0.4457590579986572,\n",
              " 0.47475194931030273,\n",
              " 4.566300392150879,\n",
              " 4.720940828323364,\n",
              " 9.2272629737854,\n",
              " 121.36467385292053,\n",
              " 83.4365177154541,\n",
              " 89.03357076644897]"
            ]
          },
          "metadata": {},
          "execution_count": 21
        }
      ],
      "source": [
        "time_naive"
      ]
    },
    {
      "cell_type": "code",
      "execution_count": 22,
      "id": "LJIWQ6_YLU4n",
      "metadata": {
        "colab": {
          "base_uri": "https://localhost:8080/"
        },
        "id": "LJIWQ6_YLU4n",
        "outputId": "dcb9efa2-6929-4866-f97c-01df50dd8128"
      },
      "outputs": [
        {
          "output_type": "execute_result",
          "data": {
            "text/plain": [
              "[0.0007145404815673828,\n",
              " 0.003462076187133789,\n",
              " 0.0006973743438720703,\n",
              " 0.0072116851806640625,\n",
              " 0.009501457214355469,\n",
              " 0.008360624313354492,\n",
              " 0.7994105815887451,\n",
              " 0.7832863330841064,\n",
              " 0.8792433738708496,\n",
              " 87.51340794563293,\n",
              " 80.35263586044312,\n",
              " 80.46841812133789]"
            ]
          },
          "metadata": {},
          "execution_count": 22
        }
      ],
      "source": [
        "time_numba"
      ]
    },
    {
      "cell_type": "code",
      "execution_count": 23,
      "id": "F8k44cqnVZfe",
      "metadata": {
        "id": "F8k44cqnVZfe"
      },
      "outputs": [],
      "source": [
        "time_pandas = np.array(time_pandas).reshape((4, 3))\n",
        "time_naive = np.array(time_naive).reshape((4,3))\n",
        "time_numba = np.array(time_numba).reshape((4,3 ))"
      ]
    },
    {
      "cell_type": "code",
      "source": [
        "_, ax = plt.subplots(2,3, figsize=(20,5))\n",
        "ax[0]"
      ],
      "metadata": {
        "colab": {
          "base_uri": "https://localhost:8080/",
          "height": 392
        },
        "id": "vuOXOYuErPZg",
        "outputId": "9cc5ee42-46cd-46f6-b789-7bfd93bce7aa"
      },
      "id": "vuOXOYuErPZg",
      "execution_count": 25,
      "outputs": [
        {
          "output_type": "execute_result",
          "data": {
            "text/plain": [
              "array([<matplotlib.axes._subplots.AxesSubplot object at 0x7f3b2fc2a520>,\n",
              "       <matplotlib.axes._subplots.AxesSubplot object at 0x7f3b2fc3fa00>,\n",
              "       <matplotlib.axes._subplots.AxesSubplot object at 0x7f3b2fbe4d90>],\n",
              "      dtype=object)"
            ]
          },
          "metadata": {},
          "execution_count": 25
        },
        {
          "output_type": "display_data",
          "data": {
            "text/plain": [
              "<Figure size 1440x360 with 6 Axes>"
            ],
            "image/png": "[encoded data removed]"
          },
          "metadata": {
            "needs_background": "light"
          }
        }
      ]
    },
    {
      "cell_type": "code",
      "execution_count": 28,
      "id": "ZPbe-lyzQiUj",
      "metadata": {
        "colab": {
          "base_uri": "https://localhost:8080/",
          "height": 621
        },
        "id": "ZPbe-lyzQiUj",
        "outputId": "13543385-9c3c-4a29-91ba-db0f16493a7f"
      },
      "outputs": [
        {
          "output_type": "display_data",
          "data": {
            "text/plain": [
              "<Figure size 1440x720 with 6 Axes>"
            ],
            "image/png": "[encoded data removed]"
          },
          "metadata": {
            "needs_background": "light"
          }
        }
      ],
      "source": [
        "_, ax = plt.subplots(2,3, figsize=(20,10))\n",
        "for i in range(3):\n",
        "    ax[0][i].plot(users_count, time_naive[:,i], label='Naive')\n",
        "    ax[0][i].plot(users_count, time_numba[:,i], label='Numba')\n",
        "    ax[0][i].plot(users_count, time_pandas[:,i], label='Pandas')\n",
        "    ax[0][i].set_title(f'top_k {top_k[i]}')\n",
        "    ax[0][i].set_xlabel('users')\n",
        "    ax[0][i].set_ylabel('time (s)')\n",
        "    ax[0][i].set_ylim(0, 60)\n",
        "    ax[0][i].grid()\n",
        "    ax[0][i].legend()\n",
        "\n",
        "    ax[1][i].plot(users_count, np.log(time_naive[:, i]), label='Naive')\n",
        "    ax[1][i].plot(users_count, np.log(time_numba[:, i]), label='Numba')\n",
        "    ax[1][i].plot(users_count, np.log(time_pandas[:, i]), label='Pandas')\n",
        "    ax[1][i].set_title(f'top_k {top_k[i]} (log scale)')\n",
        "    ax[1][i].set_xlabel('users')\n",
        "    ax[1][i].set_ylabel('log time (s)')\n",
        "    ax[1][i].set_ylim(-10, 5)\n",
        "    ax[1][i].grid()\n",
        "    ax[1][i].legend()\n",
        "plt.show()"
      ]
    },
    {
      "cell_type": "markdown",
      "id": "JNvbl3ikXaP7",
      "metadata": {
        "id": "JNvbl3ikXaP7"
      },
      "source": [
        "Время работы numba зависит от кол-ва ядер процессора, поэтому в коллабе не рекомендуется запускать)\n"
      ]
    }
  ],
  "metadata": {
    "colab": {
      "provenance": []
    },
    "kernelspec": {
      "display_name": "Python 3 (ipykernel)",
      "language": "python",
      "name": "python3"
    },
    "language_info": {
      "codemirror_mode": {
        "name": "ipython",
        "version": 3
      },
      "file_extension": ".py",
      "mimetype": "text/x-python",
      "name": "python",
      "nbconvert_exporter": "python",
      "pygments_lexer": "ipython3",
      "version": "3.8.8"
    },
    "toc": {
      "base_numbering": 1,
      "nav_menu": {},
      "number_sections": true,
      "sideBar": true,
      "skip_h1_title": true,
      "title_cell": "Table of Contents",
      "title_sidebar": "Contents",
      "toc_cell": false,
      "toc_position": {
        "height": "calc(100% - 180px)",
        "left": "10px",
        "top": "150px",
        "width": "221px"
      },
      "toc_section_display": true,
      "toc_window_display": true
    }
  },
  "nbformat": 4,
  "nbformat_minor": 5
}