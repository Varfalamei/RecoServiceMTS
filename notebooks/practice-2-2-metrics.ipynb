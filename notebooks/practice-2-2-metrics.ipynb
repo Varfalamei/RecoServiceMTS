{
 "cells": [
  {
   "cell_type": "markdown",
   "id": "a00c6db1",
   "metadata": {
    "id": "a00c6db1"
   },
   "source": [
    "# Метрики\n",
    "\n",
    "## Imports"
   ]
  },
  {
   "cell_type": "code",
   "execution_count": 1,
   "id": "5vU7zdvrTPb1",
   "metadata": {
    "id": "5vU7zdvrTPb1"
   },
   "outputs": [],
   "source": [
    "import pandas as pd\n",
    "import numpy as np\n",
    "import numba as nb\n",
    "import requests\n",
    "from tqdm import tqdm\n",
    "from rectools import Columns\n",
    "import matplotlib.pyplot as plt\n",
    "import time\n",
    "import zipfile as zf\n",
    "from urllib.parse import urlencode"
   ]
  },
  {
   "cell_type": "code",
   "execution_count": 3,
   "id": "_yYmrumVz7Kx",
   "metadata": {
    "id": "_yYmrumVz7Kx"
   },
   "outputs": [],
   "source": [
    "url = 'https://github.com/irsafilo/KION_DATASET/raw/f69775be31fa5779907cf0a92ddedb70037fb5ae/data_original.zip'"
   ]
  },
  {
   "cell_type": "code",
   "execution_count": 4,
   "id": "ZF_CicYU0DaA",
   "metadata": {
    "colab": {
     "base_uri": "https://localhost:8080/"
    },
    "id": "ZF_CicYU0DaA",
    "outputId": "3ab423bf-f9db-4d48-8e8b-ad317db62c81"
   },
   "outputs": [
    {
     "name": "stderr",
     "output_type": "stream",
     "text": [
      "kion dataset download: 100%|█████████▉| 78.6M/78.8M [00:00<00:00, 167MiB/s]"
     ]
    }
   ],
   "source": [
    "req = requests.get(url, stream=True)\n",
    "\n",
    "with open('kion.zip', 'wb') as fd:\n",
    "    total_size_in_bytes = int(req.headers.get('Content-Length', 0))\n",
    "    progress_bar = tqdm(desc='kion dataset download', total=total_size_in_bytes, unit='iB', unit_scale=True)\n",
    "    for chunk in req.iter_content(chunk_size=2 ** 20):\n",
    "        progress_bar.update(len(chunk))\n",
    "        fd.write(chunk)"
   ]
  },
  {
   "cell_type": "code",
   "execution_count": 5,
   "id": "EPKsorOe0Dcl",
   "metadata": {
    "id": "EPKsorOe0Dcl"
   },
   "outputs": [],
   "source": [
    "files = zf.ZipFile('kion.zip','r')\n",
    "files.extractall()\n",
    "files.close()"
   ]
  },
  {
   "cell_type": "code",
   "execution_count": 6,
   "id": "e3551b5e",
   "metadata": {
    "ExecuteTime": {
     "end_time": "2022-11-16T13:16:59.838475Z",
     "start_time": "2022-11-16T13:16:59.825476Z"
    },
    "id": "e3551b5e"
   },
   "outputs": [],
   "source": [
    "np.random.seed(23)"
   ]
  },
  {
   "cell_type": "markdown",
   "id": "d636a7d5",
   "metadata": {
    "id": "d636a7d5"
   },
   "source": [
    "## Read data"
   ]
  },
  {
   "cell_type": "code",
   "execution_count": 6,
   "id": "8b021111",
   "metadata": {
    "ExecuteTime": {
     "end_time": "2022-11-16T13:17:02.540473Z",
     "start_time": "2022-11-16T13:16:59.841479Z"
    },
    "colab": {
     "base_uri": "https://localhost:8080/"
    },
    "id": "8b021111",
    "outputId": "b60fb656-9948-4ab8-c181-8ce24e2b3e83"
   },
   "outputs": [],
   "source": [
    "interactions = pd.read_csv('../../data/interactions.csv')\n",
    "\n",
    "interactions.rename(\n",
    "    columns={\n",
    "        'last_watch_dt': Columns.Datetime,\n",
    "        'total_dur': Columns.Weight\n",
    "    },\n",
    "    inplace=True)\n",
    "\n",
    "interactions[Columns.Datetime] = pd.to_datetime(interactions[Columns.Datetime])"
   ]
  },
  {
   "cell_type": "code",
   "execution_count": 8,
   "id": "1170099f",
   "metadata": {
    "ExecuteTime": {
     "end_time": "2022-11-16T13:17:03.522473Z",
     "start_time": "2022-11-16T13:17:02.544478Z"
    },
    "id": "1170099f"
   },
   "outputs": [],
   "source": [
    "users = pd.read_csv('/content/data_original/users.csv')\n",
    "items = pd.read_csv('/content/data_original/items.csv')"
   ]
  },
  {
   "cell_type": "code",
   "execution_count": 8,
   "id": "003c90fd",
   "metadata": {
    "ExecuteTime": {
     "end_time": "2022-11-16T13:17:19.763472Z",
     "start_time": "2022-11-16T13:17:19.751472Z"
    },
    "id": "003c90fd"
   },
   "outputs": [],
   "source": [
    "def generate_subsample(users_count, top_k):\n",
    "    users = np.random.choice(interactions[Columns.User].unique(), users_count, replace=False)\n",
    "    df = interactions[interactions[Columns.User].isin(users)].reset_index(drop=True)\n",
    "    del df[Columns.Datetime], df[Columns.Weight], df['watched_pct']\n",
    "\n",
    "    recs = np.random.choice(df[Columns.Item], size=(users_count, top_k))\n",
    "    return df, users, recs"
   ]
  },
  {
   "cell_type": "markdown",
   "id": "86146c27",
   "metadata": {
    "id": "86146c27"
   },
   "source": [
    "## Homework\n",
    "\n",
    "### PFound\n",
    "Исходные данные - Yandex Cup 2022 Analytics\n",
    "- Ссылка - https://yandex.ru/cup/analytics/analysis/ , пример A. Рассчитать pFound\n",
    "- Данные - https://yadi.sk/d/guqki4UI4hFlXQ\n",
    "- Формула\n",
    "$$pFound@K = \\sum_{i=1}^{k} pLook[i]\\ pRel[i]$$\n",
    "\n",
    "$$pLook[1] = 1$$\n",
    "\n",
    "$$pLook[i] = pLook[i-1]\\ (1 - pRel[i-1])\\ (1 - pBreak)$$\n",
    "\n",
    "$$pBreak = 0.15$$\n",
    "\n",
    "**Задача** - написать функцию, которая принимает на вход dataframe (после join), а на выходе дает средний pFound по всем query.\n",
    "- Запрещается использовать циклы for для расчет метрики (как полностью, так и ее частей).\n",
    "- Усложнение, если задача показалась легкой - попробуйте обойтись без groupby (не уверен, что это возможно, но вдруг вы справитесь)"
   ]
  },
  {
   "cell_type": "code",
   "execution_count": 10,
   "id": "-7jxqJjv07Df",
   "metadata": {
    "id": "-7jxqJjv07Df"
   },
   "outputs": [],
   "source": [
    "base_url = 'https://cloud-api.yandex.net/v1/disk/public/resources/download?'\n",
    "public_key = 'https://yadi.sk/d/guqki4UI4hFlXQ'\n",
    "\n",
    "\n",
    "final_url = base_url + urlencode(dict(public_key=public_key))\n",
    "response = requests.get(final_url)\n",
    "download_url = response.json()['href']\n",
    "\n",
    "download_response = requests.get(download_url)\n",
    "with open('./data.zip', 'wb') as f:\n",
    "    f.write(download_response.content)"
   ]
  },
  {
   "cell_type": "code",
   "execution_count": null,
   "id": "1AtrgZSy1GL6",
   "metadata": {
    "id": "1AtrgZSy1GL6"
   },
   "outputs": [],
   "source": [
    "!unzip data.zip\n",
    "!unzip hidden_task.zip\n",
    "!unzip open_task.zip"
   ]
  },
  {
   "cell_type": "markdown",
   "id": "1afc2a3c",
   "metadata": {},
   "source": [
    "## Pfound"
   ]
  },
  {
   "cell_type": "code",
   "execution_count": 12,
   "id": "-Ig3CBawU03y",
   "metadata": {
    "id": "-Ig3CBawU03y"
   },
   "outputs": [],
   "source": [
    "# Считываем данные\n",
    "qid_query = pd.read_csv(\"qid_query.tsv\", sep=\"\\t\", names=[\"qid\", \"query\"])\n",
    "qid_url_rating = pd.read_csv(\"qid_url_rating.tsv\", sep=\"\\t\", names=[\"qid\", \"url\", \"rating\"])\n",
    "hostid_url = pd.read_csv(\"hostid_url.tsv\", sep=\"\\t\", names=[\"hostid\", \"url\"])\n",
    "\n",
    "# Делаем join двух таблиц, чтобы было просто брать url с максимальным рейтингом\n",
    "qid_url_rating_hostid = pd.merge(qid_url_rating, hostid_url, on=\"url\")"
   ]
  },
  {
   "cell_type": "code",
   "execution_count": 13,
   "id": "bxP3tkfd1l2Y",
   "metadata": {
    "colab": {
     "base_uri": "https://localhost:8080/",
     "height": 143
    },
    "id": "bxP3tkfd1l2Y",
    "outputId": "482b8d73-9b78-43ac-a8d0-48f8d5bfd928"
   },
   "outputs": [
    {
     "data": {
      "text/html": [
       "\n",
       "  <div id=\"df-df98e037-c415-4550-bd5f-e98e052c1fe6\">\n",
       "    <div class=\"colab-df-container\">\n",
       "      <div>\n",
       "<style scoped>\n",
       "    .dataframe tbody tr th:only-of-type {\n",
       "        vertical-align: middle;\n",
       "    }\n",
       "\n",
       "    .dataframe tbody tr th {\n",
       "        vertical-align: top;\n",
       "    }\n",
       "\n",
       "    .dataframe thead th {\n",
       "        text-align: right;\n",
       "    }\n",
       "</style>\n",
       "<table border=\"1\" class=\"dataframe\">\n",
       "  <thead>\n",
       "    <tr style=\"text-align: right;\">\n",
       "      <th></th>\n",
       "      <th>qid</th>\n",
       "      <th>query</th>\n",
       "    </tr>\n",
       "  </thead>\n",
       "  <tbody>\n",
       "    <tr>\n",
       "      <th>0</th>\n",
       "      <td>402111</td>\n",
       "      <td>работа фотографом в австралии</td>\n",
       "    </tr>\n",
       "    <tr>\n",
       "      <th>1</th>\n",
       "      <td>405851</td>\n",
       "      <td>производительность видеокарт</td>\n",
       "    </tr>\n",
       "    <tr>\n",
       "      <th>2</th>\n",
       "      <td>407522</td>\n",
       "      <td>ёлочные игрушки из пластиковых бутылок</td>\n",
       "    </tr>\n",
       "  </tbody>\n",
       "</table>\n",
       "</div>\n",
       "      <button class=\"colab-df-convert\" onclick=\"convertToInteractive('df-df98e037-c415-4550-bd5f-e98e052c1fe6')\"\n",
       "              title=\"Convert this dataframe to an interactive table.\"\n",
       "              style=\"display:none;\">\n",
       "        \n",
       "  <svg xmlns=\"http://www.w3.org/2000/svg\" height=\"24px\"viewBox=\"0 0 24 24\"\n",
       "       width=\"24px\">\n",
       "    <path d=\"M0 0h24v24H0V0z\" fill=\"none\"/>\n",
       "    <path d=\"M18.56 5.44l.94 2.06.94-2.06 2.06-.94-2.06-.94-.94-2.06-.94 2.06-2.06.94zm-11 1L8.5 8.5l.94-2.06 2.06-.94-2.06-.94L8.5 2.5l-.94 2.06-2.06.94zm10 10l.94 2.06.94-2.06 2.06-.94-2.06-.94-.94-2.06-.94 2.06-2.06.94z\"/><path d=\"M17.41 7.96l-1.37-1.37c-.4-.4-.92-.59-1.43-.59-.52 0-1.04.2-1.43.59L10.3 9.45l-7.72 7.72c-.78.78-.78 2.05 0 2.83L4 21.41c.39.39.9.59 1.41.59.51 0 1.02-.2 1.41-.59l7.78-7.78 2.81-2.81c.8-.78.8-2.07 0-2.86zM5.41 20L4 18.59l7.72-7.72 1.47 1.35L5.41 20z\"/>\n",
       "  </svg>\n",
       "      </button>\n",
       "      \n",
       "  <style>\n",
       "    .colab-df-container {\n",
       "      display:flex;\n",
       "      flex-wrap:wrap;\n",
       "      gap: 12px;\n",
       "    }\n",
       "\n",
       "    .colab-df-convert {\n",
       "      background-color: #E8F0FE;\n",
       "      border: none;\n",
       "      border-radius: 50%;\n",
       "      cursor: pointer;\n",
       "      display: none;\n",
       "      fill: #1967D2;\n",
       "      height: 32px;\n",
       "      padding: 0 0 0 0;\n",
       "      width: 32px;\n",
       "    }\n",
       "\n",
       "    .colab-df-convert:hover {\n",
       "      background-color: #E2EBFA;\n",
       "      box-shadow: 0px 1px 2px rgba(60, 64, 67, 0.3), 0px 1px 3px 1px rgba(60, 64, 67, 0.15);\n",
       "      fill: #174EA6;\n",
       "    }\n",
       "\n",
       "    [theme=dark] .colab-df-convert {\n",
       "      background-color: #3B4455;\n",
       "      fill: #D2E3FC;\n",
       "    }\n",
       "\n",
       "    [theme=dark] .colab-df-convert:hover {\n",
       "      background-color: #434B5C;\n",
       "      box-shadow: 0px 1px 3px 1px rgba(0, 0, 0, 0.15);\n",
       "      filter: drop-shadow(0px 1px 2px rgba(0, 0, 0, 0.3));\n",
       "      fill: #FFFFFF;\n",
       "    }\n",
       "  </style>\n",
       "\n",
       "      <script>\n",
       "        const buttonEl =\n",
       "          document.querySelector('#df-df98e037-c415-4550-bd5f-e98e052c1fe6 button.colab-df-convert');\n",
       "        buttonEl.style.display =\n",
       "          google.colab.kernel.accessAllowed ? 'block' : 'none';\n",
       "\n",
       "        async function convertToInteractive(key) {\n",
       "          const element = document.querySelector('#df-df98e037-c415-4550-bd5f-e98e052c1fe6');\n",
       "          const dataTable =\n",
       "            await google.colab.kernel.invokeFunction('convertToInteractive',\n",
       "                                                     [key], {});\n",
       "          if (!dataTable) return;\n",
       "\n",
       "          const docLinkHtml = 'Like what you see? Visit the ' +\n",
       "            '<a target=\"_blank\" href=https://colab.research.google.com/notebooks/data_table.ipynb>data table notebook</a>'\n",
       "            + ' to learn more about interactive tables.';\n",
       "          element.innerHTML = '';\n",
       "          dataTable['output_type'] = 'display_data';\n",
       "          await google.colab.output.renderOutput(dataTable, element);\n",
       "          const docLink = document.createElement('div');\n",
       "          docLink.innerHTML = docLinkHtml;\n",
       "          element.appendChild(docLink);\n",
       "        }\n",
       "      </script>\n",
       "    </div>\n",
       "  </div>\n",
       "  "
      ],
      "text/plain": [
       "      qid                                   query\n",
       "0  402111           работа фотографом в австралии\n",
       "1  405851            производительность видеокарт\n",
       "2  407522  ёлочные игрушки из пластиковых бутылок"
      ]
     },
     "execution_count": 13,
     "metadata": {},
     "output_type": "execute_result"
    }
   ],
   "source": [
    "qid_query.head(3) #  id запроса и текст запроса, разделённые табуляцией"
   ]
  },
  {
   "cell_type": "code",
   "execution_count": 14,
   "id": "GCB1NRYQ129r",
   "metadata": {
    "colab": {
     "base_uri": "https://localhost:8080/",
     "height": 143
    },
    "id": "GCB1NRYQ129r",
    "outputId": "1b68fe31-45db-49d9-d50a-a23ec069d904"
   },
   "outputs": [
    {
     "data": {
      "text/html": [
       "\n",
       "  <div id=\"df-30f18beb-ee71-459b-983a-0ad74d0c26d3\">\n",
       "    <div class=\"colab-df-container\">\n",
       "      <div>\n",
       "<style scoped>\n",
       "    .dataframe tbody tr th:only-of-type {\n",
       "        vertical-align: middle;\n",
       "    }\n",
       "\n",
       "    .dataframe tbody tr th {\n",
       "        vertical-align: top;\n",
       "    }\n",
       "\n",
       "    .dataframe thead th {\n",
       "        text-align: right;\n",
       "    }\n",
       "</style>\n",
       "<table border=\"1\" class=\"dataframe\">\n",
       "  <thead>\n",
       "    <tr style=\"text-align: right;\">\n",
       "      <th></th>\n",
       "      <th>qid</th>\n",
       "      <th>url</th>\n",
       "      <th>rating</th>\n",
       "    </tr>\n",
       "  </thead>\n",
       "  <tbody>\n",
       "    <tr>\n",
       "      <th>0</th>\n",
       "      <td>402111</td>\n",
       "      <td>http://24-job.com/board/job_australia/232-1-2-...</td>\n",
       "      <td>0.07</td>\n",
       "    </tr>\n",
       "    <tr>\n",
       "      <th>1</th>\n",
       "      <td>402111</td>\n",
       "      <td>http://24-job.com/board/job_australia/232-1-2-...</td>\n",
       "      <td>0.07</td>\n",
       "    </tr>\n",
       "    <tr>\n",
       "      <th>2</th>\n",
       "      <td>402111</td>\n",
       "      <td>http://802351.info/5964-v-avstralii.html</td>\n",
       "      <td>0.00</td>\n",
       "    </tr>\n",
       "  </tbody>\n",
       "</table>\n",
       "</div>\n",
       "      <button class=\"colab-df-convert\" onclick=\"convertToInteractive('df-30f18beb-ee71-459b-983a-0ad74d0c26d3')\"\n",
       "              title=\"Convert this dataframe to an interactive table.\"\n",
       "              style=\"display:none;\">\n",
       "        \n",
       "  <svg xmlns=\"http://www.w3.org/2000/svg\" height=\"24px\"viewBox=\"0 0 24 24\"\n",
       "       width=\"24px\">\n",
       "    <path d=\"M0 0h24v24H0V0z\" fill=\"none\"/>\n",
       "    <path d=\"M18.56 5.44l.94 2.06.94-2.06 2.06-.94-2.06-.94-.94-2.06-.94 2.06-2.06.94zm-11 1L8.5 8.5l.94-2.06 2.06-.94-2.06-.94L8.5 2.5l-.94 2.06-2.06.94zm10 10l.94 2.06.94-2.06 2.06-.94-2.06-.94-.94-2.06-.94 2.06-2.06.94z\"/><path d=\"M17.41 7.96l-1.37-1.37c-.4-.4-.92-.59-1.43-.59-.52 0-1.04.2-1.43.59L10.3 9.45l-7.72 7.72c-.78.78-.78 2.05 0 2.83L4 21.41c.39.39.9.59 1.41.59.51 0 1.02-.2 1.41-.59l7.78-7.78 2.81-2.81c.8-.78.8-2.07 0-2.86zM5.41 20L4 18.59l7.72-7.72 1.47 1.35L5.41 20z\"/>\n",
       "  </svg>\n",
       "      </button>\n",
       "      \n",
       "  <style>\n",
       "    .colab-df-container {\n",
       "      display:flex;\n",
       "      flex-wrap:wrap;\n",
       "      gap: 12px;\n",
       "    }\n",
       "\n",
       "    .colab-df-convert {\n",
       "      background-color: #E8F0FE;\n",
       "      border: none;\n",
       "      border-radius: 50%;\n",
       "      cursor: pointer;\n",
       "      display: none;\n",
       "      fill: #1967D2;\n",
       "      height: 32px;\n",
       "      padding: 0 0 0 0;\n",
       "      width: 32px;\n",
       "    }\n",
       "\n",
       "    .colab-df-convert:hover {\n",
       "      background-color: #E2EBFA;\n",
       "      box-shadow: 0px 1px 2px rgba(60, 64, 67, 0.3), 0px 1px 3px 1px rgba(60, 64, 67, 0.15);\n",
       "      fill: #174EA6;\n",
       "    }\n",
       "\n",
       "    [theme=dark] .colab-df-convert {\n",
       "      background-color: #3B4455;\n",
       "      fill: #D2E3FC;\n",
       "    }\n",
       "\n",
       "    [theme=dark] .colab-df-convert:hover {\n",
       "      background-color: #434B5C;\n",
       "      box-shadow: 0px 1px 3px 1px rgba(0, 0, 0, 0.15);\n",
       "      filter: drop-shadow(0px 1px 2px rgba(0, 0, 0, 0.3));\n",
       "      fill: #FFFFFF;\n",
       "    }\n",
       "  </style>\n",
       "\n",
       "      <script>\n",
       "        const buttonEl =\n",
       "          document.querySelector('#df-30f18beb-ee71-459b-983a-0ad74d0c26d3 button.colab-df-convert');\n",
       "        buttonEl.style.display =\n",
       "          google.colab.kernel.accessAllowed ? 'block' : 'none';\n",
       "\n",
       "        async function convertToInteractive(key) {\n",
       "          const element = document.querySelector('#df-30f18beb-ee71-459b-983a-0ad74d0c26d3');\n",
       "          const dataTable =\n",
       "            await google.colab.kernel.invokeFunction('convertToInteractive',\n",
       "                                                     [key], {});\n",
       "          if (!dataTable) return;\n",
       "\n",
       "          const docLinkHtml = 'Like what you see? Visit the ' +\n",
       "            '<a target=\"_blank\" href=https://colab.research.google.com/notebooks/data_table.ipynb>data table notebook</a>'\n",
       "            + ' to learn more about interactive tables.';\n",
       "          element.innerHTML = '';\n",
       "          dataTable['output_type'] = 'display_data';\n",
       "          await google.colab.output.renderOutput(dataTable, element);\n",
       "          const docLink = document.createElement('div');\n",
       "          docLink.innerHTML = docLinkHtml;\n",
       "          element.appendChild(docLink);\n",
       "        }\n",
       "      </script>\n",
       "    </div>\n",
       "  </div>\n",
       "  "
      ],
      "text/plain": [
       "      qid                                                url  rating\n",
       "0  402111  http://24-job.com/board/job_australia/232-1-2-...    0.07\n",
       "1  402111  http://24-job.com/board/job_australia/232-1-2-...    0.07\n",
       "2  402111           http://802351.info/5964-v-avstralii.html    0.00"
      ]
     },
     "execution_count": 14,
     "metadata": {},
     "output_type": "execute_result"
    }
   ],
   "source": [
    "qid_url_rating.head(3) # id запроса, URL документа, релевантность документа запросу"
   ]
  },
  {
   "cell_type": "code",
   "execution_count": 15,
   "id": "ULV7OwoH19Ub",
   "metadata": {
    "colab": {
     "base_uri": "https://localhost:8080/",
     "height": 143
    },
    "id": "ULV7OwoH19Ub",
    "outputId": "910f0f9c-73da-40a7-84ba-5ba6b68785ab"
   },
   "outputs": [
    {
     "data": {
      "text/html": [
       "\n",
       "  <div id=\"df-1bf8f125-8260-46d4-b168-f2786dc1690f\">\n",
       "    <div class=\"colab-df-container\">\n",
       "      <div>\n",
       "<style scoped>\n",
       "    .dataframe tbody tr th:only-of-type {\n",
       "        vertical-align: middle;\n",
       "    }\n",
       "\n",
       "    .dataframe tbody tr th {\n",
       "        vertical-align: top;\n",
       "    }\n",
       "\n",
       "    .dataframe thead th {\n",
       "        text-align: right;\n",
       "    }\n",
       "</style>\n",
       "<table border=\"1\" class=\"dataframe\">\n",
       "  <thead>\n",
       "    <tr style=\"text-align: right;\">\n",
       "      <th></th>\n",
       "      <th>hostid</th>\n",
       "      <th>url</th>\n",
       "    </tr>\n",
       "  </thead>\n",
       "  <tbody>\n",
       "    <tr>\n",
       "      <th>0</th>\n",
       "      <td>1</td>\n",
       "      <td>http://09spravki.ru/requisites.php</td>\n",
       "    </tr>\n",
       "    <tr>\n",
       "      <th>1</th>\n",
       "      <td>10</td>\n",
       "      <td>http://3pu.info/seo-tools/domains</td>\n",
       "    </tr>\n",
       "    <tr>\n",
       "      <th>2</th>\n",
       "      <td>1006</td>\n",
       "      <td>http://www.priroda.su/item/820</td>\n",
       "    </tr>\n",
       "  </tbody>\n",
       "</table>\n",
       "</div>\n",
       "      <button class=\"colab-df-convert\" onclick=\"convertToInteractive('df-1bf8f125-8260-46d4-b168-f2786dc1690f')\"\n",
       "              title=\"Convert this dataframe to an interactive table.\"\n",
       "              style=\"display:none;\">\n",
       "        \n",
       "  <svg xmlns=\"http://www.w3.org/2000/svg\" height=\"24px\"viewBox=\"0 0 24 24\"\n",
       "       width=\"24px\">\n",
       "    <path d=\"M0 0h24v24H0V0z\" fill=\"none\"/>\n",
       "    <path d=\"M18.56 5.44l.94 2.06.94-2.06 2.06-.94-2.06-.94-.94-2.06-.94 2.06-2.06.94zm-11 1L8.5 8.5l.94-2.06 2.06-.94-2.06-.94L8.5 2.5l-.94 2.06-2.06.94zm10 10l.94 2.06.94-2.06 2.06-.94-2.06-.94-.94-2.06-.94 2.06-2.06.94z\"/><path d=\"M17.41 7.96l-1.37-1.37c-.4-.4-.92-.59-1.43-.59-.52 0-1.04.2-1.43.59L10.3 9.45l-7.72 7.72c-.78.78-.78 2.05 0 2.83L4 21.41c.39.39.9.59 1.41.59.51 0 1.02-.2 1.41-.59l7.78-7.78 2.81-2.81c.8-.78.8-2.07 0-2.86zM5.41 20L4 18.59l7.72-7.72 1.47 1.35L5.41 20z\"/>\n",
       "  </svg>\n",
       "      </button>\n",
       "      \n",
       "  <style>\n",
       "    .colab-df-container {\n",
       "      display:flex;\n",
       "      flex-wrap:wrap;\n",
       "      gap: 12px;\n",
       "    }\n",
       "\n",
       "    .colab-df-convert {\n",
       "      background-color: #E8F0FE;\n",
       "      border: none;\n",
       "      border-radius: 50%;\n",
       "      cursor: pointer;\n",
       "      display: none;\n",
       "      fill: #1967D2;\n",
       "      height: 32px;\n",
       "      padding: 0 0 0 0;\n",
       "      width: 32px;\n",
       "    }\n",
       "\n",
       "    .colab-df-convert:hover {\n",
       "      background-color: #E2EBFA;\n",
       "      box-shadow: 0px 1px 2px rgba(60, 64, 67, 0.3), 0px 1px 3px 1px rgba(60, 64, 67, 0.15);\n",
       "      fill: #174EA6;\n",
       "    }\n",
       "\n",
       "    [theme=dark] .colab-df-convert {\n",
       "      background-color: #3B4455;\n",
       "      fill: #D2E3FC;\n",
       "    }\n",
       "\n",
       "    [theme=dark] .colab-df-convert:hover {\n",
       "      background-color: #434B5C;\n",
       "      box-shadow: 0px 1px 3px 1px rgba(0, 0, 0, 0.15);\n",
       "      filter: drop-shadow(0px 1px 2px rgba(0, 0, 0, 0.3));\n",
       "      fill: #FFFFFF;\n",
       "    }\n",
       "  </style>\n",
       "\n",
       "      <script>\n",
       "        const buttonEl =\n",
       "          document.querySelector('#df-1bf8f125-8260-46d4-b168-f2786dc1690f button.colab-df-convert');\n",
       "        buttonEl.style.display =\n",
       "          google.colab.kernel.accessAllowed ? 'block' : 'none';\n",
       "\n",
       "        async function convertToInteractive(key) {\n",
       "          const element = document.querySelector('#df-1bf8f125-8260-46d4-b168-f2786dc1690f');\n",
       "          const dataTable =\n",
       "            await google.colab.kernel.invokeFunction('convertToInteractive',\n",
       "                                                     [key], {});\n",
       "          if (!dataTable) return;\n",
       "\n",
       "          const docLinkHtml = 'Like what you see? Visit the ' +\n",
       "            '<a target=\"_blank\" href=https://colab.research.google.com/notebooks/data_table.ipynb>data table notebook</a>'\n",
       "            + ' to learn more about interactive tables.';\n",
       "          element.innerHTML = '';\n",
       "          dataTable['output_type'] = 'display_data';\n",
       "          await google.colab.output.renderOutput(dataTable, element);\n",
       "          const docLink = document.createElement('div');\n",
       "          docLink.innerHTML = docLinkHtml;\n",
       "          element.appendChild(docLink);\n",
       "        }\n",
       "      </script>\n",
       "    </div>\n",
       "  </div>\n",
       "  "
      ],
      "text/plain": [
       "   hostid                                 url\n",
       "0       1  http://09spravki.ru/requisites.php\n",
       "1      10   http://3pu.info/seo-tools/domains\n",
       "2    1006      http://www.priroda.su/item/820"
      ]
     },
     "execution_count": 15,
     "metadata": {},
     "output_type": "execute_result"
    }
   ],
   "source": [
    "hostid_url.head(3) # id хоста и URL документа"
   ]
  },
  {
   "cell_type": "code",
   "execution_count": 16,
   "id": "Hz1QAVd02NJX",
   "metadata": {
    "colab": {
     "base_uri": "https://localhost:8080/",
     "height": 143
    },
    "id": "Hz1QAVd02NJX",
    "outputId": "b0864edc-8d8f-4872-fe67-fcd910a702b6"
   },
   "outputs": [
    {
     "data": {
      "text/html": [
       "\n",
       "  <div id=\"df-98c73855-4140-4815-86b8-c9b8edd52226\">\n",
       "    <div class=\"colab-df-container\">\n",
       "      <div>\n",
       "<style scoped>\n",
       "    .dataframe tbody tr th:only-of-type {\n",
       "        vertical-align: middle;\n",
       "    }\n",
       "\n",
       "    .dataframe tbody tr th {\n",
       "        vertical-align: top;\n",
       "    }\n",
       "\n",
       "    .dataframe thead th {\n",
       "        text-align: right;\n",
       "    }\n",
       "</style>\n",
       "<table border=\"1\" class=\"dataframe\">\n",
       "  <thead>\n",
       "    <tr style=\"text-align: right;\">\n",
       "      <th></th>\n",
       "      <th>qid</th>\n",
       "      <th>url</th>\n",
       "      <th>rating</th>\n",
       "      <th>hostid</th>\n",
       "    </tr>\n",
       "  </thead>\n",
       "  <tbody>\n",
       "    <tr>\n",
       "      <th>0</th>\n",
       "      <td>402111</td>\n",
       "      <td>http://24-job.com/board/job_australia/232-1-2-...</td>\n",
       "      <td>0.07</td>\n",
       "      <td>7</td>\n",
       "    </tr>\n",
       "    <tr>\n",
       "      <th>1</th>\n",
       "      <td>402111</td>\n",
       "      <td>http://24-job.com/board/job_australia/232-1-2-...</td>\n",
       "      <td>0.07</td>\n",
       "      <td>7</td>\n",
       "    </tr>\n",
       "    <tr>\n",
       "      <th>2</th>\n",
       "      <td>402111</td>\n",
       "      <td>http://802351.info/5964-v-avstralii.html</td>\n",
       "      <td>0.00</td>\n",
       "      <td>13</td>\n",
       "    </tr>\n",
       "  </tbody>\n",
       "</table>\n",
       "</div>\n",
       "      <button class=\"colab-df-convert\" onclick=\"convertToInteractive('df-98c73855-4140-4815-86b8-c9b8edd52226')\"\n",
       "              title=\"Convert this dataframe to an interactive table.\"\n",
       "              style=\"display:none;\">\n",
       "        \n",
       "  <svg xmlns=\"http://www.w3.org/2000/svg\" height=\"24px\"viewBox=\"0 0 24 24\"\n",
       "       width=\"24px\">\n",
       "    <path d=\"M0 0h24v24H0V0z\" fill=\"none\"/>\n",
       "    <path d=\"M18.56 5.44l.94 2.06.94-2.06 2.06-.94-2.06-.94-.94-2.06-.94 2.06-2.06.94zm-11 1L8.5 8.5l.94-2.06 2.06-.94-2.06-.94L8.5 2.5l-.94 2.06-2.06.94zm10 10l.94 2.06.94-2.06 2.06-.94-2.06-.94-.94-2.06-.94 2.06-2.06.94z\"/><path d=\"M17.41 7.96l-1.37-1.37c-.4-.4-.92-.59-1.43-.59-.52 0-1.04.2-1.43.59L10.3 9.45l-7.72 7.72c-.78.78-.78 2.05 0 2.83L4 21.41c.39.39.9.59 1.41.59.51 0 1.02-.2 1.41-.59l7.78-7.78 2.81-2.81c.8-.78.8-2.07 0-2.86zM5.41 20L4 18.59l7.72-7.72 1.47 1.35L5.41 20z\"/>\n",
       "  </svg>\n",
       "      </button>\n",
       "      \n",
       "  <style>\n",
       "    .colab-df-container {\n",
       "      display:flex;\n",
       "      flex-wrap:wrap;\n",
       "      gap: 12px;\n",
       "    }\n",
       "\n",
       "    .colab-df-convert {\n",
       "      background-color: #E8F0FE;\n",
       "      border: none;\n",
       "      border-radius: 50%;\n",
       "      cursor: pointer;\n",
       "      display: none;\n",
       "      fill: #1967D2;\n",
       "      height: 32px;\n",
       "      padding: 0 0 0 0;\n",
       "      width: 32px;\n",
       "    }\n",
       "\n",
       "    .colab-df-convert:hover {\n",
       "      background-color: #E2EBFA;\n",
       "      box-shadow: 0px 1px 2px rgba(60, 64, 67, 0.3), 0px 1px 3px 1px rgba(60, 64, 67, 0.15);\n",
       "      fill: #174EA6;\n",
       "    }\n",
       "\n",
       "    [theme=dark] .colab-df-convert {\n",
       "      background-color: #3B4455;\n",
       "      fill: #D2E3FC;\n",
       "    }\n",
       "\n",
       "    [theme=dark] .colab-df-convert:hover {\n",
       "      background-color: #434B5C;\n",
       "      box-shadow: 0px 1px 3px 1px rgba(0, 0, 0, 0.15);\n",
       "      filter: drop-shadow(0px 1px 2px rgba(0, 0, 0, 0.3));\n",
       "      fill: #FFFFFF;\n",
       "    }\n",
       "  </style>\n",
       "\n",
       "      <script>\n",
       "        const buttonEl =\n",
       "          document.querySelector('#df-98c73855-4140-4815-86b8-c9b8edd52226 button.colab-df-convert');\n",
       "        buttonEl.style.display =\n",
       "          google.colab.kernel.accessAllowed ? 'block' : 'none';\n",
       "\n",
       "        async function convertToInteractive(key) {\n",
       "          const element = document.querySelector('#df-98c73855-4140-4815-86b8-c9b8edd52226');\n",
       "          const dataTable =\n",
       "            await google.colab.kernel.invokeFunction('convertToInteractive',\n",
       "                                                     [key], {});\n",
       "          if (!dataTable) return;\n",
       "\n",
       "          const docLinkHtml = 'Like what you see? Visit the ' +\n",
       "            '<a target=\"_blank\" href=https://colab.research.google.com/notebooks/data_table.ipynb>data table notebook</a>'\n",
       "            + ' to learn more about interactive tables.';\n",
       "          element.innerHTML = '';\n",
       "          dataTable['output_type'] = 'display_data';\n",
       "          await google.colab.output.renderOutput(dataTable, element);\n",
       "          const docLink = document.createElement('div');\n",
       "          docLink.innerHTML = docLinkHtml;\n",
       "          element.appendChild(docLink);\n",
       "        }\n",
       "      </script>\n",
       "    </div>\n",
       "  </div>\n",
       "  "
      ],
      "text/plain": [
       "      qid                                                url  rating  hostid\n",
       "0  402111  http://24-job.com/board/job_australia/232-1-2-...    0.07       7\n",
       "1  402111  http://24-job.com/board/job_australia/232-1-2-...    0.07       7\n",
       "2  402111           http://802351.info/5964-v-avstralii.html    0.00      13"
      ]
     },
     "execution_count": 16,
     "metadata": {},
     "output_type": "execute_result"
    }
   ],
   "source": [
    "qid_url_rating_hostid.head(3)"
   ]
  },
  {
   "cell_type": "code",
   "execution_count": 17,
   "id": "T4xvMnuz0Zwq",
   "metadata": {
    "colab": {
     "base_uri": "https://localhost:8080/",
     "height": 81
    },
    "id": "T4xvMnuz0Zwq",
    "outputId": "b4efc4d3-6107-4428-defc-1cbd3a4262db"
   },
   "outputs": [
    {
     "data": {
      "text/html": [
       "\n",
       "  <div id=\"df-9e10d3d9-159a-4ca8-a784-9b8dee6bae8b\">\n",
       "    <div class=\"colab-df-container\">\n",
       "      <div>\n",
       "<style scoped>\n",
       "    .dataframe tbody tr th:only-of-type {\n",
       "        vertical-align: middle;\n",
       "    }\n",
       "\n",
       "    .dataframe tbody tr th {\n",
       "        vertical-align: top;\n",
       "    }\n",
       "\n",
       "    .dataframe thead th {\n",
       "        text-align: right;\n",
       "    }\n",
       "</style>\n",
       "<table border=\"1\" class=\"dataframe\">\n",
       "  <thead>\n",
       "    <tr style=\"text-align: right;\">\n",
       "      <th></th>\n",
       "      <th>qid</th>\n",
       "      <th>query</th>\n",
       "    </tr>\n",
       "  </thead>\n",
       "  <tbody>\n",
       "    <tr>\n",
       "      <th>14</th>\n",
       "      <td>692308</td>\n",
       "      <td>бесплатный просмотр камеди клаб</td>\n",
       "    </tr>\n",
       "  </tbody>\n",
       "</table>\n",
       "</div>\n",
       "      <button class=\"colab-df-convert\" onclick=\"convertToInteractive('df-9e10d3d9-159a-4ca8-a784-9b8dee6bae8b')\"\n",
       "              title=\"Convert this dataframe to an interactive table.\"\n",
       "              style=\"display:none;\">\n",
       "        \n",
       "  <svg xmlns=\"http://www.w3.org/2000/svg\" height=\"24px\"viewBox=\"0 0 24 24\"\n",
       "       width=\"24px\">\n",
       "    <path d=\"M0 0h24v24H0V0z\" fill=\"none\"/>\n",
       "    <path d=\"M18.56 5.44l.94 2.06.94-2.06 2.06-.94-2.06-.94-.94-2.06-.94 2.06-2.06.94zm-11 1L8.5 8.5l.94-2.06 2.06-.94-2.06-.94L8.5 2.5l-.94 2.06-2.06.94zm10 10l.94 2.06.94-2.06 2.06-.94-2.06-.94-.94-2.06-.94 2.06-2.06.94z\"/><path d=\"M17.41 7.96l-1.37-1.37c-.4-.4-.92-.59-1.43-.59-.52 0-1.04.2-1.43.59L10.3 9.45l-7.72 7.72c-.78.78-.78 2.05 0 2.83L4 21.41c.39.39.9.59 1.41.59.51 0 1.02-.2 1.41-.59l7.78-7.78 2.81-2.81c.8-.78.8-2.07 0-2.86zM5.41 20L4 18.59l7.72-7.72 1.47 1.35L5.41 20z\"/>\n",
       "  </svg>\n",
       "      </button>\n",
       "      \n",
       "  <style>\n",
       "    .colab-df-container {\n",
       "      display:flex;\n",
       "      flex-wrap:wrap;\n",
       "      gap: 12px;\n",
       "    }\n",
       "\n",
       "    .colab-df-convert {\n",
       "      background-color: #E8F0FE;\n",
       "      border: none;\n",
       "      border-radius: 50%;\n",
       "      cursor: pointer;\n",
       "      display: none;\n",
       "      fill: #1967D2;\n",
       "      height: 32px;\n",
       "      padding: 0 0 0 0;\n",
       "      width: 32px;\n",
       "    }\n",
       "\n",
       "    .colab-df-convert:hover {\n",
       "      background-color: #E2EBFA;\n",
       "      box-shadow: 0px 1px 2px rgba(60, 64, 67, 0.3), 0px 1px 3px 1px rgba(60, 64, 67, 0.15);\n",
       "      fill: #174EA6;\n",
       "    }\n",
       "\n",
       "    [theme=dark] .colab-df-convert {\n",
       "      background-color: #3B4455;\n",
       "      fill: #D2E3FC;\n",
       "    }\n",
       "\n",
       "    [theme=dark] .colab-df-convert:hover {\n",
       "      background-color: #434B5C;\n",
       "      box-shadow: 0px 1px 3px 1px rgba(0, 0, 0, 0.15);\n",
       "      filter: drop-shadow(0px 1px 2px rgba(0, 0, 0, 0.3));\n",
       "      fill: #FFFFFF;\n",
       "    }\n",
       "  </style>\n",
       "\n",
       "      <script>\n",
       "        const buttonEl =\n",
       "          document.querySelector('#df-9e10d3d9-159a-4ca8-a784-9b8dee6bae8b button.colab-df-convert');\n",
       "        buttonEl.style.display =\n",
       "          google.colab.kernel.accessAllowed ? 'block' : 'none';\n",
       "\n",
       "        async function convertToInteractive(key) {\n",
       "          const element = document.querySelector('#df-9e10d3d9-159a-4ca8-a784-9b8dee6bae8b');\n",
       "          const dataTable =\n",
       "            await google.colab.kernel.invokeFunction('convertToInteractive',\n",
       "                                                     [key], {});\n",
       "          if (!dataTable) return;\n",
       "\n",
       "          const docLinkHtml = 'Like what you see? Visit the ' +\n",
       "            '<a target=\"_blank\" href=https://colab.research.google.com/notebooks/data_table.ipynb>data table notebook</a>'\n",
       "            + ' to learn more about interactive tables.';\n",
       "          element.innerHTML = '';\n",
       "          dataTable['output_type'] = 'display_data';\n",
       "          await google.colab.output.renderOutput(dataTable, element);\n",
       "          const docLink = document.createElement('div');\n",
       "          docLink.innerHTML = docLinkHtml;\n",
       "          element.appendChild(docLink);\n",
       "        }\n",
       "      </script>\n",
       "    </div>\n",
       "  </div>\n",
       "  "
      ],
      "text/plain": [
       "       qid                            query\n",
       "14  692308  бесплатный просмотр камеди клаб"
      ]
     },
     "execution_count": 17,
     "metadata": {},
     "output_type": "execute_result"
    }
   ],
   "source": [
    "def plook(ind, rels):\n",
    "    if ind == 0:\n",
    "        return 1\n",
    "    return plook(ind-1, rels)*(1-rels[ind-1])*(1-0.15)\n",
    "\n",
    "\n",
    "def pfound(group):\n",
    "    max_by_host = group.groupby(\"hostid\")[\"rating\"].max() # Максимальный рейтинг хоста\n",
    "    top10 = max_by_host.sort_values(ascending=False)[:10] # Берем топ10 урлов с наивысшим рейтингом\n",
    "    pfound = 0\n",
    "    for ind, val in enumerate(top10):\n",
    "        pfound += val*plook(ind, top10.values)\n",
    "    return pfound\n",
    "\n",
    "\n",
    "qid_pfound = qid_url_rating_hostid.groupby('qid').apply(pfound) # Группируем по qid и вычисляем pfound\n",
    "qid_max = qid_pfound.idxmax() # Берем qid с максимальным pfound\n",
    "\n",
    "qid_query[qid_query[\"qid\"] == qid_max]"
   ]
  },
  {
   "cell_type": "code",
   "execution_count": 18,
   "id": "ZTk7XIe91ZVZ",
   "metadata": {
    "colab": {
     "base_uri": "https://localhost:8080/"
    },
    "id": "ZTk7XIe91ZVZ",
    "outputId": "59fd5457-8c49-430b-8ee8-a84b788517b6"
   },
   "outputs": [
    {
     "name": "stdout",
     "output_type": "stream",
     "text": [
      "Средний pFound по всем query (расчет с сайта): 0.5822199638393889\n"
     ]
    }
   ],
   "source": [
    "avg_pfound_original = qid_pfound.mean()\n",
    "print(f'Средний pFound по всем query (расчет с сайта): {avg_pfound_original}')"
   ]
  },
  {
   "cell_type": "code",
   "execution_count": 19,
   "id": "LeN-TuSS8Uay",
   "metadata": {
    "id": "LeN-TuSS8Uay"
   },
   "outputs": [],
   "source": [
    "def fast_PFoundK(qid_url_rating_hostid, K=10, p_break=0.15):\n",
    "    \"\"\"\n",
    "    Подсчет метрики PFound@K\n",
    "    \"\"\"\n",
    "    # Получаем максимальный рейтинг для кажого url, и потом сортируем\n",
    "    max_by_host = qid_url_rating_hostid.groupby(['qid', 'hostid'])['rating'].max().reset_index()\n",
    "    top = max_by_host.sort_values(['qid', 'rating'], ascending=False).groupby(['qid']).head(K)\n",
    "\n",
    "    top['rank'] = top.groupby('qid').cumcount()  # Задаем порядок для отсортированного рейтинга\n",
    "    # Ниже идут вспомогательные операции для подсчета метрики\n",
    "    top['one_minus_rating'] = (1 - top['rating']).shift(1)\n",
    "    top['p_break'] = 1 - p_break\n",
    "    top.loc[top['rank'] == 0, ['p_break', 'one_minus_rating']] = 1\n",
    "\n",
    "    top['temp_with_mult'] = top['one_minus_rating'] * top['p_break']\n",
    "\n",
    "    top['plook'] = top.groupby('qid')['temp_with_mult'].cumprod()\n",
    "    top['pfound'] = top['plook'] * top['rating']\n",
    "\n",
    "    pfound_qid = top.groupby('qid')['pfound'].sum() # Подсчет pFound\n",
    "    return pfound_qid.mean()"
   ]
  },
  {
   "cell_type": "markdown",
   "id": "_Ot2DpdI6AcQ",
   "metadata": {
    "id": "_Ot2DpdI6AcQ"
   },
   "source": []
  },
  {
   "cell_type": "code",
   "execution_count": 20,
   "id": "Si2vQPHc5PNl",
   "metadata": {
    "colab": {
     "base_uri": "https://localhost:8080/"
    },
    "id": "Si2vQPHc5PNl",
    "outputId": "a417b245-3857-4f09-f76d-32e2b0beb51a"
   },
   "outputs": [
    {
     "name": "stdout",
     "output_type": "stream",
     "text": [
      "0.5822199638393889\n"
     ]
    }
   ],
   "source": [
    "print(fast_PFoundK(qid_url_rating_hostid))"
   ]
  },
  {
   "cell_type": "markdown",
   "id": "nYVmjKUV0d5Y",
   "metadata": {
    "id": "nYVmjKUV0d5Y"
   },
   "source": [
    "##MRR"
   ]
  },
  {
   "cell_type": "markdown",
   "id": "T6wZXgsH92Q8",
   "metadata": {
    "id": "T6wZXgsH92Q8"
   },
   "source": [
    "### MRR\n",
    "Исходные данные - результат `generate_subsample`\n",
    "\n",
    "**Задача** - по аналогии с precision написать три версии функции подсчета Mean Reciprocal Rank (naive, numba, pandas) и протестировать на разных размерах выборки\n",
    "- Протестируйте для всех комбинаций (users_count, top_k):\n",
    "  - users_count - [100, 1000, 10000, 100000]\n",
    "  - top_k - [10, 50, 100]\n",
    "- Результатом тестирования должен быть график, где будут отражены следующие показатели:\n",
    "  - Алгоритм - naive, numba, pandas\n",
    "  - Скорость работы (время)\n",
    "  - users_count\n",
    "  - top_k"
   ]
  },
  {
   "cell_type": "code",
   "execution_count": 9,
   "id": "67fd43e9",
   "metadata": {
    "id": "67fd43e9"
   },
   "outputs": [],
   "source": [
    "# Генерация данных\n",
    "top_k = 10\n",
    "df, users, recs = generate_subsample(10000, top_k)\n",
    "target = df.values"
   ]
  },
  {
   "cell_type": "code",
   "execution_count": 46,
   "id": "SAP8GdMC93jv",
   "metadata": {
    "id": "SAP8GdMC93jv"
   },
   "outputs": [],
   "source": [
    "def mrr_pandas(df, users, recs, top_k):\n",
    "    # Формируем датасет\n",
    "    df_r = pd.DataFrame({\n",
    "        Columns.User: np.repeat(users, top_k), # Повторяем user_id к раз\n",
    "        Columns.Item: recs.ravel() # Вытягиваем все рекомендации в 1 общий массив\n",
    "    })\n",
    "    # Составляем ранги\n",
    "    df_r[Columns.Rank] = df_r.groupby(Columns.User).cumcount() + 1\n",
    "    # Делаем джоин, чтобы понять ранги рекомендаций, которые были предсказаны верно\n",
    "    df_r = df_r.merge(df, how='right', left_on=Columns.UserItem,\n",
    "                      right_on=Columns.UserItem)\n",
    "    # 1/rank(i)\n",
    "    df_r['revert_rank'] =  1 / df_r[Columns.Rank]\n",
    "    # Заполняем нулями пропуски\n",
    "    df_r['revert_rank'] = df_r['revert_rank'].fillna(0)\n",
    "    # Считаем итоговую формулу\n",
    "    mrr = df_r['revert_rank'].sum() / (top_k * len(users))\n",
    "    return mrr"
   ]
  },
  {
   "cell_type": "code",
   "execution_count": 47,
   "id": "4ef580d4",
   "metadata": {
    "colab": {
     "base_uri": "https://localhost:8080/"
    },
    "id": "4ef580d4",
    "outputId": "a5fdb63f-6adc-43b3-a6da-3e658c93e154"
   },
   "outputs": [
    {
     "data": {
      "text/plain": [
       "0.008886333333333333"
      ]
     },
     "execution_count": 47,
     "metadata": {},
     "output_type": "execute_result"
    }
   ],
   "source": [
    "mrr_pandas(df, users, recs, 10)"
   ]
  },
  {
   "cell_type": "code",
   "execution_count": 48,
   "id": "98deb1be",
   "metadata": {
    "id": "98deb1be"
   },
   "outputs": [],
   "source": [
    "def mrr_naive(df, users, recs, k):\n",
    "    mrp = []\n",
    "    for i, j in enumerate(users):\n",
    "        mrp_value = 0\n",
    "        # Находим список item_id у юзера\n",
    "        user_target = list(df[df[Columns.User] == j][Columns.Item])\n",
    "        # Далее проходим по каждой рекомендации для юзера\n",
    "        for rank, rec in enumerate(recs[i]):\n",
    "            # Проверяем, взаимодействовал ли этот пользователь с рекомендацией\n",
    "            if rec in user_target:\n",
    "                # Если да, то делаем 1/rank и суммируем\n",
    "                mrp_value += 1 / (rank + 1)\n",
    "        mrp.append(mrp_value / k)\n",
    "\n",
    "    return sum(mrp) / len(users)"
   ]
  },
  {
   "cell_type": "code",
   "execution_count": 49,
   "id": "e68de750",
   "metadata": {
    "colab": {
     "base_uri": "https://localhost:8080/"
    },
    "id": "e68de750",
    "outputId": "5addf27a-bd08-4357-d263-77364bb242b4"
   },
   "outputs": [
    {
     "data": {
      "text/plain": [
       "0.004131396103896114"
      ]
     },
     "execution_count": 49,
     "metadata": {},
     "output_type": "execute_result"
    }
   ],
   "source": [
    "mrr_naive(df, users, recs, 10)"
   ]
  },
  {
   "cell_type": "code",
   "execution_count": 25,
   "id": "MyfBsXg6ENGE",
   "metadata": {
    "id": "MyfBsXg6ENGE"
   },
   "outputs": [],
   "source": [
    "@nb.njit(cache=True, parallel=True)\n",
    "def mrr_numba(target, users, recs, k):\n",
    "    mrp = np.zeros(len(users))\n",
    "    for i in nb.prange(len(users)):\n",
    "        mrp_value = 0\n",
    "        # Находим список item_id у юзера\n",
    "        user_target = target[target[:, 0] == users[i]][:, 1]\n",
    "        # Далее проходим по каждой рекомендации для юзера\n",
    "        for rank in nb.prange(len(recs[i])):\n",
    "          # Проверяем, взаимодействовал ли этот пользователь с рекомендацией\n",
    "            if  recs[i][rank] in user_target:\n",
    "                mrp_value += 1 / (rank + 1)\n",
    "        mrp[i] = mrp_value / k\n",
    "    return mrp.mean()"
   ]
  },
  {
   "cell_type": "code",
   "execution_count": null,
   "id": "78Cyx0-fEp-O",
   "metadata": {
    "colab": {
     "base_uri": "https://localhost:8080/"
    },
    "id": "78Cyx0-fEp-O",
    "outputId": "cb8fa5c8-772c-4f93-c32e-115be38ae645"
   },
   "outputs": [
    {
     "data": {
      "text/plain": [
       "0.00915422222222224"
      ]
     },
     "execution_count": 38,
     "metadata": {},
     "output_type": "execute_result"
    }
   ],
   "source": [
    "mrr_numba(target, users, recs, 10)"
   ]
  },
  {
   "cell_type": "code",
   "execution_count": null,
   "id": "D-hQDjU5GrEy",
   "metadata": {
    "id": "D-hQDjU5GrEy"
   },
   "outputs": [],
   "source": [
    "users_count = [100, 1000, 10000, 100000]\n",
    "top_k = [10, 50, 100]\n",
    "time_pandas = []\n",
    "time_naive = []\n",
    "time_numba = []\n",
    "for user in tqdm(users_count):\n",
    "  for k in top_k:\n",
    "    df, users, recs = generate_subsample(user, k)\n",
    "    target = df.values\n",
    "    start_time = time.time()\n",
    "    mrr_pandas(df, users, recs, k)\n",
    "    time_pandas.append((time.time() - start_time))\n",
    "    start_time = time.time()\n",
    "    mrr_naive(df, users, recs, k)\n",
    "    time_naive.append((time.time() - start_time))\n",
    "    start_time = time.time()\n",
    "    mrr_numba(target, users, recs, k)\n",
    "    time_numba.append((time.time() - start_time))"
   ]
  },
  {
   "cell_type": "code",
   "execution_count": 27,
   "id": "jOBPDHRiK56T",
   "metadata": {
    "colab": {
     "base_uri": "https://localhost:8080/"
    },
    "id": "jOBPDHRiK56T",
    "outputId": "574ea90a-e83b-48b4-dda4-39374778171d"
   },
   "outputs": [
    {
     "data": {
      "text/plain": [
       "[0.006612539291381836,\n",
       " 0.007052183151245117,\n",
       " 0.011492729187011719,\n",
       " 0.009406089782714844,\n",
       " 0.02314591407775879,\n",
       " 0.02467036247253418,\n",
       " 0.08337664604187012,\n",
       " 0.12069916725158691,\n",
       " 0.21112680435180664,\n",
       " 0.44942188262939453,\n",
       " 2.0020482540130615,\n",
       " 4.374759674072266]"
      ]
     },
     "execution_count": 27,
     "metadata": {},
     "output_type": "execute_result"
    }
   ],
   "source": [
    "time_pandas"
   ]
  },
  {
   "cell_type": "code",
   "execution_count": 28,
   "id": "aBzJ4RnGK7EK",
   "metadata": {
    "colab": {
     "base_uri": "https://localhost:8080/"
    },
    "id": "aBzJ4RnGK7EK",
    "outputId": "8c78a1fa-a3de-43d5-c2b6-073283320291"
   },
   "outputs": [
    {
     "data": {
      "text/plain": [
       "[0.037677764892578125,\n",
       " 0.04435467720031738,\n",
       " 0.05887031555175781,\n",
       " 0.4026973247528076,\n",
       " 0.47898054122924805,\n",
       " 0.6203315258026123,\n",
       " 6.508265256881714,\n",
       " 4.798636436462402,\n",
       " 5.278609991073608,\n",
       " 92.38966774940491,\n",
       " 95.74640965461731,\n",
       " 104.32804203033447]"
      ]
     },
     "execution_count": 28,
     "metadata": {},
     "output_type": "execute_result"
    }
   ],
   "source": [
    "time_naive"
   ]
  },
  {
   "cell_type": "code",
   "execution_count": 35,
   "id": "LJIWQ6_YLU4n",
   "metadata": {
    "colab": {
     "base_uri": "https://localhost:8080/"
    },
    "id": "LJIWQ6_YLU4n",
    "outputId": "7eed6947-984d-4834-b02a-1d58da4f5962"
   },
   "outputs": [
    {
     "data": {
      "text/plain": [
       "[0.000247757532131,\n",
       " 0.0003657341003417969,\n",
       " 0.004538297653198242,\n",
       " 0.011430025100708008,\n",
       " 0.011219501495361328,\n",
       " 0.05763840675354004,\n",
       " 1.0970313549041748,\n",
       " 1.1326920986175537,\n",
       " 1.121244192123413,\n",
       " 114.41677212715149,\n",
       " 115.22078323364258,\n",
       " 114.80799078941345]"
      ]
     },
     "execution_count": 35,
     "metadata": {},
     "output_type": "execute_result"
    }
   ],
   "source": [
    "time_numba"
   ]
  },
  {
   "cell_type": "code",
   "execution_count": 36,
   "id": "F8k44cqnVZfe",
   "metadata": {
    "id": "F8k44cqnVZfe"
   },
   "outputs": [],
   "source": [
    "# Возьмем логарифм времени, чтобы избавиться от больших значений\n",
    "time_naive_lg = np.log(np.array(time_naive)).reshape((4, 3))\n",
    "time_numba_lg = np.log(np.array(time_numba)).reshape((4, 3))"
   ]
  },
  {
   "cell_type": "code",
   "execution_count": 37,
   "id": "ZPbe-lyzQiUj",
   "metadata": {
    "colab": {
     "base_uri": "https://localhost:8080/",
     "height": 350
    },
    "id": "ZPbe-lyzQiUj",
    "outputId": "084d9e8e-ac37-4d8d-811b-31b1ef40ddc7"
   },
   "outputs": [
    {
     "data": {
      "image/png": "[encoded data removed]",
      "text/plain": [
       "<Figure size 1440x360 with 3 Axes>"
      ]
     },
     "metadata": {
      "needs_background": "light"
     },
     "output_type": "display_data"
    }
   ],
   "source": [
    "_, ax = plt.subplots(1,3, figsize=(20,5))\n",
    "for i in range(3):\n",
    "    ax[i].plot(users_count, time_naive_lg[:,i], label='Naive')\n",
    "    ax[i].plot(users_count, time_numba_lg[:,i], label='Numba')\n",
    "    ax[i].plot(users_count, time_pandas[:,i], label='Pandas')\n",
    "    ax[i].set_title(f'top_k {top_k[i]}')\n",
    "    ax[i].set_xlabel('users')\n",
    "    ax[i].set_ylabel('time (s)')\n",
    "    ax[i].set_ylim(0, 10)\n",
    "    ax[i].grid()\n",
    "    ax[i].legend()\n",
    "plt.show()\n"
   ]
  }
 ],
 "metadata": {
  "colab": {
   "provenance": []
  },
  "kernelspec": {
   "display_name": "Python 3 (ipykernel)",
   "language": "python",
   "name": "python3"
  },
  "language_info": {
   "codemirror_mode": {
    "name": "ipython",
    "version": 3
   },
   "file_extension": ".py",
   "mimetype": "text/x-python",
   "name": "python",
   "nbconvert_exporter": "python",
   "pygments_lexer": "ipython3",
   "version": "3.8.8"
  },
  "toc": {
   "base_numbering": 1,
   "nav_menu": {},
   "number_sections": true,
   "sideBar": true,
   "skip_h1_title": true,
   "title_cell": "Table of Contents",
   "title_sidebar": "Contents",
   "toc_cell": false,
   "toc_position": {
    "height": "calc(100% - 180px)",
    "left": "10px",
    "top": "150px",
    "width": "221px"
   },
   "toc_section_display": true,
   "toc_window_display": true
  }
 },
 "nbformat": 4,
 "nbformat_minor": 5
}
