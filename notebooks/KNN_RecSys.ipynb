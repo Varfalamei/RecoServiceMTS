{
  "nbformat": 4,
  "nbformat_minor": 0,
  "metadata": {
    "colab": {
      "provenance": []
    },
    "kernelspec": {
      "name": "python3",
      "display_name": "Python 3"
    },
    "language_info": {
      "name": "python"
    },
    "widgets": {
      "application/vnd.jupyter.widget-state+json": {
        "614e9d131f8644b38988fd3a4c97b330": {
          "model_module": "@jupyter-widgets/controls",
          "model_name": "HBoxModel",
          "model_module_version": "1.5.0",
          "state": {
            "_dom_classes": [],
            "_model_module": "@jupyter-widgets/controls",
            "_model_module_version": "1.5.0",
            "_model_name": "HBoxModel",
            "_view_count": null,
            "_view_module": "@jupyter-widgets/controls",
            "_view_module_version": "1.5.0",
            "_view_name": "HBoxView",
            "box_style": "",
            "children": [
              "IPY_MODEL_dd1e32b6f79f47a6967f93dc0cbddf0c",
              "IPY_MODEL_1e53694c6ee64d8c85911c2e84db14dd",
              "IPY_MODEL_248146df6ac64971aa9979bab6147ae2"
            ],
            "layout": "IPY_MODEL_f3e36b1f5b444f6cae3ae0031f8f4186"
          }
        },
        "dd1e32b6f79f47a6967f93dc0cbddf0c": {
          "model_module": "@jupyter-widgets/controls",
          "model_name": "HTMLModel",
          "model_module_version": "1.5.0",
          "state": {
            "_dom_classes": [],
            "_model_module": "@jupyter-widgets/controls",
            "_model_module_version": "1.5.0",
            "_model_name": "HTMLModel",
            "_view_count": null,
            "_view_module": "@jupyter-widgets/controls",
            "_view_module_version": "1.5.0",
            "_view_name": "HTMLView",
            "description": "",
            "description_tooltip": null,
            "layout": "IPY_MODEL_cb0c8083cf3a47049dcbf40a79c46a01",
            "placeholder": "​",
            "style": "IPY_MODEL_a6bd52f4f2a84b888061b12972d69f47",
            "value": "kion dataset download: 100%"
          }
        },
        "1e53694c6ee64d8c85911c2e84db14dd": {
          "model_module": "@jupyter-widgets/controls",
          "model_name": "FloatProgressModel",
          "model_module_version": "1.5.0",
          "state": {
            "_dom_classes": [],
            "_model_module": "@jupyter-widgets/controls",
            "_model_module_version": "1.5.0",
            "_model_name": "FloatProgressModel",
            "_view_count": null,
            "_view_module": "@jupyter-widgets/controls",
            "_view_module_version": "1.5.0",
            "_view_name": "ProgressView",
            "bar_style": "",
            "description": "",
            "description_tooltip": null,
            "layout": "IPY_MODEL_1dea3c535b9145bca7618133fefb468e",
            "max": 78795385,
            "min": 0,
            "orientation": "horizontal",
            "style": "IPY_MODEL_bc6116b60cf849e9a30f57d620da8a38",
            "value": 78795385
          }
        },
        "248146df6ac64971aa9979bab6147ae2": {
          "model_module": "@jupyter-widgets/controls",
          "model_name": "HTMLModel",
          "model_module_version": "1.5.0",
          "state": {
            "_dom_classes": [],
            "_model_module": "@jupyter-widgets/controls",
            "_model_module_version": "1.5.0",
            "_model_name": "HTMLModel",
            "_view_count": null,
            "_view_module": "@jupyter-widgets/controls",
            "_view_module_version": "1.5.0",
            "_view_name": "HTMLView",
            "description": "",
            "description_tooltip": null,
            "layout": "IPY_MODEL_4bff2df5381b4df3987fc8250fdfba41",
            "placeholder": "​",
            "style": "IPY_MODEL_dc2bccbe9f594e4380c6d8b0941f0763",
            "value": " 78.8M/78.8M [00:30&lt;00:00, 24.7MiB/s]"
          }
        },
        "f3e36b1f5b444f6cae3ae0031f8f4186": {
          "model_module": "@jupyter-widgets/base",
          "model_name": "LayoutModel",
          "model_module_version": "1.2.0",
          "state": {
            "_model_module": "@jupyter-widgets/base",
            "_model_module_version": "1.2.0",
            "_model_name": "LayoutModel",
            "_view_count": null,
            "_view_module": "@jupyter-widgets/base",
            "_view_module_version": "1.2.0",
            "_view_name": "LayoutView",
            "align_content": null,
            "align_items": null,
            "align_self": null,
            "border": null,
            "bottom": null,
            "display": null,
            "flex": null,
            "flex_flow": null,
            "grid_area": null,
            "grid_auto_columns": null,
            "grid_auto_flow": null,
            "grid_auto_rows": null,
            "grid_column": null,
            "grid_gap": null,
            "grid_row": null,
            "grid_template_areas": null,
            "grid_template_columns": null,
            "grid_template_rows": null,
            "height": null,
            "justify_content": null,
            "justify_items": null,
            "left": null,
            "margin": null,
            "max_height": null,
            "max_width": null,
            "min_height": null,
            "min_width": null,
            "object_fit": null,
            "object_position": null,
            "order": null,
            "overflow": null,
            "overflow_x": null,
            "overflow_y": null,
            "padding": null,
            "right": null,
            "top": null,
            "visibility": null,
            "width": null
          }
        },
        "cb0c8083cf3a47049dcbf40a79c46a01": {
          "model_module": "@jupyter-widgets/base",
          "model_name": "LayoutModel",
          "model_module_version": "1.2.0",
          "state": {
            "_model_module": "@jupyter-widgets/base",
            "_model_module_version": "1.2.0",
            "_model_name": "LayoutModel",
            "_view_count": null,
            "_view_module": "@jupyter-widgets/base",
            "_view_module_version": "1.2.0",
            "_view_name": "LayoutView",
            "align_content": null,
            "align_items": null,
            "align_self": null,
            "border": null,
            "bottom": null,
            "display": null,
            "flex": null,
            "flex_flow": null,
            "grid_area": null,
            "grid_auto_columns": null,
            "grid_auto_flow": null,
            "grid_auto_rows": null,
            "grid_column": null,
            "grid_gap": null,
            "grid_row": null,
            "grid_template_areas": null,
            "grid_template_columns": null,
            "grid_template_rows": null,
            "height": null,
            "justify_content": null,
            "justify_items": null,
            "left": null,
            "margin": null,
            "max_height": null,
            "max_width": null,
            "min_height": null,
            "min_width": null,
            "object_fit": null,
            "object_position": null,
            "order": null,
            "overflow": null,
            "overflow_x": null,
            "overflow_y": null,
            "padding": null,
            "right": null,
            "top": null,
            "visibility": null,
            "width": null
          }
        },
        "a6bd52f4f2a84b888061b12972d69f47": {
          "model_module": "@jupyter-widgets/controls",
          "model_name": "DescriptionStyleModel",
          "model_module_version": "1.5.0",
          "state": {
            "_model_module": "@jupyter-widgets/controls",
            "_model_module_version": "1.5.0",
            "_model_name": "DescriptionStyleModel",
            "_view_count": null,
            "_view_module": "@jupyter-widgets/base",
            "_view_module_version": "1.2.0",
            "_view_name": "StyleView",
            "description_width": ""
          }
        },
        "1dea3c535b9145bca7618133fefb468e": {
          "model_module": "@jupyter-widgets/base",
          "model_name": "LayoutModel",
          "model_module_version": "1.2.0",
          "state": {
            "_model_module": "@jupyter-widgets/base",
            "_model_module_version": "1.2.0",
            "_model_name": "LayoutModel",
            "_view_count": null,
            "_view_module": "@jupyter-widgets/base",
            "_view_module_version": "1.2.0",
            "_view_name": "LayoutView",
            "align_content": null,
            "align_items": null,
            "align_self": null,
            "border": null,
            "bottom": null,
            "display": null,
            "flex": null,
            "flex_flow": null,
            "grid_area": null,
            "grid_auto_columns": null,
            "grid_auto_flow": null,
            "grid_auto_rows": null,
            "grid_column": null,
            "grid_gap": null,
            "grid_row": null,
            "grid_template_areas": null,
            "grid_template_columns": null,
            "grid_template_rows": null,
            "height": null,
            "justify_content": null,
            "justify_items": null,
            "left": null,
            "margin": null,
            "max_height": null,
            "max_width": null,
            "min_height": null,
            "min_width": null,
            "object_fit": null,
            "object_position": null,
            "order": null,
            "overflow": null,
            "overflow_x": null,
            "overflow_y": null,
            "padding": null,
            "right": null,
            "top": null,
            "visibility": null,
            "width": null
          }
        },
        "bc6116b60cf849e9a30f57d620da8a38": {
          "model_module": "@jupyter-widgets/controls",
          "model_name": "ProgressStyleModel",
          "model_module_version": "1.5.0",
          "state": {
            "_model_module": "@jupyter-widgets/controls",
            "_model_module_version": "1.5.0",
            "_model_name": "ProgressStyleModel",
            "_view_count": null,
            "_view_module": "@jupyter-widgets/base",
            "_view_module_version": "1.2.0",
            "_view_name": "StyleView",
            "bar_color": null,
            "description_width": ""
          }
        },
        "4bff2df5381b4df3987fc8250fdfba41": {
          "model_module": "@jupyter-widgets/base",
          "model_name": "LayoutModel",
          "model_module_version": "1.2.0",
          "state": {
            "_model_module": "@jupyter-widgets/base",
            "_model_module_version": "1.2.0",
            "_model_name": "LayoutModel",
            "_view_count": null,
            "_view_module": "@jupyter-widgets/base",
            "_view_module_version": "1.2.0",
            "_view_name": "LayoutView",
            "align_content": null,
            "align_items": null,
            "align_self": null,
            "border": null,
            "bottom": null,
            "display": null,
            "flex": null,
            "flex_flow": null,
            "grid_area": null,
            "grid_auto_columns": null,
            "grid_auto_flow": null,
            "grid_auto_rows": null,
            "grid_column": null,
            "grid_gap": null,
            "grid_row": null,
            "grid_template_areas": null,
            "grid_template_columns": null,
            "grid_template_rows": null,
            "height": null,
            "justify_content": null,
            "justify_items": null,
            "left": null,
            "margin": null,
            "max_height": null,
            "max_width": null,
            "min_height": null,
            "min_width": null,
            "object_fit": null,
            "object_position": null,
            "order": null,
            "overflow": null,
            "overflow_x": null,
            "overflow_y": null,
            "padding": null,
            "right": null,
            "top": null,
            "visibility": null,
            "width": null
          }
        },
        "dc2bccbe9f594e4380c6d8b0941f0763": {
          "model_module": "@jupyter-widgets/controls",
          "model_name": "DescriptionStyleModel",
          "model_module_version": "1.5.0",
          "state": {
            "_model_module": "@jupyter-widgets/controls",
            "_model_module_version": "1.5.0",
            "_model_name": "DescriptionStyleModel",
            "_view_count": null,
            "_view_module": "@jupyter-widgets/base",
            "_view_module_version": "1.2.0",
            "_view_name": "StyleView",
            "description_width": ""
          }
        }
      }
    }
  },
  "cells": [
    {
      "cell_type": "code",
      "execution_count": 1,
      "metadata": {
        "colab": {
          "base_uri": "https://localhost:8080/"
        },
        "id": "MJ20YovJc4hZ",
        "outputId": "56430330-024b-4204-e0fa-00207f5d3b24"
      },
      "outputs": [
        {
          "output_type": "stream",
          "name": "stdout",
          "text": [
            "Looking in indexes: https://pypi.org/simple, https://us-python.pkg.dev/colab-wheels/public/simple/\n",
            "Collecting rectools==0.2.0\n",
            "  Downloading RecTools-0.2.0-py3-none-any.whl (86 kB)\n",
            "\u001b[K     |████████████████████████████████| 86 kB 2.4 MB/s \n",
            "\u001b[?25hRequirement already satisfied: typeguard<3.0.0,>=2.0.1 in /usr/local/lib/python3.7/dist-packages (from rectools==0.2.0) (2.7.1)\n",
            "Collecting implicit==0.4.4\n",
            "  Downloading implicit-0.4.4.tar.gz (1.1 MB)\n",
            "\u001b[K     |████████████████████████████████| 1.1 MB 44.2 MB/s \n",
            "\u001b[?25hRequirement already satisfied: pandas<2.0.0,>=0.25.3 in /usr/local/lib/python3.7/dist-packages (from rectools==0.2.0) (1.3.5)\n",
            "Collecting Markdown<3.3,>=3.2\n",
            "  Downloading Markdown-3.2.2-py3-none-any.whl (88 kB)\n",
            "\u001b[K     |████████████████████████████████| 88 kB 9.6 MB/s \n",
            "\u001b[?25hRequirement already satisfied: numpy<2.0.0,>=1.19.5 in /usr/local/lib/python3.7/dist-packages (from rectools==0.2.0) (1.21.6)\n",
            "Collecting attrs<22.0.0,>=19.1.0\n",
            "  Downloading attrs-21.4.0-py2.py3-none-any.whl (60 kB)\n",
            "\u001b[K     |████████████████████████████████| 60 kB 8.3 MB/s \n",
            "\u001b[?25hCollecting lightfm<2.0,>=1.16\n",
            "  Downloading lightfm-1.16.tar.gz (310 kB)\n",
            "\u001b[K     |████████████████████████████████| 310 kB 61.7 MB/s \n",
            "\u001b[?25hRequirement already satisfied: tqdm<5.0.0,>=4.27.0 in /usr/local/lib/python3.7/dist-packages (from rectools==0.2.0) (4.64.1)\n",
            "Requirement already satisfied: scipy<2.0.0,>=1.5.4 in /usr/local/lib/python3.7/dist-packages (from rectools==0.2.0) (1.7.3)\n",
            "Collecting nmslib<3.0.0,>=2.0.4\n",
            "  Downloading nmslib-2.1.1-cp37-cp37m-manylinux2010_x86_64.whl (13.5 MB)\n",
            "\u001b[K     |████████████████████████████████| 13.5 MB 47.9 MB/s \n",
            "\u001b[?25hRequirement already satisfied: requests in /usr/local/lib/python3.7/dist-packages (from lightfm<2.0,>=1.16->rectools==0.2.0) (2.23.0)\n",
            "Requirement already satisfied: scikit-learn in /usr/local/lib/python3.7/dist-packages (from lightfm<2.0,>=1.16->rectools==0.2.0) (1.0.2)\n",
            "Requirement already satisfied: importlib-metadata in /usr/local/lib/python3.7/dist-packages (from Markdown<3.3,>=3.2->rectools==0.2.0) (4.13.0)\n",
            "Requirement already satisfied: psutil in /usr/local/lib/python3.7/dist-packages (from nmslib<3.0.0,>=2.0.4->rectools==0.2.0) (5.4.8)\n",
            "Collecting pybind11<2.6.2\n",
            "  Downloading pybind11-2.6.1-py2.py3-none-any.whl (188 kB)\n",
            "\u001b[K     |████████████████████████████████| 188 kB 52.2 MB/s \n",
            "\u001b[?25hRequirement already satisfied: pytz>=2017.3 in /usr/local/lib/python3.7/dist-packages (from pandas<2.0.0,>=0.25.3->rectools==0.2.0) (2022.6)\n",
            "Requirement already satisfied: python-dateutil>=2.7.3 in /usr/local/lib/python3.7/dist-packages (from pandas<2.0.0,>=0.25.3->rectools==0.2.0) (2.8.2)\n",
            "Requirement already satisfied: six>=1.5 in /usr/local/lib/python3.7/dist-packages (from python-dateutil>=2.7.3->pandas<2.0.0,>=0.25.3->rectools==0.2.0) (1.15.0)\n",
            "Requirement already satisfied: zipp>=0.5 in /usr/local/lib/python3.7/dist-packages (from importlib-metadata->Markdown<3.3,>=3.2->rectools==0.2.0) (3.10.0)\n",
            "Requirement already satisfied: typing-extensions>=3.6.4 in /usr/local/lib/python3.7/dist-packages (from importlib-metadata->Markdown<3.3,>=3.2->rectools==0.2.0) (4.1.1)\n",
            "Requirement already satisfied: urllib3!=1.25.0,!=1.25.1,<1.26,>=1.21.1 in /usr/local/lib/python3.7/dist-packages (from requests->lightfm<2.0,>=1.16->rectools==0.2.0) (1.24.3)\n",
            "Requirement already satisfied: idna<3,>=2.5 in /usr/local/lib/python3.7/dist-packages (from requests->lightfm<2.0,>=1.16->rectools==0.2.0) (2.10)\n",
            "Requirement already satisfied: certifi>=2017.4.17 in /usr/local/lib/python3.7/dist-packages (from requests->lightfm<2.0,>=1.16->rectools==0.2.0) (2022.9.24)\n",
            "Requirement already satisfied: chardet<4,>=3.0.2 in /usr/local/lib/python3.7/dist-packages (from requests->lightfm<2.0,>=1.16->rectools==0.2.0) (3.0.4)\n",
            "Requirement already satisfied: threadpoolctl>=2.0.0 in /usr/local/lib/python3.7/dist-packages (from scikit-learn->lightfm<2.0,>=1.16->rectools==0.2.0) (3.1.0)\n",
            "Requirement already satisfied: joblib>=0.11 in /usr/local/lib/python3.7/dist-packages (from scikit-learn->lightfm<2.0,>=1.16->rectools==0.2.0) (1.2.0)\n",
            "Building wheels for collected packages: implicit, lightfm\n",
            "  Building wheel for implicit (setup.py) ... \u001b[?25l\u001b[?25hdone\n",
            "  Created wheel for implicit: filename=implicit-0.4.4-cp37-cp37m-linux_x86_64.whl size=3410991 sha256=45d4ddddbe9c9e78ee0c211f6f3f2ac72a98b2ef4db57ee2ce2b5bf6861a7ced\n",
            "  Stored in directory: /root/.cache/pip/wheels/44/7e/7d/a17324ea207cfbe76aca878b5b8ca0aa932cf55d163329be37\n",
            "  Building wheel for lightfm (setup.py) ... \u001b[?25l\u001b[?25hdone\n",
            "  Created wheel for lightfm: filename=lightfm-1.16-cp37-cp37m-linux_x86_64.whl size=697422 sha256=07809cab98bcf0444de15f33a0233f6ab7f62fa6cc5d6dff047d579d79b347ea\n",
            "  Stored in directory: /root/.cache/pip/wheels/f8/56/28/5772a3bd3413d65f03aa452190b00898b680b10028a1021914\n",
            "Successfully built implicit lightfm\n",
            "Installing collected packages: pybind11, nmslib, Markdown, lightfm, implicit, attrs, rectools\n",
            "  Attempting uninstall: Markdown\n",
            "    Found existing installation: Markdown 3.4.1\n",
            "    Uninstalling Markdown-3.4.1:\n",
            "      Successfully uninstalled Markdown-3.4.1\n",
            "  Attempting uninstall: attrs\n",
            "    Found existing installation: attrs 22.1.0\n",
            "    Uninstalling attrs-22.1.0:\n",
            "      Successfully uninstalled attrs-22.1.0\n",
            "Successfully installed Markdown-3.2.2 attrs-21.4.0 implicit-0.4.4 lightfm-1.16 nmslib-2.1.1 pybind11-2.6.1 rectools-0.2.0\n"
          ]
        }
      ],
      "source": [
        "!pip install rectools==0.2.0"
      ]
    },
    {
      "cell_type": "code",
      "source": [
        "import os\n",
        "import random\n",
        "import pandas as pd\n",
        "import numpy as np\n",
        "import scipy as sp\n",
        "import requests\n",
        "from tqdm.auto import tqdm\n",
        "from scipy.stats import mode \n",
        "from pprint import pprint\n",
        "import warnings\n",
        "\n",
        "\n",
        "\n",
        "from implicit.nearest_neighbours import (\n",
        "    TFIDFRecommender, BM25Recommender,\n",
        "    CosineRecommender, ItemItemRecommender\n",
        ")\n",
        "from rectools import Columns\n",
        "from rectools.dataset import Dataset\n",
        "from rectools.models import ImplicitItemKNNWrapperModel\n",
        "from rectools.model_selection import TimeRangeSplit\n",
        "from rectools.metrics import Precision, Recall, MeanInvUserFreq, Serendipity, calc_metrics, MAP\n",
        "\n",
        "\n",
        "pd.set_option('display.max_columns', None)\n",
        "pd.set_option('display.max_colwidth', 200)\n",
        "seed = 42\n",
        "random.seed(seed)\n",
        "np.random.seed(seed)\n",
        "os.environ['PYTHONHASHSEED'] = str(seed)\n",
        "warnings.filterwarnings(\"ignore\")"
      ],
      "metadata": {
        "id": "xwoQaesPc-dn"
      },
      "execution_count": 34,
      "outputs": []
    },
    {
      "cell_type": "code",
      "source": [
        "# download dataset by chunks\n",
        "url = \"https://storage.yandexcloud.net/itmo-recsys-public-data/kion_train.zip\"\n",
        "\n",
        "req = requests.get(url, stream=True)\n",
        "\n",
        "with open('kion_train.zip', \"wb\") as fd:\n",
        "    total_size_in_bytes = int(req.headers.get('Content-Length', 0))\n",
        "    progress_bar = tqdm(desc='kion dataset download', total=total_size_in_bytes, unit='iB', unit_scale=True)\n",
        "    for chunk in req.iter_content(chunk_size=2 ** 20):\n",
        "        progress_bar.update(len(chunk))\n",
        "        fd.write(chunk)"
      ],
      "metadata": {
        "colab": {
          "base_uri": "https://localhost:8080/",
          "height": 49,
          "referenced_widgets": [
            "614e9d131f8644b38988fd3a4c97b330",
            "dd1e32b6f79f47a6967f93dc0cbddf0c",
            "1e53694c6ee64d8c85911c2e84db14dd",
            "248146df6ac64971aa9979bab6147ae2",
            "f3e36b1f5b444f6cae3ae0031f8f4186",
            "cb0c8083cf3a47049dcbf40a79c46a01",
            "a6bd52f4f2a84b888061b12972d69f47",
            "1dea3c535b9145bca7618133fefb468e",
            "bc6116b60cf849e9a30f57d620da8a38",
            "4bff2df5381b4df3987fc8250fdfba41",
            "dc2bccbe9f594e4380c6d8b0941f0763"
          ]
        },
        "id": "q-MjS-lodBPz",
        "outputId": "ed5a419d-399c-458c-a318-2c3e7bd368fd"
      },
      "execution_count": 5,
      "outputs": [
        {
          "output_type": "display_data",
          "data": {
            "text/plain": [
              "kion dataset download:   0%|          | 0.00/78.8M [00:00<?, ?iB/s]"
            ],
            "application/vnd.jupyter.widget-view+json": {
              "version_major": 2,
              "version_minor": 0,
              "model_id": "614e9d131f8644b38988fd3a4c97b330"
            }
          },
          "metadata": {}
        }
      ]
    },
    {
      "cell_type": "code",
      "source": [
        "!unzip kion_train.zip\n",
        "\n",
        "interactions = pd.read_csv('kion_train/interactions.csv')\n",
        "users = pd.read_csv('kion_train/users.csv')\n",
        "items = pd.read_csv('kion_train/items.csv')\n",
        "\n",
        "\n",
        "# rename columns, convert timestamp\n",
        "interactions.rename(columns={'last_watch_dt': Columns.Datetime,\n",
        "                            'total_dur': Columns.Weight}, \n",
        "                    inplace=True) \n",
        "\n",
        "interactions['datetime'] = pd.to_datetime(interactions['datetime'])"
      ],
      "metadata": {
        "colab": {
          "base_uri": "https://localhost:8080/"
        },
        "id": "eyAk_oJ9dDIo",
        "outputId": "32b04cd0-4921-4635-a1eb-506cbf3ccb0f"
      },
      "execution_count": 6,
      "outputs": [
        {
          "output_type": "stream",
          "name": "stdout",
          "text": [
            "Archive:  kion_train.zip\n",
            "   creating: kion_train/\n",
            "  inflating: kion_train/interactions.csv  \n",
            "  inflating: __MACOSX/kion_train/._interactions.csv  \n",
            "  inflating: kion_train/users.csv    \n",
            "  inflating: __MACOSX/kion_train/._users.csv  \n",
            "  inflating: kion_train/items.csv    \n",
            "  inflating: __MACOSX/kion_train/._items.csv  \n"
          ]
        }
      ]
    },
    {
      "cell_type": "markdown",
      "source": [
        "## Train test split"
      ],
      "metadata": {
        "id": "h-0_YSEcgP0T"
      }
    },
    {
      "cell_type": "code",
      "source": [
        "# train test split \n",
        "# test = last 1 week \n",
        "n_folds = 1\n",
        "unit = \"W\"\n",
        "n_units = 1\n",
        "periods = n_folds + 1\n",
        "\n",
        "last_date = interactions[Columns.Datetime].max().normalize()\n",
        "start_date = last_date - pd.Timedelta(n_folds * n_units + 1, unit=unit)  # TimeDelta возвращает длительность промежутка между датами\n",
        "print(f\"Start date and last date of the test fold: {start_date, last_date}\")\n",
        "    \n",
        "date_range = pd.date_range(start=start_date, periods=periods, freq=unit, tz=last_date.tz)\n",
        "print(f\"Test fold borders: {date_range.values.astype('datetime64[D]')}\")\n",
        "\n",
        "# generator of folds\n",
        "cv = TimeRangeSplit(\n",
        "    date_range=date_range,\n",
        "    filter_already_seen=True,\n",
        "    filter_cold_items=True,\n",
        "    filter_cold_users=True,\n",
        ")\n",
        "print(f\"Real number of folds: {cv.get_n_splits(interactions)}\")"
      ],
      "metadata": {
        "colab": {
          "base_uri": "https://localhost:8080/"
        },
        "id": "u0b5O2ZogHda",
        "outputId": "f6b546a4-9132-4ef0-929a-a8fccdf42899"
      },
      "execution_count": 7,
      "outputs": [
        {
          "output_type": "stream",
          "name": "stdout",
          "text": [
            "Start date and last date of the test fold: (Timestamp('2021-08-08 00:00:00'), Timestamp('2021-08-22 00:00:00'))\n",
            "Test fold borders: ['2021-08-08' '2021-08-15']\n",
            "Real number of folds: 1\n"
          ]
        }
      ]
    },
    {
      "cell_type": "code",
      "source": [
        "(train_ids, test_ids, fold_info) = cv.split(interactions, collect_fold_stats=True).__next__()"
      ],
      "metadata": {
        "id": "Ja9ZQu32h2vk"
      },
      "execution_count": 8,
      "outputs": []
    },
    {
      "cell_type": "code",
      "source": [
        "train = interactions.loc[train_ids].reset_index(drop=True)\n",
        "test = interactions.loc[test_ids].reset_index(drop=True)"
      ],
      "metadata": {
        "id": "NN5AeKz1jHGT"
      },
      "execution_count": 9,
      "outputs": []
    },
    {
      "cell_type": "code",
      "source": [
        "# prepare user and item features\n",
        "age_feature = (\n",
        "    users[[\"user_id\", \"age\"]]\n",
        "    .rename({'user_id': 'id', 'age': 'value'}, axis=1)\n",
        ")\n",
        "age_feature[\"feature\"] = \"age\"\n",
        "\n",
        "age_feature_train = age_feature[age_feature['id'].isin(train['user_id'])]\n",
        "age_feature_test = age_feature[age_feature['id'].isin(test['user_id'])]\n",
        "\n",
        "\n",
        "genres_feature = (\n",
        "    items[[\"item_id\", \"genres\"]]\n",
        "    .rename({'item_id': 'id', 'genres': 'value'}, axis=1)\n",
        ")\n",
        "\n",
        "genres_feature[\"value\"] = genres_feature[\"value\"].str.split(\",\")\n",
        "genres_feature = genres_feature.explode(\"value\")\n",
        "genres_feature[\"feature\"] = \"genres\"\n",
        "\n",
        "genres_feature_train = genres_feature[genres_feature['id'].isin(train['item_id'])]\n",
        "genres_feature_test = genres_feature[genres_feature['id'].isin(test['item_id'])]"
      ],
      "metadata": {
        "id": "EFUgFKLKZWiT"
      },
      "execution_count": 80,
      "outputs": []
    },
    {
      "cell_type": "code",
      "source": [
        "# Create dataset\n",
        "train_df = Dataset.construct(\n",
        "    train,\n",
        "    user_features_df=age_feature_train,\n",
        "    item_features_df=genres_feature_train,\n",
        "    cat_item_features=['genres'],\n",
        "    cat_user_features=['age']\n",
        "\n",
        ")\n",
        "test_df = Dataset.construct(\n",
        "    test,\n",
        "    user_features_df=age_feature_test,\n",
        "    item_features_df=genres_feature_test,\n",
        "    cat_item_features=['genres'],\n",
        "    cat_user_features=['age']\n",
        "\n",
        ")"
      ],
      "metadata": {
        "id": "uOfF5DEqftHu"
      },
      "execution_count": 85,
      "outputs": []
    },
    {
      "cell_type": "code",
      "source": [
        "# Fit model\n",
        "model_tfidf = ImplicitItemKNNWrapperModel(TFIDFRecommender(K=10))\n",
        "model_tfidf.fit(train_df)\n",
        "\n",
        "# Make recommendations\n",
        "recos_tfidf = model_tfidf.recommend(\n",
        "    users=train[Columns.User].unique(),\n",
        "    dataset=train_df,\n",
        "    k=10,\n",
        "    filter_viewed=True,\n",
        ")"
      ],
      "metadata": {
        "id": "fTuw36uqd2m0"
      },
      "execution_count": 102,
      "outputs": []
    },
    {
      "cell_type": "code",
      "source": [
        "# Fit model\n",
        "model_bm25 = ImplicitItemKNNWrapperModel(BM25Recommender(K=10, K1=2))\n",
        "model_bm25.fit(train_df)\n",
        "\n",
        "# Make recommendations\n",
        "recos_bm25 = model_bm25.recommend(\n",
        "    users=train[Columns.User].unique(),\n",
        "    dataset=train_df,\n",
        "    k=10,\n",
        "    filter_viewed=True,\n",
        ")"
      ],
      "metadata": {
        "id": "tJ58fmuJe_eW"
      },
      "execution_count": 103,
      "outputs": []
    },
    {
      "cell_type": "code",
      "source": [
        "# Fit model\n",
        "model_cossim = ImplicitItemKNNWrapperModel(CosineRecommender(K=10))\n",
        "model_cossim.fit(train_df)\n",
        "\n",
        "# Make recommendations\n",
        "recos_cossim = model_cossim.recommend(\n",
        "    users=train[Columns.User].unique(),\n",
        "    dataset=train_df,\n",
        "    k=10,\n",
        "    filter_viewed=True,\n",
        ")"
      ],
      "metadata": {
        "id": "9FX2Mmw5fTGH"
      },
      "execution_count": 104,
      "outputs": []
    },
    {
      "cell_type": "code",
      "source": [
        "metrics = {\n",
        "    \"mAP@10\": MAP(k=10),\n",
        "    \"prec@10\": Precision(k=10),\n",
        "    \"recall@10\": Recall(k=10),\n",
        "    \"novelty\": MeanInvUserFreq(k=10),\n",
        "    \"serendipity\": Serendipity(k=10),\n",
        "}\n",
        "\n",
        "catalog = train['item_id'].unique()"
      ],
      "metadata": {
        "id": "CZEOB9dmoT1U"
      },
      "execution_count": 105,
      "outputs": []
    },
    {
      "cell_type": "code",
      "source": [
        "metric_values_tfidf = calc_metrics(\n",
        "    metrics,\n",
        "    reco=recos_tfidf,\n",
        "    interactions=test,\n",
        "    prev_interactions=train,\n",
        "    catalog=catalog\n",
        ")\n",
        "\n",
        "metric_values_bm25 = calc_metrics(\n",
        "    metrics,\n",
        "    reco=recos_bm25,\n",
        "    interactions=test,\n",
        "    prev_interactions=train,\n",
        "    catalog=catalog\n",
        ")\n",
        "\n",
        "metric_values_cossim = calc_metrics(\n",
        "    metrics,\n",
        "    reco=recos_cossim,\n",
        "    interactions=test,\n",
        "    prev_interactions=train,\n",
        "    catalog=catalog\n",
        ")\n",
        "print('KNN с поиском похожих юзеров через tf-idf выдает:\\n', metric_values_tfidf)\n",
        "print('KNN с поиском похожих юзеров через BM25 выдает:\\n', metric_values_bm25)\n",
        "print('KNN с поиском похожих юзеров через Cos sim выдает:\\n', metric_values_cossim)"
      ],
      "metadata": {
        "colab": {
          "base_uri": "https://localhost:8080/"
        },
        "id": "foakGDh1oHvF",
        "outputId": "4133a37d-ed66-4ef5-faab-b98d21d25437"
      },
      "execution_count": 106,
      "outputs": [
        {
          "output_type": "stream",
          "name": "stdout",
          "text": [
            "KNN с поиском похожих юзеров через tf-idf выдает:\n",
            " {'prec@10': 0.03379975093888197, 'recall@10': 0.16785348935939565, 'mAP@10': 0.0780738513664305, 'novelty': 7.445808587669819, 'serendipity': 2.450980496715003e-05}\n",
            "KNN с поиском похожих юзеров через BM25 выдает:\n",
            " {'prec@10': 0.03937715109380976, 'recall@10': 0.19876239246077565, 'mAP@10': 0.0956302459933854, 'novelty': 4.052741401774423, 'serendipity': 8.128819126883973e-06}\n",
            "KNN с поиском похожих юзеров через Cos sim выдает:\n",
            " {'prec@10': 0.022914603414294542, 'recall@10': 0.1191115419628571, 'mAP@10': 0.05829229137022718, 'novelty': 9.589126024970618, 'serendipity': 1.4627631415421597e-05}\n"
          ]
        }
      ]
    },
    {
      "cell_type": "code",
      "source": [
        "# recoms = pd.concat([recos_bm25, recos_tfidf, recos_cossim])\n",
        "# recoms = recoms.drop_duplicates(keep='first', subset=['user_id', 'item_id'])\n",
        "# recoms['rank'] = recoms.groupby('user_id')['user_id'].rank(method='first')\n",
        "# recoms = recoms[recoms['rank'] <= 10]\n",
        "# recoms = recoms[['user_id', 'item_id']]\n",
        "# recoms.to_csv('BlendingKNNwithAddFeatures.csv.gz', index=False, compression='gzip')"
      ],
      "metadata": {
        "id": "1aDNIH5HqAwB"
      },
      "execution_count": 93,
      "outputs": []
    },
    {
      "cell_type": "code",
      "source": [
        "recos_bm25 = recos_bm25[recos_bm25['rank'] <= 10]\n",
        "recos_bm25 = recos_bm25[['user_id', 'item_id']]\n",
        "recos_bm25.to_csv('KNNBM25withAddFeatures.csv.gz', index=False, compression='gzip')"
      ],
      "metadata": {
        "id": "UqAAw1S5X_jR"
      },
      "execution_count": 95,
      "outputs": []
    },
    {
      "cell_type": "code",
      "source": [
        "!pip install -U --no-cache-dir gdown --pre"
      ],
      "metadata": {
        "colab": {
          "base_uri": "https://localhost:8080/"
        },
        "id": "X_ODxYS1tBR2",
        "outputId": "7e4e9203-2944-4d20-b2c6-21b67be13959"
      },
      "execution_count": 114,
      "outputs": [
        {
          "output_type": "stream",
          "name": "stdout",
          "text": [
            "Looking in indexes: https://pypi.org/simple, https://us-python.pkg.dev/colab-wheels/public/simple/\n",
            "Requirement already satisfied: gdown in /usr/local/lib/python3.7/dist-packages (4.5.4)\n",
            "Requirement already satisfied: filelock in /usr/local/lib/python3.7/dist-packages (from gdown) (3.8.0)\n",
            "Requirement already satisfied: six in /usr/local/lib/python3.7/dist-packages (from gdown) (1.15.0)\n",
            "Requirement already satisfied: requests[socks] in /usr/local/lib/python3.7/dist-packages (from gdown) (2.23.0)\n",
            "Requirement already satisfied: beautifulsoup4 in /usr/local/lib/python3.7/dist-packages (from gdown) (4.6.3)\n",
            "Requirement already satisfied: tqdm in /usr/local/lib/python3.7/dist-packages (from gdown) (4.64.1)\n",
            "Requirement already satisfied: chardet<4,>=3.0.2 in /usr/local/lib/python3.7/dist-packages (from requests[socks]->gdown) (3.0.4)\n",
            "Requirement already satisfied: certifi>=2017.4.17 in /usr/local/lib/python3.7/dist-packages (from requests[socks]->gdown) (2022.9.24)\n",
            "Requirement already satisfied: idna<3,>=2.5 in /usr/local/lib/python3.7/dist-packages (from requests[socks]->gdown) (2.10)\n",
            "Requirement already satisfied: urllib3!=1.25.0,!=1.25.1,<1.26,>=1.21.1 in /usr/local/lib/python3.7/dist-packages (from requests[socks]->gdown) (1.24.3)\n",
            "Requirement already satisfied: PySocks!=1.5.7,>=1.5.6 in /usr/local/lib/python3.7/dist-packages (from requests[socks]->gdown) (1.7.1)\n"
          ]
        }
      ]
    }
  ]
}