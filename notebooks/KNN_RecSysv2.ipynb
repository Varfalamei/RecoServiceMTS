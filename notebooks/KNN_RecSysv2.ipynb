{
  "cells": [
    {
      "cell_type": "code",
      "execution_count": null,
      "metadata": {
        "id": "MJ20YovJc4hZ"
      },
      "outputs": [],
      "source": [
        "!pip install rectools==0.2.0"
      ]
    },
    {
      "cell_type": "code",
      "execution_count": null,
      "metadata": {
        "id": "xwoQaesPc-dn"
      },
      "outputs": [],
      "source": [
        "import os\n",
        "import random\n",
        "import pandas as pd\n",
        "import numpy as np\n",
        "import scipy as sp\n",
        "import requests\n",
        "from tqdm.auto import tqdm\n",
        "from scipy.stats import mode \n",
        "from pprint import pprint\n",
        "import warnings\n",
        "import dill\n",
        "\n",
        "\n",
        "from implicit.nearest_neighbours import (\n",
        "    TFIDFRecommender, BM25Recommender,\n",
        "    CosineRecommender, ItemItemRecommender\n",
        ")\n",
        "from rectools.models.popular import PopularModel \n",
        "from rectools import Columns\n",
        "from rectools.dataset import Dataset\n",
        "from rectools.models import ImplicitItemKNNWrapperModel\n",
        "from rectools.model_selection import TimeRangeSplit\n",
        "from rectools.metrics import Precision, Recall, MeanInvUserFreq, Serendipity, calc_metrics, MAP\n",
        "\n",
        "\n",
        "pd.set_option('display.max_columns', None)\n",
        "pd.set_option('display.max_colwidth', 200)\n",
        "seed = 42\n",
        "random.seed(seed)\n",
        "np.random.seed(seed)\n",
        "os.environ['PYTHONHASHSEED'] = str(seed)\n",
        "warnings.filterwarnings(\"ignore\")"
      ]
    },
    {
      "cell_type": "code",
      "execution_count": null,
      "metadata": {
        "colab": {
          "base_uri": "https://localhost:8080/",
          "height": 49,
          "referenced_widgets": [
            "2c027ff614eb4a939579a1e0469c317e",
            "304dc16fb5e944f58cdbf08b99940d67",
            "61e9bbd5e78048fa829b227db75a7751",
            "b0f7661af6974d0c9d7aa9a035e279ec",
            "94b9668fb35346829901347cfed5cced",
            "9f55a5837afd415c942661e80c53cf49",
            "c58e4c72227242c88644aa8d3c8459d5",
            "a4b3f5e2ba9940f089e3b6a667314095",
            "9a2eb9e0072c49a2820b6bdb1fce962b",
            "bb319bc1ea264fe9aab3e6dc5a00b872",
            "ed8b9ef611c4447eb03d2b23bb40a313"
          ]
        },
        "id": "q-MjS-lodBPz",
        "outputId": "3e770c31-9b16-423a-cf3a-ffe096c80a51"
      },
      "outputs": [
        {
          "output_type": "display_data",
          "data": {
            "text/plain": [
              "kion dataset download:   0%|          | 0.00/78.8M [00:00<?, ?iB/s]"
            ],
            "application/vnd.jupyter.widget-view+json": {
              "version_major": 2,
              "version_minor": 0,
              "model_id": "2c027ff614eb4a939579a1e0469c317e"
            }
          },
          "metadata": {}
        }
      ],
      "source": [
        "# download dataset by chunks\n",
        "url = \"https://storage.yandexcloud.net/itmo-recsys-public-data/kion_train.zip\"\n",
        "\n",
        "req = requests.get(url, stream=True)\n",
        "\n",
        "with open('kion_train.zip', \"wb\") as fd:\n",
        "    total_size_in_bytes = int(req.headers.get('Content-Length', 0))\n",
        "    progress_bar = tqdm(desc='kion dataset download', total=total_size_in_bytes, unit='iB', unit_scale=True)\n",
        "    for chunk in req.iter_content(chunk_size=2 ** 20):\n",
        "        progress_bar.update(len(chunk))\n",
        "        fd.write(chunk)"
      ]
    },
    {
      "cell_type": "code",
      "execution_count": null,
      "metadata": {
        "id": "whrIoHKZgvX9",
        "colab": {
          "base_uri": "https://localhost:8080/"
        },
        "outputId": "27feef08-5147-445b-b5d6-117dc927f2a6"
      },
      "outputs": [
        {
          "output_type": "stream",
          "name": "stdout",
          "text": [
            "Archive:  kion_train.zip\n",
            "   creating: kion_train/\n",
            "  inflating: kion_train/interactions.csv  \n",
            "  inflating: __MACOSX/kion_train/._interactions.csv  \n",
            "  inflating: kion_train/users.csv    \n",
            "  inflating: __MACOSX/kion_train/._users.csv  \n",
            "  inflating: kion_train/items.csv    \n",
            "  inflating: __MACOSX/kion_train/._items.csv  \n"
          ]
        }
      ],
      "source": [
        "!unzip kion_train.zip"
      ]
    },
    {
      "cell_type": "code",
      "execution_count": null,
      "metadata": {
        "id": "eyAk_oJ9dDIo"
      },
      "outputs": [],
      "source": [
        "interactions = pd.read_csv('kion_train/interactions.csv')\n",
        "users = pd.read_csv('kion_train/users.csv')\n",
        "items = pd.read_csv('kion_train/items.csv')\n",
        "\n",
        "\n",
        "# rename columns, convert timestamp\n",
        "interactions.rename(columns={'last_watch_dt': Columns.Datetime,\n",
        "                            'total_dur': Columns.Weight}, \n",
        "                    inplace=True) \n",
        "\n",
        "interactions['datetime'] = pd.to_datetime(interactions['datetime'])"
      ]
    },
    {
      "cell_type": "code",
      "source": [
        "begin = interactions[\"datetime\"].max().normalize() - pd.DateOffset(days=7)"
      ],
      "metadata": {
        "id": "tDpobJCe-odj"
      },
      "execution_count": null,
      "outputs": []
    },
    {
      "cell_type": "code",
      "source": [
        "len(interactions)"
      ],
      "metadata": {
        "colab": {
          "base_uri": "https://localhost:8080/"
        },
        "id": "o_4xkybL-2eB",
        "outputId": "8c211523-9daa-4d27-ca70-a83e906b4117"
      },
      "execution_count": null,
      "outputs": [
        {
          "output_type": "execute_result",
          "data": {
            "text/plain": [
              "5476251"
            ]
          },
          "metadata": {},
          "execution_count": 19
        }
      ]
    },
    {
      "cell_type": "code",
      "source": [
        "interactions"
      ],
      "metadata": {
        "colab": {
          "base_uri": "https://localhost:8080/",
          "height": 424
        },
        "id": "NpXZwfJy_LXE",
        "outputId": "6f690872-8a4a-46d4-f950-133b2d2c7760"
      },
      "execution_count": null,
      "outputs": [
        {
          "output_type": "execute_result",
          "data": {
            "text/plain": [
              "         user_id  item_id   datetime  weight  watched_pct\n",
              "0         176549     9506 2021-05-11    4250         72.0\n",
              "1         699317     1659 2021-05-29    8317        100.0\n",
              "2         656683     7107 2021-05-09      10          0.0\n",
              "3         864613     7638 2021-07-05   14483        100.0\n",
              "4         964868     9506 2021-04-30    6725        100.0\n",
              "...          ...      ...        ...     ...          ...\n",
              "5476246   648596    12225 2021-08-13      76          0.0\n",
              "5476247   546862     9673 2021-04-13    2308         49.0\n",
              "5476248   697262    15297 2021-08-20   18307         63.0\n",
              "5476249   384202    16197 2021-04-19    6203        100.0\n",
              "5476250   319709     4436 2021-08-15    3921         45.0\n",
              "\n",
              "[5476251 rows x 5 columns]"
            ],
            "text/html": [
              "\n",
              "  <div id=\"df-13089d25-b14f-4e5f-9d16-3b809d6fafb5\">\n",
              "    <div class=\"colab-df-container\">\n",
              "      <div>\n",
              "<style scoped>\n",
              "    .dataframe tbody tr th:only-of-type {\n",
              "        vertical-align: middle;\n",
              "    }\n",
              "\n",
              "    .dataframe tbody tr th {\n",
              "        vertical-align: top;\n",
              "    }\n",
              "\n",
              "    .dataframe thead th {\n",
              "        text-align: right;\n",
              "    }\n",
              "</style>\n",
              "<table border=\"1\" class=\"dataframe\">\n",
              "  <thead>\n",
              "    <tr style=\"text-align: right;\">\n",
              "      <th></th>\n",
              "      <th>user_id</th>\n",
              "      <th>item_id</th>\n",
              "      <th>datetime</th>\n",
              "      <th>weight</th>\n",
              "      <th>watched_pct</th>\n",
              "    </tr>\n",
              "  </thead>\n",
              "  <tbody>\n",
              "    <tr>\n",
              "      <th>0</th>\n",
              "      <td>176549</td>\n",
              "      <td>9506</td>\n",
              "      <td>2021-05-11</td>\n",
              "      <td>4250</td>\n",
              "      <td>72.0</td>\n",
              "    </tr>\n",
              "    <tr>\n",
              "      <th>1</th>\n",
              "      <td>699317</td>\n",
              "      <td>1659</td>\n",
              "      <td>2021-05-29</td>\n",
              "      <td>8317</td>\n",
              "      <td>100.0</td>\n",
              "    </tr>\n",
              "    <tr>\n",
              "      <th>2</th>\n",
              "      <td>656683</td>\n",
              "      <td>7107</td>\n",
              "      <td>2021-05-09</td>\n",
              "      <td>10</td>\n",
              "      <td>0.0</td>\n",
              "    </tr>\n",
              "    <tr>\n",
              "      <th>3</th>\n",
              "      <td>864613</td>\n",
              "      <td>7638</td>\n",
              "      <td>2021-07-05</td>\n",
              "      <td>14483</td>\n",
              "      <td>100.0</td>\n",
              "    </tr>\n",
              "    <tr>\n",
              "      <th>4</th>\n",
              "      <td>964868</td>\n",
              "      <td>9506</td>\n",
              "      <td>2021-04-30</td>\n",
              "      <td>6725</td>\n",
              "      <td>100.0</td>\n",
              "    </tr>\n",
              "    <tr>\n",
              "      <th>...</th>\n",
              "      <td>...</td>\n",
              "      <td>...</td>\n",
              "      <td>...</td>\n",
              "      <td>...</td>\n",
              "      <td>...</td>\n",
              "    </tr>\n",
              "    <tr>\n",
              "      <th>5476246</th>\n",
              "      <td>648596</td>\n",
              "      <td>12225</td>\n",
              "      <td>2021-08-13</td>\n",
              "      <td>76</td>\n",
              "      <td>0.0</td>\n",
              "    </tr>\n",
              "    <tr>\n",
              "      <th>5476247</th>\n",
              "      <td>546862</td>\n",
              "      <td>9673</td>\n",
              "      <td>2021-04-13</td>\n",
              "      <td>2308</td>\n",
              "      <td>49.0</td>\n",
              "    </tr>\n",
              "    <tr>\n",
              "      <th>5476248</th>\n",
              "      <td>697262</td>\n",
              "      <td>15297</td>\n",
              "      <td>2021-08-20</td>\n",
              "      <td>18307</td>\n",
              "      <td>63.0</td>\n",
              "    </tr>\n",
              "    <tr>\n",
              "      <th>5476249</th>\n",
              "      <td>384202</td>\n",
              "      <td>16197</td>\n",
              "      <td>2021-04-19</td>\n",
              "      <td>6203</td>\n",
              "      <td>100.0</td>\n",
              "    </tr>\n",
              "    <tr>\n",
              "      <th>5476250</th>\n",
              "      <td>319709</td>\n",
              "      <td>4436</td>\n",
              "      <td>2021-08-15</td>\n",
              "      <td>3921</td>\n",
              "      <td>45.0</td>\n",
              "    </tr>\n",
              "  </tbody>\n",
              "</table>\n",
              "<p>5476251 rows × 5 columns</p>\n",
              "</div>\n",
              "      <button class=\"colab-df-convert\" onclick=\"convertToInteractive('df-13089d25-b14f-4e5f-9d16-3b809d6fafb5')\"\n",
              "              title=\"Convert this dataframe to an interactive table.\"\n",
              "              style=\"display:none;\">\n",
              "        \n",
              "  <svg xmlns=\"http://www.w3.org/2000/svg\" height=\"24px\"viewBox=\"0 0 24 24\"\n",
              "       width=\"24px\">\n",
              "    <path d=\"M0 0h24v24H0V0z\" fill=\"none\"/>\n",
              "    <path d=\"M18.56 5.44l.94 2.06.94-2.06 2.06-.94-2.06-.94-.94-2.06-.94 2.06-2.06.94zm-11 1L8.5 8.5l.94-2.06 2.06-.94-2.06-.94L8.5 2.5l-.94 2.06-2.06.94zm10 10l.94 2.06.94-2.06 2.06-.94-2.06-.94-.94-2.06-.94 2.06-2.06.94z\"/><path d=\"M17.41 7.96l-1.37-1.37c-.4-.4-.92-.59-1.43-.59-.52 0-1.04.2-1.43.59L10.3 9.45l-7.72 7.72c-.78.78-.78 2.05 0 2.83L4 21.41c.39.39.9.59 1.41.59.51 0 1.02-.2 1.41-.59l7.78-7.78 2.81-2.81c.8-.78.8-2.07 0-2.86zM5.41 20L4 18.59l7.72-7.72 1.47 1.35L5.41 20z\"/>\n",
              "  </svg>\n",
              "      </button>\n",
              "      \n",
              "  <style>\n",
              "    .colab-df-container {\n",
              "      display:flex;\n",
              "      flex-wrap:wrap;\n",
              "      gap: 12px;\n",
              "    }\n",
              "\n",
              "    .colab-df-convert {\n",
              "      background-color: #E8F0FE;\n",
              "      border: none;\n",
              "      border-radius: 50%;\n",
              "      cursor: pointer;\n",
              "      display: none;\n",
              "      fill: #1967D2;\n",
              "      height: 32px;\n",
              "      padding: 0 0 0 0;\n",
              "      width: 32px;\n",
              "    }\n",
              "\n",
              "    .colab-df-convert:hover {\n",
              "      background-color: #E2EBFA;\n",
              "      box-shadow: 0px 1px 2px rgba(60, 64, 67, 0.3), 0px 1px 3px 1px rgba(60, 64, 67, 0.15);\n",
              "      fill: #174EA6;\n",
              "    }\n",
              "\n",
              "    [theme=dark] .colab-df-convert {\n",
              "      background-color: #3B4455;\n",
              "      fill: #D2E3FC;\n",
              "    }\n",
              "\n",
              "    [theme=dark] .colab-df-convert:hover {\n",
              "      background-color: #434B5C;\n",
              "      box-shadow: 0px 1px 3px 1px rgba(0, 0, 0, 0.15);\n",
              "      filter: drop-shadow(0px 1px 2px rgba(0, 0, 0, 0.3));\n",
              "      fill: #FFFFFF;\n",
              "    }\n",
              "  </style>\n",
              "\n",
              "      <script>\n",
              "        const buttonEl =\n",
              "          document.querySelector('#df-13089d25-b14f-4e5f-9d16-3b809d6fafb5 button.colab-df-convert');\n",
              "        buttonEl.style.display =\n",
              "          google.colab.kernel.accessAllowed ? 'block' : 'none';\n",
              "\n",
              "        async function convertToInteractive(key) {\n",
              "          const element = document.querySelector('#df-13089d25-b14f-4e5f-9d16-3b809d6fafb5');\n",
              "          const dataTable =\n",
              "            await google.colab.kernel.invokeFunction('convertToInteractive',\n",
              "                                                     [key], {});\n",
              "          if (!dataTable) return;\n",
              "\n",
              "          const docLinkHtml = 'Like what you see? Visit the ' +\n",
              "            '<a target=\"_blank\" href=https://colab.research.google.com/notebooks/data_table.ipynb>data table notebook</a>'\n",
              "            + ' to learn more about interactive tables.';\n",
              "          element.innerHTML = '';\n",
              "          dataTable['output_type'] = 'display_data';\n",
              "          await google.colab.output.renderOutput(dataTable, element);\n",
              "          const docLink = document.createElement('div');\n",
              "          docLink.innerHTML = docLinkHtml;\n",
              "          element.appendChild(docLink);\n",
              "        }\n",
              "      </script>\n",
              "    </div>\n",
              "  </div>\n",
              "  "
            ]
          },
          "metadata": {},
          "execution_count": 20
        }
      ]
    },
    {
      "cell_type": "code",
      "source": [
        "interactions = interactions[interactions['datetime'] > begin]"
      ],
      "metadata": {
        "id": "87ziP8c1-pn5"
      },
      "execution_count": null,
      "outputs": []
    },
    {
      "cell_type": "code",
      "source": [
        "len(interactions)"
      ],
      "metadata": {
        "colab": {
          "base_uri": "https://localhost:8080/"
        },
        "id": "wVxDlvqZ_C9C",
        "outputId": "06aa2298-6dde-480d-816e-5e35259decde"
      },
      "execution_count": null,
      "outputs": [
        {
          "output_type": "execute_result",
          "data": {
            "text/plain": [
              "424436"
            ]
          },
          "metadata": {},
          "execution_count": 35
        }
      ]
    },
    {
      "cell_type": "markdown",
      "source": [
        "Popular\n"
      ],
      "metadata": {
        "id": "3i7G2nMVv-a0"
      }
    },
    {
      "cell_type": "code",
      "source": [
        "sex_feature = users[[\"user_id\", \"sex\"]]"
      ],
      "metadata": {
        "id": "b0xdY8XgCljD"
      },
      "execution_count": null,
      "outputs": []
    },
    {
      "cell_type": "code",
      "source": [
        "sex_feature[\"feature\"] = \"sex\""
      ],
      "metadata": {
        "id": "W88FqIZ6CpiE"
      },
      "execution_count": null,
      "outputs": []
    },
    {
      "cell_type": "code",
      "source": [
        "sex_feature.columns = [\"id\", \"value\", \"feature\"]"
      ],
      "metadata": {
        "id": "pavyQutDCuSM"
      },
      "execution_count": null,
      "outputs": []
    },
    {
      "cell_type": "code",
      "source": [
        "sex_feature = sex_feature[sex_feature['id'].isin(interactions['user_id'])]"
      ],
      "metadata": {
        "id": "del7FwlNC1rY"
      },
      "execution_count": null,
      "outputs": []
    },
    {
      "cell_type": "code",
      "source": [
        "sex_feature"
      ],
      "metadata": {
        "id": "3kqmGZgZC8O5"
      },
      "execution_count": null,
      "outputs": []
    },
    {
      "cell_type": "code",
      "source": [
        "type_feature = items[[\"item_id\", \"content_type\"]]"
      ],
      "metadata": {
        "id": "e0dEq12aDzM6"
      },
      "execution_count": null,
      "outputs": []
    },
    {
      "cell_type": "code",
      "source": [
        "type_feature[\"feature\"] = \"type\""
      ],
      "metadata": {
        "id": "ijdO5ntTD3tw"
      },
      "execution_count": null,
      "outputs": []
    },
    {
      "cell_type": "code",
      "source": [
        "type_feature.columns = ['id', 'value', 'feature']"
      ],
      "metadata": {
        "id": "0LG5-wM0D5oy"
      },
      "execution_count": null,
      "outputs": []
    },
    {
      "cell_type": "code",
      "source": [
        "type_feature = type_feature[type_feature['id'].isin(interactions['item_id'])]"
      ],
      "metadata": {
        "id": "fs-9FcKqD75S"
      },
      "execution_count": null,
      "outputs": []
    },
    {
      "cell_type": "code",
      "source": [
        "dataset = Dataset.construct(\n",
        "    interactions_df=interactions,\n",
        "    #user_features_df=sex_feature,\n",
        "    # item_features_df=type_feature,\n",
        "    # cat_item_features=['type']\n",
        "    #cat_user_features = ['sex']\n",
        ")"
      ],
      "metadata": {
        "id": "P1QG2h9iv9ln"
      },
      "execution_count": null,
      "outputs": []
    },
    {
      "cell_type": "code",
      "source": [
        "begin = interactions[\"datetime\"].max().normalize() - pd.DateOffset(days=30)"
      ],
      "metadata": {
        "id": "GR96n22_wElT"
      },
      "execution_count": null,
      "outputs": []
    },
    {
      "cell_type": "code",
      "source": [
        "pop = PopularModel(popularity='n_users')\n",
        "pop.fit(dataset);"
      ],
      "metadata": {
        "id": "U0jOpsNPwSKo"
      },
      "execution_count": null,
      "outputs": []
    },
    {
      "cell_type": "code",
      "source": [
        "recopop = pop.recommend(\n",
        "    users=interactions[Columns.User].unique(), # В данном случае рекомендуем только пользователю с user_id = 0\n",
        "    dataset=dataset, # Из какого датасета брать фильмы\n",
        "    k=10, # Количество рекомендаций\n",
        "    filter_viewed=False  # True - throw away some items for each user\n",
        ")"
      ],
      "metadata": {
        "id": "Q6xG-xwLwHBc"
      },
      "execution_count": null,
      "outputs": []
    },
    {
      "cell_type": "markdown",
      "metadata": {
        "id": "h-0_YSEcgP0T"
      },
      "source": [
        "## Train test split"
      ]
    },
    {
      "cell_type": "code",
      "execution_count": null,
      "metadata": {
        "colab": {
          "base_uri": "https://localhost:8080/"
        },
        "id": "tJ58fmuJe_eW",
        "outputId": "6c54859d-c529-4a0e-ae04-d5971f21df43"
      },
      "outputs": [
        {
          "output_type": "execute_result",
          "data": {
            "text/plain": [
              "<rectools.models.implicit_knn.ImplicitItemKNNWrapperModel at 0x7fe0d88eb910>"
            ]
          },
          "metadata": {},
          "execution_count": 39
        }
      ],
      "source": [
        "# Fit model\n",
        "model_bm25 = ImplicitItemKNNWrapperModel(BM25Recommender(K=10, K1=3, B=0.5))\n",
        "model_bm25.fit(dataset)"
      ]
    },
    {
      "cell_type": "code",
      "execution_count": null,
      "metadata": {
        "id": "qpyUJRQqmKF9"
      },
      "outputs": [],
      "source": [
        "import dill\n",
        "\n",
        "with open('bm25all.dill', 'wb') as f:\n",
        "    dill.dump(model_bm25, f)"
      ]
    },
    {
      "cell_type": "code",
      "execution_count": null,
      "metadata": {
        "id": "spHUyUZjl5pY"
      },
      "outputs": [],
      "source": [
        "with open('/content/drive/MyDrive/RecSys/data/bm25.dill', 'rb') as f:\n",
        "    model_bm25 = dill.load(f)"
      ]
    },
    {
      "cell_type": "code",
      "execution_count": null,
      "metadata": {
        "id": "C_r2E55cghDs"
      },
      "outputs": [],
      "source": [
        "# Make recommendations\n",
        "recos_bm25 = model_bm25.recommend(\n",
        "    users=interactions[Columns.User].unique(),\n",
        "    dataset=dataset,\n",
        "    k=10,\n",
        "    filter_viewed=True,\n",
        ")"
      ]
    },
    {
      "cell_type": "code",
      "execution_count": null,
      "metadata": {
        "id": "HUcmrj7lLHm_"
      },
      "outputs": [],
      "source": [
        "0.09564093307946361 # b=0.5, k1=3\n",
        "0.11178085829577415 # n_units = 4, b=0.75, k1=2\n",
        "0.11186397166708617 # n_units = 4, b=0.75, k1=1.2"
      ]
    },
    {
      "cell_type": "code",
      "execution_count": null,
      "metadata": {
        "id": "1aDNIH5HqAwB"
      },
      "outputs": [],
      "source": [
        "recoms = pd.concat([recos_bm25, recopop])\n",
        "recoms = recoms.drop_duplicates(keep='first', subset=['user_id', 'item_id'])\n",
        "recoms['rank'] = recoms.groupby('user_id')['user_id'].rank(method='first')\n",
        "recoms = recoms[recoms['rank'] <= 10]\n",
        "recoms = recoms[['user_id', 'item_id']]\n",
        "recoms.to_csv('BM25popweek.csv.gz', index=False, compression='gzip')"
      ]
    },
    {
      "cell_type": "code",
      "execution_count": null,
      "metadata": {
        "id": "UqAAw1S5X_jR"
      },
      "outputs": [],
      "source": [
        "recos_bm25 = recos_bm25[recos_bm25['rank'] <= 10]\n",
        "recos_bm25 = recos_bm25[['user_id', 'item_id']]\n",
        "recos_bm25.to_csv('KNNBM25all.csv.gz', index=False, compression='gzip')"
      ]
    },
    {
      "cell_type": "code",
      "execution_count": null,
      "metadata": {
        "id": "Nxn2iD-8ONuy"
      },
      "outputs": [],
      "source": []
    },
    {
      "cell_type": "code",
      "execution_count": null,
      "metadata": {
        "colab": {
          "base_uri": "https://localhost:8080/"
        },
        "id": "fNQQ6Eoyhsyj",
        "outputId": "6c9d7a5e-ffce-4996-904c-45d55d172b8f"
      },
      "outputs": [
        {
          "output_type": "stream",
          "name": "stdout",
          "text": [
            "Mounted at /content/drive\n"
          ]
        }
      ],
      "source": [
        "from google.colab import drive\n",
        "drive.mount('/content/drive')"
      ]
    }
  ],
  "metadata": {
    "colab": {
      "provenance": []
    },
    "kernelspec": {
      "display_name": "Python 3",
      "name": "python3"
    },
    "language_info": {
      "name": "python"
    },
    "widgets": {
      "application/vnd.jupyter.widget-state+json": {
        "2c027ff614eb4a939579a1e0469c317e": {
          "model_module": "@jupyter-widgets/controls",
          "model_name": "HBoxModel",
          "model_module_version": "1.5.0",
          "state": {
            "_dom_classes": [],
            "_model_module": "@jupyter-widgets/controls",
            "_model_module_version": "1.5.0",
            "_model_name": "HBoxModel",
            "_view_count": null,
            "_view_module": "@jupyter-widgets/controls",
            "_view_module_version": "1.5.0",
            "_view_name": "HBoxView",
            "box_style": "",
            "children": [
              "IPY_MODEL_304dc16fb5e944f58cdbf08b99940d67",
              "IPY_MODEL_61e9bbd5e78048fa829b227db75a7751",
              "IPY_MODEL_b0f7661af6974d0c9d7aa9a035e279ec"
            ],
            "layout": "IPY_MODEL_94b9668fb35346829901347cfed5cced"
          }
        },
        "304dc16fb5e944f58cdbf08b99940d67": {
          "model_module": "@jupyter-widgets/controls",
          "model_name": "HTMLModel",
          "model_module_version": "1.5.0",
          "state": {
            "_dom_classes": [],
            "_model_module": "@jupyter-widgets/controls",
            "_model_module_version": "1.5.0",
            "_model_name": "HTMLModel",
            "_view_count": null,
            "_view_module": "@jupyter-widgets/controls",
            "_view_module_version": "1.5.0",
            "_view_name": "HTMLView",
            "description": "",
            "description_tooltip": null,
            "layout": "IPY_MODEL_9f55a5837afd415c942661e80c53cf49",
            "placeholder": "​",
            "style": "IPY_MODEL_c58e4c72227242c88644aa8d3c8459d5",
            "value": "kion dataset download: 100%"
          }
        },
        "61e9bbd5e78048fa829b227db75a7751": {
          "model_module": "@jupyter-widgets/controls",
          "model_name": "FloatProgressModel",
          "model_module_version": "1.5.0",
          "state": {
            "_dom_classes": [],
            "_model_module": "@jupyter-widgets/controls",
            "_model_module_version": "1.5.0",
            "_model_name": "FloatProgressModel",
            "_view_count": null,
            "_view_module": "@jupyter-widgets/controls",
            "_view_module_version": "1.5.0",
            "_view_name": "ProgressView",
            "bar_style": "",
            "description": "",
            "description_tooltip": null,
            "layout": "IPY_MODEL_a4b3f5e2ba9940f089e3b6a667314095",
            "max": 78795385,
            "min": 0,
            "orientation": "horizontal",
            "style": "IPY_MODEL_9a2eb9e0072c49a2820b6bdb1fce962b",
            "value": 78795385
          }
        },
        "b0f7661af6974d0c9d7aa9a035e279ec": {
          "model_module": "@jupyter-widgets/controls",
          "model_name": "HTMLModel",
          "model_module_version": "1.5.0",
          "state": {
            "_dom_classes": [],
            "_model_module": "@jupyter-widgets/controls",
            "_model_module_version": "1.5.0",
            "_model_name": "HTMLModel",
            "_view_count": null,
            "_view_module": "@jupyter-widgets/controls",
            "_view_module_version": "1.5.0",
            "_view_name": "HTMLView",
            "description": "",
            "description_tooltip": null,
            "layout": "IPY_MODEL_bb319bc1ea264fe9aab3e6dc5a00b872",
            "placeholder": "​",
            "style": "IPY_MODEL_ed8b9ef611c4447eb03d2b23bb40a313",
            "value": " 78.8M/78.8M [00:17&lt;00:00, 24.9MiB/s]"
          }
        },
        "94b9668fb35346829901347cfed5cced": {
          "model_module": "@jupyter-widgets/base",
          "model_name": "LayoutModel",
          "model_module_version": "1.2.0",
          "state": {
            "_model_module": "@jupyter-widgets/base",
            "_model_module_version": "1.2.0",
            "_model_name": "LayoutModel",
            "_view_count": null,
            "_view_module": "@jupyter-widgets/base",
            "_view_module_version": "1.2.0",
            "_view_name": "LayoutView",
            "align_content": null,
            "align_items": null,
            "align_self": null,
            "border": null,
            "bottom": null,
            "display": null,
            "flex": null,
            "flex_flow": null,
            "grid_area": null,
            "grid_auto_columns": null,
            "grid_auto_flow": null,
            "grid_auto_rows": null,
            "grid_column": null,
            "grid_gap": null,
            "grid_row": null,
            "grid_template_areas": null,
            "grid_template_columns": null,
            "grid_template_rows": null,
            "height": null,
            "justify_content": null,
            "justify_items": null,
            "left": null,
            "margin": null,
            "max_height": null,
            "max_width": null,
            "min_height": null,
            "min_width": null,
            "object_fit": null,
            "object_position": null,
            "order": null,
            "overflow": null,
            "overflow_x": null,
            "overflow_y": null,
            "padding": null,
            "right": null,
            "top": null,
            "visibility": null,
            "width": null
          }
        },
        "9f55a5837afd415c942661e80c53cf49": {
          "model_module": "@jupyter-widgets/base",
          "model_name": "LayoutModel",
          "model_module_version": "1.2.0",
          "state": {
            "_model_module": "@jupyter-widgets/base",
            "_model_module_version": "1.2.0",
            "_model_name": "LayoutModel",
            "_view_count": null,
            "_view_module": "@jupyter-widgets/base",
            "_view_module_version": "1.2.0",
            "_view_name": "LayoutView",
            "align_content": null,
            "align_items": null,
            "align_self": null,
            "border": null,
            "bottom": null,
            "display": null,
            "flex": null,
            "flex_flow": null,
            "grid_area": null,
            "grid_auto_columns": null,
            "grid_auto_flow": null,
            "grid_auto_rows": null,
            "grid_column": null,
            "grid_gap": null,
            "grid_row": null,
            "grid_template_areas": null,
            "grid_template_columns": null,
            "grid_template_rows": null,
            "height": null,
            "justify_content": null,
            "justify_items": null,
            "left": null,
            "margin": null,
            "max_height": null,
            "max_width": null,
            "min_height": null,
            "min_width": null,
            "object_fit": null,
            "object_position": null,
            "order": null,
            "overflow": null,
            "overflow_x": null,
            "overflow_y": null,
            "padding": null,
            "right": null,
            "top": null,
            "visibility": null,
            "width": null
          }
        },
        "c58e4c72227242c88644aa8d3c8459d5": {
          "model_module": "@jupyter-widgets/controls",
          "model_name": "DescriptionStyleModel",
          "model_module_version": "1.5.0",
          "state": {
            "_model_module": "@jupyter-widgets/controls",
            "_model_module_version": "1.5.0",
            "_model_name": "DescriptionStyleModel",
            "_view_count": null,
            "_view_module": "@jupyter-widgets/base",
            "_view_module_version": "1.2.0",
            "_view_name": "StyleView",
            "description_width": ""
          }
        },
        "a4b3f5e2ba9940f089e3b6a667314095": {
          "model_module": "@jupyter-widgets/base",
          "model_name": "LayoutModel",
          "model_module_version": "1.2.0",
          "state": {
            "_model_module": "@jupyter-widgets/base",
            "_model_module_version": "1.2.0",
            "_model_name": "LayoutModel",
            "_view_count": null,
            "_view_module": "@jupyter-widgets/base",
            "_view_module_version": "1.2.0",
            "_view_name": "LayoutView",
            "align_content": null,
            "align_items": null,
            "align_self": null,
            "border": null,
            "bottom": null,
            "display": null,
            "flex": null,
            "flex_flow": null,
            "grid_area": null,
            "grid_auto_columns": null,
            "grid_auto_flow": null,
            "grid_auto_rows": null,
            "grid_column": null,
            "grid_gap": null,
            "grid_row": null,
            "grid_template_areas": null,
            "grid_template_columns": null,
            "grid_template_rows": null,
            "height": null,
            "justify_content": null,
            "justify_items": null,
            "left": null,
            "margin": null,
            "max_height": null,
            "max_width": null,
            "min_height": null,
            "min_width": null,
            "object_fit": null,
            "object_position": null,
            "order": null,
            "overflow": null,
            "overflow_x": null,
            "overflow_y": null,
            "padding": null,
            "right": null,
            "top": null,
            "visibility": null,
            "width": null
          }
        },
        "9a2eb9e0072c49a2820b6bdb1fce962b": {
          "model_module": "@jupyter-widgets/controls",
          "model_name": "ProgressStyleModel",
          "model_module_version": "1.5.0",
          "state": {
            "_model_module": "@jupyter-widgets/controls",
            "_model_module_version": "1.5.0",
            "_model_name": "ProgressStyleModel",
            "_view_count": null,
            "_view_module": "@jupyter-widgets/base",
            "_view_module_version": "1.2.0",
            "_view_name": "StyleView",
            "bar_color": null,
            "description_width": ""
          }
        },
        "bb319bc1ea264fe9aab3e6dc5a00b872": {
          "model_module": "@jupyter-widgets/base",
          "model_name": "LayoutModel",
          "model_module_version": "1.2.0",
          "state": {
            "_model_module": "@jupyter-widgets/base",
            "_model_module_version": "1.2.0",
            "_model_name": "LayoutModel",
            "_view_count": null,
            "_view_module": "@jupyter-widgets/base",
            "_view_module_version": "1.2.0",
            "_view_name": "LayoutView",
            "align_content": null,
            "align_items": null,
            "align_self": null,
            "border": null,
            "bottom": null,
            "display": null,
            "flex": null,
            "flex_flow": null,
            "grid_area": null,
            "grid_auto_columns": null,
            "grid_auto_flow": null,
            "grid_auto_rows": null,
            "grid_column": null,
            "grid_gap": null,
            "grid_row": null,
            "grid_template_areas": null,
            "grid_template_columns": null,
            "grid_template_rows": null,
            "height": null,
            "justify_content": null,
            "justify_items": null,
            "left": null,
            "margin": null,
            "max_height": null,
            "max_width": null,
            "min_height": null,
            "min_width": null,
            "object_fit": null,
            "object_position": null,
            "order": null,
            "overflow": null,
            "overflow_x": null,
            "overflow_y": null,
            "padding": null,
            "right": null,
            "top": null,
            "visibility": null,
            "width": null
          }
        },
        "ed8b9ef611c4447eb03d2b23bb40a313": {
          "model_module": "@jupyter-widgets/controls",
          "model_name": "DescriptionStyleModel",
          "model_module_version": "1.5.0",
          "state": {
            "_model_module": "@jupyter-widgets/controls",
            "_model_module_version": "1.5.0",
            "_model_name": "DescriptionStyleModel",
            "_view_count": null,
            "_view_module": "@jupyter-widgets/base",
            "_view_module_version": "1.2.0",
            "_view_name": "StyleView",
            "description_width": ""
          }
        }
      }
    }
  },
  "nbformat": 4,
  "nbformat_minor": 0
}