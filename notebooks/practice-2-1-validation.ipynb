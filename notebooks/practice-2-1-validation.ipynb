{
 "cells": [
  {
   "cell_type": "markdown",
   "metadata": {},
   "source": [
    "# Схемы валидации\n",
    "\n",
    "## Imports"
   ]
  },
  {
   "cell_type": "code",
   "execution_count": null,
   "metadata": {
    "execution": {
     "iopub.execute_input": "2022-11-19T18:14:23.512490Z",
     "iopub.status.busy": "2022-11-19T18:14:23.512029Z",
     "iopub.status.idle": "2022-11-19T18:14:38.840394Z",
     "shell.execute_reply": "2022-11-19T18:14:38.838727Z",
     "shell.execute_reply.started": "2022-11-19T18:14:23.512448Z"
    },
    "trusted": true
   },
   "outputs": [],
   "source": [
    "!pip install rectools"
   ]
  },
  {
   "cell_type": "code",
   "execution_count": 1,
   "metadata": {
    "ExecuteTime": {
     "end_time": "2022-11-16T13:17:11.007473Z",
     "start_time": "2022-11-16T13:17:09.799477Z"
    },
    "execution": {
     "iopub.execute_input": "2022-11-19T19:58:04.801000Z",
     "iopub.status.busy": "2022-11-19T19:58:04.800506Z",
     "iopub.status.idle": "2022-11-19T19:58:04.908855Z",
     "shell.execute_reply": "2022-11-19T19:58:04.907803Z",
     "shell.execute_reply.started": "2022-11-19T19:58:04.800895Z"
    },
    "pycharm": {
     "is_executing": true
    },
    "trusted": true
   },
   "outputs": [],
   "source": [
    "import pandas as pd\n",
    "import numpy as np\n",
    "\n",
    "import requests\n",
    "from tqdm.auto import tqdm\n",
    "\n",
    "from rectools import Columns"
   ]
  },
  {
   "cell_type": "markdown",
   "metadata": {},
   "source": [
    "## Get KION dataset"
   ]
  },
  {
   "cell_type": "code",
   "execution_count": 8,
   "metadata": {
    "ExecuteTime": {
     "end_time": "2022-11-16T13:17:11.023473Z",
     "start_time": "2022-11-16T13:17:11.010473Z"
    },
    "execution": {
     "iopub.execute_input": "2022-11-19T18:15:53.757386Z",
     "iopub.status.busy": "2022-11-19T18:15:53.756925Z",
     "iopub.status.idle": "2022-11-19T18:15:53.763452Z",
     "shell.execute_reply": "2022-11-19T18:15:53.762052Z",
     "shell.execute_reply.started": "2022-11-19T18:15:53.757341Z"
    },
    "trusted": true
   },
   "outputs": [],
   "source": [
    "url = 'https://github.com/irsafilo/KION_DATASET/raw/f69775be31fa5779907cf0a92ddedb70037fb5ae/data_original.zip'"
   ]
  },
  {
   "cell_type": "code",
   "execution_count": 9,
   "metadata": {
    "ExecuteTime": {
     "end_time": "2022-11-16T13:17:18.301478Z",
     "start_time": "2022-11-16T13:17:11.026473Z"
    },
    "execution": {
     "iopub.execute_input": "2022-11-19T18:15:55.446158Z",
     "iopub.status.busy": "2022-11-19T18:15:55.445718Z",
     "iopub.status.idle": "2022-11-19T18:15:56.311330Z",
     "shell.execute_reply": "2022-11-19T18:15:56.309819Z",
     "shell.execute_reply.started": "2022-11-19T18:15:55.446125Z"
    },
    "trusted": true
   },
   "outputs": [
    {
     "data": {
      "application/vnd.jupyter.widget-view+json": {
       "model_id": "163ac2d3c1774007afb9c944d5e98905",
       "version_major": 2,
       "version_minor": 0
      },
      "text/plain": [
       "kion dataset download:   0%|          | 0.00/78.8M [00:00<?, ?iB/s]"
      ]
     },
     "metadata": {},
     "output_type": "display_data"
    }
   ],
   "source": [
    "req = requests.get(url, stream=True)\n",
    "\n",
    "with open('kion.zip', 'wb') as fd:\n",
    "    total_size_in_bytes = int(req.headers.get('Content-Length', 0))\n",
    "    progress_bar = tqdm(desc='kion dataset download', total=total_size_in_bytes, unit='iB', unit_scale=True)\n",
    "    for chunk in req.iter_content(chunk_size=2 ** 20):\n",
    "        progress_bar.update(len(chunk))\n",
    "        fd.write(chunk)"
   ]
  },
  {
   "cell_type": "code",
   "execution_count": 4,
   "metadata": {
    "ExecuteTime": {
     "end_time": "2022-11-16T13:17:18.316478Z",
     "start_time": "2022-11-16T13:17:18.306479Z"
    }
   },
   "outputs": [],
   "source": [
    "#!unzip kion.zip"
   ]
  },
  {
   "cell_type": "code",
   "execution_count": 10,
   "metadata": {
    "ExecuteTime": {
     "end_time": "2022-11-16T13:17:19.311474Z",
     "start_time": "2022-11-16T13:17:18.319478Z"
    },
    "execution": {
     "iopub.execute_input": "2022-11-19T18:16:23.442067Z",
     "iopub.status.busy": "2022-11-19T18:16:23.441643Z",
     "iopub.status.idle": "2022-11-19T18:16:25.491732Z",
     "shell.execute_reply": "2022-11-19T18:16:25.490335Z",
     "shell.execute_reply.started": "2022-11-19T18:16:23.442033Z"
    },
    "trusted": true
   },
   "outputs": [],
   "source": [
    "import zipfile as zf\n",
    "\n",
    "files = zf.ZipFile('kion.zip','r')\n",
    "files.extractall()\n",
    "files.close()"
   ]
  },
  {
   "cell_type": "markdown",
   "metadata": {},
   "source": [
    "### Read data"
   ]
  },
  {
   "cell_type": "code",
   "execution_count": 11,
   "metadata": {
    "ExecuteTime": {
     "end_time": "2022-11-16T13:17:21.980473Z",
     "start_time": "2022-11-16T13:17:19.314474Z"
    },
    "execution": {
     "iopub.execute_input": "2022-11-19T18:16:35.525015Z",
     "iopub.status.busy": "2022-11-19T18:16:35.524590Z",
     "iopub.status.idle": "2022-11-19T18:16:39.235362Z",
     "shell.execute_reply": "2022-11-19T18:16:39.234149Z",
     "shell.execute_reply.started": "2022-11-19T18:16:35.524981Z"
    },
    "trusted": true
   },
   "outputs": [],
   "source": [
    "interactions = pd.read_csv('data_original/interactions.csv')\n",
    "\n",
    "interactions.rename(\n",
    "    columns={\n",
    "        'track_id': Columns.Item,\n",
    "        'last_watch_dt': Columns.Datetime,\n",
    "        'total_dur': Columns.Weight\n",
    "    }, \n",
    "    inplace=True) \n",
    "\n",
    "interactions[Columns.Datetime] = pd.to_datetime(interactions[Columns.Datetime])"
   ]
  },
  {
   "cell_type": "code",
   "execution_count": 12,
   "metadata": {
    "ExecuteTime": {
     "end_time": "2022-11-16T13:17:22.978473Z",
     "start_time": "2022-11-16T13:17:21.982473Z"
    },
    "execution": {
     "iopub.execute_input": "2022-11-19T18:16:39.237395Z",
     "iopub.status.busy": "2022-11-19T18:16:39.237034Z",
     "iopub.status.idle": "2022-11-19T18:16:40.336409Z",
     "shell.execute_reply": "2022-11-19T18:16:40.335057Z",
     "shell.execute_reply.started": "2022-11-19T18:16:39.237365Z"
    },
    "trusted": true
   },
   "outputs": [],
   "source": [
    "users = pd.read_csv('data_original/users.csv')\n",
    "items = pd.read_csv('data_original/items.csv')"
   ]
  },
  {
   "cell_type": "code",
   "execution_count": 15,
   "metadata": {
    "ExecuteTime": {
     "end_time": "2022-11-16T13:17:23.009473Z",
     "start_time": "2022-11-16T13:17:22.981475Z"
    },
    "execution": {
     "iopub.execute_input": "2022-11-19T18:17:04.469128Z",
     "iopub.status.busy": "2022-11-19T18:17:04.468695Z",
     "iopub.status.idle": "2022-11-19T18:17:04.487531Z",
     "shell.execute_reply": "2022-11-19T18:17:04.486279Z",
     "shell.execute_reply.started": "2022-11-19T18:17:04.469076Z"
    },
    "trusted": true
   },
   "outputs": [
    {
     "data": {
      "text/html": [
       "<div>\n",
       "<style scoped>\n",
       "    .dataframe tbody tr th:only-of-type {\n",
       "        vertical-align: middle;\n",
       "    }\n",
       "\n",
       "    .dataframe tbody tr th {\n",
       "        vertical-align: top;\n",
       "    }\n",
       "\n",
       "    .dataframe thead th {\n",
       "        text-align: right;\n",
       "    }\n",
       "</style>\n",
       "<table border=\"1\" class=\"dataframe\">\n",
       "  <thead>\n",
       "    <tr style=\"text-align: right;\">\n",
       "      <th></th>\n",
       "      <th>user_id</th>\n",
       "      <th>item_id</th>\n",
       "      <th>datetime</th>\n",
       "      <th>weight</th>\n",
       "      <th>watched_pct</th>\n",
       "    </tr>\n",
       "  </thead>\n",
       "  <tbody>\n",
       "    <tr>\n",
       "      <th>0</th>\n",
       "      <td>176549</td>\n",
       "      <td>9506</td>\n",
       "      <td>2021-05-11</td>\n",
       "      <td>4250</td>\n",
       "      <td>72.0</td>\n",
       "    </tr>\n",
       "    <tr>\n",
       "      <th>1</th>\n",
       "      <td>699317</td>\n",
       "      <td>1659</td>\n",
       "      <td>2021-05-29</td>\n",
       "      <td>8317</td>\n",
       "      <td>100.0</td>\n",
       "    </tr>\n",
       "    <tr>\n",
       "      <th>2</th>\n",
       "      <td>656683</td>\n",
       "      <td>7107</td>\n",
       "      <td>2021-05-09</td>\n",
       "      <td>10</td>\n",
       "      <td>0.0</td>\n",
       "    </tr>\n",
       "    <tr>\n",
       "      <th>3</th>\n",
       "      <td>864613</td>\n",
       "      <td>7638</td>\n",
       "      <td>2021-07-05</td>\n",
       "      <td>14483</td>\n",
       "      <td>100.0</td>\n",
       "    </tr>\n",
       "    <tr>\n",
       "      <th>4</th>\n",
       "      <td>964868</td>\n",
       "      <td>9506</td>\n",
       "      <td>2021-04-30</td>\n",
       "      <td>6725</td>\n",
       "      <td>100.0</td>\n",
       "    </tr>\n",
       "    <tr>\n",
       "      <th>5476246</th>\n",
       "      <td>648596</td>\n",
       "      <td>12225</td>\n",
       "      <td>2021-08-13</td>\n",
       "      <td>76</td>\n",
       "      <td>0.0</td>\n",
       "    </tr>\n",
       "    <tr>\n",
       "      <th>5476247</th>\n",
       "      <td>546862</td>\n",
       "      <td>9673</td>\n",
       "      <td>2021-04-13</td>\n",
       "      <td>2308</td>\n",
       "      <td>49.0</td>\n",
       "    </tr>\n",
       "    <tr>\n",
       "      <th>5476248</th>\n",
       "      <td>697262</td>\n",
       "      <td>15297</td>\n",
       "      <td>2021-08-20</td>\n",
       "      <td>18307</td>\n",
       "      <td>63.0</td>\n",
       "    </tr>\n",
       "    <tr>\n",
       "      <th>5476249</th>\n",
       "      <td>384202</td>\n",
       "      <td>16197</td>\n",
       "      <td>2021-04-19</td>\n",
       "      <td>6203</td>\n",
       "      <td>100.0</td>\n",
       "    </tr>\n",
       "    <tr>\n",
       "      <th>5476250</th>\n",
       "      <td>319709</td>\n",
       "      <td>4436</td>\n",
       "      <td>2021-08-15</td>\n",
       "      <td>3921</td>\n",
       "      <td>45.0</td>\n",
       "    </tr>\n",
       "  </tbody>\n",
       "</table>\n",
       "</div>"
      ],
      "text/plain": [
       "         user_id  item_id   datetime  weight  watched_pct\n",
       "0         176549     9506 2021-05-11    4250         72.0\n",
       "1         699317     1659 2021-05-29    8317        100.0\n",
       "2         656683     7107 2021-05-09      10          0.0\n",
       "3         864613     7638 2021-07-05   14483        100.0\n",
       "4         964868     9506 2021-04-30    6725        100.0\n",
       "5476246   648596    12225 2021-08-13      76          0.0\n",
       "5476247   546862     9673 2021-04-13    2308         49.0\n",
       "5476248   697262    15297 2021-08-20   18307         63.0\n",
       "5476249   384202    16197 2021-04-19    6203        100.0\n",
       "5476250   319709     4436 2021-08-15    3921         45.0"
      ]
     },
     "execution_count": 15,
     "metadata": {},
     "output_type": "execute_result"
    }
   ],
   "source": [
    "def headtail(df):\n",
    "    return pd.concat([df.head(), df.tail()])\n",
    "\n",
    "headtail(interactions)"
   ]
  },
  {
   "cell_type": "code",
   "execution_count": 17,
   "metadata": {
    "ExecuteTime": {
     "end_time": "2022-11-16T13:17:23.024474Z",
     "start_time": "2022-11-16T13:17:23.011473Z"
    },
    "execution": {
     "iopub.execute_input": "2022-11-19T18:17:39.759467Z",
     "iopub.status.busy": "2022-11-19T18:17:39.758096Z",
     "iopub.status.idle": "2022-11-19T18:17:39.777001Z",
     "shell.execute_reply": "2022-11-19T18:17:39.775484Z",
     "shell.execute_reply.started": "2022-11-19T18:17:39.759399Z"
    },
    "trusted": true
   },
   "outputs": [
    {
     "name": "stdout",
     "output_type": "stream",
     "text": [
      "<class 'pandas.core.frame.DataFrame'>\n",
      "RangeIndex: 5476251 entries, 0 to 5476250\n",
      "Data columns (total 5 columns):\n",
      " #   Column       Dtype         \n",
      "---  ------       -----         \n",
      " 0   user_id      int64         \n",
      " 1   item_id      int64         \n",
      " 2   datetime     datetime64[ns]\n",
      " 3   weight       int64         \n",
      " 4   watched_pct  float64       \n",
      "dtypes: datetime64[ns](1), float64(1), int64(3)\n",
      "memory usage: 208.9 MB\n"
     ]
    }
   ],
   "source": [
    "interactions.info(memory_usage='deep')"
   ]
  },
  {
   "cell_type": "markdown",
   "metadata": {},
   "source": [
    "## Validation\n",
    "\n",
    "### Random "
   ]
  },
  {
   "cell_type": "code",
   "execution_count": 18,
   "metadata": {
    "ExecuteTime": {
     "end_time": "2022-11-16T13:17:23.087473Z",
     "start_time": "2022-11-16T13:17:23.032474Z"
    },
    "execution": {
     "iopub.execute_input": "2022-11-19T18:17:46.100005Z",
     "iopub.status.busy": "2022-11-19T18:17:46.099204Z",
     "iopub.status.idle": "2022-11-19T18:17:46.172233Z",
     "shell.execute_reply": "2022-11-19T18:17:46.170955Z",
     "shell.execute_reply.started": "2022-11-19T18:17:46.099959Z"
    },
    "trusted": true
   },
   "outputs": [
    {
     "name": "stdout",
     "output_type": "stream",
     "text": [
      "CPU times: user 50 ms, sys: 15.6 ms, total: 65.6 ms\n",
      "Wall time: 64.5 ms\n"
     ]
    }
   ],
   "source": [
    "%%time\n",
    "test_size = 0.2\n",
    "interactions['is_train'] = np.random.rand(interactions.shape[0]) > test_size"
   ]
  },
  {
   "cell_type": "code",
   "execution_count": 19,
   "metadata": {
    "ExecuteTime": {
     "end_time": "2022-11-16T13:17:23.134473Z",
     "start_time": "2022-11-16T13:17:23.090473Z"
    },
    "execution": {
     "iopub.execute_input": "2022-11-19T18:17:50.170206Z",
     "iopub.status.busy": "2022-11-19T18:17:50.168691Z",
     "iopub.status.idle": "2022-11-19T18:17:50.223179Z",
     "shell.execute_reply": "2022-11-19T18:17:50.221790Z",
     "shell.execute_reply.started": "2022-11-19T18:17:50.170149Z"
    },
    "trusted": true
   },
   "outputs": [
    {
     "data": {
      "text/plain": [
       "True     4380005\n",
       "False    1096246\n",
       "Name: is_train, dtype: int64"
      ]
     },
     "execution_count": 19,
     "metadata": {},
     "output_type": "execute_result"
    }
   ],
   "source": [
    "interactions['is_train'].value_counts()"
   ]
  },
  {
   "cell_type": "code",
   "execution_count": 20,
   "metadata": {
    "ExecuteTime": {
     "end_time": "2022-11-16T13:17:23.358474Z",
     "start_time": "2022-11-16T13:17:23.137473Z"
    },
    "execution": {
     "iopub.execute_input": "2022-11-19T18:17:51.143914Z",
     "iopub.status.busy": "2022-11-19T18:17:51.143071Z",
     "iopub.status.idle": "2022-11-19T18:17:51.491770Z",
     "shell.execute_reply": "2022-11-19T18:17:51.490534Z",
     "shell.execute_reply.started": "2022-11-19T18:17:51.143873Z"
    },
    "trusted": true
   },
   "outputs": [
    {
     "name": "stdout",
     "output_type": "stream",
     "text": [
      "Train: 4380005, Test: 1096246\n"
     ]
    }
   ],
   "source": [
    "train = interactions[interactions['is_train'] == 1]\n",
    "test = interactions[interactions['is_train'] == 0]\n",
    "print(f'Train: {train.shape[0]}, Test: {test.shape[0]}')"
   ]
  },
  {
   "cell_type": "code",
   "execution_count": 21,
   "metadata": {
    "ExecuteTime": {
     "end_time": "2022-11-16T13:17:23.374473Z",
     "start_time": "2022-11-16T13:17:23.361473Z"
    },
    "execution": {
     "iopub.execute_input": "2022-11-19T18:17:53.241946Z",
     "iopub.status.busy": "2022-11-19T18:17:53.241158Z",
     "iopub.status.idle": "2022-11-19T18:17:53.247268Z",
     "shell.execute_reply": "2022-11-19T18:17:53.246023Z",
     "shell.execute_reply.started": "2022-11-19T18:17:53.241900Z"
    },
    "trusted": true
   },
   "outputs": [],
   "source": [
    "del interactions['is_train']"
   ]
  },
  {
   "cell_type": "markdown",
   "metadata": {},
   "source": [
    "Генерация через маски"
   ]
  },
  {
   "cell_type": "code",
   "execution_count": 22,
   "metadata": {
    "ExecuteTime": {
     "end_time": "2022-11-16T13:17:23.438473Z",
     "start_time": "2022-11-16T13:17:23.376473Z"
    },
    "execution": {
     "iopub.execute_input": "2022-11-19T18:18:19.288305Z",
     "iopub.status.busy": "2022-11-19T18:18:19.287864Z",
     "iopub.status.idle": "2022-11-19T18:18:19.358153Z",
     "shell.execute_reply": "2022-11-19T18:18:19.357181Z",
     "shell.execute_reply.started": "2022-11-19T18:18:19.288272Z"
    },
    "trusted": true
   },
   "outputs": [
    {
     "name": "stdout",
     "output_type": "stream",
     "text": [
      "CPU times: user 54.3 ms, sys: 12.1 ms, total: 66.4 ms\n",
      "Wall time: 64 ms\n"
     ]
    }
   ],
   "source": [
    "%%time\n",
    "test_size = 0.2\n",
    "train_mask = np.random.rand(interactions.shape[0]) > test_size\n",
    "test_mask = ~train_mask"
   ]
  },
  {
   "cell_type": "code",
   "execution_count": 24,
   "metadata": {
    "ExecuteTime": {
     "end_time": "2022-11-16T13:17:23.676473Z",
     "start_time": "2022-11-16T13:17:23.440473Z"
    },
    "execution": {
     "iopub.execute_input": "2022-11-19T18:18:33.356228Z",
     "iopub.status.busy": "2022-11-19T18:18:33.355330Z",
     "iopub.status.idle": "2022-11-19T18:18:33.630801Z",
     "shell.execute_reply": "2022-11-19T18:18:33.629437Z",
     "shell.execute_reply.started": "2022-11-19T18:18:33.356181Z"
    },
    "trusted": true
   },
   "outputs": [
    {
     "name": "stdout",
     "output_type": "stream",
     "text": [
      "Train: 4380790, Test: 1095461\n"
     ]
    }
   ],
   "source": [
    "train = interactions[train_mask]\n",
    "test = interactions[test_mask]\n",
    "print(f'Train: {train.shape[0]}, Test: {test.shape[0]}')"
   ]
  },
  {
   "cell_type": "markdown",
   "metadata": {},
   "source": [
    "Это легко обернуть в функцию для повторного вызова"
   ]
  },
  {
   "cell_type": "code",
   "execution_count": 25,
   "metadata": {
    "ExecuteTime": {
     "end_time": "2022-11-16T13:17:23.692473Z",
     "start_time": "2022-11-16T13:17:23.679473Z"
    },
    "execution": {
     "iopub.execute_input": "2022-11-19T18:18:35.343325Z",
     "iopub.status.busy": "2022-11-19T18:18:35.342232Z",
     "iopub.status.idle": "2022-11-19T18:18:35.349218Z",
     "shell.execute_reply": "2022-11-19T18:18:35.347876Z",
     "shell.execute_reply.started": "2022-11-19T18:18:35.343286Z"
    },
    "trusted": true
   },
   "outputs": [],
   "source": [
    "def repeated_train_test_split(n_folds, df_size, test_size=0.2):\n",
    "    for _ in range(n_folds):\n",
    "        train_mask = np.random.rand(interactions.shape[0]) > test_size\n",
    "        test_mask = ~train_mask\n",
    "        yield train_mask, test_mask"
   ]
  },
  {
   "cell_type": "code",
   "execution_count": 26,
   "metadata": {
    "ExecuteTime": {
     "end_time": "2022-11-16T13:17:24.354476Z",
     "start_time": "2022-11-16T13:17:23.694473Z"
    },
    "execution": {
     "iopub.execute_input": "2022-11-19T18:18:52.491933Z",
     "iopub.status.busy": "2022-11-19T18:18:52.491477Z",
     "iopub.status.idle": "2022-11-19T18:18:53.465832Z",
     "shell.execute_reply": "2022-11-19T18:18:53.463584Z",
     "shell.execute_reply.started": "2022-11-19T18:18:52.491892Z"
    },
    "trusted": true
   },
   "outputs": [
    {
     "name": "stdout",
     "output_type": "stream",
     "text": [
      "Fold#0 | Train: 2738953, Test: 2737298\n",
      "Fold#1 | Train: 2739493, Test: 2736758\n",
      "Fold#2 | Train: 2737940, Test: 2738311\n"
     ]
    }
   ],
   "source": [
    "iterator = repeated_train_test_split(3, interactions.shape[0], test_size=0.5)\n",
    "\n",
    "for i, (train_mask, test_mask) in enumerate(iterator):\n",
    "    train = interactions[train_mask]\n",
    "    test = interactions[test_mask]\n",
    "    print(f'Fold#{i} | Train: {train.shape[0]}, Test: {test.shape[0]}')"
   ]
  },
  {
   "cell_type": "markdown",
   "metadata": {},
   "source": [
    "Как лучше зафиксировать `random_seed`"
   ]
  },
  {
   "cell_type": "code",
   "execution_count": 27,
   "metadata": {
    "ExecuteTime": {
     "end_time": "2022-11-16T13:17:24.370475Z",
     "start_time": "2022-11-16T13:17:24.357475Z"
    },
    "execution": {
     "iopub.execute_input": "2022-11-19T18:20:48.659071Z",
     "iopub.status.busy": "2022-11-19T18:20:48.658121Z",
     "iopub.status.idle": "2022-11-19T18:20:48.667737Z",
     "shell.execute_reply": "2022-11-19T18:20:48.666362Z",
     "shell.execute_reply.started": "2022-11-19T18:20:48.659022Z"
    },
    "trusted": true
   },
   "outputs": [],
   "source": [
    "def repeated_train_test_split_1(n_folds, df_size, test_size=0.2, random_seed=23):\n",
    "    np.random.seed(random_seed)\n",
    "    for _ in range(n_folds):\n",
    "        train_mask = np.random.rand(interactions.shape[0]) > test_size\n",
    "        test_mask = ~train_mask\n",
    "        yield train_mask, test_mask\n",
    "        \n",
    "def repeated_train_test_split_2(n_folds, df_size, test_size=0.2, random_seed=23):\n",
    "    for _ in range(n_folds):\n",
    "        np.random.seed(random_seed)\n",
    "        train_mask = np.random.rand(interactions.shape[0]) > test_size\n",
    "        test_mask = ~train_mask\n",
    "        yield train_mask, test_mask"
   ]
  },
  {
   "cell_type": "code",
   "execution_count": 28,
   "metadata": {
    "ExecuteTime": {
     "end_time": "2022-11-16T13:17:27.800476Z",
     "start_time": "2022-11-16T13:17:24.373475Z"
    },
    "execution": {
     "iopub.execute_input": "2022-11-19T18:21:51.718782Z",
     "iopub.status.busy": "2022-11-19T18:21:51.717871Z",
     "iopub.status.idle": "2022-11-19T18:23:02.522728Z",
     "shell.execute_reply": "2022-11-19T18:23:02.521186Z",
     "shell.execute_reply.started": "2022-11-19T18:21:51.718731Z"
    },
    "trusted": true
   },
   "outputs": [
    {
     "name": "stdout",
     "output_type": "stream",
     "text": [
      "[2738244 2738742 2738953] [2738244 2738244 2738244]\n"
     ]
    }
   ],
   "source": [
    "iterator_1 = repeated_train_test_split_1(3, interactions.shape[0], test_size=0.5)\n",
    "folds_1 = np.array([sum(train_mask) for train_mask, _ in iterator_1])\n",
    "\n",
    "iterator_2 = repeated_train_test_split_2(3, interactions.shape[0], test_size=0.5)\n",
    "folds_2 = np.array([sum(train_mask) for train_mask, _ in iterator_2])\n",
    "print(folds_1, folds_2)"
   ]
  },
  {
   "cell_type": "code",
   "execution_count": 29,
   "metadata": {
    "ExecuteTime": {
     "end_time": "2022-11-16T13:17:31.231473Z",
     "start_time": "2022-11-16T13:17:27.803477Z"
    },
    "execution": {
     "iopub.execute_input": "2022-11-19T18:23:02.525141Z",
     "iopub.status.busy": "2022-11-19T18:23:02.524640Z",
     "iopub.status.idle": "2022-11-19T18:24:13.756452Z",
     "shell.execute_reply": "2022-11-19T18:24:13.755218Z",
     "shell.execute_reply.started": "2022-11-19T18:23:02.525105Z"
    },
    "trusted": true
   },
   "outputs": [
    {
     "name": "stdout",
     "output_type": "stream",
     "text": [
      "[2738244 2738742 2738953] [2738244 2738244 2738244]\n"
     ]
    }
   ],
   "source": [
    "iterator_1 = repeated_train_test_split_1(3, interactions.shape[0], test_size=0.5)\n",
    "folds_1 = np.array([sum(train_mask) for train_mask, _ in iterator_1])\n",
    "\n",
    "iterator_2 = repeated_train_test_split_2(3, interactions.shape[0], test_size=0.5)\n",
    "folds_2 = np.array([sum(train_mask) for train_mask, _ in iterator_2])\n",
    "print(folds_1, folds_2)"
   ]
  },
  {
   "cell_type": "markdown",
   "metadata": {},
   "source": [
    "`sklearn-like` класс для разбиения на фолды"
   ]
  },
  {
   "cell_type": "code",
   "execution_count": 30,
   "metadata": {
    "ExecuteTime": {
     "end_time": "2022-11-16T13:17:31.247473Z",
     "start_time": "2022-11-16T13:17:31.233473Z"
    },
    "execution": {
     "iopub.execute_input": "2022-11-19T18:24:51.607727Z",
     "iopub.status.busy": "2022-11-19T18:24:51.607269Z",
     "iopub.status.idle": "2022-11-19T18:24:51.615993Z",
     "shell.execute_reply": "2022-11-19T18:24:51.614955Z",
     "shell.execute_reply.started": "2022-11-19T18:24:51.607688Z"
    },
    "trusted": true
   },
   "outputs": [],
   "source": [
    "class RepeatedRandomSplit():\n",
    "    def __init__(self, n_folds, test_size=0.2, random_seed=23):\n",
    "        self.n_folds = n_folds\n",
    "        self.test_size = test_size\n",
    "        self.random_seed = random_seed\n",
    "    \n",
    "    def split(self, df):\n",
    "        np.random.seed(self.random_seed)\n",
    "        for _ in range(self.n_folds):\n",
    "            train_mask = np.random.rand(df.shape[0]) > self.test_size\n",
    "            test_mask = ~train_mask\n",
    "            yield train_mask, test_mask"
   ]
  },
  {
   "cell_type": "code",
   "execution_count": 31,
   "metadata": {
    "ExecuteTime": {
     "end_time": "2022-11-16T13:17:31.896473Z",
     "start_time": "2022-11-16T13:17:31.250473Z"
    },
    "execution": {
     "iopub.execute_input": "2022-11-19T18:24:53.301202Z",
     "iopub.status.busy": "2022-11-19T18:24:53.300748Z",
     "iopub.status.idle": "2022-11-19T18:24:54.257234Z",
     "shell.execute_reply": "2022-11-19T18:24:54.255750Z",
     "shell.execute_reply.started": "2022-11-19T18:24:53.301164Z"
    },
    "trusted": true
   },
   "outputs": [
    {
     "name": "stdout",
     "output_type": "stream",
     "text": [
      "Fold#0 | Train: 2738244, Test: 2738007\n",
      "Fold#1 | Train: 2738742, Test: 2737509\n",
      "Fold#2 | Train: 2738953, Test: 2737298\n"
     ]
    }
   ],
   "source": [
    "cv = RepeatedRandomSplit(n_folds=3, test_size=0.5, random_seed=23)\n",
    "for i, (train_mask, test_mask) in enumerate(cv.split(interactions)):\n",
    "    train = interactions[train_mask]\n",
    "    test = interactions[test_mask]\n",
    "    print(f'Fold#{i} | Train: {train.shape[0]}, Test: {test.shape[0]}')"
   ]
  },
  {
   "cell_type": "markdown",
   "metadata": {},
   "source": [
    "### Time-based\n",
    "\n",
    "Вначале поверхностно изучим данные"
   ]
  },
  {
   "cell_type": "code",
   "execution_count": 32,
   "metadata": {
    "ExecuteTime": {
     "end_time": "2022-11-16T13:17:31.942473Z",
     "start_time": "2022-11-16T13:17:31.898473Z"
    },
    "execution": {
     "iopub.execute_input": "2022-11-19T18:25:04.445040Z",
     "iopub.status.busy": "2022-11-19T18:25:04.444628Z",
     "iopub.status.idle": "2022-11-19T18:25:04.490202Z",
     "shell.execute_reply": "2022-11-19T18:25:04.488484Z",
     "shell.execute_reply.started": "2022-11-19T18:25:04.445009Z"
    },
    "trusted": true
   },
   "outputs": [
    {
     "data": {
      "text/plain": [
       "(Timestamp('2021-03-13 00:00:00'), Timestamp('2021-08-22 00:00:00'))"
      ]
     },
     "execution_count": 32,
     "metadata": {},
     "output_type": "execute_result"
    }
   ],
   "source": [
    "interactions[Columns.Datetime].min(), interactions[Columns.Datetime].max()"
   ]
  },
  {
   "cell_type": "code",
   "execution_count": 33,
   "metadata": {
    "ExecuteTime": {
     "end_time": "2022-11-16T13:17:32.050473Z",
     "start_time": "2022-11-16T13:17:31.945473Z"
    },
    "execution": {
     "iopub.execute_input": "2022-11-19T18:25:54.877513Z",
     "iopub.status.busy": "2022-11-19T18:25:54.877003Z",
     "iopub.status.idle": "2022-11-19T18:25:55.006511Z",
     "shell.execute_reply": "2022-11-19T18:25:55.005206Z",
     "shell.execute_reply.started": "2022-11-19T18:25:54.877471Z"
    },
    "trusted": true
   },
   "outputs": [
    {
     "data": {
      "text/plain": [
       "datetime\n",
       "2021-03-13    16104\n",
       "2021-03-14    15606\n",
       "2021-03-15    12363\n",
       "2021-03-16    12643\n",
       "2021-03-17    12753\n",
       "2021-08-18    56789\n",
       "2021-08-19    58640\n",
       "2021-08-20    60145\n",
       "2021-08-21    68834\n",
       "2021-08-22    71171\n",
       "Name: interactions, dtype: int64"
      ]
     },
     "execution_count": 33,
     "metadata": {},
     "output_type": "execute_result"
    }
   ],
   "source": [
    "daily_inters = interactions.groupby(Columns.Datetime)[Columns.User].agg('count')\n",
    "daily_inters.name = 'interactions'\n",
    "headtail(daily_inters)                    "
   ]
  },
  {
   "cell_type": "code",
   "execution_count": 34,
   "metadata": {
    "ExecuteTime": {
     "end_time": "2022-11-16T13:17:32.989473Z",
     "start_time": "2022-11-16T13:17:32.052473Z"
    },
    "execution": {
     "iopub.execute_input": "2022-11-19T18:26:11.721782Z",
     "iopub.status.busy": "2022-11-19T18:26:11.721365Z",
     "iopub.status.idle": "2022-11-19T18:26:12.078397Z",
     "shell.execute_reply": "2022-11-19T18:26:12.076895Z",
     "shell.execute_reply.started": "2022-11-19T18:26:11.721750Z"
    },
    "trusted": true
   },
   "outputs": [
    {
     "data": {
      "image/png": "[encoded data removed]",
      "text/plain": [
       "<Figure size 432x288 with 1 Axes>"
      ]
     },
     "metadata": {
      "needs_background": "light"
     },
     "output_type": "display_data"
    }
   ],
   "source": [
    "ax = daily_inters.plot()"
   ]
  },
  {
   "cell_type": "code",
   "execution_count": 35,
   "metadata": {
    "ExecuteTime": {
     "end_time": "2022-11-16T13:17:33.191473Z",
     "start_time": "2022-11-16T13:17:32.992474Z"
    },
    "execution": {
     "iopub.execute_input": "2022-11-19T18:26:15.455131Z",
     "iopub.status.busy": "2022-11-19T18:26:15.454734Z",
     "iopub.status.idle": "2022-11-19T18:26:16.659738Z",
     "shell.execute_reply": "2022-11-19T18:26:16.658633Z",
     "shell.execute_reply.started": "2022-11-19T18:26:15.455100Z"
    },
    "trusted": true
   },
   "outputs": [],
   "source": [
    "import plotly.express as px"
   ]
  },
  {
   "cell_type": "code",
   "execution_count": 37,
   "metadata": {
    "ExecuteTime": {
     "end_time": "2022-11-16T13:17:35.059475Z",
     "start_time": "2022-11-16T13:17:33.194472Z"
    },
    "execution": {
     "iopub.execute_input": "2022-11-19T18:28:08.061210Z",
     "iopub.status.busy": "2022-11-19T18:28:08.060685Z",
     "iopub.status.idle": "2022-11-19T18:28:08.132511Z",
     "shell.execute_reply": "2022-11-19T18:28:08.131166Z",
     "shell.execute_reply.started": "2022-11-19T18:28:08.061168Z"
    },
    "trusted": true
   },
   "outputs": [
    {
     "data": {
      "text/html": [
       "<div>                            <div id=\"09dccfd1-ca5f-4c0d-9f82-67a33f7e0967\" class=\"plotly-graph-div\" style=\"height:525px; width:100%;\"></div>            <script type=\"text/javascript\">                require([\"plotly\"], function(Plotly) {                    window.PLOTLYENV=window.PLOTLYENV || {};                                    if (document.getElementById(\"09dccfd1-ca5f-4c0d-9f82-67a33f7e0967\")) {                    Plotly.newPlot(                        \"09dccfd1-ca5f-4c0d-9f82-67a33f7e0967\",                        [{\"alignmentgroup\":\"True\",\"hovertemplate\":\"variable=interactions<br>datetime=%{x}<br>value=%{y}<extra></extra>\",\"legendgroup\":\"interactions\",\"marker\":{\"color\":\"#636efa\",\"pattern\":{\"shape\":\"\"}},\"name\":\"interactions\",\"offsetgroup\":\"interactions\",\"orientation\":\"v\",\"showlegend\":true,\"textposition\":\"auto\",\"x\":[\"2021-03-13T00:00:00\",\"2021-03-14T00:00:00\",\"2021-03-15T00:00:00\",\"2021-03-16T00:00:00\",\"2021-03-17T00:00:00\",\"2021-03-18T00:00:00\",\"2021-03-19T00:00:00\",\"2021-03-20T00:00:00\",\"2021-03-21T00:00:00\",\"2021-03-22T00:00:00\",\"2021-03-23T00:00:00\",\"2021-03-24T00:00:00\",\"2021-03-25T00:00:00\",\"2021-03-26T00:00:00\",\"2021-03-27T00:00:00\",\"2021-03-28T00:00:00\",\"2021-03-29T00:00:00\",\"2021-03-30T00:00:00\",\"2021-03-31T00:00:00\",\"2021-04-01T00:00:00\",\"2021-04-02T00:00:00\",\"2021-04-03T00:00:00\",\"2021-04-04T00:00:00\",\"2021-04-05T00:00:00\",\"2021-04-06T00:00:00\",\"2021-04-07T00:00:00\",\"2021-04-08T00:00:00\",\"2021-04-09T00:00:00\",\"2021-04-10T00:00:00\",\"2021-04-11T00:00:00\",\"2021-04-12T00:00:00\",\"2021-04-13T00:00:00\",\"2021-04-14T00:00:00\",\"2021-04-15T00:00:00\",\"2021-04-16T00:00:00\",\"2021-04-17T00:00:00\",\"2021-04-18T00:00:00\",\"2021-04-19T00:00:00\",\"2021-04-20T00:00:00\",\"2021-04-21T00:00:00\",\"2021-04-22T00:00:00\",\"2021-04-23T00:00:00\",\"2021-04-24T00:00:00\",\"2021-04-25T00:00:00\",\"2021-04-26T00:00:00\",\"2021-04-27T00:00:00\",\"2021-04-28T00:00:00\",\"2021-04-29T00:00:00\",\"2021-04-30T00:00:00\",\"2021-05-01T00:00:00\",\"2021-05-02T00:00:00\",\"2021-05-03T00:00:00\",\"2021-05-04T00:00:00\",\"2021-05-05T00:00:00\",\"2021-05-06T00:00:00\",\"2021-05-07T00:00:00\",\"2021-05-08T00:00:00\",\"2021-05-09T00:00:00\",\"2021-05-10T00:00:00\",\"2021-05-11T00:00:00\",\"2021-05-12T00:00:00\",\"2021-05-13T00:00:00\",\"2021-05-14T00:00:00\",\"2021-05-15T00:00:00\",\"2021-05-16T00:00:00\",\"2021-05-17T00:00:00\",\"2021-05-18T00:00:00\",\"2021-05-19T00:00:00\",\"2021-05-20T00:00:00\",\"2021-05-21T00:00:00\",\"2021-05-22T00:00:00\",\"2021-05-23T00:00:00\",\"2021-05-24T00:00:00\",\"2021-05-25T00:00:00\",\"2021-05-26T00:00:00\",\"2021-05-27T00:00:00\",\"2021-05-28T00:00:00\",\"2021-05-29T00:00:00\",\"2021-05-30T00:00:00\",\"2021-05-31T00:00:00\",\"2021-06-01T00:00:00\",\"2021-06-02T00:00:00\",\"2021-06-03T00:00:00\",\"2021-06-04T00:00:00\",\"2021-06-05T00:00:00\",\"2021-06-06T00:00:00\",\"2021-06-07T00:00:00\",\"2021-06-08T00:00:00\",\"2021-06-09T00:00:00\",\"2021-06-10T00:00:00\",\"2021-06-11T00:00:00\",\"2021-06-12T00:00:00\",\"2021-06-13T00:00:00\",\"2021-06-14T00:00:00\",\"2021-06-15T00:00:00\",\"2021-06-16T00:00:00\",\"2021-06-17T00:00:00\",\"2021-06-18T00:00:00\",\"2021-06-19T00:00:00\",\"2021-06-20T00:00:00\",\"2021-06-21T00:00:00\",\"2021-06-22T00:00:00\",\"2021-06-23T00:00:00\",\"2021-06-24T00:00:00\",\"2021-06-25T00:00:00\",\"2021-06-26T00:00:00\",\"2021-06-27T00:00:00\",\"2021-06-28T00:00:00\",\"2021-06-29T00:00:00\",\"2021-06-30T00:00:00\",\"2021-07-01T00:00:00\",\"2021-07-02T00:00:00\",\"2021-07-03T00:00:00\",\"2021-07-04T00:00:00\",\"2021-07-05T00:00:00\",\"2021-07-06T00:00:00\",\"2021-07-07T00:00:00\",\"2021-07-08T00:00:00\",\"2021-07-09T00:00:00\",\"2021-07-10T00:00:00\",\"2021-07-11T00:00:00\",\"2021-07-12T00:00:00\",\"2021-07-13T00:00:00\",\"2021-07-14T00:00:00\",\"2021-07-15T00:00:00\",\"2021-07-16T00:00:00\",\"2021-07-17T00:00:00\",\"2021-07-18T00:00:00\",\"2021-07-19T00:00:00\",\"2021-07-20T00:00:00\",\"2021-07-21T00:00:00\",\"2021-07-22T00:00:00\",\"2021-07-23T00:00:00\",\"2021-07-24T00:00:00\",\"2021-07-25T00:00:00\",\"2021-07-26T00:00:00\",\"2021-07-27T00:00:00\",\"2021-07-28T00:00:00\",\"2021-07-29T00:00:00\",\"2021-07-30T00:00:00\",\"2021-07-31T00:00:00\",\"2021-08-01T00:00:00\",\"2021-08-02T00:00:00\",\"2021-08-03T00:00:00\",\"2021-08-04T00:00:00\",\"2021-08-05T00:00:00\",\"2021-08-06T00:00:00\",\"2021-08-07T00:00:00\",\"2021-08-08T00:00:00\",\"2021-08-09T00:00:00\",\"2021-08-10T00:00:00\",\"2021-08-11T00:00:00\",\"2021-08-12T00:00:00\",\"2021-08-13T00:00:00\",\"2021-08-14T00:00:00\",\"2021-08-15T00:00:00\",\"2021-08-16T00:00:00\",\"2021-08-17T00:00:00\",\"2021-08-18T00:00:00\",\"2021-08-19T00:00:00\",\"2021-08-20T00:00:00\",\"2021-08-21T00:00:00\",\"2021-08-22T00:00:00\"],\"xaxis\":\"x\",\"y\":[16104,15606,12363,12643,12753,12788,13657,15346,15560,12752,13147,13435,12698,13909,15657,16112,12783,13101,13460,12966,14084,15431,15346,12642,12528,13129,13827,14416,15937,16046,12835,12322,12451,12275,13342,15464,16275,14286,20420,23200,21274,22127,26161,28964,21625,22590,21406,19987,21406,23479,24767,26267,25983,23941,23510,23201,27550,25986,27242,20957,20578,20729,21152,24530,24914,20960,20574,21561,22712,25697,27895,29978,24317,23667,22529,23881,24131,29035,31308,26821,26587,27577,28683,33150,34795,37096,31402,31107,32896,38964,37935,38619,42125,38973,35993,57686,41440,42174,43679,47989,39127,39693,41688,38394,41428,45898,48903,43301,43887,67749,53900,46642,48832,52812,43375,41380,41163,41592,40955,44798,46250,42487,43764,43128,43010,44878,49714,54139,45541,44431,44422,46313,46911,50317,54378,48531,49324,50267,50585,53121,59499,62128,53495,52181,51911,51047,53745,59316,61454,52794,53712,55617,56497,55843,61644,66546,54546,54311,56789,58640,60145,68834,71171],\"yaxis\":\"y\",\"type\":\"bar\"}],                        {\"template\":{\"data\":{\"histogram2dcontour\":[{\"type\":\"histogram2dcontour\",\"colorbar\":{\"outlinewidth\":0,\"ticks\":\"\"},\"colorscale\":[[0.0,\"#0d0887\"],[0.1111111111111111,\"#46039f\"],[0.2222222222222222,\"#7201a8\"],[0.3333333333333333,\"#9c179e\"],[0.4444444444444444,\"#bd3786\"],[0.5555555555555556,\"#d8576b\"],[0.6666666666666666,\"#ed7953\"],[0.7777777777777778,\"#fb9f3a\"],[0.8888888888888888,\"#fdca26\"],[1.0,\"#f0f921\"]]}],\"choropleth\":[{\"type\":\"choropleth\",\"colorbar\":{\"outlinewidth\":0,\"ticks\":\"\"}}],\"histogram2d\":[{\"type\":\"histogram2d\",\"colorbar\":{\"outlinewidth\":0,\"ticks\":\"\"},\"colorscale\":[[0.0,\"#0d0887\"],[0.1111111111111111,\"#46039f\"],[0.2222222222222222,\"#7201a8\"],[0.3333333333333333,\"#9c179e\"],[0.4444444444444444,\"#bd3786\"],[0.5555555555555556,\"#d8576b\"],[0.6666666666666666,\"#ed7953\"],[0.7777777777777778,\"#fb9f3a\"],[0.8888888888888888,\"#fdca26\"],[1.0,\"#f0f921\"]]}],\"heatmap\":[{\"type\":\"heatmap\",\"colorbar\":{\"outlinewidth\":0,\"ticks\":\"\"},\"colorscale\":[[0.0,\"#0d0887\"],[0.1111111111111111,\"#46039f\"],[0.2222222222222222,\"#7201a8\"],[0.3333333333333333,\"#9c179e\"],[0.4444444444444444,\"#bd3786\"],[0.5555555555555556,\"#d8576b\"],[0.6666666666666666,\"#ed7953\"],[0.7777777777777778,\"#fb9f3a\"],[0.8888888888888888,\"#fdca26\"],[1.0,\"#f0f921\"]]}],\"heatmapgl\":[{\"type\":\"heatmapgl\",\"colorbar\":{\"outlinewidth\":0,\"ticks\":\"\"},\"colorscale\":[[0.0,\"#0d0887\"],[0.1111111111111111,\"#46039f\"],[0.2222222222222222,\"#7201a8\"],[0.3333333333333333,\"#9c179e\"],[0.4444444444444444,\"#bd3786\"],[0.5555555555555556,\"#d8576b\"],[0.6666666666666666,\"#ed7953\"],[0.7777777777777778,\"#fb9f3a\"],[0.8888888888888888,\"#fdca26\"],[1.0,\"#f0f921\"]]}],\"contourcarpet\":[{\"type\":\"contourcarpet\",\"colorbar\":{\"outlinewidth\":0,\"ticks\":\"\"}}],\"contour\":[{\"type\":\"contour\",\"colorbar\":{\"outlinewidth\":0,\"ticks\":\"\"},\"colorscale\":[[0.0,\"#0d0887\"],[0.1111111111111111,\"#46039f\"],[0.2222222222222222,\"#7201a8\"],[0.3333333333333333,\"#9c179e\"],[0.4444444444444444,\"#bd3786\"],[0.5555555555555556,\"#d8576b\"],[0.6666666666666666,\"#ed7953\"],[0.7777777777777778,\"#fb9f3a\"],[0.8888888888888888,\"#fdca26\"],[1.0,\"#f0f921\"]]}],\"surface\":[{\"type\":\"surface\",\"colorbar\":{\"outlinewidth\":0,\"ticks\":\"\"},\"colorscale\":[[0.0,\"#0d0887\"],[0.1111111111111111,\"#46039f\"],[0.2222222222222222,\"#7201a8\"],[0.3333333333333333,\"#9c179e\"],[0.4444444444444444,\"#bd3786\"],[0.5555555555555556,\"#d8576b\"],[0.6666666666666666,\"#ed7953\"],[0.7777777777777778,\"#fb9f3a\"],[0.8888888888888888,\"#fdca26\"],[1.0,\"#f0f921\"]]}],\"mesh3d\":[{\"type\":\"mesh3d\",\"colorbar\":{\"outlinewidth\":0,\"ticks\":\"\"}}],\"scatter\":[{\"fillpattern\":{\"fillmode\":\"overlay\",\"size\":10,\"solidity\":0.2},\"type\":\"scatter\"}],\"parcoords\":[{\"type\":\"parcoords\",\"line\":{\"colorbar\":{\"outlinewidth\":0,\"ticks\":\"\"}}}],\"scatterpolargl\":[{\"type\":\"scatterpolargl\",\"marker\":{\"colorbar\":{\"outlinewidth\":0,\"ticks\":\"\"}}}],\"bar\":[{\"error_x\":{\"color\":\"#2a3f5f\"},\"error_y\":{\"color\":\"#2a3f5f\"},\"marker\":{\"line\":{\"color\":\"#E5ECF6\",\"width\":0.5},\"pattern\":{\"fillmode\":\"overlay\",\"size\":10,\"solidity\":0.2}},\"type\":\"bar\"}],\"scattergeo\":[{\"type\":\"scattergeo\",\"marker\":{\"colorbar\":{\"outlinewidth\":0,\"ticks\":\"\"}}}],\"scatterpolar\":[{\"type\":\"scatterpolar\",\"marker\":{\"colorbar\":{\"outlinewidth\":0,\"ticks\":\"\"}}}],\"histogram\":[{\"marker\":{\"pattern\":{\"fillmode\":\"overlay\",\"size\":10,\"solidity\":0.2}},\"type\":\"histogram\"}],\"scattergl\":[{\"type\":\"scattergl\",\"marker\":{\"colorbar\":{\"outlinewidth\":0,\"ticks\":\"\"}}}],\"scatter3d\":[{\"type\":\"scatter3d\",\"line\":{\"colorbar\":{\"outlinewidth\":0,\"ticks\":\"\"}},\"marker\":{\"colorbar\":{\"outlinewidth\":0,\"ticks\":\"\"}}}],\"scattermapbox\":[{\"type\":\"scattermapbox\",\"marker\":{\"colorbar\":{\"outlinewidth\":0,\"ticks\":\"\"}}}],\"scatterternary\":[{\"type\":\"scatterternary\",\"marker\":{\"colorbar\":{\"outlinewidth\":0,\"ticks\":\"\"}}}],\"scattercarpet\":[{\"type\":\"scattercarpet\",\"marker\":{\"colorbar\":{\"outlinewidth\":0,\"ticks\":\"\"}}}],\"carpet\":[{\"aaxis\":{\"endlinecolor\":\"#2a3f5f\",\"gridcolor\":\"white\",\"linecolor\":\"white\",\"minorgridcolor\":\"white\",\"startlinecolor\":\"#2a3f5f\"},\"baxis\":{\"endlinecolor\":\"#2a3f5f\",\"gridcolor\":\"white\",\"linecolor\":\"white\",\"minorgridcolor\":\"white\",\"startlinecolor\":\"#2a3f5f\"},\"type\":\"carpet\"}],\"table\":[{\"cells\":{\"fill\":{\"color\":\"#EBF0F8\"},\"line\":{\"color\":\"white\"}},\"header\":{\"fill\":{\"color\":\"#C8D4E3\"},\"line\":{\"color\":\"white\"}},\"type\":\"table\"}],\"barpolar\":[{\"marker\":{\"line\":{\"color\":\"#E5ECF6\",\"width\":0.5},\"pattern\":{\"fillmode\":\"overlay\",\"size\":10,\"solidity\":0.2}},\"type\":\"barpolar\"}],\"pie\":[{\"automargin\":true,\"type\":\"pie\"}]},\"layout\":{\"autotypenumbers\":\"strict\",\"colorway\":[\"#636efa\",\"#EF553B\",\"#00cc96\",\"#ab63fa\",\"#FFA15A\",\"#19d3f3\",\"#FF6692\",\"#B6E880\",\"#FF97FF\",\"#FECB52\"],\"font\":{\"color\":\"#2a3f5f\"},\"hovermode\":\"closest\",\"hoverlabel\":{\"align\":\"left\"},\"paper_bgcolor\":\"white\",\"plot_bgcolor\":\"#E5ECF6\",\"polar\":{\"bgcolor\":\"#E5ECF6\",\"angularaxis\":{\"gridcolor\":\"white\",\"linecolor\":\"white\",\"ticks\":\"\"},\"radialaxis\":{\"gridcolor\":\"white\",\"linecolor\":\"white\",\"ticks\":\"\"}},\"ternary\":{\"bgcolor\":\"#E5ECF6\",\"aaxis\":{\"gridcolor\":\"white\",\"linecolor\":\"white\",\"ticks\":\"\"},\"baxis\":{\"gridcolor\":\"white\",\"linecolor\":\"white\",\"ticks\":\"\"},\"caxis\":{\"gridcolor\":\"white\",\"linecolor\":\"white\",\"ticks\":\"\"}},\"coloraxis\":{\"colorbar\":{\"outlinewidth\":0,\"ticks\":\"\"}},\"colorscale\":{\"sequential\":[[0.0,\"#0d0887\"],[0.1111111111111111,\"#46039f\"],[0.2222222222222222,\"#7201a8\"],[0.3333333333333333,\"#9c179e\"],[0.4444444444444444,\"#bd3786\"],[0.5555555555555556,\"#d8576b\"],[0.6666666666666666,\"#ed7953\"],[0.7777777777777778,\"#fb9f3a\"],[0.8888888888888888,\"#fdca26\"],[1.0,\"#f0f921\"]],\"sequentialminus\":[[0.0,\"#0d0887\"],[0.1111111111111111,\"#46039f\"],[0.2222222222222222,\"#7201a8\"],[0.3333333333333333,\"#9c179e\"],[0.4444444444444444,\"#bd3786\"],[0.5555555555555556,\"#d8576b\"],[0.6666666666666666,\"#ed7953\"],[0.7777777777777778,\"#fb9f3a\"],[0.8888888888888888,\"#fdca26\"],[1.0,\"#f0f921\"]],\"diverging\":[[0,\"#8e0152\"],[0.1,\"#c51b7d\"],[0.2,\"#de77ae\"],[0.3,\"#f1b6da\"],[0.4,\"#fde0ef\"],[0.5,\"#f7f7f7\"],[0.6,\"#e6f5d0\"],[0.7,\"#b8e186\"],[0.8,\"#7fbc41\"],[0.9,\"#4d9221\"],[1,\"#276419\"]]},\"xaxis\":{\"gridcolor\":\"white\",\"linecolor\":\"white\",\"ticks\":\"\",\"title\":{\"standoff\":15},\"zerolinecolor\":\"white\",\"automargin\":true,\"zerolinewidth\":2},\"yaxis\":{\"gridcolor\":\"white\",\"linecolor\":\"white\",\"ticks\":\"\",\"title\":{\"standoff\":15},\"zerolinecolor\":\"white\",\"automargin\":true,\"zerolinewidth\":2},\"scene\":{\"xaxis\":{\"backgroundcolor\":\"#E5ECF6\",\"gridcolor\":\"white\",\"linecolor\":\"white\",\"showbackground\":true,\"ticks\":\"\",\"zerolinecolor\":\"white\",\"gridwidth\":2},\"yaxis\":{\"backgroundcolor\":\"#E5ECF6\",\"gridcolor\":\"white\",\"linecolor\":\"white\",\"showbackground\":true,\"ticks\":\"\",\"zerolinecolor\":\"white\",\"gridwidth\":2},\"zaxis\":{\"backgroundcolor\":\"#E5ECF6\",\"gridcolor\":\"white\",\"linecolor\":\"white\",\"showbackground\":true,\"ticks\":\"\",\"zerolinecolor\":\"white\",\"gridwidth\":2}},\"shapedefaults\":{\"line\":{\"color\":\"#2a3f5f\"}},\"annotationdefaults\":{\"arrowcolor\":\"#2a3f5f\",\"arrowhead\":0,\"arrowwidth\":1},\"geo\":{\"bgcolor\":\"white\",\"landcolor\":\"#E5ECF6\",\"subunitcolor\":\"white\",\"showland\":true,\"showlakes\":true,\"lakecolor\":\"white\"},\"title\":{\"x\":0.05},\"mapbox\":{\"style\":\"light\"}}},\"xaxis\":{\"anchor\":\"y\",\"domain\":[0.0,1.0],\"title\":{\"text\":\"datetime\"}},\"yaxis\":{\"anchor\":\"x\",\"domain\":[0.0,1.0],\"title\":{\"text\":\"value\"}},\"legend\":{\"title\":{\"text\":\"variable\"},\"tracegroupgap\":0},\"margin\":{\"t\":60},\"barmode\":\"relative\"},                        {\"responsive\": true}                    ).then(function(){\n",
       "                            \n",
       "var gd = document.getElementById('09dccfd1-ca5f-4c0d-9f82-67a33f7e0967');\n",
       "var x = new MutationObserver(function (mutations, observer) {{\n",
       "        var display = window.getComputedStyle(gd).display;\n",
       "        if (!display || display === 'none') {{\n",
       "            console.log([gd, 'removed!']);\n",
       "            Plotly.purge(gd);\n",
       "            observer.disconnect();\n",
       "        }}\n",
       "}});\n",
       "\n",
       "// Listen for the removal of the full notebook cells\n",
       "var notebookContainer = gd.closest('#notebook-container');\n",
       "if (notebookContainer) {{\n",
       "    x.observe(notebookContainer, {childList: true});\n",
       "}}\n",
       "\n",
       "// Listen for the clearing of the current output cell\n",
       "var outputEl = gd.closest('.output');\n",
       "if (outputEl) {{\n",
       "    x.observe(outputEl, {childList: true});\n",
       "}}\n",
       "\n",
       "                        })                };                });            </script>        </div>"
      ]
     },
     "metadata": {},
     "output_type": "display_data"
    }
   ],
   "source": [
    "fig = px.bar(daily_inters)\n",
    "fig.show()"
   ]
  },
  {
   "cell_type": "code",
   "execution_count": 38,
   "metadata": {
    "ExecuteTime": {
     "end_time": "2022-11-16T13:17:35.090476Z",
     "start_time": "2022-11-16T13:17:35.071476Z"
    },
    "execution": {
     "iopub.execute_input": "2022-11-19T18:28:15.142393Z",
     "iopub.status.busy": "2022-11-19T18:28:15.141520Z",
     "iopub.status.idle": "2022-11-19T18:28:15.150850Z",
     "shell.execute_reply": "2022-11-19T18:28:15.149993Z",
     "shell.execute_reply.started": "2022-11-19T18:28:15.142351Z"
    },
    "trusted": true
   },
   "outputs": [
    {
     "data": {
      "text/plain": [
       "6"
      ]
     },
     "execution_count": 38,
     "metadata": {},
     "output_type": "execute_result"
    }
   ],
   "source": [
    "pd.to_datetime('1-08-2021', format='%d-%m-%Y').weekday()"
   ]
  },
  {
   "cell_type": "markdown",
   "metadata": {},
   "source": [
    "Видно недельный тренд, давайте для test выделим последнюю неделю"
   ]
  },
  {
   "cell_type": "code",
   "execution_count": 40,
   "metadata": {
    "ExecuteTime": {
     "end_time": "2022-11-16T13:17:35.121477Z",
     "start_time": "2022-11-16T13:17:35.093476Z"
    },
    "execution": {
     "iopub.execute_input": "2022-11-19T18:28:32.131230Z",
     "iopub.status.busy": "2022-11-19T18:28:32.130750Z",
     "iopub.status.idle": "2022-11-19T18:28:32.157659Z",
     "shell.execute_reply": "2022-11-19T18:28:32.156425Z",
     "shell.execute_reply.started": "2022-11-19T18:28:32.131184Z"
    },
    "trusted": true
   },
   "outputs": [
    {
     "data": {
      "text/plain": [
       "6"
      ]
     },
     "execution_count": 40,
     "metadata": {},
     "output_type": "execute_result"
    }
   ],
   "source": [
    "last_date = interactions[Columns.Datetime].max()\n",
    "last_date.weekday()"
   ]
  },
  {
   "cell_type": "code",
   "execution_count": 41,
   "metadata": {
    "ExecuteTime": {
     "end_time": "2022-11-16T13:17:35.167475Z",
     "start_time": "2022-11-16T13:17:35.124473Z"
    },
    "execution": {
     "iopub.execute_input": "2022-11-19T18:28:41.499212Z",
     "iopub.status.busy": "2022-11-19T18:28:41.498715Z",
     "iopub.status.idle": "2022-11-19T18:28:41.537055Z",
     "shell.execute_reply": "2022-11-19T18:28:41.535893Z",
     "shell.execute_reply.started": "2022-11-19T18:28:41.499172Z"
    },
    "trusted": true
   },
   "outputs": [],
   "source": [
    "threshold = last_date - pd.Timedelta(weeks=1)\n",
    "train_mask = interactions[Columns.Datetime] <= threshold\n",
    "test_mask = interactions[Columns.Datetime] > threshold"
   ]
  },
  {
   "cell_type": "code",
   "execution_count": 42,
   "metadata": {
    "ExecuteTime": {
     "end_time": "2022-11-16T13:17:35.356475Z",
     "start_time": "2022-11-16T13:17:35.169478Z"
    },
    "execution": {
     "iopub.execute_input": "2022-11-19T18:28:45.803522Z",
     "iopub.status.busy": "2022-11-19T18:28:45.803025Z",
     "iopub.status.idle": "2022-11-19T18:28:46.081400Z",
     "shell.execute_reply": "2022-11-19T18:28:46.080034Z",
     "shell.execute_reply.started": "2022-11-19T18:28:45.803483Z"
    },
    "trusted": true
   },
   "outputs": [
    {
     "name": "stdout",
     "output_type": "stream",
     "text": [
      "Train: 5051815, Test: 424436\n"
     ]
    }
   ],
   "source": [
    "train = interactions[train_mask]\n",
    "test = interactions[test_mask]\n",
    "print(f'Train: {train.shape[0]}, Test: {test.shape[0]}')"
   ]
  },
  {
   "cell_type": "markdown",
   "metadata": {},
   "source": [
    "Разовьем идею для нескольких фолдов. Надо учитывать, что для выделения последующих тестовых фолдов нам надо ограничивать их предыдущим значением. Тогда схематично фолыд будут выглядеть так:\n",
    "- `[..., w4, w3, w2] | [w1]`\n",
    "- `[..., w4, w3] | [w2]`\n",
    "- `[..., w4] | [w3]`\n",
    "- `...`\n",
    "- `[..., w_(N+1)] | [wN]`\n",
    "\n",
    "Если для веделения `w1` нам достаточно только одной даты `t1`, то для `w2` надо знать и `t1`, и `t2`. В общем случае алгоритм такой:\n",
    "- Train: `df[date] <= tN`\n",
    "- Test: `(df[date] > tN) & (df[date] <= t(N-1))`"
   ]
  },
  {
   "cell_type": "code",
   "execution_count": 43,
   "metadata": {
    "ExecuteTime": {
     "end_time": "2022-11-16T13:17:35.372476Z",
     "start_time": "2022-11-16T13:17:35.359477Z"
    },
    "execution": {
     "iopub.execute_input": "2022-11-19T18:32:03.353571Z",
     "iopub.status.busy": "2022-11-19T18:32:03.353057Z",
     "iopub.status.idle": "2022-11-19T18:32:03.362679Z",
     "shell.execute_reply": "2022-11-19T18:32:03.361488Z",
     "shell.execute_reply.started": "2022-11-19T18:32:03.353531Z"
    },
    "trusted": true
   },
   "outputs": [],
   "source": [
    "class TimeSplit():\n",
    "    def __init__(self, n_folds, delta, date_column=Columns.Datetime):\n",
    "        self.n_folds = n_folds\n",
    "        self.delta = delta\n",
    "        self.date_column = date_column\n",
    "    \n",
    "    def split(self, df):\n",
    "        last_date = df[self.date_column].max()\n",
    "        \n",
    "        prev_threshold = last_date\n",
    "        threshold = last_date - self.delta\n",
    "        \n",
    "        for _ in range(self.n_folds):\n",
    "            train_mask = interactions[self.date_column] <= threshold\n",
    "            test_mask = (interactions[self.date_column] > threshold) & (interactions[self.date_column] <= prev_threshold)\n",
    "            prev_threshold = threshold\n",
    "            threshold -= self.delta\n",
    "            yield train_mask, test_mask"
   ]
  },
  {
   "cell_type": "code",
   "execution_count": 44,
   "metadata": {
    "ExecuteTime": {
     "end_time": "2022-11-16T13:17:36.035475Z",
     "start_time": "2022-11-16T13:17:35.375476Z"
    },
    "execution": {
     "iopub.execute_input": "2022-11-19T18:32:09.611807Z",
     "iopub.status.busy": "2022-11-19T18:32:09.611380Z",
     "iopub.status.idle": "2022-11-19T18:32:10.530743Z",
     "shell.execute_reply": "2022-11-19T18:32:10.529555Z",
     "shell.execute_reply.started": "2022-11-19T18:32:09.611774Z"
    },
    "trusted": true
   },
   "outputs": [
    {
     "name": "stdout",
     "output_type": "stream",
     "text": [
      "Fold#0 | Train: 5051815, Test: 424436\n",
      "Fold#1 | Train: 4649162, Test: 402653\n",
      "Fold#2 | Train: 4266013, Test: 383149\n"
     ]
    }
   ],
   "source": [
    "delta = pd.Timedelta(weeks=1)\n",
    "cv = TimeSplit(3, delta)\n",
    "for i, (train_mask, test_mask) in enumerate(cv.split(interactions)):\n",
    "    train = interactions[train_mask]\n",
    "    test = interactions[test_mask]\n",
    "    print(f'Fold#{i} | Train: {train.shape[0]}, Test: {test.shape[0]}')"
   ]
  },
  {
   "cell_type": "markdown",
   "metadata": {},
   "source": [
    "Видно, что в случае разбиения по времени, нам нужно всего лишь задать точки (даты), по которым мы будем делить датасет. Причем идем мы по ним попарно. Для создания такого массива подходит [pandas.date_range](https://pandas.pydata.org/pandas-docs/stable/reference/api/pandas.date_range.html)"
   ]
  },
  {
   "cell_type": "code",
   "execution_count": 34,
   "metadata": {
    "ExecuteTime": {
     "end_time": "2022-11-16T13:17:36.051477Z",
     "start_time": "2022-11-16T13:17:36.037477Z"
    }
   },
   "outputs": [
    {
     "data": {
      "text/plain": [
       "DatetimeIndex(['2021-08-22', '2021-08-23', '2021-08-24', '2021-08-25',\n",
       "               '2021-08-26', '2021-08-27', '2021-08-28', '2021-08-29'],\n",
       "              dtype='datetime64[ns]', freq='D')"
      ]
     },
     "execution_count": 34,
     "metadata": {},
     "output_type": "execute_result"
    }
   ],
   "source": [
    "pd.date_range(start=last_date, periods=8)"
   ]
  },
  {
   "cell_type": "code",
   "execution_count": 35,
   "metadata": {
    "ExecuteTime": {
     "end_time": "2022-11-16T13:17:36.067475Z",
     "start_time": "2022-11-16T13:17:36.053477Z"
    },
    "scrolled": true
   },
   "outputs": [
    {
     "name": "stdout",
     "output_type": "stream",
     "text": [
      "\n",
      "\n",
      "    start_date: 2021-08-01 00:00:00\n",
      "\n",
      "    last_date: 2021-08-22 00:00:00\n",
      "\n",
      "    periods: 4\n",
      "\n",
      "    freq: 1W\n",
      "\n",
      "\n"
     ]
    },
    {
     "data": {
      "text/plain": [
       "DatetimeIndex(['2021-08-01', '2021-08-08', '2021-08-15', '2021-08-22'], dtype='datetime64[ns]', freq='W-SUN')"
      ]
     },
     "execution_count": 35,
     "metadata": {},
     "output_type": "execute_result"
    }
   ],
   "source": [
    "n_folds = 3\n",
    "unit = \"W\"\n",
    "n_units = 1\n",
    "\n",
    "start_date = last_date - pd.Timedelta(n_folds * n_units, unit=unit)\n",
    "periods = n_folds + 1\n",
    "freq = f\"{n_units}{unit}\"\n",
    "print(f\"\"\"\n",
    "    start_date: {start_date}\n",
    "    last_date: {last_date}\n",
    "    periods: {periods}\n",
    "    freq: {freq}\n",
    "\"\"\")\n",
    "\n",
    "date_range = pd.date_range(start=start_date, periods=periods, freq=freq, tz=last_date.tz)\n",
    "date_range"
   ]
  },
  {
   "cell_type": "markdown",
   "metadata": {},
   "source": [
    "Для попарной итераци по массиву пригодится магия из [itertools](https://docs.python.org/3/library/itertools.html), а конкретнее - [pairwise](https://docs.python.org/3/library/itertools.html#itertools.pairwise). Как отдельная функция она появилась только в python 3.10, поэтому придется воспроизвести ее самим"
   ]
  },
  {
   "cell_type": "code",
   "execution_count": 36,
   "metadata": {
    "ExecuteTime": {
     "end_time": "2022-11-16T13:17:36.083475Z",
     "start_time": "2022-11-16T13:17:36.069476Z"
    }
   },
   "outputs": [],
   "source": [
    "from itertools import tee\n",
    "\n",
    "def pairwise(iterable):\n",
    "    # pairwise('ABCDEFG') --> AB BC CD DE EF FG\n",
    "    a, b = tee(iterable)\n",
    "    next(b, None)\n",
    "    return zip(a, b)"
   ]
  },
  {
   "cell_type": "code",
   "execution_count": 37,
   "metadata": {
    "ExecuteTime": {
     "end_time": "2022-11-16T13:17:36.099476Z",
     "start_time": "2022-11-16T13:17:36.086477Z"
    }
   },
   "outputs": [
    {
     "name": "stdout",
     "output_type": "stream",
     "text": [
      "Fold#0 | Train <= 2021-08-01 | 2021-08-01 < Test <= 2021-08-08\n",
      "\n",
      "Fold#1 | Train <= 2021-08-08 | 2021-08-08 < Test <= 2021-08-15\n",
      "\n",
      "Fold#2 | Train <= 2021-08-15 | 2021-08-15 < Test <= 2021-08-22\n"
     ]
    }
   ],
   "source": [
    "for i, (start, end) in enumerate(pairwise(date_range)):\n",
    "    print(f'Fold#{i} | Train <= {start.date()} | {start.date()} < Test <= {end.date()}')"
   ]
  },
  {
   "cell_type": "code",
   "execution_count": 38,
   "metadata": {
    "ExecuteTime": {
     "end_time": "2022-11-16T13:17:36.114475Z",
     "start_time": "2022-11-16T13:17:36.102476Z"
    }
   },
   "outputs": [],
   "source": [
    "class TimeSplit():\n",
    "    def __init__(self, date_range, date_column=Columns.Datetime):\n",
    "        self.date_range = date_range\n",
    "        self.date_column = date_column\n",
    "    \n",
    "    def split(self, df):\n",
    "        for i, (start, end) in enumerate(pairwise(self.date_range)):\n",
    "            train_mask = interactions[self.date_column] <= start\n",
    "            test_mask = (interactions[self.date_column] > start) & (interactions[self.date_column] <= end)\n",
    "            yield train_mask, test_mask"
   ]
  },
  {
   "cell_type": "code",
   "execution_count": 39,
   "metadata": {
    "ExecuteTime": {
     "end_time": "2022-11-16T13:17:36.847474Z",
     "start_time": "2022-11-16T13:17:36.117476Z"
    }
   },
   "outputs": [
    {
     "name": "stdout",
     "output_type": "stream",
     "text": [
      "Fold#0 | Train: 4266013, Test: 383149\n",
      "\n",
      "Fold#1 | Train: 4649162, Test: 402653\n",
      "\n",
      "Fold#2 | Train: 5051815, Test: 424436\n"
     ]
    }
   ],
   "source": [
    "cv = TimeSplit(date_range)\n",
    "\n",
    "for i, (train_mask, test_mask) in enumerate(cv.split(interactions)):\n",
    "    train = interactions[train_mask]\n",
    "    test = interactions[test_mask]\n",
    "    print(f'Fold#{i} | Train: {train.shape[0]}, Test: {test.shape[0]}')"
   ]
  },
  {
   "cell_type": "markdown",
   "metadata": {},
   "source": [
    "### Hot/Cold scenario\n",
    "\n",
    "Определим, как модифицировать класс TimeSplit, чтобы можно было контроилровать попадание/исключение холодных пользователей и объектов из теста. Рассмотрим пример на основе уже выделенных `train` и `test`"
   ]
  },
  {
   "cell_type": "code",
   "execution_count": 40,
   "metadata": {
    "ExecuteTime": {
     "end_time": "2022-11-16T13:17:36.862474Z",
     "start_time": "2022-11-16T13:17:36.850474Z"
    }
   },
   "outputs": [
    {
     "name": "stdout",
     "output_type": "stream",
     "text": [
      "Train: 5051815, Test: 424436\n"
     ]
    }
   ],
   "source": [
    "print(f'Train: {train.shape[0]}, Test: {test.shape[0]}')"
   ]
  },
  {
   "cell_type": "markdown",
   "metadata": {},
   "source": [
    "По определению холодным пользователем или объектом считаются те, которых не было в `train`, но есть в `test`. Реализуем это через пересечение массивов"
   ]
  },
  {
   "cell_type": "code",
   "execution_count": 41,
   "metadata": {
    "ExecuteTime": {
     "end_time": "2022-11-16T13:17:37.111474Z",
     "start_time": "2022-11-16T13:17:36.865475Z"
    }
   },
   "outputs": [
    {
     "name": "stdout",
     "output_type": "stream",
     "text": [
      "56108\n"
     ]
    }
   ],
   "source": [
    "train_users = train[Columns.User].unique()\n",
    "test_users = test[Columns.User].unique()\n",
    "cold_users = np.setdiff1d(test_users, train_users)\n",
    "print(len(cold_users))"
   ]
  },
  {
   "cell_type": "code",
   "execution_count": 42,
   "metadata": {
    "ExecuteTime": {
     "end_time": "2022-11-16T13:17:38.168475Z",
     "start_time": "2022-11-16T13:17:37.114475Z"
    }
   },
   "outputs": [
    {
     "name": "stdout",
     "output_type": "stream",
     "text": [
      "Test before: 424436\n",
      "\n",
      "Test after: 306752\n"
     ]
    }
   ],
   "source": [
    "print(f'Test before: {test.shape[0]}')\n",
    "new_test_mask = test_mask & (~test[Columns.User].isin(cold_users))\n",
    "new_test = interactions[new_test_mask]\n",
    "print(f'Test after: {new_test.shape[0]}')"
   ]
  },
  {
   "cell_type": "code",
   "execution_count": 43,
   "metadata": {
    "ExecuteTime": {
     "end_time": "2022-11-16T13:17:38.184475Z",
     "start_time": "2022-11-16T13:17:38.171476Z"
    }
   },
   "outputs": [
    {
     "data": {
      "text/plain": [
       "117684"
      ]
     },
     "execution_count": 43,
     "metadata": {},
     "output_type": "execute_result"
    }
   ],
   "source": [
    "test.shape[0] - new_test.shape[0]"
   ]
  },
  {
   "cell_type": "markdown",
   "metadata": {},
   "source": [
    "Добавим эту логику в наш класс TimeSplit"
   ]
  },
  {
   "cell_type": "code",
   "execution_count": 44,
   "metadata": {
    "ExecuteTime": {
     "end_time": "2022-11-16T13:17:38.200475Z",
     "start_time": "2022-11-16T13:17:38.188475Z"
    }
   },
   "outputs": [],
   "source": [
    "class TimeSplit():\n",
    "    def __init__(self, date_range, filter_cold_users=True, date_column=Columns.Datetime):\n",
    "        self.date_range = date_range\n",
    "        self.filter_cold_users = filter_cold_users\n",
    "        self.date_column = date_column\n",
    "    \n",
    "    def split(self, df):\n",
    "        for i, (start, end) in enumerate(pairwise(self.date_range)):\n",
    "            train_mask = interactions[self.date_column] <= start\n",
    "            test_mask = (interactions[self.date_column] > start) & (interactions[self.date_column] <= end)\n",
    "            \n",
    "            if self.filter_cold_users:\n",
    "                train_users = df.loc[train_mask, Columns.User].unique()\n",
    "                test_users = df.loc[test_mask, Columns.User].unique()\n",
    "                cold_users = np.setdiff1d(test_users, train_users)\n",
    "                test_mask &= ~df.loc[test_mask, Columns.User].isin(cold_users)\n",
    "\n",
    "            yield train_mask, test_mask"
   ]
  },
  {
   "cell_type": "code",
   "execution_count": 45,
   "metadata": {
    "ExecuteTime": {
     "end_time": "2022-11-16T13:17:43.330474Z",
     "start_time": "2022-11-16T13:17:38.203474Z"
    }
   },
   "outputs": [
    {
     "name": "stdout",
     "output_type": "stream",
     "text": [
      "Fold#0 | Train: 4266013, Test: 271321\n",
      "\n",
      "Fold#1 | Train: 4649162, Test: 288328\n",
      "\n",
      "Fold#2 | Train: 5051815, Test: 306752\n"
     ]
    }
   ],
   "source": [
    "cv = TimeSplit(date_range)\n",
    "\n",
    "for i, (train_mask, test_mask) in enumerate(cv.split(interactions)):\n",
    "    train = interactions[train_mask]\n",
    "    test = interactions[test_mask]\n",
    "    print(f'Fold#{i} | Train: {train.shape[0]}, Test: {test.shape[0]}')"
   ]
  },
  {
   "cell_type": "code",
   "execution_count": 46,
   "metadata": {
    "ExecuteTime": {
     "end_time": "2022-11-16T13:17:44.193475Z",
     "start_time": "2022-11-16T13:17:43.333474Z"
    }
   },
   "outputs": [
    {
     "name": "stdout",
     "output_type": "stream",
     "text": [
      "Fold#0 | Train: 4266013, Test: 383149\n",
      "\n",
      "Fold#1 | Train: 4649162, Test: 402653\n",
      "\n",
      "Fold#2 | Train: 5051815, Test: 424436\n"
     ]
    }
   ],
   "source": [
    "cv = TimeSplit(date_range, filter_cold_users=False)\n",
    "\n",
    "for i, (train_mask, test_mask) in enumerate(cv.split(interactions)):\n",
    "    train = interactions[train_mask]\n",
    "    test = interactions[test_mask]\n",
    "    print(f'Fold#{i} | Train: {train.shape[0]}, Test: {test.shape[0]}')"
   ]
  },
  {
   "cell_type": "markdown",
   "metadata": {},
   "source": [
    "### UsersKFold\n",
    "\n",
    "Один из видов случайного разбиения является `KFold` по пользователям или объектам. Идея в том, чтобы разбить данные на `train` и `test` так, чтобы пользователи между ними не пересекались. Можно сказать, что это сочетание `Random + Warm start scenario`.\n",
    "\n",
    "Если все данные обозначить как `[u1, u2, ..., uN]`, то для `KFold(k=3)`:\n",
    "- Test: `[u1, ..,, u(N//3)]` Train: `[u(N//3 + 1), ..., uN]`\n",
    "- Test: `[u(N//3 + 1), ..,, u(2*N//3)]` Train: `[u1, ..., u(N//3 + 1)] & [u(2*N//3 + 1), ..., uN]`\n",
    "- Test: `[u(2*N//3 + 1), ..,, uN]` Train: `[u1, ..., u(2*N//3)]`"
   ]
  },
  {
   "cell_type": "code",
   "execution_count": 47,
   "metadata": {
    "ExecuteTime": {
     "end_time": "2022-11-16T13:17:44.208472Z",
     "start_time": "2022-11-16T13:17:44.196474Z"
    }
   },
   "outputs": [],
   "source": [
    "class UsersKFold():\n",
    "    def __init__(self, n_folds, user_column=Columns.User, random_seed=23):\n",
    "        self.n_folds = n_folds\n",
    "        self.user_column = user_column\n",
    "        self.random_seed = random_seed\n",
    "    \n",
    "    def split(self, df):\n",
    "        users = df[self.user_column].unique()\n",
    "        users_count = len(users)\n",
    "        \n",
    "        np.random.seed(self.random_seed)\n",
    "        np.random.shuffle(users)\n",
    "        \n",
    "        fold_sizes = np.full(self.n_folds, users_count // self.n_folds, dtype=int)\n",
    "        fold_sizes[: users_count % self.n_folds] += 1\n",
    "        current = 0\n",
    "        for fold_size in fold_sizes:\n",
    "            start, stop = current, current + fold_size\n",
    "            test_fold_users = users[start:stop]\n",
    "            test_mask = df[self.user_column].isin(test_fold_users)\n",
    "            train_mask = ~test_mask\n",
    "            \n",
    "            yield train_mask, test_mask"
   ]
  },
  {
   "cell_type": "code",
   "execution_count": 48,
   "metadata": {
    "ExecuteTime": {
     "end_time": "2022-11-16T13:17:45.235474Z",
     "start_time": "2022-11-16T13:17:44.211474Z"
    }
   },
   "outputs": [
    {
     "name": "stdout",
     "output_type": "stream",
     "text": [
      "Fold#0 | Train: 3639741, Test: 1836510\n",
      "\n",
      "Fold#1 | Train: 3639742, Test: 1836509\n",
      "\n",
      "Fold#2 | Train: 3639742, Test: 1836509\n"
     ]
    }
   ],
   "source": [
    "cv = UsersKFold(3)\n",
    "\n",
    "for i, (train_mask, test_mask) in enumerate(cv.split(interactions)):\n",
    "    train = interactions[train_mask]\n",
    "    test = interactions[test_mask]\n",
    "    print(f'Fold#{i} | Train: {train.shape[0]}, Test: {test.shape[0]}')"
   ]
  },
  {
   "cell_type": "markdown",
   "metadata": {},
   "source": [
    "## Homework\n",
    "\n",
    "Исходные данные - Yandex Cup 2022 RecSys:\n",
    "- Описание соревнования - https://contest.yandex.ru/yacup/contest/41618/problems/\n",
    "- Данные - https://disk.yandex.ru/d/SI1aAooPn9i8TA\n",
    "- Описание данных - в архиве likes_data.zip три файла:\n",
    "  - train - обучающий набор данных. Каждая строка - последовательность id треков, которые лайкнул один пользователь. Гарантируется, что лайки даны в той последовательности, в которой их ставил пользователь.\n",
    "  - test - набор тестовых данных. Имеет точно такой же формат, но в каждой строке не хватает последнего лайка, который надо предсказать.\n",
    "  - track_artists.csv - информация о исполнителях треков. Гарантируется, что у каждого трека есть ровно один исполнитель. Для треков, у которых фактически несколько исполнителей, мы оставили того, который считается основным исполнителем трека.\n",
    "- Описание сабмита - в качестве решения необходимо отправить файл, в котором для каждого пользователя из test в отдельной строке будет не более 100 треков, разделенных пробелом. Гарантируется, что у каждого пользователя будет только 1 лайк в тесте\n",
    "- Метрика - MRR@100"
   ]
  },
  {
   "cell_type": "markdown",
   "metadata": {},
   "source": [
    "Промежуточная задача - преобразовать данные в pandas.DataFrame вида {user, item, order}, где order - порядковый номер с конца (0 - самый \"свежий\" лайк, чем больше order, тем позже был поставлен лайк)\n",
    "\n",
    "**Итоговая задача** - построить схему валидации для данного соревнования с учетом особенностей сорвенования\n",
    "- Между `train` и `test` не должно быть общих пользователей\n",
    "- Количество фолдов задается через параметр класса `n_folds`\n",
    "- В `test` должно быть не более `p` последних треков (параметр класса `p`)"
   ]
  },
  {
   "cell_type": "code",
   "execution_count": 3,
   "metadata": {
    "execution": {
     "iopub.execute_input": "2022-11-19T19:58:16.219634Z",
     "iopub.status.busy": "2022-11-19T19:58:16.219191Z",
     "iopub.status.idle": "2022-11-19T19:59:28.563523Z",
     "shell.execute_reply": "2022-11-19T19:59:28.562051Z",
     "shell.execute_reply.started": "2022-11-19T19:58:16.219594Z"
    },
    "trusted": true
   },
   "outputs": [],
   "source": [
    "yandex_data = pd.read_csv('../input/recsys-yandex-cup-2022/dataframe.csv/dataframe.csv') # Подгружаем данные"
   ]
  },
  {
   "cell_type": "code",
   "execution_count": 4,
   "metadata": {
    "execution": {
     "iopub.execute_input": "2022-11-19T19:59:28.565782Z",
     "iopub.status.busy": "2022-11-19T19:59:28.565423Z",
     "iopub.status.idle": "2022-11-19T19:59:38.147799Z",
     "shell.execute_reply": "2022-11-19T19:59:38.146447Z",
     "shell.execute_reply.started": "2022-11-19T19:59:28.565750Z"
    },
    "trusted": true
   },
   "outputs": [],
   "source": [
    "yandex_data = yandex_data.drop(['rank', 'reversed_rank', 'is_train'], axis=1)\n",
    "yandex_data = yandex_data.rename({'user_id': 'user', 'track_id': 'item'}, axis=1)\n",
    "yandex_data['order'] = yandex_data.groupby('user')['item'].cumcount() # Предобработка и добавление порядка"
   ]
  },
  {
   "cell_type": "code",
   "execution_count": 9,
   "metadata": {
    "ExecuteTime": {
     "end_time": "2022-11-16T13:17:45.251478Z",
     "start_time": "2022-11-16T13:17:45.238476Z"
    },
    "execution": {
     "iopub.execute_input": "2022-11-19T20:00:27.864599Z",
     "iopub.status.busy": "2022-11-19T20:00:27.864145Z",
     "iopub.status.idle": "2022-11-19T20:00:27.875042Z",
     "shell.execute_reply": "2022-11-19T20:00:27.873602Z",
     "shell.execute_reply.started": "2022-11-19T20:00:27.864561Z"
    },
    "trusted": true
   },
   "outputs": [],
   "source": [
    "class UsersKFoldPOut():\n",
    "    def __init__(\n",
    "        self,\n",
    "        n_folds: int,\n",
    "        p: int,\n",
    "        rank_col: str = 'order',\n",
    "        user_column: str = 'user',\n",
    "        random_seed: int = 23\n",
    "    ):\n",
    "        self.n_folds = n_folds\n",
    "        self.p = p\n",
    "        self.rank_col = rank_col\n",
    "        self.user_column = user_column\n",
    "        self.random_seed = random_seed\n",
    "        \n",
    "    \n",
    "    def split(self, df):\n",
    "        users = df[self.user_column].unique()\n",
    "        users_count = len(users)\n",
    "        \n",
    "        np.random.seed(self.random_seed)\n",
    "        np.random.shuffle(users)\n",
    "        \n",
    "        fold_sizes = np.full(self.n_folds, users_count // self.n_folds, dtype=int)\n",
    "        fold_sizes[: users_count % self.n_folds] += 1\n",
    "        current = 0\n",
    "        for fold_size in fold_sizes:\n",
    "            start, stop = current, current + fold_size\n",
    "            test_fold_users = users[start:stop]\n",
    "            test_mask = df[self.user_column].isin(test_fold_users)\n",
    "            train_mask = ~test_mask\n",
    "            # Берем только те сэмплы, для которых порядок меньше p\n",
    "            test_mask = test_mask & (df[self.rank_col] < self.p)\n",
    "            \n",
    "            yield train_mask, test_mask"
   ]
  },
  {
   "cell_type": "code",
   "execution_count": 17,
   "metadata": {
    "ExecuteTime": {
     "end_time": "2022-11-16T13:17:45.267474Z",
     "start_time": "2022-11-16T13:17:45.254478Z"
    },
    "execution": {
     "iopub.execute_input": "2022-11-19T20:02:04.967182Z",
     "iopub.status.busy": "2022-11-19T20:02:04.965907Z",
     "iopub.status.idle": "2022-11-19T20:02:45.697572Z",
     "shell.execute_reply": "2022-11-19T20:02:45.696061Z",
     "shell.execute_reply.started": "2022-11-19T20:02:04.967118Z"
    },
    "trusted": true
   },
   "outputs": [
    {
     "name": "stdout",
     "output_type": "stream",
     "text": [
      "Fold#0 | Train: 78277912, Test: 1933475\n",
      "Fold#1 | Train: 78277912, Test: 1933475\n",
      "Fold#2 | Train: 78277978, Test: 1933470\n"
     ]
    }
   ],
   "source": [
    "\n",
    "par = 5\n",
    "cv = UsersKFoldPOut(n_folds=3, p=par)\n",
    "\n",
    "for i, (train_mask, test_mask) in enumerate(cv.split(yandex_data)):\n",
    "    train = yandex_data[train_mask]\n",
    "    test = yandex_data[test_mask]\n",
    "    # Проверка, что нет пересечения train и test\n",
    "    assert set() == set(train.user).intersection(test.user)\n",
    "    # Проверка, что нет рангов больше p\n",
    "    assert test[test.order > par].shape[0] == 0\n",
    "    \n",
    "    print(f'Fold#{i} | Train: {train.shape[0]}, Test: {test.shape[0]}')"
   ]
  }
 ],
 "metadata": {
  "kernelspec": {
   "display_name": "Python 3",
   "language": "python",
   "name": "python3"
  },
  "language_info": {
   "codemirror_mode": {
    "name": "ipython",
    "version": 3
   },
   "file_extension": ".py",
   "mimetype": "text/x-python",
   "name": "python",
   "nbconvert_exporter": "python",
   "pygments_lexer": "ipython3",
   "version": "3.7.12"
  },
  "toc": {
   "base_numbering": 1,
   "nav_menu": {},
   "number_sections": true,
   "sideBar": true,
   "skip_h1_title": true,
   "title_cell": "Table of Contents",
   "title_sidebar": "Contents",
   "toc_cell": false,
   "toc_position": {
    "height": "calc(100% - 180px)",
    "left": "10px",
    "top": "150px",
    "width": "207px"
   },
   "toc_section_display": true,
   "toc_window_display": true
  }
 },
 "nbformat": 4,
 "nbformat_minor": 5
}
