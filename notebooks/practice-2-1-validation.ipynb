{
 "cells": [
  {
   "cell_type": "markdown",
   "id": "a6b35a4c",
   "metadata": {
    "id": "aXjHpoIKdsVh"
   },
   "source": [
    "# Схемы валидации\n",
    "\n",
    "## Imports"
   ]
  },
  {
   "cell_type": "code",
   "execution_count": 1,
   "id": "64972bce",
   "metadata": {
    "ExecuteTime": {
     "end_time": "2022-11-16T13:17:11.007473Z",
     "start_time": "2022-11-16T13:17:09.799477Z"
    },
    "execution": {
     "iopub.execute_input": "2022-12-07T14:58:53.770811Z",
     "iopub.status.busy": "2022-12-07T14:58:53.769889Z",
     "iopub.status.idle": "2022-12-07T14:58:53.934054Z",
     "shell.execute_reply": "2022-12-07T14:58:53.932839Z",
     "shell.execute_reply.started": "2022-12-07T14:58:53.770706Z"
    },
    "id": "rUrNmYfrdsVp",
    "pycharm": {
     "is_executing": true
    }
   },
   "outputs": [],
   "source": [
    "import pandas as pd\n",
    "import numpy as np"
   ]
  },
  {
   "cell_type": "markdown",
   "id": "e0249e38",
   "metadata": {
    "id": "mTK8JUJBdsWW"
   },
   "source": [
    "## Homework\n",
    "\n",
    "Исходные данные - Yandex Cup 2022 RecSys:\n",
    "- Описание соревнования - https://contest.yandex.ru/yacup/contest/41618/problems/\n",
    "- Данные - https://disk.yandex.ru/d/SI1aAooPn9i8TA\n",
    "- Описание данных - в архиве likes_data.zip три файла:\n",
    "  - train - обучающий набор данных. Каждая строка - последовательность id треков, которые лайкнул один пользователь. Гарантируется, что лайки даны в той последовательности, в которой их ставил пользователь.\n",
    "  - test - набор тестовых данных. Имеет точно такой же формат, но в каждой строке не хватает последнего лайка, который надо предсказать.\n",
    "  - track_artists.csv - информация о исполнителях треков. Гарантируется, что у каждого трека есть ровно один исполнитель. Для треков, у которых фактически несколько исполнителей, мы оставили того, который считается основным исполнителем трека.\n",
    "- Описание сабмита - в качестве решения необходимо отправить файл, в котором для каждого пользователя из test в отдельной строке будет не более 100 треков, разделенных пробелом. Гарантируется, что у каждого пользователя будет только 1 лайк в тесте\n",
    "- Метрика - MRR@100"
   ]
  },
  {
   "cell_type": "markdown",
   "id": "4732c813",
   "metadata": {
    "id": "8S3NUMDGdsWW"
   },
   "source": [
    "Промежуточная задача - преобразовать данные в pandas.DataFrame вида {user, item, order}, где order - порядковый номер с конца (0 - самый \"свежий\" лайк, чем больше order, тем позже был поставлен лайк)\n",
    "\n",
    "**Итоговая задача** - построить схему валидации для данного соревнования с учетом особенностей сорвенования\n",
    "- Между `train` и `test` не должно быть общих пользователей\n",
    "- Количество фолдов задается через параметр класса `n_folds`\n",
    "- В `test` должно быть не более `p` последних треков (параметр класса `p`)"
   ]
  },
  {
   "cell_type": "code",
   "execution_count": 2,
   "id": "f181d17e",
   "metadata": {
    "colab": {
     "base_uri": "https://localhost:8080/",
     "height": 311
    },
    "execution": {
     "iopub.execute_input": "2022-12-07T14:59:12.390401Z",
     "iopub.status.busy": "2022-12-07T14:59:12.389980Z",
     "iopub.status.idle": "2022-12-07T15:00:25.455221Z",
     "shell.execute_reply": "2022-12-07T15:00:25.453828Z",
     "shell.execute_reply.started": "2022-12-07T14:59:12.390369Z"
    },
    "id": "1HRlZ0eJdsWX",
    "outputId": "525e70f8-6d53-490e-e3c4-dfe2d0035419"
   },
   "outputs": [],
   "source": [
    "yandex_data = pd.read_csv('../../dataframe/dataframe.csv') # Подгружаем данные"
   ]
  },
  {
   "cell_type": "code",
   "execution_count": 3,
   "id": "ffaba620",
   "metadata": {
    "execution": {
     "iopub.execute_input": "2022-12-07T15:00:32.028292Z",
     "iopub.status.busy": "2022-12-07T15:00:32.027505Z",
     "iopub.status.idle": "2022-12-07T15:00:32.064102Z",
     "shell.execute_reply": "2022-12-07T15:00:32.062823Z",
     "shell.execute_reply.started": "2022-12-07T15:00:32.028238Z"
    }
   },
   "outputs": [
    {
     "data": {
      "text/html": [
       "<div>\n",
       "<style scoped>\n",
       "    .dataframe tbody tr th:only-of-type {\n",
       "        vertical-align: middle;\n",
       "    }\n",
       "\n",
       "    .dataframe tbody tr th {\n",
       "        vertical-align: top;\n",
       "    }\n",
       "\n",
       "    .dataframe thead th {\n",
       "        text-align: right;\n",
       "    }\n",
       "</style>\n",
       "<table border=\"1\" class=\"dataframe\">\n",
       "  <thead>\n",
       "    <tr style=\"text-align: right;\">\n",
       "      <th></th>\n",
       "      <th>user_id</th>\n",
       "      <th>track_id</th>\n",
       "      <th>rank</th>\n",
       "      <th>reversed_rank</th>\n",
       "      <th>is_train</th>\n",
       "    </tr>\n",
       "  </thead>\n",
       "  <tbody>\n",
       "    <tr>\n",
       "      <th>0</th>\n",
       "      <td>0</td>\n",
       "      <td>333396</td>\n",
       "      <td>0</td>\n",
       "      <td>53</td>\n",
       "      <td>1</td>\n",
       "    </tr>\n",
       "    <tr>\n",
       "      <th>1</th>\n",
       "      <td>0</td>\n",
       "      <td>267089</td>\n",
       "      <td>1</td>\n",
       "      <td>52</td>\n",
       "      <td>1</td>\n",
       "    </tr>\n",
       "    <tr>\n",
       "      <th>2</th>\n",
       "      <td>0</td>\n",
       "      <td>155959</td>\n",
       "      <td>2</td>\n",
       "      <td>51</td>\n",
       "      <td>1</td>\n",
       "    </tr>\n",
       "    <tr>\n",
       "      <th>3</th>\n",
       "      <td>0</td>\n",
       "      <td>353335</td>\n",
       "      <td>3</td>\n",
       "      <td>50</td>\n",
       "      <td>1</td>\n",
       "    </tr>\n",
       "    <tr>\n",
       "      <th>4</th>\n",
       "      <td>0</td>\n",
       "      <td>414000</td>\n",
       "      <td>4</td>\n",
       "      <td>49</td>\n",
       "      <td>1</td>\n",
       "    </tr>\n",
       "  </tbody>\n",
       "</table>\n",
       "</div>"
      ],
      "text/plain": [
       "   user_id  track_id  rank  reversed_rank  is_train\n",
       "0        0    333396     0             53         1\n",
       "1        0    267089     1             52         1\n",
       "2        0    155959     2             51         1\n",
       "3        0    353335     3             50         1\n",
       "4        0    414000     4             49         1"
      ]
     },
     "execution_count": 3,
     "metadata": {},
     "output_type": "execute_result"
    }
   ],
   "source": [
    "yandex_data.head()"
   ]
  },
  {
   "cell_type": "code",
   "execution_count": 4,
   "id": "18df98ef",
   "metadata": {},
   "outputs": [],
   "source": [
    "yandex_data = yandex_data.drop(['rank', 'reversed_rank', 'is_train'], axis=1)"
   ]
  },
  {
   "cell_type": "code",
   "execution_count": 5,
   "id": "6c9d3ab1",
   "metadata": {},
   "outputs": [],
   "source": [
    "yandex_data = yandex_data.rename({'user_id': 'user', 'track_id': 'item'}, axis=1)"
   ]
  },
  {
   "cell_type": "code",
   "execution_count": 6,
   "id": "5f4c39bd",
   "metadata": {
    "execution": {
     "iopub.execute_input": "2022-12-07T15:00:34.540873Z",
     "iopub.status.busy": "2022-12-07T15:00:34.540425Z",
     "iopub.status.idle": "2022-12-07T15:00:52.942108Z",
     "shell.execute_reply": "2022-12-07T15:00:52.939948Z",
     "shell.execute_reply.started": "2022-12-07T15:00:34.540839Z"
    },
    "id": "ekgP2Ws6dsWX"
   },
   "outputs": [],
   "source": [
    "# Предобработка и добавление порядка\n",
    "yandex_data['order'] = yandex_data.groupby('user')['item'].cumcount(ascending=True) "
   ]
  },
  {
   "cell_type": "code",
   "execution_count": 7,
   "id": "8f6a3b0d",
   "metadata": {
    "execution": {
     "iopub.execute_input": "2022-12-07T15:00:57.254460Z",
     "iopub.status.busy": "2022-12-07T15:00:57.254036Z",
     "iopub.status.idle": "2022-12-07T15:00:57.270720Z",
     "shell.execute_reply": "2022-12-07T15:00:57.268753Z",
     "shell.execute_reply.started": "2022-12-07T15:00:57.254427Z"
    }
   },
   "outputs": [
    {
     "data": {
      "text/html": [
       "<div>\n",
       "<style scoped>\n",
       "    .dataframe tbody tr th:only-of-type {\n",
       "        vertical-align: middle;\n",
       "    }\n",
       "\n",
       "    .dataframe tbody tr th {\n",
       "        vertical-align: top;\n",
       "    }\n",
       "\n",
       "    .dataframe thead th {\n",
       "        text-align: right;\n",
       "    }\n",
       "</style>\n",
       "<table border=\"1\" class=\"dataframe\">\n",
       "  <thead>\n",
       "    <tr style=\"text-align: right;\">\n",
       "      <th></th>\n",
       "      <th>user</th>\n",
       "      <th>item</th>\n",
       "      <th>order</th>\n",
       "    </tr>\n",
       "  </thead>\n",
       "  <tbody>\n",
       "    <tr>\n",
       "      <th>0</th>\n",
       "      <td>0</td>\n",
       "      <td>333396</td>\n",
       "      <td>0</td>\n",
       "    </tr>\n",
       "    <tr>\n",
       "      <th>1</th>\n",
       "      <td>0</td>\n",
       "      <td>267089</td>\n",
       "      <td>1</td>\n",
       "    </tr>\n",
       "    <tr>\n",
       "      <th>2</th>\n",
       "      <td>0</td>\n",
       "      <td>155959</td>\n",
       "      <td>2</td>\n",
       "    </tr>\n",
       "    <tr>\n",
       "      <th>3</th>\n",
       "      <td>0</td>\n",
       "      <td>353335</td>\n",
       "      <td>3</td>\n",
       "    </tr>\n",
       "    <tr>\n",
       "      <th>4</th>\n",
       "      <td>0</td>\n",
       "      <td>414000</td>\n",
       "      <td>4</td>\n",
       "    </tr>\n",
       "  </tbody>\n",
       "</table>\n",
       "</div>"
      ],
      "text/plain": [
       "   user    item  order\n",
       "0     0  333396      0\n",
       "1     0  267089      1\n",
       "2     0  155959      2\n",
       "3     0  353335      3\n",
       "4     0  414000      4"
      ]
     },
     "execution_count": 7,
     "metadata": {},
     "output_type": "execute_result"
    }
   ],
   "source": [
    "yandex_data.head()"
   ]
  },
  {
   "cell_type": "code",
   "execution_count": 8,
   "id": "7ef5caec",
   "metadata": {
    "ExecuteTime": {
     "end_time": "2022-11-16T13:17:45.251478Z",
     "start_time": "2022-11-16T13:17:45.238476Z"
    },
    "execution": {
     "iopub.execute_input": "2022-12-07T15:01:08.419592Z",
     "iopub.status.busy": "2022-12-07T15:01:08.418983Z",
     "iopub.status.idle": "2022-12-07T15:01:08.432790Z",
     "shell.execute_reply": "2022-12-07T15:01:08.430852Z",
     "shell.execute_reply.started": "2022-12-07T15:01:08.419537Z"
    },
    "id": "8C69wIzEdsWY"
   },
   "outputs": [],
   "source": [
    "class UsersKFoldPOut:\n",
    "    def __init__(\n",
    "        self,\n",
    "        n_folds: int,\n",
    "        p: int,\n",
    "        rank_col: str = 'order',\n",
    "        user_column: str = 'user',\n",
    "        random_seed: int = 23\n",
    "    ):\n",
    "        self.n_folds = n_folds\n",
    "        self.p = p\n",
    "        self.rank_col = rank_col\n",
    "        self.user_column = user_column\n",
    "        self.random_seed = random_seed\n",
    "\n",
    "\n",
    "    def split(self, df):\n",
    "        users = df[self.user_column].unique()\n",
    "        users_count = len(users)\n",
    "\n",
    "        np.random.seed(self.random_seed)\n",
    "        np.random.shuffle(users)\n",
    "\n",
    "        fold_sizes = np.full(self.n_folds, users_count // self.n_folds, dtype=int)\n",
    "        fold_sizes[: users_count % self.n_folds] += 1\n",
    "        current = 0\n",
    "        for fold_size in fold_sizes:\n",
    "            start, stop = current, current + fold_size\n",
    "            test_fold_users = users[start:stop]\n",
    "            test_mask = df[self.user_column].isin(test_fold_users)\n",
    "            train_mask = ~test_mask\n",
    "            # Берем только те сэмплы, для которых порядок меньше p\n",
    "            test_mask = test_mask & (df[self.rank_col] < self.p)\n",
    "\n",
    "            yield train_mask, test_mask"
   ]
  },
  {
   "cell_type": "code",
   "execution_count": 9,
   "id": "5080c6fe",
   "metadata": {
    "ExecuteTime": {
     "end_time": "2022-11-16T13:17:45.267474Z",
     "start_time": "2022-11-16T13:17:45.254478Z"
    },
    "execution": {
     "iopub.execute_input": "2022-12-07T15:01:21.176170Z",
     "iopub.status.busy": "2022-12-07T15:01:21.175720Z",
     "iopub.status.idle": "2022-12-07T15:02:05.935662Z",
     "shell.execute_reply": "2022-12-07T15:02:05.934256Z",
     "shell.execute_reply.started": "2022-12-07T15:01:21.176136Z"
    },
    "id": "zmjd6e3ZdsWZ",
    "outputId": "8301dd79-b519-4537-9fac-e71fcfdfe1ec"
   },
   "outputs": [
    {
     "name": "stdout",
     "output_type": "stream",
     "text": [
      "Fold#0 | Train: 55233521, Test: 1701380\n",
      "Fold#1 | Train: 55233608, Test: 1701375\n",
      "Fold#2 | Train: 55233608, Test: 1701375\n"
     ]
    }
   ],
   "source": [
    "par = 5\n",
    "cv = UsersKFoldPOut(n_folds=3, p=par)\n",
    "\n",
    "for i, (train_mask, test_mask) in enumerate(cv.split(yandex_data)):\n",
    "    train = yandex_data[train_mask]\n",
    "    test = yandex_data[test_mask]\n",
    "    # Проверка, что нет пересечения train и test\n",
    "    assert set() == set(train.user).intersection(test.user)\n",
    "    # Проверка, что нет рангов больше p\n",
    "    assert test[test.order > par].shape[0] == 0\n",
    "\n",
    "    print(f'Fold#{i} | Train: {train.shape[0]}, Test: {test.shape[0]}')\n"
   ]
  },
  {
   "cell_type": "code",
   "execution_count": null,
   "id": "e2602ca6",
   "metadata": {},
   "outputs": [],
   "source": []
  }
 ],
 "metadata": {
  "colab": {
   "provenance": []
  },
  "kernelspec": {
   "display_name": "Python 3 (ipykernel)",
   "language": "python",
   "name": "python3"
  },
  "language_info": {
   "codemirror_mode": {
    "name": "ipython",
    "version": 3
   },
   "file_extension": ".py",
   "mimetype": "text/x-python",
   "name": "python",
   "nbconvert_exporter": "python",
   "pygments_lexer": "ipython3",
   "version": "3.8.8"
  },
  "toc": {
   "base_numbering": 1,
   "nav_menu": {},
   "number_sections": true,
   "sideBar": true,
   "skip_h1_title": true,
   "title_cell": "Table of Contents",
   "title_sidebar": "Contents",
   "toc_cell": false,
   "toc_position": {
    "height": "calc(100% - 180px)",
    "left": "10px",
    "top": "150px",
    "width": "207px"
   },
   "toc_section_display": true,
   "toc_window_display": true
  }
 },
 "nbformat": 4,
 "nbformat_minor": 5
}
